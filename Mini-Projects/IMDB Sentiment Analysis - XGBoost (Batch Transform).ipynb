{
 "cells": [
  {
   "cell_type": "markdown",
   "metadata": {},
   "source": [
    "# Sentiment Analysis\n",
    "\n",
    "## Using XGBoost in SageMaker\n",
    "\n",
    "_Deep Learning Nanodegree Program | Deployment_\n",
    "\n",
    "---\n",
    "\n",
    "As our first example of using Amazon's SageMaker service we will construct a random tree model to predict the sentiment of a movie review. You may have seen a version of this example in a pervious lesson although it would have been done using the sklearn package. Instead, we will be using the XGBoost package as it is provided to us by Amazon.\n",
    "\n",
    "## Instructions\n",
    "\n",
    "Some template code has already been provided for you, and you will need to implement additional functionality to successfully complete this notebook. You will not need to modify the included code beyond what is requested. Sections that begin with '**TODO**' in the header indicate that you need to complete or implement some portion within them. Instructions will be provided for each section and the specifics of the implementation are marked in the code block with a `# TODO: ...` comment. Please be sure to read the instructions carefully!\n",
    "\n",
    "In addition to implementing code, there may be questions for you to answer which relate to the task and your implementation. Each section where you will answer a question is preceded by a '**Question:**' header. Carefully read each question and provide your answer below the '**Answer:**' header by editing the Markdown cell.\n",
    "\n",
    "> **Note**: Code and Markdown cells can be executed using the **Shift+Enter** keyboard shortcut. In addition, a cell can be edited by typically clicking it (double-click for Markdown cells) or by pressing **Enter** while it is highlighted."
   ]
  },
  {
   "cell_type": "code",
   "execution_count": 2,
   "metadata": {},
   "outputs": [
    {
     "name": "stdout",
     "output_type": "stream",
     "text": [
      "Looking in indexes: https://pypi.org/simple, https://pip.repos.neuron.amazonaws.com\n",
      "Requirement already satisfied: sagemaker==2.116.0 in /home/ec2-user/anaconda3/envs/python3/lib/python3.8/site-packages (2.116.0)\n",
      "Requirement already satisfied: google-pasta in /home/ec2-user/anaconda3/envs/python3/lib/python3.8/site-packages (from sagemaker==2.116.0) (0.2.0)\n",
      "Requirement already satisfied: protobuf<4.0,>=3.1 in /home/ec2-user/anaconda3/envs/python3/lib/python3.8/site-packages (from sagemaker==2.116.0) (3.19.1)\n",
      "Requirement already satisfied: pathos in /home/ec2-user/anaconda3/envs/python3/lib/python3.8/site-packages (from sagemaker==2.116.0) (0.2.8)\n",
      "Requirement already satisfied: numpy<2.0,>=1.9.0 in /home/ec2-user/anaconda3/envs/python3/lib/python3.8/site-packages (from sagemaker==2.116.0) (1.20.3)\n",
      "Requirement already satisfied: smdebug-rulesconfig==1.0.1 in /home/ec2-user/anaconda3/envs/python3/lib/python3.8/site-packages (from sagemaker==2.116.0) (1.0.1)\n",
      "Requirement already satisfied: pandas in /home/ec2-user/anaconda3/envs/python3/lib/python3.8/site-packages (from sagemaker==2.116.0) (1.3.4)\n",
      "Requirement already satisfied: importlib-metadata<5.0,>=1.4.0 in /home/ec2-user/anaconda3/envs/python3/lib/python3.8/site-packages (from sagemaker==2.116.0) (4.8.2)\n",
      "Requirement already satisfied: boto3<2.0,>=1.20.21 in /home/ec2-user/anaconda3/envs/python3/lib/python3.8/site-packages (from sagemaker==2.116.0) (1.26.6)\n",
      "Requirement already satisfied: attrs<23,>=20.3.0 in /home/ec2-user/anaconda3/envs/python3/lib/python3.8/site-packages (from sagemaker==2.116.0) (21.2.0)\n",
      "Requirement already satisfied: protobuf3-to-dict<1.0,>=0.1.5 in /home/ec2-user/anaconda3/envs/python3/lib/python3.8/site-packages (from sagemaker==2.116.0) (0.1.5)\n",
      "Requirement already satisfied: packaging>=20.0 in /home/ec2-user/anaconda3/envs/python3/lib/python3.8/site-packages (from sagemaker==2.116.0) (21.3)\n",
      "Requirement already satisfied: schema in /home/ec2-user/anaconda3/envs/python3/lib/python3.8/site-packages (from sagemaker==2.116.0) (0.7.5)\n",
      "Requirement already satisfied: jmespath<2.0.0,>=0.7.1 in /home/ec2-user/anaconda3/envs/python3/lib/python3.8/site-packages (from boto3<2.0,>=1.20.21->sagemaker==2.116.0) (0.10.0)\n",
      "Requirement already satisfied: botocore<1.30.0,>=1.29.6 in /home/ec2-user/anaconda3/envs/python3/lib/python3.8/site-packages (from boto3<2.0,>=1.20.21->sagemaker==2.116.0) (1.29.13)\n",
      "Requirement already satisfied: s3transfer<0.7.0,>=0.6.0 in /home/ec2-user/anaconda3/envs/python3/lib/python3.8/site-packages (from boto3<2.0,>=1.20.21->sagemaker==2.116.0) (0.6.0)\n",
      "Requirement already satisfied: zipp>=0.5 in /home/ec2-user/anaconda3/envs/python3/lib/python3.8/site-packages (from importlib-metadata<5.0,>=1.4.0->sagemaker==2.116.0) (3.6.0)\n",
      "Requirement already satisfied: pyparsing!=3.0.5,>=2.0.2 in /home/ec2-user/anaconda3/envs/python3/lib/python3.8/site-packages (from packaging>=20.0->sagemaker==2.116.0) (3.0.6)\n",
      "Requirement already satisfied: six in /home/ec2-user/anaconda3/envs/python3/lib/python3.8/site-packages (from protobuf3-to-dict<1.0,>=0.1.5->sagemaker==2.116.0) (1.16.0)\n",
      "Requirement already satisfied: python-dateutil>=2.7.3 in /home/ec2-user/anaconda3/envs/python3/lib/python3.8/site-packages (from pandas->sagemaker==2.116.0) (2.8.2)\n",
      "Requirement already satisfied: pytz>=2017.3 in /home/ec2-user/anaconda3/envs/python3/lib/python3.8/site-packages (from pandas->sagemaker==2.116.0) (2021.3)\n",
      "Requirement already satisfied: pox>=0.3.0 in /home/ec2-user/anaconda3/envs/python3/lib/python3.8/site-packages (from pathos->sagemaker==2.116.0) (0.3.0)\n",
      "Requirement already satisfied: dill>=0.3.4 in /home/ec2-user/anaconda3/envs/python3/lib/python3.8/site-packages (from pathos->sagemaker==2.116.0) (0.3.4)\n",
      "Requirement already satisfied: ppft>=1.6.6.4 in /home/ec2-user/anaconda3/envs/python3/lib/python3.8/site-packages (from pathos->sagemaker==2.116.0) (1.6.6.4)\n",
      "Requirement already satisfied: multiprocess>=0.70.12 in /home/ec2-user/anaconda3/envs/python3/lib/python3.8/site-packages (from pathos->sagemaker==2.116.0) (0.70.12.2)\n",
      "Requirement already satisfied: contextlib2>=0.5.5 in /home/ec2-user/anaconda3/envs/python3/lib/python3.8/site-packages (from schema->sagemaker==2.116.0) (21.6.0)\n",
      "Requirement already satisfied: urllib3<1.27,>=1.25.4 in /home/ec2-user/anaconda3/envs/python3/lib/python3.8/site-packages (from botocore<1.30.0,>=1.29.6->boto3<2.0,>=1.20.21->sagemaker==2.116.0) (1.26.8)\n",
      "\u001b[33mWARNING: You are using pip version 22.0.4; however, version 22.3.1 is available.\n",
      "You should consider upgrading via the '/home/ec2-user/anaconda3/envs/python3/bin/python -m pip install --upgrade pip' command.\u001b[0m\u001b[33m\n",
      "\u001b[0mLooking in indexes: https://pypi.org/simple, https://pip.repos.neuron.amazonaws.com\n",
      "Collecting botocore==1.29.6\n",
      "  Using cached botocore-1.29.6-py3-none-any.whl (9.9 MB)\n",
      "Requirement already satisfied: urllib3<1.27,>=1.25.4 in /home/ec2-user/anaconda3/envs/python3/lib/python3.8/site-packages (from botocore==1.29.6) (1.26.8)\n",
      "Requirement already satisfied: jmespath<2.0.0,>=0.7.1 in /home/ec2-user/anaconda3/envs/python3/lib/python3.8/site-packages (from botocore==1.29.6) (0.10.0)\n",
      "Requirement already satisfied: python-dateutil<3.0.0,>=2.1 in /home/ec2-user/anaconda3/envs/python3/lib/python3.8/site-packages (from botocore==1.29.6) (2.8.2)\n",
      "Requirement already satisfied: six>=1.5 in /home/ec2-user/anaconda3/envs/python3/lib/python3.8/site-packages (from python-dateutil<3.0.0,>=2.1->botocore==1.29.6) (1.16.0)\n",
      "Installing collected packages: botocore\n",
      "  Attempting uninstall: botocore\n",
      "    Found existing installation: botocore 1.29.13\n",
      "    Uninstalling botocore-1.29.13:\n",
      "      Successfully uninstalled botocore-1.29.13\n",
      "\u001b[31mERROR: pip's dependency resolver does not currently take into account all the packages that are installed. This behaviour is the source of the following dependency conflicts.\n",
      "aiobotocore 2.0.1 requires botocore<1.22.9,>=1.22.8, but you have botocore 1.29.6 which is incompatible.\u001b[0m\u001b[31m\n",
      "\u001b[0mSuccessfully installed botocore-1.29.6\n",
      "\u001b[33mWARNING: You are using pip version 22.0.4; however, version 22.3.1 is available.\n",
      "You should consider upgrading via the '/home/ec2-user/anaconda3/envs/python3/bin/python -m pip install --upgrade pip' command.\u001b[0m\u001b[33m\n",
      "\u001b[0m"
     ]
    }
   ],
   "source": [
    "# Make sure that we use SageMaker 1.x\n",
    "#!pip install sagemaker==1.72.0\n",
    "!pip install sagemaker==2.116.0\n",
    "!pip install botocore==1.29.6"
   ]
  },
  {
   "cell_type": "markdown",
   "metadata": {},
   "source": [
    "## Step 1: Downloading the data\n",
    "\n",
    "The dataset we are going to use is very popular among researchers in Natural Language Processing, usually referred to as the [IMDb dataset](http://ai.stanford.edu/~amaas/data/sentiment/). It consists of movie reviews from the website [imdb.com](http://www.imdb.com/), each labeled as either '**pos**itive', if the reviewer enjoyed the film, or '**neg**ative' otherwise.\n",
    "\n",
    "> Maas, Andrew L., et al. [Learning Word Vectors for Sentiment Analysis](http://ai.stanford.edu/~amaas/data/sentiment/). In _Proceedings of the 49th Annual Meeting of the Association for Computational Linguistics: Human Language Technologies_. Association for Computational Linguistics, 2011.\n",
    "\n",
    "We begin by using some Jupyter Notebook magic to download and extract the dataset."
   ]
  },
  {
   "cell_type": "code",
   "execution_count": 3,
   "metadata": {},
   "outputs": [
    {
     "name": "stdout",
     "output_type": "stream",
     "text": [
      "mkdir: cannot create directory ‘../data’: File exists\n",
      "--2022-11-21 15:18:55--  http://ai.stanford.edu/~amaas/data/sentiment/aclImdb_v1.tar.gz\n",
      "Resolving ai.stanford.edu (ai.stanford.edu)... 171.64.68.10\n",
      "Connecting to ai.stanford.edu (ai.stanford.edu)|171.64.68.10|:80... connected.\n",
      "HTTP request sent, awaiting response... 200 OK\n",
      "Length: 84125825 (80M) [application/x-gzip]\n",
      "Saving to: ‘../data/aclImdb_v1.tar.gz’\n",
      "\n",
      "100%[======================================>] 84,125,825  19.8MB/s   in 5.7s   \n",
      "\n",
      "2022-11-21 15:19:00 (14.1 MB/s) - ‘../data/aclImdb_v1.tar.gz’ saved [84125825/84125825]\n",
      "\n"
     ]
    }
   ],
   "source": [
    "%mkdir ../data\n",
    "!wget -O ../data/aclImdb_v1.tar.gz http://ai.stanford.edu/~amaas/data/sentiment/aclImdb_v1.tar.gz\n",
    "!tar -zxf ../data/aclImdb_v1.tar.gz -C ../data"
   ]
  },
  {
   "cell_type": "markdown",
   "metadata": {},
   "source": [
    "## Step 2: Preparing the data\n",
    "\n",
    "The data we have downloaded is split into various files, each of which contains a single review. It will be much easier going forward if we combine these individual files into two large files, one for training and one for testing."
   ]
  },
  {
   "cell_type": "code",
   "execution_count": 1,
   "metadata": {},
   "outputs": [],
   "source": [
    "import os\n",
    "import glob"
   ]
  },
  {
   "cell_type": "code",
   "execution_count": 2,
   "metadata": {},
   "outputs": [],
   "source": [
    "def read_imdb_data(data_dir='../data/aclImdb'):\n",
    "    data = {}\n",
    "    labels = {}\n",
    "    \n",
    "    for data_type in ['train', 'test']:\n",
    "        data[data_type] = {}\n",
    "        labels[data_type] = {}\n",
    "        \n",
    "        for sentiment in ['pos', 'neg']:\n",
    "            data[data_type][sentiment] = []\n",
    "            labels[data_type][sentiment] = []\n",
    "            \n",
    "            path = os.path.join(data_dir, data_type, sentiment, '*.txt')\n",
    "            files = glob.glob(path)\n",
    "            \n",
    "            for f in files:\n",
    "                with open(f) as review:\n",
    "                    data[data_type][sentiment].append(review.read())\n",
    "                    # Here we represent a positive review by '1' and a negative review by '0'\n",
    "                    labels[data_type][sentiment].append(1 if sentiment == 'pos' else 0)\n",
    "                    \n",
    "            assert len(data[data_type][sentiment]) == len(labels[data_type][sentiment]), \\\n",
    "                    \"{}/{} data size does not match labels size\".format(data_type, sentiment)\n",
    "                \n",
    "    return data, labels"
   ]
  },
  {
   "cell_type": "code",
   "execution_count": 3,
   "metadata": {},
   "outputs": [
    {
     "name": "stdout",
     "output_type": "stream",
     "text": [
      "IMDB reviews: train = 12500 pos / 12500 neg, test = 12500 pos / 12500 neg\n"
     ]
    }
   ],
   "source": [
    "data, labels = read_imdb_data()\n",
    "print(\"IMDB reviews: train = {} pos / {} neg, test = {} pos / {} neg\".format(\n",
    "            len(data['train']['pos']), len(data['train']['neg']),\n",
    "            len(data['test']['pos']), len(data['test']['neg'])))"
   ]
  },
  {
   "cell_type": "code",
   "execution_count": 4,
   "metadata": {},
   "outputs": [],
   "source": [
    "from sklearn.utils import shuffle\n",
    "\n",
    "def prepare_imdb_data(data, labels):\n",
    "    \"\"\"Prepare training and test sets from IMDb movie reviews.\"\"\"\n",
    "    \n",
    "    #Combine positive and negative reviews and labels\n",
    "    data_train = data['train']['pos'] + data['train']['neg']\n",
    "    data_test = data['test']['pos'] + data['test']['neg']\n",
    "    labels_train = labels['train']['pos'] + labels['train']['neg']\n",
    "    labels_test = labels['test']['pos'] + labels['test']['neg']\n",
    "    \n",
    "    #Shuffle reviews and corresponding labels within training and test sets\n",
    "    data_train, labels_train = shuffle(data_train, labels_train)\n",
    "    data_test, labels_test = shuffle(data_test, labels_test)\n",
    "    \n",
    "    # Return a unified training data, test data, training labels, test labets\n",
    "    return data_train, data_test, labels_train, labels_test"
   ]
  },
  {
   "cell_type": "code",
   "execution_count": 5,
   "metadata": {},
   "outputs": [
    {
     "name": "stdout",
     "output_type": "stream",
     "text": [
      "IMDb reviews (combined): train = 25000, test = 25000\n"
     ]
    }
   ],
   "source": [
    "train_X, test_X, train_y, test_y = prepare_imdb_data(data, labels)\n",
    "print(\"IMDb reviews (combined): train = {}, test = {}\".format(len(train_X), len(test_X)))"
   ]
  },
  {
   "cell_type": "code",
   "execution_count": 6,
   "metadata": {},
   "outputs": [
    {
     "data": {
      "text/plain": [
       "'This is mostly a story about the growing relationship between Jeff Webster(Jimmy Stewart) and Ronda Castle(Ruth Roman). She takes an instant liking to Jeff in a brief encounter on the deck of the steamer to Skagway, and a longer look when he hides in her cabin while authorities seek him on a charge of murder. They find out they have some things in common besides an animal attraction. Neither trusts a member of the opposite sex, apparently because both have been married to spouses who cheated on them. Gradually, they learn to trust each other, as they journey from Skagway to Dawson. But Ronda clearly has close dealings with corrupt sheriff Gannon and engages in some shady practices in her Castle saloon in Skagway. She eventually has to decide between Gannon and Jeff. Meanwhile, Rene, a young naive French woman also takes an immediate liking to Jeff, but only gets insulting brush offs in return. Yet, she sticks with him in his travels from Skagway to Dawson and his activities around Dawson. Along with Ronda, she nurses him back to health after Jeff is left for dead by Gannon\\'s gunslingers at his gold claim. Walter Brennan, as Ben, serves as Jeff\\'s long time sidekick. He doesn\\'t have a meaty role, but serves to soften Jeff\\'s hard edges. His demise symbolically opens the door for a woman companion replacement for Jeff.<br /><br />John McIntire(as Sheriff Gannon) makes probably the most charismatic evil town boss you will ever see on film, oozing charm and humor to go along with his bullying. Evidently, he sees something of himself in Jeff, repeatedly declaring that he\\'s going to like him. He makes a believable incarnation of the infamous Soapy Smith, who spent his last years in Skagway, as one of the premier con men of his times.<br /><br />Jeff is the quintessential antihero, a loner(except for companion Ben), who doesn\\'t want to stick his neck out for others, even when he knows he is the one right man for the job. In this respect, he closely resemble\\'s Burt Lancaster\\'s character in \"Vera Cruz\", for example. Thus, Jeff not only turns down the job of marshall of Dawson, he is convinced to leave Dawson after Gannon\\'s gang move in with clear intentions of taking over everyone\\'s insufficiently legal gold claims, while disposing of some miners and suggesting that the rest make a hurried exit from Dawson. Even Ronda suggests that she and Jeff make a hurried exit from Dawson while they are still alive. Then, Jeff has a sudden change of heart, apparently still nursing desire for revenge for the shooting of Ben and himself. He changes from anti-hero to hero in leading the expulsion of Gannon\\'s gang from Dawson. In this respect, he differs from Lancaster\\'s character, who never reforms(But is Jeff truly changed, or just handing out revenge for wrongs committed against his own interests?)<br /><br />The main problem I see with the plot is the 2 principle women. Clearly, Ronda is groomed as the right woman to tame Jeff. Although she is clearly characterized as a \"bad\" girl, Jeff has a checkered recent past himself, having shot at least 5 men in the US or Yukon, and having stolen his cattle back from Gannon. Ironically, soon after Jeff changes from anti-hero to hero, Rhonda makes a similar change in running into the street to warn Jeff of Gannon\\'s impending ambush. She dies as a result and Jeff asks her why she didn\\'t just look out for herself(his supposedly just abandoned creed!).<br /><br />It\\'s clear that Corine Calvert, as Renee, just doesn\\'t make a credible substitute for the dead Ronda, in Jeff\\'s mind. Yet, the apparent implication of the parting scene is that they get together, even though Jeff never visibly gives her a kiss or hug. Her image as a good, if naive, young woman is somewhat compromised by her job in Rhonda\\'s saloon of bumping miners weighting their gold dust, pushing the spilled dust on the floor and recovering it later. I\\'m also very unclear about her relationship with Rube Morris, a middle aged miner who followers her around and works a claim with her.(He\\'s not her father).<br /><br />Another problem is the amateurish handling of the gun fight between Jeff and Gannon\\'s gang. If Gannon had any skill at all with a pistol, he should have killed or seriously wounded Jeff under that boardwalk, before Jeff did the same to him. And how did Jeff\\'s badly shot up right hand suddenly become well enough to shoot a pistol with apparent ease? I also wonder what Jeff and friends did to help save the avalanche victims. They were much too far away to pull them out alive from under the snow. And why weren\\'t most of Ronda\\'s pack horses and mules also buried by the avalanche?<br /><br />You will see a host of probably nameless but familiar faces among the miners and Gannon\\'s gang. The sequences shot in the Canadian Rockies provide a breathtaking backdrop to the action. All-in-all, a very entertaining western, with most of the major flaws concentrated at the end. No doubt, this film takes some great liberties with history and geography, especially, the part taking place in the Canadian Yukon, which was in fact much tamer than the US Skagway.'"
      ]
     },
     "execution_count": 6,
     "metadata": {},
     "output_type": "execute_result"
    }
   ],
   "source": [
    "train_X[100]"
   ]
  },
  {
   "cell_type": "markdown",
   "metadata": {},
   "source": [
    "## Step 3: Processing the data\n",
    "\n",
    "Now that we have our training and testing datasets merged and ready to use, we need to start processing the raw data into something that will be useable by our machine learning algorithm. To begin with, we remove any html formatting that may appear in the reviews and perform some standard natural language processing in order to homogenize the data."
   ]
  },
  {
   "cell_type": "code",
   "execution_count": 7,
   "metadata": {},
   "outputs": [
    {
     "name": "stderr",
     "output_type": "stream",
     "text": [
      "[nltk_data] Downloading package stopwords to\n",
      "[nltk_data]     /home/ec2-user/nltk_data...\n",
      "[nltk_data]   Unzipping corpora/stopwords.zip.\n"
     ]
    }
   ],
   "source": [
    "import nltk\n",
    "nltk.download(\"stopwords\")\n",
    "from nltk.corpus import stopwords\n",
    "from nltk.stem.porter import *\n",
    "stemmer = PorterStemmer()"
   ]
  },
  {
   "cell_type": "code",
   "execution_count": 8,
   "metadata": {},
   "outputs": [],
   "source": [
    "import re\n",
    "from bs4 import BeautifulSoup\n",
    "\n",
    "def review_to_words(review):\n",
    "    text = BeautifulSoup(review, \"html.parser\").get_text() # Remove HTML tags\n",
    "    text = re.sub(r\"[^a-zA-Z0-9]\", \" \", text.lower()) # Convert to lower case\n",
    "    words = text.split() # Split string into words\n",
    "    words = [w for w in words if w not in stopwords.words(\"english\")] # Remove stopwords\n",
    "    words = [PorterStemmer().stem(w) for w in words] # stem\n",
    "    \n",
    "    return words"
   ]
  },
  {
   "cell_type": "code",
   "execution_count": 9,
   "metadata": {},
   "outputs": [],
   "source": [
    "import pickle\n",
    "\n",
    "cache_dir = os.path.join(\"../cache\", \"sentiment_analysis\")  # where to store cache files\n",
    "os.makedirs(cache_dir, exist_ok=True)  # ensure cache directory exists"
   ]
  },
  {
   "cell_type": "code",
   "execution_count": 10,
   "metadata": {},
   "outputs": [],
   "source": [
    "def preprocess_data(data_train, data_test, labels_train, labels_test,\n",
    "                    cache_dir=cache_dir, cache_file=\"preprocessed_data.pkl\"):\n",
    "    \"\"\"Convert each review to words; read from cache if available.\"\"\"\n",
    "\n",
    "    # If cache_file is not None, try to read from it first\n",
    "    cache_data = None\n",
    "    if cache_file is not None:\n",
    "        try:\n",
    "            with open(os.path.join(cache_dir, cache_file), \"rb\") as f:\n",
    "                cache_data = pickle.load(f)\n",
    "            print(\"Read preprocessed data from cache file:\", cache_file)\n",
    "        except:\n",
    "            pass  # unable to read from cache, but that's okay\n",
    "    \n",
    "    # If cache is missing, then do the heavy lifting\n",
    "    if cache_data is None:\n",
    "        # Preprocess training and test data to obtain words for each review\n",
    "        #words_train = list(map(review_to_words, data_train))\n",
    "        #words_test = list(map(review_to_words, data_test))\n",
    "        words_train = [review_to_words(review) for review in data_train]\n",
    "        words_test = [review_to_words(review) for review in data_test]\n",
    "        \n",
    "        # Write to cache file for future runs\n",
    "        if cache_file is not None:\n",
    "            cache_data = dict(words_train=words_train, words_test=words_test,\n",
    "                              labels_train=labels_train, labels_test=labels_test)\n",
    "            with open(os.path.join(cache_dir, cache_file), \"wb\") as f:\n",
    "                pickle.dump(cache_data, f)\n",
    "            print(\"Wrote preprocessed data to cache file:\", cache_file)\n",
    "    else:\n",
    "        # Unpack data loaded from cache file\n",
    "        words_train, words_test, labels_train, labels_test = (cache_data['words_train'],\n",
    "                cache_data['words_test'], cache_data['labels_train'], cache_data['labels_test'])\n",
    "    \n",
    "    return words_train, words_test, labels_train, labels_test"
   ]
  },
  {
   "cell_type": "code",
   "execution_count": 11,
   "metadata": {},
   "outputs": [
    {
     "name": "stdout",
     "output_type": "stream",
     "text": [
      "Read preprocessed data from cache file: preprocessed_data.pkl\n"
     ]
    }
   ],
   "source": [
    "# Preprocess data\n",
    "train_X, test_X, train_y, test_y = preprocess_data(train_X, test_X, train_y, test_y)"
   ]
  },
  {
   "cell_type": "markdown",
   "metadata": {},
   "source": [
    "### Extract Bag-of-Words features\n",
    "\n",
    "For the model we will be implementing, rather than using the reviews directly, we are going to transform each review into a Bag-of-Words feature representation. Keep in mind that 'in the wild' we will only have access to the training set so our transformer can only use the training set to construct a representation."
   ]
  },
  {
   "cell_type": "code",
   "execution_count": 12,
   "metadata": {},
   "outputs": [],
   "source": [
    "import numpy as np\n",
    "from sklearn.feature_extraction.text import CountVectorizer\n",
    "#from sklearn.externals import joblib\n",
    "import joblib\n",
    "# joblib is an enhanced version of pickle that is more efficient for storing NumPy arrays\n",
    "\n",
    "def extract_BoW_features(words_train, words_test, vocabulary_size=5000,\n",
    "                         cache_dir=cache_dir, cache_file=\"bow_features.pkl\"):\n",
    "    \"\"\"Extract Bag-of-Words for a given set of documents, already preprocessed into words.\"\"\"\n",
    "    \n",
    "    # If cache_file is not None, try to read from it first\n",
    "    cache_data = None\n",
    "    if cache_file is not None:\n",
    "        try:\n",
    "            with open(os.path.join(cache_dir, cache_file), \"rb\") as f:\n",
    "                cache_data = joblib.load(f)\n",
    "            print(\"Read features from cache file:\", cache_file)\n",
    "        except:\n",
    "            pass  # unable to read from cache, but that's okay\n",
    "    \n",
    "    # If cache is missing, then do the heavy lifting\n",
    "    if cache_data is None:\n",
    "        # Fit a vectorizer to training documents and use it to transform them\n",
    "        # NOTE: Training documents have already been preprocessed and tokenized into words;\n",
    "        #       pass in dummy functions to skip those steps, e.g. preprocessor=lambda x: x\n",
    "        vectorizer = CountVectorizer(max_features=vocabulary_size,\n",
    "                preprocessor=lambda x: x, tokenizer=lambda x: x)  # already preprocessed\n",
    "        features_train = vectorizer.fit_transform(words_train).toarray()\n",
    "\n",
    "        # Apply the same vectorizer to transform the test documents (ignore unknown words)\n",
    "        features_test = vectorizer.transform(words_test).toarray()\n",
    "        \n",
    "        # NOTE: Remember to convert the features using .toarray() for a compact representation\n",
    "        \n",
    "        # Write to cache file for future runs (store vocabulary as well)\n",
    "        if cache_file is not None:\n",
    "            vocabulary = vectorizer.vocabulary_\n",
    "            cache_data = dict(features_train=features_train, features_test=features_test,\n",
    "                             vocabulary=vocabulary)\n",
    "            with open(os.path.join(cache_dir, cache_file), \"wb\") as f:\n",
    "                joblib.dump(cache_data, f)\n",
    "            print(\"Wrote features to cache file:\", cache_file)\n",
    "    else:\n",
    "        # Unpack data loaded from cache file\n",
    "        features_train, features_test, vocabulary = (cache_data['features_train'],\n",
    "                cache_data['features_test'], cache_data['vocabulary'])\n",
    "    \n",
    "    # Return both the extracted features as well as the vocabulary\n",
    "    return features_train, features_test, vocabulary"
   ]
  },
  {
   "cell_type": "code",
   "execution_count": 13,
   "metadata": {},
   "outputs": [
    {
     "name": "stdout",
     "output_type": "stream",
     "text": [
      "Read features from cache file: bow_features.pkl\n"
     ]
    }
   ],
   "source": [
    "# Extract Bag of Words features for both training and test datasets\n",
    "train_X, test_X, vocabulary = extract_BoW_features(train_X, test_X)"
   ]
  },
  {
   "cell_type": "code",
   "execution_count": 16,
   "metadata": {},
   "outputs": [
    {
     "data": {
      "text/plain": [
       "(25000, 5000)"
      ]
     },
     "execution_count": 16,
     "metadata": {},
     "output_type": "execute_result"
    }
   ],
   "source": [
    "train_X.shape"
   ]
  },
  {
   "cell_type": "code",
   "execution_count": 17,
   "metadata": {},
   "outputs": [
    {
     "data": {
      "text/plain": [
       "(25000, 5000)"
      ]
     },
     "execution_count": 17,
     "metadata": {},
     "output_type": "execute_result"
    }
   ],
   "source": [
    "test_X.shape"
   ]
  },
  {
   "cell_type": "code",
   "execution_count": 21,
   "metadata": {},
   "outputs": [
    {
     "data": {
      "text/plain": [
       "5000"
      ]
     },
     "execution_count": 21,
     "metadata": {},
     "output_type": "execute_result"
    }
   ],
   "source": [
    "len(vocabulary.keys())"
   ]
  },
  {
   "cell_type": "markdown",
   "metadata": {},
   "source": [
    "## Step 4: Classification using XGBoost\n",
    "\n",
    "Now that we have created the feature representation of our training (and testing) data, it is time to start setting up and using the XGBoost classifier provided by SageMaker.\n",
    "\n",
    "### (TODO) Writing the dataset\n",
    "\n",
    "The XGBoost classifier that we will be using requires the dataset to be written to a file and stored using Amazon S3. To do this, we will start by splitting the training dataset into two parts, the data we will train the model with and a validation set. Then, we will write those datasets to a file and upload the files to S3. In addition, we will write the test set input to a file and upload the file to S3. This is so that we can use SageMakers Batch Transform functionality to test our model once we've fit it."
   ]
  },
  {
   "cell_type": "code",
   "execution_count": 23,
   "metadata": {},
   "outputs": [],
   "source": [
    "import pandas as pd\n",
    "\n",
    "# TODO: Split the train_X and train_y arrays into the DataFrames val_X, train_X and val_y, train_y. Make sure that\n",
    "#       val_X and val_y contain 10 000 entires while train_X and train_y contain the remaining 15 000 entries.\n",
    "\n",
    "# Earlier we shuffled the training dataset so to make things simple we can just assign\n",
    "# the first 10 000 reviews to the validation set and use the remaining reviews for training.\n",
    "val_X = pd.DataFrame(train_X[:10000])\n",
    "train_X = pd.DataFrame(train_X[10000:])\n",
    "\n",
    "val_y = pd.DataFrame(train_y[:10000])\n",
    "train_y = pd.DataFrame(train_y[10000:])"
   ]
  },
  {
   "cell_type": "markdown",
   "metadata": {},
   "source": [
    "The documentation for the XGBoost algorithm in SageMaker requires that the saved datasets should contain no headers or index and that for the training and validation data, the label should occur first for each sample.\n",
    "\n",
    "For more information about this and other algorithms, the SageMaker developer documentation can be found on __[Amazon's website.](https://docs.aws.amazon.com/sagemaker/latest/dg/)__"
   ]
  },
  {
   "cell_type": "code",
   "execution_count": 24,
   "metadata": {},
   "outputs": [],
   "source": [
    "# First we make sure that the local directory in which we'd like to store the training and validation csv files exists.\n",
    "data_dir = '../data/xgboost'\n",
    "if not os.path.exists(data_dir):\n",
    "    os.makedirs(data_dir)"
   ]
  },
  {
   "cell_type": "code",
   "execution_count": 25,
   "metadata": {},
   "outputs": [],
   "source": [
    "# First, save the test data to test.csv in the data_dir directory. Note that we do not save the associated ground truth\n",
    "# labels, instead we will use them later to compare with our model output.\n",
    "\n",
    "pd.DataFrame(test_X).to_csv(os.path.join(data_dir, 'test.csv'), header=False, index=False)\n",
    "\n",
    "# TODO: Save the training and validation data to train.csv and validation.csv in the data_dir directory.\n",
    "#       Make sure that the files you create are in the correct format.\n",
    "\n",
    "pd.concat([val_y, val_X], axis=1).to_csv(os.path.join(data_dir, 'validation.csv'), header=False, index=False)\n",
    "pd.concat([train_y, train_X], axis=1).to_csv(os.path.join(data_dir, 'train.csv'), header=False, index=False)"
   ]
  },
  {
   "cell_type": "code",
   "execution_count": 26,
   "metadata": {},
   "outputs": [],
   "source": [
    "# To save a bit of memory we can set text_X, train_X, val_X, train_y and val_y to None.\n",
    "\n",
    "test_X = train_X = val_X = train_y = val_y = None"
   ]
  },
  {
   "cell_type": "markdown",
   "metadata": {},
   "source": [
    "### (TODO) Uploading Training / Validation files to S3\n",
    "\n",
    "Amazon's S3 service allows us to store files that can be accessed by both the built-in training models such as the XGBoost model we will be using as well as custom models such as the one we will see a little later.\n",
    "\n",
    "For this, and most other tasks we will be doing using SageMaker, there are two methods we could use. The first is to use the low level functionality of SageMaker which requires knowing each of the objects involved in the SageMaker environment. The second is to use the high level functionality in which certain choices have been made on the user's behalf. The low level approach benefits from allowing the user a great deal of flexibility while the high level approach makes development much quicker. For our purposes we will opt to use the high level approach although using the low-level approach is certainly an option.\n",
    "\n",
    "Recall the method `upload_data()` which is a member of object representing our current SageMaker session. What this method does is upload the data to the default bucket (which is created if it does not exist) into the path described by the key_prefix variable. To see this for yourself, once you have uploaded the data files, go to the S3 console and look to see where the files have been uploaded.\n",
    "\n",
    "For additional resources, see the __[SageMaker API documentation](http://sagemaker.readthedocs.io/en/latest/)__ and in addition the __[SageMaker Developer Guide.](https://docs.aws.amazon.com/sagemaker/latest/dg/)__"
   ]
  },
  {
   "cell_type": "code",
   "execution_count": 27,
   "metadata": {},
   "outputs": [],
   "source": [
    "import sagemaker\n",
    "\n",
    "session = sagemaker.Session() # Store the current SageMaker session\n",
    "\n",
    "# S3 prefix (which folder will we use)\n",
    "prefix = 'sentiment-xgboost'\n",
    "\n",
    "# TODO: Upload the test.csv, train.csv and validation.csv files which are contained in data_dir to S3 using sess.upload_data().\n",
    "test_location = session.upload_data(os.path.join(data_dir, 'test.csv'), key_prefix=prefix)\n",
    "val_location = session.upload_data(os.path.join(data_dir, 'validation.csv'), key_prefix=prefix)\n",
    "train_location = session.upload_data(os.path.join(data_dir, 'train.csv'), key_prefix=prefix)"
   ]
  },
  {
   "cell_type": "markdown",
   "metadata": {},
   "source": [
    "### (TODO) Creating the XGBoost model\n",
    "\n",
    "Now that the data has been uploaded it is time to create the XGBoost model. To begin with, we need to do some setup. At this point it is worth discussing what a model is in SageMaker. It is easiest to think of a model of comprising three different objects in the SageMaker ecosystem, which interact with one another.\n",
    "\n",
    "- Model Artifacts\n",
    "- Training Code (Container)\n",
    "- Inference Code (Container)\n",
    "\n",
    "The Model Artifacts are what you might think of as the actual model itself. For example, if you were building a neural network, the model artifacts would be the weights of the various layers. In our case, for an XGBoost model, the artifacts are the actual trees that are created during training.\n",
    "\n",
    "The other two objects, the training code and the inference code are then used the manipulate the training artifacts. More precisely, the training code uses the training data that is provided and creates the model artifacts, while the inference code uses the model artifacts to make predictions on new data.\n",
    "\n",
    "The way that SageMaker runs the training and inference code is by making use of Docker containers. For now, think of a container as being a way of packaging code up so that dependencies aren't an issue."
   ]
  },
  {
   "cell_type": "code",
   "execution_count": 28,
   "metadata": {},
   "outputs": [],
   "source": [
    "from sagemaker import get_execution_role\n",
    "\n",
    "# Our current execution role is require when creating the model as the training\n",
    "# and inference code will need to access the model artifacts.\n",
    "role = get_execution_role()"
   ]
  },
  {
   "cell_type": "code",
   "execution_count": 29,
   "metadata": {},
   "outputs": [
    {
     "name": "stderr",
     "output_type": "stream",
     "text": [
      "The method get_image_uri has been renamed in sagemaker>=2.\n",
      "See: https://sagemaker.readthedocs.io/en/stable/v2.html for details.\n"
     ]
    }
   ],
   "source": [
    "# We need to retrieve the location of the container which is provided by Amazon for using XGBoost.\n",
    "# As a matter of convenience, the training and inference code both use the same container.\n",
    "from sagemaker.amazon.amazon_estimator import get_image_uri\n",
    "\n",
    "# We use this utility method to construct the image name for the training container.\n",
    "container = get_image_uri(session.boto_region_name, 'xgboost')"
   ]
  },
  {
   "cell_type": "code",
   "execution_count": 30,
   "metadata": {},
   "outputs": [
    {
     "name": "stderr",
     "output_type": "stream",
     "text": [
      "train_instance_count has been renamed in sagemaker>=2.\n",
      "See: https://sagemaker.readthedocs.io/en/stable/v2.html for details.\n",
      "train_instance_type has been renamed in sagemaker>=2.\n",
      "See: https://sagemaker.readthedocs.io/en/stable/v2.html for details.\n"
     ]
    }
   ],
   "source": [
    "# TODO: Create a SageMaker estimator using the container location determined in the previous cell.\n",
    "#       It is recommended that you use a single training instance of type ml.m4.xlarge. It is also\n",
    "#       recommended that you use 's3://{}/{}/output'.format(session.default_bucket(), prefix) as the\n",
    "#       output path.\n",
    "xgb = sagemaker.estimator.Estimator(container, # The image name of the training container\n",
    "                                    role,      # The IAM role to use (our current role in this case)\n",
    "                                    train_instance_count=1, # The number of instances to use for training\n",
    "                                    train_instance_type='ml.m4.xlarge', # The type of instance to use for training\n",
    "                                    output_path='s3://{}/{}/output'.format(session.default_bucket(), prefix),\n",
    "                                                                        # Where to save the output (the model artifacts)\n",
    "                                    sagemaker_session=session) # The current SageMaker session\n",
    "\n",
    "\n",
    "# TODO: Set the XGBoost hyperparameters in the xgb object. Don't forget that in this case we have a binary\n",
    "#       label so we should be using the 'binary:logistic' objective.\n",
    "# https://docs.aws.amazon.com/sagemaker/latest/dg/xgboost_hyperparameters.html\n",
    "# https://github.com/dmlc/xgboost/blob/master/doc/parameter.rst#learning-task-parameters\n",
    "xgb.set_hyperparameters(max_depth=5,\n",
    "                        eta=0.2,\n",
    "                        gamma=4,\n",
    "                        min_child_weight=6,\n",
    "                        subsample=0.8,\n",
    "                        objective='binary:logistic',\n",
    "                        early_stopping_rounds=10,\n",
    "                        num_round=200)"
   ]
  },
  {
   "cell_type": "markdown",
   "metadata": {},
   "source": [
    "### Fit the XGBoost model\n",
    "\n",
    "Now that our model has been set up we simply need to attach the training and validation datasets and then ask SageMaker to set up the computation."
   ]
  },
  {
   "cell_type": "code",
   "execution_count": 32,
   "metadata": {},
   "outputs": [],
   "source": [
    "s3_input_train = sagemaker.TrainingInput(s3_data=train_location, content_type='csv')\n",
    "s3_input_validation = sagemaker.TrainingInput(s3_data=val_location, content_type='csv')"
   ]
  },
  {
   "cell_type": "code",
   "execution_count": 33,
   "metadata": {},
   "outputs": [
    {
     "name": "stdout",
     "output_type": "stream",
     "text": [
      "2022-11-22 09:31:06 Starting - Starting the training job...\n",
      "2022-11-22 09:31:33 Starting - Preparing the instances for trainingProfilerReport-1669109466: InProgress\n",
      ".........\n",
      "2022-11-22 09:32:50 Downloading - Downloading input data......\n",
      "2022-11-22 09:33:50 Training - Downloading the training image...\n",
      "2022-11-22 09:34:31 Training - Training image download completed. Training in progress..\u001b[34mArguments: train\u001b[0m\n",
      "\u001b[34m[2022-11-22:09:34:35:INFO] Running standalone xgboost training.\u001b[0m\n",
      "\u001b[34m[2022-11-22:09:34:35:INFO] File size need to be processed in the node: 238.47mb. Available memory size in the node: 8820.94mb\u001b[0m\n",
      "\u001b[34m[2022-11-22:09:34:35:INFO] Determined delimiter of CSV input is ','\u001b[0m\n",
      "\u001b[34m[09:34:35] S3DistributionType set as FullyReplicated\u001b[0m\n",
      "\u001b[34m[09:34:37] 15000x5000 matrix with 75000000 entries loaded from /opt/ml/input/data/train?format=csv&label_column=0&delimiter=,\u001b[0m\n",
      "\u001b[34m[2022-11-22:09:34:37:INFO] Determined delimiter of CSV input is ','\u001b[0m\n",
      "\u001b[34m[09:34:37] S3DistributionType set as FullyReplicated\u001b[0m\n",
      "\u001b[34m[09:34:38] 10000x5000 matrix with 50000000 entries loaded from /opt/ml/input/data/validation?format=csv&label_column=0&delimiter=,\u001b[0m\n",
      "\u001b[34m[09:34:42] src/tree/updater_prune.cc:74: tree pruning end, 1 roots, 46 extra nodes, 6 pruned nodes, max_depth=5\u001b[0m\n",
      "\u001b[34m[0]#011train-error:0.292933#011validation-error:0.3051\u001b[0m\n",
      "\u001b[34mMultiple eval metrics have been passed: 'validation-error' will be used for early stopping.\u001b[0m\n",
      "\u001b[34mWill train until validation-error hasn't improved in 10 rounds.\u001b[0m\n",
      "\u001b[34m[09:34:43] src/tree/updater_prune.cc:74: tree pruning end, 1 roots, 36 extra nodes, 8 pruned nodes, max_depth=5\u001b[0m\n",
      "\u001b[34m[1]#011train-error:0.277733#011validation-error:0.2916\u001b[0m\n",
      "\u001b[34m[09:34:45] src/tree/updater_prune.cc:74: tree pruning end, 1 roots, 36 extra nodes, 4 pruned nodes, max_depth=5\u001b[0m\n",
      "\u001b[34m[2]#011train-error:0.2748#011validation-error:0.2899\u001b[0m\n",
      "\u001b[34m[09:34:47] src/tree/updater_prune.cc:74: tree pruning end, 1 roots, 34 extra nodes, 2 pruned nodes, max_depth=5\u001b[0m\n",
      "\u001b[34m[3]#011train-error:0.2652#011validation-error:0.2813\u001b[0m\n",
      "\u001b[34m[09:34:48] src/tree/updater_prune.cc:74: tree pruning end, 1 roots, 46 extra nodes, 0 pruned nodes, max_depth=5\u001b[0m\n",
      "\u001b[34m[4]#011train-error:0.256933#011validation-error:0.2747\u001b[0m\n",
      "\u001b[34m[09:34:49] src/tree/updater_prune.cc:74: tree pruning end, 1 roots, 32 extra nodes, 2 pruned nodes, max_depth=5\u001b[0m\n",
      "\u001b[34m[5]#011train-error:0.2606#011validation-error:0.2772\u001b[0m\n",
      "\u001b[34m[09:34:51] src/tree/updater_prune.cc:74: tree pruning end, 1 roots, 36 extra nodes, 2 pruned nodes, max_depth=5\u001b[0m\n",
      "\u001b[34m[6]#011train-error:0.251667#011validation-error:0.2686\u001b[0m\n",
      "\u001b[34m[09:34:52] src/tree/updater_prune.cc:74: tree pruning end, 1 roots, 34 extra nodes, 8 pruned nodes, max_depth=5\u001b[0m\n",
      "\u001b[34m[7]#011train-error:0.238733#011validation-error:0.2603\u001b[0m\n",
      "\u001b[34m[09:34:53] src/tree/updater_prune.cc:74: tree pruning end, 1 roots, 38 extra nodes, 4 pruned nodes, max_depth=5\u001b[0m\n",
      "\u001b[34m[8]#011train-error:0.2318#011validation-error:0.2591\u001b[0m\n",
      "\u001b[34m[09:34:55] src/tree/updater_prune.cc:74: tree pruning end, 1 roots, 32 extra nodes, 2 pruned nodes, max_depth=5\u001b[0m\n",
      "\u001b[34m[9]#011train-error:0.2272#011validation-error:0.2528\u001b[0m\n",
      "\u001b[34m[09:34:56] src/tree/updater_prune.cc:74: tree pruning end, 1 roots, 26 extra nodes, 8 pruned nodes, max_depth=5\u001b[0m\n",
      "\u001b[34m[10]#011train-error:0.220067#011validation-error:0.2454\u001b[0m\n",
      "\u001b[34m[09:34:57] src/tree/updater_prune.cc:74: tree pruning end, 1 roots, 42 extra nodes, 8 pruned nodes, max_depth=5\u001b[0m\n",
      "\u001b[34m[11]#011train-error:0.214133#011validation-error:0.2396\u001b[0m\n",
      "\u001b[34m[09:34:59] src/tree/updater_prune.cc:74: tree pruning end, 1 roots, 28 extra nodes, 4 pruned nodes, max_depth=5\u001b[0m\n",
      "\u001b[34m[12]#011train-error:0.209333#011validation-error:0.2321\u001b[0m\n",
      "\u001b[34m[09:35:00] src/tree/updater_prune.cc:74: tree pruning end, 1 roots, 30 extra nodes, 2 pruned nodes, max_depth=5\u001b[0m\n",
      "\u001b[34m[13]#011train-error:0.204733#011validation-error:0.2309\u001b[0m\n",
      "\u001b[34m[09:35:02] src/tree/updater_prune.cc:74: tree pruning end, 1 roots, 30 extra nodes, 10 pruned nodes, max_depth=5\u001b[0m\n",
      "\u001b[34m[14]#011train-error:0.200733#011validation-error:0.2262\u001b[0m\n",
      "\u001b[34m[09:35:03] src/tree/updater_prune.cc:74: tree pruning end, 1 roots, 26 extra nodes, 6 pruned nodes, max_depth=5\u001b[0m\n",
      "\u001b[34m[15]#011train-error:0.1972#011validation-error:0.2231\u001b[0m\n",
      "\u001b[34m[09:35:05] src/tree/updater_prune.cc:74: tree pruning end, 1 roots, 28 extra nodes, 4 pruned nodes, max_depth=5\u001b[0m\n",
      "\u001b[34m[16]#011train-error:0.191667#011validation-error:0.2188\u001b[0m\n",
      "\u001b[34m[09:35:06] src/tree/updater_prune.cc:74: tree pruning end, 1 roots, 28 extra nodes, 12 pruned nodes, max_depth=5\u001b[0m\n",
      "\u001b[34m[17]#011train-error:0.1892#011validation-error:0.2156\u001b[0m\n",
      "\u001b[34m[09:35:08] src/tree/updater_prune.cc:74: tree pruning end, 1 roots, 28 extra nodes, 8 pruned nodes, max_depth=5\u001b[0m\n",
      "\u001b[34m[18]#011train-error:0.1868#011validation-error:0.213\u001b[0m\n",
      "\u001b[34m[09:35:09] src/tree/updater_prune.cc:74: tree pruning end, 1 roots, 28 extra nodes, 10 pruned nodes, max_depth=5\u001b[0m\n",
      "\u001b[34m[19]#011train-error:0.1854#011validation-error:0.2112\u001b[0m\n",
      "\u001b[34m[09:35:11] src/tree/updater_prune.cc:74: tree pruning end, 1 roots, 28 extra nodes, 8 pruned nodes, max_depth=5\u001b[0m\n",
      "\u001b[34m[20]#011train-error:0.182667#011validation-error:0.2086\u001b[0m\n",
      "\u001b[34m[09:35:12] src/tree/updater_prune.cc:74: tree pruning end, 1 roots, 24 extra nodes, 2 pruned nodes, max_depth=5\u001b[0m\n",
      "\u001b[34m[21]#011train-error:0.182333#011validation-error:0.2101\u001b[0m\n",
      "\u001b[34m[09:35:13] src/tree/updater_prune.cc:74: tree pruning end, 1 roots, 38 extra nodes, 8 pruned nodes, max_depth=5\u001b[0m\n",
      "\u001b[34m[22]#011train-error:0.180067#011validation-error:0.2077\u001b[0m\n",
      "\u001b[34m[09:35:15] src/tree/updater_prune.cc:74: tree pruning end, 1 roots, 26 extra nodes, 12 pruned nodes, max_depth=5\u001b[0m\n",
      "\u001b[34m[23]#011train-error:0.178533#011validation-error:0.2052\u001b[0m\n",
      "\u001b[34m[09:35:16] src/tree/updater_prune.cc:74: tree pruning end, 1 roots, 14 extra nodes, 8 pruned nodes, max_depth=5\u001b[0m\n",
      "\u001b[34m[24]#011train-error:0.176067#011validation-error:0.2031\u001b[0m\n",
      "\u001b[34m[09:35:17] src/tree/updater_prune.cc:74: tree pruning end, 1 roots, 30 extra nodes, 8 pruned nodes, max_depth=5\u001b[0m\n",
      "\u001b[34m[25]#011train-error:0.1746#011validation-error:0.2012\u001b[0m\n",
      "\u001b[34m[09:35:19] src/tree/updater_prune.cc:74: tree pruning end, 1 roots, 28 extra nodes, 6 pruned nodes, max_depth=5\u001b[0m\n",
      "\u001b[34m[26]#011train-error:0.171933#011validation-error:0.2013\u001b[0m\n",
      "\u001b[34m[09:35:20] src/tree/updater_prune.cc:74: tree pruning end, 1 roots, 32 extra nodes, 8 pruned nodes, max_depth=5\u001b[0m\n",
      "\u001b[34m[27]#011train-error:0.1696#011validation-error:0.2006\u001b[0m\n",
      "\u001b[34m[09:35:21] src/tree/updater_prune.cc:74: tree pruning end, 1 roots, 22 extra nodes, 6 pruned nodes, max_depth=5\u001b[0m\n",
      "\u001b[34m[28]#011train-error:0.1688#011validation-error:0.2\u001b[0m\n",
      "\u001b[34m[09:35:23] src/tree/updater_prune.cc:74: tree pruning end, 1 roots, 20 extra nodes, 16 pruned nodes, max_depth=5\u001b[0m\n",
      "\u001b[34m[29]#011train-error:0.1668#011validation-error:0.2006\u001b[0m\n",
      "\u001b[34m[09:35:24] src/tree/updater_prune.cc:74: tree pruning end, 1 roots, 22 extra nodes, 14 pruned nodes, max_depth=5\u001b[0m\n",
      "\u001b[34m[30]#011train-error:0.163933#011validation-error:0.1972\u001b[0m\n",
      "\u001b[34m[09:35:25] src/tree/updater_prune.cc:74: tree pruning end, 1 roots, 22 extra nodes, 8 pruned nodes, max_depth=5\u001b[0m\n",
      "\u001b[34m[31]#011train-error:0.162467#011validation-error:0.196\u001b[0m\n",
      "\u001b[34m[09:35:27] src/tree/updater_prune.cc:74: tree pruning end, 1 roots, 28 extra nodes, 10 pruned nodes, max_depth=5\u001b[0m\n",
      "\u001b[34m[32]#011train-error:0.160067#011validation-error:0.1939\u001b[0m\n",
      "\u001b[34m[09:35:28] src/tree/updater_prune.cc:74: tree pruning end, 1 roots, 22 extra nodes, 6 pruned nodes, max_depth=5\u001b[0m\n",
      "\u001b[34m[33]#011train-error:0.158867#011validation-error:0.1917\u001b[0m\n",
      "\u001b[34m[09:35:29] src/tree/updater_prune.cc:74: tree pruning end, 1 roots, 22 extra nodes, 6 pruned nodes, max_depth=5\u001b[0m\n",
      "\u001b[34m[34]#011train-error:0.156333#011validation-error:0.1886\u001b[0m\n",
      "\u001b[34m[09:35:31] src/tree/updater_prune.cc:74: tree pruning end, 1 roots, 34 extra nodes, 10 pruned nodes, max_depth=5\u001b[0m\n",
      "\u001b[34m[35]#011train-error:0.154667#011validation-error:0.1882\u001b[0m\n",
      "\u001b[34m[09:35:32] src/tree/updater_prune.cc:74: tree pruning end, 1 roots, 20 extra nodes, 12 pruned nodes, max_depth=5\u001b[0m\n",
      "\u001b[34m[36]#011train-error:0.153733#011validation-error:0.1868\u001b[0m\n",
      "\u001b[34m[09:35:33] src/tree/updater_prune.cc:74: tree pruning end, 1 roots, 28 extra nodes, 14 pruned nodes, max_depth=5\u001b[0m\n",
      "\u001b[34m[37]#011train-error:0.152267#011validation-error:0.1845\u001b[0m\n",
      "\u001b[34m[09:35:35] src/tree/updater_prune.cc:74: tree pruning end, 1 roots, 30 extra nodes, 4 pruned nodes, max_depth=5\u001b[0m\n",
      "\u001b[34m[38]#011train-error:0.151#011validation-error:0.1847\u001b[0m\n",
      "\u001b[34m[09:35:36] src/tree/updater_prune.cc:74: tree pruning end, 1 roots, 28 extra nodes, 6 pruned nodes, max_depth=5\u001b[0m\n",
      "\u001b[34m[39]#011train-error:0.149933#011validation-error:0.1838\u001b[0m\n",
      "\u001b[34m[09:35:38] src/tree/updater_prune.cc:74: tree pruning end, 1 roots, 20 extra nodes, 10 pruned nodes, max_depth=5\u001b[0m\n",
      "\u001b[34m[40]#011train-error:0.149133#011validation-error:0.1826\u001b[0m\n",
      "\u001b[34m[09:35:39] src/tree/updater_prune.cc:74: tree pruning end, 1 roots, 18 extra nodes, 12 pruned nodes, max_depth=5\u001b[0m\n",
      "\u001b[34m[41]#011train-error:0.1478#011validation-error:0.1801\u001b[0m\n",
      "\u001b[34m[09:35:40] src/tree/updater_prune.cc:74: tree pruning end, 1 roots, 24 extra nodes, 8 pruned nodes, max_depth=5\u001b[0m\n",
      "\u001b[34m[42]#011train-error:0.147733#011validation-error:0.1801\u001b[0m\n",
      "\u001b[34m[09:35:42] src/tree/updater_prune.cc:74: tree pruning end, 1 roots, 22 extra nodes, 2 pruned nodes, max_depth=5\u001b[0m\n",
      "\u001b[34m[43]#011train-error:0.1456#011validation-error:0.1778\u001b[0m\n",
      "\u001b[34m[09:35:43] src/tree/updater_prune.cc:74: tree pruning end, 1 roots, 26 extra nodes, 4 pruned nodes, max_depth=5\u001b[0m\n",
      "\u001b[34m[44]#011train-error:0.144667#011validation-error:0.1773\u001b[0m\n",
      "\u001b[34m[09:35:44] src/tree/updater_prune.cc:74: tree pruning end, 1 roots, 24 extra nodes, 10 pruned nodes, max_depth=5\u001b[0m\n",
      "\u001b[34m[45]#011train-error:0.143733#011validation-error:0.1777\u001b[0m\n",
      "\u001b[34m[09:35:46] src/tree/updater_prune.cc:74: tree pruning end, 1 roots, 24 extra nodes, 8 pruned nodes, max_depth=5\u001b[0m\n",
      "\u001b[34m[46]#011train-error:0.142133#011validation-error:0.1766\u001b[0m\n",
      "\u001b[34m[09:35:47] src/tree/updater_prune.cc:74: tree pruning end, 1 roots, 20 extra nodes, 12 pruned nodes, max_depth=5\u001b[0m\n",
      "\u001b[34m[47]#011train-error:0.1416#011validation-error:0.1762\u001b[0m\n",
      "\u001b[34m[09:35:48] src/tree/updater_prune.cc:74: tree pruning end, 1 roots, 22 extra nodes, 6 pruned nodes, max_depth=5\u001b[0m\n",
      "\u001b[34m[48]#011train-error:0.140267#011validation-error:0.1753\u001b[0m\n",
      "\u001b[34m[09:35:50] src/tree/updater_prune.cc:74: tree pruning end, 1 roots, 18 extra nodes, 18 pruned nodes, max_depth=5\u001b[0m\n",
      "\u001b[34m[49]#011train-error:0.1392#011validation-error:0.1744\u001b[0m\n",
      "\u001b[34m[09:35:51] src/tree/updater_prune.cc:74: tree pruning end, 1 roots, 22 extra nodes, 4 pruned nodes, max_depth=5\u001b[0m\n",
      "\u001b[34m[50]#011train-error:0.138333#011validation-error:0.1741\u001b[0m\n",
      "\u001b[34m[09:35:52] src/tree/updater_prune.cc:74: tree pruning end, 1 roots, 22 extra nodes, 16 pruned nodes, max_depth=5\u001b[0m\n",
      "\u001b[34m[51]#011train-error:0.1372#011validation-error:0.1734\u001b[0m\n",
      "\u001b[34m[09:35:54] src/tree/updater_prune.cc:74: tree pruning end, 1 roots, 20 extra nodes, 12 pruned nodes, max_depth=5\u001b[0m\n",
      "\u001b[34m[52]#011train-error:0.137333#011validation-error:0.1719\u001b[0m\n",
      "\u001b[34m[09:35:55] src/tree/updater_prune.cc:74: tree pruning end, 1 roots, 20 extra nodes, 14 pruned nodes, max_depth=5\u001b[0m\n",
      "\u001b[34m[53]#011train-error:0.135867#011validation-error:0.1722\u001b[0m\n",
      "\u001b[34m[09:35:56] src/tree/updater_prune.cc:74: tree pruning end, 1 roots, 12 extra nodes, 10 pruned nodes, max_depth=5\u001b[0m\n",
      "\u001b[34m[54]#011train-error:0.135333#011validation-error:0.1721\u001b[0m\n",
      "\u001b[34m[09:35:58] src/tree/updater_prune.cc:74: tree pruning end, 1 roots, 12 extra nodes, 6 pruned nodes, max_depth=5\u001b[0m\n",
      "\u001b[34m[55]#011train-error:0.1348#011validation-error:0.1721\u001b[0m\n",
      "\u001b[34m[09:35:59] src/tree/updater_prune.cc:74: tree pruning end, 1 roots, 24 extra nodes, 8 pruned nodes, max_depth=5\u001b[0m\n",
      "\u001b[34m[56]#011train-error:0.133533#011validation-error:0.171\u001b[0m\n",
      "\u001b[34m[09:36:00] src/tree/updater_prune.cc:74: tree pruning end, 1 roots, 26 extra nodes, 10 pruned nodes, max_depth=5\u001b[0m\n",
      "\u001b[34m[57]#011train-error:0.133267#011validation-error:0.1708\u001b[0m\n",
      "\u001b[34m[09:36:02] src/tree/updater_prune.cc:74: tree pruning end, 1 roots, 12 extra nodes, 8 pruned nodes, max_depth=5\u001b[0m\n",
      "\u001b[34m[58]#011train-error:0.132333#011validation-error:0.1696\u001b[0m\n",
      "\u001b[34m[09:36:03] src/tree/updater_prune.cc:74: tree pruning end, 1 roots, 24 extra nodes, 10 pruned nodes, max_depth=5\u001b[0m\n",
      "\u001b[34m[59]#011train-error:0.132#011validation-error:0.1685\u001b[0m\n",
      "\u001b[34m[09:36:05] src/tree/updater_prune.cc:74: tree pruning end, 1 roots, 22 extra nodes, 4 pruned nodes, max_depth=5\u001b[0m\n",
      "\u001b[34m[60]#011train-error:0.1314#011validation-error:0.1684\u001b[0m\n",
      "\u001b[34m[09:36:06] src/tree/updater_prune.cc:74: tree pruning end, 1 roots, 10 extra nodes, 6 pruned nodes, max_depth=5\u001b[0m\n",
      "\u001b[34m[61]#011train-error:0.129733#011validation-error:0.1682\u001b[0m\n",
      "\u001b[34m[09:36:08] src/tree/updater_prune.cc:74: tree pruning end, 1 roots, 18 extra nodes, 0 pruned nodes, max_depth=5\u001b[0m\n",
      "\u001b[34m[62]#011train-error:0.128667#011validation-error:0.1686\u001b[0m\n",
      "\u001b[34m[09:36:09] src/tree/updater_prune.cc:74: tree pruning end, 1 roots, 14 extra nodes, 10 pruned nodes, max_depth=5\u001b[0m\n",
      "\u001b[34m[63]#011train-error:0.128667#011validation-error:0.168\u001b[0m\n",
      "\u001b[34m[09:36:11] src/tree/updater_prune.cc:74: tree pruning end, 1 roots, 10 extra nodes, 8 pruned nodes, max_depth=5\u001b[0m\n",
      "\u001b[34m[64]#011train-error:0.128133#011validation-error:0.1674\u001b[0m\n",
      "\u001b[34m[09:36:12] src/tree/updater_prune.cc:74: tree pruning end, 1 roots, 16 extra nodes, 10 pruned nodes, max_depth=5\u001b[0m\n",
      "\u001b[34m[65]#011train-error:0.127733#011validation-error:0.1674\u001b[0m\n",
      "\u001b[34m[09:36:13] src/tree/updater_prune.cc:74: tree pruning end, 1 roots, 14 extra nodes, 10 pruned nodes, max_depth=5\u001b[0m\n",
      "\u001b[34m[66]#011train-error:0.127067#011validation-error:0.1679\u001b[0m\n",
      "\u001b[34m[09:36:15] src/tree/updater_prune.cc:74: tree pruning end, 1 roots, 10 extra nodes, 8 pruned nodes, max_depth=5\u001b[0m\n",
      "\u001b[34m[67]#011train-error:0.127#011validation-error:0.1666\u001b[0m\n",
      "\u001b[34m[09:36:16] src/tree/updater_prune.cc:74: tree pruning end, 1 roots, 14 extra nodes, 6 pruned nodes, max_depth=5\u001b[0m\n",
      "\u001b[34m[68]#011train-error:0.126267#011validation-error:0.1649\u001b[0m\n",
      "\u001b[34m[09:36:17] src/tree/updater_prune.cc:74: tree pruning end, 1 roots, 20 extra nodes, 14 pruned nodes, max_depth=5\u001b[0m\n",
      "\u001b[34m[69]#011train-error:0.125467#011validation-error:0.1646\u001b[0m\n",
      "\u001b[34m[09:36:19] src/tree/updater_prune.cc:74: tree pruning end, 1 roots, 30 extra nodes, 8 pruned nodes, max_depth=5\u001b[0m\n",
      "\u001b[34m[70]#011train-error:0.1242#011validation-error:0.1634\u001b[0m\n",
      "\u001b[34m[09:36:20] src/tree/updater_prune.cc:74: tree pruning end, 1 roots, 18 extra nodes, 12 pruned nodes, max_depth=5\u001b[0m\n",
      "\u001b[34m[71]#011train-error:0.123#011validation-error:0.1633\u001b[0m\n",
      "\u001b[34m[09:36:21] src/tree/updater_prune.cc:74: tree pruning end, 1 roots, 20 extra nodes, 6 pruned nodes, max_depth=5\u001b[0m\n",
      "\u001b[34m[72]#011train-error:0.122067#011validation-error:0.1623\u001b[0m\n",
      "\u001b[34m[09:36:23] src/tree/updater_prune.cc:74: tree pruning end, 1 roots, 30 extra nodes, 8 pruned nodes, max_depth=5\u001b[0m\n",
      "\u001b[34m[73]#011train-error:0.1214#011validation-error:0.1613\u001b[0m\n",
      "\u001b[34m[09:36:24] src/tree/updater_prune.cc:74: tree pruning end, 1 roots, 12 extra nodes, 8 pruned nodes, max_depth=5\u001b[0m\n",
      "\u001b[34m[74]#011train-error:0.121267#011validation-error:0.1614\u001b[0m\n",
      "\u001b[34m[09:36:25] src/tree/updater_prune.cc:74: tree pruning end, 1 roots, 18 extra nodes, 8 pruned nodes, max_depth=5\u001b[0m\n",
      "\u001b[34m[75]#011train-error:0.1204#011validation-error:0.161\u001b[0m\n",
      "\u001b[34m[09:36:27] src/tree/updater_prune.cc:74: tree pruning end, 1 roots, 18 extra nodes, 10 pruned nodes, max_depth=5\u001b[0m\n",
      "\u001b[34m[76]#011train-error:0.12#011validation-error:0.1601\u001b[0m\n",
      "\u001b[34m[09:36:28] src/tree/updater_prune.cc:74: tree pruning end, 1 roots, 16 extra nodes, 2 pruned nodes, max_depth=5\u001b[0m\n",
      "\u001b[34m[77]#011train-error:0.119733#011validation-error:0.1592\u001b[0m\n",
      "\u001b[34m[09:36:29] src/tree/updater_prune.cc:74: tree pruning end, 1 roots, 14 extra nodes, 10 pruned nodes, max_depth=5\u001b[0m\n",
      "\u001b[34m[78]#011train-error:0.118867#011validation-error:0.1576\u001b[0m\n",
      "\u001b[34m[09:36:31] src/tree/updater_prune.cc:74: tree pruning end, 1 roots, 20 extra nodes, 14 pruned nodes, max_depth=5\u001b[0m\n",
      "\u001b[34m[79]#011train-error:0.1182#011validation-error:0.1573\u001b[0m\n",
      "\u001b[34m[09:36:32] src/tree/updater_prune.cc:74: tree pruning end, 1 roots, 22 extra nodes, 6 pruned nodes, max_depth=5\u001b[0m\n",
      "\u001b[34m[80]#011train-error:0.1164#011validation-error:0.1571\u001b[0m\n",
      "\u001b[34m[09:36:33] src/tree/updater_prune.cc:74: tree pruning end, 1 roots, 20 extra nodes, 12 pruned nodes, max_depth=5\u001b[0m\n",
      "\u001b[34m[81]#011train-error:0.116333#011validation-error:0.1558\u001b[0m\n",
      "\u001b[34m[09:36:35] src/tree/updater_prune.cc:74: tree pruning end, 1 roots, 16 extra nodes, 10 pruned nodes, max_depth=5\u001b[0m\n",
      "\u001b[34m[82]#011train-error:0.116067#011validation-error:0.1553\u001b[0m\n",
      "\u001b[34m[09:36:36] src/tree/updater_prune.cc:74: tree pruning end, 1 roots, 24 extra nodes, 4 pruned nodes, max_depth=5\u001b[0m\n",
      "\u001b[34m[83]#011train-error:0.116733#011validation-error:0.1555\u001b[0m\n",
      "\u001b[34m[09:36:37] src/tree/updater_prune.cc:74: tree pruning end, 1 roots, 18 extra nodes, 16 pruned nodes, max_depth=5\u001b[0m\n",
      "\u001b[34m[84]#011train-error:0.115667#011validation-error:0.1561\u001b[0m\n",
      "\u001b[34m[09:36:39] src/tree/updater_prune.cc:74: tree pruning end, 1 roots, 32 extra nodes, 2 pruned nodes, max_depth=5\u001b[0m\n",
      "\u001b[34m[85]#011train-error:0.1144#011validation-error:0.1563\u001b[0m\n",
      "\u001b[34m[09:36:40] src/tree/updater_prune.cc:74: tree pruning end, 1 roots, 20 extra nodes, 16 pruned nodes, max_depth=5\u001b[0m\n",
      "\u001b[34m[86]#011train-error:0.114133#011validation-error:0.1553\u001b[0m\n",
      "\u001b[34m[09:36:41] src/tree/updater_prune.cc:74: tree pruning end, 1 roots, 16 extra nodes, 16 pruned nodes, max_depth=5\u001b[0m\n",
      "\u001b[34m[87]#011train-error:0.1128#011validation-error:0.155\u001b[0m\n",
      "\u001b[34m[09:36:43] src/tree/updater_prune.cc:74: tree pruning end, 1 roots, 10 extra nodes, 8 pruned nodes, max_depth=5\u001b[0m\n",
      "\u001b[34m[88]#011train-error:0.112667#011validation-error:0.1545\u001b[0m\n",
      "\u001b[34m[09:36:44] src/tree/updater_prune.cc:74: tree pruning end, 1 roots, 16 extra nodes, 12 pruned nodes, max_depth=5\u001b[0m\n",
      "\u001b[34m[89]#011train-error:0.112067#011validation-error:0.1542\u001b[0m\n",
      "\u001b[34m[09:36:45] src/tree/updater_prune.cc:74: tree pruning end, 1 roots, 12 extra nodes, 12 pruned nodes, max_depth=5\u001b[0m\n",
      "\u001b[34m[90]#011train-error:0.111667#011validation-error:0.1535\u001b[0m\n",
      "\u001b[34m[09:36:47] src/tree/updater_prune.cc:74: tree pruning end, 1 roots, 16 extra nodes, 2 pruned nodes, max_depth=5\u001b[0m\n",
      "\u001b[34m[91]#011train-error:0.110333#011validation-error:0.1534\u001b[0m\n",
      "\u001b[34m[09:36:48] src/tree/updater_prune.cc:74: tree pruning end, 1 roots, 22 extra nodes, 10 pruned nodes, max_depth=5\u001b[0m\n",
      "\u001b[34m[92]#011train-error:0.110467#011validation-error:0.1519\u001b[0m\n",
      "\u001b[34m[09:36:49] src/tree/updater_prune.cc:74: tree pruning end, 1 roots, 10 extra nodes, 6 pruned nodes, max_depth=5\u001b[0m\n",
      "\u001b[34m[93]#011train-error:0.110133#011validation-error:0.152\u001b[0m\n",
      "\u001b[34m[09:36:51] src/tree/updater_prune.cc:74: tree pruning end, 1 roots, 20 extra nodes, 4 pruned nodes, max_depth=5\u001b[0m\n",
      "\u001b[34m[94]#011train-error:0.109733#011validation-error:0.1515\u001b[0m\n",
      "\u001b[34m[09:36:52] src/tree/updater_prune.cc:74: tree pruning end, 1 roots, 26 extra nodes, 10 pruned nodes, max_depth=5\u001b[0m\n",
      "\u001b[34m[95]#011train-error:0.1084#011validation-error:0.1502\u001b[0m\n",
      "\u001b[34m[09:36:53] src/tree/updater_prune.cc:74: tree pruning end, 1 roots, 16 extra nodes, 12 pruned nodes, max_depth=5\u001b[0m\n",
      "\u001b[34m[96]#011train-error:0.107133#011validation-error:0.1515\u001b[0m\n",
      "\u001b[34m[09:36:55] src/tree/updater_prune.cc:74: tree pruning end, 1 roots, 20 extra nodes, 0 pruned nodes, max_depth=5\u001b[0m\n",
      "\u001b[34m[97]#011train-error:0.106933#011validation-error:0.1524\u001b[0m\n",
      "\u001b[34m[09:36:56] src/tree/updater_prune.cc:74: tree pruning end, 1 roots, 12 extra nodes, 16 pruned nodes, max_depth=5\u001b[0m\n",
      "\u001b[34m[98]#011train-error:0.106267#011validation-error:0.153\u001b[0m\n",
      "\u001b[34m[09:36:57] src/tree/updater_prune.cc:74: tree pruning end, 1 roots, 16 extra nodes, 4 pruned nodes, max_depth=5\u001b[0m\n",
      "\u001b[34m[99]#011train-error:0.1064#011validation-error:0.154\u001b[0m\n",
      "\u001b[34m[09:36:59] src/tree/updater_prune.cc:74: tree pruning end, 1 roots, 20 extra nodes, 8 pruned nodes, max_depth=5\u001b[0m\n",
      "\u001b[34m[100]#011train-error:0.1062#011validation-error:0.1528\u001b[0m\n",
      "\u001b[34m[09:37:00] src/tree/updater_prune.cc:74: tree pruning end, 1 roots, 14 extra nodes, 6 pruned nodes, max_depth=5\u001b[0m\n",
      "\u001b[34m[101]#011train-error:0.105333#011validation-error:0.1528\u001b[0m\n",
      "\u001b[34m[09:37:02] src/tree/updater_prune.cc:74: tree pruning end, 1 roots, 14 extra nodes, 12 pruned nodes, max_depth=5\u001b[0m\n",
      "\u001b[34m[102]#011train-error:0.1056#011validation-error:0.1527\u001b[0m\n",
      "\n",
      "2022-11-22 09:37:11 Uploading - Uploading generated training model\u001b[34m[09:37:03] src/tree/updater_prune.cc:74: tree pruning end, 1 roots, 18 extra nodes, 10 pruned nodes, max_depth=5\u001b[0m\n",
      "\u001b[34m[103]#011train-error:0.105267#011validation-error:0.1525\u001b[0m\n",
      "\u001b[34m[09:37:05] src/tree/updater_prune.cc:74: tree pruning end, 1 roots, 16 extra nodes, 14 pruned nodes, max_depth=5\u001b[0m\n",
      "\u001b[34m[104]#011train-error:0.104333#011validation-error:0.1525\u001b[0m\n",
      "\u001b[34m[09:37:06] src/tree/updater_prune.cc:74: tree pruning end, 1 roots, 20 extra nodes, 8 pruned nodes, max_depth=5\u001b[0m\n",
      "\u001b[34m[105]#011train-error:0.104133#011validation-error:0.1526\u001b[0m\n",
      "\u001b[34mStopping. Best iteration:\u001b[0m\n",
      "\u001b[34m[95]#011train-error:0.1084#011validation-error:0.1502\u001b[0m\n",
      "\n",
      "2022-11-22 09:37:31 Completed - Training job completed\n",
      "Training seconds: 277\n",
      "Billable seconds: 277\n"
     ]
    }
   ],
   "source": [
    "xgb.fit({'train': s3_input_train, 'validation': s3_input_validation})"
   ]
  },
  {
   "cell_type": "markdown",
   "metadata": {},
   "source": [
    "### (TODO) Testing the model\n",
    "\n",
    "Now that we've fit our XGBoost model, it's time to see how well it performs. To do this we will use SageMakers Batch Transform functionality. Batch Transform is a convenient way to perform inference on a large dataset in a way that is not realtime. That is, we don't necessarily need to use our model's results immediately and instead we can peform inference on a large number of samples. An example of this in industry might be peforming an end of month report. This method of inference can also be useful to us as it means to can perform inference on our entire test set. \n",
    "\n",
    "To perform a Batch Transformation we need to first create a transformer objects from our trained estimator object."
   ]
  },
  {
   "cell_type": "code",
   "execution_count": 34,
   "metadata": {},
   "outputs": [],
   "source": [
    "# TODO: Create a transformer object from the trained model. Using an instance count of 1 and an instance type of ml.m4.xlarge\n",
    "#       should be more than enough.\n",
    "xgb_transformer = xgb.transformer(instance_count = 1, instance_type = 'ml.m4.xlarge')"
   ]
  },
  {
   "cell_type": "markdown",
   "metadata": {},
   "source": [
    "Next we actually perform the transform job. When doing so we need to make sure to specify the type of data we are sending so that it is serialized correctly in the background. In our case we are providing our model with csv data so we specify `text/csv`. Also, if the test data that we have provided is too large to process all at once then we need to specify how the data file should be split up. Since each line is a single entry in our data set we tell SageMaker that it can split the input on each line."
   ]
  },
  {
   "cell_type": "code",
   "execution_count": 35,
   "metadata": {},
   "outputs": [
    {
     "name": "stdout",
     "output_type": "stream",
     "text": [
      "...................................\u001b[34mArguments: serve\u001b[0m\n",
      "\u001b[35mArguments: serve\u001b[0m\n",
      "\u001b[34m[2022-11-22 09:45:33 +0000] [1] [INFO] Starting gunicorn 19.9.0\u001b[0m\n",
      "\u001b[34m[2022-11-22 09:45:33 +0000] [1] [INFO] Listening at: http://0.0.0.0:8080 (1)\u001b[0m\n",
      "\u001b[34m[2022-11-22 09:45:33 +0000] [1] [INFO] Using worker: gevent\u001b[0m\n",
      "\u001b[34m[2022-11-22 09:45:33 +0000] [21] [INFO] Booting worker with pid: 21\u001b[0m\n",
      "\u001b[34m[2022-11-22 09:45:33 +0000] [22] [INFO] Booting worker with pid: 22\u001b[0m\n",
      "\u001b[35m[2022-11-22 09:45:33 +0000] [1] [INFO] Starting gunicorn 19.9.0\u001b[0m\n",
      "\u001b[35m[2022-11-22 09:45:33 +0000] [1] [INFO] Listening at: http://0.0.0.0:8080 (1)\u001b[0m\n",
      "\u001b[35m[2022-11-22 09:45:33 +0000] [1] [INFO] Using worker: gevent\u001b[0m\n",
      "\u001b[35m[2022-11-22 09:45:33 +0000] [21] [INFO] Booting worker with pid: 21\u001b[0m\n",
      "\u001b[35m[2022-11-22 09:45:33 +0000] [22] [INFO] Booting worker with pid: 22\u001b[0m\n",
      "\u001b[34m[2022-11-22 09:45:33 +0000] [23] [INFO] Booting worker with pid: 23\u001b[0m\n",
      "\u001b[34m[2022-11-22 09:45:33 +0000] [24] [INFO] Booting worker with pid: 24\u001b[0m\n",
      "\u001b[34m/opt/amazon/lib/python3.7/site-packages/gunicorn/workers/ggevent.py:65: MonkeyPatchWarning: Monkey-patching ssl after ssl has already been imported may lead to errors, including RecursionError on Python 3.6. It may also silently lead to incorrect behaviour on Python 3.7. Please monkey-patch earlier. See https://github.com/gevent/gevent/issues/1016. Modules that had direct imports (NOT patched): ['urllib3.util.ssl_ (/opt/amazon/lib/python3.7/site-packages/urllib3/util/ssl_.py)', 'urllib3.util (/opt/amazon/lib/python3.7/site-packages/urllib3/util/__init__.py)']. \n",
      "  monkey.patch_all(subprocess=True)\u001b[0m\n",
      "\u001b[34m/opt/amazon/lib/python3.7/site-packages/gunicorn/workers/ggevent.py:65: MonkeyPatchWarning: Monkey-patching ssl after ssl has already been imported may lead to errors, including RecursionError on Python 3.6. It may also silently lead to incorrect behaviour on Python 3.7. Please monkey-patch earlier. See https://github.com/gevent/gevent/issues/1016. Modules that had direct imports (NOT patched): ['urllib3.util.ssl_ (/opt/amazon/lib/python3.7/site-packages/urllib3/util/ssl_.py)', 'urllib3.util (/opt/amazon/lib/python3.7/site-packages/urllib3/util/__init__.py)']. \n",
      "  monkey.patch_all(subprocess=True)\u001b[0m\n",
      "\u001b[34m[2022-11-22:09:45:33:INFO] Model loaded successfully for worker : 21\u001b[0m\n",
      "\u001b[34m/opt/amazon/lib/python3.7/site-packages/gunicorn/workers/ggevent.py:65: MonkeyPatchWarning: Monkey-patching ssl after ssl has already been imported may lead to errors, including RecursionError on Python 3.6. It may also silently lead to incorrect behaviour on Python 3.7. Please monkey-patch earlier. See https://github.com/gevent/gevent/issues/1016. Modules that had direct imports (NOT patched): ['urllib3.util.ssl_ (/opt/amazon/lib/python3.7/site-packages/urllib3/util/ssl_.py)', 'urllib3.util (/opt/amazon/lib/python3.7/site-packages/urllib3/util/__init__.py)']. \n",
      "  monkey.patch_all(subprocess=True)\u001b[0m\n",
      "\u001b[34m[2022-11-22:09:45:33:INFO] Model loaded successfully for worker : 22\u001b[0m\n",
      "\u001b[34m[2022-11-22:09:45:33:INFO] Model loaded successfully for worker : 23\u001b[0m\n",
      "\u001b[34m/opt/amazon/lib/python3.7/site-packages/gunicorn/workers/ggevent.py:65: MonkeyPatchWarning: Monkey-patching ssl after ssl has already been imported may lead to errors, including RecursionError on Python 3.6. It may also silently lead to incorrect behaviour on Python 3.7. Please monkey-patch earlier. See https://github.com/gevent/gevent/issues/1016. Modules that had direct imports (NOT patched): ['urllib3.util.ssl_ (/opt/amazon/lib/python3.7/site-packages/urllib3/util/ssl_.py)', 'urllib3.util (/opt/amazon/lib/python3.7/site-packages/urllib3/util/__init__.py)']. \n",
      "  monkey.patch_all(subprocess=True)\u001b[0m\n",
      "\u001b[34m[2022-11-22:09:45:33:INFO] Model loaded successfully for worker : 24\u001b[0m\n",
      "\u001b[35m[2022-11-22 09:45:33 +0000] [23] [INFO] Booting worker with pid: 23\u001b[0m\n",
      "\u001b[35m[2022-11-22 09:45:33 +0000] [24] [INFO] Booting worker with pid: 24\u001b[0m\n",
      "\u001b[35m/opt/amazon/lib/python3.7/site-packages/gunicorn/workers/ggevent.py:65: MonkeyPatchWarning: Monkey-patching ssl after ssl has already been imported may lead to errors, including RecursionError on Python 3.6. It may also silently lead to incorrect behaviour on Python 3.7. Please monkey-patch earlier. See https://github.com/gevent/gevent/issues/1016. Modules that had direct imports (NOT patched): ['urllib3.util.ssl_ (/opt/amazon/lib/python3.7/site-packages/urllib3/util/ssl_.py)', 'urllib3.util (/opt/amazon/lib/python3.7/site-packages/urllib3/util/__init__.py)']. \n",
      "  monkey.patch_all(subprocess=True)\u001b[0m\n",
      "\u001b[35m/opt/amazon/lib/python3.7/site-packages/gunicorn/workers/ggevent.py:65: MonkeyPatchWarning: Monkey-patching ssl after ssl has already been imported may lead to errors, including RecursionError on Python 3.6. It may also silently lead to incorrect behaviour on Python 3.7. Please monkey-patch earlier. See https://github.com/gevent/gevent/issues/1016. Modules that had direct imports (NOT patched): ['urllib3.util.ssl_ (/opt/amazon/lib/python3.7/site-packages/urllib3/util/ssl_.py)', 'urllib3.util (/opt/amazon/lib/python3.7/site-packages/urllib3/util/__init__.py)']. \n",
      "  monkey.patch_all(subprocess=True)\u001b[0m\n",
      "\u001b[35m[2022-11-22:09:45:33:INFO] Model loaded successfully for worker : 21\u001b[0m\n",
      "\u001b[35m/opt/amazon/lib/python3.7/site-packages/gunicorn/workers/ggevent.py:65: MonkeyPatchWarning: Monkey-patching ssl after ssl has already been imported may lead to errors, including RecursionError on Python 3.6. It may also silently lead to incorrect behaviour on Python 3.7. Please monkey-patch earlier. See https://github.com/gevent/gevent/issues/1016. Modules that had direct imports (NOT patched): ['urllib3.util.ssl_ (/opt/amazon/lib/python3.7/site-packages/urllib3/util/ssl_.py)', 'urllib3.util (/opt/amazon/lib/python3.7/site-packages/urllib3/util/__init__.py)']. \n",
      "  monkey.patch_all(subprocess=True)\u001b[0m\n",
      "\u001b[35m[2022-11-22:09:45:33:INFO] Model loaded successfully for worker : 22\u001b[0m\n",
      "\u001b[35m[2022-11-22:09:45:33:INFO] Model loaded successfully for worker : 23\u001b[0m\n",
      "\u001b[35m/opt/amazon/lib/python3.7/site-packages/gunicorn/workers/ggevent.py:65: MonkeyPatchWarning: Monkey-patching ssl after ssl has already been imported may lead to errors, including RecursionError on Python 3.6. It may also silently lead to incorrect behaviour on Python 3.7. Please monkey-patch earlier. See https://github.com/gevent/gevent/issues/1016. Modules that had direct imports (NOT patched): ['urllib3.util.ssl_ (/opt/amazon/lib/python3.7/site-packages/urllib3/util/ssl_.py)', 'urllib3.util (/opt/amazon/lib/python3.7/site-packages/urllib3/util/__init__.py)']. \n",
      "  monkey.patch_all(subprocess=True)\u001b[0m\n",
      "\u001b[35m[2022-11-22:09:45:33:INFO] Model loaded successfully for worker : 24\u001b[0m\n",
      "\u001b[32m2022-11-22T09:45:37.269:[sagemaker logs]: MaxConcurrentTransforms=4, MaxPayloadInMB=6, BatchStrategy=MULTI_RECORD\u001b[0m\n",
      "\u001b[34m[2022-11-22:09:45:41:INFO] Sniff delimiter as ','\u001b[0m\n",
      "\u001b[34m[2022-11-22:09:45:41:INFO] Determined delimiter of CSV input is ','\u001b[0m\n",
      "\u001b[34m[2022-11-22:09:45:41:INFO] Sniff delimiter as ','\u001b[0m\n",
      "\u001b[34m[2022-11-22:09:45:41:INFO] Determined delimiter of CSV input is ','\u001b[0m\n",
      "\u001b[34m[2022-11-22:09:45:41:INFO] Sniff delimiter as ','\u001b[0m\n",
      "\u001b[34m[2022-11-22:09:45:41:INFO] Determined delimiter of CSV input is ','\u001b[0m\n",
      "\u001b[35m[2022-11-22:09:45:41:INFO] Sniff delimiter as ','\u001b[0m\n",
      "\u001b[35m[2022-11-22:09:45:41:INFO] Determined delimiter of CSV input is ','\u001b[0m\n",
      "\u001b[35m[2022-11-22:09:45:41:INFO] Sniff delimiter as ','\u001b[0m\n",
      "\u001b[35m[2022-11-22:09:45:41:INFO] Determined delimiter of CSV input is ','\u001b[0m\n",
      "\u001b[35m[2022-11-22:09:45:41:INFO] Sniff delimiter as ','\u001b[0m\n",
      "\u001b[35m[2022-11-22:09:45:41:INFO] Determined delimiter of CSV input is ','\u001b[0m\n",
      "\u001b[34m[2022-11-22:09:45:41:INFO] Sniff delimiter as ','\u001b[0m\n",
      "\u001b[34m[2022-11-22:09:45:41:INFO] Determined delimiter of CSV input is ','\u001b[0m\n",
      "\u001b[35m[2022-11-22:09:45:41:INFO] Sniff delimiter as ','\u001b[0m\n",
      "\u001b[35m[2022-11-22:09:45:41:INFO] Determined delimiter of CSV input is ','\u001b[0m\n",
      "\u001b[34m[2022-11-22:09:45:45:INFO] Sniff delimiter as ','\u001b[0m\n",
      "\u001b[34m[2022-11-22:09:45:45:INFO] Determined delimiter of CSV input is ','\u001b[0m\n",
      "\u001b[34m[2022-11-22:09:45:45:INFO] Sniff delimiter as ','\u001b[0m\n",
      "\u001b[34m[2022-11-22:09:45:45:INFO] Determined delimiter of CSV input is ','\u001b[0m\n",
      "\u001b[34m[2022-11-22:09:45:45:INFO] Sniff delimiter as ','\u001b[0m\n",
      "\u001b[35m[2022-11-22:09:45:45:INFO] Sniff delimiter as ','\u001b[0m\n",
      "\u001b[35m[2022-11-22:09:45:45:INFO] Determined delimiter of CSV input is ','\u001b[0m\n",
      "\u001b[35m[2022-11-22:09:45:45:INFO] Sniff delimiter as ','\u001b[0m\n",
      "\u001b[35m[2022-11-22:09:45:45:INFO] Determined delimiter of CSV input is ','\u001b[0m\n",
      "\u001b[35m[2022-11-22:09:45:45:INFO] Sniff delimiter as ','\u001b[0m\n",
      "\u001b[34m[2022-11-22:09:45:45:INFO] Determined delimiter of CSV input is ','\u001b[0m\n",
      "\u001b[34m[2022-11-22:09:45:45:INFO] Sniff delimiter as ','\u001b[0m\n",
      "\u001b[34m[2022-11-22:09:45:45:INFO] Determined delimiter of CSV input is ','\u001b[0m\n",
      "\u001b[35m[2022-11-22:09:45:45:INFO] Determined delimiter of CSV input is ','\u001b[0m\n",
      "\u001b[35m[2022-11-22:09:45:45:INFO] Sniff delimiter as ','\u001b[0m\n",
      "\u001b[35m[2022-11-22:09:45:45:INFO] Determined delimiter of CSV input is ','\u001b[0m\n",
      "\u001b[34m[2022-11-22:09:45:49:INFO] Determined delimiter of CSV input is ','\u001b[0m\n",
      "\u001b[34m[2022-11-22:09:45:49:INFO] Sniff delimiter as ','\u001b[0m\n",
      "\u001b[34m[2022-11-22:09:45:49:INFO] Determined delimiter of CSV input is ','\u001b[0m\n",
      "\u001b[34m[2022-11-22:09:45:49:INFO] Sniff delimiter as ','\u001b[0m\n",
      "\u001b[34m[2022-11-22:09:45:49:INFO] Determined delimiter of CSV input is ','\u001b[0m\n",
      "\u001b[35m[2022-11-22:09:45:49:INFO] Determined delimiter of CSV input is ','\u001b[0m\n",
      "\u001b[35m[2022-11-22:09:45:49:INFO] Sniff delimiter as ','\u001b[0m\n",
      "\u001b[35m[2022-11-22:09:45:49:INFO] Determined delimiter of CSV input is ','\u001b[0m\n",
      "\u001b[35m[2022-11-22:09:45:49:INFO] Sniff delimiter as ','\u001b[0m\n",
      "\u001b[35m[2022-11-22:09:45:49:INFO] Determined delimiter of CSV input is ','\u001b[0m\n",
      "\u001b[34m[2022-11-22:09:45:52:INFO] Sniff delimiter as ','\u001b[0m\n",
      "\u001b[34m[2022-11-22:09:45:52:INFO] Determined delimiter of CSV input is ','\u001b[0m\n",
      "\u001b[34m[2022-11-22:09:45:52:INFO] Sniff delimiter as ','\u001b[0m\n",
      "\u001b[34m[2022-11-22:09:45:52:INFO] Determined delimiter of CSV input is ','\u001b[0m\n",
      "\u001b[34m[2022-11-22:09:45:53:INFO] Sniff delimiter as ','\u001b[0m\n",
      "\u001b[34m[2022-11-22:09:45:53:INFO] Determined delimiter of CSV input is ','\u001b[0m\n",
      "\u001b[34m[2022-11-22:09:45:53:INFO] Sniff delimiter as ','\u001b[0m\n",
      "\u001b[34m[2022-11-22:09:45:53:INFO] Determined delimiter of CSV input is ','\u001b[0m\n",
      "\u001b[35m[2022-11-22:09:45:52:INFO] Sniff delimiter as ','\u001b[0m\n",
      "\u001b[35m[2022-11-22:09:45:52:INFO] Determined delimiter of CSV input is ','\u001b[0m\n",
      "\u001b[35m[2022-11-22:09:45:52:INFO] Sniff delimiter as ','\u001b[0m\n",
      "\u001b[35m[2022-11-22:09:45:52:INFO] Determined delimiter of CSV input is ','\u001b[0m\n",
      "\u001b[35m[2022-11-22:09:45:53:INFO] Sniff delimiter as ','\u001b[0m\n",
      "\u001b[35m[2022-11-22:09:45:53:INFO] Determined delimiter of CSV input is ','\u001b[0m\n",
      "\u001b[35m[2022-11-22:09:45:53:INFO] Sniff delimiter as ','\u001b[0m\n",
      "\u001b[35m[2022-11-22:09:45:53:INFO] Determined delimiter of CSV input is ','\u001b[0m\n",
      "\u001b[34m[2022-11-22:09:46:00:INFO] Sniff delimiter as ','\u001b[0m\n",
      "\u001b[34m[2022-11-22:09:46:00:INFO] Determined delimiter of CSV input is ','\u001b[0m\n",
      "\u001b[34m[2022-11-22:09:46:00:INFO] Sniff delimiter as ','\u001b[0m\n",
      "\u001b[34m[2022-11-22:09:46:00:INFO] Determined delimiter of CSV input is ','\u001b[0m\n",
      "\u001b[35m[2022-11-22:09:46:00:INFO] Sniff delimiter as ','\u001b[0m\n",
      "\u001b[35m[2022-11-22:09:46:00:INFO] Determined delimiter of CSV input is ','\u001b[0m\n",
      "\u001b[35m[2022-11-22:09:46:00:INFO] Sniff delimiter as ','\u001b[0m\n",
      "\u001b[35m[2022-11-22:09:46:00:INFO] Determined delimiter of CSV input is ','\u001b[0m\n",
      "\u001b[34m[2022-11-22:09:46:00:INFO] Sniff delimiter as ','\u001b[0m\n",
      "\u001b[34m[2022-11-22:09:46:00:INFO] Determined delimiter of CSV input is ','\u001b[0m\n",
      "\u001b[35m[2022-11-22:09:46:00:INFO] Sniff delimiter as ','\u001b[0m\n",
      "\u001b[35m[2022-11-22:09:46:00:INFO] Determined delimiter of CSV input is ','\u001b[0m\n",
      "\u001b[34m[2022-11-22:09:46:00:INFO] Sniff delimiter as ','\u001b[0m\n",
      "\u001b[34m[2022-11-22:09:46:00:INFO] Determined delimiter of CSV input is ','\u001b[0m\n",
      "\u001b[35m[2022-11-22:09:46:00:INFO] Sniff delimiter as ','\u001b[0m\n",
      "\u001b[35m[2022-11-22:09:46:00:INFO] Determined delimiter of CSV input is ','\u001b[0m\n",
      "\u001b[34m[2022-11-22:09:46:04:INFO] Sniff delimiter as ','\u001b[0m\n",
      "\u001b[35m[2022-11-22:09:46:04:INFO] Sniff delimiter as ','\u001b[0m\n",
      "\u001b[34m[2022-11-22:09:46:04:INFO] Determined delimiter of CSV input is ','\u001b[0m\n",
      "\u001b[34m[2022-11-22:09:46:04:INFO] Sniff delimiter as ','\u001b[0m\n",
      "\u001b[34m[2022-11-22:09:46:04:INFO] Determined delimiter of CSV input is ','\u001b[0m\n",
      "\u001b[34m[2022-11-22:09:46:04:INFO] Sniff delimiter as ','\u001b[0m\n",
      "\u001b[34m[2022-11-22:09:46:04:INFO] Determined delimiter of CSV input is ','\u001b[0m\n",
      "\u001b[35m[2022-11-22:09:46:04:INFO] Determined delimiter of CSV input is ','\u001b[0m\n",
      "\u001b[35m[2022-11-22:09:46:04:INFO] Sniff delimiter as ','\u001b[0m\n",
      "\u001b[35m[2022-11-22:09:46:04:INFO] Determined delimiter of CSV input is ','\u001b[0m\n",
      "\u001b[35m[2022-11-22:09:46:04:INFO] Sniff delimiter as ','\u001b[0m\n",
      "\u001b[35m[2022-11-22:09:46:04:INFO] Determined delimiter of CSV input is ','\u001b[0m\n",
      "\u001b[34m[2022-11-22:09:46:04:INFO] Sniff delimiter as ','\u001b[0m\n",
      "\u001b[34m[2022-11-22:09:46:04:INFO] Determined delimiter of CSV input is ','\u001b[0m\n",
      "\u001b[35m[2022-11-22:09:46:04:INFO] Sniff delimiter as ','\u001b[0m\n",
      "\u001b[35m[2022-11-22:09:46:04:INFO] Determined delimiter of CSV input is ','\u001b[0m\n",
      "\u001b[34m[2022-11-22:09:46:08:INFO] Sniff delimiter as ','\u001b[0m\n",
      "\u001b[34m[2022-11-22:09:46:08:INFO] Determined delimiter of CSV input is ','\u001b[0m\n",
      "\u001b[34m[2022-11-22:09:46:08:INFO] Sniff delimiter as ','\u001b[0m\n",
      "\u001b[35m[2022-11-22:09:46:08:INFO] Sniff delimiter as ','\u001b[0m\n",
      "\u001b[35m[2022-11-22:09:46:08:INFO] Determined delimiter of CSV input is ','\u001b[0m\n",
      "\u001b[35m[2022-11-22:09:46:08:INFO] Sniff delimiter as ','\u001b[0m\n",
      "\u001b[34m[2022-11-22:09:46:08:INFO] Determined delimiter of CSV input is ','\u001b[0m\n",
      "\u001b[34m[2022-11-22:09:46:08:INFO] Sniff delimiter as ','\u001b[0m\n",
      "\u001b[34m[2022-11-22:09:46:08:INFO] Determined delimiter of CSV input is ','\u001b[0m\n",
      "\u001b[35m[2022-11-22:09:46:08:INFO] Determined delimiter of CSV input is ','\u001b[0m\n",
      "\u001b[35m[2022-11-22:09:46:08:INFO] Sniff delimiter as ','\u001b[0m\n",
      "\u001b[35m[2022-11-22:09:46:08:INFO] Determined delimiter of CSV input is ','\u001b[0m\n",
      "\u001b[34m[2022-11-22:09:46:11:INFO] Sniff delimiter as ','\u001b[0m\n",
      "\u001b[34m[2022-11-22:09:46:11:INFO] Determined delimiter of CSV input is ','\u001b[0m\n",
      "\u001b[34m[2022-11-22:09:46:11:INFO] Sniff delimiter as ','\u001b[0m\n",
      "\u001b[34m[2022-11-22:09:46:11:INFO] Determined delimiter of CSV input is ','\u001b[0m\n",
      "\u001b[34m[2022-11-22:09:46:12:INFO] Sniff delimiter as ','\u001b[0m\n",
      "\u001b[34m[2022-11-22:09:46:12:INFO] Determined delimiter of CSV input is ','\u001b[0m\n",
      "\u001b[34m[2022-11-22:09:46:12:INFO] Sniff delimiter as ','\u001b[0m\n",
      "\u001b[34m[2022-11-22:09:46:12:INFO] Determined delimiter of CSV input is ','\u001b[0m\n",
      "\u001b[35m[2022-11-22:09:46:11:INFO] Sniff delimiter as ','\u001b[0m\n",
      "\u001b[35m[2022-11-22:09:46:11:INFO] Determined delimiter of CSV input is ','\u001b[0m\n",
      "\u001b[35m[2022-11-22:09:46:11:INFO] Sniff delimiter as ','\u001b[0m\n",
      "\u001b[35m[2022-11-22:09:46:11:INFO] Determined delimiter of CSV input is ','\u001b[0m\n",
      "\u001b[35m[2022-11-22:09:46:12:INFO] Sniff delimiter as ','\u001b[0m\n",
      "\u001b[35m[2022-11-22:09:46:12:INFO] Determined delimiter of CSV input is ','\u001b[0m\n",
      "\u001b[35m[2022-11-22:09:46:12:INFO] Sniff delimiter as ','\u001b[0m\n",
      "\u001b[35m[2022-11-22:09:46:12:INFO] Determined delimiter of CSV input is ','\u001b[0m\n",
      "\u001b[34m[2022-11-22:09:46:15:INFO] Sniff delimiter as ','\u001b[0m\n",
      "\u001b[34m[2022-11-22:09:46:15:INFO] Determined delimiter of CSV input is ','\u001b[0m\n",
      "\u001b[35m[2022-11-22:09:46:15:INFO] Sniff delimiter as ','\u001b[0m\n",
      "\u001b[35m[2022-11-22:09:46:15:INFO] Determined delimiter of CSV input is ','\u001b[0m\n",
      "\u001b[34m[2022-11-22:09:46:15:INFO] Sniff delimiter as ','\u001b[0m\n",
      "\u001b[34m[2022-11-22:09:46:15:INFO] Determined delimiter of CSV input is ','\u001b[0m\n",
      "\u001b[34m[2022-11-22:09:46:16:INFO] Sniff delimiter as ','\u001b[0m\n",
      "\u001b[34m[2022-11-22:09:46:16:INFO] Determined delimiter of CSV input is ','\u001b[0m\n",
      "\u001b[34m[2022-11-22:09:46:16:INFO] Sniff delimiter as ','\u001b[0m\n",
      "\u001b[34m[2022-11-22:09:46:16:INFO] Determined delimiter of CSV input is ','\u001b[0m\n",
      "\u001b[35m[2022-11-22:09:46:15:INFO] Sniff delimiter as ','\u001b[0m\n",
      "\u001b[35m[2022-11-22:09:46:15:INFO] Determined delimiter of CSV input is ','\u001b[0m\n",
      "\u001b[35m[2022-11-22:09:46:16:INFO] Sniff delimiter as ','\u001b[0m\n",
      "\u001b[35m[2022-11-22:09:46:16:INFO] Determined delimiter of CSV input is ','\u001b[0m\n",
      "\u001b[35m[2022-11-22:09:46:16:INFO] Sniff delimiter as ','\u001b[0m\n",
      "\u001b[35m[2022-11-22:09:46:16:INFO] Determined delimiter of CSV input is ','\u001b[0m\n",
      "\n"
     ]
    }
   ],
   "source": [
    "# TODO: Start the transform job. Make sure to specify the content type and the split type of the test data.\n",
    "xgb_transformer.transform(test_location, content_type='text/csv', split_type='Line')"
   ]
  },
  {
   "cell_type": "markdown",
   "metadata": {},
   "source": [
    "Currently the transform job is running but it is doing so in the background. Since we wish to wait until the transform job is done and we would like a bit of feedback we can run the `wait()` method."
   ]
  },
  {
   "cell_type": "code",
   "execution_count": 36,
   "metadata": {},
   "outputs": [
    {
     "name": "stdout",
     "output_type": "stream",
     "text": [
      "\u001b[34mArguments: serve\u001b[0m\n",
      "\u001b[35mArguments: serve\u001b[0m\n",
      "\u001b[34m[2022-11-22 09:45:33 +0000] [1] [INFO] Starting gunicorn 19.9.0\u001b[0m\n",
      "\u001b[34m[2022-11-22 09:45:33 +0000] [1] [INFO] Listening at: http://0.0.0.0:8080 (1)\u001b[0m\n",
      "\u001b[34m[2022-11-22 09:45:33 +0000] [1] [INFO] Using worker: gevent\u001b[0m\n",
      "\u001b[34m[2022-11-22 09:45:33 +0000] [21] [INFO] Booting worker with pid: 21\u001b[0m\n",
      "\u001b[34m[2022-11-22 09:45:33 +0000] [22] [INFO] Booting worker with pid: 22\u001b[0m\n",
      "\u001b[35m[2022-11-22 09:45:33 +0000] [1] [INFO] Starting gunicorn 19.9.0\u001b[0m\n",
      "\u001b[35m[2022-11-22 09:45:33 +0000] [1] [INFO] Listening at: http://0.0.0.0:8080 (1)\u001b[0m\n",
      "\u001b[35m[2022-11-22 09:45:33 +0000] [1] [INFO] Using worker: gevent\u001b[0m\n",
      "\u001b[35m[2022-11-22 09:45:33 +0000] [21] [INFO] Booting worker with pid: 21\u001b[0m\n",
      "\u001b[35m[2022-11-22 09:45:33 +0000] [22] [INFO] Booting worker with pid: 22\u001b[0m\n",
      "\u001b[34m[2022-11-22 09:45:33 +0000] [23] [INFO] Booting worker with pid: 23\u001b[0m\n",
      "\u001b[34m[2022-11-22 09:45:33 +0000] [24] [INFO] Booting worker with pid: 24\u001b[0m\n",
      "\u001b[34m/opt/amazon/lib/python3.7/site-packages/gunicorn/workers/ggevent.py:65: MonkeyPatchWarning: Monkey-patching ssl after ssl has already been imported may lead to errors, including RecursionError on Python 3.6. It may also silently lead to incorrect behaviour on Python 3.7. Please monkey-patch earlier. See https://github.com/gevent/gevent/issues/1016. Modules that had direct imports (NOT patched): ['urllib3.util.ssl_ (/opt/amazon/lib/python3.7/site-packages/urllib3/util/ssl_.py)', 'urllib3.util (/opt/amazon/lib/python3.7/site-packages/urllib3/util/__init__.py)']. \n",
      "  monkey.patch_all(subprocess=True)\u001b[0m\n",
      "\u001b[34m/opt/amazon/lib/python3.7/site-packages/gunicorn/workers/ggevent.py:65: MonkeyPatchWarning: Monkey-patching ssl after ssl has already been imported may lead to errors, including RecursionError on Python 3.6. It may also silently lead to incorrect behaviour on Python 3.7. Please monkey-patch earlier. See https://github.com/gevent/gevent/issues/1016. Modules that had direct imports (NOT patched): ['urllib3.util.ssl_ (/opt/amazon/lib/python3.7/site-packages/urllib3/util/ssl_.py)', 'urllib3.util (/opt/amazon/lib/python3.7/site-packages/urllib3/util/__init__.py)']. \n",
      "  monkey.patch_all(subprocess=True)\u001b[0m\n",
      "\u001b[34m[2022-11-22:09:45:33:INFO] Model loaded successfully for worker : 21\u001b[0m\n",
      "\u001b[34m/opt/amazon/lib/python3.7/site-packages/gunicorn/workers/ggevent.py:65: MonkeyPatchWarning: Monkey-patching ssl after ssl has already been imported may lead to errors, including RecursionError on Python 3.6. It may also silently lead to incorrect behaviour on Python 3.7. Please monkey-patch earlier. See https://github.com/gevent/gevent/issues/1016. Modules that had direct imports (NOT patched): ['urllib3.util.ssl_ (/opt/amazon/lib/python3.7/site-packages/urllib3/util/ssl_.py)', 'urllib3.util (/opt/amazon/lib/python3.7/site-packages/urllib3/util/__init__.py)']. \n",
      "  monkey.patch_all(subprocess=True)\u001b[0m\n",
      "\u001b[34m[2022-11-22:09:45:33:INFO] Model loaded successfully for worker : 22\u001b[0m\n",
      "\u001b[34m[2022-11-22:09:45:33:INFO] Model loaded successfully for worker : 23\u001b[0m\n",
      "\u001b[34m/opt/amazon/lib/python3.7/site-packages/gunicorn/workers/ggevent.py:65: MonkeyPatchWarning: Monkey-patching ssl after ssl has already been imported may lead to errors, including RecursionError on Python 3.6. It may also silently lead to incorrect behaviour on Python 3.7. Please monkey-patch earlier. See https://github.com/gevent/gevent/issues/1016. Modules that had direct imports (NOT patched): ['urllib3.util.ssl_ (/opt/amazon/lib/python3.7/site-packages/urllib3/util/ssl_.py)', 'urllib3.util (/opt/amazon/lib/python3.7/site-packages/urllib3/util/__init__.py)']. \n",
      "  monkey.patch_all(subprocess=True)\u001b[0m\n",
      "\u001b[34m[2022-11-22:09:45:33:INFO] Model loaded successfully for worker : 24\u001b[0m\n",
      "\u001b[35m[2022-11-22 09:45:33 +0000] [23] [INFO] Booting worker with pid: 23\u001b[0m\n",
      "\u001b[35m[2022-11-22 09:45:33 +0000] [24] [INFO] Booting worker with pid: 24\u001b[0m\n",
      "\u001b[35m/opt/amazon/lib/python3.7/site-packages/gunicorn/workers/ggevent.py:65: MonkeyPatchWarning: Monkey-patching ssl after ssl has already been imported may lead to errors, including RecursionError on Python 3.6. It may also silently lead to incorrect behaviour on Python 3.7. Please monkey-patch earlier. See https://github.com/gevent/gevent/issues/1016. Modules that had direct imports (NOT patched): ['urllib3.util.ssl_ (/opt/amazon/lib/python3.7/site-packages/urllib3/util/ssl_.py)', 'urllib3.util (/opt/amazon/lib/python3.7/site-packages/urllib3/util/__init__.py)']. \n",
      "  monkey.patch_all(subprocess=True)\u001b[0m\n",
      "\u001b[35m/opt/amazon/lib/python3.7/site-packages/gunicorn/workers/ggevent.py:65: MonkeyPatchWarning: Monkey-patching ssl after ssl has already been imported may lead to errors, including RecursionError on Python 3.6. It may also silently lead to incorrect behaviour on Python 3.7. Please monkey-patch earlier. See https://github.com/gevent/gevent/issues/1016. Modules that had direct imports (NOT patched): ['urllib3.util.ssl_ (/opt/amazon/lib/python3.7/site-packages/urllib3/util/ssl_.py)', 'urllib3.util (/opt/amazon/lib/python3.7/site-packages/urllib3/util/__init__.py)']. \n",
      "  monkey.patch_all(subprocess=True)\u001b[0m\n",
      "\u001b[35m[2022-11-22:09:45:33:INFO] Model loaded successfully for worker : 21\u001b[0m\n",
      "\u001b[35m/opt/amazon/lib/python3.7/site-packages/gunicorn/workers/ggevent.py:65: MonkeyPatchWarning: Monkey-patching ssl after ssl has already been imported may lead to errors, including RecursionError on Python 3.6. It may also silently lead to incorrect behaviour on Python 3.7. Please monkey-patch earlier. See https://github.com/gevent/gevent/issues/1016. Modules that had direct imports (NOT patched): ['urllib3.util.ssl_ (/opt/amazon/lib/python3.7/site-packages/urllib3/util/ssl_.py)', 'urllib3.util (/opt/amazon/lib/python3.7/site-packages/urllib3/util/__init__.py)']. \n",
      "  monkey.patch_all(subprocess=True)\u001b[0m\n",
      "\u001b[35m[2022-11-22:09:45:33:INFO] Model loaded successfully for worker : 22\u001b[0m\n",
      "\u001b[35m[2022-11-22:09:45:33:INFO] Model loaded successfully for worker : 23\u001b[0m\n",
      "\u001b[35m/opt/amazon/lib/python3.7/site-packages/gunicorn/workers/ggevent.py:65: MonkeyPatchWarning: Monkey-patching ssl after ssl has already been imported may lead to errors, including RecursionError on Python 3.6. It may also silently lead to incorrect behaviour on Python 3.7. Please monkey-patch earlier. See https://github.com/gevent/gevent/issues/1016. Modules that had direct imports (NOT patched): ['urllib3.util.ssl_ (/opt/amazon/lib/python3.7/site-packages/urllib3/util/ssl_.py)', 'urllib3.util (/opt/amazon/lib/python3.7/site-packages/urllib3/util/__init__.py)']. \n",
      "  monkey.patch_all(subprocess=True)\u001b[0m\n",
      "\u001b[35m[2022-11-22:09:45:33:INFO] Model loaded successfully for worker : 24\u001b[0m\n",
      "\u001b[32m2022-11-22T09:45:37.269:[sagemaker logs]: MaxConcurrentTransforms=4, MaxPayloadInMB=6, BatchStrategy=MULTI_RECORD\u001b[0m\n",
      "\u001b[34m[2022-11-22:09:45:41:INFO] Sniff delimiter as ','\u001b[0m\n",
      "\u001b[34m[2022-11-22:09:45:41:INFO] Determined delimiter of CSV input is ','\u001b[0m\n",
      "\u001b[34m[2022-11-22:09:45:41:INFO] Sniff delimiter as ','\u001b[0m\n",
      "\u001b[34m[2022-11-22:09:45:41:INFO] Determined delimiter of CSV input is ','\u001b[0m\n",
      "\u001b[34m[2022-11-22:09:45:41:INFO] Sniff delimiter as ','\u001b[0m\n",
      "\u001b[34m[2022-11-22:09:45:41:INFO] Determined delimiter of CSV input is ','\u001b[0m\n",
      "\u001b[35m[2022-11-22:09:45:41:INFO] Sniff delimiter as ','\u001b[0m\n",
      "\u001b[35m[2022-11-22:09:45:41:INFO] Determined delimiter of CSV input is ','\u001b[0m\n",
      "\u001b[35m[2022-11-22:09:45:41:INFO] Sniff delimiter as ','\u001b[0m\n",
      "\u001b[35m[2022-11-22:09:45:41:INFO] Determined delimiter of CSV input is ','\u001b[0m\n",
      "\u001b[35m[2022-11-22:09:45:41:INFO] Sniff delimiter as ','\u001b[0m\n",
      "\u001b[35m[2022-11-22:09:45:41:INFO] Determined delimiter of CSV input is ','\u001b[0m\n",
      "\u001b[34m[2022-11-22:09:45:41:INFO] Sniff delimiter as ','\u001b[0m\n",
      "\u001b[34m[2022-11-22:09:45:41:INFO] Determined delimiter of CSV input is ','\u001b[0m\n",
      "\u001b[35m[2022-11-22:09:45:41:INFO] Sniff delimiter as ','\u001b[0m\n",
      "\u001b[35m[2022-11-22:09:45:41:INFO] Determined delimiter of CSV input is ','\u001b[0m\n",
      "\u001b[34m[2022-11-22:09:45:45:INFO] Sniff delimiter as ','\u001b[0m\n",
      "\u001b[34m[2022-11-22:09:45:45:INFO] Determined delimiter of CSV input is ','\u001b[0m\n",
      "\u001b[34m[2022-11-22:09:45:45:INFO] Sniff delimiter as ','\u001b[0m\n",
      "\u001b[34m[2022-11-22:09:45:45:INFO] Determined delimiter of CSV input is ','\u001b[0m\n",
      "\u001b[34m[2022-11-22:09:45:45:INFO] Sniff delimiter as ','\u001b[0m\n",
      "\u001b[35m[2022-11-22:09:45:45:INFO] Sniff delimiter as ','\u001b[0m\n",
      "\u001b[35m[2022-11-22:09:45:45:INFO] Determined delimiter of CSV input is ','\u001b[0m\n",
      "\u001b[35m[2022-11-22:09:45:45:INFO] Sniff delimiter as ','\u001b[0m\n",
      "\u001b[35m[2022-11-22:09:45:45:INFO] Determined delimiter of CSV input is ','\u001b[0m\n",
      "\u001b[35m[2022-11-22:09:45:45:INFO] Sniff delimiter as ','\u001b[0m\n",
      "\u001b[34m[2022-11-22:09:45:45:INFO] Determined delimiter of CSV input is ','\u001b[0m\n",
      "\u001b[34m[2022-11-22:09:45:45:INFO] Sniff delimiter as ','\u001b[0m\n",
      "\u001b[34m[2022-11-22:09:45:45:INFO] Determined delimiter of CSV input is ','\u001b[0m\n",
      "\u001b[35m[2022-11-22:09:45:45:INFO] Determined delimiter of CSV input is ','\u001b[0m\n",
      "\u001b[35m[2022-11-22:09:45:45:INFO] Sniff delimiter as ','\u001b[0m\n",
      "\u001b[35m[2022-11-22:09:45:45:INFO] Determined delimiter of CSV input is ','\u001b[0m\n",
      "\u001b[34m[2022-11-22:09:45:49:INFO] Sniff delimiter as ','\u001b[0m\n",
      "\u001b[34m[2022-11-22:09:45:49:INFO] Determined delimiter of CSV input is ','\u001b[0m\n",
      "\u001b[34m[2022-11-22:09:45:49:INFO] Sniff delimiter as ','\u001b[0m\n",
      "\u001b[34m[2022-11-22:09:45:49:INFO] Determined delimiter of CSV input is ','\u001b[0m\n",
      "\u001b[34m[2022-11-22:09:45:49:INFO] Sniff delimiter as ','\u001b[0m\n",
      "\u001b[34m[2022-11-22:09:45:49:INFO] Determined delimiter of CSV input is ','\u001b[0m\n",
      "\u001b[34m[2022-11-22:09:45:49:INFO] Sniff delimiter as ','\u001b[0m\n",
      "\u001b[34m[2022-11-22:09:45:49:INFO] Determined delimiter of CSV input is ','\u001b[0m\n",
      "\u001b[35m[2022-11-22:09:45:49:INFO] Sniff delimiter as ','\u001b[0m\n",
      "\u001b[35m[2022-11-22:09:45:49:INFO] Determined delimiter of CSV input is ','\u001b[0m\n",
      "\u001b[35m[2022-11-22:09:45:49:INFO] Sniff delimiter as ','\u001b[0m\n",
      "\u001b[35m[2022-11-22:09:45:49:INFO] Determined delimiter of CSV input is ','\u001b[0m\n",
      "\u001b[35m[2022-11-22:09:45:49:INFO] Sniff delimiter as ','\u001b[0m\n",
      "\u001b[35m[2022-11-22:09:45:49:INFO] Determined delimiter of CSV input is ','\u001b[0m\n",
      "\u001b[35m[2022-11-22:09:45:49:INFO] Sniff delimiter as ','\u001b[0m\n",
      "\u001b[35m[2022-11-22:09:45:49:INFO] Determined delimiter of CSV input is ','\u001b[0m\n",
      "\u001b[34m[2022-11-22:09:45:52:INFO] Sniff delimiter as ','\u001b[0m\n",
      "\u001b[34m[2022-11-22:09:45:52:INFO] Determined delimiter of CSV input is ','\u001b[0m\n",
      "\u001b[34m[2022-11-22:09:45:52:INFO] Sniff delimiter as ','\u001b[0m\n",
      "\u001b[34m[2022-11-22:09:45:52:INFO] Determined delimiter of CSV input is ','\u001b[0m\n",
      "\u001b[34m[2022-11-22:09:45:53:INFO] Sniff delimiter as ','\u001b[0m\n",
      "\u001b[34m[2022-11-22:09:45:53:INFO] Determined delimiter of CSV input is ','\u001b[0m\n",
      "\u001b[34m[2022-11-22:09:45:53:INFO] Sniff delimiter as ','\u001b[0m\n",
      "\u001b[34m[2022-11-22:09:45:53:INFO] Determined delimiter of CSV input is ','\u001b[0m\n",
      "\u001b[35m[2022-11-22:09:45:52:INFO] Sniff delimiter as ','\u001b[0m\n",
      "\u001b[35m[2022-11-22:09:45:52:INFO] Determined delimiter of CSV input is ','\u001b[0m\n",
      "\u001b[35m[2022-11-22:09:45:52:INFO] Sniff delimiter as ','\u001b[0m\n",
      "\u001b[35m[2022-11-22:09:45:52:INFO] Determined delimiter of CSV input is ','\u001b[0m\n",
      "\u001b[35m[2022-11-22:09:45:53:INFO] Sniff delimiter as ','\u001b[0m\n",
      "\u001b[35m[2022-11-22:09:45:53:INFO] Determined delimiter of CSV input is ','\u001b[0m\n",
      "\u001b[35m[2022-11-22:09:45:53:INFO] Sniff delimiter as ','\u001b[0m\n",
      "\u001b[35m[2022-11-22:09:45:53:INFO] Determined delimiter of CSV input is ','\u001b[0m\n",
      "\u001b[34m[2022-11-22:09:45:56:INFO] Sniff delimiter as ','\u001b[0m\n",
      "\u001b[34m[2022-11-22:09:45:56:INFO] Determined delimiter of CSV input is ','\u001b[0m\n",
      "\u001b[35m[2022-11-22:09:45:56:INFO] Sniff delimiter as ','\u001b[0m\n",
      "\u001b[35m[2022-11-22:09:45:56:INFO] Determined delimiter of CSV input is ','\u001b[0m\n",
      "\u001b[34m[2022-11-22:09:45:56:INFO] Sniff delimiter as ','\u001b[0m\n",
      "\u001b[35m[2022-11-22:09:45:56:INFO] Sniff delimiter as ','\u001b[0m\n",
      "\u001b[34m[2022-11-22:09:45:56:INFO] Determined delimiter of CSV input is ','\u001b[0m\n",
      "\u001b[34m[2022-11-22:09:45:56:INFO] Sniff delimiter as ','\u001b[0m\n",
      "\u001b[34m[2022-11-22:09:45:56:INFO] Determined delimiter of CSV input is ','\u001b[0m\n",
      "\u001b[34m[2022-11-22:09:45:57:INFO] Sniff delimiter as ','\u001b[0m\n",
      "\u001b[34m[2022-11-22:09:45:57:INFO] Determined delimiter of CSV input is ','\u001b[0m\n",
      "\u001b[35m[2022-11-22:09:45:56:INFO] Determined delimiter of CSV input is ','\u001b[0m\n",
      "\u001b[35m[2022-11-22:09:45:56:INFO] Sniff delimiter as ','\u001b[0m\n",
      "\u001b[35m[2022-11-22:09:45:56:INFO] Determined delimiter of CSV input is ','\u001b[0m\n",
      "\u001b[35m[2022-11-22:09:45:57:INFO] Sniff delimiter as ','\u001b[0m\n",
      "\u001b[35m[2022-11-22:09:45:57:INFO] Determined delimiter of CSV input is ','\u001b[0m\n",
      "\u001b[34m[2022-11-22:09:46:00:INFO] Sniff delimiter as ','\u001b[0m\n",
      "\u001b[34m[2022-11-22:09:46:00:INFO] Determined delimiter of CSV input is ','\u001b[0m\n",
      "\u001b[34m[2022-11-22:09:46:00:INFO] Sniff delimiter as ','\u001b[0m\n",
      "\u001b[34m[2022-11-22:09:46:00:INFO] Determined delimiter of CSV input is ','\u001b[0m\n",
      "\u001b[35m[2022-11-22:09:46:00:INFO] Sniff delimiter as ','\u001b[0m\n",
      "\u001b[35m[2022-11-22:09:46:00:INFO] Determined delimiter of CSV input is ','\u001b[0m\n",
      "\u001b[35m[2022-11-22:09:46:00:INFO] Sniff delimiter as ','\u001b[0m\n",
      "\u001b[35m[2022-11-22:09:46:00:INFO] Determined delimiter of CSV input is ','\u001b[0m\n",
      "\u001b[34m[2022-11-22:09:46:00:INFO] Sniff delimiter as ','\u001b[0m\n",
      "\u001b[34m[2022-11-22:09:46:00:INFO] Determined delimiter of CSV input is ','\u001b[0m\n",
      "\u001b[35m[2022-11-22:09:46:00:INFO] Sniff delimiter as ','\u001b[0m\n",
      "\u001b[35m[2022-11-22:09:46:00:INFO] Determined delimiter of CSV input is ','\u001b[0m\n",
      "\u001b[34m[2022-11-22:09:46:00:INFO] Sniff delimiter as ','\u001b[0m\n",
      "\u001b[34m[2022-11-22:09:46:00:INFO] Determined delimiter of CSV input is ','\u001b[0m\n",
      "\u001b[35m[2022-11-22:09:46:00:INFO] Sniff delimiter as ','\u001b[0m\n",
      "\u001b[35m[2022-11-22:09:46:00:INFO] Determined delimiter of CSV input is ','\u001b[0m\n",
      "\u001b[34m[2022-11-22:09:46:04:INFO] Sniff delimiter as ','\u001b[0m\n",
      "\u001b[35m[2022-11-22:09:46:04:INFO] Sniff delimiter as ','\u001b[0m\n",
      "\u001b[34m[2022-11-22:09:46:04:INFO] Determined delimiter of CSV input is ','\u001b[0m\n",
      "\u001b[34m[2022-11-22:09:46:04:INFO] Sniff delimiter as ','\u001b[0m\n",
      "\u001b[34m[2022-11-22:09:46:04:INFO] Determined delimiter of CSV input is ','\u001b[0m\n",
      "\u001b[34m[2022-11-22:09:46:04:INFO] Sniff delimiter as ','\u001b[0m\n",
      "\u001b[34m[2022-11-22:09:46:04:INFO] Determined delimiter of CSV input is ','\u001b[0m\n",
      "\u001b[35m[2022-11-22:09:46:04:INFO] Determined delimiter of CSV input is ','\u001b[0m\n",
      "\u001b[35m[2022-11-22:09:46:04:INFO] Sniff delimiter as ','\u001b[0m\n",
      "\u001b[35m[2022-11-22:09:46:04:INFO] Determined delimiter of CSV input is ','\u001b[0m\n",
      "\u001b[35m[2022-11-22:09:46:04:INFO] Sniff delimiter as ','\u001b[0m\n",
      "\u001b[35m[2022-11-22:09:46:04:INFO] Determined delimiter of CSV input is ','\u001b[0m\n",
      "\u001b[34m[2022-11-22:09:46:04:INFO] Sniff delimiter as ','\u001b[0m\n",
      "\u001b[34m[2022-11-22:09:46:04:INFO] Determined delimiter of CSV input is ','\u001b[0m\n",
      "\u001b[35m[2022-11-22:09:46:04:INFO] Sniff delimiter as ','\u001b[0m\n",
      "\u001b[35m[2022-11-22:09:46:04:INFO] Determined delimiter of CSV input is ','\u001b[0m\n",
      "\u001b[34m[2022-11-22:09:46:07:INFO] Sniff delimiter as ','\u001b[0m\n",
      "\u001b[34m[2022-11-22:09:46:07:INFO] Determined delimiter of CSV input is ','\u001b[0m\n",
      "\u001b[34m[2022-11-22:09:46:08:INFO] Sniff delimiter as ','\u001b[0m\n",
      "\u001b[34m[2022-11-22:09:46:08:INFO] Determined delimiter of CSV input is ','\u001b[0m\n",
      "\u001b[34m[2022-11-22:09:46:08:INFO] Sniff delimiter as ','\u001b[0m\n",
      "\u001b[35m[2022-11-22:09:46:07:INFO] Sniff delimiter as ','\u001b[0m\n",
      "\u001b[35m[2022-11-22:09:46:07:INFO] Determined delimiter of CSV input is ','\u001b[0m\n",
      "\u001b[35m[2022-11-22:09:46:08:INFO] Sniff delimiter as ','\u001b[0m\n",
      "\u001b[35m[2022-11-22:09:46:08:INFO] Determined delimiter of CSV input is ','\u001b[0m\n",
      "\u001b[35m[2022-11-22:09:46:08:INFO] Sniff delimiter as ','\u001b[0m\n",
      "\u001b[34m[2022-11-22:09:46:08:INFO] Determined delimiter of CSV input is ','\u001b[0m\n",
      "\u001b[34m[2022-11-22:09:46:08:INFO] Sniff delimiter as ','\u001b[0m\n",
      "\u001b[34m[2022-11-22:09:46:08:INFO] Determined delimiter of CSV input is ','\u001b[0m\n",
      "\u001b[35m[2022-11-22:09:46:08:INFO] Determined delimiter of CSV input is ','\u001b[0m\n",
      "\u001b[35m[2022-11-22:09:46:08:INFO] Sniff delimiter as ','\u001b[0m\n",
      "\u001b[35m[2022-11-22:09:46:08:INFO] Determined delimiter of CSV input is ','\u001b[0m\n",
      "\u001b[34m[2022-11-22:09:46:11:INFO] Sniff delimiter as ','\u001b[0m\n",
      "\u001b[34m[2022-11-22:09:46:11:INFO] Determined delimiter of CSV input is ','\u001b[0m\n",
      "\u001b[34m[2022-11-22:09:46:11:INFO] Sniff delimiter as ','\u001b[0m\n",
      "\u001b[34m[2022-11-22:09:46:11:INFO] Determined delimiter of CSV input is ','\u001b[0m\n",
      "\u001b[34m[2022-11-22:09:46:12:INFO] Sniff delimiter as ','\u001b[0m\n",
      "\u001b[34m[2022-11-22:09:46:12:INFO] Determined delimiter of CSV input is ','\u001b[0m\n",
      "\u001b[34m[2022-11-22:09:46:12:INFO] Sniff delimiter as ','\u001b[0m\n",
      "\u001b[34m[2022-11-22:09:46:12:INFO] Determined delimiter of CSV input is ','\u001b[0m\n",
      "\u001b[35m[2022-11-22:09:46:11:INFO] Sniff delimiter as ','\u001b[0m\n",
      "\u001b[35m[2022-11-22:09:46:11:INFO] Determined delimiter of CSV input is ','\u001b[0m\n",
      "\u001b[35m[2022-11-22:09:46:11:INFO] Sniff delimiter as ','\u001b[0m\n",
      "\u001b[35m[2022-11-22:09:46:11:INFO] Determined delimiter of CSV input is ','\u001b[0m\n",
      "\u001b[35m[2022-11-22:09:46:12:INFO] Sniff delimiter as ','\u001b[0m\n",
      "\u001b[35m[2022-11-22:09:46:12:INFO] Determined delimiter of CSV input is ','\u001b[0m\n",
      "\u001b[35m[2022-11-22:09:46:12:INFO] Sniff delimiter as ','\u001b[0m\n",
      "\u001b[35m[2022-11-22:09:46:12:INFO] Determined delimiter of CSV input is ','\u001b[0m\n",
      "\u001b[34m[2022-11-22:09:46:15:INFO] Sniff delimiter as ','\u001b[0m\n",
      "\u001b[34m[2022-11-22:09:46:15:INFO] Determined delimiter of CSV input is ','\u001b[0m\n",
      "\u001b[35m[2022-11-22:09:46:15:INFO] Sniff delimiter as ','\u001b[0m\n",
      "\u001b[35m[2022-11-22:09:46:15:INFO] Determined delimiter of CSV input is ','\u001b[0m\n",
      "\u001b[34m[2022-11-22:09:46:15:INFO] Sniff delimiter as ','\u001b[0m\n",
      "\u001b[34m[2022-11-22:09:46:15:INFO] Determined delimiter of CSV input is ','\u001b[0m\n",
      "\u001b[34m[2022-11-22:09:46:16:INFO] Sniff delimiter as ','\u001b[0m\n",
      "\u001b[34m[2022-11-22:09:46:16:INFO] Determined delimiter of CSV input is ','\u001b[0m\n",
      "\u001b[34m[2022-11-22:09:46:16:INFO] Sniff delimiter as ','\u001b[0m\n",
      "\u001b[34m[2022-11-22:09:46:16:INFO] Determined delimiter of CSV input is ','\u001b[0m\n",
      "\u001b[35m[2022-11-22:09:46:15:INFO] Sniff delimiter as ','\u001b[0m\n",
      "\u001b[35m[2022-11-22:09:46:15:INFO] Determined delimiter of CSV input is ','\u001b[0m\n",
      "\u001b[35m[2022-11-22:09:46:16:INFO] Sniff delimiter as ','\u001b[0m\n",
      "\u001b[35m[2022-11-22:09:46:16:INFO] Determined delimiter of CSV input is ','\u001b[0m\n",
      "\u001b[35m[2022-11-22:09:46:16:INFO] Sniff delimiter as ','\u001b[0m\n",
      "\u001b[35m[2022-11-22:09:46:16:INFO] Determined delimiter of CSV input is ','\u001b[0m\n"
     ]
    }
   ],
   "source": [
    "xgb_transformer.wait()"
   ]
  },
  {
   "cell_type": "markdown",
   "metadata": {},
   "source": [
    "Now the transform job has executed and the result, the estimated sentiment of each review, has been saved on S3. Since we would rather work on this file locally we can perform a bit of notebook magic to copy the file to the `data_dir`."
   ]
  },
  {
   "cell_type": "code",
   "execution_count": 37,
   "metadata": {},
   "outputs": [
    {
     "name": "stdout",
     "output_type": "stream",
     "text": [
      "download: s3://sagemaker-us-east-1-077073585279/xgboost-2022-11-22-09-39-54-524/test.csv.out to ../data/xgboost/test.csv.out\n"
     ]
    }
   ],
   "source": [
    "!aws s3 cp --recursive $xgb_transformer.output_path $data_dir"
   ]
  },
  {
   "cell_type": "markdown",
   "metadata": {},
   "source": [
    "The last step is now to read in the output from our model, convert the output to something a little more usable, in this case we want the sentiment to be either `1` (positive) or `0` (negative), and then compare to the ground truth labels."
   ]
  },
  {
   "cell_type": "code",
   "execution_count": 38,
   "metadata": {},
   "outputs": [],
   "source": [
    "predictions = pd.read_csv(os.path.join(data_dir, 'test.csv.out'), header=None)\n",
    "predictions = [round(num) for num in predictions.squeeze().values]"
   ]
  },
  {
   "cell_type": "code",
   "execution_count": 39,
   "metadata": {},
   "outputs": [
    {
     "data": {
      "text/plain": [
       "0.85188"
      ]
     },
     "execution_count": 39,
     "metadata": {},
     "output_type": "execute_result"
    }
   ],
   "source": [
    "from sklearn.metrics import accuracy_score\n",
    "accuracy_score(test_y, predictions)"
   ]
  },
  {
   "cell_type": "markdown",
   "metadata": {},
   "source": [
    "## Optional: Clean up\n",
    "\n",
    "The default notebook instance on SageMaker doesn't have a lot of excess disk space available. As you continue to complete and execute notebooks you will eventually fill up this disk space, leading to errors which can be difficult to diagnose. Once you are completely finished using a notebook it is a good idea to remove the files that you created along the way. Of course, you can do this from the terminal or from the notebook hub if you would like. The cell below contains some commands to clean up the created files from within the notebook."
   ]
  },
  {
   "cell_type": "code",
   "execution_count": 41,
   "metadata": {},
   "outputs": [
    {
     "name": "stdout",
     "output_type": "stream",
     "text": [
      "rm: cannot remove ‘../data/xgboost/*’: No such file or directory\n",
      "rmdir: failed to remove ‘../data/xgboost’: No such file or directory\n",
      "rm: cannot remove ‘../cache/sentiment_analysis/*’: No such file or directory\n",
      "rmdir: failed to remove ‘../cache/sentiment_analysis’: No such file or directory\n"
     ]
    }
   ],
   "source": [
    "# First we will remove all of the files contained in the data_dir directory\n",
    "!rm $data_dir/*\n",
    "\n",
    "# And then we delete the directory itself\n",
    "!rmdir $data_dir\n",
    "\n",
    "# Similarly we will remove the files in the cache_dir directory and the directory itself\n",
    "!rm $cache_dir/*\n",
    "!rmdir $cache_dir"
   ]
  },
  {
   "cell_type": "code",
   "execution_count": null,
   "metadata": {},
   "outputs": [],
   "source": []
  }
 ],
 "metadata": {
  "kernelspec": {
   "display_name": "Python 3 (ipykernel)",
   "language": "python",
   "name": "python3"
  },
  "language_info": {
   "codemirror_mode": {
    "name": "ipython",
    "version": 3
   },
   "file_extension": ".py",
   "mimetype": "text/x-python",
   "name": "python",
   "nbconvert_exporter": "python",
   "pygments_lexer": "ipython3",
   "version": "3.7.13"
  }
 },
 "nbformat": 4,
 "nbformat_minor": 4
}
