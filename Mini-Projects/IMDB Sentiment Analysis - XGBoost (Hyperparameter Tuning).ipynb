{
 "cells": [
  {
   "cell_type": "markdown",
   "metadata": {},
   "source": [
    "# Sentiment Analysis\n",
    "\n",
    "## Using XGBoost in SageMaker\n",
    "\n",
    "_Deep Learning Nanodegree Program | Deployment_\n",
    "\n",
    "---\n",
    "\n",
    "In this example of using Amazon's SageMaker service we will construct a random tree model to predict the sentiment of a movie review. You may have seen a version of this example in a pervious lesson although it would have been done using the sklearn package. Instead, we will be using the XGBoost package as it is provided to us by Amazon.\n",
    "\n",
    "## Instructions\n",
    "\n",
    "Some template code has already been provided for you, and you will need to implement additional functionality to successfully complete this notebook. You will not need to modify the included code beyond what is requested. Sections that begin with '**TODO**' in the header indicate that you need to complete or implement some portion within them. Instructions will be provided for each section and the specifics of the implementation are marked in the code block with a `# TODO: ...` comment. Please be sure to read the instructions carefully!\n",
    "\n",
    "In addition to implementing code, there will be questions for you to answer which relate to the task and your implementation. Each section where you will answer a question is preceded by a '**Question:**' header. Carefully read each question and provide your answer below the '**Answer:**' header by editing the Markdown cell.\n",
    "\n",
    "> **Note**: Code and Markdown cells can be executed using the **Shift+Enter** keyboard shortcut. In addition, a cell can be edited by typically clicking it (double-click for Markdown cells) or by pressing **Enter** while it is highlighted."
   ]
  },
  {
   "cell_type": "code",
   "execution_count": null,
   "metadata": {},
   "outputs": [],
   "source": [
    "# Make sure that we use SageMaker 1.x\n",
    "!pip install sagemaker==1.72.0"
   ]
  },
  {
   "cell_type": "markdown",
   "metadata": {},
   "source": [
    "## Step 1: Downloading the data\n",
    "\n",
    "The dataset we are going to use is very popular among researchers in Natural Language Processing, usually referred to as the [IMDb dataset](http://ai.stanford.edu/~amaas/data/sentiment/). It consists of movie reviews from the website [imdb.com](http://www.imdb.com/), each labeled as either '**pos**itive', if the reviewer enjoyed the film, or '**neg**ative' otherwise.\n",
    "\n",
    "> Maas, Andrew L., et al. [Learning Word Vectors for Sentiment Analysis](http://ai.stanford.edu/~amaas/data/sentiment/). In _Proceedings of the 49th Annual Meeting of the Association for Computational Linguistics: Human Language Technologies_. Association for Computational Linguistics, 2011.\n",
    "\n",
    "We begin by using some Jupyter Notebook magic to download and extract the dataset."
   ]
  },
  {
   "cell_type": "code",
   "execution_count": 1,
   "metadata": {},
   "outputs": [
    {
     "name": "stdout",
     "output_type": "stream",
     "text": [
      "mkdir: cannot create directory ‘../data’: File exists\n",
      "--2022-11-24 08:55:53--  http://ai.stanford.edu/~amaas/data/sentiment/aclImdb_v1.tar.gz\n",
      "Resolving ai.stanford.edu (ai.stanford.edu)... 171.64.68.10\n",
      "Connecting to ai.stanford.edu (ai.stanford.edu)|171.64.68.10|:80... connected.\n",
      "HTTP request sent, awaiting response... 200 OK\n",
      "Length: 84125825 (80M) [application/x-gzip]\n",
      "Saving to: ‘../data/aclImdb_v1.tar.gz’\n",
      "\n",
      "100%[======================================>] 84,125,825  22.3MB/s   in 6.4s   \n",
      "\n",
      "2022-11-24 08:56:00 (12.5 MB/s) - ‘../data/aclImdb_v1.tar.gz’ saved [84125825/84125825]\n",
      "\n"
     ]
    }
   ],
   "source": [
    "%mkdir ../data\n",
    "!wget -O ../data/aclImdb_v1.tar.gz http://ai.stanford.edu/~amaas/data/sentiment/aclImdb_v1.tar.gz\n",
    "!tar -zxf ../data/aclImdb_v1.tar.gz -C ../data"
   ]
  },
  {
   "cell_type": "markdown",
   "metadata": {},
   "source": [
    "## Step 2: Preparing the data\n",
    "\n",
    "The data we have downloaded is split into various files, each of which contains a single review. It will be much easier going forward if we combine these individual files into two large files, one for training and one for testing."
   ]
  },
  {
   "cell_type": "code",
   "execution_count": 27,
   "metadata": {},
   "outputs": [],
   "source": [
    "import os\n",
    "import glob\n",
    "\n",
    "def read_imdb_data(data_dir='../data/aclImdb'):\n",
    "    data = {}\n",
    "    labels = {}\n",
    "    \n",
    "    for data_type in ['train', 'test']:\n",
    "        data[data_type] = {}\n",
    "        labels[data_type] = {}\n",
    "        \n",
    "        for sentiment in ['pos', 'neg']:\n",
    "            data[data_type][sentiment] = []\n",
    "            labels[data_type][sentiment] = []\n",
    "            \n",
    "            path = os.path.join(data_dir, data_type, sentiment, '*.txt')\n",
    "            files = glob.glob(path)\n",
    "            \n",
    "            for f in files:\n",
    "                with open(f) as review:\n",
    "                    data[data_type][sentiment].append(review.read())\n",
    "                    # Here we represent a positive review by '1' and a negative review by '0'\n",
    "                    labels[data_type][sentiment].append(1 if sentiment == 'pos' else 0)\n",
    "                    \n",
    "            assert len(data[data_type][sentiment]) == len(labels[data_type][sentiment]), \\\n",
    "                    \"{}/{} data size does not match labels size\".format(data_type, sentiment)\n",
    "                \n",
    "    return data, labels"
   ]
  },
  {
   "cell_type": "code",
   "execution_count": 28,
   "metadata": {},
   "outputs": [
    {
     "name": "stdout",
     "output_type": "stream",
     "text": [
      "IMDB reviews: train = 12500 pos / 12500 neg, test = 12500 pos / 12500 neg\n"
     ]
    }
   ],
   "source": [
    "data, labels = read_imdb_data()\n",
    "print(\"IMDB reviews: train = {} pos / {} neg, test = {} pos / {} neg\".format(\n",
    "            len(data['train']['pos']), len(data['train']['neg']),\n",
    "            len(data['test']['pos']), len(data['test']['neg'])))"
   ]
  },
  {
   "cell_type": "code",
   "execution_count": 29,
   "metadata": {},
   "outputs": [],
   "source": [
    "from sklearn.utils import shuffle\n",
    "\n",
    "def prepare_imdb_data(data, labels):\n",
    "    \"\"\"Prepare training and test sets from IMDb movie reviews.\"\"\"\n",
    "    \n",
    "    #Combine positive and negative reviews and labels\n",
    "    data_train = data['train']['pos'] + data['train']['neg']\n",
    "    data_test = data['test']['pos'] + data['test']['neg']\n",
    "    labels_train = labels['train']['pos'] + labels['train']['neg']\n",
    "    labels_test = labels['test']['pos'] + labels['test']['neg']\n",
    "    \n",
    "    #Shuffle reviews and corresponding labels within training and test sets\n",
    "    data_train, labels_train = shuffle(data_train, labels_train)\n",
    "    data_test, labels_test = shuffle(data_test, labels_test)\n",
    "    \n",
    "    # Return a unified training data, test data, training labels, test labets\n",
    "    return data_train, data_test, labels_train, labels_test"
   ]
  },
  {
   "cell_type": "code",
   "execution_count": 30,
   "metadata": {},
   "outputs": [
    {
     "name": "stdout",
     "output_type": "stream",
     "text": [
      "IMDb reviews (combined): train = 25000, test = 25000\n"
     ]
    }
   ],
   "source": [
    "train_X, test_X, train_y, test_y = prepare_imdb_data(data, labels)\n",
    "print(\"IMDb reviews (combined): train = {}, test = {}\".format(len(train_X), len(test_X)))"
   ]
  },
  {
   "cell_type": "code",
   "execution_count": 31,
   "metadata": {},
   "outputs": [
    {
     "data": {
      "text/plain": [
       "\"What can you say when you see a good French movie which tries to draw a suspenseful story in line with the social background of the characters? The major point is we believe in those characters and once they've met each other we want them to stay together. It's simple and really efficient. The background story is less important. Why does the screenplay go on the side of a half-developed thriller? It helps not to get stuck in those social demonstrations most French film-jerkers like to make. Not too much ambition, right: Sur mes lèvres is only an entertaining French film with good characterization.<br /><br />For all the clever noir points in the screenplay the end is by far too easy. It goes quite as easy as in Rear Window (an obvious reference and definitely not a noir film) but with a less compelling context. Where I am amazed it's to see that the character of the probation officer has not been erased. He brings very little to the story; when he appears alone we wonder if we've not missed a part before. Jacques Audiard is not a new-comer yet. Strange and weird.\""
      ]
     },
     "execution_count": 31,
     "metadata": {},
     "output_type": "execute_result"
    }
   ],
   "source": [
    "train_X[100]"
   ]
  },
  {
   "cell_type": "markdown",
   "metadata": {},
   "source": [
    "## Step 3: Processing the data\n",
    "\n",
    "Now that we have our training and testing datasets merged and ready to use, we need to start processing the raw data into something that will be useable by our machine learning algorithm. To begin with, we remove any html formatting that may appear in the reviews and perform some standard natural language processing in order to homogenize the data."
   ]
  },
  {
   "cell_type": "code",
   "execution_count": 6,
   "metadata": {},
   "outputs": [
    {
     "name": "stderr",
     "output_type": "stream",
     "text": [
      "[nltk_data] Downloading package stopwords to\n",
      "[nltk_data]     /home/ec2-user/nltk_data...\n",
      "[nltk_data]   Unzipping corpora/stopwords.zip.\n"
     ]
    }
   ],
   "source": [
    "import nltk\n",
    "nltk.download(\"stopwords\")\n",
    "from nltk.corpus import stopwords\n",
    "from nltk.stem.porter import *\n",
    "stemmer = PorterStemmer()"
   ]
  },
  {
   "cell_type": "code",
   "execution_count": 7,
   "metadata": {},
   "outputs": [],
   "source": [
    "import re\n",
    "from bs4 import BeautifulSoup\n",
    "\n",
    "def review_to_words(review):\n",
    "    text = BeautifulSoup(review, \"html.parser\").get_text() # Remove HTML tags\n",
    "    text = re.sub(r\"[^a-zA-Z0-9]\", \" \", text.lower()) # Convert to lower case\n",
    "    words = text.split() # Split string into words\n",
    "    words = [w for w in words if w not in stopwords.words(\"english\")] # Remove stopwords\n",
    "    words = [PorterStemmer().stem(w) for w in words] # stem\n",
    "    \n",
    "    return words"
   ]
  },
  {
   "cell_type": "code",
   "execution_count": 32,
   "metadata": {},
   "outputs": [],
   "source": [
    "import pickle\n",
    "\n",
    "cache_dir = os.path.join(\"../cache\", \"sentiment_analysis\")  # where to store cache files\n",
    "os.makedirs(cache_dir, exist_ok=True)  # ensure cache directory exists\n",
    "\n",
    "def preprocess_data(data_train, data_test, labels_train, labels_test,\n",
    "                    cache_dir=cache_dir, cache_file=\"preprocessed_data.pkl\"):\n",
    "    \"\"\"Convert each review to words; read from cache if available.\"\"\"\n",
    "\n",
    "    # If cache_file is not None, try to read from it first\n",
    "    cache_data = None\n",
    "    if cache_file is not None:\n",
    "        try:\n",
    "            with open(os.path.join(cache_dir, cache_file), \"rb\") as f:\n",
    "                cache_data = pickle.load(f)\n",
    "            print(\"Read preprocessed data from cache file:\", cache_file)\n",
    "        except:\n",
    "            pass  # unable to read from cache, but that's okay\n",
    "    \n",
    "    # If cache is missing, then do the heavy lifting\n",
    "    if cache_data is None:\n",
    "        # Preprocess training and test data to obtain words for each review\n",
    "        #words_train = list(map(review_to_words, data_train))\n",
    "        #words_test = list(map(review_to_words, data_test))\n",
    "        words_train = [review_to_words(review) for review in data_train]\n",
    "        words_test = [review_to_words(review) for review in data_test]\n",
    "        \n",
    "        # Write to cache file for future runs\n",
    "        if cache_file is not None:\n",
    "            cache_data = dict(words_train=words_train, words_test=words_test,\n",
    "                              labels_train=labels_train, labels_test=labels_test)\n",
    "            with open(os.path.join(cache_dir, cache_file), \"wb\") as f:\n",
    "                pickle.dump(cache_data, f)\n",
    "            print(\"Wrote preprocessed data to cache file:\", cache_file)\n",
    "    else:\n",
    "        # Unpack data loaded from cache file\n",
    "        words_train, words_test, labels_train, labels_test = (cache_data['words_train'],\n",
    "                cache_data['words_test'], cache_data['labels_train'], cache_data['labels_test'])\n",
    "    \n",
    "    return words_train, words_test, labels_train, labels_test"
   ]
  },
  {
   "cell_type": "code",
   "execution_count": 33,
   "metadata": {},
   "outputs": [
    {
     "name": "stdout",
     "output_type": "stream",
     "text": [
      "Read preprocessed data from cache file: preprocessed_data.pkl\n"
     ]
    }
   ],
   "source": [
    "# Preprocess data\n",
    "train_X, test_X, train_y, test_y = preprocess_data(train_X, test_X, train_y, test_y)"
   ]
  },
  {
   "cell_type": "markdown",
   "metadata": {},
   "source": [
    "### Extract Bag-of-Words features\n",
    "\n",
    "For the model we will be implementing, rather than using the reviews directly, we are going to transform each review into a Bag-of-Words feature representation. Keep in mind that 'in the wild' we will only have access to the training set so our transformer can only use the training set to construct a representation."
   ]
  },
  {
   "cell_type": "code",
   "execution_count": 34,
   "metadata": {},
   "outputs": [],
   "source": [
    "import numpy as np\n",
    "from sklearn.feature_extraction.text import CountVectorizer\n",
    "#from sklearn.externals import joblib\n",
    "import joblib\n",
    "# joblib is an enhanced version of pickle that is more efficient for storing NumPy arrays\n",
    "\n",
    "def extract_BoW_features(words_train, words_test, vocabulary_size=5000,\n",
    "                         cache_dir=cache_dir, cache_file=\"bow_features.pkl\"):\n",
    "    \"\"\"Extract Bag-of-Words for a given set of documents, already preprocessed into words.\"\"\"\n",
    "    \n",
    "    # If cache_file is not None, try to read from it first\n",
    "    cache_data = None\n",
    "    if cache_file is not None:\n",
    "        try:\n",
    "            with open(os.path.join(cache_dir, cache_file), \"rb\") as f:\n",
    "                cache_data = joblib.load(f)\n",
    "            print(\"Read features from cache file:\", cache_file)\n",
    "        except:\n",
    "            pass  # unable to read from cache, but that's okay\n",
    "    \n",
    "    # If cache is missing, then do the heavy lifting\n",
    "    if cache_data is None:\n",
    "        # Fit a vectorizer to training documents and use it to transform them\n",
    "        # NOTE: Training documents have already been preprocessed and tokenized into words;\n",
    "        #       pass in dummy functions to skip those steps, e.g. preprocessor=lambda x: x\n",
    "        vectorizer = CountVectorizer(max_features=vocabulary_size,\n",
    "                preprocessor=lambda x: x, tokenizer=lambda x: x)  # already preprocessed\n",
    "        features_train = vectorizer.fit_transform(words_train).toarray()\n",
    "\n",
    "        # Apply the same vectorizer to transform the test documents (ignore unknown words)\n",
    "        features_test = vectorizer.transform(words_test).toarray()\n",
    "        \n",
    "        # NOTE: Remember to convert the features using .toarray() for a compact representation\n",
    "        \n",
    "        # Write to cache file for future runs (store vocabulary as well)\n",
    "        if cache_file is not None:\n",
    "            vocabulary = vectorizer.vocabulary_\n",
    "            cache_data = dict(features_train=features_train, features_test=features_test,\n",
    "                             vocabulary=vocabulary)\n",
    "            with open(os.path.join(cache_dir, cache_file), \"wb\") as f:\n",
    "                joblib.dump(cache_data, f)\n",
    "            print(\"Wrote features to cache file:\", cache_file)\n",
    "    else:\n",
    "        # Unpack data loaded from cache file\n",
    "        features_train, features_test, vocabulary = (cache_data['features_train'],\n",
    "                cache_data['features_test'], cache_data['vocabulary'])\n",
    "    \n",
    "    # Return both the extracted features as well as the vocabulary\n",
    "    return features_train, features_test, vocabulary"
   ]
  },
  {
   "cell_type": "code",
   "execution_count": 35,
   "metadata": {},
   "outputs": [
    {
     "name": "stdout",
     "output_type": "stream",
     "text": [
      "Read features from cache file: bow_features.pkl\n"
     ]
    }
   ],
   "source": [
    "# Extract Bag of Words features for both training and test datasets\n",
    "train_X, test_X, vocabulary = extract_BoW_features(train_X, test_X)"
   ]
  },
  {
   "cell_type": "markdown",
   "metadata": {},
   "source": [
    "## Step 4: Classification using XGBoost\n",
    "\n",
    "Now that we have created the feature representation of our training (and testing) data, it is time to start setting up and using the XGBoost classifier provided by SageMaker.\n",
    "\n",
    "### Writing the dataset\n",
    "\n",
    "The XGBoost classifier that we will be using requires the dataset to be written to a file and stored using Amazon S3. To do this, we will start by splitting the training dataset into two parts, the data we will train the model with and a validation set. Then, we will write those datasets to a file and upload the files to S3. In addition, we will write the test set input to a file and upload the file to S3. This is so that we can use SageMakers Batch Transform functionality to test our model once we've fit it."
   ]
  },
  {
   "cell_type": "code",
   "execution_count": 36,
   "metadata": {},
   "outputs": [],
   "source": [
    "import pandas as pd\n",
    "\n",
    "val_X = pd.DataFrame(train_X[:10000])\n",
    "train_X = pd.DataFrame(train_X[10000:])\n",
    "\n",
    "val_y = pd.DataFrame(train_y[:10000])\n",
    "train_y = pd.DataFrame(train_y[10000:])\n",
    "\n",
    "test_y = pd.DataFrame(test_y)\n",
    "test_X = pd.DataFrame(test_X)"
   ]
  },
  {
   "cell_type": "markdown",
   "metadata": {},
   "source": [
    "The documentation for the XGBoost algorithm in SageMaker requires that the saved datasets should contain no headers or index and that for the training and validation data, the label should occur first for each sample.\n",
    "\n",
    "For more information about this and other algorithms, the SageMaker developer documentation can be found on __[Amazon's website.](https://docs.aws.amazon.com/sagemaker/latest/dg/)__"
   ]
  },
  {
   "cell_type": "code",
   "execution_count": 37,
   "metadata": {},
   "outputs": [],
   "source": [
    "# First we make sure that the local directory in which we'd like to store the training and validation csv files exists.\n",
    "data_dir = '../data/xgboost'\n",
    "if not os.path.exists(data_dir):\n",
    "    os.makedirs(data_dir)"
   ]
  },
  {
   "cell_type": "code",
   "execution_count": 38,
   "metadata": {},
   "outputs": [],
   "source": [
    "# First, save the test data to test.csv in the data_dir directory. Note that we do not save the associated ground truth\n",
    "# labels, instead we will use them later to compare with our model output.\n",
    "\n",
    "# Also, for the train and\n",
    "# validation data, it is assumed that the first entry in each row is the target variable.\n",
    "# BUT NOT for the test dataset split!!\n",
    "#pd.concat([test_y, test_X], axis=1).to_csv(os.path.join(data_dir, 'test.csv'), header=False, index=False)\n",
    "pd.DataFrame(test_X).to_csv(os.path.join(data_dir, 'test.csv'), header=False, index=False)\n",
    "pd.concat([val_y, val_X], axis=1).to_csv(os.path.join(data_dir, 'validation.csv'), header=False, index=False)\n",
    "pd.concat([train_y, train_X], axis=1).to_csv(os.path.join(data_dir, 'train.csv'), header=False, index=False)"
   ]
  },
  {
   "cell_type": "code",
   "execution_count": 39,
   "metadata": {},
   "outputs": [],
   "source": [
    "# To save a bit of memory we can set text_X, train_X, val_X, train_y and val_y to None.\n",
    "\n",
    "train_X = val_X = train_y = val_y = None"
   ]
  },
  {
   "cell_type": "markdown",
   "metadata": {},
   "source": [
    "### Uploading Training / Validation files to S3\n",
    "\n",
    "Amazon's S3 service allows us to store files that can be access by both the built-in training models such as the XGBoost model we will be using as well as custom models such as the one we will see a little later.\n",
    "\n",
    "For this, and most other tasks we will be doing using SageMaker, there are two methods we could use. The first is to use the low level functionality of SageMaker which requires knowing each of the objects involved in the SageMaker environment. The second is to use the high level functionality in which certain choices have been made on the user's behalf. The low level approach benefits from allowing the user a great deal of flexibility while the high level approach makes development much quicker. For our purposes we will opt to use the high level approach although using the low-level approach is certainly an option.\n",
    "\n",
    "Recall the method `upload_data()` which is a member of object representing our current SageMaker session. What this method does is upload the data to the default bucket (which is created if it does not exist) into the path described by the key_prefix variable. To see this for yourself, once you have uploaded the data files, go to the S3 console and look to see where the files have been uploaded.\n",
    "\n",
    "For additional resources, see the __[SageMaker API documentation](http://sagemaker.readthedocs.io/en/latest/)__ and in addition the __[SageMaker Developer Guide.](https://docs.aws.amazon.com/sagemaker/latest/dg/)__"
   ]
  },
  {
   "cell_type": "code",
   "execution_count": 43,
   "metadata": {},
   "outputs": [],
   "source": [
    "import sagemaker\n",
    "\n",
    "session = sagemaker.Session() # Store the current SageMaker session\n",
    "\n",
    "# S3 prefix (which folder will we use)\n",
    "prefix = 'sentiment-xgboost'\n",
    "\n",
    "test_location = session.upload_data(os.path.join(data_dir, 'test.csv'), key_prefix=prefix)\n",
    "val_location = session.upload_data(os.path.join(data_dir, 'validation.csv'), key_prefix=prefix)\n",
    "train_location = session.upload_data(os.path.join(data_dir, 'train.csv'), key_prefix=prefix)"
   ]
  },
  {
   "cell_type": "markdown",
   "metadata": {},
   "source": [
    "### (TODO) Creating a hypertuned XGBoost model\n",
    "\n",
    "Now that the data has been uploaded it is time to create the XGBoost model. As in the Boston Housing notebook, the first step is to create an estimator object which will be used as the *base* of your hyperparameter tuning job."
   ]
  },
  {
   "cell_type": "code",
   "execution_count": 19,
   "metadata": {},
   "outputs": [],
   "source": [
    "from sagemaker import get_execution_role\n",
    "\n",
    "# Our current execution role is require when creating the model as the training\n",
    "# and inference code will need to access the model artifacts.\n",
    "role = get_execution_role()"
   ]
  },
  {
   "cell_type": "code",
   "execution_count": 20,
   "metadata": {},
   "outputs": [
    {
     "name": "stderr",
     "output_type": "stream",
     "text": [
      "The method get_image_uri has been renamed in sagemaker>=2.\n",
      "See: https://sagemaker.readthedocs.io/en/stable/v2.html for details.\n"
     ]
    }
   ],
   "source": [
    "# We need to retrieve the location of the container which is provided by Amazon for using XGBoost.\n",
    "# As a matter of convenience, the training and inference code both use the same container.\n",
    "from sagemaker.amazon.amazon_estimator import get_image_uri\n",
    "\n",
    "container = get_image_uri(session.boto_region_name, 'xgboost')"
   ]
  },
  {
   "cell_type": "code",
   "execution_count": 21,
   "metadata": {},
   "outputs": [
    {
     "name": "stderr",
     "output_type": "stream",
     "text": [
      "train_instance_count has been renamed in sagemaker>=2.\n",
      "See: https://sagemaker.readthedocs.io/en/stable/v2.html for details.\n",
      "train_instance_type has been renamed in sagemaker>=2.\n",
      "See: https://sagemaker.readthedocs.io/en/stable/v2.html for details.\n"
     ]
    }
   ],
   "source": [
    "# TODO: Create a SageMaker estimator using the container location determined in the previous cell.\n",
    "#       It is recommended that you use a single training instance of type ml.m4.xlarge. It is also\n",
    "#       recommended that you use 's3://{}/{}/output'.format(session.default_bucket(), prefix) as the\n",
    "#       output path.\n",
    "\n",
    "# Now that we know which container to use, we can construct the estimator object.\n",
    "# The estimator object is defined as always, but it will be used for hyperparameter tuning,\n",
    "# i.e., many models are going to be branched from it\n",
    "xgb = sagemaker.estimator.Estimator(container, # The name of the training container\n",
    "                                    role,      # The IAM role to use (our current role in this case)\n",
    "                                    train_instance_count=1, # The number of instances to use for training\n",
    "                                    train_instance_type='ml.m4.xlarge', # The type of instance ot use for training\n",
    "                                    output_path='s3://{}/{}/output'.format(session.default_bucket(), prefix),\n",
    "                                                                        # Where to save the output (the model artifacts)\n",
    "                                    sagemaker_session=session) # The current SageMaker session\n",
    "\n",
    "# TODO: Set the XGBoost hyperparameters in the xgb object. Don't forget that in this case we have a binary\n",
    "#       label so we should be using the 'binary:logistic' objective.\n",
    "\n",
    "# We need to set default values for the hyperparameters, i.e., we define the base model\n",
    "# which will be modified varying the hyperparameters\n",
    "xgb.set_hyperparameters(max_depth=5,\n",
    "                        eta=0.2,\n",
    "                        gamma=4,\n",
    "                        min_child_weight=6,\n",
    "                        subsample=0.8,\n",
    "                        objective='binary:logistic',\n",
    "                        early_stopping_rounds=10,\n",
    "                        num_round=200)"
   ]
  },
  {
   "cell_type": "markdown",
   "metadata": {},
   "source": [
    "### (TODO) Create the hyperparameter tuner\n",
    "\n",
    "Now that the base estimator has been set up we need to construct a hyperparameter tuner object which we will use to request SageMaker construct a hyperparameter tuning job.\n",
    "\n",
    "**Note:** Training a single sentiment analysis XGBoost model takes longer than training a Boston Housing XGBoost model so if you don't want the hyperparameter tuning job to take too long, make sure to not set the total number of models (jobs) too high."
   ]
  },
  {
   "cell_type": "code",
   "execution_count": 22,
   "metadata": {},
   "outputs": [],
   "source": [
    "# First, make sure to import the relevant objects used to construct the tuner\n",
    "from sagemaker.tuner import IntegerParameter, ContinuousParameter, HyperparameterTuner\n",
    "\n",
    "# TODO: Create the hyperparameter tuner object\n",
    "\n",
    "# The HyperparameterTuner defines how to change the base model\n",
    "# and how to compare them.\n",
    "# We need to define the metric & split to which it is applied,\n",
    "# as well as the maximum number of models we'd like to train and test,\n",
    "# and the ranges of the hyperparameter values.\n",
    "# Metrics for XGBoost:\n",
    "# - regression: validation:rmse, validation:mse\n",
    "# - binary classification: validation:error, validation:f1, ...\n",
    "# - more: https://docs.aws.amazon.com/sagemaker/latest/dg/xgboost-tuning.html\n",
    "xgb_hyperparameter_tuner = HyperparameterTuner(estimator = xgb, # The estimator object to use as the basis for the training jobs.\n",
    "                                               objective_metric_name = 'validation:error', # The metric used to compare trained models.\n",
    "                                               objective_type = 'Minimize', # Whether we wish to minimize or maximize the metric.\n",
    "                                               max_jobs = 20, # The total number of models to train in total\n",
    "                                               max_parallel_jobs = 3, # The number of models to train in parallel\n",
    "                                               hyperparameter_ranges = {\n",
    "                                                    'max_depth': IntegerParameter(3, 12),\n",
    "                                                    'eta'      : ContinuousParameter(0.05, 0.5),\n",
    "                                                    'min_child_weight': IntegerParameter(2, 8),\n",
    "                                                    'subsample': ContinuousParameter(0.5, 0.9),\n",
    "                                                    'gamma': ContinuousParameter(0, 10),\n",
    "                                               })"
   ]
  },
  {
   "cell_type": "markdown",
   "metadata": {},
   "source": [
    "### Fit the hyperparameter tuner\n",
    "\n",
    "Now that the hyperparameter tuner object has been constructed, it is time to fit the various models and find the best performing model."
   ]
  },
  {
   "cell_type": "code",
   "execution_count": 23,
   "metadata": {},
   "outputs": [],
   "source": [
    "s3_input_train = sagemaker.TrainingInput(s3_data=train_location, content_type='csv')\n",
    "s3_input_validation = sagemaker.TrainingInput(s3_data=val_location, content_type='csv')"
   ]
  },
  {
   "cell_type": "code",
   "execution_count": 24,
   "metadata": {},
   "outputs": [
    {
     "name": "stderr",
     "output_type": "stream",
     "text": [
      "No finished training job found associated with this estimator. Please make sure this estimator is only used for building workflow config\n",
      "No finished training job found associated with this estimator. Please make sure this estimator is only used for building workflow config\n"
     ]
    },
    {
     "name": "stdout",
     "output_type": "stream",
     "text": [
      "...................................................................................................................................................................................................................................................................................................................................................................................................................................................................................................................................................................................................................!\n"
     ]
    }
   ],
   "source": [
    "xgb_hyperparameter_tuner.fit({'train': s3_input_train, 'validation': s3_input_validation})"
   ]
  },
  {
   "cell_type": "markdown",
   "metadata": {},
   "source": [
    "Remember that the tuning job is constructed and run in the background so if we want to see the progress of our training job we need to call the `wait()` method."
   ]
  },
  {
   "cell_type": "code",
   "execution_count": 25,
   "metadata": {},
   "outputs": [
    {
     "name": "stdout",
     "output_type": "stream",
     "text": [
      "!\n"
     ]
    }
   ],
   "source": [
    "xgb_hyperparameter_tuner.wait()"
   ]
  },
  {
   "cell_type": "code",
   "execution_count": 26,
   "metadata": {},
   "outputs": [
    {
     "data": {
      "text/plain": [
       "'xgboost-221124-1054-017-f1e3a426'"
      ]
     },
     "execution_count": 26,
     "metadata": {},
     "output_type": "execute_result"
    }
   ],
   "source": [
    "# We get the best training job: the model with the best hyperparameters\n",
    "# BUT this is only the name of the job\n",
    "xgb_hyperparameter_tuner.best_training_job()"
   ]
  },
  {
   "cell_type": "markdown",
   "metadata": {},
   "source": [
    "### (TODO) Testing the model\n",
    "\n",
    "Now that we've run our hyperparameter tuning job, it's time to see how well the best performing model actually performs. To do this we will use SageMaker's Batch Transform functionality. Batch Transform is a convenient way to perform inference on a large dataset in a way that is not realtime. That is, we don't necessarily need to use our model's results immediately and instead we can peform inference on a large number of samples. An example of this in industry might be peforming an end of month report. This method of inference can also be useful to us as it means to can perform inference on our entire test set. \n",
    "\n",
    "Remember that in order to create a transformer object to perform the batch transform job, we need a trained estimator object. We can do that using the `attach()` method, creating an estimator object which is attached to the best trained job."
   ]
  },
  {
   "cell_type": "code",
   "execution_count": 44,
   "metadata": {},
   "outputs": [
    {
     "name": "stdout",
     "output_type": "stream",
     "text": [
      "\n",
      "2022-11-24 11:34:42 Starting - Found matching resource for reuse\n",
      "2022-11-24 11:34:42 Downloading - Downloading input data\n",
      "2022-11-24 11:34:42 Training - Training image download completed. Training in progress.\n",
      "2022-11-24 11:34:42 Uploading - Uploading generated training model\n",
      "2022-11-24 11:34:42 Completed - Resource reused by training job: xgboost-221124-1054-020-bd9a50dc\n"
     ]
    }
   ],
   "source": [
    "# TODO: Create a new estimator object attached to the best training job found during hyperparameter tuning\n",
    "\n",
    "# Still, we need to construct the best estimator\n",
    "# We can use attach() for that: an estimator is created and the best training job\n",
    "# is attached to it.\n",
    "# Attach can be used in other cases too:\n",
    "# If we have a training job name with the performance we want (e.g., a past traine model)\n",
    "# we can simple create an estimator and attach the training job (name) to it!\n",
    "xgb_attached = sagemaker.estimator.Estimator.attach(xgb_hyperparameter_tuner.best_training_job())\n"
   ]
  },
  {
   "cell_type": "markdown",
   "metadata": {},
   "source": [
    "Now that we have an estimator object attached to the correct training job, we can proceed as we normally would and create a transformer object."
   ]
  },
  {
   "cell_type": "code",
   "execution_count": 45,
   "metadata": {},
   "outputs": [],
   "source": [
    "# TODO: Create a transformer object from the attached estimator. Using an instance count of 1 and an instance type of ml.m4.xlarge\n",
    "#       should be more than enough.\n",
    "\n",
    "# Now, we can use the batch transformer to test the best estimator\n",
    "# as always\n",
    "xgb_transformer = xgb_attached.transformer(instance_count = 1, instance_type = 'ml.m4.xlarge')\n"
   ]
  },
  {
   "cell_type": "markdown",
   "metadata": {},
   "source": [
    "Next we actually perform the transform job. When doing so we need to make sure to specify the type of data we are sending so that it is serialized correctly in the background. In our case we are providing our model with csv data so we specify `text/csv`. Also, if the test data that we have provided is too large to process all at once then we need to specify how the data file should be split up. Since each line is a single entry in our data set we tell SageMaker that it can split the input on each line."
   ]
  },
  {
   "cell_type": "code",
   "execution_count": 46,
   "metadata": {},
   "outputs": [
    {
     "name": "stdout",
     "output_type": "stream",
     "text": [
      "..................................\u001b[34mArguments: serve\u001b[0m\n",
      "\u001b[35mArguments: serve\u001b[0m\n",
      "\u001b[34m[2022-11-24 12:21:24 +0000] [1] [INFO] Starting gunicorn 19.9.0\u001b[0m\n",
      "\u001b[34m[2022-11-24 12:21:24 +0000] [1] [INFO] Listening at: http://0.0.0.0:8080 (1)\u001b[0m\n",
      "\u001b[34m[2022-11-24 12:21:24 +0000] [1] [INFO] Using worker: gevent\u001b[0m\n",
      "\u001b[35m[2022-11-24 12:21:24 +0000] [1] [INFO] Starting gunicorn 19.9.0\u001b[0m\n",
      "\u001b[35m[2022-11-24 12:21:24 +0000] [1] [INFO] Listening at: http://0.0.0.0:8080 (1)\u001b[0m\n",
      "\u001b[35m[2022-11-24 12:21:24 +0000] [1] [INFO] Using worker: gevent\u001b[0m\n",
      "\u001b[34m[2022-11-24 12:21:24 +0000] [21] [INFO] Booting worker with pid: 21\u001b[0m\n",
      "\u001b[34m[2022-11-24 12:21:24 +0000] [22] [INFO] Booting worker with pid: 22\u001b[0m\n",
      "\u001b[34m/opt/amazon/lib/python3.7/site-packages/gunicorn/workers/ggevent.py:65: MonkeyPatchWarning: Monkey-patching ssl after ssl has already been imported may lead to errors, including RecursionError on Python 3.6. It may also silently lead to incorrect behaviour on Python 3.7. Please monkey-patch earlier. See https://github.com/gevent/gevent/issues/1016. Modules that had direct imports (NOT patched): ['urllib3.util (/opt/amazon/lib/python3.7/site-packages/urllib3/util/__init__.py)', 'urllib3.util.ssl_ (/opt/amazon/lib/python3.7/site-packages/urllib3/util/ssl_.py)']. \n",
      "  monkey.patch_all(subprocess=True)\u001b[0m\n",
      "\u001b[34m[2022-11-24:12:21:24:INFO] Model loaded successfully for worker : 21\u001b[0m\n",
      "\u001b[34m[2022-11-24 12:21:24 +0000] [23] [INFO] Booting worker with pid: 23\u001b[0m\n",
      "\u001b[34m[2022-11-24 12:21:25 +0000] [24] [INFO] Booting worker with pid: 24\u001b[0m\n",
      "\u001b[34m/opt/amazon/lib/python3.7/site-packages/gunicorn/workers/ggevent.py:65: MonkeyPatchWarning: Monkey-patching ssl after ssl has already been imported may lead to errors, including RecursionError on Python 3.6. It may also silently lead to incorrect behaviour on Python 3.7. Please monkey-patch earlier. See https://github.com/gevent/gevent/issues/1016. Modules that had direct imports (NOT patched): ['urllib3.util (/opt/amazon/lib/python3.7/site-packages/urllib3/util/__init__.py)', 'urllib3.util.ssl_ (/opt/amazon/lib/python3.7/site-packages/urllib3/util/ssl_.py)']. \n",
      "  monkey.patch_all(subprocess=True)\u001b[0m\n",
      "\u001b[34m[2022-11-24:12:21:25:INFO] Model loaded successfully for worker : 22\u001b[0m\n",
      "\u001b[34m/opt/amazon/lib/python3.7/site-packages/gunicorn/workers/ggevent.py:65: MonkeyPatchWarning: Monkey-patching ssl after ssl has already been imported may lead to errors, including RecursionError on Python 3.6. It may also silently lead to incorrect behaviour on Python 3.7. Please monkey-patch earlier. See https://github.com/gevent/gevent/issues/1016. Modules that had direct imports (NOT patched): ['urllib3.util (/opt/amazon/lib/python3.7/site-packages/urllib3/util/__init__.py)', 'urllib3.util.ssl_ (/opt/amazon/lib/python3.7/site-packages/urllib3/util/ssl_.py)']. \n",
      "  monkey.patch_all(subprocess=True)\u001b[0m\n",
      "\u001b[34m[2022-11-24:12:21:25:INFO] Model loaded successfully for worker : 23\u001b[0m\n",
      "\u001b[34m/opt/amazon/lib/python3.7/site-packages/gunicorn/workers/ggevent.py:65: MonkeyPatchWarning: Monkey-patching ssl after ssl has already been imported may lead to errors, including RecursionError on Python 3.6. It may also silently lead to incorrect behaviour on Python 3.7. Please monkey-patch earlier. See https://github.com/gevent/gevent/issues/1016. Modules that had direct imports (NOT patched): ['urllib3.util (/opt/amazon/lib/python3.7/site-packages/urllib3/util/__init__.py)', 'urllib3.util.ssl_ (/opt/amazon/lib/python3.7/site-packages/urllib3/util/ssl_.py)']. \n",
      "  monkey.patch_all(subprocess=True)\u001b[0m\n",
      "\u001b[34m[2022-11-24:12:21:25:INFO] Model loaded successfully for worker : 24\u001b[0m\n",
      "\u001b[35m[2022-11-24 12:21:24 +0000] [21] [INFO] Booting worker with pid: 21\u001b[0m\n",
      "\u001b[35m[2022-11-24 12:21:24 +0000] [22] [INFO] Booting worker with pid: 22\u001b[0m\n",
      "\u001b[35m/opt/amazon/lib/python3.7/site-packages/gunicorn/workers/ggevent.py:65: MonkeyPatchWarning: Monkey-patching ssl after ssl has already been imported may lead to errors, including RecursionError on Python 3.6. It may also silently lead to incorrect behaviour on Python 3.7. Please monkey-patch earlier. See https://github.com/gevent/gevent/issues/1016. Modules that had direct imports (NOT patched): ['urllib3.util (/opt/amazon/lib/python3.7/site-packages/urllib3/util/__init__.py)', 'urllib3.util.ssl_ (/opt/amazon/lib/python3.7/site-packages/urllib3/util/ssl_.py)']. \n",
      "  monkey.patch_all(subprocess=True)\u001b[0m\n",
      "\u001b[35m[2022-11-24:12:21:24:INFO] Model loaded successfully for worker : 21\u001b[0m\n",
      "\u001b[35m[2022-11-24 12:21:24 +0000] [23] [INFO] Booting worker with pid: 23\u001b[0m\n",
      "\u001b[35m[2022-11-24 12:21:25 +0000] [24] [INFO] Booting worker with pid: 24\u001b[0m\n",
      "\u001b[35m/opt/amazon/lib/python3.7/site-packages/gunicorn/workers/ggevent.py:65: MonkeyPatchWarning: Monkey-patching ssl after ssl has already been imported may lead to errors, including RecursionError on Python 3.6. It may also silently lead to incorrect behaviour on Python 3.7. Please monkey-patch earlier. See https://github.com/gevent/gevent/issues/1016. Modules that had direct imports (NOT patched): ['urllib3.util (/opt/amazon/lib/python3.7/site-packages/urllib3/util/__init__.py)', 'urllib3.util.ssl_ (/opt/amazon/lib/python3.7/site-packages/urllib3/util/ssl_.py)']. \n",
      "  monkey.patch_all(subprocess=True)\u001b[0m\n",
      "\u001b[35m[2022-11-24:12:21:25:INFO] Model loaded successfully for worker : 22\u001b[0m\n",
      "\u001b[35m/opt/amazon/lib/python3.7/site-packages/gunicorn/workers/ggevent.py:65: MonkeyPatchWarning: Monkey-patching ssl after ssl has already been imported may lead to errors, including RecursionError on Python 3.6. It may also silently lead to incorrect behaviour on Python 3.7. Please monkey-patch earlier. See https://github.com/gevent/gevent/issues/1016. Modules that had direct imports (NOT patched): ['urllib3.util (/opt/amazon/lib/python3.7/site-packages/urllib3/util/__init__.py)', 'urllib3.util.ssl_ (/opt/amazon/lib/python3.7/site-packages/urllib3/util/ssl_.py)']. \n",
      "  monkey.patch_all(subprocess=True)\u001b[0m\n",
      "\u001b[35m[2022-11-24:12:21:25:INFO] Model loaded successfully for worker : 23\u001b[0m\n",
      "\u001b[35m/opt/amazon/lib/python3.7/site-packages/gunicorn/workers/ggevent.py:65: MonkeyPatchWarning: Monkey-patching ssl after ssl has already been imported may lead to errors, including RecursionError on Python 3.6. It may also silently lead to incorrect behaviour on Python 3.7. Please monkey-patch earlier. See https://github.com/gevent/gevent/issues/1016. Modules that had direct imports (NOT patched): ['urllib3.util (/opt/amazon/lib/python3.7/site-packages/urllib3/util/__init__.py)', 'urllib3.util.ssl_ (/opt/amazon/lib/python3.7/site-packages/urllib3/util/ssl_.py)']. \n",
      "  monkey.patch_all(subprocess=True)\u001b[0m\n",
      "\u001b[35m[2022-11-24:12:21:25:INFO] Model loaded successfully for worker : 24\u001b[0m\n",
      "\u001b[34m[2022-11-24:12:21:32:INFO] Sniff delimiter as ','\u001b[0m\n",
      "\u001b[34m[2022-11-24:12:21:32:INFO] Determined delimiter of CSV input is ','\u001b[0m\n",
      "\u001b[35m[2022-11-24:12:21:32:INFO] Sniff delimiter as ','\u001b[0m\n",
      "\u001b[35m[2022-11-24:12:21:32:INFO] Determined delimiter of CSV input is ','\u001b[0m\n",
      "\u001b[34m[2022-11-24:12:21:32:INFO] Sniff delimiter as ','\u001b[0m\n",
      "\u001b[34m[2022-11-24:12:21:32:INFO] Determined delimiter of CSV input is ','\u001b[0m\n",
      "\u001b[34m[2022-11-24:12:21:32:INFO] Sniff delimiter as ','\u001b[0m\n",
      "\u001b[34m[2022-11-24:12:21:32:INFO] Determined delimiter of CSV input is ','\u001b[0m\n",
      "\u001b[34m[2022-11-24:12:21:32:INFO] Sniff delimiter as ','\u001b[0m\n",
      "\u001b[34m[2022-11-24:12:21:32:INFO] Determined delimiter of CSV input is ','\u001b[0m\n",
      "\u001b[35m[2022-11-24:12:21:32:INFO] Sniff delimiter as ','\u001b[0m\n",
      "\u001b[35m[2022-11-24:12:21:32:INFO] Determined delimiter of CSV input is ','\u001b[0m\n",
      "\u001b[35m[2022-11-24:12:21:32:INFO] Sniff delimiter as ','\u001b[0m\n",
      "\u001b[35m[2022-11-24:12:21:32:INFO] Determined delimiter of CSV input is ','\u001b[0m\n",
      "\u001b[35m[2022-11-24:12:21:32:INFO] Sniff delimiter as ','\u001b[0m\n",
      "\u001b[35m[2022-11-24:12:21:32:INFO] Determined delimiter of CSV input is ','\u001b[0m\n",
      "\u001b[32m2022-11-24T12:21:28.980:[sagemaker logs]: MaxConcurrentTransforms=4, MaxPayloadInMB=6, BatchStrategy=MULTI_RECORD\u001b[0m\n",
      "\u001b[34m[2022-11-24:12:21:36:INFO] Sniff delimiter as ','\u001b[0m\n",
      "\u001b[34m[2022-11-24:12:21:36:INFO] Determined delimiter of CSV input is ','\u001b[0m\n",
      "\u001b[34m[2022-11-24:12:21:36:INFO] Sniff delimiter as ','\u001b[0m\n",
      "\u001b[34m[2022-11-24:12:21:36:INFO] Determined delimiter of CSV input is ','\u001b[0m\n",
      "\u001b[35m[2022-11-24:12:21:36:INFO] Sniff delimiter as ','\u001b[0m\n",
      "\u001b[35m[2022-11-24:12:21:36:INFO] Determined delimiter of CSV input is ','\u001b[0m\n",
      "\u001b[35m[2022-11-24:12:21:36:INFO] Sniff delimiter as ','\u001b[0m\n",
      "\u001b[35m[2022-11-24:12:21:36:INFO] Determined delimiter of CSV input is ','\u001b[0m\n",
      "\u001b[34m[2022-11-24:12:21:40:INFO] Sniff delimiter as ','\u001b[0m\n",
      "\u001b[34m[2022-11-24:12:21:40:INFO] Determined delimiter of CSV input is ','\u001b[0m\n",
      "\u001b[34m[2022-11-24:12:21:40:INFO] Sniff delimiter as ','\u001b[0m\n",
      "\u001b[34m[2022-11-24:12:21:40:INFO] Determined delimiter of CSV input is ','\u001b[0m\n",
      "\u001b[34m[2022-11-24:12:21:40:INFO] Sniff delimiter as ','\u001b[0m\n",
      "\u001b[34m[2022-11-24:12:21:40:INFO] Determined delimiter of CSV input is ','\u001b[0m\n",
      "\u001b[35m[2022-11-24:12:21:40:INFO] Sniff delimiter as ','\u001b[0m\n",
      "\u001b[35m[2022-11-24:12:21:40:INFO] Determined delimiter of CSV input is ','\u001b[0m\n",
      "\u001b[35m[2022-11-24:12:21:40:INFO] Sniff delimiter as ','\u001b[0m\n",
      "\u001b[35m[2022-11-24:12:21:40:INFO] Determined delimiter of CSV input is ','\u001b[0m\n",
      "\u001b[35m[2022-11-24:12:21:40:INFO] Sniff delimiter as ','\u001b[0m\n",
      "\u001b[35m[2022-11-24:12:21:40:INFO] Determined delimiter of CSV input is ','\u001b[0m\n",
      "\u001b[34m[2022-11-24:12:21:40:INFO] Sniff delimiter as ','\u001b[0m\n",
      "\u001b[35m[2022-11-24:12:21:40:INFO] Sniff delimiter as ','\u001b[0m\n",
      "\u001b[34m[2022-11-24:12:21:40:INFO] Determined delimiter of CSV input is ','\u001b[0m\n",
      "\u001b[35m[2022-11-24:12:21:40:INFO] Determined delimiter of CSV input is ','\u001b[0m\n",
      "\u001b[34m[2022-11-24:12:21:43:INFO] Sniff delimiter as ','\u001b[0m\n",
      "\u001b[34m[2022-11-24:12:21:43:INFO] Determined delimiter of CSV input is ','\u001b[0m\n",
      "\u001b[34m[2022-11-24:12:21:44:INFO] Sniff delimiter as ','\u001b[0m\n",
      "\u001b[34m[2022-11-24:12:21:44:INFO] Determined delimiter of CSV input is ','\u001b[0m\n",
      "\u001b[34m[2022-11-24:12:21:44:INFO] Sniff delimiter as ','\u001b[0m\n",
      "\u001b[34m[2022-11-24:12:21:44:INFO] Determined delimiter of CSV input is ','\u001b[0m\n",
      "\u001b[34m[2022-11-24:12:21:44:INFO] Sniff delimiter as ','\u001b[0m\n",
      "\u001b[34m[2022-11-24:12:21:44:INFO] Determined delimiter of CSV input is ','\u001b[0m\n",
      "\u001b[35m[2022-11-24:12:21:43:INFO] Sniff delimiter as ','\u001b[0m\n",
      "\u001b[35m[2022-11-24:12:21:43:INFO] Determined delimiter of CSV input is ','\u001b[0m\n",
      "\u001b[35m[2022-11-24:12:21:44:INFO] Sniff delimiter as ','\u001b[0m\n",
      "\u001b[35m[2022-11-24:12:21:44:INFO] Determined delimiter of CSV input is ','\u001b[0m\n",
      "\u001b[35m[2022-11-24:12:21:44:INFO] Sniff delimiter as ','\u001b[0m\n",
      "\u001b[35m[2022-11-24:12:21:44:INFO] Determined delimiter of CSV input is ','\u001b[0m\n",
      "\u001b[35m[2022-11-24:12:21:44:INFO] Sniff delimiter as ','\u001b[0m\n",
      "\u001b[35m[2022-11-24:12:21:44:INFO] Determined delimiter of CSV input is ','\u001b[0m\n",
      "\u001b[34m[2022-11-24:12:21:47:INFO] Sniff delimiter as ','\u001b[0m\n",
      "\u001b[34m[2022-11-24:12:21:47:INFO] Determined delimiter of CSV input is ','\u001b[0m\n",
      "\u001b[34m[2022-11-24:12:21:47:INFO] Sniff delimiter as ','\u001b[0m\n",
      "\u001b[34m[2022-11-24:12:21:47:INFO] Determined delimiter of CSV input is ','\u001b[0m\n",
      "\u001b[34m[2022-11-24:12:21:48:INFO] Sniff delimiter as ','\u001b[0m\n",
      "\u001b[34m[2022-11-24:12:21:48:INFO] Determined delimiter of CSV input is ','\u001b[0m\n",
      "\u001b[34m[2022-11-24:12:21:48:INFO] Sniff delimiter as ','\u001b[0m\n",
      "\u001b[34m[2022-11-24:12:21:48:INFO] Determined delimiter of CSV input is ','\u001b[0m\n",
      "\u001b[35m[2022-11-24:12:21:47:INFO] Sniff delimiter as ','\u001b[0m\n",
      "\u001b[35m[2022-11-24:12:21:47:INFO] Determined delimiter of CSV input is ','\u001b[0m\n",
      "\u001b[35m[2022-11-24:12:21:47:INFO] Sniff delimiter as ','\u001b[0m\n",
      "\u001b[35m[2022-11-24:12:21:47:INFO] Determined delimiter of CSV input is ','\u001b[0m\n",
      "\u001b[35m[2022-11-24:12:21:48:INFO] Sniff delimiter as ','\u001b[0m\n",
      "\u001b[35m[2022-11-24:12:21:48:INFO] Determined delimiter of CSV input is ','\u001b[0m\n",
      "\u001b[35m[2022-11-24:12:21:48:INFO] Sniff delimiter as ','\u001b[0m\n",
      "\u001b[35m[2022-11-24:12:21:48:INFO] Determined delimiter of CSV input is ','\u001b[0m\n",
      "\u001b[34m[2022-11-24:12:21:55:INFO] Sniff delimiter as ','\u001b[0m\n",
      "\u001b[34m[2022-11-24:12:21:55:INFO] Determined delimiter of CSV input is ','\u001b[0m\n",
      "\u001b[35m[2022-11-24:12:21:55:INFO] Sniff delimiter as ','\u001b[0m\n",
      "\u001b[35m[2022-11-24:12:21:55:INFO] Determined delimiter of CSV input is ','\u001b[0m\n",
      "\u001b[34m[2022-11-24:12:21:55:INFO] Sniff delimiter as ','\u001b[0m\n",
      "\u001b[34m[2022-11-24:12:21:55:INFO] Determined delimiter of CSV input is ','\u001b[0m\n",
      "\u001b[34m[2022-11-24:12:21:55:INFO] Sniff delimiter as ','\u001b[0m\n",
      "\u001b[34m[2022-11-24:12:21:55:INFO] Determined delimiter of CSV input is ','\u001b[0m\n",
      "\u001b[34m[2022-11-24:12:21:55:INFO] Sniff delimiter as ','\u001b[0m\n",
      "\u001b[34m[2022-11-24:12:21:55:INFO] Determined delimiter of CSV input is ','\u001b[0m\n",
      "\u001b[35m[2022-11-24:12:21:55:INFO] Sniff delimiter as ','\u001b[0m\n",
      "\u001b[35m[2022-11-24:12:21:55:INFO] Determined delimiter of CSV input is ','\u001b[0m\n",
      "\u001b[35m[2022-11-24:12:21:55:INFO] Sniff delimiter as ','\u001b[0m\n",
      "\u001b[35m[2022-11-24:12:21:55:INFO] Determined delimiter of CSV input is ','\u001b[0m\n",
      "\u001b[35m[2022-11-24:12:21:55:INFO] Sniff delimiter as ','\u001b[0m\n",
      "\u001b[35m[2022-11-24:12:21:55:INFO] Determined delimiter of CSV input is ','\u001b[0m\n",
      "\u001b[34m[2022-11-24:12:21:59:INFO] Sniff delimiter as ','\u001b[0m\n",
      "\u001b[35m[2022-11-24:12:21:59:INFO] Sniff delimiter as ','\u001b[0m\n",
      "\u001b[34m[2022-11-24:12:21:59:INFO] Determined delimiter of CSV input is ','\u001b[0m\n",
      "\u001b[35m[2022-11-24:12:21:59:INFO] Determined delimiter of CSV input is ','\u001b[0m\n",
      "\u001b[34m[2022-11-24:12:22:03:INFO] Sniff delimiter as ','\u001b[0m\n",
      "\u001b[34m[2022-11-24:12:22:03:INFO] Determined delimiter of CSV input is ','\u001b[0m\n",
      "\u001b[34m[2022-11-24:12:22:03:INFO] Sniff delimiter as ','\u001b[0m\n",
      "\u001b[34m[2022-11-24:12:22:03:INFO] Determined delimiter of CSV input is ','\u001b[0m\n",
      "\u001b[34m[2022-11-24:12:22:03:INFO] Sniff delimiter as ','\u001b[0m\n",
      "\u001b[34m[2022-11-24:12:22:03:INFO] Determined delimiter of CSV input is ','\u001b[0m\n",
      "\u001b[35m[2022-11-24:12:22:03:INFO] Sniff delimiter as ','\u001b[0m\n",
      "\u001b[35m[2022-11-24:12:22:03:INFO] Determined delimiter of CSV input is ','\u001b[0m\n",
      "\u001b[35m[2022-11-24:12:22:03:INFO] Sniff delimiter as ','\u001b[0m\n",
      "\u001b[35m[2022-11-24:12:22:03:INFO] Determined delimiter of CSV input is ','\u001b[0m\n",
      "\u001b[35m[2022-11-24:12:22:03:INFO] Sniff delimiter as ','\u001b[0m\n",
      "\u001b[35m[2022-11-24:12:22:03:INFO] Determined delimiter of CSV input is ','\u001b[0m\n",
      "\u001b[34m[2022-11-24:12:22:03:INFO] Sniff delimiter as ','\u001b[0m\n",
      "\u001b[34m[2022-11-24:12:22:03:INFO] Determined delimiter of CSV input is ','\u001b[0m\n",
      "\u001b[35m[2022-11-24:12:22:03:INFO] Sniff delimiter as ','\u001b[0m\n",
      "\u001b[35m[2022-11-24:12:22:03:INFO] Determined delimiter of CSV input is ','\u001b[0m\n",
      "\u001b[34m[2022-11-24:12:22:07:INFO] Sniff delimiter as ','\u001b[0m\n",
      "\u001b[35m[2022-11-24:12:22:07:INFO] Sniff delimiter as ','\u001b[0m\n",
      "\u001b[34m[2022-11-24:12:22:07:INFO] Determined delimiter of CSV input is ','\u001b[0m\n",
      "\u001b[34m[2022-11-24:12:22:07:INFO] Sniff delimiter as ','\u001b[0m\n",
      "\u001b[34m[2022-11-24:12:22:07:INFO] Determined delimiter of CSV input is ','\u001b[0m\n",
      "\u001b[34m[2022-11-24:12:22:07:INFO] Sniff delimiter as ','\u001b[0m\n",
      "\u001b[34m[2022-11-24:12:22:07:INFO] Determined delimiter of CSV input is ','\u001b[0m\n",
      "\u001b[34m[2022-11-24:12:22:07:INFO] Sniff delimiter as ','\u001b[0m\n",
      "\u001b[34m[2022-11-24:12:22:07:INFO] Determined delimiter of CSV input is ','\u001b[0m\n",
      "\u001b[35m[2022-11-24:12:22:07:INFO] Determined delimiter of CSV input is ','\u001b[0m\n",
      "\u001b[35m[2022-11-24:12:22:07:INFO] Sniff delimiter as ','\u001b[0m\n",
      "\u001b[35m[2022-11-24:12:22:07:INFO] Determined delimiter of CSV input is ','\u001b[0m\n",
      "\u001b[35m[2022-11-24:12:22:07:INFO] Sniff delimiter as ','\u001b[0m\n",
      "\u001b[35m[2022-11-24:12:22:07:INFO] Determined delimiter of CSV input is ','\u001b[0m\n",
      "\u001b[35m[2022-11-24:12:22:07:INFO] Sniff delimiter as ','\u001b[0m\n",
      "\u001b[35m[2022-11-24:12:22:07:INFO] Determined delimiter of CSV input is ','\u001b[0m\n",
      "\n"
     ]
    }
   ],
   "source": [
    "# TODO: Start the transform job. Make sure to specify the content type and the split type of the test data.\n",
    "xgb_transformer.transform(test_location, content_type='text/csv', split_type='Line')"
   ]
  },
  {
   "cell_type": "markdown",
   "metadata": {},
   "source": [
    "Currently the transform job is running but it is doing so in the background. Since we wish to wait until the transform job is done and we would like a bit of feedback we can run the `wait()` method."
   ]
  },
  {
   "cell_type": "code",
   "execution_count": 47,
   "metadata": {},
   "outputs": [
    {
     "name": "stdout",
     "output_type": "stream",
     "text": [
      "\u001b[34mArguments: serve\u001b[0m\n",
      "\u001b[35mArguments: serve\u001b[0m\n",
      "\u001b[34m[2022-11-24 12:21:24 +0000] [1] [INFO] Starting gunicorn 19.9.0\u001b[0m\n",
      "\u001b[34m[2022-11-24 12:21:24 +0000] [1] [INFO] Listening at: http://0.0.0.0:8080 (1)\u001b[0m\n",
      "\u001b[34m[2022-11-24 12:21:24 +0000] [1] [INFO] Using worker: gevent\u001b[0m\n",
      "\u001b[35m[2022-11-24 12:21:24 +0000] [1] [INFO] Starting gunicorn 19.9.0\u001b[0m\n",
      "\u001b[35m[2022-11-24 12:21:24 +0000] [1] [INFO] Listening at: http://0.0.0.0:8080 (1)\u001b[0m\n",
      "\u001b[35m[2022-11-24 12:21:24 +0000] [1] [INFO] Using worker: gevent\u001b[0m\n",
      "\u001b[34m[2022-11-24 12:21:24 +0000] [21] [INFO] Booting worker with pid: 21\u001b[0m\n",
      "\u001b[34m[2022-11-24 12:21:24 +0000] [22] [INFO] Booting worker with pid: 22\u001b[0m\n",
      "\u001b[34m/opt/amazon/lib/python3.7/site-packages/gunicorn/workers/ggevent.py:65: MonkeyPatchWarning: Monkey-patching ssl after ssl has already been imported may lead to errors, including RecursionError on Python 3.6. It may also silently lead to incorrect behaviour on Python 3.7. Please monkey-patch earlier. See https://github.com/gevent/gevent/issues/1016. Modules that had direct imports (NOT patched): ['urllib3.util (/opt/amazon/lib/python3.7/site-packages/urllib3/util/__init__.py)', 'urllib3.util.ssl_ (/opt/amazon/lib/python3.7/site-packages/urllib3/util/ssl_.py)']. \n",
      "  monkey.patch_all(subprocess=True)\u001b[0m\n",
      "\u001b[34m[2022-11-24:12:21:24:INFO] Model loaded successfully for worker : 21\u001b[0m\n",
      "\u001b[34m[2022-11-24 12:21:24 +0000] [23] [INFO] Booting worker with pid: 23\u001b[0m\n",
      "\u001b[34m[2022-11-24 12:21:25 +0000] [24] [INFO] Booting worker with pid: 24\u001b[0m\n",
      "\u001b[34m/opt/amazon/lib/python3.7/site-packages/gunicorn/workers/ggevent.py:65: MonkeyPatchWarning: Monkey-patching ssl after ssl has already been imported may lead to errors, including RecursionError on Python 3.6. It may also silently lead to incorrect behaviour on Python 3.7. Please monkey-patch earlier. See https://github.com/gevent/gevent/issues/1016. Modules that had direct imports (NOT patched): ['urllib3.util (/opt/amazon/lib/python3.7/site-packages/urllib3/util/__init__.py)', 'urllib3.util.ssl_ (/opt/amazon/lib/python3.7/site-packages/urllib3/util/ssl_.py)']. \n",
      "  monkey.patch_all(subprocess=True)\u001b[0m\n",
      "\u001b[34m[2022-11-24:12:21:25:INFO] Model loaded successfully for worker : 22\u001b[0m\n",
      "\u001b[34m/opt/amazon/lib/python3.7/site-packages/gunicorn/workers/ggevent.py:65: MonkeyPatchWarning: Monkey-patching ssl after ssl has already been imported may lead to errors, including RecursionError on Python 3.6. It may also silently lead to incorrect behaviour on Python 3.7. Please monkey-patch earlier. See https://github.com/gevent/gevent/issues/1016. Modules that had direct imports (NOT patched): ['urllib3.util (/opt/amazon/lib/python3.7/site-packages/urllib3/util/__init__.py)', 'urllib3.util.ssl_ (/opt/amazon/lib/python3.7/site-packages/urllib3/util/ssl_.py)']. \n",
      "  monkey.patch_all(subprocess=True)\u001b[0m\n",
      "\u001b[34m[2022-11-24:12:21:25:INFO] Model loaded successfully for worker : 23\u001b[0m\n",
      "\u001b[34m/opt/amazon/lib/python3.7/site-packages/gunicorn/workers/ggevent.py:65: MonkeyPatchWarning: Monkey-patching ssl after ssl has already been imported may lead to errors, including RecursionError on Python 3.6. It may also silently lead to incorrect behaviour on Python 3.7. Please monkey-patch earlier. See https://github.com/gevent/gevent/issues/1016. Modules that had direct imports (NOT patched): ['urllib3.util (/opt/amazon/lib/python3.7/site-packages/urllib3/util/__init__.py)', 'urllib3.util.ssl_ (/opt/amazon/lib/python3.7/site-packages/urllib3/util/ssl_.py)']. \n",
      "  monkey.patch_all(subprocess=True)\u001b[0m\n",
      "\u001b[34m[2022-11-24:12:21:25:INFO] Model loaded successfully for worker : 24\u001b[0m\n",
      "\u001b[35m[2022-11-24 12:21:24 +0000] [21] [INFO] Booting worker with pid: 21\u001b[0m\n",
      "\u001b[35m[2022-11-24 12:21:24 +0000] [22] [INFO] Booting worker with pid: 22\u001b[0m\n",
      "\u001b[35m/opt/amazon/lib/python3.7/site-packages/gunicorn/workers/ggevent.py:65: MonkeyPatchWarning: Monkey-patching ssl after ssl has already been imported may lead to errors, including RecursionError on Python 3.6. It may also silently lead to incorrect behaviour on Python 3.7. Please monkey-patch earlier. See https://github.com/gevent/gevent/issues/1016. Modules that had direct imports (NOT patched): ['urllib3.util (/opt/amazon/lib/python3.7/site-packages/urllib3/util/__init__.py)', 'urllib3.util.ssl_ (/opt/amazon/lib/python3.7/site-packages/urllib3/util/ssl_.py)']. \n",
      "  monkey.patch_all(subprocess=True)\u001b[0m\n",
      "\u001b[35m[2022-11-24:12:21:24:INFO] Model loaded successfully for worker : 21\u001b[0m\n",
      "\u001b[35m[2022-11-24 12:21:24 +0000] [23] [INFO] Booting worker with pid: 23\u001b[0m\n",
      "\u001b[35m[2022-11-24 12:21:25 +0000] [24] [INFO] Booting worker with pid: 24\u001b[0m\n",
      "\u001b[35m/opt/amazon/lib/python3.7/site-packages/gunicorn/workers/ggevent.py:65: MonkeyPatchWarning: Monkey-patching ssl after ssl has already been imported may lead to errors, including RecursionError on Python 3.6. It may also silently lead to incorrect behaviour on Python 3.7. Please monkey-patch earlier. See https://github.com/gevent/gevent/issues/1016. Modules that had direct imports (NOT patched): ['urllib3.util (/opt/amazon/lib/python3.7/site-packages/urllib3/util/__init__.py)', 'urllib3.util.ssl_ (/opt/amazon/lib/python3.7/site-packages/urllib3/util/ssl_.py)']. \n",
      "  monkey.patch_all(subprocess=True)\u001b[0m\n",
      "\u001b[35m[2022-11-24:12:21:25:INFO] Model loaded successfully for worker : 22\u001b[0m\n",
      "\u001b[35m/opt/amazon/lib/python3.7/site-packages/gunicorn/workers/ggevent.py:65: MonkeyPatchWarning: Monkey-patching ssl after ssl has already been imported may lead to errors, including RecursionError on Python 3.6. It may also silently lead to incorrect behaviour on Python 3.7. Please monkey-patch earlier. See https://github.com/gevent/gevent/issues/1016. Modules that had direct imports (NOT patched): ['urllib3.util (/opt/amazon/lib/python3.7/site-packages/urllib3/util/__init__.py)', 'urllib3.util.ssl_ (/opt/amazon/lib/python3.7/site-packages/urllib3/util/ssl_.py)']. \n",
      "  monkey.patch_all(subprocess=True)\u001b[0m\n",
      "\u001b[35m[2022-11-24:12:21:25:INFO] Model loaded successfully for worker : 23\u001b[0m\n",
      "\u001b[35m/opt/amazon/lib/python3.7/site-packages/gunicorn/workers/ggevent.py:65: MonkeyPatchWarning: Monkey-patching ssl after ssl has already been imported may lead to errors, including RecursionError on Python 3.6. It may also silently lead to incorrect behaviour on Python 3.7. Please monkey-patch earlier. See https://github.com/gevent/gevent/issues/1016. Modules that had direct imports (NOT patched): ['urllib3.util (/opt/amazon/lib/python3.7/site-packages/urllib3/util/__init__.py)', 'urllib3.util.ssl_ (/opt/amazon/lib/python3.7/site-packages/urllib3/util/ssl_.py)']. \n",
      "  monkey.patch_all(subprocess=True)\u001b[0m\n",
      "\u001b[35m[2022-11-24:12:21:25:INFO] Model loaded successfully for worker : 24\u001b[0m\n",
      "\u001b[34m[2022-11-24:12:21:32:INFO] Sniff delimiter as ','\u001b[0m\n",
      "\u001b[34m[2022-11-24:12:21:32:INFO] Determined delimiter of CSV input is ','\u001b[0m\n",
      "\u001b[35m[2022-11-24:12:21:32:INFO] Sniff delimiter as ','\u001b[0m\n",
      "\u001b[35m[2022-11-24:12:21:32:INFO] Determined delimiter of CSV input is ','\u001b[0m\n",
      "\u001b[34m[2022-11-24:12:21:32:INFO] Sniff delimiter as ','\u001b[0m\n",
      "\u001b[34m[2022-11-24:12:21:32:INFO] Determined delimiter of CSV input is ','\u001b[0m\n",
      "\u001b[34m[2022-11-24:12:21:32:INFO] Sniff delimiter as ','\u001b[0m\n",
      "\u001b[34m[2022-11-24:12:21:32:INFO] Determined delimiter of CSV input is ','\u001b[0m\n",
      "\u001b[34m[2022-11-24:12:21:32:INFO] Sniff delimiter as ','\u001b[0m\n",
      "\u001b[34m[2022-11-24:12:21:32:INFO] Determined delimiter of CSV input is ','\u001b[0m\n",
      "\u001b[35m[2022-11-24:12:21:32:INFO] Sniff delimiter as ','\u001b[0m\n",
      "\u001b[35m[2022-11-24:12:21:32:INFO] Determined delimiter of CSV input is ','\u001b[0m\n",
      "\u001b[35m[2022-11-24:12:21:32:INFO] Sniff delimiter as ','\u001b[0m\n",
      "\u001b[35m[2022-11-24:12:21:32:INFO] Determined delimiter of CSV input is ','\u001b[0m\n",
      "\u001b[35m[2022-11-24:12:21:32:INFO] Sniff delimiter as ','\u001b[0m\n",
      "\u001b[35m[2022-11-24:12:21:32:INFO] Determined delimiter of CSV input is ','\u001b[0m\n",
      "\u001b[32m2022-11-24T12:21:28.980:[sagemaker logs]: MaxConcurrentTransforms=4, MaxPayloadInMB=6, BatchStrategy=MULTI_RECORD\u001b[0m\n",
      "\u001b[34m[2022-11-24:12:21:36:INFO] Sniff delimiter as ','\u001b[0m\n",
      "\u001b[34m[2022-11-24:12:21:36:INFO] Determined delimiter of CSV input is ','\u001b[0m\n",
      "\u001b[34m[2022-11-24:12:21:36:INFO] Sniff delimiter as ','\u001b[0m\n",
      "\u001b[34m[2022-11-24:12:21:36:INFO] Determined delimiter of CSV input is ','\u001b[0m\n",
      "\u001b[35m[2022-11-24:12:21:36:INFO] Sniff delimiter as ','\u001b[0m\n",
      "\u001b[35m[2022-11-24:12:21:36:INFO] Determined delimiter of CSV input is ','\u001b[0m\n",
      "\u001b[35m[2022-11-24:12:21:36:INFO] Sniff delimiter as ','\u001b[0m\n",
      "\u001b[35m[2022-11-24:12:21:36:INFO] Determined delimiter of CSV input is ','\u001b[0m\n",
      "\u001b[34m[2022-11-24:12:21:36:INFO] Sniff delimiter as ','\u001b[0m\n",
      "\u001b[34m[2022-11-24:12:21:36:INFO] Determined delimiter of CSV input is ','\u001b[0m\n",
      "\u001b[34m[2022-11-24:12:21:36:INFO] Sniff delimiter as ','\u001b[0m\n",
      "\u001b[34m[2022-11-24:12:21:36:INFO] Determined delimiter of CSV input is ','\u001b[0m\n",
      "\u001b[35m[2022-11-24:12:21:36:INFO] Sniff delimiter as ','\u001b[0m\n",
      "\u001b[35m[2022-11-24:12:21:36:INFO] Determined delimiter of CSV input is ','\u001b[0m\n",
      "\u001b[35m[2022-11-24:12:21:36:INFO] Sniff delimiter as ','\u001b[0m\n",
      "\u001b[35m[2022-11-24:12:21:36:INFO] Determined delimiter of CSV input is ','\u001b[0m\n",
      "\u001b[34m[2022-11-24:12:21:40:INFO] Sniff delimiter as ','\u001b[0m\n",
      "\u001b[34m[2022-11-24:12:21:40:INFO] Determined delimiter of CSV input is ','\u001b[0m\n",
      "\u001b[34m[2022-11-24:12:21:40:INFO] Sniff delimiter as ','\u001b[0m\n",
      "\u001b[34m[2022-11-24:12:21:40:INFO] Determined delimiter of CSV input is ','\u001b[0m\n",
      "\u001b[34m[2022-11-24:12:21:40:INFO] Sniff delimiter as ','\u001b[0m\n",
      "\u001b[34m[2022-11-24:12:21:40:INFO] Determined delimiter of CSV input is ','\u001b[0m\n",
      "\u001b[35m[2022-11-24:12:21:40:INFO] Sniff delimiter as ','\u001b[0m\n",
      "\u001b[35m[2022-11-24:12:21:40:INFO] Determined delimiter of CSV input is ','\u001b[0m\n",
      "\u001b[35m[2022-11-24:12:21:40:INFO] Sniff delimiter as ','\u001b[0m\n",
      "\u001b[35m[2022-11-24:12:21:40:INFO] Determined delimiter of CSV input is ','\u001b[0m\n",
      "\u001b[35m[2022-11-24:12:21:40:INFO] Sniff delimiter as ','\u001b[0m\n",
      "\u001b[35m[2022-11-24:12:21:40:INFO] Determined delimiter of CSV input is ','\u001b[0m\n",
      "\u001b[34m[2022-11-24:12:21:40:INFO] Sniff delimiter as ','\u001b[0m\n",
      "\u001b[35m[2022-11-24:12:21:40:INFO] Sniff delimiter as ','\u001b[0m\n",
      "\u001b[34m[2022-11-24:12:21:40:INFO] Determined delimiter of CSV input is ','\u001b[0m\n",
      "\u001b[35m[2022-11-24:12:21:40:INFO] Determined delimiter of CSV input is ','\u001b[0m\n",
      "\u001b[34m[2022-11-24:12:21:43:INFO] Sniff delimiter as ','\u001b[0m\n",
      "\u001b[34m[2022-11-24:12:21:43:INFO] Determined delimiter of CSV input is ','\u001b[0m\n",
      "\u001b[34m[2022-11-24:12:21:44:INFO] Sniff delimiter as ','\u001b[0m\n",
      "\u001b[34m[2022-11-24:12:21:44:INFO] Determined delimiter of CSV input is ','\u001b[0m\n",
      "\u001b[34m[2022-11-24:12:21:44:INFO] Sniff delimiter as ','\u001b[0m\n",
      "\u001b[34m[2022-11-24:12:21:44:INFO] Determined delimiter of CSV input is ','\u001b[0m\n",
      "\u001b[34m[2022-11-24:12:21:44:INFO] Sniff delimiter as ','\u001b[0m\n",
      "\u001b[34m[2022-11-24:12:21:44:INFO] Determined delimiter of CSV input is ','\u001b[0m\n",
      "\u001b[35m[2022-11-24:12:21:43:INFO] Sniff delimiter as ','\u001b[0m\n",
      "\u001b[35m[2022-11-24:12:21:43:INFO] Determined delimiter of CSV input is ','\u001b[0m\n",
      "\u001b[35m[2022-11-24:12:21:44:INFO] Sniff delimiter as ','\u001b[0m\n",
      "\u001b[35m[2022-11-24:12:21:44:INFO] Determined delimiter of CSV input is ','\u001b[0m\n",
      "\u001b[35m[2022-11-24:12:21:44:INFO] Sniff delimiter as ','\u001b[0m\n",
      "\u001b[35m[2022-11-24:12:21:44:INFO] Determined delimiter of CSV input is ','\u001b[0m\n",
      "\u001b[35m[2022-11-24:12:21:44:INFO] Sniff delimiter as ','\u001b[0m\n",
      "\u001b[35m[2022-11-24:12:21:44:INFO] Determined delimiter of CSV input is ','\u001b[0m\n",
      "\u001b[34m[2022-11-24:12:21:47:INFO] Sniff delimiter as ','\u001b[0m\n",
      "\u001b[34m[2022-11-24:12:21:47:INFO] Determined delimiter of CSV input is ','\u001b[0m\n",
      "\u001b[34m[2022-11-24:12:21:47:INFO] Sniff delimiter as ','\u001b[0m\n",
      "\u001b[34m[2022-11-24:12:21:47:INFO] Determined delimiter of CSV input is ','\u001b[0m\n",
      "\u001b[34m[2022-11-24:12:21:48:INFO] Sniff delimiter as ','\u001b[0m\n",
      "\u001b[34m[2022-11-24:12:21:48:INFO] Determined delimiter of CSV input is ','\u001b[0m\n",
      "\u001b[34m[2022-11-24:12:21:48:INFO] Sniff delimiter as ','\u001b[0m\n",
      "\u001b[34m[2022-11-24:12:21:48:INFO] Determined delimiter of CSV input is ','\u001b[0m\n",
      "\u001b[35m[2022-11-24:12:21:47:INFO] Sniff delimiter as ','\u001b[0m\n",
      "\u001b[35m[2022-11-24:12:21:47:INFO] Determined delimiter of CSV input is ','\u001b[0m\n",
      "\u001b[35m[2022-11-24:12:21:47:INFO] Sniff delimiter as ','\u001b[0m\n",
      "\u001b[35m[2022-11-24:12:21:47:INFO] Determined delimiter of CSV input is ','\u001b[0m\n",
      "\u001b[35m[2022-11-24:12:21:48:INFO] Sniff delimiter as ','\u001b[0m\n",
      "\u001b[35m[2022-11-24:12:21:48:INFO] Determined delimiter of CSV input is ','\u001b[0m\n",
      "\u001b[35m[2022-11-24:12:21:48:INFO] Sniff delimiter as ','\u001b[0m\n",
      "\u001b[35m[2022-11-24:12:21:48:INFO] Determined delimiter of CSV input is ','\u001b[0m\n",
      "\u001b[34m[2022-11-24:12:21:51:INFO] Sniff delimiter as ','\u001b[0m\n",
      "\u001b[34m[2022-11-24:12:21:51:INFO] Determined delimiter of CSV input is ','\u001b[0m\n",
      "\u001b[34m[2022-11-24:12:21:51:INFO] Sniff delimiter as ','\u001b[0m\n",
      "\u001b[34m[2022-11-24:12:21:51:INFO] Determined delimiter of CSV input is ','\u001b[0m\n",
      "\u001b[35m[2022-11-24:12:21:51:INFO] Sniff delimiter as ','\u001b[0m\n",
      "\u001b[35m[2022-11-24:12:21:51:INFO] Determined delimiter of CSV input is ','\u001b[0m\n",
      "\u001b[35m[2022-11-24:12:21:51:INFO] Sniff delimiter as ','\u001b[0m\n",
      "\u001b[35m[2022-11-24:12:21:51:INFO] Determined delimiter of CSV input is ','\u001b[0m\n",
      "\u001b[34m[2022-11-24:12:21:51:INFO] Sniff delimiter as ','\u001b[0m\n",
      "\u001b[34m[2022-11-24:12:21:51:INFO] Determined delimiter of CSV input is ','\u001b[0m\n",
      "\u001b[34m[2022-11-24:12:21:52:INFO] Sniff delimiter as ','\u001b[0m\n",
      "\u001b[34m[2022-11-24:12:21:52:INFO] Determined delimiter of CSV input is ','\u001b[0m\n",
      "\u001b[35m[2022-11-24:12:21:51:INFO] Sniff delimiter as ','\u001b[0m\n",
      "\u001b[35m[2022-11-24:12:21:51:INFO] Determined delimiter of CSV input is ','\u001b[0m\n",
      "\u001b[35m[2022-11-24:12:21:52:INFO] Sniff delimiter as ','\u001b[0m\n",
      "\u001b[35m[2022-11-24:12:21:52:INFO] Determined delimiter of CSV input is ','\u001b[0m\n",
      "\u001b[34m[2022-11-24:12:21:55:INFO] Sniff delimiter as ','\u001b[0m\n",
      "\u001b[34m[2022-11-24:12:21:55:INFO] Determined delimiter of CSV input is ','\u001b[0m\n",
      "\u001b[35m[2022-11-24:12:21:55:INFO] Sniff delimiter as ','\u001b[0m\n",
      "\u001b[35m[2022-11-24:12:21:55:INFO] Determined delimiter of CSV input is ','\u001b[0m\n",
      "\u001b[34m[2022-11-24:12:21:55:INFO] Sniff delimiter as ','\u001b[0m\n",
      "\u001b[34m[2022-11-24:12:21:55:INFO] Determined delimiter of CSV input is ','\u001b[0m\n",
      "\u001b[34m[2022-11-24:12:21:55:INFO] Sniff delimiter as ','\u001b[0m\n",
      "\u001b[34m[2022-11-24:12:21:55:INFO] Determined delimiter of CSV input is ','\u001b[0m\n",
      "\u001b[34m[2022-11-24:12:21:55:INFO] Sniff delimiter as ','\u001b[0m\n",
      "\u001b[34m[2022-11-24:12:21:55:INFO] Determined delimiter of CSV input is ','\u001b[0m\n",
      "\u001b[35m[2022-11-24:12:21:55:INFO] Sniff delimiter as ','\u001b[0m\n",
      "\u001b[35m[2022-11-24:12:21:55:INFO] Determined delimiter of CSV input is ','\u001b[0m\n",
      "\u001b[35m[2022-11-24:12:21:55:INFO] Sniff delimiter as ','\u001b[0m\n",
      "\u001b[35m[2022-11-24:12:21:55:INFO] Determined delimiter of CSV input is ','\u001b[0m\n",
      "\u001b[35m[2022-11-24:12:21:55:INFO] Sniff delimiter as ','\u001b[0m\n",
      "\u001b[35m[2022-11-24:12:21:55:INFO] Determined delimiter of CSV input is ','\u001b[0m\n",
      "\u001b[34m[2022-11-24:12:21:59:INFO] Sniff delimiter as ','\u001b[0m\n",
      "\u001b[34m[2022-11-24:12:21:59:INFO] Determined delimiter of CSV input is ','\u001b[0m\n",
      "\u001b[34m[2022-11-24:12:21:59:INFO] Sniff delimiter as ','\u001b[0m\n",
      "\u001b[34m[2022-11-24:12:21:59:INFO] Determined delimiter of CSV input is ','\u001b[0m\n",
      "\u001b[35m[2022-11-24:12:21:59:INFO] Sniff delimiter as ','\u001b[0m\n",
      "\u001b[35m[2022-11-24:12:21:59:INFO] Determined delimiter of CSV input is ','\u001b[0m\n",
      "\u001b[35m[2022-11-24:12:21:59:INFO] Sniff delimiter as ','\u001b[0m\n",
      "\u001b[35m[2022-11-24:12:21:59:INFO] Determined delimiter of CSV input is ','\u001b[0m\n",
      "\u001b[34m[2022-11-24:12:21:59:INFO] Sniff delimiter as ','\u001b[0m\n",
      "\u001b[34m[2022-11-24:12:21:59:INFO] Determined delimiter of CSV input is ','\u001b[0m\n",
      "\u001b[34m[2022-11-24:12:21:59:INFO] Sniff delimiter as ','\u001b[0m\n",
      "\u001b[35m[2022-11-24:12:21:59:INFO] Sniff delimiter as ','\u001b[0m\n",
      "\u001b[35m[2022-11-24:12:21:59:INFO] Determined delimiter of CSV input is ','\u001b[0m\n",
      "\u001b[35m[2022-11-24:12:21:59:INFO] Sniff delimiter as ','\u001b[0m\n",
      "\u001b[34m[2022-11-24:12:21:59:INFO] Determined delimiter of CSV input is ','\u001b[0m\n",
      "\u001b[35m[2022-11-24:12:21:59:INFO] Determined delimiter of CSV input is ','\u001b[0m\n",
      "\u001b[34m[2022-11-24:12:22:03:INFO] Sniff delimiter as ','\u001b[0m\n",
      "\u001b[34m[2022-11-24:12:22:03:INFO] Determined delimiter of CSV input is ','\u001b[0m\n",
      "\u001b[34m[2022-11-24:12:22:03:INFO] Sniff delimiter as ','\u001b[0m\n",
      "\u001b[34m[2022-11-24:12:22:03:INFO] Determined delimiter of CSV input is ','\u001b[0m\n",
      "\u001b[34m[2022-11-24:12:22:03:INFO] Sniff delimiter as ','\u001b[0m\n",
      "\u001b[34m[2022-11-24:12:22:03:INFO] Determined delimiter of CSV input is ','\u001b[0m\n",
      "\u001b[35m[2022-11-24:12:22:03:INFO] Sniff delimiter as ','\u001b[0m\n",
      "\u001b[35m[2022-11-24:12:22:03:INFO] Determined delimiter of CSV input is ','\u001b[0m\n",
      "\u001b[35m[2022-11-24:12:22:03:INFO] Sniff delimiter as ','\u001b[0m\n",
      "\u001b[35m[2022-11-24:12:22:03:INFO] Determined delimiter of CSV input is ','\u001b[0m\n",
      "\u001b[35m[2022-11-24:12:22:03:INFO] Sniff delimiter as ','\u001b[0m\n",
      "\u001b[35m[2022-11-24:12:22:03:INFO] Determined delimiter of CSV input is ','\u001b[0m\n",
      "\u001b[34m[2022-11-24:12:22:03:INFO] Sniff delimiter as ','\u001b[0m\n",
      "\u001b[34m[2022-11-24:12:22:03:INFO] Determined delimiter of CSV input is ','\u001b[0m\n",
      "\u001b[35m[2022-11-24:12:22:03:INFO] Sniff delimiter as ','\u001b[0m\n",
      "\u001b[35m[2022-11-24:12:22:03:INFO] Determined delimiter of CSV input is ','\u001b[0m\n",
      "\u001b[34m[2022-11-24:12:22:07:INFO] Sniff delimiter as ','\u001b[0m\n",
      "\u001b[35m[2022-11-24:12:22:07:INFO] Sniff delimiter as ','\u001b[0m\n",
      "\u001b[34m[2022-11-24:12:22:07:INFO] Determined delimiter of CSV input is ','\u001b[0m\n",
      "\u001b[34m[2022-11-24:12:22:07:INFO] Sniff delimiter as ','\u001b[0m\n",
      "\u001b[34m[2022-11-24:12:22:07:INFO] Determined delimiter of CSV input is ','\u001b[0m\n",
      "\u001b[34m[2022-11-24:12:22:07:INFO] Sniff delimiter as ','\u001b[0m\n",
      "\u001b[34m[2022-11-24:12:22:07:INFO] Determined delimiter of CSV input is ','\u001b[0m\n",
      "\u001b[34m[2022-11-24:12:22:07:INFO] Sniff delimiter as ','\u001b[0m\n",
      "\u001b[34m[2022-11-24:12:22:07:INFO] Determined delimiter of CSV input is ','\u001b[0m\n",
      "\u001b[35m[2022-11-24:12:22:07:INFO] Determined delimiter of CSV input is ','\u001b[0m\n",
      "\u001b[35m[2022-11-24:12:22:07:INFO] Sniff delimiter as ','\u001b[0m\n",
      "\u001b[35m[2022-11-24:12:22:07:INFO] Determined delimiter of CSV input is ','\u001b[0m\n",
      "\u001b[35m[2022-11-24:12:22:07:INFO] Sniff delimiter as ','\u001b[0m\n",
      "\u001b[35m[2022-11-24:12:22:07:INFO] Determined delimiter of CSV input is ','\u001b[0m\n",
      "\u001b[35m[2022-11-24:12:22:07:INFO] Sniff delimiter as ','\u001b[0m\n",
      "\u001b[35m[2022-11-24:12:22:07:INFO] Determined delimiter of CSV input is ','\u001b[0m\n"
     ]
    }
   ],
   "source": [
    "xgb_transformer.wait()"
   ]
  },
  {
   "cell_type": "markdown",
   "metadata": {},
   "source": [
    "Now the transform job has executed and the result, the estimated sentiment of each review, has been saved on S3. Since we would rather work on this file locally we can perform a bit of notebook magic to copy the file to the `data_dir`."
   ]
  },
  {
   "cell_type": "code",
   "execution_count": 48,
   "metadata": {},
   "outputs": [
    {
     "name": "stdout",
     "output_type": "stream",
     "text": [
      "download: s3://sagemaker-us-east-1-077073585279/xgboost-2022-11-24-12-15-46-242/test.csv.out to ../data/xgboost/test.csv.out\n"
     ]
    }
   ],
   "source": [
    "!aws s3 cp --recursive $xgb_transformer.output_path $data_dir"
   ]
  },
  {
   "cell_type": "markdown",
   "metadata": {},
   "source": [
    "The last step is now to read in the output from our model, convert the output to something a little more usable, in this case we want the sentiment to be either `1` (positive) or `0` (negative), and then compare to the ground truth labels."
   ]
  },
  {
   "cell_type": "code",
   "execution_count": 49,
   "metadata": {},
   "outputs": [],
   "source": [
    "predictions = pd.read_csv(os.path.join(data_dir, 'test.csv.out'), header=None)\n",
    "predictions = [round(num) for num in predictions.squeeze().values]"
   ]
  },
  {
   "cell_type": "code",
   "execution_count": 50,
   "metadata": {},
   "outputs": [
    {
     "data": {
      "text/plain": [
       "0.86412"
      ]
     },
     "execution_count": 50,
     "metadata": {},
     "output_type": "execute_result"
    }
   ],
   "source": [
    "from sklearn.metrics import accuracy_score\n",
    "accuracy_score(test_y, predictions)"
   ]
  },
  {
   "cell_type": "markdown",
   "metadata": {},
   "source": [
    "## Optional: Clean up\n",
    "\n",
    "The default notebook instance on SageMaker doesn't have a lot of excess disk space available. As you continue to complete and execute notebooks you will eventually fill up this disk space, leading to errors which can be difficult to diagnose. Once you are completely finished using a notebook it is a good idea to remove the files that you created along the way. Of course, you can do this from the terminal or from the notebook hub if you would like. The cell below contains some commands to clean up the created files from within the notebook."
   ]
  },
  {
   "cell_type": "code",
   "execution_count": 51,
   "metadata": {},
   "outputs": [],
   "source": [
    "# First we will remove all of the files contained in the data_dir directory\n",
    "!rm $data_dir/*\n",
    "\n",
    "# And then we delete the directory itself\n",
    "!rmdir $data_dir\n",
    "\n",
    "# Similarly we will remove the files in the cache_dir directory and the directory itself\n",
    "!rm $cache_dir/*\n",
    "!rmdir $cache_dir"
   ]
  },
  {
   "cell_type": "code",
   "execution_count": null,
   "metadata": {},
   "outputs": [],
   "source": []
  }
 ],
 "metadata": {
  "kernelspec": {
   "display_name": "conda_python3",
   "language": "python",
   "name": "conda_python3"
  },
  "language_info": {
   "codemirror_mode": {
    "name": "ipython",
    "version": 3
   },
   "file_extension": ".py",
   "mimetype": "text/x-python",
   "name": "python",
   "nbconvert_exporter": "python",
   "pygments_lexer": "ipython3",
   "version": "3.8.12"
  }
 },
 "nbformat": 4,
 "nbformat_minor": 4
}
