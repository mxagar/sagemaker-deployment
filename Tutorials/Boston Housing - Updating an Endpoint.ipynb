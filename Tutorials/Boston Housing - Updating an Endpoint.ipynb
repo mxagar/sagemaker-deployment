{
 "cells": [
  {
   "cell_type": "markdown",
   "metadata": {},
   "source": [
    "# Predicting Boston Housing Prices\n",
    "\n",
    "## Updating a model using SageMaker\n",
    "\n",
    "_Deep Learning Nanodegree Program | Deployment_\n",
    "\n",
    "---\n",
    "\n",
    "In this notebook, we will continue working with the [Boston Housing Dataset](https://www.cs.toronto.edu/~delve/data/boston/bostonDetail.html). Our goal in this notebook will be to train two different models and to use SageMaker to switch a deployed endpoint from using one model to the other. One of the benefits of using SageMaker to do this is that we can make the change without interrupting service. What this means is that we can continue sending data to the endpoint and at no point will that endpoint disappear.\n",
    "\n",
    "## General Outline\n",
    "\n",
    "Typically, when using a notebook instance with SageMaker, you will proceed through the following steps. Of course, not every step will need to be done with each project. Also, there is quite a lot of room for variation in many of the steps, as you will see throughout these lessons.\n",
    "\n",
    "1. Download or otherwise retrieve the data.\n",
    "2. Process / Prepare the data.\n",
    "3. Upload the processed data to S3.\n",
    "4. Train a chosen model.\n",
    "5. Test the trained model (typically using a batch transform job).\n",
    "6. Deploy the trained model.\n",
    "7. Use the deployed model.\n",
    "\n",
    "In this notebook we will be skipping step 5, testing the model. In addition, we will perform steps 4, 6 and 7 multiple times with different models."
   ]
  },
  {
   "cell_type": "code",
   "execution_count": null,
   "metadata": {},
   "outputs": [],
   "source": [
    "# Make sure that we use SageMaker 1.x\n",
    "!pip install sagemaker==1.72.0"
   ]
  },
  {
   "cell_type": "markdown",
   "metadata": {},
   "source": [
    "## Step 0: Setting up the notebook\n",
    "\n",
    "We begin by setting up all of the necessary bits required to run our notebook. To start that means loading all of the Python modules we will need."
   ]
  },
  {
   "cell_type": "code",
   "execution_count": 1,
   "metadata": {},
   "outputs": [
    {
     "name": "stderr",
     "output_type": "stream",
     "text": [
      "Matplotlib is building the font cache; this may take a moment.\n"
     ]
    }
   ],
   "source": [
    "%matplotlib inline\n",
    "\n",
    "import os\n",
    "\n",
    "import numpy as np\n",
    "import pandas as pd\n",
    "\n",
    "from pprint import pprint\n",
    "import matplotlib.pyplot as plt\n",
    "from time import gmtime, strftime\n",
    "\n",
    "from sklearn.datasets import load_boston\n",
    "import sklearn.model_selection"
   ]
  },
  {
   "cell_type": "markdown",
   "metadata": {},
   "source": [
    "In addition to the modules above, we need to import the various bits of SageMaker that we will be using. "
   ]
  },
  {
   "cell_type": "code",
   "execution_count": 2,
   "metadata": {},
   "outputs": [],
   "source": [
    "import sagemaker\n",
    "from sagemaker import get_execution_role\n",
    "from sagemaker.amazon.amazon_estimator import get_image_uri\n",
    "from sagemaker.predictor import csv_serializer\n",
    "\n",
    "# This is an object that represents the SageMaker session that we are currently operating in. This\n",
    "# object contains some useful information that we will need to access later such as our region.\n",
    "session = sagemaker.Session()\n",
    "\n",
    "# This is an object that represents the IAM role that we are currently assigned. When we construct\n",
    "# and launch the training job later we will need to tell it what IAM role it should have. Since our\n",
    "# use case is relatively simple we will simply assign the training job the role we currently have.\n",
    "role = get_execution_role()"
   ]
  },
  {
   "cell_type": "markdown",
   "metadata": {},
   "source": [
    "## Step 1: Downloading the data\n",
    "\n",
    "Fortunately, this dataset can be retrieved using sklearn and so this step is relatively straightforward."
   ]
  },
  {
   "cell_type": "code",
   "execution_count": 3,
   "metadata": {},
   "outputs": [
    {
     "name": "stderr",
     "output_type": "stream",
     "text": [
      "/home/ec2-user/anaconda3/envs/pytorch_p38/lib/python3.8/site-packages/sklearn/utils/deprecation.py:87: FutureWarning: Function load_boston is deprecated; `load_boston` is deprecated in 1.0 and will be removed in 1.2.\n",
      "\n",
      "    The Boston housing prices dataset has an ethical problem. You can refer to\n",
      "    the documentation of this function for further details.\n",
      "\n",
      "    The scikit-learn maintainers therefore strongly discourage the use of this\n",
      "    dataset unless the purpose of the code is to study and educate about\n",
      "    ethical issues in data science and machine learning.\n",
      "\n",
      "    In this special case, you can fetch the dataset from the original\n",
      "    source::\n",
      "\n",
      "        import pandas as pd\n",
      "        import numpy as np\n",
      "\n",
      "\n",
      "        data_url = \"http://lib.stat.cmu.edu/datasets/boston\"\n",
      "        raw_df = pd.read_csv(data_url, sep=\"\\s+\", skiprows=22, header=None)\n",
      "        data = np.hstack([raw_df.values[::2, :], raw_df.values[1::2, :2]])\n",
      "        target = raw_df.values[1::2, 2]\n",
      "\n",
      "    Alternative datasets include the California housing dataset (i.e.\n",
      "    :func:`~sklearn.datasets.fetch_california_housing`) and the Ames housing\n",
      "    dataset. You can load the datasets as follows::\n",
      "\n",
      "        from sklearn.datasets import fetch_california_housing\n",
      "        housing = fetch_california_housing()\n",
      "\n",
      "    for the California housing dataset and::\n",
      "\n",
      "        from sklearn.datasets import fetch_openml\n",
      "        housing = fetch_openml(name=\"house_prices\", as_frame=True)\n",
      "\n",
      "    for the Ames housing dataset.\n",
      "    \n",
      "  warnings.warn(msg, category=FutureWarning)\n"
     ]
    }
   ],
   "source": [
    "boston = load_boston()"
   ]
  },
  {
   "cell_type": "markdown",
   "metadata": {},
   "source": [
    "## Step 2: Preparing and splitting the data\n",
    "\n",
    "Given that this is clean tabular data, we don't need to do any processing. However, we do need to split the rows in the dataset up into train, test and validation sets."
   ]
  },
  {
   "cell_type": "code",
   "execution_count": 4,
   "metadata": {},
   "outputs": [],
   "source": [
    "# First we package up the input data and the target variable (the median value) as pandas dataframes. This\n",
    "# will make saving the data to a file a little easier later on.\n",
    "\n",
    "X_bos_pd = pd.DataFrame(boston.data, columns=boston.feature_names)\n",
    "Y_bos_pd = pd.DataFrame(boston.target)\n",
    "\n",
    "# We split the dataset into 2/3 training and 1/3 testing sets.\n",
    "X_train, X_test, Y_train, Y_test = sklearn.model_selection.train_test_split(X_bos_pd, Y_bos_pd, test_size=0.33)\n",
    "\n",
    "# Then we split the training set further into 2/3 training and 1/3 validation sets.\n",
    "X_train, X_val, Y_train, Y_val = sklearn.model_selection.train_test_split(X_train, Y_train, test_size=0.33)"
   ]
  },
  {
   "cell_type": "markdown",
   "metadata": {},
   "source": [
    "## Step 3: Uploading the training and validation files to S3\n",
    "\n",
    "When a training job is constructed using SageMaker, a container is executed which performs the training operation. This container is given access to data that is stored in S3. This means that we need to upload the data we want to use for training to S3. We can use the SageMaker API to do this and hide some of the details.\n",
    "\n",
    "### Save the data locally\n",
    "\n",
    "First we need to create the train and validation csv files which we will then upload to S3."
   ]
  },
  {
   "cell_type": "code",
   "execution_count": 5,
   "metadata": {},
   "outputs": [],
   "source": [
    "# This is our local data directory. We need to make sure that it exists.\n",
    "data_dir = '../data/boston'\n",
    "if not os.path.exists(data_dir):\n",
    "    os.makedirs(data_dir)"
   ]
  },
  {
   "cell_type": "code",
   "execution_count": 6,
   "metadata": {},
   "outputs": [],
   "source": [
    "# We use pandas to save our train and validation data to csv files. Note that we make sure not to include header\n",
    "# information or an index as this is required by the built in algorithms provided by Amazon. Also, it is assumed\n",
    "# that the first entry in each row is the target variable.\n",
    "\n",
    "pd.concat([Y_val, X_val], axis=1).to_csv(os.path.join(data_dir, 'validation.csv'), header=False, index=False)\n",
    "pd.concat([Y_train, X_train], axis=1).to_csv(os.path.join(data_dir, 'train.csv'), header=False, index=False)"
   ]
  },
  {
   "cell_type": "markdown",
   "metadata": {},
   "source": [
    "### Upload to S3\n",
    "\n",
    "Since we are currently running inside of a SageMaker session, we can use the object which represents this session to upload our data to the 'default' S3 bucket. Note that it is good practice to provide a custom prefix (essentially an S3 folder) to make sure that you don't accidentally interfere with data uploaded from some other notebook or project."
   ]
  },
  {
   "cell_type": "code",
   "execution_count": 7,
   "metadata": {},
   "outputs": [],
   "source": [
    "prefix = 'boston-update-endpoints'\n",
    "\n",
    "val_location = session.upload_data(os.path.join(data_dir, 'validation.csv'), key_prefix=prefix)\n",
    "train_location = session.upload_data(os.path.join(data_dir, 'train.csv'), key_prefix=prefix)"
   ]
  },
  {
   "cell_type": "markdown",
   "metadata": {},
   "source": [
    "## Step 4 (A): Train the XGBoost model\n",
    "\n",
    "Now that we have the training and validation data uploaded to S3, we can construct our XGBoost model and train it. We will be making use of the high level SageMaker API to do this which will make the resulting code a little easier to read at the cost of some flexibility.\n",
    "\n",
    "To construct an estimator, the object which we wish to train, we need to provide the location of a container which contains the training code. Since we are using a built in algorithm this container is provided by Amazon. However, the full name of the container is a bit lengthy and depends on the region that we are operating in. Fortunately, SageMaker provides a useful utility method called `get_image_uri` that constructs the image name for us.\n",
    "\n",
    "To use the `get_image_uri` method we need to provide it with our current region, which can be obtained from the session object, and the name of the algorithm we wish to use. In this notebook we will be using XGBoost however you could try another algorithm if you wish. The list of built in algorithms can be found in the list of [Common Parameters](https://docs.aws.amazon.com/sagemaker/latest/dg/sagemaker-algo-docker-registry-paths.html)."
   ]
  },
  {
   "cell_type": "code",
   "execution_count": 8,
   "metadata": {},
   "outputs": [
    {
     "name": "stderr",
     "output_type": "stream",
     "text": [
      "The method get_image_uri has been renamed in sagemaker>=2.\n",
      "See: https://sagemaker.readthedocs.io/en/stable/v2.html for details.\n",
      "train_instance_count has been renamed in sagemaker>=2.\n",
      "See: https://sagemaker.readthedocs.io/en/stable/v2.html for details.\n",
      "train_instance_type has been renamed in sagemaker>=2.\n",
      "See: https://sagemaker.readthedocs.io/en/stable/v2.html for details.\n"
     ]
    }
   ],
   "source": [
    "# As stated above, we use this utility method to construct the image name for the training container.\n",
    "xgb_container = get_image_uri(session.boto_region_name, 'xgboost')\n",
    "\n",
    "# Now that we know which container to use, we can construct the estimator object.\n",
    "xgb = sagemaker.estimator.Estimator(xgb_container, # The name of the training container\n",
    "                                    role,      # The IAM role to use (our current role in this case)\n",
    "                                    train_instance_count=1, # The number of instances to use for training\n",
    "                                    train_instance_type='ml.m4.xlarge', # The type of instance ot use for training\n",
    "                                    output_path='s3://{}/{}/output'.format(session.default_bucket(), prefix),\n",
    "                                                                        # Where to save the output (the model artifacts)\n",
    "                                    sagemaker_session=session) # The current SageMaker session"
   ]
  },
  {
   "cell_type": "markdown",
   "metadata": {},
   "source": [
    "Before asking SageMaker to begin the training job, we should probably set any model specific hyperparameters. There are quite a few that can be set when using the XGBoost algorithm, below are just a few of them. If you would like to change the hyperparameters below or modify additional ones you can find additional information on the [XGBoost hyperparameter page](https://docs.aws.amazon.com/sagemaker/latest/dg/xgboost_hyperparameters.html)"
   ]
  },
  {
   "cell_type": "code",
   "execution_count": 9,
   "metadata": {},
   "outputs": [],
   "source": [
    "xgb.set_hyperparameters(max_depth=5,\n",
    "                        eta=0.2,\n",
    "                        gamma=4,\n",
    "                        min_child_weight=6,\n",
    "                        subsample=0.8,\n",
    "                        objective='reg:linear',\n",
    "                        early_stopping_rounds=10,\n",
    "                        num_round=200)"
   ]
  },
  {
   "cell_type": "markdown",
   "metadata": {},
   "source": [
    "Now that we have our estimator object completely set up, it is time to train it. To do this we make sure that SageMaker knows our input data is in csv format and then execute the `fit` method."
   ]
  },
  {
   "cell_type": "code",
   "execution_count": 41,
   "metadata": {},
   "outputs": [
    {
     "name": "stdout",
     "output_type": "stream",
     "text": [
      "2022-11-25 06:53:39 Starting - Starting the training job...\n",
      "2022-11-25 06:54:05 Starting - Preparing the instances for trainingProfilerReport-1669359219: InProgress\n",
      ".........\n",
      "2022-11-25 06:55:23 Downloading - Downloading input data......\n",
      "2022-11-25 06:56:23 Training - Downloading the training image...\n",
      "2022-11-25 06:57:07 Uploading - Uploading generated training model\u001b[34mArguments: train\u001b[0m\n",
      "\u001b[34m[2022-11-25:06:57:00:INFO] Running standalone xgboost training.\u001b[0m\n",
      "\u001b[34m[2022-11-25:06:57:00:INFO] File size need to be processed in the node: 0.02mb. Available memory size in the node: 8820.28mb\u001b[0m\n",
      "\u001b[34m[2022-11-25:06:57:00:INFO] Determined delimiter of CSV input is ','\u001b[0m\n",
      "\u001b[34m[06:57:00] S3DistributionType set as FullyReplicated\u001b[0m\n",
      "\u001b[34m[06:57:00] 227x13 matrix with 2951 entries loaded from /opt/ml/input/data/train?format=csv&label_column=0&delimiter=,\u001b[0m\n",
      "\u001b[34m[2022-11-25:06:57:00:INFO] Determined delimiter of CSV input is ','\u001b[0m\n",
      "\u001b[34m[06:57:00] S3DistributionType set as FullyReplicated\u001b[0m\n",
      "\u001b[34m[06:57:00] 112x13 matrix with 1456 entries loaded from /opt/ml/input/data/validation?format=csv&label_column=0&delimiter=,\u001b[0m\n",
      "\u001b[34m[06:57:00] src/tree/updater_prune.cc:74: tree pruning end, 1 roots, 10 extra nodes, 0 pruned nodes, max_depth=4\u001b[0m\n",
      "\u001b[34m[0]#011train-rmse:19.9947#011validation-rmse:19.541\u001b[0m\n",
      "\u001b[34mMultiple eval metrics have been passed: 'validation-rmse' will be used for early stopping.\u001b[0m\n",
      "\u001b[34mWill train until validation-rmse hasn't improved in 10 rounds.\u001b[0m\n",
      "\u001b[34m[06:57:00] src/tree/updater_prune.cc:74: tree pruning end, 1 roots, 10 extra nodes, 2 pruned nodes, max_depth=3\u001b[0m\n",
      "\u001b[34m[1]#011train-rmse:16.3549#011validation-rmse:15.8902\u001b[0m\n",
      "\u001b[34m[06:57:00] src/tree/updater_prune.cc:74: tree pruning end, 1 roots, 14 extra nodes, 0 pruned nodes, max_depth=4\u001b[0m\n",
      "\u001b[34m[2]#011train-rmse:13.4082#011validation-rmse:12.863\u001b[0m\n",
      "\u001b[34m[06:57:00] src/tree/updater_prune.cc:74: tree pruning end, 1 roots, 16 extra nodes, 0 pruned nodes, max_depth=4\u001b[0m\n",
      "\u001b[34m[3]#011train-rmse:11.0396#011validation-rmse:10.513\u001b[0m\n",
      "\u001b[34m[06:57:00] src/tree/updater_prune.cc:74: tree pruning end, 1 roots, 14 extra nodes, 4 pruned nodes, max_depth=5\u001b[0m\n",
      "\u001b[34m[4]#011train-rmse:9.12632#011validation-rmse:8.72318\u001b[0m\n",
      "\u001b[34m[06:57:00] src/tree/updater_prune.cc:74: tree pruning end, 1 roots, 16 extra nodes, 2 pruned nodes, max_depth=5\u001b[0m\n",
      "\u001b[34m[5]#011train-rmse:7.66906#011validation-rmse:7.37988\u001b[0m\n",
      "\u001b[34m[06:57:00] src/tree/updater_prune.cc:74: tree pruning end, 1 roots, 24 extra nodes, 0 pruned nodes, max_depth=5\u001b[0m\n",
      "\u001b[34m[6]#011train-rmse:6.52178#011validation-rmse:6.33054\u001b[0m\n",
      "\u001b[34m[06:57:00] src/tree/updater_prune.cc:74: tree pruning end, 1 roots, 22 extra nodes, 0 pruned nodes, max_depth=5\u001b[0m\n",
      "\u001b[34m[7]#011train-rmse:5.52636#011validation-rmse:5.45302\u001b[0m\n",
      "\u001b[34m[06:57:00] src/tree/updater_prune.cc:74: tree pruning end, 1 roots, 18 extra nodes, 2 pruned nodes, max_depth=5\u001b[0m\n",
      "\u001b[34m[8]#011train-rmse:4.80161#011validation-rmse:4.8029\u001b[0m\n",
      "\u001b[34m[06:57:00] src/tree/updater_prune.cc:74: tree pruning end, 1 roots, 18 extra nodes, 0 pruned nodes, max_depth=5\u001b[0m\n",
      "\u001b[34m[9]#011train-rmse:4.23678#011validation-rmse:4.35925\u001b[0m\n",
      "\u001b[34m[06:57:00] src/tree/updater_prune.cc:74: tree pruning end, 1 roots, 16 extra nodes, 2 pruned nodes, max_depth=5\u001b[0m\n",
      "\u001b[34m[10]#011train-rmse:3.80924#011validation-rmse:4.01711\u001b[0m\n",
      "\u001b[34m[06:57:00] src/tree/updater_prune.cc:74: tree pruning end, 1 roots, 14 extra nodes, 0 pruned nodes, max_depth=5\u001b[0m\n",
      "\u001b[34m[11]#011train-rmse:3.44394#011validation-rmse:3.82516\u001b[0m\n",
      "\u001b[34m[06:57:00] src/tree/updater_prune.cc:74: tree pruning end, 1 roots, 12 extra nodes, 0 pruned nodes, max_depth=5\u001b[0m\n",
      "\u001b[34m[12]#011train-rmse:3.20661#011validation-rmse:3.75041\u001b[0m\n",
      "\u001b[34m[06:57:00] src/tree/updater_prune.cc:74: tree pruning end, 1 roots, 16 extra nodes, 2 pruned nodes, max_depth=5\u001b[0m\n",
      "\u001b[34m[13]#011train-rmse:3.01317#011validation-rmse:3.71198\u001b[0m\n",
      "\u001b[34m[06:57:00] src/tree/updater_prune.cc:74: tree pruning end, 1 roots, 14 extra nodes, 2 pruned nodes, max_depth=5\u001b[0m\n",
      "\u001b[34m[14]#011train-rmse:2.85577#011validation-rmse:3.69507\u001b[0m\n",
      "\u001b[34m[06:57:00] src/tree/updater_prune.cc:74: tree pruning end, 1 roots, 18 extra nodes, 0 pruned nodes, max_depth=5\u001b[0m\n",
      "\u001b[34m[15]#011train-rmse:2.73034#011validation-rmse:3.68833\u001b[0m\n",
      "\u001b[34m[06:57:00] src/tree/updater_prune.cc:74: tree pruning end, 1 roots, 18 extra nodes, 0 pruned nodes, max_depth=5\u001b[0m\n",
      "\u001b[34m[16]#011train-rmse:2.60228#011validation-rmse:3.64721\u001b[0m\n",
      "\u001b[34m[06:57:00] src/tree/updater_prune.cc:74: tree pruning end, 1 roots, 16 extra nodes, 0 pruned nodes, max_depth=5\u001b[0m\n",
      "\u001b[34m[17]#011train-rmse:2.51292#011validation-rmse:3.60192\u001b[0m\n",
      "\u001b[34m[06:57:00] src/tree/updater_prune.cc:74: tree pruning end, 1 roots, 16 extra nodes, 2 pruned nodes, max_depth=5\u001b[0m\n",
      "\u001b[34m[18]#011train-rmse:2.39337#011validation-rmse:3.55438\u001b[0m\n",
      "\u001b[34m[06:57:00] src/tree/updater_prune.cc:74: tree pruning end, 1 roots, 18 extra nodes, 0 pruned nodes, max_depth=5\u001b[0m\n",
      "\u001b[34m[19]#011train-rmse:2.33079#011validation-rmse:3.50549\u001b[0m\n",
      "\u001b[34m[06:57:00] src/tree/updater_prune.cc:74: tree pruning end, 1 roots, 26 extra nodes, 2 pruned nodes, max_depth=5\u001b[0m\n",
      "\u001b[34m[20]#011train-rmse:2.22184#011validation-rmse:3.51148\u001b[0m\n",
      "\u001b[34m[06:57:00] src/tree/updater_prune.cc:74: tree pruning end, 1 roots, 16 extra nodes, 0 pruned nodes, max_depth=5\u001b[0m\n",
      "\u001b[34m[21]#011train-rmse:2.1759#011validation-rmse:3.51167\u001b[0m\n",
      "\u001b[34m[06:57:00] src/tree/updater_prune.cc:74: tree pruning end, 1 roots, 24 extra nodes, 0 pruned nodes, max_depth=5\u001b[0m\n",
      "\u001b[34m[22]#011train-rmse:2.14818#011validation-rmse:3.53028\u001b[0m\n",
      "\u001b[34m[06:57:00] src/tree/updater_prune.cc:74: tree pruning end, 1 roots, 14 extra nodes, 2 pruned nodes, max_depth=5\u001b[0m\n",
      "\u001b[34m[23]#011train-rmse:2.11976#011validation-rmse:3.52385\u001b[0m\n",
      "\u001b[34m[06:57:00] src/tree/updater_prune.cc:74: tree pruning end, 1 roots, 20 extra nodes, 0 pruned nodes, max_depth=5\u001b[0m\n",
      "\u001b[34m[24]#011train-rmse:2.0453#011validation-rmse:3.50436\u001b[0m\n",
      "\u001b[34m[06:57:00] src/tree/updater_prune.cc:74: tree pruning end, 1 roots, 18 extra nodes, 0 pruned nodes, max_depth=5\u001b[0m\n",
      "\u001b[34m[25]#011train-rmse:1.99832#011validation-rmse:3.48368\u001b[0m\n",
      "\u001b[34m[06:57:00] src/tree/updater_prune.cc:74: tree pruning end, 1 roots, 18 extra nodes, 0 pruned nodes, max_depth=5\u001b[0m\n",
      "\u001b[34m[26]#011train-rmse:1.96507#011validation-rmse:3.49452\u001b[0m\n",
      "\u001b[34m[06:57:00] src/tree/updater_prune.cc:74: tree pruning end, 1 roots, 18 extra nodes, 2 pruned nodes, max_depth=5\u001b[0m\n",
      "\u001b[34m[27]#011train-rmse:1.89004#011validation-rmse:3.48196\u001b[0m\n",
      "\u001b[34m[06:57:00] src/tree/updater_prune.cc:74: tree pruning end, 1 roots, 10 extra nodes, 0 pruned nodes, max_depth=5\u001b[0m\n",
      "\u001b[34m[28]#011train-rmse:1.87336#011validation-rmse:3.48671\u001b[0m\n",
      "\u001b[34m[06:57:00] src/tree/updater_prune.cc:74: tree pruning end, 1 roots, 28 extra nodes, 2 pruned nodes, max_depth=5\u001b[0m\n",
      "\u001b[34m[29]#011train-rmse:1.77696#011validation-rmse:3.50966\u001b[0m\n",
      "\u001b[34m[06:57:00] src/tree/updater_prune.cc:74: tree pruning end, 1 roots, 14 extra nodes, 2 pruned nodes, max_depth=5\u001b[0m\n",
      "\u001b[34m[30]#011train-rmse:1.76186#011validation-rmse:3.51323\u001b[0m\n",
      "\u001b[34m[06:57:00] src/tree/updater_prune.cc:74: tree pruning end, 1 roots, 12 extra nodes, 0 pruned nodes, max_depth=5\u001b[0m\n",
      "\u001b[34m[31]#011train-rmse:1.74315#011validation-rmse:3.50601\u001b[0m\n",
      "\u001b[34m[06:57:00] src/tree/updater_prune.cc:74: tree pruning end, 1 roots, 14 extra nodes, 2 pruned nodes, max_depth=5\u001b[0m\n",
      "\u001b[34m[32]#011train-rmse:1.70246#011validation-rmse:3.50189\u001b[0m\n",
      "\u001b[34m[06:57:00] src/tree/updater_prune.cc:74: tree pruning end, 1 roots, 12 extra nodes, 4 pruned nodes, max_depth=5\u001b[0m\n",
      "\u001b[34m[33]#011train-rmse:1.68745#011validation-rmse:3.48987\u001b[0m\n",
      "\u001b[34m[06:57:00] src/tree/updater_prune.cc:74: tree pruning end, 1 roots, 10 extra nodes, 6 pruned nodes, max_depth=4\u001b[0m\n",
      "\u001b[34m[34]#011train-rmse:1.67605#011validation-rmse:3.48881\u001b[0m\n",
      "\u001b[34m[06:57:00] src/tree/updater_prune.cc:74: tree pruning end, 1 roots, 20 extra nodes, 12 pruned nodes, max_depth=5\u001b[0m\n",
      "\u001b[34m[35]#011train-rmse:1.63962#011validation-rmse:3.50271\u001b[0m\n",
      "\u001b[34m[06:57:00] src/tree/updater_prune.cc:74: tree pruning end, 1 roots, 8 extra nodes, 2 pruned nodes, max_depth=4\u001b[0m\n",
      "\u001b[34m[36]#011train-rmse:1.62037#011validation-rmse:3.49546\u001b[0m\n",
      "\u001b[34m[06:57:00] src/tree/updater_prune.cc:74: tree pruning end, 1 roots, 8 extra nodes, 4 pruned nodes, max_depth=3\u001b[0m\n",
      "\u001b[34m[37]#011train-rmse:1.56043#011validation-rmse:3.48198\u001b[0m\n",
      "\u001b[34mStopping. Best iteration:\u001b[0m\n",
      "\u001b[34m[27]#011train-rmse:1.89004#011validation-rmse:3.48196\u001b[0m\n",
      "\n",
      "2022-11-25 06:57:24 Completed - Training job completed\n",
      "Training seconds: 118\n",
      "Billable seconds: 118\n"
     ]
    }
   ],
   "source": [
    "# This is a wrapper around the location of our train and validation data, to make sure that SageMaker\n",
    "# knows our data is in csv format.\n",
    "s3_input_train = sagemaker.TrainingInput(s3_data=train_location, content_type='text/csv')\n",
    "s3_input_validation = sagemaker.TrainingInput(s3_data=val_location, content_type='text/csv')\n",
    "\n",
    "xgb.fit({'train': s3_input_train, 'validation': s3_input_validation})"
   ]
  },
  {
   "cell_type": "markdown",
   "metadata": {},
   "source": [
    "## Step 5: Test the trained model\n",
    "\n",
    "We will be skipping this step for now.\n",
    "\n",
    "\n",
    "## Step 6 (A): Deploy the trained model\n",
    "\n",
    "Even though we used the high level approach to construct and train the XGBoost model, we will be using the lower level approach to deploy it. One of the reasons for this is so that we have additional control over how the endpoint is constructed. This will be a little more clear later on when construct more advanced endpoints.\n",
    "\n",
    "### Build the model\n",
    "\n",
    "Of course, before we can deploy the model, we need to first create it. The `fit` method that we used earlier created some model artifacts and we can use these to construct a model object."
   ]
  },
  {
   "cell_type": "code",
   "execution_count": 42,
   "metadata": {},
   "outputs": [],
   "source": [
    "# Remember that a model needs to have a unique name\n",
    "xgb_model_name = \"boston-update-xgboost-model\" + strftime(\"%Y-%m-%d-%H-%M-%S\", gmtime())\n",
    "\n",
    "# We also need to tell SageMaker which container should be used for inference and where it should\n",
    "# retrieve the model artifacts from. In our case, the xgboost container that we used for training\n",
    "# can also be used for inference and the model artifacts come from the previous call to fit.\n",
    "xgb_primary_container = {\n",
    "    \"Image\": xgb_container,\n",
    "    \"ModelDataUrl\": xgb.model_data\n",
    "}\n",
    "\n",
    "# And lastly we construct the SageMaker model\n",
    "xgb_model_info = session.sagemaker_client.create_model(\n",
    "                                ModelName = xgb_model_name,\n",
    "                                ExecutionRoleArn = role,\n",
    "                                PrimaryContainer = xgb_primary_container)"
   ]
  },
  {
   "cell_type": "markdown",
   "metadata": {},
   "source": [
    "### Create the endpoint configuration\n",
    "\n",
    "Once we have a model we can start putting together the endpoint. Recall that to do this we need to first create an endpoint configuration, essentially the blueprint that SageMaker will use to build the endpoint itself."
   ]
  },
  {
   "cell_type": "code",
   "execution_count": 14,
   "metadata": {},
   "outputs": [],
   "source": [
    "# As before, we need to give our endpoint configuration a name which should be unique\n",
    "xgb_endpoint_config_name = \"boston-update-xgboost-endpoint-config-\" + strftime(\"%Y-%m-%d-%H-%M-%S\", gmtime())\n",
    "\n",
    "# And then we ask SageMaker to construct the endpoint configuration\n",
    "# Note that we have a single production variant\n",
    "xgb_endpoint_config_info = session.sagemaker_client.create_endpoint_config(\n",
    "                            EndpointConfigName = xgb_endpoint_config_name,\n",
    "                            ProductionVariants = [{\n",
    "                                \"InstanceType\": \"ml.m4.xlarge\",\n",
    "                                \"InitialVariantWeight\": 1,\n",
    "                                \"InitialInstanceCount\": 1,\n",
    "                                \"ModelName\": xgb_model_name,\n",
    "                                \"VariantName\": \"XGB-Model\"\n",
    "                            }])"
   ]
  },
  {
   "cell_type": "markdown",
   "metadata": {},
   "source": [
    "### Deploy the endpoint\n",
    "\n",
    "Now that the endpoint configuration has been created, we can ask SageMaker to build our endpoint.\n",
    "\n",
    "**Note:** This is a friendly (repeated) reminder that you are about to deploy an endpoint. Make sure that you shut it down once you've finished with it!"
   ]
  },
  {
   "cell_type": "code",
   "execution_count": 15,
   "metadata": {},
   "outputs": [],
   "source": [
    "# Again, we need a unique name for our endpoint\n",
    "endpoint_name = \"boston-update-endpoint-\" + strftime(\"%Y-%m-%d-%H-%M-%S\", gmtime())\n",
    "\n",
    "# And then we can deploy our endpoint\n",
    "endpoint_info = session.sagemaker_client.create_endpoint(\n",
    "                    EndpointName = endpoint_name,\n",
    "                    EndpointConfigName = xgb_endpoint_config_name)"
   ]
  },
  {
   "cell_type": "code",
   "execution_count": 16,
   "metadata": {},
   "outputs": [
    {
     "name": "stdout",
     "output_type": "stream",
     "text": [
      "-------!"
     ]
    }
   ],
   "source": [
    "endpoint_dec = session.wait_for_endpoint(endpoint_name)"
   ]
  },
  {
   "cell_type": "markdown",
   "metadata": {},
   "source": [
    "## Step 7 (A): Use the model\n",
    "\n",
    "Now that our model is trained and deployed we can send some test data to it and evaluate the results."
   ]
  },
  {
   "cell_type": "code",
   "execution_count": 17,
   "metadata": {},
   "outputs": [],
   "source": [
    "response = session.sagemaker_runtime_client.invoke_endpoint(\n",
    "                                                EndpointName = endpoint_name,\n",
    "                                                ContentType = 'text/csv',\n",
    "                                                Body = ','.join(map(str, X_test.values[0])))"
   ]
  },
  {
   "cell_type": "code",
   "execution_count": 18,
   "metadata": {},
   "outputs": [
    {
     "name": "stdout",
     "output_type": "stream",
     "text": [
      "{'Body': <botocore.response.StreamingBody object at 0x7fc61ce359a0>,\n",
      " 'ContentType': 'text/csv; charset=utf-8',\n",
      " 'InvokedProductionVariant': 'XGB-Model',\n",
      " 'ResponseMetadata': {'HTTPHeaders': {'content-length': '18',\n",
      "                                      'content-type': 'text/csv; charset=utf-8',\n",
      "                                      'date': 'Thu, 24 Nov 2022 15:58:04 GMT',\n",
      "                                      'x-amzn-invoked-production-variant': 'XGB-Model',\n",
      "                                      'x-amzn-requestid': 'dc6e3f8c-e5bb-45e7-a157-bf2969428176'},\n",
      "                      'HTTPStatusCode': 200,\n",
      "                      'RequestId': 'dc6e3f8c-e5bb-45e7-a157-bf2969428176',\n",
      "                      'RetryAttempts': 0}}\n"
     ]
    }
   ],
   "source": [
    "pprint(response)"
   ]
  },
  {
   "cell_type": "code",
   "execution_count": 19,
   "metadata": {},
   "outputs": [],
   "source": [
    "result = response['Body'].read().decode(\"utf-8\")"
   ]
  },
  {
   "cell_type": "code",
   "execution_count": 20,
   "metadata": {},
   "outputs": [
    {
     "name": "stdout",
     "output_type": "stream",
     "text": [
      "'23.515491485595703'\n"
     ]
    }
   ],
   "source": [
    "print(result)"
   ]
  },
  {
   "cell_type": "code",
   "execution_count": 21,
   "metadata": {},
   "outputs": [
    {
     "data": {
      "text/plain": [
       "array([23.7])"
      ]
     },
     "execution_count": 21,
     "metadata": {},
     "output_type": "execute_result"
    }
   ],
   "source": [
    "Y_test.values[0]"
   ]
  },
  {
   "cell_type": "markdown",
   "metadata": {},
   "source": [
    "## Shut down the endpoint\n",
    "\n",
    "Now that we know that the XGBoost endpoint works, we can shut it down. We will make use of it again later."
   ]
  },
  {
   "cell_type": "code",
   "execution_count": 22,
   "metadata": {},
   "outputs": [
    {
     "data": {
      "text/plain": [
       "{'ResponseMetadata': {'RequestId': '3274a54b-1166-4d59-9545-cc36961404b1',\n",
       "  'HTTPStatusCode': 200,\n",
       "  'HTTPHeaders': {'x-amzn-requestid': '3274a54b-1166-4d59-9545-cc36961404b1',\n",
       "   'content-type': 'application/x-amz-json-1.1',\n",
       "   'content-length': '0',\n",
       "   'date': 'Thu, 24 Nov 2022 15:58:07 GMT'},\n",
       "  'RetryAttempts': 0}}"
      ]
     },
     "execution_count": 22,
     "metadata": {},
     "output_type": "execute_result"
    }
   ],
   "source": [
    "session.sagemaker_client.delete_endpoint(EndpointName = endpoint_name)"
   ]
  },
  {
   "cell_type": "markdown",
   "metadata": {},
   "source": [
    "## Step 4 (B): Train the Linear model\n",
    "\n",
    "Suppose we are working in an environment where the XGBoost model that we trained earlier is becoming too costly. Perhaps the number of calls to our endpoint has increased and the length of time it takes to perform inference with the XGBoost model is becoming problematic.\n",
    "\n",
    "A possible solution might be to train a simpler model to see if it performs nearly as well. In our case, we will construct a linear model. The process of doing this is the same as for creating the XGBoost model that we created earlier, although there are different hyperparameters that we need to set."
   ]
  },
  {
   "cell_type": "code",
   "execution_count": 10,
   "metadata": {},
   "outputs": [
    {
     "name": "stderr",
     "output_type": "stream",
     "text": [
      "The method get_image_uri has been renamed in sagemaker>=2.\n",
      "See: https://sagemaker.readthedocs.io/en/stable/v2.html for details.\n",
      "train_instance_count has been renamed in sagemaker>=2.\n",
      "See: https://sagemaker.readthedocs.io/en/stable/v2.html for details.\n",
      "train_instance_type has been renamed in sagemaker>=2.\n",
      "See: https://sagemaker.readthedocs.io/en/stable/v2.html for details.\n"
     ]
    }
   ],
   "source": [
    "# Similar to the XGBoost model, we will use the utility method to construct the image name for the training container.\n",
    "linear_container = get_image_uri(session.boto_region_name, 'linear-learner')\n",
    "\n",
    "# Now that we know which container to use, we can construct the estimator object.\n",
    "linear = sagemaker.estimator.Estimator(linear_container, # The name of the training container\n",
    "                                        role,      # The IAM role to use (our current role in this case)\n",
    "                                        train_instance_count=1, # The number of instances to use for training\n",
    "                                        train_instance_type='ml.m4.xlarge', # The type of instance ot use for training\n",
    "                                        output_path='s3://{}/{}/output'.format(session.default_bucket(), prefix),\n",
    "                                                                            # Where to save the output (the model artifacts)\n",
    "                                        sagemaker_session=session) # The current SageMaker session"
   ]
  },
  {
   "cell_type": "markdown",
   "metadata": {},
   "source": [
    "Before asking SageMaker to train our model, we need to set some hyperparameters. In this case we will be using a linear model so the number of hyperparameters we need to set is much fewer. For more details see the [Linear model hyperparameter page](https://docs.aws.amazon.com/sagemaker/latest/dg/ll_hyperparameters.html)"
   ]
  },
  {
   "cell_type": "code",
   "execution_count": 11,
   "metadata": {},
   "outputs": [],
   "source": [
    "linear.set_hyperparameters(feature_dim=13, # Our data has 13 feature columns\n",
    "                           predictor_type='regressor', # We wish to create a regression model\n",
    "                           mini_batch_size=200) # Here we set how many samples to look at in each iteration"
   ]
  },
  {
   "cell_type": "markdown",
   "metadata": {},
   "source": [
    "Now that the hyperparameters have been set, we can ask SageMaker to fit the linear model to our data."
   ]
  },
  {
   "cell_type": "code",
   "execution_count": 13,
   "metadata": {},
   "outputs": [],
   "source": [
    "# This is a wrapper around the location of our train and validation data, to make sure that SageMaker\n",
    "# knows our data is in csv format.\n",
    "s3_input_train = sagemaker.TrainingInput(s3_data=train_location, content_type='text/csv')\n",
    "s3_input_validation = sagemaker.TrainingInput(s3_data=val_location, content_type='text/csv')"
   ]
  },
  {
   "cell_type": "code",
   "execution_count": 14,
   "metadata": {},
   "outputs": [
    {
     "name": "stdout",
     "output_type": "stream",
     "text": [
      "2022-11-25 06:12:59 Starting - Starting the training job...ProfilerReport-1669356778: InProgress\n",
      "...\n",
      "2022-11-25 06:13:37 Starting - Preparing the instances for training.........\n",
      "2022-11-25 06:15:22 Downloading - Downloading input data......\n",
      "2022-11-25 06:16:26 Training - Downloading the training image.........\n",
      "2022-11-25 06:17:56 Training - Training image download completed. Training in progress..\u001b[34mDocker entrypoint called with argument(s): train\u001b[0m\n",
      "\u001b[34mRunning default environment configuration script\u001b[0m\n",
      "\u001b[34m[11/25/2022 06:17:59 INFO 140704388560704] Reading default configuration from /opt/amazon/lib/python3.7/site-packages/algorithm/resources/default-input.json: {'mini_batch_size': '1000', 'epochs': '15', 'feature_dim': 'auto', 'use_bias': 'true', 'binary_classifier_model_selection_criteria': 'accuracy', 'f_beta': '1.0', 'target_recall': '0.8', 'target_precision': '0.8', 'num_models': 'auto', 'num_calibration_samples': '10000000', 'init_method': 'uniform', 'init_scale': '0.07', 'init_sigma': '0.01', 'init_bias': '0.0', 'optimizer': 'auto', 'loss': 'auto', 'margin': '1.0', 'quantile': '0.5', 'loss_insensitivity': '0.01', 'huber_delta': '1.0', 'num_classes': '1', 'accuracy_top_k': '3', 'wd': 'auto', 'l1': 'auto', 'momentum': 'auto', 'learning_rate': 'auto', 'beta_1': 'auto', 'beta_2': 'auto', 'bias_lr_mult': 'auto', 'bias_wd_mult': 'auto', 'use_lr_scheduler': 'true', 'lr_scheduler_step': 'auto', 'lr_scheduler_factor': 'auto', 'lr_scheduler_minimum_lr': 'auto', 'positive_example_weight_mult': '1.0', 'balance_multiclass_weights': 'false', 'normalize_data': 'true', 'normalize_label': 'auto', 'unbias_data': 'auto', 'unbias_label': 'auto', 'num_point_for_scaler': '10000', '_kvstore': 'auto', '_num_gpus': 'auto', '_num_kv_servers': 'auto', '_log_level': 'info', '_tuning_objective_metric': '', 'early_stopping_patience': '3', 'early_stopping_tolerance': '0.001', '_enable_profiler': 'false'}\u001b[0m\n",
      "\u001b[34m[11/25/2022 06:17:59 INFO 140704388560704] Merging with provided configuration from /opt/ml/input/config/hyperparameters.json: {'feature_dim': '13', 'mini_batch_size': '200', 'predictor_type': 'regressor'}\u001b[0m\n",
      "\u001b[34m[11/25/2022 06:17:59 INFO 140704388560704] Final configuration: {'mini_batch_size': '200', 'epochs': '15', 'feature_dim': '13', 'use_bias': 'true', 'binary_classifier_model_selection_criteria': 'accuracy', 'f_beta': '1.0', 'target_recall': '0.8', 'target_precision': '0.8', 'num_models': 'auto', 'num_calibration_samples': '10000000', 'init_method': 'uniform', 'init_scale': '0.07', 'init_sigma': '0.01', 'init_bias': '0.0', 'optimizer': 'auto', 'loss': 'auto', 'margin': '1.0', 'quantile': '0.5', 'loss_insensitivity': '0.01', 'huber_delta': '1.0', 'num_classes': '1', 'accuracy_top_k': '3', 'wd': 'auto', 'l1': 'auto', 'momentum': 'auto', 'learning_rate': 'auto', 'beta_1': 'auto', 'beta_2': 'auto', 'bias_lr_mult': 'auto', 'bias_wd_mult': 'auto', 'use_lr_scheduler': 'true', 'lr_scheduler_step': 'auto', 'lr_scheduler_factor': 'auto', 'lr_scheduler_minimum_lr': 'auto', 'positive_example_weight_mult': '1.0', 'balance_multiclass_weights': 'false', 'normalize_data': 'true', 'normalize_label': 'auto', 'unbias_data': 'auto', 'unbias_label': 'auto', 'num_point_for_scaler': '10000', '_kvstore': 'auto', '_num_gpus': 'auto', '_num_kv_servers': 'auto', '_log_level': 'info', '_tuning_objective_metric': '', 'early_stopping_patience': '3', 'early_stopping_tolerance': '0.001', '_enable_profiler': 'false', 'predictor_type': 'regressor'}\u001b[0m\n",
      "\u001b[34m[11/25/2022 06:18:04 WARNING 140704388560704] Loggers have already been setup.\u001b[0m\n",
      "\u001b[34m[11/25/2022 06:18:04 INFO 140704388560704] Final configuration: {'mini_batch_size': '200', 'epochs': '15', 'feature_dim': '13', 'use_bias': 'true', 'binary_classifier_model_selection_criteria': 'accuracy', 'f_beta': '1.0', 'target_recall': '0.8', 'target_precision': '0.8', 'num_models': 'auto', 'num_calibration_samples': '10000000', 'init_method': 'uniform', 'init_scale': '0.07', 'init_sigma': '0.01', 'init_bias': '0.0', 'optimizer': 'auto', 'loss': 'auto', 'margin': '1.0', 'quantile': '0.5', 'loss_insensitivity': '0.01', 'huber_delta': '1.0', 'num_classes': '1', 'accuracy_top_k': '3', 'wd': 'auto', 'l1': 'auto', 'momentum': 'auto', 'learning_rate': 'auto', 'beta_1': 'auto', 'beta_2': 'auto', 'bias_lr_mult': 'auto', 'bias_wd_mult': 'auto', 'use_lr_scheduler': 'true', 'lr_scheduler_step': 'auto', 'lr_scheduler_factor': 'auto', 'lr_scheduler_minimum_lr': 'auto', 'positive_example_weight_mult': '1.0', 'balance_multiclass_weights': 'false', 'normalize_data': 'true', 'normalize_label': 'auto', 'unbias_data': 'auto', 'unbias_label': 'auto', 'num_point_for_scaler': '10000', '_kvstore': 'auto', '_num_gpus': 'auto', '_num_kv_servers': 'auto', '_log_level': 'info', '_tuning_objective_metric': '', 'early_stopping_patience': '3', 'early_stopping_tolerance': '0.001', '_enable_profiler': 'false', 'predictor_type': 'regressor'}\u001b[0m\n",
      "\u001b[34m[11/25/2022 06:18:04 WARNING 140704388560704] Loggers have already been setup.\u001b[0m\n",
      "\u001b[34mProcess 7 is a worker.\u001b[0m\n",
      "\u001b[34m[11/25/2022 06:18:04 INFO 140704388560704] Using default worker.\u001b[0m\n",
      "\u001b[34m[11/25/2022 06:18:04 INFO 140704388560704] Checkpoint loading and saving are disabled.\u001b[0m\n",
      "\u001b[34m[11/25/2022 06:18:04 INFO 140704388560704] Create Store: local\u001b[0m\n",
      "\u001b[34m[11/25/2022 06:18:04 INFO 140704388560704] Scaler algorithm parameters\n",
      " <algorithm.scaler.ScalerAlgorithmStable object at 0x7ff7c14df310>\u001b[0m\n",
      "\u001b[34m[11/25/2022 06:18:04 INFO 140704388560704] Scaling model computed with parameters:\n",
      " {'stdev_label': \u001b[0m\n",
      "\u001b[34m[9.911285]\u001b[0m\n",
      "\u001b[34m<NDArray 1 @cpu(0)>, 'stdev_weight': \u001b[0m\n",
      "\u001b[34m[6.8680210e+00 2.3301674e+01 6.9799857e+00 2.3748684e-01 1.1257466e-01\n",
      " 6.9892508e-01 2.7073771e+01 2.0948243e+00 8.8371019e+00 1.7277562e+02\n",
      " 2.1260431e+00 1.0838016e+02 7.2983570e+00]\u001b[0m\n",
      "\u001b[34m<NDArray 13 @cpu(0)>, 'mean_label': \u001b[0m\n",
      "\u001b[34m[22.845]\u001b[0m\n",
      "\u001b[34m<NDArray 1 @cpu(0)>, 'mean_weight': \u001b[0m\n",
      "\u001b[34m[3.5385544e+00 1.1527500e+01 1.0911450e+01 5.9999999e-02 5.5429453e-01\n",
      " 6.3560452e+00 6.9403999e+01 3.7658679e+00 1.0025000e+01 4.1395499e+02\n",
      " 1.8456501e+01 3.4524536e+02 1.2832900e+01]\u001b[0m\n",
      "\u001b[34m<NDArray 13 @cpu(0)>}\u001b[0m\n",
      "\u001b[34m[11/25/2022 06:18:04 INFO 140704388560704] nvidia-smi: took 0.037 seconds to run.\u001b[0m\n",
      "\u001b[34m[11/25/2022 06:18:04 INFO 140704388560704] nvidia-smi identified 0 GPUs.\u001b[0m\n",
      "\u001b[34m[11/25/2022 06:18:04 INFO 140704388560704] Number of GPUs being used: 0\u001b[0m\n",
      "\u001b[34m#metrics {\"StartTime\": 1669357084.5687587, \"EndTime\": 1669357084.568825, \"Dimensions\": {\"Algorithm\": \"Linear Learner\", \"Host\": \"algo-1\", \"Operation\": \"training\", \"Meta\": \"init_train_data_iter\"}, \"Metrics\": {\"Total Records Seen\": {\"sum\": 427.0, \"count\": 1, \"min\": 427, \"max\": 427}, \"Total Batches Seen\": {\"sum\": 3.0, \"count\": 1, \"min\": 3, \"max\": 3}, \"Max Records Seen Between Resets\": {\"sum\": 227.0, \"count\": 1, \"min\": 227, \"max\": 227}, \"Max Batches Seen Between Resets\": {\"sum\": 2.0, \"count\": 1, \"min\": 2, \"max\": 2}, \"Reset Count\": {\"sum\": 2.0, \"count\": 1, \"min\": 2, \"max\": 2}, \"Number of Records Since Last Reset\": {\"sum\": 0.0, \"count\": 1, \"min\": 0, \"max\": 0}, \"Number of Batches Since Last Reset\": {\"sum\": 0.0, \"count\": 1, \"min\": 0, \"max\": 0}}}\u001b[0m\n",
      "\u001b[34m#metrics {\"StartTime\": 1669357084.6327722, \"EndTime\": 1669357084.6328263, \"Dimensions\": {\"Algorithm\": \"Linear Learner\", \"Host\": \"algo-1\", \"Operation\": \"training\", \"epoch\": 0, \"model\": 0}, \"Metrics\": {\"train_mse_objective\": {\"sum\": 0.9666845703125, \"count\": 1, \"min\": 0.9666845703125, \"max\": 0.9666845703125}}}\u001b[0m\n",
      "\u001b[34m#metrics {\"StartTime\": 1669357084.632903, \"EndTime\": 1669357084.6329167, \"Dimensions\": {\"Algorithm\": \"Linear Learner\", \"Host\": \"algo-1\", \"Operation\": \"training\", \"epoch\": 0, \"model\": 1}, \"Metrics\": {\"train_mse_objective\": {\"sum\": 0.8867979431152344, \"count\": 1, \"min\": 0.8867979431152344, \"max\": 0.8867979431152344}}}\u001b[0m\n",
      "\u001b[34m#metrics {\"StartTime\": 1669357084.6329668, \"EndTime\": 1669357084.6329827, \"Dimensions\": {\"Algorithm\": \"Linear Learner\", \"Host\": \"algo-1\", \"Operation\": \"training\", \"epoch\": 0, \"model\": 2}, \"Metrics\": {\"train_mse_objective\": {\"sum\": 1.3609982299804688, \"count\": 1, \"min\": 1.3609982299804688, \"max\": 1.3609982299804688}}}\u001b[0m\n",
      "\u001b[34m#metrics {\"StartTime\": 1669357084.633026, \"EndTime\": 1669357084.6330402, \"Dimensions\": {\"Algorithm\": \"Linear Learner\", \"Host\": \"algo-1\", \"Operation\": \"training\", \"epoch\": 0, \"model\": 3}, \"Metrics\": {\"train_mse_objective\": {\"sum\": 0.8710457611083985, \"count\": 1, \"min\": 0.8710457611083985, \"max\": 0.8710457611083985}}}\u001b[0m\n",
      "\u001b[34m#metrics {\"StartTime\": 1669357084.6330874, \"EndTime\": 1669357084.6331046, \"Dimensions\": {\"Algorithm\": \"Linear Learner\", \"Host\": \"algo-1\", \"Operation\": \"training\", \"epoch\": 0, \"model\": 4}, \"Metrics\": {\"train_mse_objective\": {\"sum\": 0.8721265411376953, \"count\": 1, \"min\": 0.8721265411376953, \"max\": 0.8721265411376953}}}\u001b[0m\n",
      "\u001b[34m#metrics {\"StartTime\": 1669357084.6333406, \"EndTime\": 1669357084.6333628, \"Dimensions\": {\"Algorithm\": \"Linear Learner\", \"Host\": \"algo-1\", \"Operation\": \"training\", \"epoch\": 0, \"model\": 5}, \"Metrics\": {\"train_mse_objective\": {\"sum\": 1.024983901977539, \"count\": 1, \"min\": 1.024983901977539, \"max\": 1.024983901977539}}}\u001b[0m\n",
      "\u001b[34m#metrics {\"StartTime\": 1669357084.6334343, \"EndTime\": 1669357084.6334543, \"Dimensions\": {\"Algorithm\": \"Linear Learner\", \"Host\": \"algo-1\", \"Operation\": \"training\", \"epoch\": 0, \"model\": 6}, \"Metrics\": {\"train_mse_objective\": {\"sum\": 1.1411123657226563, \"count\": 1, \"min\": 1.1411123657226563, \"max\": 1.1411123657226563}}}\u001b[0m\n",
      "\u001b[34m#metrics {\"StartTime\": 1669357084.633512, \"EndTime\": 1669357084.633529, \"Dimensions\": {\"Algorithm\": \"Linear Learner\", \"Host\": \"algo-1\", \"Operation\": \"training\", \"epoch\": 0, \"model\": 7}, \"Metrics\": {\"train_mse_objective\": {\"sum\": 1.1116238403320313, \"count\": 1, \"min\": 1.1116238403320313, \"max\": 1.1116238403320313}}}\u001b[0m\n",
      "\u001b[34m#metrics {\"StartTime\": 1669357084.6335835, \"EndTime\": 1669357084.6336002, \"Dimensions\": {\"Algorithm\": \"Linear Learner\", \"Host\": \"algo-1\", \"Operation\": \"training\", \"epoch\": 0, \"model\": 8}, \"Metrics\": {\"train_mse_objective\": {\"sum\": 0.9305548858642578, \"count\": 1, \"min\": 0.9305548858642578, \"max\": 0.9305548858642578}}}\u001b[0m\n",
      "\u001b[34m#metrics {\"StartTime\": 1669357084.633654, \"EndTime\": 1669357084.6336703, \"Dimensions\": {\"Algorithm\": \"Linear Learner\", \"Host\": \"algo-1\", \"Operation\": \"training\", \"epoch\": 0, \"model\": 9}, \"Metrics\": {\"train_mse_objective\": {\"sum\": 1.435646514892578, \"count\": 1, \"min\": 1.435646514892578, \"max\": 1.435646514892578}}}\u001b[0m\n",
      "\u001b[34m#metrics {\"StartTime\": 1669357084.6337216, \"EndTime\": 1669357084.6337383, \"Dimensions\": {\"Algorithm\": \"Linear Learner\", \"Host\": \"algo-1\", \"Operation\": \"training\", \"epoch\": 0, \"model\": 10}, \"Metrics\": {\"train_mse_objective\": {\"sum\": 0.868327865600586, \"count\": 1, \"min\": 0.868327865600586, \"max\": 0.868327865600586}}}\u001b[0m\n",
      "\u001b[34m#metrics {\"StartTime\": 1669357084.6337898, \"EndTime\": 1669357084.6338062, \"Dimensions\": {\"Algorithm\": \"Linear Learner\", \"Host\": \"algo-1\", \"Operation\": \"training\", \"epoch\": 0, \"model\": 11}, \"Metrics\": {\"train_mse_objective\": {\"sum\": 1.1355770874023436, \"count\": 1, \"min\": 1.1355770874023436, \"max\": 1.1355770874023436}}}\u001b[0m\n",
      "\u001b[34m#metrics {\"StartTime\": 1669357084.6338592, \"EndTime\": 1669357084.6338763, \"Dimensions\": {\"Algorithm\": \"Linear Learner\", \"Host\": \"algo-1\", \"Operation\": \"training\", \"epoch\": 0, \"model\": 12}, \"Metrics\": {\"train_mse_objective\": {\"sum\": 1.0209213256835938, \"count\": 1, \"min\": 1.0209213256835938, \"max\": 1.0209213256835938}}}\u001b[0m\n",
      "\u001b[34m#metrics {\"StartTime\": 1669357084.633929, \"EndTime\": 1669357084.6339464, \"Dimensions\": {\"Algorithm\": \"Linear Learner\", \"Host\": \"algo-1\", \"Operation\": \"training\", \"epoch\": 0, \"model\": 13}, \"Metrics\": {\"train_mse_objective\": {\"sum\": 1.0323558044433594, \"count\": 1, \"min\": 1.0323558044433594, \"max\": 1.0323558044433594}}}\u001b[0m\n",
      "\u001b[34m#metrics {\"StartTime\": 1669357084.6339977, \"EndTime\": 1669357084.6340134, \"Dimensions\": {\"Algorithm\": \"Linear Learner\", \"Host\": \"algo-1\", \"Operation\": \"training\", \"epoch\": 0, \"model\": 14}, \"Metrics\": {\"train_mse_objective\": {\"sum\": 0.8786923980712891, \"count\": 1, \"min\": 0.8786923980712891, \"max\": 0.8786923980712891}}}\u001b[0m\n",
      "\u001b[34m#metrics {\"StartTime\": 1669357084.6340647, \"EndTime\": 1669357084.6340802, \"Dimensions\": {\"Algorithm\": \"Linear Learner\", \"Host\": \"algo-1\", \"Operation\": \"training\", \"epoch\": 0, \"model\": 15}, \"Metrics\": {\"train_mse_objective\": {\"sum\": 1.0241481018066407, \"count\": 1, \"min\": 1.0241481018066407, \"max\": 1.0241481018066407}}}\u001b[0m\n",
      "\u001b[34m#metrics {\"StartTime\": 1669357084.6341321, \"EndTime\": 1669357084.6341481, \"Dimensions\": {\"Algorithm\": \"Linear Learner\", \"Host\": \"algo-1\", \"Operation\": \"training\", \"epoch\": 0, \"model\": 16}, \"Metrics\": {\"train_mse_objective\": {\"sum\": 1.0404695892333984, \"count\": 1, \"min\": 1.0404695892333984, \"max\": 1.0404695892333984}}}\u001b[0m\n",
      "\u001b[34m#metrics {\"StartTime\": 1669357084.634203, \"EndTime\": 1669357084.6342194, \"Dimensions\": {\"Algorithm\": \"Linear Learner\", \"Host\": \"algo-1\", \"Operation\": \"training\", \"epoch\": 0, \"model\": 17}, \"Metrics\": {\"train_mse_objective\": {\"sum\": 0.8590889739990234, \"count\": 1, \"min\": 0.8590889739990234, \"max\": 0.8590889739990234}}}\u001b[0m\n",
      "\u001b[34m#metrics {\"StartTime\": 1669357084.6342719, \"EndTime\": 1669357084.6342883, \"Dimensions\": {\"Algorithm\": \"Linear Learner\", \"Host\": \"algo-1\", \"Operation\": \"training\", \"epoch\": 0, \"model\": 18}, \"Metrics\": {\"train_mse_objective\": {\"sum\": 1.2388427734375, \"count\": 1, \"min\": 1.2388427734375, \"max\": 1.2388427734375}}}\u001b[0m\n",
      "\u001b[34m#metrics {\"StartTime\": 1669357084.6343415, \"EndTime\": 1669357084.634357, \"Dimensions\": {\"Algorithm\": \"Linear Learner\", \"Host\": \"algo-1\", \"Operation\": \"training\", \"epoch\": 0, \"model\": 19}, \"Metrics\": {\"train_mse_objective\": {\"sum\": 1.0310550689697267, \"count\": 1, \"min\": 1.0310550689697267, \"max\": 1.0310550689697267}}}\u001b[0m\n",
      "\u001b[34m#metrics {\"StartTime\": 1669357084.6344118, \"EndTime\": 1669357084.6344268, \"Dimensions\": {\"Algorithm\": \"Linear Learner\", \"Host\": \"algo-1\", \"Operation\": \"training\", \"epoch\": 0, \"model\": 20}, \"Metrics\": {\"train_mse_objective\": {\"sum\": 0.7802288055419921, \"count\": 1, \"min\": 0.7802288055419921, \"max\": 0.7802288055419921}}}\u001b[0m\n",
      "\u001b[34m#metrics {\"StartTime\": 1669357084.6344783, \"EndTime\": 1669357084.634495, \"Dimensions\": {\"Algorithm\": \"Linear Learner\", \"Host\": \"algo-1\", \"Operation\": \"training\", \"epoch\": 0, \"model\": 21}, \"Metrics\": {\"train_mse_objective\": {\"sum\": 1.156120834350586, \"count\": 1, \"min\": 1.156120834350586, \"max\": 1.156120834350586}}}\u001b[0m\n",
      "\u001b[34m#metrics {\"StartTime\": 1669357084.6345465, \"EndTime\": 1669357084.6345625, \"Dimensions\": {\"Algorithm\": \"Linear Learner\", \"Host\": \"algo-1\", \"Operation\": \"training\", \"epoch\": 0, \"model\": 22}, \"Metrics\": {\"train_mse_objective\": {\"sum\": 0.7672444915771485, \"count\": 1, \"min\": 0.7672444915771485, \"max\": 0.7672444915771485}}}\u001b[0m\n",
      "\u001b[34m#metrics {\"StartTime\": 1669357084.6346152, \"EndTime\": 1669357084.634632, \"Dimensions\": {\"Algorithm\": \"Linear Learner\", \"Host\": \"algo-1\", \"Operation\": \"training\", \"epoch\": 0, \"model\": 23}, \"Metrics\": {\"train_mse_objective\": {\"sum\": 0.8517062377929687, \"count\": 1, \"min\": 0.8517062377929687, \"max\": 0.8517062377929687}}}\u001b[0m\n",
      "\u001b[34m#metrics {\"StartTime\": 1669357084.634687, \"EndTime\": 1669357084.6347032, \"Dimensions\": {\"Algorithm\": \"Linear Learner\", \"Host\": \"algo-1\", \"Operation\": \"training\", \"epoch\": 0, \"model\": 24}, \"Metrics\": {\"train_mse_objective\": {\"sum\": 0.9531388092041015, \"count\": 1, \"min\": 0.9531388092041015, \"max\": 0.9531388092041015}}}\u001b[0m\n",
      "\u001b[34m#metrics {\"StartTime\": 1669357084.6347554, \"EndTime\": 1669357084.6347709, \"Dimensions\": {\"Algorithm\": \"Linear Learner\", \"Host\": \"algo-1\", \"Operation\": \"training\", \"epoch\": 0, \"model\": 25}, \"Metrics\": {\"train_mse_objective\": {\"sum\": 0.936272964477539, \"count\": 1, \"min\": 0.936272964477539, \"max\": 0.936272964477539}}}\u001b[0m\n",
      "\u001b[34m#metrics {\"StartTime\": 1669357084.6348233, \"EndTime\": 1669357084.6348403, \"Dimensions\": {\"Algorithm\": \"Linear Learner\", \"Host\": \"algo-1\", \"Operation\": \"training\", \"epoch\": 0, \"model\": 26}, \"Metrics\": {\"train_mse_objective\": {\"sum\": 1.251359329223633, \"count\": 1, \"min\": 1.251359329223633, \"max\": 1.251359329223633}}}\u001b[0m\n",
      "\u001b[34m#metrics {\"StartTime\": 1669357084.6348956, \"EndTime\": 1669357084.634913, \"Dimensions\": {\"Algorithm\": \"Linear Learner\", \"Host\": \"algo-1\", \"Operation\": \"training\", \"epoch\": 0, \"model\": 27}, \"Metrics\": {\"train_mse_objective\": {\"sum\": 1.1413569641113281, \"count\": 1, \"min\": 1.1413569641113281, \"max\": 1.1413569641113281}}}\u001b[0m\n",
      "\u001b[34m#metrics {\"StartTime\": 1669357084.6349647, \"EndTime\": 1669357084.6349814, \"Dimensions\": {\"Algorithm\": \"Linear Learner\", \"Host\": \"algo-1\", \"Operation\": \"training\", \"epoch\": 0, \"model\": 28}, \"Metrics\": {\"train_mse_objective\": {\"sum\": 1.0270569610595703, \"count\": 1, \"min\": 1.0270569610595703, \"max\": 1.0270569610595703}}}\u001b[0m\n",
      "\u001b[34m#metrics {\"StartTime\": 1669357084.6350367, \"EndTime\": 1669357084.6350532, \"Dimensions\": {\"Algorithm\": \"Linear Learner\", \"Host\": \"algo-1\", \"Operation\": \"training\", \"epoch\": 0, \"model\": 29}, \"Metrics\": {\"train_mse_objective\": {\"sum\": 0.9344975280761719, \"count\": 1, \"min\": 0.9344975280761719, \"max\": 0.9344975280761719}}}\u001b[0m\n",
      "\u001b[34m#metrics {\"StartTime\": 1669357084.6351094, \"EndTime\": 1669357084.6351273, \"Dimensions\": {\"Algorithm\": \"Linear Learner\", \"Host\": \"algo-1\", \"Operation\": \"training\", \"epoch\": 0, \"model\": 30}, \"Metrics\": {\"train_mse_objective\": {\"sum\": 1.12423583984375, \"count\": 1, \"min\": 1.12423583984375, \"max\": 1.12423583984375}}}\u001b[0m\n",
      "\u001b[34m#metrics {\"StartTime\": 1669357084.6351826, \"EndTime\": 1669357084.6352005, \"Dimensions\": {\"Algorithm\": \"Linear Learner\", \"Host\": \"algo-1\", \"Operation\": \"training\", \"epoch\": 0, \"model\": 31}, \"Metrics\": {\"train_mse_objective\": {\"sum\": 1.1483710479736329, \"count\": 1, \"min\": 1.1483710479736329, \"max\": 1.1483710479736329}}}\u001b[0m\n",
      "\u001b[34m[11/25/2022 06:18:04 INFO 140704388560704] #quality_metric: host=algo-1, epoch=0, train mse_objective <loss>=0.9666845703125\u001b[0m\n",
      "\u001b[34m#metrics {\"StartTime\": 1669357084.6913705, \"EndTime\": 1669357084.6914258, \"Dimensions\": {\"Algorithm\": \"Linear Learner\", \"Host\": \"algo-1\", \"Operation\": \"training\", \"epoch\": 0, \"model\": 0}, \"Metrics\": {\"validation_mse_objective\": {\"sum\": 73.92864118303571, \"count\": 1, \"min\": 73.92864118303571, \"max\": 73.92864118303571}}}\u001b[0m\n",
      "\u001b[34m#metrics {\"StartTime\": 1669357084.6915104, \"EndTime\": 1669357084.6915302, \"Dimensions\": {\"Algorithm\": \"Linear Learner\", \"Host\": \"algo-1\", \"Operation\": \"training\", \"epoch\": 0, \"model\": 1}, \"Metrics\": {\"validation_mse_objective\": {\"sum\": 67.66482107979911, \"count\": 1, \"min\": 67.66482107979911, \"max\": 67.66482107979911}}}\u001b[0m\n",
      "\u001b[34m#metrics {\"StartTime\": 1669357084.6915975, \"EndTime\": 1669357084.6916144, \"Dimensions\": {\"Algorithm\": \"Linear Learner\", \"Host\": \"algo-1\", \"Operation\": \"training\", \"epoch\": 0, \"model\": 2}, \"Metrics\": {\"validation_mse_objective\": {\"sum\": 105.49244907924107, \"count\": 1, \"min\": 105.49244907924107, \"max\": 105.49244907924107}}}\u001b[0m\n",
      "\u001b[34m#metrics {\"StartTime\": 1669357084.691676, \"EndTime\": 1669357084.6916907, \"Dimensions\": {\"Algorithm\": \"Linear Learner\", \"Host\": \"algo-1\", \"Operation\": \"training\", \"epoch\": 0, \"model\": 3}, \"Metrics\": {\"validation_mse_objective\": {\"sum\": 67.79978724888393, \"count\": 1, \"min\": 67.79978724888393, \"max\": 67.79978724888393}}}\u001b[0m\n",
      "\u001b[34m#metrics {\"StartTime\": 1669357084.691742, \"EndTime\": 1669357084.6917589, \"Dimensions\": {\"Algorithm\": \"Linear Learner\", \"Host\": \"algo-1\", \"Operation\": \"training\", \"epoch\": 0, \"model\": 4}, \"Metrics\": {\"validation_mse_objective\": {\"sum\": 73.63623918805804, \"count\": 1, \"min\": 73.63623918805804, \"max\": 73.63623918805804}}}\u001b[0m\n",
      "\u001b[34m#metrics {\"StartTime\": 1669357084.6918137, \"EndTime\": 1669357084.6918297, \"Dimensions\": {\"Algorithm\": \"Linear Learner\", \"Host\": \"algo-1\", \"Operation\": \"training\", \"epoch\": 0, \"model\": 5}, \"Metrics\": {\"validation_mse_objective\": {\"sum\": 48.32414027622768, \"count\": 1, \"min\": 48.32414027622768, \"max\": 48.32414027622768}}}\u001b[0m\n",
      "\u001b[34m#metrics {\"StartTime\": 1669357084.6919055, \"EndTime\": 1669357084.6919231, \"Dimensions\": {\"Algorithm\": \"Linear Learner\", \"Host\": \"algo-1\", \"Operation\": \"training\", \"epoch\": 0, \"model\": 6}, \"Metrics\": {\"validation_mse_objective\": {\"sum\": 62.213169642857146, \"count\": 1, \"min\": 62.213169642857146, \"max\": 62.213169642857146}}}\u001b[0m\n",
      "\u001b[34m#metrics {\"StartTime\": 1669357084.6919584, \"EndTime\": 1669357084.6919672, \"Dimensions\": {\"Algorithm\": \"Linear Learner\", \"Host\": \"algo-1\", \"Operation\": \"training\", \"epoch\": 0, \"model\": 7}, \"Metrics\": {\"validation_mse_objective\": {\"sum\": 59.247855050223215, \"count\": 1, \"min\": 59.247855050223215, \"max\": 59.247855050223215}}}\u001b[0m\n",
      "\u001b[34m#metrics {\"StartTime\": 1669357084.6919928, \"EndTime\": 1669357084.6920002, \"Dimensions\": {\"Algorithm\": \"Linear Learner\", \"Host\": \"algo-1\", \"Operation\": \"training\", \"epoch\": 0, \"model\": 8}, \"Metrics\": {\"validation_mse_objective\": {\"sum\": 72.9154532296317, \"count\": 1, \"min\": 72.9154532296317, \"max\": 72.9154532296317}}}\u001b[0m\n",
      "\u001b[34m#metrics {\"StartTime\": 1669357084.6920257, \"EndTime\": 1669357084.692033, \"Dimensions\": {\"Algorithm\": \"Linear Learner\", \"Host\": \"algo-1\", \"Operation\": \"training\", \"epoch\": 0, \"model\": 9}, \"Metrics\": {\"validation_mse_objective\": {\"sum\": 111.77034214564732, \"count\": 1, \"min\": 111.77034214564732, \"max\": 111.77034214564732}}}\u001b[0m\n",
      "\u001b[34m#metrics {\"StartTime\": 1669357084.6920645, \"EndTime\": 1669357084.6920793, \"Dimensions\": {\"Algorithm\": \"Linear Learner\", \"Host\": \"algo-1\", \"Operation\": \"training\", \"epoch\": 0, \"model\": 10}, \"Metrics\": {\"validation_mse_objective\": {\"sum\": 67.56051635742188, \"count\": 1, \"min\": 67.56051635742188, \"max\": 67.56051635742188}}}\u001b[0m\n",
      "\u001b[34m#metrics {\"StartTime\": 1669357084.6921282, \"EndTime\": 1669357084.6921444, \"Dimensions\": {\"Algorithm\": \"Linear Learner\", \"Host\": \"algo-1\", \"Operation\": \"training\", \"epoch\": 0, \"model\": 11}, \"Metrics\": {\"validation_mse_objective\": {\"sum\": 86.871826171875, \"count\": 1, \"min\": 86.871826171875, \"max\": 86.871826171875}}}\u001b[0m\n",
      "\u001b[34m#metrics {\"StartTime\": 1669357084.6921961, \"EndTime\": 1669357084.6922135, \"Dimensions\": {\"Algorithm\": \"Linear Learner\", \"Host\": \"algo-1\", \"Operation\": \"training\", \"epoch\": 0, \"model\": 12}, \"Metrics\": {\"validation_mse_objective\": {\"sum\": 68.16170828683036, \"count\": 1, \"min\": 68.16170828683036, \"max\": 68.16170828683036}}}\u001b[0m\n",
      "\u001b[34m#metrics {\"StartTime\": 1669357084.6922653, \"EndTime\": 1669357084.6922798, \"Dimensions\": {\"Algorithm\": \"Linear Learner\", \"Host\": \"algo-1\", \"Operation\": \"training\", \"epoch\": 0, \"model\": 13}, \"Metrics\": {\"validation_mse_objective\": {\"sum\": 68.21234566824776, \"count\": 1, \"min\": 68.21234566824776, \"max\": 68.21234566824776}}}\u001b[0m\n",
      "\u001b[34m#metrics {\"StartTime\": 1669357084.6923308, \"EndTime\": 1669357084.6923468, \"Dimensions\": {\"Algorithm\": \"Linear Learner\", \"Host\": \"algo-1\", \"Operation\": \"training\", \"epoch\": 0, \"model\": 14}, \"Metrics\": {\"validation_mse_objective\": {\"sum\": 78.20344761439732, \"count\": 1, \"min\": 78.20344761439732, \"max\": 78.20344761439732}}}\u001b[0m\n",
      "\u001b[34m#metrics {\"StartTime\": 1669357084.692399, \"EndTime\": 1669357084.6924164, \"Dimensions\": {\"Algorithm\": \"Linear Learner\", \"Host\": \"algo-1\", \"Operation\": \"training\", \"epoch\": 0, \"model\": 15}, \"Metrics\": {\"validation_mse_objective\": {\"sum\": 53.49066598074777, \"count\": 1, \"min\": 53.49066598074777, \"max\": 53.49066598074777}}}\u001b[0m\n",
      "\u001b[34m#metrics {\"StartTime\": 1669357084.6924675, \"EndTime\": 1669357084.6924834, \"Dimensions\": {\"Algorithm\": \"Linear Learner\", \"Host\": \"algo-1\", \"Operation\": \"training\", \"epoch\": 0, \"model\": 16}, \"Metrics\": {\"validation_mse_objective\": {\"sum\": 80.99956403459821, \"count\": 1, \"min\": 80.99956403459821, \"max\": 80.99956403459821}}}\u001b[0m\n",
      "\u001b[34m#metrics {\"StartTime\": 1669357084.6925344, \"EndTime\": 1669357084.6925516, \"Dimensions\": {\"Algorithm\": \"Linear Learner\", \"Host\": \"algo-1\", \"Operation\": \"training\", \"epoch\": 0, \"model\": 17}, \"Metrics\": {\"validation_mse_objective\": {\"sum\": 66.42560686383929, \"count\": 1, \"min\": 66.42560686383929, \"max\": 66.42560686383929}}}\u001b[0m\n",
      "\u001b[34m#metrics {\"StartTime\": 1669357084.6926036, \"EndTime\": 1669357084.69262, \"Dimensions\": {\"Algorithm\": \"Linear Learner\", \"Host\": \"algo-1\", \"Operation\": \"training\", \"epoch\": 0, \"model\": 18}, \"Metrics\": {\"validation_mse_objective\": {\"sum\": 97.6534423828125, \"count\": 1, \"min\": 97.6534423828125, \"max\": 97.6534423828125}}}\u001b[0m\n",
      "\u001b[34m#metrics {\"StartTime\": 1669357084.692672, \"EndTime\": 1669357084.6926887, \"Dimensions\": {\"Algorithm\": \"Linear Learner\", \"Host\": \"algo-1\", \"Operation\": \"training\", \"epoch\": 0, \"model\": 19}, \"Metrics\": {\"validation_mse_objective\": {\"sum\": 82.73070417131696, \"count\": 1, \"min\": 82.73070417131696, \"max\": 82.73070417131696}}}\u001b[0m\n",
      "\u001b[34m#metrics {\"StartTime\": 1669357084.6927416, \"EndTime\": 1669357084.692758, \"Dimensions\": {\"Algorithm\": \"Linear Learner\", \"Host\": \"algo-1\", \"Operation\": \"training\", \"epoch\": 0, \"model\": 20}, \"Metrics\": {\"validation_mse_objective\": {\"sum\": 81.8057861328125, \"count\": 1, \"min\": 81.8057861328125, \"max\": 81.8057861328125}}}\u001b[0m\n",
      "\u001b[34m#metrics {\"StartTime\": 1669357084.6928105, \"EndTime\": 1669357084.6928272, \"Dimensions\": {\"Algorithm\": \"Linear Learner\", \"Host\": \"algo-1\", \"Operation\": \"training\", \"epoch\": 0, \"model\": 21}, \"Metrics\": {\"validation_mse_objective\": {\"sum\": 52.52162824358259, \"count\": 1, \"min\": 52.52162824358259, \"max\": 52.52162824358259}}}\u001b[0m\n",
      "\u001b[34m#metrics {\"StartTime\": 1669357084.6928809, \"EndTime\": 1669357084.6928966, \"Dimensions\": {\"Algorithm\": \"Linear Learner\", \"Host\": \"algo-1\", \"Operation\": \"training\", \"epoch\": 0, \"model\": 22}, \"Metrics\": {\"validation_mse_objective\": {\"sum\": 68.2981698172433, \"count\": 1, \"min\": 68.2981698172433, \"max\": 68.2981698172433}}}\u001b[0m\n",
      "\u001b[34m#metrics {\"StartTime\": 1669357084.6929502, \"EndTime\": 1669357084.6929665, \"Dimensions\": {\"Algorithm\": \"Linear Learner\", \"Host\": \"algo-1\", \"Operation\": \"training\", \"epoch\": 0, \"model\": 23}, \"Metrics\": {\"validation_mse_objective\": {\"sum\": 63.641771589006694, \"count\": 1, \"min\": 63.641771589006694, \"max\": 63.641771589006694}}}\u001b[0m\n",
      "\u001b[34m#metrics {\"StartTime\": 1669357084.6930194, \"EndTime\": 1669357084.6930363, \"Dimensions\": {\"Algorithm\": \"Linear Learner\", \"Host\": \"algo-1\", \"Operation\": \"training\", \"epoch\": 0, \"model\": 24}, \"Metrics\": {\"validation_mse_objective\": {\"sum\": 79.46259416852679, \"count\": 1, \"min\": 79.46259416852679, \"max\": 79.46259416852679}}}\u001b[0m\n",
      "\u001b[34m#metrics {\"StartTime\": 1669357084.693092, \"EndTime\": 1669357084.6931083, \"Dimensions\": {\"Algorithm\": \"Linear Learner\", \"Host\": \"algo-1\", \"Operation\": \"training\", \"epoch\": 0, \"model\": 25}, \"Metrics\": {\"validation_mse_objective\": {\"sum\": 78.90103585379464, \"count\": 1, \"min\": 78.90103585379464, \"max\": 78.90103585379464}}}\u001b[0m\n",
      "\u001b[34m#metrics {\"StartTime\": 1669357084.6931615, \"EndTime\": 1669357084.693179, \"Dimensions\": {\"Algorithm\": \"Linear Learner\", \"Host\": \"algo-1\", \"Operation\": \"training\", \"epoch\": 0, \"model\": 26}, \"Metrics\": {\"validation_mse_objective\": {\"sum\": 99.03553118024554, \"count\": 1, \"min\": 99.03553118024554, \"max\": 99.03553118024554}}}\u001b[0m\n",
      "\u001b[34m#metrics {\"StartTime\": 1669357084.693237, \"EndTime\": 1669357084.6932557, \"Dimensions\": {\"Algorithm\": \"Linear Learner\", \"Host\": \"algo-1\", \"Operation\": \"training\", \"epoch\": 0, \"model\": 27}, \"Metrics\": {\"validation_mse_objective\": {\"sum\": 91.12818254743304, \"count\": 1, \"min\": 91.12818254743304, \"max\": 91.12818254743304}}}\u001b[0m\n",
      "\u001b[34m#metrics {\"StartTime\": 1669357084.693307, \"EndTime\": 1669357084.6933246, \"Dimensions\": {\"Algorithm\": \"Linear Learner\", \"Host\": \"algo-1\", \"Operation\": \"training\", \"epoch\": 0, \"model\": 28}, \"Metrics\": {\"validation_mse_objective\": {\"sum\": 81.57130650111607, \"count\": 1, \"min\": 81.57130650111607, \"max\": 81.57130650111607}}}\u001b[0m\n",
      "\u001b[34m#metrics {\"StartTime\": 1669357084.6933773, \"EndTime\": 1669357084.6933942, \"Dimensions\": {\"Algorithm\": \"Linear Learner\", \"Host\": \"algo-1\", \"Operation\": \"training\", \"epoch\": 0, \"model\": 29}, \"Metrics\": {\"validation_mse_objective\": {\"sum\": 104.56325857979911, \"count\": 1, \"min\": 104.56325857979911, \"max\": 104.56325857979911}}}\u001b[0m\n",
      "\u001b[34m#metrics {\"StartTime\": 1669357084.6934478, \"EndTime\": 1669357084.693466, \"Dimensions\": {\"Algorithm\": \"Linear Learner\", \"Host\": \"algo-1\", \"Operation\": \"training\", \"epoch\": 0, \"model\": 30}, \"Metrics\": {\"validation_mse_objective\": {\"sum\": 71.58418491908482, \"count\": 1, \"min\": 71.58418491908482, \"max\": 71.58418491908482}}}\u001b[0m\n",
      "\u001b[34m#metrics {\"StartTime\": 1669357084.6935189, \"EndTime\": 1669357084.6935363, \"Dimensions\": {\"Algorithm\": \"Linear Learner\", \"Host\": \"algo-1\", \"Operation\": \"training\", \"epoch\": 0, \"model\": 31}, \"Metrics\": {\"validation_mse_objective\": {\"sum\": 72.00835309709821, \"count\": 1, \"min\": 72.00835309709821, \"max\": 72.00835309709821}}}\u001b[0m\n",
      "\u001b[34m[11/25/2022 06:18:04 INFO 140704388560704] #quality_metric: host=algo-1, epoch=0, validation mse_objective <loss>=73.92864118303571\u001b[0m\n",
      "\u001b[34m[11/25/2022 06:18:04 INFO 140704388560704] #early_stopping_criteria_metric: host=algo-1, epoch=0, criteria=mse_objective, value=48.32414027622768\u001b[0m\n",
      "\u001b[34m[11/25/2022 06:18:04 INFO 140704388560704] Epoch 0: Loss improved. Updating best model\u001b[0m\n",
      "\u001b[34m[11/25/2022 06:18:04 INFO 140704388560704] Saving model for epoch: 0\u001b[0m\n",
      "\u001b[34m[11/25/2022 06:18:04 INFO 140704388560704] Saved checkpoint to \"/tmp/tmp3lipa38e/mx-mod-0000.params\"\u001b[0m\n",
      "\u001b[34m[11/25/2022 06:18:04 INFO 140704388560704] #progress_metric: host=algo-1, completed 6.666666666666667 % of epochs\u001b[0m\n",
      "\u001b[34m#metrics {\"StartTime\": 1669357084.5691955, \"EndTime\": 1669357084.704434, \"Dimensions\": {\"Algorithm\": \"Linear Learner\", \"Host\": \"algo-1\", \"Operation\": \"training\", \"epoch\": 0, \"Meta\": \"training_data_iter\"}, \"Metrics\": {\"Total Records Seen\": {\"sum\": 654.0, \"count\": 1, \"min\": 654, \"max\": 654}, \"Total Batches Seen\": {\"sum\": 5.0, \"count\": 1, \"min\": 5, \"max\": 5}, \"Max Records Seen Between Resets\": {\"sum\": 227.0, \"count\": 1, \"min\": 227, \"max\": 227}, \"Max Batches Seen Between Resets\": {\"sum\": 2.0, \"count\": 1, \"min\": 2, \"max\": 2}, \"Reset Count\": {\"sum\": 3.0, \"count\": 1, \"min\": 3, \"max\": 3}, \"Number of Records Since Last Reset\": {\"sum\": 227.0, \"count\": 1, \"min\": 227, \"max\": 227}, \"Number of Batches Since Last Reset\": {\"sum\": 2.0, \"count\": 1, \"min\": 2, \"max\": 2}}}\u001b[0m\n",
      "\u001b[34m[11/25/2022 06:18:04 INFO 140704388560704] #throughput_metric: host=algo-1, train throughput=1676.9030939964105 records/second\u001b[0m\n",
      "\u001b[34m#metrics {\"StartTime\": 1669357084.7385528, \"EndTime\": 1669357084.738599, \"Dimensions\": {\"Algorithm\": \"Linear Learner\", \"Host\": \"algo-1\", \"Operation\": \"training\", \"epoch\": 1, \"model\": 0}, \"Metrics\": {\"train_mse_objective\": {\"sum\": 0.9111643218994141, \"count\": 1, \"min\": 0.9111643218994141, \"max\": 0.9111643218994141}}}\u001b[0m\n",
      "\u001b[34m#metrics {\"StartTime\": 1669357084.738662, \"EndTime\": 1669357084.7386746, \"Dimensions\": {\"Algorithm\": \"Linear Learner\", \"Host\": \"algo-1\", \"Operation\": \"training\", \"epoch\": 1, \"model\": 1}, \"Metrics\": {\"train_mse_objective\": {\"sum\": 0.8387991333007813, \"count\": 1, \"min\": 0.8387991333007813, \"max\": 0.8387991333007813}}}\u001b[0m\n",
      "\u001b[34m#metrics {\"StartTime\": 1669357084.738731, \"EndTime\": 1669357084.7387478, \"Dimensions\": {\"Algorithm\": \"Linear Learner\", \"Host\": \"algo-1\", \"Operation\": \"training\", \"epoch\": 1, \"model\": 2}, \"Metrics\": {\"train_mse_objective\": {\"sum\": 1.2844145202636719, \"count\": 1, \"min\": 1.2844145202636719, \"max\": 1.2844145202636719}}}\u001b[0m\n",
      "\u001b[34m#metrics {\"StartTime\": 1669357084.7388067, \"EndTime\": 1669357084.7388244, \"Dimensions\": {\"Algorithm\": \"Linear Learner\", \"Host\": \"algo-1\", \"Operation\": \"training\", \"epoch\": 1, \"model\": 3}, \"Metrics\": {\"train_mse_objective\": {\"sum\": 0.823424072265625, \"count\": 1, \"min\": 0.823424072265625, \"max\": 0.823424072265625}}}\u001b[0m\n",
      "\u001b[34m#metrics {\"StartTime\": 1669357084.7388835, \"EndTime\": 1669357084.7389016, \"Dimensions\": {\"Algorithm\": \"Linear Learner\", \"Host\": \"algo-1\", \"Operation\": \"training\", \"epoch\": 1, \"model\": 4}, \"Metrics\": {\"train_mse_objective\": {\"sum\": 0.7838460540771485, \"count\": 1, \"min\": 0.7838460540771485, \"max\": 0.7838460540771485}}}\u001b[0m\n",
      "\u001b[34m#metrics {\"StartTime\": 1669357084.738956, \"EndTime\": 1669357084.7389722, \"Dimensions\": {\"Algorithm\": \"Linear Learner\", \"Host\": \"algo-1\", \"Operation\": \"training\", \"epoch\": 1, \"model\": 5}, \"Metrics\": {\"train_mse_objective\": {\"sum\": 0.5281385803222656, \"count\": 1, \"min\": 0.5281385803222656, \"max\": 0.5281385803222656}}}\u001b[0m\n",
      "\u001b[34m#metrics {\"StartTime\": 1669357084.7390275, \"EndTime\": 1669357084.7390447, \"Dimensions\": {\"Algorithm\": \"Linear Learner\", \"Host\": \"algo-1\", \"Operation\": \"training\", \"epoch\": 1, \"model\": 6}, \"Metrics\": {\"train_mse_objective\": {\"sum\": 0.6652082061767578, \"count\": 1, \"min\": 0.6652082061767578, \"max\": 0.6652082061767578}}}\u001b[0m\n",
      "\u001b[34m#metrics {\"StartTime\": 1669357084.739095, \"EndTime\": 1669357084.739111, \"Dimensions\": {\"Algorithm\": \"Linear Learner\", \"Host\": \"algo-1\", \"Operation\": \"training\", \"epoch\": 1, \"model\": 7}, \"Metrics\": {\"train_mse_objective\": {\"sum\": 0.6306894302368165, \"count\": 1, \"min\": 0.6306894302368165, \"max\": 0.6306894302368165}}}\u001b[0m\n",
      "\u001b[34m#metrics {\"StartTime\": 1669357084.7391627, \"EndTime\": 1669357084.7391787, \"Dimensions\": {\"Algorithm\": \"Linear Learner\", \"Host\": \"algo-1\", \"Operation\": \"training\", \"epoch\": 1, \"model\": 8}, \"Metrics\": {\"train_mse_objective\": {\"sum\": 0.8839569091796875, \"count\": 1, \"min\": 0.8839569091796875, \"max\": 0.8839569091796875}}}\u001b[0m\n",
      "\u001b[34m#metrics {\"StartTime\": 1669357084.7392282, \"EndTime\": 1669357084.7392383, \"Dimensions\": {\"Algorithm\": \"Linear Learner\", \"Host\": \"algo-1\", \"Operation\": \"training\", \"epoch\": 1, \"model\": 9}, \"Metrics\": {\"train_mse_objective\": {\"sum\": 1.355673828125, \"count\": 1, \"min\": 1.355673828125, \"max\": 1.355673828125}}}\u001b[0m\n",
      "\u001b[34m#metrics {\"StartTime\": 1669357084.7392733, \"EndTime\": 1669357084.7392845, \"Dimensions\": {\"Algorithm\": \"Linear Learner\", \"Host\": \"algo-1\", \"Operation\": \"training\", \"epoch\": 1, \"model\": 10}, \"Metrics\": {\"train_mse_objective\": {\"sum\": 0.8249474334716796, \"count\": 1, \"min\": 0.8249474334716796, \"max\": 0.8249474334716796}}}\u001b[0m\n",
      "\u001b[34m#metrics {\"StartTime\": 1669357084.7393463, \"EndTime\": 1669357084.7393627, \"Dimensions\": {\"Algorithm\": \"Linear Learner\", \"Host\": \"algo-1\", \"Operation\": \"training\", \"epoch\": 1, \"model\": 11}, \"Metrics\": {\"train_mse_objective\": {\"sum\": 1.0742194366455078, \"count\": 1, \"min\": 1.0742194366455078, \"max\": 1.0742194366455078}}}\u001b[0m\n",
      "\u001b[34m#metrics {\"StartTime\": 1669357084.739409, \"EndTime\": 1669357084.739419, \"Dimensions\": {\"Algorithm\": \"Linear Learner\", \"Host\": \"algo-1\", \"Operation\": \"training\", \"epoch\": 1, \"model\": 12}, \"Metrics\": {\"train_mse_objective\": {\"sum\": 0.7009007263183594, \"count\": 1, \"min\": 0.7009007263183594, \"max\": 0.7009007263183594}}}\u001b[0m\n",
      "\u001b[34m#metrics {\"StartTime\": 1669357084.7394621, \"EndTime\": 1669357084.739478, \"Dimensions\": {\"Algorithm\": \"Linear Learner\", \"Host\": \"algo-1\", \"Operation\": \"training\", \"epoch\": 1, \"model\": 13}, \"Metrics\": {\"train_mse_objective\": {\"sum\": 0.7319986724853516, \"count\": 1, \"min\": 0.7319986724853516, \"max\": 0.7319986724853516}}}\u001b[0m\n",
      "\u001b[34m#metrics {\"StartTime\": 1669357084.739537, \"EndTime\": 1669357084.739548, \"Dimensions\": {\"Algorithm\": \"Linear Learner\", \"Host\": \"algo-1\", \"Operation\": \"training\", \"epoch\": 1, \"model\": 14}, \"Metrics\": {\"train_mse_objective\": {\"sum\": 0.8208916473388672, \"count\": 1, \"min\": 0.8208916473388672, \"max\": 0.8208916473388672}}}\u001b[0m\n",
      "\u001b[34m#metrics {\"StartTime\": 1669357084.739601, \"EndTime\": 1669357084.739617, \"Dimensions\": {\"Algorithm\": \"Linear Learner\", \"Host\": \"algo-1\", \"Operation\": \"training\", \"epoch\": 1, \"model\": 15}, \"Metrics\": {\"train_mse_objective\": {\"sum\": 0.5843476486206055, \"count\": 1, \"min\": 0.5843476486206055, \"max\": 0.5843476486206055}}}\u001b[0m\n",
      "\u001b[34m#metrics {\"StartTime\": 1669357084.7396781, \"EndTime\": 1669357084.7396948, \"Dimensions\": {\"Algorithm\": \"Linear Learner\", \"Host\": \"algo-1\", \"Operation\": \"training\", \"epoch\": 1, \"model\": 16}, \"Metrics\": {\"train_mse_objective\": {\"sum\": 0.9827794647216797, \"count\": 1, \"min\": 0.9827794647216797, \"max\": 0.9827794647216797}}}\u001b[0m\n",
      "\u001b[34m#metrics {\"StartTime\": 1669357084.7397456, \"EndTime\": 1669357084.7397559, \"Dimensions\": {\"Algorithm\": \"Linear Learner\", \"Host\": \"algo-1\", \"Operation\": \"training\", \"epoch\": 1, \"model\": 17}, \"Metrics\": {\"train_mse_objective\": {\"sum\": 0.817091064453125, \"count\": 1, \"min\": 0.817091064453125, \"max\": 0.817091064453125}}}\u001b[0m\n",
      "\u001b[34m#metrics {\"StartTime\": 1669357084.7397995, \"EndTime\": 1669357084.7398155, \"Dimensions\": {\"Algorithm\": \"Linear Learner\", \"Host\": \"algo-1\", \"Operation\": \"training\", \"epoch\": 1, \"model\": 18}, \"Metrics\": {\"train_mse_objective\": {\"sum\": 1.175034866333008, \"count\": 1, \"min\": 1.175034866333008, \"max\": 1.175034866333008}}}\u001b[0m\n",
      "\u001b[34m#metrics {\"StartTime\": 1669357084.739902, \"EndTime\": 1669357084.7399206, \"Dimensions\": {\"Algorithm\": \"Linear Learner\", \"Host\": \"algo-1\", \"Operation\": \"training\", \"epoch\": 1, \"model\": 19}, \"Metrics\": {\"train_mse_objective\": {\"sum\": 0.9754878234863281, \"count\": 1, \"min\": 0.9754878234863281, \"max\": 0.9754878234863281}}}\u001b[0m\n",
      "\u001b[34m#metrics {\"StartTime\": 1669357084.7399755, \"EndTime\": 1669357084.7399929, \"Dimensions\": {\"Algorithm\": \"Linear Learner\", \"Host\": \"algo-1\", \"Operation\": \"training\", \"epoch\": 1, \"model\": 20}, \"Metrics\": {\"train_mse_objective\": {\"sum\": 0.8545025634765625, \"count\": 1, \"min\": 0.8545025634765625, \"max\": 0.8545025634765625}}}\u001b[0m\n",
      "\u001b[34m#metrics {\"StartTime\": 1669357084.740049, \"EndTime\": 1669357084.7400641, \"Dimensions\": {\"Algorithm\": \"Linear Learner\", \"Host\": \"algo-1\", \"Operation\": \"training\", \"epoch\": 1, \"model\": 21}, \"Metrics\": {\"train_mse_objective\": {\"sum\": 0.5779526519775391, \"count\": 1, \"min\": 0.5779526519775391, \"max\": 0.5779526519775391}}}\u001b[0m\n",
      "\u001b[34m#metrics {\"StartTime\": 1669357084.740117, \"EndTime\": 1669357084.7401328, \"Dimensions\": {\"Algorithm\": \"Linear Learner\", \"Host\": \"algo-1\", \"Operation\": \"training\", \"epoch\": 1, \"model\": 22}, \"Metrics\": {\"train_mse_objective\": {\"sum\": 0.7035276794433594, \"count\": 1, \"min\": 0.7035276794433594, \"max\": 0.7035276794433594}}}\u001b[0m\n",
      "\u001b[34m#metrics {\"StartTime\": 1669357084.7401807, \"EndTime\": 1669357084.740196, \"Dimensions\": {\"Algorithm\": \"Linear Learner\", \"Host\": \"algo-1\", \"Operation\": \"training\", \"epoch\": 1, \"model\": 23}, \"Metrics\": {\"train_mse_objective\": {\"sum\": 0.6799083709716797, \"count\": 1, \"min\": 0.6799083709716797, \"max\": 0.6799083709716797}}}\u001b[0m\n",
      "\u001b[34m#metrics {\"StartTime\": 1669357084.740242, \"EndTime\": 1669357084.740257, \"Dimensions\": {\"Algorithm\": \"Linear Learner\", \"Host\": \"algo-1\", \"Operation\": \"training\", \"epoch\": 1, \"model\": 24}, \"Metrics\": {\"train_mse_objective\": {\"sum\": 0.9598691558837891, \"count\": 1, \"min\": 0.9598691558837891, \"max\": 0.9598691558837891}}}\u001b[0m\n",
      "\u001b[34m#metrics {\"StartTime\": 1669357084.7403088, \"EndTime\": 1669357084.7403219, \"Dimensions\": {\"Algorithm\": \"Linear Learner\", \"Host\": \"algo-1\", \"Operation\": \"training\", \"epoch\": 1, \"model\": 25}, \"Metrics\": {\"train_mse_objective\": {\"sum\": 0.94755859375, \"count\": 1, \"min\": 0.94755859375, \"max\": 0.94755859375}}}\u001b[0m\n",
      "\u001b[34m#metrics {\"StartTime\": 1669357084.7403693, \"EndTime\": 1669357084.740384, \"Dimensions\": {\"Algorithm\": \"Linear Learner\", \"Host\": \"algo-1\", \"Operation\": \"training\", \"epoch\": 1, \"model\": 26}, \"Metrics\": {\"train_mse_objective\": {\"sum\": 1.2051341247558593, \"count\": 1, \"min\": 1.2051341247558593, \"max\": 1.2051341247558593}}}\u001b[0m\n",
      "\u001b[34m#metrics {\"StartTime\": 1669357084.7404296, \"EndTime\": 1669357084.7404642, \"Dimensions\": {\"Algorithm\": \"Linear Learner\", \"Host\": \"algo-1\", \"Operation\": \"training\", \"epoch\": 1, \"model\": 27}, \"Metrics\": {\"train_mse_objective\": {\"sum\": 1.1159078216552734, \"count\": 1, \"min\": 1.1159078216552734, \"max\": 1.1159078216552734}}}\u001b[0m\n",
      "\u001b[34m#metrics {\"StartTime\": 1669357084.7405198, \"EndTime\": 1669357084.7405362, \"Dimensions\": {\"Algorithm\": \"Linear Learner\", \"Host\": \"algo-1\", \"Operation\": \"training\", \"epoch\": 1, \"model\": 28}, \"Metrics\": {\"train_mse_objective\": {\"sum\": 0.9875034332275391, \"count\": 1, \"min\": 0.9875034332275391, \"max\": 0.9875034332275391}}}\u001b[0m\n",
      "\u001b[34m#metrics {\"StartTime\": 1669357084.740587, \"EndTime\": 1669357084.740602, \"Dimensions\": {\"Algorithm\": \"Linear Learner\", \"Host\": \"algo-1\", \"Operation\": \"training\", \"epoch\": 1, \"model\": 29}, \"Metrics\": {\"train_mse_objective\": {\"sum\": 1.2127303314208984, \"count\": 1, \"min\": 1.2127303314208984, \"max\": 1.2127303314208984}}}\u001b[0m\n",
      "\u001b[34m#metrics {\"StartTime\": 1669357084.740655, \"EndTime\": 1669357084.7406712, \"Dimensions\": {\"Algorithm\": \"Linear Learner\", \"Host\": \"algo-1\", \"Operation\": \"training\", \"epoch\": 1, \"model\": 30}, \"Metrics\": {\"train_mse_objective\": {\"sum\": 0.8789956665039063, \"count\": 1, \"min\": 0.8789956665039063, \"max\": 0.8789956665039063}}}\u001b[0m\n",
      "\u001b[34m#metrics {\"StartTime\": 1669357084.7407236, \"EndTime\": 1669357084.7407403, \"Dimensions\": {\"Algorithm\": \"Linear Learner\", \"Host\": \"algo-1\", \"Operation\": \"training\", \"epoch\": 1, \"model\": 31}, \"Metrics\": {\"train_mse_objective\": {\"sum\": 0.8599986267089844, \"count\": 1, \"min\": 0.8599986267089844, \"max\": 0.8599986267089844}}}\u001b[0m\n",
      "\u001b[34m[11/25/2022 06:18:04 INFO 140704388560704] #quality_metric: host=algo-1, epoch=1, train mse_objective <loss>=0.9111643218994141\u001b[0m\n",
      "\u001b[34m#metrics {\"StartTime\": 1669357084.792814, \"EndTime\": 1669357084.7928648, \"Dimensions\": {\"Algorithm\": \"Linear Learner\", \"Host\": \"algo-1\", \"Operation\": \"training\", \"epoch\": 1, \"model\": 0}, \"Metrics\": {\"validation_mse_objective\": {\"sum\": 69.61189923967633, \"count\": 1, \"min\": 69.61189923967633, \"max\": 69.61189923967633}}}\u001b[0m\n",
      "\u001b[34m#metrics {\"StartTime\": 1669357084.7929409, \"EndTime\": 1669357084.7929544, \"Dimensions\": {\"Algorithm\": \"Linear Learner\", \"Host\": \"algo-1\", \"Operation\": \"training\", \"epoch\": 1, \"model\": 1}, \"Metrics\": {\"validation_mse_objective\": {\"sum\": 64.21786063058036, \"count\": 1, \"min\": 64.21786063058036, \"max\": 64.21786063058036}}}\u001b[0m\n",
      "\u001b[34m#metrics {\"StartTime\": 1669357084.793019, \"EndTime\": 1669357084.793037, \"Dimensions\": {\"Algorithm\": \"Linear Learner\", \"Host\": \"algo-1\", \"Operation\": \"training\", \"epoch\": 1, \"model\": 2}, \"Metrics\": {\"validation_mse_objective\": {\"sum\": 99.54143415178571, \"count\": 1, \"min\": 99.54143415178571, \"max\": 99.54143415178571}}}\u001b[0m\n",
      "\u001b[34m#metrics {\"StartTime\": 1669357084.7930992, \"EndTime\": 1669357084.7931175, \"Dimensions\": {\"Algorithm\": \"Linear Learner\", \"Host\": \"algo-1\", \"Operation\": \"training\", \"epoch\": 1, \"model\": 3}, \"Metrics\": {\"validation_mse_objective\": {\"sum\": 64.08585466657367, \"count\": 1, \"min\": 64.08585466657367, \"max\": 64.08585466657367}}}\u001b[0m\n",
      "\u001b[34m#metrics {\"StartTime\": 1669357084.793183, \"EndTime\": 1669357084.7932057, \"Dimensions\": {\"Algorithm\": \"Linear Learner\", \"Host\": \"algo-1\", \"Operation\": \"training\", \"epoch\": 1, \"model\": 4}, \"Metrics\": {\"validation_mse_objective\": {\"sum\": 68.9619620186942, \"count\": 1, \"min\": 68.9619620186942, \"max\": 68.9619620186942}}}\u001b[0m\n",
      "\u001b[34m#metrics {\"StartTime\": 1669357084.793271, \"EndTime\": 1669357084.793288, \"Dimensions\": {\"Algorithm\": \"Linear Learner\", \"Host\": \"algo-1\", \"Operation\": \"training\", \"epoch\": 1, \"model\": 5}, \"Metrics\": {\"validation_mse_objective\": {\"sum\": 75.19400460379464, \"count\": 1, \"min\": 75.19400460379464, \"max\": 75.19400460379464}}}\u001b[0m\n",
      "\u001b[34m#metrics {\"StartTime\": 1669357084.7933557, \"EndTime\": 1669357084.7933743, \"Dimensions\": {\"Algorithm\": \"Linear Learner\", \"Host\": \"algo-1\", \"Operation\": \"training\", \"epoch\": 1, \"model\": 6}, \"Metrics\": {\"validation_mse_objective\": {\"sum\": 84.76111711774554, \"count\": 1, \"min\": 84.76111711774554, \"max\": 84.76111711774554}}}\u001b[0m\n",
      "\u001b[34m#metrics {\"StartTime\": 1669357084.7934353, \"EndTime\": 1669357084.7934499, \"Dimensions\": {\"Algorithm\": \"Linear Learner\", \"Host\": \"algo-1\", \"Operation\": \"training\", \"epoch\": 1, \"model\": 7}, \"Metrics\": {\"validation_mse_objective\": {\"sum\": 86.69813755580357, \"count\": 1, \"min\": 86.69813755580357, \"max\": 86.69813755580357}}}\u001b[0m\n",
      "\u001b[34m#metrics {\"StartTime\": 1669357084.7935011, \"EndTime\": 1669357084.7935169, \"Dimensions\": {\"Algorithm\": \"Linear Learner\", \"Host\": \"algo-1\", \"Operation\": \"training\", \"epoch\": 1, \"model\": 8}, \"Metrics\": {\"validation_mse_objective\": {\"sum\": 69.51986258370536, \"count\": 1, \"min\": 69.51986258370536, \"max\": 69.51986258370536}}}\u001b[0m\n",
      "\u001b[34m#metrics {\"StartTime\": 1669357084.79357, \"EndTime\": 1669357084.7935872, \"Dimensions\": {\"Algorithm\": \"Linear Learner\", \"Host\": \"algo-1\", \"Operation\": \"training\", \"epoch\": 1, \"model\": 9}, \"Metrics\": {\"validation_mse_objective\": {\"sum\": 105.65073939732143, \"count\": 1, \"min\": 105.65073939732143, \"max\": 105.65073939732143}}}\u001b[0m\n",
      "\u001b[34m#metrics {\"StartTime\": 1669357084.7936413, \"EndTime\": 1669357084.793657, \"Dimensions\": {\"Algorithm\": \"Linear Learner\", \"Host\": \"algo-1\", \"Operation\": \"training\", \"epoch\": 1, \"model\": 10}, \"Metrics\": {\"validation_mse_objective\": {\"sum\": 64.38131277901786, \"count\": 1, \"min\": 64.38131277901786, \"max\": 64.38131277901786}}}\u001b[0m\n",
      "\u001b[34m#metrics {\"StartTime\": 1669357084.7937145, \"EndTime\": 1669357084.7937334, \"Dimensions\": {\"Algorithm\": \"Linear Learner\", \"Host\": \"algo-1\", \"Operation\": \"training\", \"epoch\": 1, \"model\": 11}, \"Metrics\": {\"validation_mse_objective\": {\"sum\": 82.47380719866071, \"count\": 1, \"min\": 82.47380719866071, \"max\": 82.47380719866071}}}\u001b[0m\n",
      "\u001b[34m#metrics {\"StartTime\": 1669357084.7938044, \"EndTime\": 1669357084.7938223, \"Dimensions\": {\"Algorithm\": \"Linear Learner\", \"Host\": \"algo-1\", \"Operation\": \"training\", \"epoch\": 1, \"model\": 12}, \"Metrics\": {\"validation_mse_objective\": {\"sum\": 77.13843645368304, \"count\": 1, \"min\": 77.13843645368304, \"max\": 77.13843645368304}}}\u001b[0m\n",
      "\u001b[34m#metrics {\"StartTime\": 1669357084.7938845, \"EndTime\": 1669357084.7939017, \"Dimensions\": {\"Algorithm\": \"Linear Learner\", \"Host\": \"algo-1\", \"Operation\": \"training\", \"epoch\": 1, \"model\": 13}, \"Metrics\": {\"validation_mse_objective\": {\"sum\": 78.67587716238839, \"count\": 1, \"min\": 78.67587716238839, \"max\": 78.67587716238839}}}\u001b[0m\n",
      "\u001b[34m#metrics {\"StartTime\": 1669357084.7939563, \"EndTime\": 1669357084.7939723, \"Dimensions\": {\"Algorithm\": \"Linear Learner\", \"Host\": \"algo-1\", \"Operation\": \"training\", \"epoch\": 1, \"model\": 14}, \"Metrics\": {\"validation_mse_objective\": {\"sum\": 68.07716587611607, \"count\": 1, \"min\": 68.07716587611607, \"max\": 68.07716587611607}}}\u001b[0m\n",
      "\u001b[34m#metrics {\"StartTime\": 1669357084.7940094, \"EndTime\": 1669357084.7940235, \"Dimensions\": {\"Algorithm\": \"Linear Learner\", \"Host\": \"algo-1\", \"Operation\": \"training\", \"epoch\": 1, \"model\": 15}, \"Metrics\": {\"validation_mse_objective\": {\"sum\": 74.88540213448661, \"count\": 1, \"min\": 74.88540213448661, \"max\": 74.88540213448661}}}\u001b[0m\n",
      "\u001b[34m#metrics {\"StartTime\": 1669357084.7940748, \"EndTime\": 1669357084.7940898, \"Dimensions\": {\"Algorithm\": \"Linear Learner\", \"Host\": \"algo-1\", \"Operation\": \"training\", \"epoch\": 1, \"model\": 16}, \"Metrics\": {\"validation_mse_objective\": {\"sum\": 76.54265485491071, \"count\": 1, \"min\": 76.54265485491071, \"max\": 76.54265485491071}}}\u001b[0m\n",
      "\u001b[34m#metrics {\"StartTime\": 1669357084.7941291, \"EndTime\": 1669357084.794144, \"Dimensions\": {\"Algorithm\": \"Linear Learner\", \"Host\": \"algo-1\", \"Operation\": \"training\", \"epoch\": 1, \"model\": 17}, \"Metrics\": {\"validation_mse_objective\": {\"sum\": 63.470445905412944, \"count\": 1, \"min\": 63.470445905412944, \"max\": 63.470445905412944}}}\u001b[0m\n",
      "\u001b[34m#metrics {\"StartTime\": 1669357084.794209, \"EndTime\": 1669357084.794226, \"Dimensions\": {\"Algorithm\": \"Linear Learner\", \"Host\": \"algo-1\", \"Operation\": \"training\", \"epoch\": 1, \"model\": 18}, \"Metrics\": {\"validation_mse_objective\": {\"sum\": 92.891357421875, \"count\": 1, \"min\": 92.891357421875, \"max\": 92.891357421875}}}\u001b[0m\n",
      "\u001b[34m#metrics {\"StartTime\": 1669357084.7942889, \"EndTime\": 1669357084.7943063, \"Dimensions\": {\"Algorithm\": \"Linear Learner\", \"Host\": \"algo-1\", \"Operation\": \"training\", \"epoch\": 1, \"model\": 19}, \"Metrics\": {\"validation_mse_objective\": {\"sum\": 78.33903285435268, \"count\": 1, \"min\": 78.33903285435268, \"max\": 78.33903285435268}}}\u001b[0m\n",
      "\u001b[34m#metrics {\"StartTime\": 1669357084.7943614, \"EndTime\": 1669357084.794379, \"Dimensions\": {\"Algorithm\": \"Linear Learner\", \"Host\": \"algo-1\", \"Operation\": \"training\", \"epoch\": 1, \"model\": 20}, \"Metrics\": {\"validation_mse_objective\": {\"sum\": 57.26659720284598, \"count\": 1, \"min\": 57.26659720284598, \"max\": 57.26659720284598}}}\u001b[0m\n",
      "\u001b[34m#metrics {\"StartTime\": 1669357084.7944458, \"EndTime\": 1669357084.7944627, \"Dimensions\": {\"Algorithm\": \"Linear Learner\", \"Host\": \"algo-1\", \"Operation\": \"training\", \"epoch\": 1, \"model\": 21}, \"Metrics\": {\"validation_mse_objective\": {\"sum\": 82.97348458426339, \"count\": 1, \"min\": 82.97348458426339, \"max\": 82.97348458426339}}}\u001b[0m\n",
      "\u001b[34m#metrics {\"StartTime\": 1669357084.7945185, \"EndTime\": 1669357084.794536, \"Dimensions\": {\"Algorithm\": \"Linear Learner\", \"Host\": \"algo-1\", \"Operation\": \"training\", \"epoch\": 1, \"model\": 22}, \"Metrics\": {\"validation_mse_objective\": {\"sum\": 55.42628696986607, \"count\": 1, \"min\": 55.42628696986607, \"max\": 55.42628696986607}}}\u001b[0m\n",
      "\u001b[34m#metrics {\"StartTime\": 1669357084.7945898, \"EndTime\": 1669357084.7946057, \"Dimensions\": {\"Algorithm\": \"Linear Learner\", \"Host\": \"algo-1\", \"Operation\": \"training\", \"epoch\": 1, \"model\": 23}, \"Metrics\": {\"validation_mse_objective\": {\"sum\": 61.75162615094866, \"count\": 1, \"min\": 61.75162615094866, \"max\": 61.75162615094866}}}\u001b[0m\n",
      "\u001b[34m#metrics {\"StartTime\": 1669357084.7946682, \"EndTime\": 1669357084.7946856, \"Dimensions\": {\"Algorithm\": \"Linear Learner\", \"Host\": \"algo-1\", \"Operation\": \"training\", \"epoch\": 1, \"model\": 24}, \"Metrics\": {\"validation_mse_objective\": {\"sum\": 78.87761579241071, \"count\": 1, \"min\": 78.87761579241071, \"max\": 78.87761579241071}}}\u001b[0m\n",
      "\u001b[34m#metrics {\"StartTime\": 1669357084.7947478, \"EndTime\": 1669357084.7947657, \"Dimensions\": {\"Algorithm\": \"Linear Learner\", \"Host\": \"algo-1\", \"Operation\": \"training\", \"epoch\": 1, \"model\": 25}, \"Metrics\": {\"validation_mse_objective\": {\"sum\": 79.41429792131696, \"count\": 1, \"min\": 79.41429792131696, \"max\": 79.41429792131696}}}\u001b[0m\n",
      "\u001b[34m#metrics {\"StartTime\": 1669357084.79482, \"EndTime\": 1669357084.7948363, \"Dimensions\": {\"Algorithm\": \"Linear Learner\", \"Host\": \"algo-1\", \"Operation\": \"training\", \"epoch\": 1, \"model\": 26}, \"Metrics\": {\"validation_mse_objective\": {\"sum\": 95.33433314732143, \"count\": 1, \"min\": 95.33433314732143, \"max\": 95.33433314732143}}}\u001b[0m\n",
      "\u001b[34m#metrics {\"StartTime\": 1669357084.7948897, \"EndTime\": 1669357084.7949011, \"Dimensions\": {\"Algorithm\": \"Linear Learner\", \"Host\": \"algo-1\", \"Operation\": \"training\", \"epoch\": 1, \"model\": 27}, \"Metrics\": {\"validation_mse_objective\": {\"sum\": 90.39086042131696, \"count\": 1, \"min\": 90.39086042131696, \"max\": 90.39086042131696}}}\u001b[0m\n",
      "\u001b[34m#metrics {\"StartTime\": 1669357084.7949522, \"EndTime\": 1669357084.7949667, \"Dimensions\": {\"Algorithm\": \"Linear Learner\", \"Host\": \"algo-1\", \"Operation\": \"training\", \"epoch\": 1, \"model\": 28}, \"Metrics\": {\"validation_mse_objective\": {\"sum\": 107.71799142020089, \"count\": 1, \"min\": 107.71799142020089, \"max\": 107.71799142020089}}}\u001b[0m\n",
      "\u001b[34m#metrics {\"StartTime\": 1669357084.7950282, \"EndTime\": 1669357084.7950435, \"Dimensions\": {\"Algorithm\": \"Linear Learner\", \"Host\": \"algo-1\", \"Operation\": \"training\", \"epoch\": 1, \"model\": 29}, \"Metrics\": {\"validation_mse_objective\": {\"sum\": 120.70710100446429, \"count\": 1, \"min\": 120.70710100446429, \"max\": 120.70710100446429}}}\u001b[0m\n",
      "\u001b[34m#metrics {\"StartTime\": 1669357084.7951038, \"EndTime\": 1669357084.7951195, \"Dimensions\": {\"Algorithm\": \"Linear Learner\", \"Host\": \"algo-1\", \"Operation\": \"training\", \"epoch\": 1, \"model\": 30}, \"Metrics\": {\"validation_mse_objective\": {\"sum\": 94.64934430803571, \"count\": 1, \"min\": 94.64934430803571, \"max\": 94.64934430803571}}}\u001b[0m\n",
      "\u001b[34m#metrics {\"StartTime\": 1669357084.7951837, \"EndTime\": 1669357084.7952015, \"Dimensions\": {\"Algorithm\": \"Linear Learner\", \"Host\": \"algo-1\", \"Operation\": \"training\", \"epoch\": 1, \"model\": 31}, \"Metrics\": {\"validation_mse_objective\": {\"sum\": 105.82789829799107, \"count\": 1, \"min\": 105.82789829799107, \"max\": 105.82789829799107}}}\u001b[0m\n",
      "\u001b[34m[11/25/2022 06:18:04 INFO 140704388560704] #quality_metric: host=algo-1, epoch=1, validation mse_objective <loss>=69.61189923967633\u001b[0m\n",
      "\u001b[34m[11/25/2022 06:18:04 INFO 140704388560704] #early_stopping_criteria_metric: host=algo-1, epoch=1, criteria=mse_objective, value=55.42628696986607\u001b[0m\n",
      "\u001b[34m[11/25/2022 06:18:04 INFO 140704388560704] Saving model for epoch: 1\u001b[0m\n",
      "\u001b[34m[11/25/2022 06:18:04 INFO 140704388560704] Saved checkpoint to \"/tmp/tmpg_7_rmny/mx-mod-0000.params\"\u001b[0m\n",
      "\u001b[34m[11/25/2022 06:18:04 INFO 140704388560704] #progress_metric: host=algo-1, completed 13.333333333333334 % of epochs\u001b[0m\n",
      "\u001b[34m#metrics {\"StartTime\": 1669357084.7047415, \"EndTime\": 1669357084.8015666, \"Dimensions\": {\"Algorithm\": \"Linear Learner\", \"Host\": \"algo-1\", \"Operation\": \"training\", \"epoch\": 1, \"Meta\": \"training_data_iter\"}, \"Metrics\": {\"Total Records Seen\": {\"sum\": 881.0, \"count\": 1, \"min\": 881, \"max\": 881}, \"Total Batches Seen\": {\"sum\": 7.0, \"count\": 1, \"min\": 7, \"max\": 7}, \"Max Records Seen Between Resets\": {\"sum\": 227.0, \"count\": 1, \"min\": 227, \"max\": 227}, \"Max Batches Seen Between Resets\": {\"sum\": 2.0, \"count\": 1, \"min\": 2, \"max\": 2}, \"Reset Count\": {\"sum\": 4.0, \"count\": 1, \"min\": 4, \"max\": 4}, \"Number of Records Since Last Reset\": {\"sum\": 227.0, \"count\": 1, \"min\": 227, \"max\": 227}, \"Number of Batches Since Last Reset\": {\"sum\": 2.0, \"count\": 1, \"min\": 2, \"max\": 2}}}\u001b[0m\n",
      "\u001b[34m[11/25/2022 06:18:04 INFO 140704388560704] #throughput_metric: host=algo-1, train throughput=2341.279365368206 records/second\u001b[0m\n",
      "\u001b[34m#metrics {\"StartTime\": 1669357084.829414, \"EndTime\": 1669357084.8294685, \"Dimensions\": {\"Algorithm\": \"Linear Learner\", \"Host\": \"algo-1\", \"Operation\": \"training\", \"epoch\": 2, \"model\": 0}, \"Metrics\": {\"train_mse_objective\": {\"sum\": 0.8599980926513672, \"count\": 1, \"min\": 0.8599980926513672, \"max\": 0.8599980926513672}}}\u001b[0m\n",
      "\u001b[34m#metrics {\"StartTime\": 1669357084.8295507, \"EndTime\": 1669357084.8295696, \"Dimensions\": {\"Algorithm\": \"Linear Learner\", \"Host\": \"algo-1\", \"Operation\": \"training\", \"epoch\": 2, \"model\": 1}, \"Metrics\": {\"train_mse_objective\": {\"sum\": 0.7951252746582032, \"count\": 1, \"min\": 0.7951252746582032, \"max\": 0.7951252746582032}}}\u001b[0m\n",
      "\u001b[34m#metrics {\"StartTime\": 1669357084.829623, \"EndTime\": 1669357084.8296392, \"Dimensions\": {\"Algorithm\": \"Linear Learner\", \"Host\": \"algo-1\", \"Operation\": \"training\", \"epoch\": 2, \"model\": 2}, \"Metrics\": {\"train_mse_objective\": {\"sum\": 1.2122779846191407, \"count\": 1, \"min\": 1.2122779846191407, \"max\": 1.2122779846191407}}}\u001b[0m\n",
      "\u001b[34m#metrics {\"StartTime\": 1669357084.8297048, \"EndTime\": 1669357084.82972, \"Dimensions\": {\"Algorithm\": \"Linear Learner\", \"Host\": \"algo-1\", \"Operation\": \"training\", \"epoch\": 2, \"model\": 3}, \"Metrics\": {\"train_mse_objective\": {\"sum\": 0.7801406097412109, \"count\": 1, \"min\": 0.7801406097412109, \"max\": 0.7801406097412109}}}\u001b[0m\n",
      "\u001b[34m#metrics {\"StartTime\": 1669357084.8297727, \"EndTime\": 1669357084.8297894, \"Dimensions\": {\"Algorithm\": \"Linear Learner\", \"Host\": \"algo-1\", \"Operation\": \"training\", \"epoch\": 2, \"model\": 4}, \"Metrics\": {\"train_mse_objective\": {\"sum\": 0.8874924468994141, \"count\": 1, \"min\": 0.8874924468994141, \"max\": 0.8874924468994141}}}\u001b[0m\n",
      "\u001b[34m#metrics {\"StartTime\": 1669357084.8298304, \"EndTime\": 1669357084.8298445, \"Dimensions\": {\"Algorithm\": \"Linear Learner\", \"Host\": \"algo-1\", \"Operation\": \"training\", \"epoch\": 2, \"model\": 5}, \"Metrics\": {\"train_mse_objective\": {\"sum\": 0.9739327239990234, \"count\": 1, \"min\": 0.9739327239990234, \"max\": 0.9739327239990234}}}\u001b[0m\n",
      "\u001b[34m#metrics {\"StartTime\": 1669357084.8298907, \"EndTime\": 1669357084.8299062, \"Dimensions\": {\"Algorithm\": \"Linear Learner\", \"Host\": \"algo-1\", \"Operation\": \"training\", \"epoch\": 2, \"model\": 6}, \"Metrics\": {\"train_mse_objective\": {\"sum\": 1.069718780517578, \"count\": 1, \"min\": 1.069718780517578, \"max\": 1.069718780517578}}}\u001b[0m\n",
      "\u001b[34m#metrics {\"StartTime\": 1669357084.8299556, \"EndTime\": 1669357084.8299704, \"Dimensions\": {\"Algorithm\": \"Linear Learner\", \"Host\": \"algo-1\", \"Operation\": \"training\", \"epoch\": 2, \"model\": 7}, \"Metrics\": {\"train_mse_objective\": {\"sum\": 1.076751480102539, \"count\": 1, \"min\": 1.076751480102539, \"max\": 1.076751480102539}}}\u001b[0m\n",
      "\u001b[34m#metrics {\"StartTime\": 1669357084.8300216, \"EndTime\": 1669357084.8300378, \"Dimensions\": {\"Algorithm\": \"Linear Learner\", \"Host\": \"algo-1\", \"Operation\": \"training\", \"epoch\": 2, \"model\": 8}, \"Metrics\": {\"train_mse_objective\": {\"sum\": 0.8422318267822265, \"count\": 1, \"min\": 0.8422318267822265, \"max\": 0.8422318267822265}}}\u001b[0m\n",
      "\u001b[34m#metrics {\"StartTime\": 1669357084.8300917, \"EndTime\": 1669357084.8301082, \"Dimensions\": {\"Algorithm\": \"Linear Learner\", \"Host\": \"algo-1\", \"Operation\": \"training\", \"epoch\": 2, \"model\": 9}, \"Metrics\": {\"train_mse_objective\": {\"sum\": 1.280579833984375, \"count\": 1, \"min\": 1.280579833984375, \"max\": 1.280579833984375}}}\u001b[0m\n",
      "\u001b[34m#metrics {\"StartTime\": 1669357084.8301597, \"EndTime\": 1669357084.8301754, \"Dimensions\": {\"Algorithm\": \"Linear Learner\", \"Host\": \"algo-1\", \"Operation\": \"training\", \"epoch\": 2, \"model\": 10}, \"Metrics\": {\"train_mse_objective\": {\"sum\": 0.7863258361816406, \"count\": 1, \"min\": 0.7863258361816406, \"max\": 0.7863258361816406}}}\u001b[0m\n",
      "\u001b[34m#metrics {\"StartTime\": 1669357084.8302274, \"EndTime\": 1669357084.8302429, \"Dimensions\": {\"Algorithm\": \"Linear Learner\", \"Host\": \"algo-1\", \"Operation\": \"training\", \"epoch\": 2, \"model\": 11}, \"Metrics\": {\"train_mse_objective\": {\"sum\": 1.0175139617919922, \"count\": 1, \"min\": 1.0175139617919922, \"max\": 1.0175139617919922}}}\u001b[0m\n",
      "\u001b[34m#metrics {\"StartTime\": 1669357084.830298, \"EndTime\": 1669357084.830314, \"Dimensions\": {\"Algorithm\": \"Linear Learner\", \"Host\": \"algo-1\", \"Operation\": \"training\", \"epoch\": 2, \"model\": 12}, \"Metrics\": {\"train_mse_objective\": {\"sum\": 0.9679800415039063, \"count\": 1, \"min\": 0.9679800415039063, \"max\": 0.9679800415039063}}}\u001b[0m\n",
      "\u001b[34m#metrics {\"StartTime\": 1669357084.8303688, \"EndTime\": 1669357084.8303857, \"Dimensions\": {\"Algorithm\": \"Linear Learner\", \"Host\": \"algo-1\", \"Operation\": \"training\", \"epoch\": 2, \"model\": 13}, \"Metrics\": {\"train_mse_objective\": {\"sum\": 1.0146898651123046, \"count\": 1, \"min\": 1.0146898651123046, \"max\": 1.0146898651123046}}}\u001b[0m\n",
      "\u001b[34m#metrics {\"StartTime\": 1669357084.8304405, \"EndTime\": 1669357084.8304565, \"Dimensions\": {\"Algorithm\": \"Linear Learner\", \"Host\": \"algo-1\", \"Operation\": \"training\", \"epoch\": 2, \"model\": 14}, \"Metrics\": {\"train_mse_objective\": {\"sum\": 0.8859566497802734, \"count\": 1, \"min\": 0.8859566497802734, \"max\": 0.8859566497802734}}}\u001b[0m\n",
      "\u001b[34m#metrics {\"StartTime\": 1669357084.8305216, \"EndTime\": 1669357084.8305378, \"Dimensions\": {\"Algorithm\": \"Linear Learner\", \"Host\": \"algo-1\", \"Operation\": \"training\", \"epoch\": 2, \"model\": 15}, \"Metrics\": {\"train_mse_objective\": {\"sum\": 0.962164306640625, \"count\": 1, \"min\": 0.962164306640625, \"max\": 0.962164306640625}}}\u001b[0m\n",
      "\u001b[34m#metrics {\"StartTime\": 1669357084.8306005, \"EndTime\": 1669357084.8306184, \"Dimensions\": {\"Algorithm\": \"Linear Learner\", \"Host\": \"algo-1\", \"Operation\": \"training\", \"epoch\": 2, \"model\": 16}, \"Metrics\": {\"train_mse_objective\": {\"sum\": 0.929975357055664, \"count\": 1, \"min\": 0.929975357055664, \"max\": 0.929975357055664}}}\u001b[0m\n",
      "\u001b[34m#metrics {\"StartTime\": 1669357084.8306813, \"EndTime\": 1669357084.8306992, \"Dimensions\": {\"Algorithm\": \"Linear Learner\", \"Host\": \"algo-1\", \"Operation\": \"training\", \"epoch\": 2, \"model\": 17}, \"Metrics\": {\"train_mse_objective\": {\"sum\": 0.7801631164550781, \"count\": 1, \"min\": 0.7801631164550781, \"max\": 0.7801631164550781}}}\u001b[0m\n",
      "\u001b[34m#metrics {\"StartTime\": 1669357084.8307528, \"EndTime\": 1669357084.8307707, \"Dimensions\": {\"Algorithm\": \"Linear Learner\", \"Host\": \"algo-1\", \"Operation\": \"training\", \"epoch\": 2, \"model\": 18}, \"Metrics\": {\"train_mse_objective\": {\"sum\": 1.1159512329101562, \"count\": 1, \"min\": 1.1159512329101562, \"max\": 1.1159512329101562}}}\u001b[0m\n",
      "\u001b[34m#metrics {\"StartTime\": 1669357084.830838, \"EndTime\": 1669357084.8308554, \"Dimensions\": {\"Algorithm\": \"Linear Learner\", \"Host\": \"algo-1\", \"Operation\": \"training\", \"epoch\": 2, \"model\": 19}, \"Metrics\": {\"train_mse_objective\": {\"sum\": 0.924314956665039, \"count\": 1, \"min\": 0.924314956665039, \"max\": 0.924314956665039}}}\u001b[0m\n",
      "\u001b[34m#metrics {\"StartTime\": 1669357084.8309097, \"EndTime\": 1669357084.8309264, \"Dimensions\": {\"Algorithm\": \"Linear Learner\", \"Host\": \"algo-1\", \"Operation\": \"training\", \"epoch\": 2, \"model\": 20}, \"Metrics\": {\"train_mse_objective\": {\"sum\": 0.7444410705566407, \"count\": 1, \"min\": 0.7444410705566407, \"max\": 0.7444410705566407}}}\u001b[0m\n",
      "\u001b[34m#metrics {\"StartTime\": 1669357084.8309925, \"EndTime\": 1669357084.831009, \"Dimensions\": {\"Algorithm\": \"Linear Learner\", \"Host\": \"algo-1\", \"Operation\": \"training\", \"epoch\": 2, \"model\": 21}, \"Metrics\": {\"train_mse_objective\": {\"sum\": 1.0386168670654297, \"count\": 1, \"min\": 1.0386168670654297, \"max\": 1.0386168670654297}}}\u001b[0m\n",
      "\u001b[34m#metrics {\"StartTime\": 1669357084.8310602, \"EndTime\": 1669357084.8310773, \"Dimensions\": {\"Algorithm\": \"Linear Learner\", \"Host\": \"algo-1\", \"Operation\": \"training\", \"epoch\": 2, \"model\": 22}, \"Metrics\": {\"train_mse_objective\": {\"sum\": 0.7214083099365234, \"count\": 1, \"min\": 0.7214083099365234, \"max\": 0.7214083099365234}}}\u001b[0m\n",
      "\u001b[34m#metrics {\"StartTime\": 1669357084.8311298, \"EndTime\": 1669357084.8311467, \"Dimensions\": {\"Algorithm\": \"Linear Learner\", \"Host\": \"algo-1\", \"Operation\": \"training\", \"epoch\": 2, \"model\": 23}, \"Metrics\": {\"train_mse_objective\": {\"sum\": 0.8138542175292969, \"count\": 1, \"min\": 0.8138542175292969, \"max\": 0.8138542175292969}}}\u001b[0m\n",
      "\u001b[34m#metrics {\"StartTime\": 1669357084.8312008, \"EndTime\": 1669357084.8312182, \"Dimensions\": {\"Algorithm\": \"Linear Learner\", \"Host\": \"algo-1\", \"Operation\": \"training\", \"epoch\": 2, \"model\": 24}, \"Metrics\": {\"train_mse_objective\": {\"sum\": 0.9553318786621093, \"count\": 1, \"min\": 0.9553318786621093, \"max\": 0.9553318786621093}}}\u001b[0m\n",
      "\u001b[34m#metrics {\"StartTime\": 1669357084.8312738, \"EndTime\": 1669357084.831285, \"Dimensions\": {\"Algorithm\": \"Linear Learner\", \"Host\": \"algo-1\", \"Operation\": \"training\", \"epoch\": 2, \"model\": 25}, \"Metrics\": {\"train_mse_objective\": {\"sum\": 0.957152099609375, \"count\": 1, \"min\": 0.957152099609375, \"max\": 0.957152099609375}}}\u001b[0m\n",
      "\u001b[34m#metrics {\"StartTime\": 1669357084.831314, \"EndTime\": 1669357084.8313224, \"Dimensions\": {\"Algorithm\": \"Linear Learner\", \"Host\": \"algo-1\", \"Operation\": \"training\", \"epoch\": 2, \"model\": 26}, \"Metrics\": {\"train_mse_objective\": {\"sum\": 1.1597505187988282, \"count\": 1, \"min\": 1.1597505187988282, \"max\": 1.1597505187988282}}}\u001b[0m\n",
      "\u001b[34m#metrics {\"StartTime\": 1669357084.8313487, \"EndTime\": 1669357084.8313565, \"Dimensions\": {\"Algorithm\": \"Linear Learner\", \"Host\": \"algo-1\", \"Operation\": \"training\", \"epoch\": 2, \"model\": 27}, \"Metrics\": {\"train_mse_objective\": {\"sum\": 1.1053254699707031, \"count\": 1, \"min\": 1.1053254699707031, \"max\": 1.1053254699707031}}}\u001b[0m\n",
      "\u001b[34m#metrics {\"StartTime\": 1669357084.8314054, \"EndTime\": 1669357084.8314216, \"Dimensions\": {\"Algorithm\": \"Linear Learner\", \"Host\": \"algo-1\", \"Operation\": \"training\", \"epoch\": 2, \"model\": 28}, \"Metrics\": {\"train_mse_objective\": {\"sum\": 1.2602216339111327, \"count\": 1, \"min\": 1.2602216339111327, \"max\": 1.2602216339111327}}}\u001b[0m\n",
      "\u001b[34m#metrics {\"StartTime\": 1669357084.8314738, \"EndTime\": 1669357084.83149, \"Dimensions\": {\"Algorithm\": \"Linear Learner\", \"Host\": \"algo-1\", \"Operation\": \"training\", \"epoch\": 2, \"model\": 29}, \"Metrics\": {\"train_mse_objective\": {\"sum\": 1.3659439086914062, \"count\": 1, \"min\": 1.3659439086914062, \"max\": 1.3659439086914062}}}\u001b[0m\n",
      "\u001b[34m#metrics {\"StartTime\": 1669357084.8315442, \"EndTime\": 1669357084.8315623, \"Dimensions\": {\"Algorithm\": \"Linear Learner\", \"Host\": \"algo-1\", \"Operation\": \"training\", \"epoch\": 2, \"model\": 30}, \"Metrics\": {\"train_mse_objective\": {\"sum\": 1.1240033721923828, \"count\": 1, \"min\": 1.1240033721923828, \"max\": 1.1240033721923828}}}\u001b[0m\n",
      "\u001b[34m#metrics {\"StartTime\": 1669357084.831615, \"EndTime\": 1669357084.8316314, \"Dimensions\": {\"Algorithm\": \"Linear Learner\", \"Host\": \"algo-1\", \"Operation\": \"training\", \"epoch\": 2, \"model\": 31}, \"Metrics\": {\"train_mse_objective\": {\"sum\": 1.2200971221923829, \"count\": 1, \"min\": 1.2200971221923829, \"max\": 1.2200971221923829}}}\u001b[0m\n",
      "\u001b[34m[11/25/2022 06:18:04 INFO 140704388560704] #quality_metric: host=algo-1, epoch=2, train mse_objective <loss>=0.8599980926513672\u001b[0m\n",
      "\u001b[34m#metrics {\"StartTime\": 1669357084.885533, \"EndTime\": 1669357084.8855875, \"Dimensions\": {\"Algorithm\": \"Linear Learner\", \"Host\": \"algo-1\", \"Operation\": \"training\", \"epoch\": 2, \"model\": 0}, \"Metrics\": {\"validation_mse_objective\": {\"sum\": 65.7144295828683, \"count\": 1, \"min\": 65.7144295828683, \"max\": 65.7144295828683}}}\u001b[0m\n",
      "\u001b[34m#metrics {\"StartTime\": 1669357084.885672, \"EndTime\": 1669357084.885692, \"Dimensions\": {\"Algorithm\": \"Linear Learner\", \"Host\": \"algo-1\", \"Operation\": \"training\", \"epoch\": 2, \"model\": 1}, \"Metrics\": {\"validation_mse_objective\": {\"sum\": 61.024139404296875, \"count\": 1, \"min\": 61.024139404296875, \"max\": 61.024139404296875}}}\u001b[0m\n",
      "\u001b[34m#metrics {\"StartTime\": 1669357084.8857484, \"EndTime\": 1669357084.8857646, \"Dimensions\": {\"Algorithm\": \"Linear Learner\", \"Host\": \"algo-1\", \"Operation\": \"training\", \"epoch\": 2, \"model\": 2}, \"Metrics\": {\"validation_mse_objective\": {\"sum\": 93.64664132254464, \"count\": 1, \"min\": 93.64664132254464, \"max\": 93.64664132254464}}}\u001b[0m\n",
      "\u001b[34m#metrics {\"StartTime\": 1669357084.8858278, \"EndTime\": 1669357084.885845, \"Dimensions\": {\"Algorithm\": \"Linear Learner\", \"Host\": \"algo-1\", \"Operation\": \"training\", \"epoch\": 2, \"model\": 3}, \"Metrics\": {\"validation_mse_objective\": {\"sum\": 60.73030308314732, \"count\": 1, \"min\": 60.73030308314732, \"max\": 60.73030308314732}}}\u001b[0m\n",
      "\u001b[34m#metrics {\"StartTime\": 1669357084.8858979, \"EndTime\": 1669357084.8859127, \"Dimensions\": {\"Algorithm\": \"Linear Learner\", \"Host\": \"algo-1\", \"Operation\": \"training\", \"epoch\": 2, \"model\": 4}, \"Metrics\": {\"validation_mse_objective\": {\"sum\": 28.745489937918528, \"count\": 1, \"min\": 28.745489937918528, \"max\": 28.745489937918528}}}\u001b[0m\n",
      "\u001b[34m#metrics {\"StartTime\": 1669357084.8859603, \"EndTime\": 1669357084.8859758, \"Dimensions\": {\"Algorithm\": \"Linear Learner\", \"Host\": \"algo-1\", \"Operation\": \"training\", \"epoch\": 2, \"model\": 5}, \"Metrics\": {\"validation_mse_objective\": {\"sum\": 46.328029087611604, \"count\": 1, \"min\": 46.328029087611604, \"max\": 46.328029087611604}}}\u001b[0m\n",
      "\u001b[34m#metrics {\"StartTime\": 1669357084.8860276, \"EndTime\": 1669357084.8860433, \"Dimensions\": {\"Algorithm\": \"Linear Learner\", \"Host\": \"algo-1\", \"Operation\": \"training\", \"epoch\": 2, \"model\": 6}, \"Metrics\": {\"validation_mse_objective\": {\"sum\": 49.32739693777902, \"count\": 1, \"min\": 49.32739693777902, \"max\": 49.32739693777902}}}\u001b[0m\n",
      "\u001b[34m#metrics {\"StartTime\": 1669357084.886106, \"EndTime\": 1669357084.886122, \"Dimensions\": {\"Algorithm\": \"Linear Learner\", \"Host\": \"algo-1\", \"Operation\": \"training\", \"epoch\": 2, \"model\": 7}, \"Metrics\": {\"validation_mse_objective\": {\"sum\": 45.995396205357146, \"count\": 1, \"min\": 45.995396205357146, \"max\": 45.995396205357146}}}\u001b[0m\n",
      "\u001b[34m#metrics {\"StartTime\": 1669357084.8861735, \"EndTime\": 1669357084.8861904, \"Dimensions\": {\"Algorithm\": \"Linear Learner\", \"Host\": \"algo-1\", \"Operation\": \"training\", \"epoch\": 2, \"model\": 8}, \"Metrics\": {\"validation_mse_objective\": {\"sum\": 66.45264979771206, \"count\": 1, \"min\": 66.45264979771206, \"max\": 66.45264979771206}}}\u001b[0m\n",
      "\u001b[34m#metrics {\"StartTime\": 1669357084.8862443, \"EndTime\": 1669357084.8862605, \"Dimensions\": {\"Algorithm\": \"Linear Learner\", \"Host\": \"algo-1\", \"Operation\": \"training\", \"epoch\": 2, \"model\": 9}, \"Metrics\": {\"validation_mse_objective\": {\"sum\": 99.36693464006696, \"count\": 1, \"min\": 99.36693464006696, \"max\": 99.36693464006696}}}\u001b[0m\n",
      "\u001b[34m#metrics {\"StartTime\": 1669357084.8863122, \"EndTime\": 1669357084.8863285, \"Dimensions\": {\"Algorithm\": \"Linear Learner\", \"Host\": \"algo-1\", \"Operation\": \"training\", \"epoch\": 2, \"model\": 10}, \"Metrics\": {\"validation_mse_objective\": {\"sum\": 61.643798828125, \"count\": 1, \"min\": 61.643798828125, \"max\": 61.643798828125}}}\u001b[0m\n",
      "\u001b[34m#metrics {\"StartTime\": 1669357084.8863826, \"EndTime\": 1669357084.8863995, \"Dimensions\": {\"Algorithm\": \"Linear Learner\", \"Host\": \"algo-1\", \"Operation\": \"training\", \"epoch\": 2, \"model\": 11}, \"Metrics\": {\"validation_mse_objective\": {\"sum\": 78.17531912667411, \"count\": 1, \"min\": 78.17531912667411, \"max\": 78.17531912667411}}}\u001b[0m\n",
      "\u001b[34m#metrics {\"StartTime\": 1669357084.886453, \"EndTime\": 1669357084.8864691, \"Dimensions\": {\"Algorithm\": \"Linear Learner\", \"Host\": \"algo-1\", \"Operation\": \"training\", \"epoch\": 2, \"model\": 12}, \"Metrics\": {\"validation_mse_objective\": {\"sum\": 40.22414289202009, \"count\": 1, \"min\": 40.22414289202009, \"max\": 40.22414289202009}}}\u001b[0m\n",
      "\u001b[34m#metrics {\"StartTime\": 1669357084.8865206, \"EndTime\": 1669357084.8865366, \"Dimensions\": {\"Algorithm\": \"Linear Learner\", \"Host\": \"algo-1\", \"Operation\": \"training\", \"epoch\": 2, \"model\": 13}, \"Metrics\": {\"validation_mse_objective\": {\"sum\": 37.735015869140625, \"count\": 1, \"min\": 37.735015869140625, \"max\": 37.735015869140625}}}\u001b[0m\n",
      "\u001b[34m#metrics {\"StartTime\": 1669357084.8865871, \"EndTime\": 1669357084.8865986, \"Dimensions\": {\"Algorithm\": \"Linear Learner\", \"Host\": \"algo-1\", \"Operation\": \"training\", \"epoch\": 2, \"model\": 14}, \"Metrics\": {\"validation_mse_objective\": {\"sum\": 27.475620814732142, \"count\": 1, \"min\": 27.475620814732142, \"max\": 27.475620814732142}}}\u001b[0m\n",
      "\u001b[34m#metrics {\"StartTime\": 1669357084.8866274, \"EndTime\": 1669357084.886635, \"Dimensions\": {\"Algorithm\": \"Linear Learner\", \"Host\": \"algo-1\", \"Operation\": \"training\", \"epoch\": 2, \"model\": 15}, \"Metrics\": {\"validation_mse_objective\": {\"sum\": 43.960484095982146, \"count\": 1, \"min\": 43.960484095982146, \"max\": 43.960484095982146}}}\u001b[0m\n",
      "\u001b[34m#metrics {\"StartTime\": 1669357084.886662, \"EndTime\": 1669357084.8866754, \"Dimensions\": {\"Algorithm\": \"Linear Learner\", \"Host\": \"algo-1\", \"Operation\": \"training\", \"epoch\": 2, \"model\": 16}, \"Metrics\": {\"validation_mse_objective\": {\"sum\": 72.27288818359375, \"count\": 1, \"min\": 72.27288818359375, \"max\": 72.27288818359375}}}\u001b[0m\n",
      "\u001b[34m#metrics {\"StartTime\": 1669357084.8867235, \"EndTime\": 1669357084.8867366, \"Dimensions\": {\"Algorithm\": \"Linear Learner\", \"Host\": \"algo-1\", \"Operation\": \"training\", \"epoch\": 2, \"model\": 17}, \"Metrics\": {\"validation_mse_objective\": {\"sum\": 60.830540248325896, \"count\": 1, \"min\": 60.830540248325896, \"max\": 60.830540248325896}}}\u001b[0m\n",
      "\u001b[34m#metrics {\"StartTime\": 1669357084.8867795, \"EndTime\": 1669357084.886789, \"Dimensions\": {\"Algorithm\": \"Linear Learner\", \"Host\": \"algo-1\", \"Operation\": \"training\", \"epoch\": 2, \"model\": 18}, \"Metrics\": {\"validation_mse_objective\": {\"sum\": 88.12204415457589, \"count\": 1, \"min\": 88.12204415457589, \"max\": 88.12204415457589}}}\u001b[0m\n",
      "\u001b[34m#metrics {\"StartTime\": 1669357084.8868196, \"EndTime\": 1669357084.8868325, \"Dimensions\": {\"Algorithm\": \"Linear Learner\", \"Host\": \"algo-1\", \"Operation\": \"training\", \"epoch\": 2, \"model\": 19}, \"Metrics\": {\"validation_mse_objective\": {\"sum\": 74.30266462053571, \"count\": 1, \"min\": 74.30266462053571, \"max\": 74.30266462053571}}}\u001b[0m\n",
      "\u001b[34m#metrics {\"StartTime\": 1669357084.8868818, \"EndTime\": 1669357084.8868976, \"Dimensions\": {\"Algorithm\": \"Linear Learner\", \"Host\": \"algo-1\", \"Operation\": \"training\", \"epoch\": 2, \"model\": 20}, \"Metrics\": {\"validation_mse_objective\": {\"sum\": 29.597760881696427, \"count\": 1, \"min\": 29.597760881696427, \"max\": 29.597760881696427}}}\u001b[0m\n",
      "\u001b[34m#metrics {\"StartTime\": 1669357084.8869486, \"EndTime\": 1669357084.8869646, \"Dimensions\": {\"Algorithm\": \"Linear Learner\", \"Host\": \"algo-1\", \"Operation\": \"training\", \"epoch\": 2, \"model\": 21}, \"Metrics\": {\"validation_mse_objective\": {\"sum\": 39.963134765625, \"count\": 1, \"min\": 39.963134765625, \"max\": 39.963134765625}}}\u001b[0m\n",
      "\u001b[34m#metrics {\"StartTime\": 1669357084.8870132, \"EndTime\": 1669357084.887029, \"Dimensions\": {\"Algorithm\": \"Linear Learner\", \"Host\": \"algo-1\", \"Operation\": \"training\", \"epoch\": 2, \"model\": 22}, \"Metrics\": {\"validation_mse_objective\": {\"sum\": 26.762987409319198, \"count\": 1, \"min\": 26.762987409319198, \"max\": 26.762987409319198}}}\u001b[0m\n",
      "\u001b[34m#metrics {\"StartTime\": 1669357084.8870735, \"EndTime\": 1669357084.8870833, \"Dimensions\": {\"Algorithm\": \"Linear Learner\", \"Host\": \"algo-1\", \"Operation\": \"training\", \"epoch\": 2, \"model\": 23}, \"Metrics\": {\"validation_mse_objective\": {\"sum\": 25.569830758231028, \"count\": 1, \"min\": 25.569830758231028, \"max\": 25.569830758231028}}}\u001b[0m\n",
      "\u001b[34m#metrics {\"StartTime\": 1669357084.8871307, \"EndTime\": 1669357084.887146, \"Dimensions\": {\"Algorithm\": \"Linear Learner\", \"Host\": \"algo-1\", \"Operation\": \"training\", \"epoch\": 2, \"model\": 24}, \"Metrics\": {\"validation_mse_objective\": {\"sum\": 78.35642787388393, \"count\": 1, \"min\": 78.35642787388393, \"max\": 78.35642787388393}}}\u001b[0m\n",
      "\u001b[34m#metrics {\"StartTime\": 1669357084.8871891, \"EndTime\": 1669357084.887204, \"Dimensions\": {\"Algorithm\": \"Linear Learner\", \"Host\": \"algo-1\", \"Operation\": \"training\", \"epoch\": 2, \"model\": 25}, \"Metrics\": {\"validation_mse_objective\": {\"sum\": 79.66450718470982, \"count\": 1, \"min\": 79.66450718470982, \"max\": 79.66450718470982}}}\u001b[0m\n",
      "\u001b[34m#metrics {\"StartTime\": 1669357084.8872542, \"EndTime\": 1669357084.8872697, \"Dimensions\": {\"Algorithm\": \"Linear Learner\", \"Host\": \"algo-1\", \"Operation\": \"training\", \"epoch\": 2, \"model\": 26}, \"Metrics\": {\"validation_mse_objective\": {\"sum\": 91.57502964564732, \"count\": 1, \"min\": 91.57502964564732, \"max\": 91.57502964564732}}}\u001b[0m\n",
      "\u001b[34m#metrics {\"StartTime\": 1669357084.88732, \"EndTime\": 1669357084.8873358, \"Dimensions\": {\"Algorithm\": \"Linear Learner\", \"Host\": \"algo-1\", \"Operation\": \"training\", \"epoch\": 2, \"model\": 27}, \"Metrics\": {\"validation_mse_objective\": {\"sum\": 89.28072684151786, \"count\": 1, \"min\": 89.28072684151786, \"max\": 89.28072684151786}}}\u001b[0m\n",
      "\u001b[34m#metrics {\"StartTime\": 1669357084.8873816, \"EndTime\": 1669357084.8873918, \"Dimensions\": {\"Algorithm\": \"Linear Learner\", \"Host\": \"algo-1\", \"Operation\": \"training\", \"epoch\": 2, \"model\": 28}, \"Metrics\": {\"validation_mse_objective\": {\"sum\": 76.44546072823661, \"count\": 1, \"min\": 76.44546072823661, \"max\": 76.44546072823661}}}\u001b[0m\n",
      "\u001b[34m#metrics {\"StartTime\": 1669357084.887439, \"EndTime\": 1669357084.8874538, \"Dimensions\": {\"Algorithm\": \"Linear Learner\", \"Host\": \"algo-1\", \"Operation\": \"training\", \"epoch\": 2, \"model\": 29}, \"Metrics\": {\"validation_mse_objective\": {\"sum\": 70.81455339704242, \"count\": 1, \"min\": 70.81455339704242, \"max\": 70.81455339704242}}}\u001b[0m\n",
      "\u001b[34m#metrics {\"StartTime\": 1669357084.8875155, \"EndTime\": 1669357084.887532, \"Dimensions\": {\"Algorithm\": \"Linear Learner\", \"Host\": \"algo-1\", \"Operation\": \"training\", \"epoch\": 2, \"model\": 30}, \"Metrics\": {\"validation_mse_objective\": {\"sum\": 74.73720005580357, \"count\": 1, \"min\": 74.73720005580357, \"max\": 74.73720005580357}}}\u001b[0m\n",
      "\u001b[34m#metrics {\"StartTime\": 1669357084.8875966, \"EndTime\": 1669357084.8876145, \"Dimensions\": {\"Algorithm\": \"Linear Learner\", \"Host\": \"algo-1\", \"Operation\": \"training\", \"epoch\": 2, \"model\": 31}, \"Metrics\": {\"validation_mse_objective\": {\"sum\": 75.52978515625, \"count\": 1, \"min\": 75.52978515625, \"max\": 75.52978515625}}}\u001b[0m\n",
      "\u001b[34m[11/25/2022 06:18:04 INFO 140704388560704] #quality_metric: host=algo-1, epoch=2, validation mse_objective <loss>=65.7144295828683\u001b[0m\n",
      "\u001b[34m[11/25/2022 06:18:04 INFO 140704388560704] #early_stopping_criteria_metric: host=algo-1, epoch=2, criteria=mse_objective, value=25.569830758231028\u001b[0m\n",
      "\u001b[34m[11/25/2022 06:18:04 INFO 140704388560704] Epoch 2: Loss improved. Updating best model\u001b[0m\n",
      "\u001b[34m[11/25/2022 06:18:04 INFO 140704388560704] Saving model for epoch: 2\u001b[0m\n",
      "\u001b[34m[11/25/2022 06:18:04 INFO 140704388560704] Saved checkpoint to \"/tmp/tmp0bhgvrsg/mx-mod-0000.params\"\u001b[0m\n",
      "\u001b[34m[11/25/2022 06:18:04 INFO 140704388560704] #progress_metric: host=algo-1, completed 20.0 % of epochs\u001b[0m\n",
      "\u001b[34m#metrics {\"StartTime\": 1669357084.801839, \"EndTime\": 1669357084.8951137, \"Dimensions\": {\"Algorithm\": \"Linear Learner\", \"Host\": \"algo-1\", \"Operation\": \"training\", \"epoch\": 2, \"Meta\": \"training_data_iter\"}, \"Metrics\": {\"Total Records Seen\": {\"sum\": 1108.0, \"count\": 1, \"min\": 1108, \"max\": 1108}, \"Total Batches Seen\": {\"sum\": 9.0, \"count\": 1, \"min\": 9, \"max\": 9}, \"Max Records Seen Between Resets\": {\"sum\": 227.0, \"count\": 1, \"min\": 227, \"max\": 227}, \"Max Batches Seen Between Resets\": {\"sum\": 2.0, \"count\": 1, \"min\": 2, \"max\": 2}, \"Reset Count\": {\"sum\": 5.0, \"count\": 1, \"min\": 5, \"max\": 5}, \"Number of Records Since Last Reset\": {\"sum\": 227.0, \"count\": 1, \"min\": 227, \"max\": 227}, \"Number of Batches Since Last Reset\": {\"sum\": 2.0, \"count\": 1, \"min\": 2, \"max\": 2}}}\u001b[0m\n",
      "\u001b[34m[11/25/2022 06:18:04 INFO 140704388560704] #throughput_metric: host=algo-1, train throughput=2429.7245634898354 records/second\u001b[0m\n",
      "\u001b[34m#metrics {\"StartTime\": 1669357084.9256618, \"EndTime\": 1669357084.9257138, \"Dimensions\": {\"Algorithm\": \"Linear Learner\", \"Host\": \"algo-1\", \"Operation\": \"training\", \"epoch\": 3, \"model\": 0}, \"Metrics\": {\"train_mse_objective\": {\"sum\": 0.8118096160888671, \"count\": 1, \"min\": 0.8118096160888671, \"max\": 0.8118096160888671}}}\u001b[0m\n",
      "\u001b[34m#metrics {\"StartTime\": 1669357084.9257836, \"EndTime\": 1669357084.9257967, \"Dimensions\": {\"Algorithm\": \"Linear Learner\", \"Host\": \"algo-1\", \"Operation\": \"training\", \"epoch\": 3, \"model\": 1}, \"Metrics\": {\"train_mse_objective\": {\"sum\": 0.7544690704345703, \"count\": 1, \"min\": 0.7544690704345703, \"max\": 0.7544690704345703}}}\u001b[0m\n",
      "\u001b[34m#metrics {\"StartTime\": 1669357084.9258392, \"EndTime\": 1669357084.9258544, \"Dimensions\": {\"Algorithm\": \"Linear Learner\", \"Host\": \"algo-1\", \"Operation\": \"training\", \"epoch\": 3, \"model\": 2}, \"Metrics\": {\"train_mse_objective\": {\"sum\": 1.1429791259765625, \"count\": 1, \"min\": 1.1429791259765625, \"max\": 1.1429791259765625}}}\u001b[0m\n",
      "\u001b[34m#metrics {\"StartTime\": 1669357084.9259145, \"EndTime\": 1669357084.9259305, \"Dimensions\": {\"Algorithm\": \"Linear Learner\", \"Host\": \"algo-1\", \"Operation\": \"training\", \"epoch\": 3, \"model\": 3}, \"Metrics\": {\"train_mse_objective\": {\"sum\": 0.7398580932617187, \"count\": 1, \"min\": 0.7398580932617187, \"max\": 0.7398580932617187}}}\u001b[0m\n",
      "\u001b[34m#metrics {\"StartTime\": 1669357084.9259837, \"EndTime\": 1669357084.9260013, \"Dimensions\": {\"Algorithm\": \"Linear Learner\", \"Host\": \"algo-1\", \"Operation\": \"training\", \"epoch\": 3, \"model\": 4}, \"Metrics\": {\"train_mse_objective\": {\"sum\": 0.38680526733398435, \"count\": 1, \"min\": 0.38680526733398435, \"max\": 0.38680526733398435}}}\u001b[0m\n",
      "\u001b[34m#metrics {\"StartTime\": 1669357084.926056, \"EndTime\": 1669357084.9260716, \"Dimensions\": {\"Algorithm\": \"Linear Learner\", \"Host\": \"algo-1\", \"Operation\": \"training\", \"epoch\": 3, \"model\": 5}, \"Metrics\": {\"train_mse_objective\": {\"sum\": 0.5936972045898438, \"count\": 1, \"min\": 0.5936972045898438, \"max\": 0.5936972045898438}}}\u001b[0m\n",
      "\u001b[34m#metrics {\"StartTime\": 1669357084.9261398, \"EndTime\": 1669357084.9261563, \"Dimensions\": {\"Algorithm\": \"Linear Learner\", \"Host\": \"algo-1\", \"Operation\": \"training\", \"epoch\": 3, \"model\": 6}, \"Metrics\": {\"train_mse_objective\": {\"sum\": 0.6153242111206054, \"count\": 1, \"min\": 0.6153242111206054, \"max\": 0.6153242111206054}}}\u001b[0m\n",
      "\u001b[34m#metrics {\"StartTime\": 1669357084.9261968, \"EndTime\": 1669357084.9262056, \"Dimensions\": {\"Algorithm\": \"Linear Learner\", \"Host\": \"algo-1\", \"Operation\": \"training\", \"epoch\": 3, \"model\": 7}, \"Metrics\": {\"train_mse_objective\": {\"sum\": 0.5650622177124024, \"count\": 1, \"min\": 0.5650622177124024, \"max\": 0.5650622177124024}}}\u001b[0m\n",
      "\u001b[34m#metrics {\"StartTime\": 1669357084.9262364, \"EndTime\": 1669357084.9262502, \"Dimensions\": {\"Algorithm\": \"Linear Learner\", \"Host\": \"algo-1\", \"Operation\": \"training\", \"epoch\": 3, \"model\": 8}, \"Metrics\": {\"train_mse_objective\": {\"sum\": 0.8027055358886719, \"count\": 1, \"min\": 0.8027055358886719, \"max\": 0.8027055358886719}}}\u001b[0m\n",
      "\u001b[34m#metrics {\"StartTime\": 1669357084.9262989, \"EndTime\": 1669357084.926315, \"Dimensions\": {\"Algorithm\": \"Linear Learner\", \"Host\": \"algo-1\", \"Operation\": \"training\", \"epoch\": 3, \"model\": 9}, \"Metrics\": {\"train_mse_objective\": {\"sum\": 1.2076683807373048, \"count\": 1, \"min\": 1.2076683807373048, \"max\": 1.2076683807373048}}}\u001b[0m\n",
      "\u001b[34m#metrics {\"StartTime\": 1669357084.9263685, \"EndTime\": 1669357084.9263842, \"Dimensions\": {\"Algorithm\": \"Linear Learner\", \"Host\": \"algo-1\", \"Operation\": \"training\", \"epoch\": 3, \"model\": 10}, \"Metrics\": {\"train_mse_objective\": {\"sum\": 0.7500660705566407, \"count\": 1, \"min\": 0.7500660705566407, \"max\": 0.7500660705566407}}}\u001b[0m\n",
      "\u001b[34m#metrics {\"StartTime\": 1669357084.9264452, \"EndTime\": 1669357084.9264615, \"Dimensions\": {\"Algorithm\": \"Linear Learner\", \"Host\": \"algo-1\", \"Operation\": \"training\", \"epoch\": 3, \"model\": 11}, \"Metrics\": {\"train_mse_objective\": {\"sum\": 0.9633490753173828, \"count\": 1, \"min\": 0.9633490753173828, \"max\": 0.9633490753173828}}}\u001b[0m\n",
      "\u001b[34m#metrics {\"StartTime\": 1669357084.926517, \"EndTime\": 1669357084.9265335, \"Dimensions\": {\"Algorithm\": \"Linear Learner\", \"Host\": \"algo-1\", \"Operation\": \"training\", \"epoch\": 3, \"model\": 12}, \"Metrics\": {\"train_mse_objective\": {\"sum\": 0.5173128890991211, \"count\": 1, \"min\": 0.5173128890991211, \"max\": 0.5173128890991211}}}\u001b[0m\n",
      "\u001b[34m#metrics {\"StartTime\": 1669357084.9266002, \"EndTime\": 1669357084.926617, \"Dimensions\": {\"Algorithm\": \"Linear Learner\", \"Host\": \"algo-1\", \"Operation\": \"training\", \"epoch\": 3, \"model\": 13}, \"Metrics\": {\"train_mse_objective\": {\"sum\": 0.49165496826171873, \"count\": 1, \"min\": 0.49165496826171873, \"max\": 0.49165496826171873}}}\u001b[0m\n",
      "\u001b[34m#metrics {\"StartTime\": 1669357084.926685, \"EndTime\": 1669357084.9267037, \"Dimensions\": {\"Algorithm\": \"Linear Learner\", \"Host\": \"algo-1\", \"Operation\": \"training\", \"epoch\": 3, \"model\": 14}, \"Metrics\": {\"train_mse_objective\": {\"sum\": 0.37382270812988283, \"count\": 1, \"min\": 0.37382270812988283, \"max\": 0.37382270812988283}}}\u001b[0m\n",
      "\u001b[34m#metrics {\"StartTime\": 1669357084.9267578, \"EndTime\": 1669357084.9267747, \"Dimensions\": {\"Algorithm\": \"Linear Learner\", \"Host\": \"algo-1\", \"Operation\": \"training\", \"epoch\": 3, \"model\": 15}, \"Metrics\": {\"train_mse_objective\": {\"sum\": 0.5674189758300782, \"count\": 1, \"min\": 0.5674189758300782, \"max\": 0.5674189758300782}}}\u001b[0m\n",
      "\u001b[34m#metrics {\"StartTime\": 1669357084.9268255, \"EndTime\": 1669357084.9268415, \"Dimensions\": {\"Algorithm\": \"Linear Learner\", \"Host\": \"algo-1\", \"Operation\": \"training\", \"epoch\": 3, \"model\": 16}, \"Metrics\": {\"train_mse_objective\": {\"sum\": 0.8794363403320312, \"count\": 1, \"min\": 0.8794363403320312, \"max\": 0.8794363403320312}}}\u001b[0m\n",
      "\u001b[34m#metrics {\"StartTime\": 1669357084.9269073, \"EndTime\": 1669357084.9269235, \"Dimensions\": {\"Algorithm\": \"Linear Learner\", \"Host\": \"algo-1\", \"Operation\": \"training\", \"epoch\": 3, \"model\": 17}, \"Metrics\": {\"train_mse_objective\": {\"sum\": 0.7445274353027344, \"count\": 1, \"min\": 0.7445274353027344, \"max\": 0.7445274353027344}}}\u001b[0m\n",
      "\u001b[34m#metrics {\"StartTime\": 1669357084.9269905, \"EndTime\": 1669357084.9270082, \"Dimensions\": {\"Algorithm\": \"Linear Learner\", \"Host\": \"algo-1\", \"Operation\": \"training\", \"epoch\": 3, \"model\": 18}, \"Metrics\": {\"train_mse_objective\": {\"sum\": 1.0593782806396483, \"count\": 1, \"min\": 1.0593782806396483, \"max\": 1.0593782806396483}}}\u001b[0m\n",
      "\u001b[34m#metrics {\"StartTime\": 1669357084.9270627, \"EndTime\": 1669357084.9270782, \"Dimensions\": {\"Algorithm\": \"Linear Learner\", \"Host\": \"algo-1\", \"Operation\": \"training\", \"epoch\": 3, \"model\": 19}, \"Metrics\": {\"train_mse_objective\": {\"sum\": 0.8761654663085937, \"count\": 1, \"min\": 0.8761654663085937, \"max\": 0.8761654663085937}}}\u001b[0m\n",
      "\u001b[34m#metrics {\"StartTime\": 1669357084.9271314, \"EndTime\": 1669357084.9271476, \"Dimensions\": {\"Algorithm\": \"Linear Learner\", \"Host\": \"algo-1\", \"Operation\": \"training\", \"epoch\": 3, \"model\": 20}, \"Metrics\": {\"train_mse_objective\": {\"sum\": 0.4001344299316406, \"count\": 1, \"min\": 0.4001344299316406, \"max\": 0.4001344299316406}}}\u001b[0m\n",
      "\u001b[34m#metrics {\"StartTime\": 1669357084.9272, \"EndTime\": 1669357084.927216, \"Dimensions\": {\"Algorithm\": \"Linear Learner\", \"Host\": \"algo-1\", \"Operation\": \"training\", \"epoch\": 3, \"model\": 21}, \"Metrics\": {\"train_mse_objective\": {\"sum\": 0.4967718505859375, \"count\": 1, \"min\": 0.4967718505859375, \"max\": 0.4967718505859375}}}\u001b[0m\n",
      "\u001b[34m#metrics {\"StartTime\": 1669357084.927265, \"EndTime\": 1669357084.9272754, \"Dimensions\": {\"Algorithm\": \"Linear Learner\", \"Host\": \"algo-1\", \"Operation\": \"training\", \"epoch\": 3, \"model\": 22}, \"Metrics\": {\"train_mse_objective\": {\"sum\": 0.36524539947509765, \"count\": 1, \"min\": 0.36524539947509765, \"max\": 0.36524539947509765}}}\u001b[0m\n",
      "\u001b[34m#metrics {\"StartTime\": 1669357084.9273047, \"EndTime\": 1669357084.9273186, \"Dimensions\": {\"Algorithm\": \"Linear Learner\", \"Host\": \"algo-1\", \"Operation\": \"training\", \"epoch\": 3, \"model\": 23}, \"Metrics\": {\"train_mse_objective\": {\"sum\": 0.3503936004638672, \"count\": 1, \"min\": 0.3503936004638672, \"max\": 0.3503936004638672}}}\u001b[0m\n",
      "\u001b[34m#metrics {\"StartTime\": 1669357084.9273674, \"EndTime\": 1669357084.9273825, \"Dimensions\": {\"Algorithm\": \"Linear Learner\", \"Host\": \"algo-1\", \"Operation\": \"training\", \"epoch\": 3, \"model\": 24}, \"Metrics\": {\"train_mse_objective\": {\"sum\": 0.9508761596679688, \"count\": 1, \"min\": 0.9508761596679688, \"max\": 0.9508761596679688}}}\u001b[0m\n",
      "\u001b[34m#metrics {\"StartTime\": 1669357084.9274342, \"EndTime\": 1669357084.9274518, \"Dimensions\": {\"Algorithm\": \"Linear Learner\", \"Host\": \"algo-1\", \"Operation\": \"training\", \"epoch\": 3, \"model\": 25}, \"Metrics\": {\"train_mse_objective\": {\"sum\": 0.9617963409423829, \"count\": 1, \"min\": 0.9617963409423829, \"max\": 0.9617963409423829}}}\u001b[0m\n",
      "\u001b[34m#metrics {\"StartTime\": 1669357084.9275048, \"EndTime\": 1669357084.9275217, \"Dimensions\": {\"Algorithm\": \"Linear Learner\", \"Host\": \"algo-1\", \"Operation\": \"training\", \"epoch\": 3, \"model\": 26}, \"Metrics\": {\"train_mse_objective\": {\"sum\": 1.1150872039794921, \"count\": 1, \"min\": 1.1150872039794921, \"max\": 1.1150872039794921}}}\u001b[0m\n",
      "\u001b[34m#metrics {\"StartTime\": 1669357084.9275775, \"EndTime\": 1669357084.927595, \"Dimensions\": {\"Algorithm\": \"Linear Learner\", \"Host\": \"algo-1\", \"Operation\": \"training\", \"epoch\": 3, \"model\": 27}, \"Metrics\": {\"train_mse_objective\": {\"sum\": 1.0914414978027345, \"count\": 1, \"min\": 1.0914414978027345, \"max\": 1.0914414978027345}}}\u001b[0m\n",
      "\u001b[34m#metrics {\"StartTime\": 1669357084.9276483, \"EndTime\": 1669357084.9276648, \"Dimensions\": {\"Algorithm\": \"Linear Learner\", \"Host\": \"algo-1\", \"Operation\": \"training\", \"epoch\": 3, \"model\": 28}, \"Metrics\": {\"train_mse_objective\": {\"sum\": 0.9207087707519531, \"count\": 1, \"min\": 0.9207087707519531, \"max\": 0.9207087707519531}}}\u001b[0m\n",
      "\u001b[34m#metrics {\"StartTime\": 1669357084.927718, \"EndTime\": 1669357084.9277349, \"Dimensions\": {\"Algorithm\": \"Linear Learner\", \"Host\": \"algo-1\", \"Operation\": \"training\", \"epoch\": 3, \"model\": 29}, \"Metrics\": {\"train_mse_objective\": {\"sum\": 0.8728843688964844, \"count\": 1, \"min\": 0.8728843688964844, \"max\": 0.8728843688964844}}}\u001b[0m\n",
      "\u001b[34m#metrics {\"StartTime\": 1669357084.927789, \"EndTime\": 1669357084.9278064, \"Dimensions\": {\"Algorithm\": \"Linear Learner\", \"Host\": \"algo-1\", \"Operation\": \"training\", \"epoch\": 3, \"model\": 30}, \"Metrics\": {\"train_mse_objective\": {\"sum\": 0.9111324310302734, \"count\": 1, \"min\": 0.9111324310302734, \"max\": 0.9111324310302734}}}\u001b[0m\n",
      "\u001b[34m#metrics {\"StartTime\": 1669357084.927858, \"EndTime\": 1669357084.927913, \"Dimensions\": {\"Algorithm\": \"Linear Learner\", \"Host\": \"algo-1\", \"Operation\": \"training\", \"epoch\": 3, \"model\": 31}, \"Metrics\": {\"train_mse_objective\": {\"sum\": 0.9296455383300781, \"count\": 1, \"min\": 0.9296455383300781, \"max\": 0.9296455383300781}}}\u001b[0m\n",
      "\u001b[34m[11/25/2022 06:18:04 INFO 140704388560704] #quality_metric: host=algo-1, epoch=3, train mse_objective <loss>=0.8118096160888671\u001b[0m\n",
      "\u001b[34m#metrics {\"StartTime\": 1669357084.979407, \"EndTime\": 1669357084.9794903, \"Dimensions\": {\"Algorithm\": \"Linear Learner\", \"Host\": \"algo-1\", \"Operation\": \"training\", \"epoch\": 3, \"model\": 0}, \"Metrics\": {\"validation_mse_objective\": {\"sum\": 62.294873918805806, \"count\": 1, \"min\": 62.294873918805806, \"max\": 62.294873918805806}}}\u001b[0m\n",
      "\u001b[34m#metrics {\"StartTime\": 1669357084.9796033, \"EndTime\": 1669357084.9796276, \"Dimensions\": {\"Algorithm\": \"Linear Learner\", \"Host\": \"algo-1\", \"Operation\": \"training\", \"epoch\": 3, \"model\": 1}, \"Metrics\": {\"validation_mse_objective\": {\"sum\": 58.28271048409598, \"count\": 1, \"min\": 58.28271048409598, \"max\": 58.28271048409598}}}\u001b[0m\n",
      "\u001b[34m#metrics {\"StartTime\": 1669357084.9796932, \"EndTime\": 1669357084.9797132, \"Dimensions\": {\"Algorithm\": \"Linear Learner\", \"Host\": \"algo-1\", \"Operation\": \"training\", \"epoch\": 3, \"model\": 2}, \"Metrics\": {\"validation_mse_objective\": {\"sum\": 88.21849714006696, \"count\": 1, \"min\": 88.21849714006696, \"max\": 88.21849714006696}}}\u001b[0m\n",
      "\u001b[34m#metrics {\"StartTime\": 1669357084.9797726, \"EndTime\": 1669357084.9797916, \"Dimensions\": {\"Algorithm\": \"Linear Learner\", \"Host\": \"algo-1\", \"Operation\": \"training\", \"epoch\": 3, \"model\": 3}, \"Metrics\": {\"validation_mse_objective\": {\"sum\": 57.84293910435268, \"count\": 1, \"min\": 57.84293910435268, \"max\": 57.84293910435268}}}\u001b[0m\n",
      "\u001b[34m#metrics {\"StartTime\": 1669357084.9798498, \"EndTime\": 1669357084.9798896, \"Dimensions\": {\"Algorithm\": \"Linear Learner\", \"Host\": \"algo-1\", \"Operation\": \"training\", \"epoch\": 3, \"model\": 4}, \"Metrics\": {\"validation_mse_objective\": {\"sum\": 40.518240792410715, \"count\": 1, \"min\": 40.518240792410715, \"max\": 40.518240792410715}}}\u001b[0m\n",
      "\u001b[34m#metrics {\"StartTime\": 1669357084.9799528, \"EndTime\": 1669357084.9799726, \"Dimensions\": {\"Algorithm\": \"Linear Learner\", \"Host\": \"algo-1\", \"Operation\": \"training\", \"epoch\": 3, \"model\": 5}, \"Metrics\": {\"validation_mse_objective\": {\"sum\": 38.95672171456473, \"count\": 1, \"min\": 38.95672171456473, \"max\": 38.95672171456473}}}\u001b[0m\n",
      "\u001b[34m#metrics {\"StartTime\": 1669357084.9800282, \"EndTime\": 1669357084.9800456, \"Dimensions\": {\"Algorithm\": \"Linear Learner\", \"Host\": \"algo-1\", \"Operation\": \"training\", \"epoch\": 3, \"model\": 6}, \"Metrics\": {\"validation_mse_objective\": {\"sum\": 43.926138741629465, \"count\": 1, \"min\": 43.926138741629465, \"max\": 43.926138741629465}}}\u001b[0m\n",
      "\u001b[34m#metrics {\"StartTime\": 1669357084.9801006, \"EndTime\": 1669357084.9801183, \"Dimensions\": {\"Algorithm\": \"Linear Learner\", \"Host\": \"algo-1\", \"Operation\": \"training\", \"epoch\": 3, \"model\": 7}, \"Metrics\": {\"validation_mse_objective\": {\"sum\": 48.46494838169643, \"count\": 1, \"min\": 48.46494838169643, \"max\": 48.46494838169643}}}\u001b[0m\n",
      "\u001b[34m#metrics {\"StartTime\": 1669357084.980174, \"EndTime\": 1669357084.9801915, \"Dimensions\": {\"Algorithm\": \"Linear Learner\", \"Host\": \"algo-1\", \"Operation\": \"training\", \"epoch\": 3, \"model\": 8}, \"Metrics\": {\"validation_mse_objective\": {\"sum\": 63.9083251953125, \"count\": 1, \"min\": 63.9083251953125, \"max\": 63.9083251953125}}}\u001b[0m\n",
      "\u001b[34m#metrics {\"StartTime\": 1669357084.9802463, \"EndTime\": 1669357084.980264, \"Dimensions\": {\"Algorithm\": \"Linear Learner\", \"Host\": \"algo-1\", \"Operation\": \"training\", \"epoch\": 3, \"model\": 9}, \"Metrics\": {\"validation_mse_objective\": {\"sum\": 93.62026541573661, \"count\": 1, \"min\": 93.62026541573661, \"max\": 93.62026541573661}}}\u001b[0m\n",
      "\u001b[34m#metrics {\"StartTime\": 1669357084.9803195, \"EndTime\": 1669357084.980337, \"Dimensions\": {\"Algorithm\": \"Linear Learner\", \"Host\": \"algo-1\", \"Operation\": \"training\", \"epoch\": 3, \"model\": 10}, \"Metrics\": {\"validation_mse_objective\": {\"sum\": 59.40504673549107, \"count\": 1, \"min\": 59.40504673549107, \"max\": 59.40504673549107}}}\u001b[0m\n",
      "\u001b[34m#metrics {\"StartTime\": 1669357084.980392, \"EndTime\": 1669357084.9804091, \"Dimensions\": {\"Algorithm\": \"Linear Learner\", \"Host\": \"algo-1\", \"Operation\": \"training\", \"epoch\": 3, \"model\": 11}, \"Metrics\": {\"validation_mse_objective\": {\"sum\": 74.37347412109375, \"count\": 1, \"min\": 74.37347412109375, \"max\": 74.37347412109375}}}\u001b[0m\n",
      "\u001b[34m#metrics {\"StartTime\": 1669357084.9804645, \"EndTime\": 1669357084.9804807, \"Dimensions\": {\"Algorithm\": \"Linear Learner\", \"Host\": \"algo-1\", \"Operation\": \"training\", \"epoch\": 3, \"model\": 12}, \"Metrics\": {\"validation_mse_objective\": {\"sum\": 36.72814505440848, \"count\": 1, \"min\": 36.72814505440848, \"max\": 36.72814505440848}}}\u001b[0m\n",
      "\u001b[34m#metrics {\"StartTime\": 1669357084.9805348, \"EndTime\": 1669357084.980551, \"Dimensions\": {\"Algorithm\": \"Linear Learner\", \"Host\": \"algo-1\", \"Operation\": \"training\", \"epoch\": 3, \"model\": 13}, \"Metrics\": {\"validation_mse_objective\": {\"sum\": 40.40317644391741, \"count\": 1, \"min\": 40.40317644391741, \"max\": 40.40317644391741}}}\u001b[0m\n",
      "\u001b[34m#metrics {\"StartTime\": 1669357084.9806054, \"EndTime\": 1669357084.9806225, \"Dimensions\": {\"Algorithm\": \"Linear Learner\", \"Host\": \"algo-1\", \"Operation\": \"training\", \"epoch\": 3, \"model\": 14}, \"Metrics\": {\"validation_mse_objective\": {\"sum\": 44.852835518973215, \"count\": 1, \"min\": 44.852835518973215, \"max\": 44.852835518973215}}}\u001b[0m\n",
      "\u001b[34m#metrics {\"StartTime\": 1669357084.9806774, \"EndTime\": 1669357084.980694, \"Dimensions\": {\"Algorithm\": \"Linear Learner\", \"Host\": \"algo-1\", \"Operation\": \"training\", \"epoch\": 3, \"model\": 15}, \"Metrics\": {\"validation_mse_objective\": {\"sum\": 37.799464634486604, \"count\": 1, \"min\": 37.799464634486604, \"max\": 37.799464634486604}}}\u001b[0m\n",
      "\u001b[34m#metrics {\"StartTime\": 1669357084.980749, \"EndTime\": 1669357084.9807663, \"Dimensions\": {\"Algorithm\": \"Linear Learner\", \"Host\": \"algo-1\", \"Operation\": \"training\", \"epoch\": 3, \"model\": 16}, \"Metrics\": {\"validation_mse_objective\": {\"sum\": 68.53829956054688, \"count\": 1, \"min\": 68.53829956054688, \"max\": 68.53829956054688}}}\u001b[0m\n",
      "\u001b[34m#metrics {\"StartTime\": 1669357084.9808238, \"EndTime\": 1669357084.9808412, \"Dimensions\": {\"Algorithm\": \"Linear Learner\", \"Host\": \"algo-1\", \"Operation\": \"training\", \"epoch\": 3, \"model\": 17}, \"Metrics\": {\"validation_mse_objective\": {\"sum\": 58.588797433035715, \"count\": 1, \"min\": 58.588797433035715, \"max\": 58.588797433035715}}}\u001b[0m\n",
      "\u001b[34m#metrics {\"StartTime\": 1669357084.9808974, \"EndTime\": 1669357084.9809146, \"Dimensions\": {\"Algorithm\": \"Linear Learner\", \"Host\": \"algo-1\", \"Operation\": \"training\", \"epoch\": 3, \"model\": 18}, \"Metrics\": {\"validation_mse_objective\": {\"sum\": 83.86086600167411, \"count\": 1, \"min\": 83.86086600167411, \"max\": 83.86086600167411}}}\u001b[0m\n",
      "\u001b[34m#metrics {\"StartTime\": 1669357084.9809692, \"EndTime\": 1669357084.980986, \"Dimensions\": {\"Algorithm\": \"Linear Learner\", \"Host\": \"algo-1\", \"Operation\": \"training\", \"epoch\": 3, \"model\": 19}, \"Metrics\": {\"validation_mse_objective\": {\"sum\": 70.74206978934151, \"count\": 1, \"min\": 70.74206978934151, \"max\": 70.74206978934151}}}\u001b[0m\n",
      "\u001b[34m#metrics {\"StartTime\": 1669357084.9810412, \"EndTime\": 1669357084.981059, \"Dimensions\": {\"Algorithm\": \"Linear Learner\", \"Host\": \"algo-1\", \"Operation\": \"training\", \"epoch\": 3, \"model\": 20}, \"Metrics\": {\"validation_mse_objective\": {\"sum\": 47.428418840680806, \"count\": 1, \"min\": 47.428418840680806, \"max\": 47.428418840680806}}}\u001b[0m\n",
      "\u001b[34m#metrics {\"StartTime\": 1669357084.981112, \"EndTime\": 1669357084.9811294, \"Dimensions\": {\"Algorithm\": \"Linear Learner\", \"Host\": \"algo-1\", \"Operation\": \"training\", \"epoch\": 3, \"model\": 21}, \"Metrics\": {\"validation_mse_objective\": {\"sum\": 46.953316824776785, \"count\": 1, \"min\": 46.953316824776785, \"max\": 46.953316824776785}}}\u001b[0m\n",
      "\u001b[34m#metrics {\"StartTime\": 1669357084.9811852, \"EndTime\": 1669357084.9812024, \"Dimensions\": {\"Algorithm\": \"Linear Learner\", \"Host\": \"algo-1\", \"Operation\": \"training\", \"epoch\": 3, \"model\": 22}, \"Metrics\": {\"validation_mse_objective\": {\"sum\": 42.666512625558035, \"count\": 1, \"min\": 42.666512625558035, \"max\": 42.666512625558035}}}\u001b[0m\n",
      "\u001b[34m#metrics {\"StartTime\": 1669357084.9812567, \"EndTime\": 1669357084.9812746, \"Dimensions\": {\"Algorithm\": \"Linear Learner\", \"Host\": \"algo-1\", \"Operation\": \"training\", \"epoch\": 3, \"model\": 23}, \"Metrics\": {\"validation_mse_objective\": {\"sum\": 47.718165806361604, \"count\": 1, \"min\": 47.718165806361604, \"max\": 47.718165806361604}}}\u001b[0m\n",
      "\u001b[34m#metrics {\"StartTime\": 1669357084.9813287, \"EndTime\": 1669357084.981345, \"Dimensions\": {\"Algorithm\": \"Linear Learner\", \"Host\": \"algo-1\", \"Operation\": \"training\", \"epoch\": 3, \"model\": 24}, \"Metrics\": {\"validation_mse_objective\": {\"sum\": 78.23917061941964, \"count\": 1, \"min\": 78.23917061941964, \"max\": 78.23917061941964}}}\u001b[0m\n",
      "\u001b[34m#metrics {\"StartTime\": 1669357084.981402, \"EndTime\": 1669357084.9814196, \"Dimensions\": {\"Algorithm\": \"Linear Learner\", \"Host\": \"algo-1\", \"Operation\": \"training\", \"epoch\": 3, \"model\": 25}, \"Metrics\": {\"validation_mse_objective\": {\"sum\": 79.73246547154018, \"count\": 1, \"min\": 79.73246547154018, \"max\": 79.73246547154018}}}\u001b[0m\n",
      "\u001b[34m#metrics {\"StartTime\": 1669357084.9814734, \"EndTime\": 1669357084.9814892, \"Dimensions\": {\"Algorithm\": \"Linear Learner\", \"Host\": \"algo-1\", \"Operation\": \"training\", \"epoch\": 3, \"model\": 26}, \"Metrics\": {\"validation_mse_objective\": {\"sum\": 88.23288399832589, \"count\": 1, \"min\": 88.23288399832589, \"max\": 88.23288399832589}}}\u001b[0m\n",
      "\u001b[34m#metrics {\"StartTime\": 1669357084.9815423, \"EndTime\": 1669357084.9815595, \"Dimensions\": {\"Algorithm\": \"Linear Learner\", \"Host\": \"algo-1\", \"Operation\": \"training\", \"epoch\": 3, \"model\": 27}, \"Metrics\": {\"validation_mse_objective\": {\"sum\": 87.87935093470982, \"count\": 1, \"min\": 87.87935093470982, \"max\": 87.87935093470982}}}\u001b[0m\n",
      "\u001b[34m#metrics {\"StartTime\": 1669357084.981614, \"EndTime\": 1669357084.9816308, \"Dimensions\": {\"Algorithm\": \"Linear Learner\", \"Host\": \"algo-1\", \"Operation\": \"training\", \"epoch\": 3, \"model\": 28}, \"Metrics\": {\"validation_mse_objective\": {\"sum\": 93.89796665736607, \"count\": 1, \"min\": 93.89796665736607, \"max\": 93.89796665736607}}}\u001b[0m\n",
      "\u001b[34m#metrics {\"StartTime\": 1669357084.9816828, \"EndTime\": 1669357084.9817002, \"Dimensions\": {\"Algorithm\": \"Linear Learner\", \"Host\": \"algo-1\", \"Operation\": \"training\", \"epoch\": 3, \"model\": 29}, \"Metrics\": {\"validation_mse_objective\": {\"sum\": 85.9068603515625, \"count\": 1, \"min\": 85.9068603515625, \"max\": 85.9068603515625}}}\u001b[0m\n",
      "\u001b[34m#metrics {\"StartTime\": 1669357084.981754, \"EndTime\": 1669357084.9817708, \"Dimensions\": {\"Algorithm\": \"Linear Learner\", \"Host\": \"algo-1\", \"Operation\": \"training\", \"epoch\": 3, \"model\": 30}, \"Metrics\": {\"validation_mse_objective\": {\"sum\": 94.78608921595982, \"count\": 1, \"min\": 94.78608921595982, \"max\": 94.78608921595982}}}\u001b[0m\n",
      "\u001b[34m#metrics {\"StartTime\": 1669357084.981824, \"EndTime\": 1669357084.9818406, \"Dimensions\": {\"Algorithm\": \"Linear Learner\", \"Host\": \"algo-1\", \"Operation\": \"training\", \"epoch\": 3, \"model\": 31}, \"Metrics\": {\"validation_mse_objective\": {\"sum\": 96.88114711216518, \"count\": 1, \"min\": 96.88114711216518, \"max\": 96.88114711216518}}}\u001b[0m\n",
      "\u001b[34m[11/25/2022 06:18:04 INFO 140704388560704] #quality_metric: host=algo-1, epoch=3, validation mse_objective <loss>=62.294873918805806\u001b[0m\n",
      "\u001b[34m[11/25/2022 06:18:04 INFO 140704388560704] #early_stopping_criteria_metric: host=algo-1, epoch=3, criteria=mse_objective, value=36.72814505440848\u001b[0m\n",
      "\u001b[34m[11/25/2022 06:18:04 INFO 140704388560704] Saving model for epoch: 3\u001b[0m\n",
      "\u001b[34m[11/25/2022 06:18:04 INFO 140704388560704] Saved checkpoint to \"/tmp/tmp75295jp2/mx-mod-0000.params\"\u001b[0m\n",
      "\u001b[34m[11/25/2022 06:18:04 INFO 140704388560704] #progress_metric: host=algo-1, completed 26.666666666666668 % of epochs\u001b[0m\n",
      "\u001b[34m#metrics {\"StartTime\": 1669357084.895419, \"EndTime\": 1669357084.990315, \"Dimensions\": {\"Algorithm\": \"Linear Learner\", \"Host\": \"algo-1\", \"Operation\": \"training\", \"epoch\": 3, \"Meta\": \"training_data_iter\"}, \"Metrics\": {\"Total Records Seen\": {\"sum\": 1335.0, \"count\": 1, \"min\": 1335, \"max\": 1335}, \"Total Batches Seen\": {\"sum\": 11.0, \"count\": 1, \"min\": 11, \"max\": 11}, \"Max Records Seen Between Resets\": {\"sum\": 227.0, \"count\": 1, \"min\": 227, \"max\": 227}, \"Max Batches Seen Between Resets\": {\"sum\": 2.0, \"count\": 1, \"min\": 2, \"max\": 2}, \"Reset Count\": {\"sum\": 6.0, \"count\": 1, \"min\": 6, \"max\": 6}, \"Number of Records Since Last Reset\": {\"sum\": 227.0, \"count\": 1, \"min\": 227, \"max\": 227}, \"Number of Batches Since Last Reset\": {\"sum\": 2.0, \"count\": 1, \"min\": 2, \"max\": 2}}}\u001b[0m\n",
      "\u001b[34m[11/25/2022 06:18:04 INFO 140704388560704] #throughput_metric: host=algo-1, train throughput=2388.232274635911 records/second\u001b[0m\n",
      "\u001b[34m#metrics {\"StartTime\": 1669357085.027383, \"EndTime\": 1669357085.027433, \"Dimensions\": {\"Algorithm\": \"Linear Learner\", \"Host\": \"algo-1\", \"Operation\": \"training\", \"epoch\": 4, \"model\": 0}, \"Metrics\": {\"train_mse_objective\": {\"sum\": 0.7683633422851562, \"count\": 1, \"min\": 0.7683633422851562, \"max\": 0.7683633422851562}}}\u001b[0m\n",
      "\u001b[34m#metrics {\"StartTime\": 1669357085.027501, \"EndTime\": 1669357085.0275142, \"Dimensions\": {\"Algorithm\": \"Linear Learner\", \"Host\": \"algo-1\", \"Operation\": \"training\", \"epoch\": 4, \"model\": 1}, \"Metrics\": {\"train_mse_objective\": {\"sum\": 0.7184851837158203, \"count\": 1, \"min\": 0.7184851837158203, \"max\": 0.7184851837158203}}}\u001b[0m\n",
      "\u001b[34m#metrics {\"StartTime\": 1669357085.027556, \"EndTime\": 1669357085.0275714, \"Dimensions\": {\"Algorithm\": \"Linear Learner\", \"Host\": \"algo-1\", \"Operation\": \"training\", \"epoch\": 4, \"model\": 2}, \"Metrics\": {\"train_mse_objective\": {\"sum\": 1.0785639953613282, \"count\": 1, \"min\": 1.0785639953613282, \"max\": 1.0785639953613282}}}\u001b[0m\n",
      "\u001b[34m#metrics {\"StartTime\": 1669357085.027622, \"EndTime\": 1669357085.027638, \"Dimensions\": {\"Algorithm\": \"Linear Learner\", \"Host\": \"algo-1\", \"Operation\": \"training\", \"epoch\": 4, \"model\": 3}, \"Metrics\": {\"train_mse_objective\": {\"sum\": 0.704273681640625, \"count\": 1, \"min\": 0.704273681640625, \"max\": 0.704273681640625}}}\u001b[0m\n",
      "\u001b[34m#metrics {\"StartTime\": 1669357085.0276988, \"EndTime\": 1669357085.0277166, \"Dimensions\": {\"Algorithm\": \"Linear Learner\", \"Host\": \"algo-1\", \"Operation\": \"training\", \"epoch\": 4, \"model\": 4}, \"Metrics\": {\"train_mse_objective\": {\"sum\": 0.4243769073486328, \"count\": 1, \"min\": 0.4243769073486328, \"max\": 0.4243769073486328}}}\u001b[0m\n",
      "\u001b[34m#metrics {\"StartTime\": 1669357085.027773, \"EndTime\": 1669357085.0277896, \"Dimensions\": {\"Algorithm\": \"Linear Learner\", \"Host\": \"algo-1\", \"Operation\": \"training\", \"epoch\": 4, \"model\": 5}, \"Metrics\": {\"train_mse_objective\": {\"sum\": 0.413018798828125, \"count\": 1, \"min\": 0.413018798828125, \"max\": 0.413018798828125}}}\u001b[0m\n",
      "\u001b[34m#metrics {\"StartTime\": 1669357085.027843, \"EndTime\": 1669357085.0278597, \"Dimensions\": {\"Algorithm\": \"Linear Learner\", \"Host\": \"algo-1\", \"Operation\": \"training\", \"epoch\": 4, \"model\": 6}, \"Metrics\": {\"train_mse_objective\": {\"sum\": 0.45627349853515625, \"count\": 1, \"min\": 0.45627349853515625, \"max\": 0.45627349853515625}}}\u001b[0m\n",
      "\u001b[34m#metrics {\"StartTime\": 1669357085.0279589, \"EndTime\": 1669357085.0279782, \"Dimensions\": {\"Algorithm\": \"Linear Learner\", \"Host\": \"algo-1\", \"Operation\": \"training\", \"epoch\": 4, \"model\": 7}, \"Metrics\": {\"train_mse_objective\": {\"sum\": 0.48377716064453125, \"count\": 1, \"min\": 0.48377716064453125, \"max\": 0.48377716064453125}}}\u001b[0m\n",
      "\u001b[34m#metrics {\"StartTime\": 1669357085.0280476, \"EndTime\": 1669357085.0280654, \"Dimensions\": {\"Algorithm\": \"Linear Learner\", \"Host\": \"algo-1\", \"Operation\": \"training\", \"epoch\": 4, \"model\": 8}, \"Metrics\": {\"train_mse_objective\": {\"sum\": 0.7685223388671875, \"count\": 1, \"min\": 0.7685223388671875, \"max\": 0.7685223388671875}}}\u001b[0m\n",
      "\u001b[34m#metrics {\"StartTime\": 1669357085.0281224, \"EndTime\": 1669357085.0281384, \"Dimensions\": {\"Algorithm\": \"Linear Learner\", \"Host\": \"algo-1\", \"Operation\": \"training\", \"epoch\": 4, \"model\": 9}, \"Metrics\": {\"train_mse_objective\": {\"sum\": 1.1401786804199219, \"count\": 1, \"min\": 1.1401786804199219, \"max\": 1.1401786804199219}}}\u001b[0m\n",
      "\u001b[34m#metrics {\"StartTime\": 1669357085.028208, \"EndTime\": 1669357085.0282264, \"Dimensions\": {\"Algorithm\": \"Linear Learner\", \"Host\": \"algo-1\", \"Operation\": \"training\", \"epoch\": 4, \"model\": 10}, \"Metrics\": {\"train_mse_objective\": {\"sum\": 0.7189413452148438, \"count\": 1, \"min\": 0.7189413452148438, \"max\": 0.7189413452148438}}}\u001b[0m\n",
      "\u001b[34m#metrics {\"StartTime\": 1669357085.028281, \"EndTime\": 1669357085.0282972, \"Dimensions\": {\"Algorithm\": \"Linear Learner\", \"Host\": \"algo-1\", \"Operation\": \"training\", \"epoch\": 4, \"model\": 11}, \"Metrics\": {\"train_mse_objective\": {\"sum\": 0.9142981719970703, \"count\": 1, \"min\": 0.9142981719970703, \"max\": 0.9142981719970703}}}\u001b[0m\n",
      "\u001b[34m#metrics {\"StartTime\": 1669357085.0283637, \"EndTime\": 1669357085.0283816, \"Dimensions\": {\"Algorithm\": \"Linear Learner\", \"Host\": \"algo-1\", \"Operation\": \"training\", \"epoch\": 4, \"model\": 12}, \"Metrics\": {\"train_mse_objective\": {\"sum\": 0.3913937759399414, \"count\": 1, \"min\": 0.3913937759399414, \"max\": 0.3913937759399414}}}\u001b[0m\n",
      "\u001b[34m#metrics {\"StartTime\": 1669357085.0284405, \"EndTime\": 1669357085.0284584, \"Dimensions\": {\"Algorithm\": \"Linear Learner\", \"Host\": \"algo-1\", \"Operation\": \"training\", \"epoch\": 4, \"model\": 13}, \"Metrics\": {\"train_mse_objective\": {\"sum\": 0.4203044891357422, \"count\": 1, \"min\": 0.4203044891357422, \"max\": 0.4203044891357422}}}\u001b[0m\n",
      "\u001b[34m#metrics {\"StartTime\": 1669357085.0285194, \"EndTime\": 1669357085.0285356, \"Dimensions\": {\"Algorithm\": \"Linear Learner\", \"Host\": \"algo-1\", \"Operation\": \"training\", \"epoch\": 4, \"model\": 14}, \"Metrics\": {\"train_mse_objective\": {\"sum\": 0.4570798492431641, \"count\": 1, \"min\": 0.4570798492431641, \"max\": 0.4570798492431641}}}\u001b[0m\n",
      "\u001b[34m#metrics {\"StartTime\": 1669357085.0285864, \"EndTime\": 1669357085.0286024, \"Dimensions\": {\"Algorithm\": \"Linear Learner\", \"Host\": \"algo-1\", \"Operation\": \"training\", \"epoch\": 4, \"model\": 15}, \"Metrics\": {\"train_mse_objective\": {\"sum\": 0.4012302398681641, \"count\": 1, \"min\": 0.4012302398681641, \"max\": 0.4012302398681641}}}\u001b[0m\n",
      "\u001b[34m#metrics {\"StartTime\": 1669357085.0286474, \"EndTime\": 1669357085.0286572, \"Dimensions\": {\"Algorithm\": \"Linear Learner\", \"Host\": \"algo-1\", \"Operation\": \"training\", \"epoch\": 4, \"model\": 16}, \"Metrics\": {\"train_mse_objective\": {\"sum\": 0.8343273162841797, \"count\": 1, \"min\": 0.8343273162841797, \"max\": 0.8343273162841797}}}\u001b[0m\n",
      "\u001b[34m#metrics {\"StartTime\": 1669357085.0286965, \"EndTime\": 1669357085.0287118, \"Dimensions\": {\"Algorithm\": \"Linear Learner\", \"Host\": \"algo-1\", \"Operation\": \"training\", \"epoch\": 4, \"model\": 17}, \"Metrics\": {\"train_mse_objective\": {\"sum\": 0.7132160949707032, \"count\": 1, \"min\": 0.7132160949707032, \"max\": 0.7132160949707032}}}\u001b[0m\n",
      "\u001b[34m#metrics {\"StartTime\": 1669357085.028747, \"EndTime\": 1669357085.0287619, \"Dimensions\": {\"Algorithm\": \"Linear Learner\", \"Host\": \"algo-1\", \"Operation\": \"training\", \"epoch\": 4, \"model\": 18}, \"Metrics\": {\"train_mse_objective\": {\"sum\": 1.0080382537841797, \"count\": 1, \"min\": 1.0080382537841797, \"max\": 1.0080382537841797}}}\u001b[0m\n",
      "\u001b[34m#metrics {\"StartTime\": 1669357085.0288155, \"EndTime\": 1669357085.0288317, \"Dimensions\": {\"Algorithm\": \"Linear Learner\", \"Host\": \"algo-1\", \"Operation\": \"training\", \"epoch\": 4, \"model\": 19}, \"Metrics\": {\"train_mse_objective\": {\"sum\": 0.8328276062011719, \"count\": 1, \"min\": 0.8328276062011719, \"max\": 0.8328276062011719}}}\u001b[0m\n",
      "\u001b[34m#metrics {\"StartTime\": 1669357085.0288837, \"EndTime\": 1669357085.0288997, \"Dimensions\": {\"Algorithm\": \"Linear Learner\", \"Host\": \"algo-1\", \"Operation\": \"training\", \"epoch\": 4, \"model\": 20}, \"Metrics\": {\"train_mse_objective\": {\"sum\": 0.5470747756958008, \"count\": 1, \"min\": 0.5470747756958008, \"max\": 0.5470747756958008}}}\u001b[0m\n",
      "\u001b[34m#metrics {\"StartTime\": 1669357085.0289543, \"EndTime\": 1669357085.0289698, \"Dimensions\": {\"Algorithm\": \"Linear Learner\", \"Host\": \"algo-1\", \"Operation\": \"training\", \"epoch\": 4, \"model\": 21}, \"Metrics\": {\"train_mse_objective\": {\"sum\": 0.49271167755126954, \"count\": 1, \"min\": 0.49271167755126954, \"max\": 0.49271167755126954}}}\u001b[0m\n",
      "\u001b[34m#metrics {\"StartTime\": 1669357085.0290213, \"EndTime\": 1669357085.029039, \"Dimensions\": {\"Algorithm\": \"Linear Learner\", \"Host\": \"algo-1\", \"Operation\": \"training\", \"epoch\": 4, \"model\": 22}, \"Metrics\": {\"train_mse_objective\": {\"sum\": 0.4915285491943359, \"count\": 1, \"min\": 0.4915285491943359, \"max\": 0.4915285491943359}}}\u001b[0m\n",
      "\u001b[34m#metrics {\"StartTime\": 1669357085.0290952, \"EndTime\": 1669357085.0291102, \"Dimensions\": {\"Algorithm\": \"Linear Learner\", \"Host\": \"algo-1\", \"Operation\": \"training\", \"epoch\": 4, \"model\": 23}, \"Metrics\": {\"train_mse_objective\": {\"sum\": 0.5263436889648437, \"count\": 1, \"min\": 0.5263436889648437, \"max\": 0.5263436889648437}}}\u001b[0m\n",
      "\u001b[34m#metrics {\"StartTime\": 1669357085.0291612, \"EndTime\": 1669357085.0291765, \"Dimensions\": {\"Algorithm\": \"Linear Learner\", \"Host\": \"algo-1\", \"Operation\": \"training\", \"epoch\": 4, \"model\": 24}, \"Metrics\": {\"train_mse_objective\": {\"sum\": 0.9511196136474609, \"count\": 1, \"min\": 0.9511196136474609, \"max\": 0.9511196136474609}}}\u001b[0m\n",
      "\u001b[34m#metrics {\"StartTime\": 1669357085.0292273, \"EndTime\": 1669357085.0292435, \"Dimensions\": {\"Algorithm\": \"Linear Learner\", \"Host\": \"algo-1\", \"Operation\": \"training\", \"epoch\": 4, \"model\": 25}, \"Metrics\": {\"train_mse_objective\": {\"sum\": 0.9639363098144531, \"count\": 1, \"min\": 0.9639363098144531, \"max\": 0.9639363098144531}}}\u001b[0m\n",
      "\u001b[34m#metrics {\"StartTime\": 1669357085.0292976, \"EndTime\": 1669357085.0293128, \"Dimensions\": {\"Algorithm\": \"Linear Learner\", \"Host\": \"algo-1\", \"Operation\": \"training\", \"epoch\": 4, \"model\": 26}, \"Metrics\": {\"train_mse_objective\": {\"sum\": 1.0752666473388672, \"count\": 1, \"min\": 1.0752666473388672, \"max\": 1.0752666473388672}}}\u001b[0m\n",
      "\u001b[34m#metrics {\"StartTime\": 1669357085.0293658, \"EndTime\": 1669357085.0293825, \"Dimensions\": {\"Algorithm\": \"Linear Learner\", \"Host\": \"algo-1\", \"Operation\": \"training\", \"epoch\": 4, \"model\": 27}, \"Metrics\": {\"train_mse_objective\": {\"sum\": 1.0735489654541015, \"count\": 1, \"min\": 1.0735489654541015, \"max\": 1.0735489654541015}}}\u001b[0m\n",
      "\u001b[34m#metrics {\"StartTime\": 1669357085.0294363, \"EndTime\": 1669357085.0294528, \"Dimensions\": {\"Algorithm\": \"Linear Learner\", \"Host\": \"algo-1\", \"Operation\": \"training\", \"epoch\": 4, \"model\": 28}, \"Metrics\": {\"train_mse_objective\": {\"sum\": 1.1030553436279298, \"count\": 1, \"min\": 1.1030553436279298, \"max\": 1.1030553436279298}}}\u001b[0m\n",
      "\u001b[34m#metrics {\"StartTime\": 1669357085.0295048, \"EndTime\": 1669357085.029522, \"Dimensions\": {\"Algorithm\": \"Linear Learner\", \"Host\": \"algo-1\", \"Operation\": \"training\", \"epoch\": 4, \"model\": 29}, \"Metrics\": {\"train_mse_objective\": {\"sum\": 1.007081069946289, \"count\": 1, \"min\": 1.007081069946289, \"max\": 1.007081069946289}}}\u001b[0m\n",
      "\u001b[34m#metrics {\"StartTime\": 1669357085.0295718, \"EndTime\": 1669357085.029588, \"Dimensions\": {\"Algorithm\": \"Linear Learner\", \"Host\": \"algo-1\", \"Operation\": \"training\", \"epoch\": 4, \"model\": 30}, \"Metrics\": {\"train_mse_objective\": {\"sum\": 1.1239618682861328, \"count\": 1, \"min\": 1.1239618682861328, \"max\": 1.1239618682861328}}}\u001b[0m\n",
      "\u001b[34m#metrics {\"StartTime\": 1669357085.0296338, \"EndTime\": 1669357085.0296488, \"Dimensions\": {\"Algorithm\": \"Linear Learner\", \"Host\": \"algo-1\", \"Operation\": \"training\", \"epoch\": 4, \"model\": 31}, \"Metrics\": {\"train_mse_objective\": {\"sum\": 1.1779615020751952, \"count\": 1, \"min\": 1.1779615020751952, \"max\": 1.1779615020751952}}}\u001b[0m\n",
      "\u001b[34m[11/25/2022 06:18:05 INFO 140704388560704] #quality_metric: host=algo-1, epoch=4, train mse_objective <loss>=0.7683633422851562\u001b[0m\n",
      "\u001b[34m#metrics {\"StartTime\": 1669357085.0870764, \"EndTime\": 1669357085.08713, \"Dimensions\": {\"Algorithm\": \"Linear Learner\", \"Host\": \"algo-1\", \"Operation\": \"training\", \"epoch\": 4, \"model\": 0}, \"Metrics\": {\"validation_mse_objective\": {\"sum\": 59.18247331891741, \"count\": 1, \"min\": 59.18247331891741, \"max\": 59.18247331891741}}}\u001b[0m\n",
      "\u001b[34m#metrics {\"StartTime\": 1669357085.087231, \"EndTime\": 1669357085.087247, \"Dimensions\": {\"Algorithm\": \"Linear Learner\", \"Host\": \"algo-1\", \"Operation\": \"training\", \"epoch\": 4, \"model\": 1}, \"Metrics\": {\"validation_mse_objective\": {\"sum\": 55.888968331473215, \"count\": 1, \"min\": 55.888968331473215, \"max\": 55.888968331473215}}}\u001b[0m\n",
      "\u001b[34m#metrics {\"StartTime\": 1669357085.0872996, \"EndTime\": 1669357085.0873115, \"Dimensions\": {\"Algorithm\": \"Linear Learner\", \"Host\": \"algo-1\", \"Operation\": \"training\", \"epoch\": 4, \"model\": 2}, \"Metrics\": {\"validation_mse_objective\": {\"sum\": 83.20309884207589, \"count\": 1, \"min\": 83.20309884207589, \"max\": 83.20309884207589}}}\u001b[0m\n",
      "\u001b[34m#metrics {\"StartTime\": 1669357085.087351, \"EndTime\": 1669357085.0873659, \"Dimensions\": {\"Algorithm\": \"Linear Learner\", \"Host\": \"algo-1\", \"Operation\": \"training\", \"epoch\": 4, \"model\": 3}, \"Metrics\": {\"validation_mse_objective\": {\"sum\": 55.27840314592634, \"count\": 1, \"min\": 55.27840314592634, \"max\": 55.27840314592634}}}\u001b[0m\n",
      "\u001b[34m#metrics {\"StartTime\": 1669357085.0874176, \"EndTime\": 1669357085.0874338, \"Dimensions\": {\"Algorithm\": \"Linear Learner\", \"Host\": \"algo-1\", \"Operation\": \"training\", \"epoch\": 4, \"model\": 4}, \"Metrics\": {\"validation_mse_objective\": {\"sum\": 53.640869140625, \"count\": 1, \"min\": 53.640869140625, \"max\": 53.640869140625}}}\u001b[0m\n",
      "\u001b[34m#metrics {\"StartTime\": 1669357085.0874727, \"EndTime\": 1669357085.087488, \"Dimensions\": {\"Algorithm\": \"Linear Learner\", \"Host\": \"algo-1\", \"Operation\": \"training\", \"epoch\": 4, \"model\": 5}, \"Metrics\": {\"validation_mse_objective\": {\"sum\": 40.48199026925223, \"count\": 1, \"min\": 40.48199026925223, \"max\": 40.48199026925223}}}\u001b[0m\n",
      "\u001b[34m#metrics {\"StartTime\": 1669357085.0875342, \"EndTime\": 1669357085.0875485, \"Dimensions\": {\"Algorithm\": \"Linear Learner\", \"Host\": \"algo-1\", \"Operation\": \"training\", \"epoch\": 4, \"model\": 6}, \"Metrics\": {\"validation_mse_objective\": {\"sum\": 45.04290771484375, \"count\": 1, \"min\": 45.04290771484375, \"max\": 45.04290771484375}}}\u001b[0m\n",
      "\u001b[34m#metrics {\"StartTime\": 1669357085.0875988, \"EndTime\": 1669357085.0876145, \"Dimensions\": {\"Algorithm\": \"Linear Learner\", \"Host\": \"algo-1\", \"Operation\": \"training\", \"epoch\": 4, \"model\": 7}, \"Metrics\": {\"validation_mse_objective\": {\"sum\": 52.01521519252232, \"count\": 1, \"min\": 52.01521519252232, \"max\": 52.01521519252232}}}\u001b[0m\n",
      "\u001b[34m#metrics {\"StartTime\": 1669357085.0876784, \"EndTime\": 1669357085.0876958, \"Dimensions\": {\"Algorithm\": \"Linear Learner\", \"Host\": \"algo-1\", \"Operation\": \"training\", \"epoch\": 4, \"model\": 8}, \"Metrics\": {\"validation_mse_objective\": {\"sum\": 61.616712297712056, \"count\": 1, \"min\": 61.616712297712056, \"max\": 61.616712297712056}}}\u001b[0m\n",
      "\u001b[34m#metrics {\"StartTime\": 1669357085.0877507, \"EndTime\": 1669357085.0877674, \"Dimensions\": {\"Algorithm\": \"Linear Learner\", \"Host\": \"algo-1\", \"Operation\": \"training\", \"epoch\": 4, \"model\": 9}, \"Metrics\": {\"validation_mse_objective\": {\"sum\": 88.32038225446429, \"count\": 1, \"min\": 88.32038225446429, \"max\": 88.32038225446429}}}\u001b[0m\n",
      "\u001b[34m#metrics {\"StartTime\": 1669357085.0878217, \"EndTime\": 1669357085.0878367, \"Dimensions\": {\"Algorithm\": \"Linear Learner\", \"Host\": \"algo-1\", \"Operation\": \"training\", \"epoch\": 4, \"model\": 10}, \"Metrics\": {\"validation_mse_objective\": {\"sum\": 57.36434064592634, \"count\": 1, \"min\": 57.36434064592634, \"max\": 57.36434064592634}}}\u001b[0m\n",
      "\u001b[34m#metrics {\"StartTime\": 1669357085.0879188, \"EndTime\": 1669357085.0879364, \"Dimensions\": {\"Algorithm\": \"Linear Learner\", \"Host\": \"algo-1\", \"Operation\": \"training\", \"epoch\": 4, \"model\": 11}, \"Metrics\": {\"validation_mse_objective\": {\"sum\": 70.93806675502232, \"count\": 1, \"min\": 70.93806675502232, \"max\": 70.93806675502232}}}\u001b[0m\n",
      "\u001b[34m#metrics {\"StartTime\": 1669357085.0880063, \"EndTime\": 1669357085.0880237, \"Dimensions\": {\"Algorithm\": \"Linear Learner\", \"Host\": \"algo-1\", \"Operation\": \"training\", \"epoch\": 4, \"model\": 12}, \"Metrics\": {\"validation_mse_objective\": {\"sum\": 45.822113037109375, \"count\": 1, \"min\": 45.822113037109375, \"max\": 45.822113037109375}}}\u001b[0m\n",
      "\u001b[34m#metrics {\"StartTime\": 1669357085.0880892, \"EndTime\": 1669357085.0881047, \"Dimensions\": {\"Algorithm\": \"Linear Learner\", \"Host\": \"algo-1\", \"Operation\": \"training\", \"epoch\": 4, \"model\": 13}, \"Metrics\": {\"validation_mse_objective\": {\"sum\": 49.069715227399556, \"count\": 1, \"min\": 49.069715227399556, \"max\": 49.069715227399556}}}\u001b[0m\n",
      "\u001b[34m#metrics {\"StartTime\": 1669357085.0881543, \"EndTime\": 1669357085.08817, \"Dimensions\": {\"Algorithm\": \"Linear Learner\", \"Host\": \"algo-1\", \"Operation\": \"training\", \"epoch\": 4, \"model\": 14}, \"Metrics\": {\"validation_mse_objective\": {\"sum\": 59.287423270089285, \"count\": 1, \"min\": 59.287423270089285, \"max\": 59.287423270089285}}}\u001b[0m\n",
      "\u001b[34m#metrics {\"StartTime\": 1669357085.0882206, \"EndTime\": 1669357085.0882368, \"Dimensions\": {\"Algorithm\": \"Linear Learner\", \"Host\": \"algo-1\", \"Operation\": \"training\", \"epoch\": 4, \"model\": 15}, \"Metrics\": {\"validation_mse_objective\": {\"sum\": 43.2154541015625, \"count\": 1, \"min\": 43.2154541015625, \"max\": 43.2154541015625}}}\u001b[0m\n",
      "\u001b[34m#metrics {\"StartTime\": 1669357085.0882897, \"EndTime\": 1669357085.0883062, \"Dimensions\": {\"Algorithm\": \"Linear Learner\", \"Host\": \"algo-1\", \"Operation\": \"training\", \"epoch\": 4, \"model\": 16}, \"Metrics\": {\"validation_mse_objective\": {\"sum\": 65.13161359514508, \"count\": 1, \"min\": 65.13161359514508, \"max\": 65.13161359514508}}}\u001b[0m\n",
      "\u001b[34m#metrics {\"StartTime\": 1669357085.088357, \"EndTime\": 1669357085.0883737, \"Dimensions\": {\"Algorithm\": \"Linear Learner\", \"Host\": \"algo-1\", \"Operation\": \"training\", \"epoch\": 4, \"model\": 17}, \"Metrics\": {\"validation_mse_objective\": {\"sum\": 56.462023053850444, \"count\": 1, \"min\": 56.462023053850444, \"max\": 56.462023053850444}}}\u001b[0m\n",
      "\u001b[34m#metrics {\"StartTime\": 1669357085.0884273, \"EndTime\": 1669357085.0884442, \"Dimensions\": {\"Algorithm\": \"Linear Learner\", \"Host\": \"algo-1\", \"Operation\": \"training\", \"epoch\": 4, \"model\": 18}, \"Metrics\": {\"validation_mse_objective\": {\"sum\": 80.00761195591518, \"count\": 1, \"min\": 80.00761195591518, \"max\": 80.00761195591518}}}\u001b[0m\n",
      "\u001b[34m#metrics {\"StartTime\": 1669357085.088497, \"EndTime\": 1669357085.0885122, \"Dimensions\": {\"Algorithm\": \"Linear Learner\", \"Host\": \"algo-1\", \"Operation\": \"training\", \"epoch\": 4, \"model\": 19}, \"Metrics\": {\"validation_mse_objective\": {\"sum\": 67.5094735281808, \"count\": 1, \"min\": 67.5094735281808, \"max\": 67.5094735281808}}}\u001b[0m\n",
      "\u001b[34m#metrics {\"StartTime\": 1669357085.088566, \"EndTime\": 1669357085.0885816, \"Dimensions\": {\"Algorithm\": \"Linear Learner\", \"Host\": \"algo-1\", \"Operation\": \"training\", \"epoch\": 4, \"model\": 20}, \"Metrics\": {\"validation_mse_objective\": {\"sum\": 56.020054408482146, \"count\": 1, \"min\": 56.020054408482146, \"max\": 56.020054408482146}}}\u001b[0m\n",
      "\u001b[34m#metrics {\"StartTime\": 1669357085.088619, \"EndTime\": 1669357085.0886273, \"Dimensions\": {\"Algorithm\": \"Linear Learner\", \"Host\": \"algo-1\", \"Operation\": \"training\", \"epoch\": 4, \"model\": 21}, \"Metrics\": {\"validation_mse_objective\": {\"sum\": 55.73627144949777, \"count\": 1, \"min\": 55.73627144949777, \"max\": 55.73627144949777}}}\u001b[0m\n",
      "\u001b[34m#metrics {\"StartTime\": 1669357085.0886528, \"EndTime\": 1669357085.0886605, \"Dimensions\": {\"Algorithm\": \"Linear Learner\", \"Host\": \"algo-1\", \"Operation\": \"training\", \"epoch\": 4, \"model\": 22}, \"Metrics\": {\"validation_mse_objective\": {\"sum\": 54.55092075892857, \"count\": 1, \"min\": 54.55092075892857, \"max\": 54.55092075892857}}}\u001b[0m\n",
      "\u001b[34m#metrics {\"StartTime\": 1669357085.0886903, \"EndTime\": 1669357085.088704, \"Dimensions\": {\"Algorithm\": \"Linear Learner\", \"Host\": \"algo-1\", \"Operation\": \"training\", \"epoch\": 4, \"model\": 23}, \"Metrics\": {\"validation_mse_objective\": {\"sum\": 58.524339948381694, \"count\": 1, \"min\": 58.524339948381694, \"max\": 58.524339948381694}}}\u001b[0m\n",
      "\u001b[34m#metrics {\"StartTime\": 1669357085.0887537, \"EndTime\": 1669357085.0887687, \"Dimensions\": {\"Algorithm\": \"Linear Learner\", \"Host\": \"algo-1\", \"Operation\": \"training\", \"epoch\": 4, \"model\": 24}, \"Metrics\": {\"validation_mse_objective\": {\"sum\": 78.51258196149554, \"count\": 1, \"min\": 78.51258196149554, \"max\": 78.51258196149554}}}\u001b[0m\n",
      "\u001b[34m#metrics {\"StartTime\": 1669357085.088805, \"EndTime\": 1669357085.0888195, \"Dimensions\": {\"Algorithm\": \"Linear Learner\", \"Host\": \"algo-1\", \"Operation\": \"training\", \"epoch\": 4, \"model\": 25}, \"Metrics\": {\"validation_mse_objective\": {\"sum\": 79.55062430245536, \"count\": 1, \"min\": 79.55062430245536, \"max\": 79.55062430245536}}}\u001b[0m\n",
      "\u001b[34m#metrics {\"StartTime\": 1669357085.0888712, \"EndTime\": 1669357085.0888875, \"Dimensions\": {\"Algorithm\": \"Linear Learner\", \"Host\": \"algo-1\", \"Operation\": \"training\", \"epoch\": 4, \"model\": 26}, \"Metrics\": {\"validation_mse_objective\": {\"sum\": 85.35577392578125, \"count\": 1, \"min\": 85.35577392578125, \"max\": 85.35577392578125}}}\u001b[0m\n",
      "\u001b[34m#metrics {\"StartTime\": 1669357085.088939, \"EndTime\": 1669357085.088955, \"Dimensions\": {\"Algorithm\": \"Linear Learner\", \"Host\": \"algo-1\", \"Operation\": \"training\", \"epoch\": 4, \"model\": 27}, \"Metrics\": {\"validation_mse_objective\": {\"sum\": 86.100830078125, \"count\": 1, \"min\": 86.100830078125, \"max\": 86.100830078125}}}\u001b[0m\n",
      "\u001b[34m#metrics {\"StartTime\": 1669357085.0890002, \"EndTime\": 1669357085.0890155, \"Dimensions\": {\"Algorithm\": \"Linear Learner\", \"Host\": \"algo-1\", \"Operation\": \"training\", \"epoch\": 4, \"model\": 28}, \"Metrics\": {\"validation_mse_objective\": {\"sum\": 101.74002511160714, \"count\": 1, \"min\": 101.74002511160714, \"max\": 101.74002511160714}}}\u001b[0m\n",
      "\u001b[34m#metrics {\"StartTime\": 1669357085.089047, \"EndTime\": 1669357085.0890555, \"Dimensions\": {\"Algorithm\": \"Linear Learner\", \"Host\": \"algo-1\", \"Operation\": \"training\", \"epoch\": 4, \"model\": 29}, \"Metrics\": {\"validation_mse_objective\": {\"sum\": 95.92555454799107, \"count\": 1, \"min\": 95.92555454799107, \"max\": 95.92555454799107}}}\u001b[0m\n",
      "\u001b[34m#metrics {\"StartTime\": 1669357085.0890806, \"EndTime\": 1669357085.089088, \"Dimensions\": {\"Algorithm\": \"Linear Learner\", \"Host\": \"algo-1\", \"Operation\": \"training\", \"epoch\": 4, \"model\": 30}, \"Metrics\": {\"validation_mse_objective\": {\"sum\": 106.75687081473214, \"count\": 1, \"min\": 106.75687081473214, \"max\": 106.75687081473214}}}\u001b[0m\n",
      "\u001b[34m#metrics {\"StartTime\": 1669357085.0891201, \"EndTime\": 1669357085.089134, \"Dimensions\": {\"Algorithm\": \"Linear Learner\", \"Host\": \"algo-1\", \"Operation\": \"training\", \"epoch\": 4, \"model\": 31}, \"Metrics\": {\"validation_mse_objective\": {\"sum\": 106.29810442243304, \"count\": 1, \"min\": 106.29810442243304, \"max\": 106.29810442243304}}}\u001b[0m\n",
      "\u001b[34m[11/25/2022 06:18:05 INFO 140704388560704] #quality_metric: host=algo-1, epoch=4, validation mse_objective <loss>=59.18247331891741\u001b[0m\n",
      "\u001b[34m[11/25/2022 06:18:05 INFO 140704388560704] #early_stopping_criteria_metric: host=algo-1, epoch=4, criteria=mse_objective, value=40.48199026925223\u001b[0m\n",
      "\u001b[34m[11/25/2022 06:18:05 INFO 140704388560704] Saving model for epoch: 4\u001b[0m\n",
      "\u001b[34m[11/25/2022 06:18:05 INFO 140704388560704] Saved checkpoint to \"/tmp/tmpats_460i/mx-mod-0000.params\"\u001b[0m\n",
      "\u001b[34m[11/25/2022 06:18:05 INFO 140704388560704] #progress_metric: host=algo-1, completed 33.333333333333336 % of epochs\u001b[0m\n",
      "\u001b[34m#metrics {\"StartTime\": 1669357084.9906259, \"EndTime\": 1669357085.0958374, \"Dimensions\": {\"Algorithm\": \"Linear Learner\", \"Host\": \"algo-1\", \"Operation\": \"training\", \"epoch\": 4, \"Meta\": \"training_data_iter\"}, \"Metrics\": {\"Total Records Seen\": {\"sum\": 1562.0, \"count\": 1, \"min\": 1562, \"max\": 1562}, \"Total Batches Seen\": {\"sum\": 13.0, \"count\": 1, \"min\": 13, \"max\": 13}, \"Max Records Seen Between Resets\": {\"sum\": 227.0, \"count\": 1, \"min\": 227, \"max\": 227}, \"Max Batches Seen Between Resets\": {\"sum\": 2.0, \"count\": 1, \"min\": 2, \"max\": 2}, \"Reset Count\": {\"sum\": 7.0, \"count\": 1, \"min\": 7, \"max\": 7}, \"Number of Records Since Last Reset\": {\"sum\": 227.0, \"count\": 1, \"min\": 227, \"max\": 227}, \"Number of Batches Since Last Reset\": {\"sum\": 2.0, \"count\": 1, \"min\": 2, \"max\": 2}}}\u001b[0m\n",
      "\u001b[34m[11/25/2022 06:18:05 INFO 140704388560704] #throughput_metric: host=algo-1, train throughput=2153.50846265372 records/second\u001b[0m\n",
      "\u001b[34m#metrics {\"StartTime\": 1669357085.1297574, \"EndTime\": 1669357085.1298087, \"Dimensions\": {\"Algorithm\": \"Linear Learner\", \"Host\": \"algo-1\", \"Operation\": \"training\", \"epoch\": 5, \"model\": 0}, \"Metrics\": {\"train_mse_objective\": {\"sum\": 0.7290738677978515, \"count\": 1, \"min\": 0.7290738677978515, \"max\": 0.7290738677978515}}}\u001b[0m\n",
      "\u001b[34m#metrics {\"StartTime\": 1669357085.1298828, \"EndTime\": 1669357085.129896, \"Dimensions\": {\"Algorithm\": \"Linear Learner\", \"Host\": \"algo-1\", \"Operation\": \"training\", \"epoch\": 5, \"model\": 1}, \"Metrics\": {\"train_mse_objective\": {\"sum\": 0.6866036224365234, \"count\": 1, \"min\": 0.6866036224365234, \"max\": 0.6866036224365234}}}\u001b[0m\n",
      "\u001b[34m#metrics {\"StartTime\": 1669357085.129933, \"EndTime\": 1669357085.129948, \"Dimensions\": {\"Algorithm\": \"Linear Learner\", \"Host\": \"algo-1\", \"Operation\": \"training\", \"epoch\": 5, \"model\": 2}, \"Metrics\": {\"train_mse_objective\": {\"sum\": 1.0182901000976563, \"count\": 1, \"min\": 1.0182901000976563, \"max\": 1.0182901000976563}}}\u001b[0m\n",
      "\u001b[34m#metrics {\"StartTime\": 1669357085.1299963, \"EndTime\": 1669357085.1300116, \"Dimensions\": {\"Algorithm\": \"Linear Learner\", \"Host\": \"algo-1\", \"Operation\": \"training\", \"epoch\": 5, \"model\": 3}, \"Metrics\": {\"train_mse_objective\": {\"sum\": 0.6728054046630859, \"count\": 1, \"min\": 0.6728054046630859, \"max\": 0.6728054046630859}}}\u001b[0m\n",
      "\u001b[34m#metrics {\"StartTime\": 1669357085.1300576, \"EndTime\": 1669357085.1300719, \"Dimensions\": {\"Algorithm\": \"Linear Learner\", \"Host\": \"algo-1\", \"Operation\": \"training\", \"epoch\": 5, \"model\": 4}, \"Metrics\": {\"train_mse_objective\": {\"sum\": 0.5308300018310547, \"count\": 1, \"min\": 0.5308300018310547, \"max\": 0.5308300018310547}}}\u001b[0m\n",
      "\u001b[34m#metrics {\"StartTime\": 1669357085.1301212, \"EndTime\": 1669357085.130133, \"Dimensions\": {\"Algorithm\": \"Linear Learner\", \"Host\": \"algo-1\", \"Operation\": \"training\", \"epoch\": 5, \"model\": 5}, \"Metrics\": {\"train_mse_objective\": {\"sum\": 0.41313369750976564, \"count\": 1, \"min\": 0.41313369750976564, \"max\": 0.41313369750976564}}}\u001b[0m\n",
      "\u001b[34m#metrics {\"StartTime\": 1669357085.1301792, \"EndTime\": 1669357085.1301944, \"Dimensions\": {\"Algorithm\": \"Linear Learner\", \"Host\": \"algo-1\", \"Operation\": \"training\", \"epoch\": 5, \"model\": 6}, \"Metrics\": {\"train_mse_objective\": {\"sum\": 0.45374465942382813, \"count\": 1, \"min\": 0.45374465942382813, \"max\": 0.45374465942382813}}}\u001b[0m\n",
      "\u001b[34m#metrics {\"StartTime\": 1669357085.130242, \"EndTime\": 1669357085.130257, \"Dimensions\": {\"Algorithm\": \"Linear Learner\", \"Host\": \"algo-1\", \"Operation\": \"training\", \"epoch\": 5, \"model\": 7}, \"Metrics\": {\"train_mse_objective\": {\"sum\": 0.5055916213989258, \"count\": 1, \"min\": 0.5055916213989258, \"max\": 0.5055916213989258}}}\u001b[0m\n",
      "\u001b[34m#metrics {\"StartTime\": 1669357085.1302931, \"EndTime\": 1669357085.1303022, \"Dimensions\": {\"Algorithm\": \"Linear Learner\", \"Host\": \"algo-1\", \"Operation\": \"training\", \"epoch\": 5, \"model\": 8}, \"Metrics\": {\"train_mse_objective\": {\"sum\": 0.7381005859375, \"count\": 1, \"min\": 0.7381005859375, \"max\": 0.7381005859375}}}\u001b[0m\n",
      "\u001b[34m#metrics {\"StartTime\": 1669357085.1303282, \"EndTime\": 1669357085.1303356, \"Dimensions\": {\"Algorithm\": \"Linear Learner\", \"Host\": \"algo-1\", \"Operation\": \"training\", \"epoch\": 5, \"model\": 9}, \"Metrics\": {\"train_mse_objective\": {\"sum\": 1.076600570678711, \"count\": 1, \"min\": 1.076600570678711, \"max\": 1.076600570678711}}}\u001b[0m\n",
      "\u001b[34m#metrics {\"StartTime\": 1669357085.1303604, \"EndTime\": 1669357085.1303678, \"Dimensions\": {\"Algorithm\": \"Linear Learner\", \"Host\": \"algo-1\", \"Operation\": \"training\", \"epoch\": 5, \"model\": 10}, \"Metrics\": {\"train_mse_objective\": {\"sum\": 0.6914543914794922, \"count\": 1, \"min\": 0.6914543914794922, \"max\": 0.6914543914794922}}}\u001b[0m\n",
      "\u001b[34m#metrics {\"StartTime\": 1669357085.1303923, \"EndTime\": 1669357085.1303997, \"Dimensions\": {\"Algorithm\": \"Linear Learner\", \"Host\": \"algo-1\", \"Operation\": \"training\", \"epoch\": 5, \"model\": 11}, \"Metrics\": {\"train_mse_objective\": {\"sum\": 0.8692138671875, \"count\": 1, \"min\": 0.8692138671875, \"max\": 0.8692138671875}}}\u001b[0m\n",
      "\u001b[34m#metrics {\"StartTime\": 1669357085.1304238, \"EndTime\": 1669357085.130431, \"Dimensions\": {\"Algorithm\": \"Linear Learner\", \"Host\": \"algo-1\", \"Operation\": \"training\", \"epoch\": 5, \"model\": 12}, \"Metrics\": {\"train_mse_objective\": {\"sum\": 0.4645413589477539, \"count\": 1, \"min\": 0.4645413589477539, \"max\": 0.4645413589477539}}}\u001b[0m\n",
      "\u001b[34m#metrics {\"StartTime\": 1669357085.1304553, \"EndTime\": 1669357085.1304624, \"Dimensions\": {\"Algorithm\": \"Linear Learner\", \"Host\": \"algo-1\", \"Operation\": \"training\", \"epoch\": 5, \"model\": 13}, \"Metrics\": {\"train_mse_objective\": {\"sum\": 0.4951962661743164, \"count\": 1, \"min\": 0.4951962661743164, \"max\": 0.4951962661743164}}}\u001b[0m\n",
      "\u001b[34m#metrics {\"StartTime\": 1669357085.1304898, \"EndTime\": 1669357085.1304975, \"Dimensions\": {\"Algorithm\": \"Linear Learner\", \"Host\": \"algo-1\", \"Operation\": \"training\", \"epoch\": 5, \"model\": 14}, \"Metrics\": {\"train_mse_objective\": {\"sum\": 0.5668734741210938, \"count\": 1, \"min\": 0.5668734741210938, \"max\": 0.5668734741210938}}}\u001b[0m\n",
      "\u001b[34m#metrics {\"StartTime\": 1669357085.1305223, \"EndTime\": 1669357085.1305299, \"Dimensions\": {\"Algorithm\": \"Linear Learner\", \"Host\": \"algo-1\", \"Operation\": \"training\", \"epoch\": 5, \"model\": 15}, \"Metrics\": {\"train_mse_objective\": {\"sum\": 0.4333170318603516, \"count\": 1, \"min\": 0.4333170318603516, \"max\": 0.4333170318603516}}}\u001b[0m\n",
      "\u001b[34m#metrics {\"StartTime\": 1669357085.130554, \"EndTime\": 1669357085.1305614, \"Dimensions\": {\"Algorithm\": \"Linear Learner\", \"Host\": \"algo-1\", \"Operation\": \"training\", \"epoch\": 5, \"model\": 16}, \"Metrics\": {\"train_mse_objective\": {\"sum\": 0.7931575012207032, \"count\": 1, \"min\": 0.7931575012207032, \"max\": 0.7931575012207032}}}\u001b[0m\n",
      "\u001b[34m#metrics {\"StartTime\": 1669357085.1305857, \"EndTime\": 1669357085.1305928, \"Dimensions\": {\"Algorithm\": \"Linear Learner\", \"Host\": \"algo-1\", \"Operation\": \"training\", \"epoch\": 5, \"model\": 17}, \"Metrics\": {\"train_mse_objective\": {\"sum\": 0.684681396484375, \"count\": 1, \"min\": 0.684681396484375, \"max\": 0.684681396484375}}}\u001b[0m\n",
      "\u001b[34m#metrics {\"StartTime\": 1669357085.130617, \"EndTime\": 1669357085.130624, \"Dimensions\": {\"Algorithm\": \"Linear Learner\", \"Host\": \"algo-1\", \"Operation\": \"training\", \"epoch\": 5, \"model\": 18}, \"Metrics\": {\"train_mse_objective\": {\"sum\": 0.960716552734375, \"count\": 1, \"min\": 0.960716552734375, \"max\": 0.960716552734375}}}\u001b[0m\n",
      "\u001b[34m#metrics {\"StartTime\": 1669357085.1306486, \"EndTime\": 1669357085.130655, \"Dimensions\": {\"Algorithm\": \"Linear Learner\", \"Host\": \"algo-1\", \"Operation\": \"training\", \"epoch\": 5, \"model\": 19}, \"Metrics\": {\"train_mse_objective\": {\"sum\": 0.7936988067626953, \"count\": 1, \"min\": 0.7936988067626953, \"max\": 0.7936988067626953}}}\u001b[0m\n",
      "\u001b[34m#metrics {\"StartTime\": 1669357085.130679, \"EndTime\": 1669357085.130686, \"Dimensions\": {\"Algorithm\": \"Linear Learner\", \"Host\": \"algo-1\", \"Operation\": \"training\", \"epoch\": 5, \"model\": 20}, \"Metrics\": {\"train_mse_objective\": {\"sum\": 0.6123044586181641, \"count\": 1, \"min\": 0.6123044586181641, \"max\": 0.6123044586181641}}}\u001b[0m\n",
      "\u001b[34m#metrics {\"StartTime\": 1669357085.1307096, \"EndTime\": 1669357085.130717, \"Dimensions\": {\"Algorithm\": \"Linear Learner\", \"Host\": \"algo-1\", \"Operation\": \"training\", \"epoch\": 5, \"model\": 21}, \"Metrics\": {\"train_mse_objective\": {\"sum\": 0.6008879470825196, \"count\": 1, \"min\": 0.6008879470825196, \"max\": 0.6008879470825196}}}\u001b[0m\n",
      "\u001b[34m#metrics {\"StartTime\": 1669357085.130741, \"EndTime\": 1669357085.1307483, \"Dimensions\": {\"Algorithm\": \"Linear Learner\", \"Host\": \"algo-1\", \"Operation\": \"training\", \"epoch\": 5, \"model\": 22}, \"Metrics\": {\"train_mse_objective\": {\"sum\": 0.6022725296020508, \"count\": 1, \"min\": 0.6022725296020508, \"max\": 0.6022725296020508}}}\u001b[0m\n",
      "\u001b[34m#metrics {\"StartTime\": 1669357085.1307719, \"EndTime\": 1669357085.1307788, \"Dimensions\": {\"Algorithm\": \"Linear Learner\", \"Host\": \"algo-1\", \"Operation\": \"training\", \"epoch\": 5, \"model\": 23}, \"Metrics\": {\"train_mse_objective\": {\"sum\": 0.6364870834350586, \"count\": 1, \"min\": 0.6364870834350586, \"max\": 0.6364870834350586}}}\u001b[0m\n",
      "\u001b[34m#metrics {\"StartTime\": 1669357085.1308205, \"EndTime\": 1669357085.1308355, \"Dimensions\": {\"Algorithm\": \"Linear Learner\", \"Host\": \"algo-1\", \"Operation\": \"training\", \"epoch\": 5, \"model\": 24}, \"Metrics\": {\"train_mse_objective\": {\"sum\": 0.9560417175292969, \"count\": 1, \"min\": 0.9560417175292969, \"max\": 0.9560417175292969}}}\u001b[0m\n",
      "\u001b[34m#metrics {\"StartTime\": 1669357085.1308792, \"EndTime\": 1669357085.1308897, \"Dimensions\": {\"Algorithm\": \"Linear Learner\", \"Host\": \"algo-1\", \"Operation\": \"training\", \"epoch\": 5, \"model\": 25}, \"Metrics\": {\"train_mse_objective\": {\"sum\": 0.9634577941894531, \"count\": 1, \"min\": 0.9634577941894531, \"max\": 0.9634577941894531}}}\u001b[0m\n",
      "\u001b[34m#metrics {\"StartTime\": 1669357085.1309164, \"EndTime\": 1669357085.130924, \"Dimensions\": {\"Algorithm\": \"Linear Learner\", \"Host\": \"algo-1\", \"Operation\": \"training\", \"epoch\": 5, \"model\": 26}, \"Metrics\": {\"train_mse_objective\": {\"sum\": 1.040705795288086, \"count\": 1, \"min\": 1.040705795288086, \"max\": 1.040705795288086}}}\u001b[0m\n",
      "\u001b[34m#metrics {\"StartTime\": 1669357085.1309493, \"EndTime\": 1669357085.1309566, \"Dimensions\": {\"Algorithm\": \"Linear Learner\", \"Host\": \"algo-1\", \"Operation\": \"training\", \"epoch\": 5, \"model\": 27}, \"Metrics\": {\"train_mse_objective\": {\"sum\": 1.0506119537353515, \"count\": 1, \"min\": 1.0506119537353515, \"max\": 1.0506119537353515}}}\u001b[0m\n",
      "\u001b[34m#metrics {\"StartTime\": 1669357085.1309812, \"EndTime\": 1669357085.1309884, \"Dimensions\": {\"Algorithm\": \"Linear Learner\", \"Host\": \"algo-1\", \"Operation\": \"training\", \"epoch\": 5, \"model\": 28}, \"Metrics\": {\"train_mse_objective\": {\"sum\": 1.196293182373047, \"count\": 1, \"min\": 1.196293182373047, \"max\": 1.196293182373047}}}\u001b[0m\n",
      "\u001b[34m#metrics {\"StartTime\": 1669357085.1310127, \"EndTime\": 1669357085.1310198, \"Dimensions\": {\"Algorithm\": \"Linear Learner\", \"Host\": \"algo-1\", \"Operation\": \"training\", \"epoch\": 5, \"model\": 29}, \"Metrics\": {\"train_mse_objective\": {\"sum\": 1.1114484405517577, \"count\": 1, \"min\": 1.1114484405517577, \"max\": 1.1114484405517577}}}\u001b[0m\n",
      "\u001b[34m#metrics {\"StartTime\": 1669357085.1310441, \"EndTime\": 1669357085.1310513, \"Dimensions\": {\"Algorithm\": \"Linear Learner\", \"Host\": \"algo-1\", \"Operation\": \"training\", \"epoch\": 5, \"model\": 30}, \"Metrics\": {\"train_mse_objective\": {\"sum\": 1.2587190246582032, \"count\": 1, \"min\": 1.2587190246582032, \"max\": 1.2587190246582032}}}\u001b[0m\n",
      "\u001b[34m#metrics {\"StartTime\": 1669357085.1310754, \"EndTime\": 1669357085.1310825, \"Dimensions\": {\"Algorithm\": \"Linear Learner\", \"Host\": \"algo-1\", \"Operation\": \"training\", \"epoch\": 5, \"model\": 31}, \"Metrics\": {\"train_mse_objective\": {\"sum\": 1.2685456848144532, \"count\": 1, \"min\": 1.2685456848144532, \"max\": 1.2685456848144532}}}\u001b[0m\n",
      "\u001b[34m[11/25/2022 06:18:05 INFO 140704388560704] #quality_metric: host=algo-1, epoch=5, train mse_objective <loss>=0.7290738677978515\u001b[0m\n",
      "\u001b[34m#metrics {\"StartTime\": 1669357085.181291, \"EndTime\": 1669357085.1813424, \"Dimensions\": {\"Algorithm\": \"Linear Learner\", \"Host\": \"algo-1\", \"Operation\": \"training\", \"epoch\": 5, \"model\": 0}, \"Metrics\": {\"validation_mse_objective\": {\"sum\": 56.291617257254465, \"count\": 1, \"min\": 56.291617257254465, \"max\": 56.291617257254465}}}\u001b[0m\n",
      "\u001b[34m#metrics {\"StartTime\": 1669357085.1814198, \"EndTime\": 1669357085.1814387, \"Dimensions\": {\"Algorithm\": \"Linear Learner\", \"Host\": \"algo-1\", \"Operation\": \"training\", \"epoch\": 5, \"model\": 1}, \"Metrics\": {\"validation_mse_objective\": {\"sum\": 53.7406005859375, \"count\": 1, \"min\": 53.7406005859375, \"max\": 53.7406005859375}}}\u001b[0m\n",
      "\u001b[34m#metrics {\"StartTime\": 1669357085.181496, \"EndTime\": 1669357085.1815133, \"Dimensions\": {\"Algorithm\": \"Linear Learner\", \"Host\": \"algo-1\", \"Operation\": \"training\", \"epoch\": 5, \"model\": 2}, \"Metrics\": {\"validation_mse_objective\": {\"sum\": 78.51301792689732, \"count\": 1, \"min\": 78.51301792689732, \"max\": 78.51301792689732}}}\u001b[0m\n",
      "\u001b[34m#metrics {\"StartTime\": 1669357085.18158, \"EndTime\": 1669357085.1815982, \"Dimensions\": {\"Algorithm\": \"Linear Learner\", \"Host\": \"algo-1\", \"Operation\": \"training\", \"epoch\": 5, \"model\": 3}, \"Metrics\": {\"validation_mse_objective\": {\"sum\": 52.94226510184152, \"count\": 1, \"min\": 52.94226510184152, \"max\": 52.94226510184152}}}\u001b[0m\n",
      "\u001b[34m#metrics {\"StartTime\": 1669357085.1816618, \"EndTime\": 1669357085.1816778, \"Dimensions\": {\"Algorithm\": \"Linear Learner\", \"Host\": \"algo-1\", \"Operation\": \"training\", \"epoch\": 5, \"model\": 4}, \"Metrics\": {\"validation_mse_objective\": {\"sum\": 39.35548618861607, \"count\": 1, \"min\": 39.35548618861607, \"max\": 39.35548618861607}}}\u001b[0m\n",
      "\u001b[34m#metrics {\"StartTime\": 1669357085.181732, \"EndTime\": 1669357085.1817474, \"Dimensions\": {\"Algorithm\": \"Linear Learner\", \"Host\": \"algo-1\", \"Operation\": \"training\", \"epoch\": 5, \"model\": 5}, \"Metrics\": {\"validation_mse_objective\": {\"sum\": 37.173679896763396, \"count\": 1, \"min\": 37.173679896763396, \"max\": 37.173679896763396}}}\u001b[0m\n",
      "\u001b[34m#metrics {\"StartTime\": 1669357085.1818078, \"EndTime\": 1669357085.1818235, \"Dimensions\": {\"Algorithm\": \"Linear Learner\", \"Host\": \"algo-1\", \"Operation\": \"training\", \"epoch\": 5, \"model\": 6}, \"Metrics\": {\"validation_mse_objective\": {\"sum\": 39.092154366629465, \"count\": 1, \"min\": 39.092154366629465, \"max\": 39.092154366629465}}}\u001b[0m\n",
      "\u001b[34m#metrics {\"StartTime\": 1669357085.1818764, \"EndTime\": 1669357085.1818924, \"Dimensions\": {\"Algorithm\": \"Linear Learner\", \"Host\": \"algo-1\", \"Operation\": \"training\", \"epoch\": 5, \"model\": 7}, \"Metrics\": {\"validation_mse_objective\": {\"sum\": 43.059949602399556, \"count\": 1, \"min\": 43.059949602399556, \"max\": 43.059949602399556}}}\u001b[0m\n",
      "\u001b[34m#metrics {\"StartTime\": 1669357085.1819444, \"EndTime\": 1669357085.1819592, \"Dimensions\": {\"Algorithm\": \"Linear Learner\", \"Host\": \"algo-1\", \"Operation\": \"training\", \"epoch\": 5, \"model\": 8}, \"Metrics\": {\"validation_mse_objective\": {\"sum\": 59.51225062779018, \"count\": 1, \"min\": 59.51225062779018, \"max\": 59.51225062779018}}}\u001b[0m\n",
      "\u001b[34m#metrics {\"StartTime\": 1669357085.182024, \"EndTime\": 1669357085.182042, \"Dimensions\": {\"Algorithm\": \"Linear Learner\", \"Host\": \"algo-1\", \"Operation\": \"training\", \"epoch\": 5, \"model\": 9}, \"Metrics\": {\"validation_mse_objective\": {\"sum\": 83.36485072544643, \"count\": 1, \"min\": 83.36485072544643, \"max\": 83.36485072544643}}}\u001b[0m\n",
      "\u001b[34m#metrics {\"StartTime\": 1669357085.1821053, \"EndTime\": 1669357085.1821237, \"Dimensions\": {\"Algorithm\": \"Linear Learner\", \"Host\": \"algo-1\", \"Operation\": \"training\", \"epoch\": 5, \"model\": 10}, \"Metrics\": {\"validation_mse_objective\": {\"sum\": 55.44663783482143, \"count\": 1, \"min\": 55.44663783482143, \"max\": 55.44663783482143}}}\u001b[0m\n",
      "\u001b[34m#metrics {\"StartTime\": 1669357085.182178, \"EndTime\": 1669357085.1821947, \"Dimensions\": {\"Algorithm\": \"Linear Learner\", \"Host\": \"algo-1\", \"Operation\": \"training\", \"epoch\": 5, \"model\": 11}, \"Metrics\": {\"validation_mse_objective\": {\"sum\": 67.78504289899554, \"count\": 1, \"min\": 67.78504289899554, \"max\": 67.78504289899554}}}\u001b[0m\n",
      "\u001b[34m#metrics {\"StartTime\": 1669357085.1822467, \"EndTime\": 1669357085.1822631, \"Dimensions\": {\"Algorithm\": \"Linear Learner\", \"Host\": \"algo-1\", \"Operation\": \"training\", \"epoch\": 5, \"model\": 12}, \"Metrics\": {\"validation_mse_objective\": {\"sum\": 40.5257568359375, \"count\": 1, \"min\": 40.5257568359375, \"max\": 40.5257568359375}}}\u001b[0m\n",
      "\u001b[34m#metrics {\"StartTime\": 1669357085.1823158, \"EndTime\": 1669357085.1823313, \"Dimensions\": {\"Algorithm\": \"Linear Learner\", \"Host\": \"algo-1\", \"Operation\": \"training\", \"epoch\": 5, \"model\": 13}, \"Metrics\": {\"validation_mse_objective\": {\"sum\": 39.713309151785715, \"count\": 1, \"min\": 39.713309151785715, \"max\": 39.713309151785715}}}\u001b[0m\n",
      "\u001b[34m#metrics {\"StartTime\": 1669357085.1823874, \"EndTime\": 1669357085.1824033, \"Dimensions\": {\"Algorithm\": \"Linear Learner\", \"Host\": \"algo-1\", \"Operation\": \"training\", \"epoch\": 5, \"model\": 14}, \"Metrics\": {\"validation_mse_objective\": {\"sum\": 43.170702253069194, \"count\": 1, \"min\": 43.170702253069194, \"max\": 43.170702253069194}}}\u001b[0m\n",
      "\u001b[34m#metrics {\"StartTime\": 1669357085.1824682, \"EndTime\": 1669357085.1824875, \"Dimensions\": {\"Algorithm\": \"Linear Learner\", \"Host\": \"algo-1\", \"Operation\": \"training\", \"epoch\": 5, \"model\": 15}, \"Metrics\": {\"validation_mse_objective\": {\"sum\": 40.20538766043527, \"count\": 1, \"min\": 40.20538766043527, \"max\": 40.20538766043527}}}\u001b[0m\n",
      "\u001b[34m#metrics {\"StartTime\": 1669357085.182555, \"EndTime\": 1669357085.1825738, \"Dimensions\": {\"Algorithm\": \"Linear Learner\", \"Host\": \"algo-1\", \"Operation\": \"training\", \"epoch\": 5, \"model\": 16}, \"Metrics\": {\"validation_mse_objective\": {\"sum\": 61.984483991350444, \"count\": 1, \"min\": 61.984483991350444, \"max\": 61.984483991350444}}}\u001b[0m\n",
      "\u001b[34m#metrics {\"StartTime\": 1669357085.1826303, \"EndTime\": 1669357085.1826475, \"Dimensions\": {\"Algorithm\": \"Linear Learner\", \"Host\": \"algo-1\", \"Operation\": \"training\", \"epoch\": 5, \"model\": 17}, \"Metrics\": {\"validation_mse_objective\": {\"sum\": 54.40204293387277, \"count\": 1, \"min\": 54.40204293387277, \"max\": 54.40204293387277}}}\u001b[0m\n",
      "\u001b[34m#metrics {\"StartTime\": 1669357085.1827009, \"EndTime\": 1669357085.1827166, \"Dimensions\": {\"Algorithm\": \"Linear Learner\", \"Host\": \"algo-1\", \"Operation\": \"training\", \"epoch\": 5, \"model\": 18}, \"Metrics\": {\"validation_mse_objective\": {\"sum\": 76.47133963448661, \"count\": 1, \"min\": 76.47133963448661, \"max\": 76.47133963448661}}}\u001b[0m\n",
      "\u001b[34m#metrics {\"StartTime\": 1669357085.1827698, \"EndTime\": 1669357085.1827857, \"Dimensions\": {\"Algorithm\": \"Linear Learner\", \"Host\": \"algo-1\", \"Operation\": \"training\", \"epoch\": 5, \"model\": 19}, \"Metrics\": {\"validation_mse_objective\": {\"sum\": 64.51378958565849, \"count\": 1, \"min\": 64.51378958565849, \"max\": 64.51378958565849}}}\u001b[0m\n",
      "\u001b[34m#metrics {\"StartTime\": 1669357085.1828418, \"EndTime\": 1669357085.1828582, \"Dimensions\": {\"Algorithm\": \"Linear Learner\", \"Host\": \"algo-1\", \"Operation\": \"training\", \"epoch\": 5, \"model\": 20}, \"Metrics\": {\"validation_mse_objective\": {\"sum\": 35.18363734654018, \"count\": 1, \"min\": 35.18363734654018, \"max\": 35.18363734654018}}}\u001b[0m\n",
      "\u001b[34m#metrics {\"StartTime\": 1669357085.1829197, \"EndTime\": 1669357085.1829371, \"Dimensions\": {\"Algorithm\": \"Linear Learner\", \"Host\": \"algo-1\", \"Operation\": \"training\", \"epoch\": 5, \"model\": 21}, \"Metrics\": {\"validation_mse_objective\": {\"sum\": 47.747898646763396, \"count\": 1, \"min\": 47.747898646763396, \"max\": 47.747898646763396}}}\u001b[0m\n",
      "\u001b[34m#metrics {\"StartTime\": 1669357085.1829932, \"EndTime\": 1669357085.1830099, \"Dimensions\": {\"Algorithm\": \"Linear Learner\", \"Host\": \"algo-1\", \"Operation\": \"training\", \"epoch\": 5, \"model\": 22}, \"Metrics\": {\"validation_mse_objective\": {\"sum\": 35.95408194405692, \"count\": 1, \"min\": 35.95408194405692, \"max\": 35.95408194405692}}}\u001b[0m\n",
      "\u001b[34m#metrics {\"StartTime\": 1669357085.1830642, \"EndTime\": 1669357085.1830812, \"Dimensions\": {\"Algorithm\": \"Linear Learner\", \"Host\": \"algo-1\", \"Operation\": \"training\", \"epoch\": 5, \"model\": 23}, \"Metrics\": {\"validation_mse_objective\": {\"sum\": 36.49041312081473, \"count\": 1, \"min\": 36.49041312081473, \"max\": 36.49041312081473}}}\u001b[0m\n",
      "\u001b[34m#metrics {\"StartTime\": 1669357085.1831481, \"EndTime\": 1669357085.1831675, \"Dimensions\": {\"Algorithm\": \"Linear Learner\", \"Host\": \"algo-1\", \"Operation\": \"training\", \"epoch\": 5, \"model\": 24}, \"Metrics\": {\"validation_mse_objective\": {\"sum\": 79.02561732700893, \"count\": 1, \"min\": 79.02561732700893, \"max\": 79.02561732700893}}}\u001b[0m\n",
      "\u001b[34m#metrics {\"StartTime\": 1669357085.1832304, \"EndTime\": 1669357085.1832473, \"Dimensions\": {\"Algorithm\": \"Linear Learner\", \"Host\": \"algo-1\", \"Operation\": \"training\", \"epoch\": 5, \"model\": 25}, \"Metrics\": {\"validation_mse_objective\": {\"sum\": 79.21542794363839, \"count\": 1, \"min\": 79.21542794363839, \"max\": 79.21542794363839}}}\u001b[0m\n",
      "\u001b[34m#metrics {\"StartTime\": 1669357085.18331, \"EndTime\": 1669357085.1833272, \"Dimensions\": {\"Algorithm\": \"Linear Learner\", \"Host\": \"algo-1\", \"Operation\": \"training\", \"epoch\": 5, \"model\": 26}, \"Metrics\": {\"validation_mse_objective\": {\"sum\": 82.90885707310268, \"count\": 1, \"min\": 82.90885707310268, \"max\": 82.90885707310268}}}\u001b[0m\n",
      "\u001b[34m#metrics {\"StartTime\": 1669357085.1833808, \"EndTime\": 1669357085.1833975, \"Dimensions\": {\"Algorithm\": \"Linear Learner\", \"Host\": \"algo-1\", \"Operation\": \"training\", \"epoch\": 5, \"model\": 27}, \"Metrics\": {\"validation_mse_objective\": {\"sum\": 84.14293561662946, \"count\": 1, \"min\": 84.14293561662946, \"max\": 84.14293561662946}}}\u001b[0m\n",
      "\u001b[34m#metrics {\"StartTime\": 1669357085.1834505, \"EndTime\": 1669357085.1834643, \"Dimensions\": {\"Algorithm\": \"Linear Learner\", \"Host\": \"algo-1\", \"Operation\": \"training\", \"epoch\": 5, \"model\": 28}, \"Metrics\": {\"validation_mse_objective\": {\"sum\": 86.77680315290179, \"count\": 1, \"min\": 86.77680315290179, \"max\": 86.77680315290179}}}\u001b[0m\n",
      "\u001b[34m#metrics {\"StartTime\": 1669357085.1834981, \"EndTime\": 1669357085.1835122, \"Dimensions\": {\"Algorithm\": \"Linear Learner\", \"Host\": \"algo-1\", \"Operation\": \"training\", \"epoch\": 5, \"model\": 29}, \"Metrics\": {\"validation_mse_objective\": {\"sum\": 85.17690604073661, \"count\": 1, \"min\": 85.17690604073661, \"max\": 85.17690604073661}}}\u001b[0m\n",
      "\u001b[34m#metrics {\"StartTime\": 1669357085.1835659, \"EndTime\": 1669357085.1835833, \"Dimensions\": {\"Algorithm\": \"Linear Learner\", \"Host\": \"algo-1\", \"Operation\": \"training\", \"epoch\": 5, \"model\": 30}, \"Metrics\": {\"validation_mse_objective\": {\"sum\": 92.57781982421875, \"count\": 1, \"min\": 92.57781982421875, \"max\": 92.57781982421875}}}\u001b[0m\n",
      "\u001b[34m#metrics {\"StartTime\": 1669357085.183636, \"EndTime\": 1669357085.1836536, \"Dimensions\": {\"Algorithm\": \"Linear Learner\", \"Host\": \"algo-1\", \"Operation\": \"training\", \"epoch\": 5, \"model\": 31}, \"Metrics\": {\"validation_mse_objective\": {\"sum\": 88.65488106863839, \"count\": 1, \"min\": 88.65488106863839, \"max\": 88.65488106863839}}}\u001b[0m\n",
      "\u001b[34m[11/25/2022 06:18:05 INFO 140704388560704] #quality_metric: host=algo-1, epoch=5, validation mse_objective <loss>=56.291617257254465\u001b[0m\n",
      "\u001b[34m[11/25/2022 06:18:05 INFO 140704388560704] #early_stopping_criteria_metric: host=algo-1, epoch=5, criteria=mse_objective, value=35.18363734654018\u001b[0m\n",
      "\u001b[34m[11/25/2022 06:18:05 INFO 140704388560704] Saving model for epoch: 5\u001b[0m\n",
      "\u001b[34m[11/25/2022 06:18:05 INFO 140704388560704] Saved checkpoint to \"/tmp/tmpnt6b72yg/mx-mod-0000.params\"\u001b[0m\n",
      "\u001b[34m[11/25/2022 06:18:05 INFO 140704388560704] #progress_metric: host=algo-1, completed 40.0 % of epochs\u001b[0m\n",
      "\u001b[34m#metrics {\"StartTime\": 1669357085.0961974, \"EndTime\": 1669357085.1904778, \"Dimensions\": {\"Algorithm\": \"Linear Learner\", \"Host\": \"algo-1\", \"Operation\": \"training\", \"epoch\": 5, \"Meta\": \"training_data_iter\"}, \"Metrics\": {\"Total Records Seen\": {\"sum\": 1789.0, \"count\": 1, \"min\": 1789, \"max\": 1789}, \"Total Batches Seen\": {\"sum\": 15.0, \"count\": 1, \"min\": 15, \"max\": 15}, \"Max Records Seen Between Resets\": {\"sum\": 227.0, \"count\": 1, \"min\": 227, \"max\": 227}, \"Max Batches Seen Between Resets\": {\"sum\": 2.0, \"count\": 1, \"min\": 2, \"max\": 2}, \"Reset Count\": {\"sum\": 8.0, \"count\": 1, \"min\": 8, \"max\": 8}, \"Number of Records Since Last Reset\": {\"sum\": 227.0, \"count\": 1, \"min\": 227, \"max\": 227}, \"Number of Batches Since Last Reset\": {\"sum\": 2.0, \"count\": 1, \"min\": 2, \"max\": 2}}}\u001b[0m\n",
      "\u001b[34m[11/25/2022 06:18:05 INFO 140704388560704] #throughput_metric: host=algo-1, train throughput=2403.758247473434 records/second\u001b[0m\n",
      "\u001b[34m#metrics {\"StartTime\": 1669357085.2236776, \"EndTime\": 1669357085.2237241, \"Dimensions\": {\"Algorithm\": \"Linear Learner\", \"Host\": \"algo-1\", \"Operation\": \"training\", \"epoch\": 6, \"model\": 0}, \"Metrics\": {\"train_mse_objective\": {\"sum\": 0.6933890533447266, \"count\": 1, \"min\": 0.6933890533447266, \"max\": 0.6933890533447266}}}\u001b[0m\n",
      "\u001b[34m#metrics {\"StartTime\": 1669357085.2237933, \"EndTime\": 1669357085.223812, \"Dimensions\": {\"Algorithm\": \"Linear Learner\", \"Host\": \"algo-1\", \"Operation\": \"training\", \"epoch\": 6, \"model\": 1}, \"Metrics\": {\"train_mse_objective\": {\"sum\": 0.6581734466552734, \"count\": 1, \"min\": 0.6581734466552734, \"max\": 0.6581734466552734}}}\u001b[0m\n",
      "\u001b[34m#metrics {\"StartTime\": 1669357085.2239058, \"EndTime\": 1669357085.2239273, \"Dimensions\": {\"Algorithm\": \"Linear Learner\", \"Host\": \"algo-1\", \"Operation\": \"training\", \"epoch\": 6, \"model\": 2}, \"Metrics\": {\"train_mse_objective\": {\"sum\": 0.9617115783691407, \"count\": 1, \"min\": 0.9617115783691407, \"max\": 0.9617115783691407}}}\u001b[0m\n",
      "\u001b[34m#metrics {\"StartTime\": 1669357085.2239785, \"EndTime\": 1669357085.2239957, \"Dimensions\": {\"Algorithm\": \"Linear Learner\", \"Host\": \"algo-1\", \"Operation\": \"training\", \"epoch\": 6, \"model\": 3}, \"Metrics\": {\"train_mse_objective\": {\"sum\": 0.6448355102539063, \"count\": 1, \"min\": 0.6448355102539063, \"max\": 0.6448355102539063}}}\u001b[0m\n",
      "\u001b[34m#metrics {\"StartTime\": 1669357085.224051, \"EndTime\": 1669357085.2240667, \"Dimensions\": {\"Algorithm\": \"Linear Learner\", \"Host\": \"algo-1\", \"Operation\": \"training\", \"epoch\": 6, \"model\": 4}, \"Metrics\": {\"train_mse_objective\": {\"sum\": 0.381796760559082, \"count\": 1, \"min\": 0.381796760559082, \"max\": 0.381796760559082}}}\u001b[0m\n",
      "\u001b[34m#metrics {\"StartTime\": 1669357085.224119, \"EndTime\": 1669357085.2241352, \"Dimensions\": {\"Algorithm\": \"Linear Learner\", \"Host\": \"algo-1\", \"Operation\": \"training\", \"epoch\": 6, \"model\": 5}, \"Metrics\": {\"train_mse_objective\": {\"sum\": 0.3944566345214844, \"count\": 1, \"min\": 0.3944566345214844, \"max\": 0.3944566345214844}}}\u001b[0m\n",
      "\u001b[34m#metrics {\"StartTime\": 1669357085.224189, \"EndTime\": 1669357085.2242055, \"Dimensions\": {\"Algorithm\": \"Linear Learner\", \"Host\": \"algo-1\", \"Operation\": \"training\", \"epoch\": 6, \"model\": 6}, \"Metrics\": {\"train_mse_objective\": {\"sum\": 0.40526935577392575, \"count\": 1, \"min\": 0.40526935577392575, \"max\": 0.40526935577392575}}}\u001b[0m\n",
      "\u001b[34m#metrics {\"StartTime\": 1669357085.2242694, \"EndTime\": 1669357085.224287, \"Dimensions\": {\"Algorithm\": \"Linear Learner\", \"Host\": \"algo-1\", \"Operation\": \"training\", \"epoch\": 6, \"model\": 7}, \"Metrics\": {\"train_mse_objective\": {\"sum\": 0.4273266983032227, \"count\": 1, \"min\": 0.4273266983032227, \"max\": 0.4273266983032227}}}\u001b[0m\n",
      "\u001b[34m#metrics {\"StartTime\": 1669357085.2243412, \"EndTime\": 1669357085.2243583, \"Dimensions\": {\"Algorithm\": \"Linear Learner\", \"Host\": \"algo-1\", \"Operation\": \"training\", \"epoch\": 6, \"model\": 8}, \"Metrics\": {\"train_mse_objective\": {\"sum\": 0.7109403228759765, \"count\": 1, \"min\": 0.7109403228759765, \"max\": 0.7109403228759765}}}\u001b[0m\n",
      "\u001b[34m#metrics {\"StartTime\": 1669357085.2244194, \"EndTime\": 1669357085.224437, \"Dimensions\": {\"Algorithm\": \"Linear Learner\", \"Host\": \"algo-1\", \"Operation\": \"training\", \"epoch\": 6, \"model\": 9}, \"Metrics\": {\"train_mse_objective\": {\"sum\": 1.0165937042236328, \"count\": 1, \"min\": 1.0165937042236328, \"max\": 1.0165937042236328}}}\u001b[0m\n",
      "\u001b[34m#metrics {\"StartTime\": 1669357085.2244961, \"EndTime\": 1669357085.2245133, \"Dimensions\": {\"Algorithm\": \"Linear Learner\", \"Host\": \"algo-1\", \"Operation\": \"training\", \"epoch\": 6, \"model\": 10}, \"Metrics\": {\"train_mse_objective\": {\"sum\": 0.6669416809082032, \"count\": 1, \"min\": 0.6669416809082032, \"max\": 0.6669416809082032}}}\u001b[0m\n",
      "\u001b[34m#metrics {\"StartTime\": 1669357085.2245684, \"EndTime\": 1669357085.224585, \"Dimensions\": {\"Algorithm\": \"Linear Learner\", \"Host\": \"algo-1\", \"Operation\": \"training\", \"epoch\": 6, \"model\": 11}, \"Metrics\": {\"train_mse_objective\": {\"sum\": 0.8276795959472656, \"count\": 1, \"min\": 0.8276795959472656, \"max\": 0.8276795959472656}}}\u001b[0m\n",
      "\u001b[34m#metrics {\"StartTime\": 1669357085.2246356, \"EndTime\": 1669357085.2246516, \"Dimensions\": {\"Algorithm\": \"Linear Learner\", \"Host\": \"algo-1\", \"Operation\": \"training\", \"epoch\": 6, \"model\": 12}, \"Metrics\": {\"train_mse_objective\": {\"sum\": 0.41409198760986327, \"count\": 1, \"min\": 0.41409198760986327, \"max\": 0.41409198760986327}}}\u001b[0m\n",
      "\u001b[34m#metrics {\"StartTime\": 1669357085.2247052, \"EndTime\": 1669357085.2247214, \"Dimensions\": {\"Algorithm\": \"Linear Learner\", \"Host\": \"algo-1\", \"Operation\": \"training\", \"epoch\": 6, \"model\": 13}, \"Metrics\": {\"train_mse_objective\": {\"sum\": 0.409191780090332, \"count\": 1, \"min\": 0.409191780090332, \"max\": 0.409191780090332}}}\u001b[0m\n",
      "\u001b[34m#metrics {\"StartTime\": 1669357085.2247806, \"EndTime\": 1669357085.2247977, \"Dimensions\": {\"Algorithm\": \"Linear Learner\", \"Host\": \"algo-1\", \"Operation\": \"training\", \"epoch\": 6, \"model\": 14}, \"Metrics\": {\"train_mse_objective\": {\"sum\": 0.39956050872802734, \"count\": 1, \"min\": 0.39956050872802734, \"max\": 0.39956050872802734}}}\u001b[0m\n",
      "\u001b[34m#metrics {\"StartTime\": 1669357085.2248456, \"EndTime\": 1669357085.2248614, \"Dimensions\": {\"Algorithm\": \"Linear Learner\", \"Host\": \"algo-1\", \"Operation\": \"training\", \"epoch\": 6, \"model\": 15}, \"Metrics\": {\"train_mse_objective\": {\"sum\": 0.4099138259887695, \"count\": 1, \"min\": 0.4099138259887695, \"max\": 0.4099138259887695}}}\u001b[0m\n",
      "\u001b[34m#metrics {\"StartTime\": 1669357085.2249055, \"EndTime\": 1669357085.22492, \"Dimensions\": {\"Algorithm\": \"Linear Learner\", \"Host\": \"algo-1\", \"Operation\": \"training\", \"epoch\": 6, \"model\": 16}, \"Metrics\": {\"train_mse_objective\": {\"sum\": 0.7555429077148438, \"count\": 1, \"min\": 0.7555429077148438, \"max\": 0.7555429077148438}}}\u001b[0m\n",
      "\u001b[34m#metrics {\"StartTime\": 1669357085.2249825, \"EndTime\": 1669357085.2250009, \"Dimensions\": {\"Algorithm\": \"Linear Learner\", \"Host\": \"algo-1\", \"Operation\": \"training\", \"epoch\": 6, \"model\": 17}, \"Metrics\": {\"train_mse_objective\": {\"sum\": 0.6584275817871094, \"count\": 1, \"min\": 0.6584275817871094, \"max\": 0.6584275817871094}}}\u001b[0m\n",
      "\u001b[34m#metrics {\"StartTime\": 1669357085.225047, \"EndTime\": 1669357085.2250612, \"Dimensions\": {\"Algorithm\": \"Linear Learner\", \"Host\": \"algo-1\", \"Operation\": \"training\", \"epoch\": 6, \"model\": 18}, \"Metrics\": {\"train_mse_objective\": {\"sum\": 0.917025375366211, \"count\": 1, \"min\": 0.917025375366211, \"max\": 0.917025375366211}}}\u001b[0m\n",
      "\u001b[34m#metrics {\"StartTime\": 1669357085.2251132, \"EndTime\": 1669357085.2251298, \"Dimensions\": {\"Algorithm\": \"Linear Learner\", \"Host\": \"algo-1\", \"Operation\": \"training\", \"epoch\": 6, \"model\": 19}, \"Metrics\": {\"train_mse_objective\": {\"sum\": 0.7581983184814454, \"count\": 1, \"min\": 0.7581983184814454, \"max\": 0.7581983184814454}}}\u001b[0m\n",
      "\u001b[34m#metrics {\"StartTime\": 1669357085.2251847, \"EndTime\": 1669357085.2252007, \"Dimensions\": {\"Algorithm\": \"Linear Learner\", \"Host\": \"algo-1\", \"Operation\": \"training\", \"epoch\": 6, \"model\": 20}, \"Metrics\": {\"train_mse_objective\": {\"sum\": 0.388167610168457, \"count\": 1, \"min\": 0.388167610168457, \"max\": 0.388167610168457}}}\u001b[0m\n",
      "\u001b[34m#metrics {\"StartTime\": 1669357085.2252495, \"EndTime\": 1669357085.2252657, \"Dimensions\": {\"Algorithm\": \"Linear Learner\", \"Host\": \"algo-1\", \"Operation\": \"training\", \"epoch\": 6, \"model\": 21}, \"Metrics\": {\"train_mse_objective\": {\"sum\": 0.5448689651489258, \"count\": 1, \"min\": 0.5448689651489258, \"max\": 0.5448689651489258}}}\u001b[0m\n",
      "\u001b[34m#metrics {\"StartTime\": 1669357085.2253141, \"EndTime\": 1669357085.2253292, \"Dimensions\": {\"Algorithm\": \"Linear Learner\", \"Host\": \"algo-1\", \"Operation\": \"training\", \"epoch\": 6, \"model\": 22}, \"Metrics\": {\"train_mse_objective\": {\"sum\": 0.40737903594970704, \"count\": 1, \"min\": 0.40737903594970704, \"max\": 0.40737903594970704}}}\u001b[0m\n",
      "\u001b[34m#metrics {\"StartTime\": 1669357085.2253945, \"EndTime\": 1669357085.2254133, \"Dimensions\": {\"Algorithm\": \"Linear Learner\", \"Host\": \"algo-1\", \"Operation\": \"training\", \"epoch\": 6, \"model\": 23}, \"Metrics\": {\"train_mse_objective\": {\"sum\": 0.41811088562011717, \"count\": 1, \"min\": 0.41811088562011717, \"max\": 0.41811088562011717}}}\u001b[0m\n",
      "\u001b[34m#metrics {\"StartTime\": 1669357085.2254581, \"EndTime\": 1669357085.2254732, \"Dimensions\": {\"Algorithm\": \"Linear Learner\", \"Host\": \"algo-1\", \"Operation\": \"training\", \"epoch\": 6, \"model\": 24}, \"Metrics\": {\"train_mse_objective\": {\"sum\": 0.9637016296386719, \"count\": 1, \"min\": 0.9637016296386719, \"max\": 0.9637016296386719}}}\u001b[0m\n",
      "\u001b[34m#metrics {\"StartTime\": 1669357085.2255256, \"EndTime\": 1669357085.2255418, \"Dimensions\": {\"Algorithm\": \"Linear Learner\", \"Host\": \"algo-1\", \"Operation\": \"training\", \"epoch\": 6, \"model\": 25}, \"Metrics\": {\"train_mse_objective\": {\"sum\": 0.9614193725585938, \"count\": 1, \"min\": 0.9614193725585938, \"max\": 0.9614193725585938}}}\u001b[0m\n",
      "\u001b[34m#metrics {\"StartTime\": 1669357085.225589, \"EndTime\": 1669357085.2256048, \"Dimensions\": {\"Algorithm\": \"Linear Learner\", \"Host\": \"algo-1\", \"Operation\": \"training\", \"epoch\": 6, \"model\": 26}, \"Metrics\": {\"train_mse_objective\": {\"sum\": 1.0112488555908203, \"count\": 1, \"min\": 1.0112488555908203, \"max\": 1.0112488555908203}}}\u001b[0m\n",
      "\u001b[34m#metrics {\"StartTime\": 1669357085.2256567, \"EndTime\": 1669357085.2256737, \"Dimensions\": {\"Algorithm\": \"Linear Learner\", \"Host\": \"algo-1\", \"Operation\": \"training\", \"epoch\": 6, \"model\": 27}, \"Metrics\": {\"train_mse_objective\": {\"sum\": 1.0254361724853516, \"count\": 1, \"min\": 1.0254361724853516, \"max\": 1.0254361724853516}}}\u001b[0m\n",
      "\u001b[34m#metrics {\"StartTime\": 1669357085.2257288, \"EndTime\": 1669357085.2257447, \"Dimensions\": {\"Algorithm\": \"Linear Learner\", \"Host\": \"algo-1\", \"Operation\": \"training\", \"epoch\": 6, \"model\": 28}, \"Metrics\": {\"train_mse_objective\": {\"sum\": 1.0468724822998048, \"count\": 1, \"min\": 1.0468724822998048, \"max\": 1.0468724822998048}}}\u001b[0m\n",
      "\u001b[34m#metrics {\"StartTime\": 1669357085.225796, \"EndTime\": 1669357085.225812, \"Dimensions\": {\"Algorithm\": \"Linear Learner\", \"Host\": \"algo-1\", \"Operation\": \"training\", \"epoch\": 6, \"model\": 29}, \"Metrics\": {\"train_mse_objective\": {\"sum\": 1.0251195526123047, \"count\": 1, \"min\": 1.0251195526123047, \"max\": 1.0251195526123047}}}\u001b[0m\n",
      "\u001b[34m#metrics {\"StartTime\": 1669357085.2258735, \"EndTime\": 1669357085.2258897, \"Dimensions\": {\"Algorithm\": \"Linear Learner\", \"Host\": \"algo-1\", \"Operation\": \"training\", \"epoch\": 6, \"model\": 30}, \"Metrics\": {\"train_mse_objective\": {\"sum\": 1.1144586944580077, \"count\": 1, \"min\": 1.1144586944580077, \"max\": 1.1144586944580077}}}\u001b[0m\n",
      "\u001b[34m#metrics {\"StartTime\": 1669357085.2259438, \"EndTime\": 1669357085.2259603, \"Dimensions\": {\"Algorithm\": \"Linear Learner\", \"Host\": \"algo-1\", \"Operation\": \"training\", \"epoch\": 6, \"model\": 31}, \"Metrics\": {\"train_mse_objective\": {\"sum\": 1.067471923828125, \"count\": 1, \"min\": 1.067471923828125, \"max\": 1.067471923828125}}}\u001b[0m\n",
      "\u001b[34m[11/25/2022 06:18:05 INFO 140704388560704] #quality_metric: host=algo-1, epoch=6, train mse_objective <loss>=0.6933890533447266\u001b[0m\n",
      "\u001b[34m#metrics {\"StartTime\": 1669357085.2825637, \"EndTime\": 1669357085.282618, \"Dimensions\": {\"Algorithm\": \"Linear Learner\", \"Host\": \"algo-1\", \"Operation\": \"training\", \"epoch\": 6, \"model\": 0}, \"Metrics\": {\"validation_mse_objective\": {\"sum\": 53.70890590122768, \"count\": 1, \"min\": 53.70890590122768, \"max\": 53.70890590122768}}}\u001b[0m\n",
      "\u001b[34m#metrics {\"StartTime\": 1669357085.2827005, \"EndTime\": 1669357085.2827146, \"Dimensions\": {\"Algorithm\": \"Linear Learner\", \"Host\": \"algo-1\", \"Operation\": \"training\", \"epoch\": 6, \"model\": 1}, \"Metrics\": {\"validation_mse_objective\": {\"sum\": 51.878731863839285, \"count\": 1, \"min\": 51.878731863839285, \"max\": 51.878731863839285}}}\u001b[0m\n",
      "\u001b[34m#metrics {\"StartTime\": 1669357085.2827685, \"EndTime\": 1669357085.282781, \"Dimensions\": {\"Algorithm\": \"Linear Learner\", \"Host\": \"algo-1\", \"Operation\": \"training\", \"epoch\": 6, \"model\": 2}, \"Metrics\": {\"validation_mse_objective\": {\"sum\": 74.18660191127232, \"count\": 1, \"min\": 74.18660191127232, \"max\": 74.18660191127232}}}\u001b[0m\n",
      "\u001b[34m#metrics {\"StartTime\": 1669357085.2828214, \"EndTime\": 1669357085.2828367, \"Dimensions\": {\"Algorithm\": \"Linear Learner\", \"Host\": \"algo-1\", \"Operation\": \"training\", \"epoch\": 6, \"model\": 3}, \"Metrics\": {\"validation_mse_objective\": {\"sum\": 50.901175362723215, \"count\": 1, \"min\": 50.901175362723215, \"max\": 50.901175362723215}}}\u001b[0m\n",
      "\u001b[34m#metrics {\"StartTime\": 1669357085.2828994, \"EndTime\": 1669357085.2829168, \"Dimensions\": {\"Algorithm\": \"Linear Learner\", \"Host\": \"algo-1\", \"Operation\": \"training\", \"epoch\": 6, \"model\": 4}, \"Metrics\": {\"validation_mse_objective\": {\"sum\": 29.12937491280692, \"count\": 1, \"min\": 29.12937491280692, \"max\": 29.12937491280692}}}\u001b[0m\n",
      "\u001b[34m#metrics {\"StartTime\": 1669357085.282979, \"EndTime\": 1669357085.2829964, \"Dimensions\": {\"Algorithm\": \"Linear Learner\", \"Host\": \"algo-1\", \"Operation\": \"training\", \"epoch\": 6, \"model\": 5}, \"Metrics\": {\"validation_mse_objective\": {\"sum\": 39.882799421037944, \"count\": 1, \"min\": 39.882799421037944, \"max\": 39.882799421037944}}}\u001b[0m\n",
      "\u001b[34m#metrics {\"StartTime\": 1669357085.283048, \"EndTime\": 1669357085.2830648, \"Dimensions\": {\"Algorithm\": \"Linear Learner\", \"Host\": \"algo-1\", \"Operation\": \"training\", \"epoch\": 6, \"model\": 6}, \"Metrics\": {\"validation_mse_objective\": {\"sum\": 39.746045793805806, \"count\": 1, \"min\": 39.746045793805806, \"max\": 39.746045793805806}}}\u001b[0m\n",
      "\u001b[34m#metrics {\"StartTime\": 1669357085.2831168, \"EndTime\": 1669357085.283128, \"Dimensions\": {\"Algorithm\": \"Linear Learner\", \"Host\": \"algo-1\", \"Operation\": \"training\", \"epoch\": 6, \"model\": 7}, \"Metrics\": {\"validation_mse_objective\": {\"sum\": 39.197601318359375, \"count\": 1, \"min\": 39.197601318359375, \"max\": 39.197601318359375}}}\u001b[0m\n",
      "\u001b[34m#metrics {\"StartTime\": 1669357085.2831755, \"EndTime\": 1669357085.2831912, \"Dimensions\": {\"Algorithm\": \"Linear Learner\", \"Host\": \"algo-1\", \"Operation\": \"training\", \"epoch\": 6, \"model\": 8}, \"Metrics\": {\"validation_mse_objective\": {\"sum\": 57.680568150111604, \"count\": 1, \"min\": 57.680568150111604, \"max\": 57.680568150111604}}}\u001b[0m\n",
      "\u001b[34m#metrics {\"StartTime\": 1669357085.2832503, \"EndTime\": 1669357085.283267, \"Dimensions\": {\"Algorithm\": \"Linear Learner\", \"Host\": \"algo-1\", \"Operation\": \"training\", \"epoch\": 6, \"model\": 9}, \"Metrics\": {\"validation_mse_objective\": {\"sum\": 78.7879638671875, \"count\": 1, \"min\": 78.7879638671875, \"max\": 78.7879638671875}}}\u001b[0m\n",
      "\u001b[34m#metrics {\"StartTime\": 1669357085.283317, \"EndTime\": 1669357085.2833335, \"Dimensions\": {\"Algorithm\": \"Linear Learner\", \"Host\": \"algo-1\", \"Operation\": \"training\", \"epoch\": 6, \"model\": 10}, \"Metrics\": {\"validation_mse_objective\": {\"sum\": 53.73839896065848, \"count\": 1, \"min\": 53.73839896065848, \"max\": 53.73839896065848}}}\u001b[0m\n",
      "\u001b[34m#metrics {\"StartTime\": 1669357085.283394, \"EndTime\": 1669357085.2834122, \"Dimensions\": {\"Algorithm\": \"Linear Learner\", \"Host\": \"algo-1\", \"Operation\": \"training\", \"epoch\": 6, \"model\": 11}, \"Metrics\": {\"validation_mse_objective\": {\"sum\": 64.96580723353794, \"count\": 1, \"min\": 64.96580723353794, \"max\": 64.96580723353794}}}\u001b[0m\n",
      "\u001b[34m#metrics {\"StartTime\": 1669357085.2834792, \"EndTime\": 1669357085.2834961, \"Dimensions\": {\"Algorithm\": \"Linear Learner\", \"Host\": \"algo-1\", \"Operation\": \"training\", \"epoch\": 6, \"model\": 12}, \"Metrics\": {\"validation_mse_objective\": {\"sum\": 35.03652736118862, \"count\": 1, \"min\": 35.03652736118862, \"max\": 35.03652736118862}}}\u001b[0m\n",
      "\u001b[34m#metrics {\"StartTime\": 1669357085.2835648, \"EndTime\": 1669357085.283583, \"Dimensions\": {\"Algorithm\": \"Linear Learner\", \"Host\": \"algo-1\", \"Operation\": \"training\", \"epoch\": 6, \"model\": 13}, \"Metrics\": {\"validation_mse_objective\": {\"sum\": 32.482940673828125, \"count\": 1, \"min\": 32.482940673828125, \"max\": 32.482940673828125}}}\u001b[0m\n",
      "\u001b[34m#metrics {\"StartTime\": 1669357085.2836416, \"EndTime\": 1669357085.2836566, \"Dimensions\": {\"Algorithm\": \"Linear Learner\", \"Host\": \"algo-1\", \"Operation\": \"training\", \"epoch\": 6, \"model\": 14}, \"Metrics\": {\"validation_mse_objective\": {\"sum\": 31.535840715680802, \"count\": 1, \"min\": 31.535840715680802, \"max\": 31.535840715680802}}}\u001b[0m\n",
      "\u001b[34m#metrics {\"StartTime\": 1669357085.2837086, \"EndTime\": 1669357085.2837267, \"Dimensions\": {\"Algorithm\": \"Linear Learner\", \"Host\": \"algo-1\", \"Operation\": \"training\", \"epoch\": 6, \"model\": 15}, \"Metrics\": {\"validation_mse_objective\": {\"sum\": 39.416111537388396, \"count\": 1, \"min\": 39.416111537388396, \"max\": 39.416111537388396}}}\u001b[0m\n",
      "\u001b[34m#metrics {\"StartTime\": 1669357085.2837765, \"EndTime\": 1669357085.283787, \"Dimensions\": {\"Algorithm\": \"Linear Learner\", \"Host\": \"algo-1\", \"Operation\": \"training\", \"epoch\": 6, \"model\": 16}, \"Metrics\": {\"validation_mse_objective\": {\"sum\": 59.17714582170759, \"count\": 1, \"min\": 59.17714582170759, \"max\": 59.17714582170759}}}\u001b[0m\n",
      "\u001b[34m#metrics {\"StartTime\": 1669357085.2838342, \"EndTime\": 1669357085.2838497, \"Dimensions\": {\"Algorithm\": \"Linear Learner\", \"Host\": \"algo-1\", \"Operation\": \"training\", \"epoch\": 6, \"model\": 17}, \"Metrics\": {\"validation_mse_objective\": {\"sum\": 52.50728498186384, \"count\": 1, \"min\": 52.50728498186384, \"max\": 52.50728498186384}}}\u001b[0m\n",
      "\u001b[34m#metrics {\"StartTime\": 1669357085.2839289, \"EndTime\": 1669357085.2839465, \"Dimensions\": {\"Algorithm\": \"Linear Learner\", \"Host\": \"algo-1\", \"Operation\": \"training\", \"epoch\": 6, \"model\": 18}, \"Metrics\": {\"validation_mse_objective\": {\"sum\": 73.290771484375, \"count\": 1, \"min\": 73.290771484375, \"max\": 73.290771484375}}}\u001b[0m\n",
      "\u001b[34m#metrics {\"StartTime\": 1669357085.284001, \"EndTime\": 1669357085.2840185, \"Dimensions\": {\"Algorithm\": \"Linear Learner\", \"Host\": \"algo-1\", \"Operation\": \"training\", \"epoch\": 6, \"model\": 19}, \"Metrics\": {\"validation_mse_objective\": {\"sum\": 61.822596958705354, \"count\": 1, \"min\": 61.822596958705354, \"max\": 61.822596958705354}}}\u001b[0m\n",
      "\u001b[34m#metrics {\"StartTime\": 1669357085.2840707, \"EndTime\": 1669357085.284087, \"Dimensions\": {\"Algorithm\": \"Linear Learner\", \"Host\": \"algo-1\", \"Operation\": \"training\", \"epoch\": 6, \"model\": 20}, \"Metrics\": {\"validation_mse_objective\": {\"sum\": 21.83195059640067, \"count\": 1, \"min\": 21.83195059640067, \"max\": 21.83195059640067}}}\u001b[0m\n",
      "\u001b[34m#metrics {\"StartTime\": 1669357085.2841406, \"EndTime\": 1669357085.2841575, \"Dimensions\": {\"Algorithm\": \"Linear Learner\", \"Host\": \"algo-1\", \"Operation\": \"training\", \"epoch\": 6, \"model\": 21}, \"Metrics\": {\"validation_mse_objective\": {\"sum\": 40.084769112723215, \"count\": 1, \"min\": 40.084769112723215, \"max\": 40.084769112723215}}}\u001b[0m\n",
      "\u001b[34m#metrics {\"StartTime\": 1669357085.2842, \"EndTime\": 1669357085.2842145, \"Dimensions\": {\"Algorithm\": \"Linear Learner\", \"Host\": \"algo-1\", \"Operation\": \"training\", \"epoch\": 6, \"model\": 22}, \"Metrics\": {\"validation_mse_objective\": {\"sum\": 22.340083530970983, \"count\": 1, \"min\": 22.340083530970983, \"max\": 22.340083530970983}}}\u001b[0m\n",
      "\u001b[34m#metrics {\"StartTime\": 1669357085.2842693, \"EndTime\": 1669357085.2842863, \"Dimensions\": {\"Algorithm\": \"Linear Learner\", \"Host\": \"algo-1\", \"Operation\": \"training\", \"epoch\": 6, \"model\": 23}, \"Metrics\": {\"validation_mse_objective\": {\"sum\": 22.433415004185267, \"count\": 1, \"min\": 22.433415004185267, \"max\": 22.433415004185267}}}\u001b[0m\n",
      "\u001b[34m#metrics {\"StartTime\": 1669357085.284332, \"EndTime\": 1669357085.2843473, \"Dimensions\": {\"Algorithm\": \"Linear Learner\", \"Host\": \"algo-1\", \"Operation\": \"training\", \"epoch\": 6, \"model\": 24}, \"Metrics\": {\"validation_mse_objective\": {\"sum\": 79.71172223772321, \"count\": 1, \"min\": 79.71172223772321, \"max\": 79.71172223772321}}}\u001b[0m\n",
      "\u001b[34m#metrics {\"StartTime\": 1669357085.2843983, \"EndTime\": 1669357085.2844138, \"Dimensions\": {\"Algorithm\": \"Linear Learner\", \"Host\": \"algo-1\", \"Operation\": \"training\", \"epoch\": 6, \"model\": 25}, \"Metrics\": {\"validation_mse_objective\": {\"sum\": 78.88827950613839, \"count\": 1, \"min\": 78.88827950613839, \"max\": 78.88827950613839}}}\u001b[0m\n",
      "\u001b[34m#metrics {\"StartTime\": 1669357085.284463, \"EndTime\": 1669357085.2844787, \"Dimensions\": {\"Algorithm\": \"Linear Learner\", \"Host\": \"algo-1\", \"Operation\": \"training\", \"epoch\": 6, \"model\": 26}, \"Metrics\": {\"validation_mse_objective\": {\"sum\": 80.92504010881696, \"count\": 1, \"min\": 80.92504010881696, \"max\": 80.92504010881696}}}\u001b[0m\n",
      "\u001b[34m#metrics {\"StartTime\": 1669357085.284531, \"EndTime\": 1669357085.2845473, \"Dimensions\": {\"Algorithm\": \"Linear Learner\", \"Host\": \"algo-1\", \"Operation\": \"training\", \"epoch\": 6, \"model\": 27}, \"Metrics\": {\"validation_mse_objective\": {\"sum\": 82.27477155412946, \"count\": 1, \"min\": 82.27477155412946, \"max\": 82.27477155412946}}}\u001b[0m\n",
      "\u001b[34m#metrics {\"StartTime\": 1669357085.2846098, \"EndTime\": 1669357085.2846253, \"Dimensions\": {\"Algorithm\": \"Linear Learner\", \"Host\": \"algo-1\", \"Operation\": \"training\", \"epoch\": 6, \"model\": 28}, \"Metrics\": {\"validation_mse_objective\": {\"sum\": 81.19886125837054, \"count\": 1, \"min\": 81.19886125837054, \"max\": 81.19886125837054}}}\u001b[0m\n",
      "\u001b[34m#metrics {\"StartTime\": 1669357085.284658, \"EndTime\": 1669357085.2846665, \"Dimensions\": {\"Algorithm\": \"Linear Learner\", \"Host\": \"algo-1\", \"Operation\": \"training\", \"epoch\": 6, \"model\": 29}, \"Metrics\": {\"validation_mse_objective\": {\"sum\": 87.88240269252232, \"count\": 1, \"min\": 87.88240269252232, \"max\": 87.88240269252232}}}\u001b[0m\n",
      "\u001b[34m#metrics {\"StartTime\": 1669357085.2846994, \"EndTime\": 1669357085.2847137, \"Dimensions\": {\"Algorithm\": \"Linear Learner\", \"Host\": \"algo-1\", \"Operation\": \"training\", \"epoch\": 6, \"model\": 30}, \"Metrics\": {\"validation_mse_objective\": {\"sum\": 83.13975306919643, \"count\": 1, \"min\": 83.13975306919643, \"max\": 83.13975306919643}}}\u001b[0m\n",
      "\u001b[34m#metrics {\"StartTime\": 1669357085.284759, \"EndTime\": 1669357085.2847698, \"Dimensions\": {\"Algorithm\": \"Linear Learner\", \"Host\": \"algo-1\", \"Operation\": \"training\", \"epoch\": 6, \"model\": 31}, \"Metrics\": {\"validation_mse_objective\": {\"sum\": 78.36996023995536, \"count\": 1, \"min\": 78.36996023995536, \"max\": 78.36996023995536}}}\u001b[0m\n",
      "\u001b[34m[11/25/2022 06:18:05 INFO 140704388560704] #quality_metric: host=algo-1, epoch=6, validation mse_objective <loss>=53.70890590122768\u001b[0m\n",
      "\u001b[34m[11/25/2022 06:18:05 INFO 140704388560704] #early_stopping_criteria_metric: host=algo-1, epoch=6, criteria=mse_objective, value=21.83195059640067\u001b[0m\n",
      "\u001b[34m[11/25/2022 06:18:05 INFO 140704388560704] Epoch 6: Loss improved. Updating best model\u001b[0m\n",
      "\u001b[34m[11/25/2022 06:18:05 INFO 140704388560704] Saving model for epoch: 6\u001b[0m\n",
      "\u001b[34m[11/25/2022 06:18:05 INFO 140704388560704] Saved checkpoint to \"/tmp/tmpuz141y9q/mx-mod-0000.params\"\u001b[0m\n",
      "\u001b[34m[11/25/2022 06:18:05 INFO 140704388560704] #progress_metric: host=algo-1, completed 46.666666666666664 % of epochs\u001b[0m\n",
      "\u001b[34m#metrics {\"StartTime\": 1669357085.190797, \"EndTime\": 1669357085.291669, \"Dimensions\": {\"Algorithm\": \"Linear Learner\", \"Host\": \"algo-1\", \"Operation\": \"training\", \"epoch\": 6, \"Meta\": \"training_data_iter\"}, \"Metrics\": {\"Total Records Seen\": {\"sum\": 2016.0, \"count\": 1, \"min\": 2016, \"max\": 2016}, \"Total Batches Seen\": {\"sum\": 17.0, \"count\": 1, \"min\": 17, \"max\": 17}, \"Max Records Seen Between Resets\": {\"sum\": 227.0, \"count\": 1, \"min\": 227, \"max\": 227}, \"Max Batches Seen Between Resets\": {\"sum\": 2.0, \"count\": 1, \"min\": 2, \"max\": 2}, \"Reset Count\": {\"sum\": 9.0, \"count\": 1, \"min\": 9, \"max\": 9}, \"Number of Records Since Last Reset\": {\"sum\": 227.0, \"count\": 1, \"min\": 227, \"max\": 227}, \"Number of Batches Since Last Reset\": {\"sum\": 2.0, \"count\": 1, \"min\": 2, \"max\": 2}}}\u001b[0m\n",
      "\u001b[34m[11/25/2022 06:18:05 INFO 140704388560704] #throughput_metric: host=algo-1, train throughput=2247.5444040781736 records/second\u001b[0m\n",
      "\u001b[34m#metrics {\"StartTime\": 1669357085.3204415, \"EndTime\": 1669357085.3204892, \"Dimensions\": {\"Algorithm\": \"Linear Learner\", \"Host\": \"algo-1\", \"Operation\": \"training\", \"epoch\": 7, \"model\": 0}, \"Metrics\": {\"train_mse_objective\": {\"sum\": 0.6618343353271484, \"count\": 1, \"min\": 0.6618343353271484, \"max\": 0.6618343353271484}}}\u001b[0m\n",
      "\u001b[34m#metrics {\"StartTime\": 1669357085.3205566, \"EndTime\": 1669357085.3205762, \"Dimensions\": {\"Algorithm\": \"Linear Learner\", \"Host\": \"algo-1\", \"Operation\": \"training\", \"epoch\": 7, \"model\": 1}, \"Metrics\": {\"train_mse_objective\": {\"sum\": 0.6335835647583008, \"count\": 1, \"min\": 0.6335835647583008, \"max\": 0.6335835647583008}}}\u001b[0m\n",
      "\u001b[34m#metrics {\"StartTime\": 1669357085.3206356, \"EndTime\": 1669357085.3206542, \"Dimensions\": {\"Algorithm\": \"Linear Learner\", \"Host\": \"algo-1\", \"Operation\": \"training\", \"epoch\": 7, \"model\": 2}, \"Metrics\": {\"train_mse_objective\": {\"sum\": 0.909478759765625, \"count\": 1, \"min\": 0.909478759765625, \"max\": 0.909478759765625}}}\u001b[0m\n",
      "\u001b[34m#metrics {\"StartTime\": 1669357085.3207111, \"EndTime\": 1669357085.3207276, \"Dimensions\": {\"Algorithm\": \"Linear Learner\", \"Host\": \"algo-1\", \"Operation\": \"training\", \"epoch\": 7, \"model\": 3}, \"Metrics\": {\"train_mse_objective\": {\"sum\": 0.6207978439331054, \"count\": 1, \"min\": 0.6207978439331054, \"max\": 0.6207978439331054}}}\u001b[0m\n",
      "\u001b[34m#metrics {\"StartTime\": 1669357085.3207815, \"EndTime\": 1669357085.3207996, \"Dimensions\": {\"Algorithm\": \"Linear Learner\", \"Host\": \"algo-1\", \"Operation\": \"training\", \"epoch\": 7, \"model\": 4}, \"Metrics\": {\"train_mse_objective\": {\"sum\": 0.30291242599487306, \"count\": 1, \"min\": 0.30291242599487306, \"max\": 0.30291242599487306}}}\u001b[0m\n",
      "\u001b[34m#metrics {\"StartTime\": 1669357085.3208678, \"EndTime\": 1669357085.3208866, \"Dimensions\": {\"Algorithm\": \"Linear Learner\", \"Host\": \"algo-1\", \"Operation\": \"training\", \"epoch\": 7, \"model\": 5}, \"Metrics\": {\"train_mse_objective\": {\"sum\": 0.42623779296875, \"count\": 1, \"min\": 0.42623779296875, \"max\": 0.42623779296875}}}\u001b[0m\n",
      "\u001b[34m#metrics {\"StartTime\": 1669357085.3209407, \"EndTime\": 1669357085.3209577, \"Dimensions\": {\"Algorithm\": \"Linear Learner\", \"Host\": \"algo-1\", \"Operation\": \"training\", \"epoch\": 7, \"model\": 6}, \"Metrics\": {\"train_mse_objective\": {\"sum\": 0.41457572937011716, \"count\": 1, \"min\": 0.41457572937011716, \"max\": 0.41457572937011716}}}\u001b[0m\n",
      "\u001b[34m#metrics {\"StartTime\": 1669357085.3210082, \"EndTime\": 1669357085.3210237, \"Dimensions\": {\"Algorithm\": \"Linear Learner\", \"Host\": \"algo-1\", \"Operation\": \"training\", \"epoch\": 7, \"model\": 7}, \"Metrics\": {\"train_mse_objective\": {\"sum\": 0.3983279800415039, \"count\": 1, \"min\": 0.3983279800415039, \"max\": 0.3983279800415039}}}\u001b[0m\n",
      "\u001b[34m#metrics {\"StartTime\": 1669357085.3210757, \"EndTime\": 1669357085.3210917, \"Dimensions\": {\"Algorithm\": \"Linear Learner\", \"Host\": \"algo-1\", \"Operation\": \"training\", \"epoch\": 7, \"model\": 8}, \"Metrics\": {\"train_mse_objective\": {\"sum\": 0.6876387023925781, \"count\": 1, \"min\": 0.6876387023925781, \"max\": 0.6876387023925781}}}\u001b[0m\n",
      "\u001b[34m#metrics {\"StartTime\": 1669357085.321144, \"EndTime\": 1669357085.3211613, \"Dimensions\": {\"Algorithm\": \"Linear Learner\", \"Host\": \"algo-1\", \"Operation\": \"training\", \"epoch\": 7, \"model\": 9}, \"Metrics\": {\"train_mse_objective\": {\"sum\": 0.9610004425048828, \"count\": 1, \"min\": 0.9610004425048828, \"max\": 0.9610004425048828}}}\u001b[0m\n",
      "\u001b[34m#metrics {\"StartTime\": 1669357085.321231, \"EndTime\": 1669357085.3212488, \"Dimensions\": {\"Algorithm\": \"Linear Learner\", \"Host\": \"algo-1\", \"Operation\": \"training\", \"epoch\": 7, \"model\": 10}, \"Metrics\": {\"train_mse_objective\": {\"sum\": 0.6458081817626953, \"count\": 1, \"min\": 0.6458081817626953, \"max\": 0.6458081817626953}}}\u001b[0m\n",
      "\u001b[34m#metrics {\"StartTime\": 1669357085.321305, \"EndTime\": 1669357085.3213212, \"Dimensions\": {\"Algorithm\": \"Linear Learner\", \"Host\": \"algo-1\", \"Operation\": \"training\", \"epoch\": 7, \"model\": 11}, \"Metrics\": {\"train_mse_objective\": {\"sum\": 0.7903584289550781, \"count\": 1, \"min\": 0.7903584289550781, \"max\": 0.7903584289550781}}}\u001b[0m\n",
      "\u001b[34m#metrics {\"StartTime\": 1669357085.3213534, \"EndTime\": 1669357085.3213625, \"Dimensions\": {\"Algorithm\": \"Linear Learner\", \"Host\": \"algo-1\", \"Operation\": \"training\", \"epoch\": 7, \"model\": 12}, \"Metrics\": {\"train_mse_objective\": {\"sum\": 0.366253547668457, \"count\": 1, \"min\": 0.366253547668457, \"max\": 0.366253547668457}}}\u001b[0m\n",
      "\u001b[34m#metrics {\"StartTime\": 1669357085.3213887, \"EndTime\": 1669357085.3214023, \"Dimensions\": {\"Algorithm\": \"Linear Learner\", \"Host\": \"algo-1\", \"Operation\": \"training\", \"epoch\": 7, \"model\": 13}, \"Metrics\": {\"train_mse_objective\": {\"sum\": 0.3485774230957031, \"count\": 1, \"min\": 0.3485774230957031, \"max\": 0.3485774230957031}}}\u001b[0m\n",
      "\u001b[34m#metrics {\"StartTime\": 1669357085.3214595, \"EndTime\": 1669357085.3214705, \"Dimensions\": {\"Algorithm\": \"Linear Learner\", \"Host\": \"algo-1\", \"Operation\": \"training\", \"epoch\": 7, \"model\": 14}, \"Metrics\": {\"train_mse_objective\": {\"sum\": 0.3170423889160156, \"count\": 1, \"min\": 0.3170423889160156, \"max\": 0.3170423889160156}}}\u001b[0m\n",
      "\u001b[34m#metrics {\"StartTime\": 1669357085.3215237, \"EndTime\": 1669357085.3215358, \"Dimensions\": {\"Algorithm\": \"Linear Learner\", \"Host\": \"algo-1\", \"Operation\": \"training\", \"epoch\": 7, \"model\": 15}, \"Metrics\": {\"train_mse_objective\": {\"sum\": 0.4061661529541016, \"count\": 1, \"min\": 0.4061661529541016, \"max\": 0.4061661529541016}}}\u001b[0m\n",
      "\u001b[34m#metrics {\"StartTime\": 1669357085.321597, \"EndTime\": 1669357085.3216145, \"Dimensions\": {\"Algorithm\": \"Linear Learner\", \"Host\": \"algo-1\", \"Operation\": \"training\", \"epoch\": 7, \"model\": 16}, \"Metrics\": {\"train_mse_objective\": {\"sum\": 0.7222396087646484, \"count\": 1, \"min\": 0.7222396087646484, \"max\": 0.7222396087646484}}}\u001b[0m\n",
      "\u001b[34m#metrics {\"StartTime\": 1669357085.3216696, \"EndTime\": 1669357085.3216853, \"Dimensions\": {\"Algorithm\": \"Linear Learner\", \"Host\": \"algo-1\", \"Operation\": \"training\", \"epoch\": 7, \"model\": 17}, \"Metrics\": {\"train_mse_objective\": {\"sum\": 0.635052604675293, \"count\": 1, \"min\": 0.635052604675293, \"max\": 0.635052604675293}}}\u001b[0m\n",
      "\u001b[34m#metrics {\"StartTime\": 1669357085.3217473, \"EndTime\": 1669357085.321764, \"Dimensions\": {\"Algorithm\": \"Linear Learner\", \"Host\": \"algo-1\", \"Operation\": \"training\", \"epoch\": 7, \"model\": 18}, \"Metrics\": {\"train_mse_objective\": {\"sum\": 0.877664794921875, \"count\": 1, \"min\": 0.877664794921875, \"max\": 0.877664794921875}}}\u001b[0m\n",
      "\u001b[34m#metrics {\"StartTime\": 1669357085.321814, \"EndTime\": 1669357085.32183, \"Dimensions\": {\"Algorithm\": \"Linear Learner\", \"Host\": \"algo-1\", \"Operation\": \"training\", \"epoch\": 7, \"model\": 19}, \"Metrics\": {\"train_mse_objective\": {\"sum\": 0.7267891693115235, \"count\": 1, \"min\": 0.7267891693115235, \"max\": 0.7267891693115235}}}\u001b[0m\n",
      "\u001b[34m#metrics {\"StartTime\": 1669357085.3218803, \"EndTime\": 1669357085.3218958, \"Dimensions\": {\"Algorithm\": \"Linear Learner\", \"Host\": \"algo-1\", \"Operation\": \"training\", \"epoch\": 7, \"model\": 20}, \"Metrics\": {\"train_mse_objective\": {\"sum\": 0.2780963134765625, \"count\": 1, \"min\": 0.2780963134765625, \"max\": 0.2780963134765625}}}\u001b[0m\n",
      "\u001b[34m#metrics {\"StartTime\": 1669357085.3219504, \"EndTime\": 1669357085.3219666, \"Dimensions\": {\"Algorithm\": \"Linear Learner\", \"Host\": \"algo-1\", \"Operation\": \"training\", \"epoch\": 7, \"model\": 21}, \"Metrics\": {\"train_mse_objective\": {\"sum\": 0.4749018096923828, \"count\": 1, \"min\": 0.4749018096923828, \"max\": 0.4749018096923828}}}\u001b[0m\n",
      "\u001b[34m#metrics {\"StartTime\": 1669357085.3220181, \"EndTime\": 1669357085.3220334, \"Dimensions\": {\"Algorithm\": \"Linear Learner\", \"Host\": \"algo-1\", \"Operation\": \"training\", \"epoch\": 7, \"model\": 22}, \"Metrics\": {\"train_mse_objective\": {\"sum\": 0.2923561096191406, \"count\": 1, \"min\": 0.2923561096191406, \"max\": 0.2923561096191406}}}\u001b[0m\n",
      "\u001b[34m#metrics {\"StartTime\": 1669357085.3220963, \"EndTime\": 1669357085.3221135, \"Dimensions\": {\"Algorithm\": \"Linear Learner\", \"Host\": \"algo-1\", \"Operation\": \"training\", \"epoch\": 7, \"model\": 23}, \"Metrics\": {\"train_mse_objective\": {\"sum\": 0.2986372756958008, \"count\": 1, \"min\": 0.2986372756958008, \"max\": 0.2986372756958008}}}\u001b[0m\n",
      "\u001b[34m#metrics {\"StartTime\": 1669357085.3221676, \"EndTime\": 1669357085.3221836, \"Dimensions\": {\"Algorithm\": \"Linear Learner\", \"Host\": \"algo-1\", \"Operation\": \"training\", \"epoch\": 7, \"model\": 24}, \"Metrics\": {\"train_mse_objective\": {\"sum\": 0.9730287170410157, \"count\": 1, \"min\": 0.9730287170410157, \"max\": 0.9730287170410157}}}\u001b[0m\n",
      "\u001b[34m#metrics {\"StartTime\": 1669357085.3222458, \"EndTime\": 1669357085.322263, \"Dimensions\": {\"Algorithm\": \"Linear Learner\", \"Host\": \"algo-1\", \"Operation\": \"training\", \"epoch\": 7, \"model\": 25}, \"Metrics\": {\"train_mse_objective\": {\"sum\": 0.9593831634521485, \"count\": 1, \"min\": 0.9593831634521485, \"max\": 0.9593831634521485}}}\u001b[0m\n",
      "\u001b[34m#metrics {\"StartTime\": 1669357085.3223107, \"EndTime\": 1669357085.3223257, \"Dimensions\": {\"Algorithm\": \"Linear Learner\", \"Host\": \"algo-1\", \"Operation\": \"training\", \"epoch\": 7, \"model\": 26}, \"Metrics\": {\"train_mse_objective\": {\"sum\": 0.9873096466064453, \"count\": 1, \"min\": 0.9873096466064453, \"max\": 0.9873096466064453}}}\u001b[0m\n",
      "\u001b[34m#metrics {\"StartTime\": 1669357085.3223798, \"EndTime\": 1669357085.3223953, \"Dimensions\": {\"Algorithm\": \"Linear Learner\", \"Host\": \"algo-1\", \"Operation\": \"training\", \"epoch\": 7, \"model\": 27}, \"Metrics\": {\"train_mse_objective\": {\"sum\": 1.0014680480957032, \"count\": 1, \"min\": 1.0014680480957032, \"max\": 1.0014680480957032}}}\u001b[0m\n",
      "\u001b[34m#metrics {\"StartTime\": 1669357085.322452, \"EndTime\": 1669357085.3224688, \"Dimensions\": {\"Algorithm\": \"Linear Learner\", \"Host\": \"algo-1\", \"Operation\": \"training\", \"epoch\": 7, \"model\": 28}, \"Metrics\": {\"train_mse_objective\": {\"sum\": 0.9887842559814453, \"count\": 1, \"min\": 0.9887842559814453, \"max\": 0.9887842559814453}}}\u001b[0m\n",
      "\u001b[34m#metrics {\"StartTime\": 1669357085.322524, \"EndTime\": 1669357085.3225398, \"Dimensions\": {\"Algorithm\": \"Linear Learner\", \"Host\": \"algo-1\", \"Operation\": \"training\", \"epoch\": 7, \"model\": 29}, \"Metrics\": {\"train_mse_objective\": {\"sum\": 1.0627254486083983, \"count\": 1, \"min\": 1.0627254486083983, \"max\": 1.0627254486083983}}}\u001b[0m\n",
      "\u001b[34m#metrics {\"StartTime\": 1669357085.322593, \"EndTime\": 1669357085.3226094, \"Dimensions\": {\"Algorithm\": \"Linear Learner\", \"Host\": \"algo-1\", \"Operation\": \"training\", \"epoch\": 7, \"model\": 30}, \"Metrics\": {\"train_mse_objective\": {\"sum\": 1.013678665161133, \"count\": 1, \"min\": 1.013678665161133, \"max\": 1.013678665161133}}}\u001b[0m\n",
      "\u001b[34m#metrics {\"StartTime\": 1669357085.322671, \"EndTime\": 1669357085.3226876, \"Dimensions\": {\"Algorithm\": \"Linear Learner\", \"Host\": \"algo-1\", \"Operation\": \"training\", \"epoch\": 7, \"model\": 31}, \"Metrics\": {\"train_mse_objective\": {\"sum\": 0.9505426788330078, \"count\": 1, \"min\": 0.9505426788330078, \"max\": 0.9505426788330078}}}\u001b[0m\n",
      "\u001b[34m[11/25/2022 06:18:05 INFO 140704388560704] #quality_metric: host=algo-1, epoch=7, train mse_objective <loss>=0.6618343353271484\u001b[0m\n",
      "\u001b[34m#metrics {\"StartTime\": 1669357085.3741522, \"EndTime\": 1669357085.3742023, \"Dimensions\": {\"Algorithm\": \"Linear Learner\", \"Host\": \"algo-1\", \"Operation\": \"training\", \"epoch\": 7, \"model\": 0}, \"Metrics\": {\"validation_mse_objective\": {\"sum\": 51.493129185267854, \"count\": 1, \"min\": 51.493129185267854, \"max\": 51.493129185267854}}}\u001b[0m\n",
      "\u001b[34m#metrics {\"StartTime\": 1669357085.3742766, \"EndTime\": 1669357085.37429, \"Dimensions\": {\"Algorithm\": \"Linear Learner\", \"Host\": \"algo-1\", \"Operation\": \"training\", \"epoch\": 7, \"model\": 1}, \"Metrics\": {\"validation_mse_objective\": {\"sum\": 50.31508527483259, \"count\": 1, \"min\": 50.31508527483259, \"max\": 50.31508527483259}}}\u001b[0m\n",
      "\u001b[34m#metrics {\"StartTime\": 1669357085.3743281, \"EndTime\": 1669357085.3743434, \"Dimensions\": {\"Algorithm\": \"Linear Learner\", \"Host\": \"algo-1\", \"Operation\": \"training\", \"epoch\": 7, \"model\": 2}, \"Metrics\": {\"validation_mse_objective\": {\"sum\": 70.23230416434151, \"count\": 1, \"min\": 70.23230416434151, \"max\": 70.23230416434151}}}\u001b[0m\n",
      "\u001b[34m#metrics {\"StartTime\": 1669357085.3743927, \"EndTime\": 1669357085.3744087, \"Dimensions\": {\"Algorithm\": \"Linear Learner\", \"Host\": \"algo-1\", \"Operation\": \"training\", \"epoch\": 7, \"model\": 3}, \"Metrics\": {\"validation_mse_objective\": {\"sum\": 49.19242640904018, \"count\": 1, \"min\": 49.19242640904018, \"max\": 49.19242640904018}}}\u001b[0m\n",
      "\u001b[34m#metrics {\"StartTime\": 1669357085.3744702, \"EndTime\": 1669357085.3744855, \"Dimensions\": {\"Algorithm\": \"Linear Learner\", \"Host\": \"algo-1\", \"Operation\": \"training\", \"epoch\": 7, \"model\": 4}, \"Metrics\": {\"validation_mse_objective\": {\"sum\": 34.210497174944194, \"count\": 1, \"min\": 34.210497174944194, \"max\": 34.210497174944194}}}\u001b[0m\n",
      "\u001b[34m#metrics {\"StartTime\": 1669357085.3745425, \"EndTime\": 1669357085.3745587, \"Dimensions\": {\"Algorithm\": \"Linear Learner\", \"Host\": \"algo-1\", \"Operation\": \"training\", \"epoch\": 7, \"model\": 5}, \"Metrics\": {\"validation_mse_objective\": {\"sum\": 42.54658726283482, \"count\": 1, \"min\": 42.54658726283482, \"max\": 42.54658726283482}}}\u001b[0m\n",
      "\u001b[34m#metrics {\"StartTime\": 1669357085.374611, \"EndTime\": 1669357085.3746262, \"Dimensions\": {\"Algorithm\": \"Linear Learner\", \"Host\": \"algo-1\", \"Operation\": \"training\", \"epoch\": 7, \"model\": 6}, \"Metrics\": {\"validation_mse_objective\": {\"sum\": 42.99137660435268, \"count\": 1, \"min\": 42.99137660435268, \"max\": 42.99137660435268}}}\u001b[0m\n",
      "\u001b[34m#metrics {\"StartTime\": 1669357085.3746889, \"EndTime\": 1669357085.3747048, \"Dimensions\": {\"Algorithm\": \"Linear Learner\", \"Host\": \"algo-1\", \"Operation\": \"training\", \"epoch\": 7, \"model\": 7}, \"Metrics\": {\"validation_mse_objective\": {\"sum\": 41.23968069893973, \"count\": 1, \"min\": 41.23968069893973, \"max\": 41.23968069893973}}}\u001b[0m\n",
      "\u001b[34m#metrics {\"StartTime\": 1669357085.3747573, \"EndTime\": 1669357085.3747745, \"Dimensions\": {\"Algorithm\": \"Linear Learner\", \"Host\": \"algo-1\", \"Operation\": \"training\", \"epoch\": 7, \"model\": 8}, \"Metrics\": {\"validation_mse_objective\": {\"sum\": 56.153734479631694, \"count\": 1, \"min\": 56.153734479631694, \"max\": 56.153734479631694}}}\u001b[0m\n",
      "\u001b[34m#metrics {\"StartTime\": 1669357085.374829, \"EndTime\": 1669357085.3748453, \"Dimensions\": {\"Algorithm\": \"Linear Learner\", \"Host\": \"algo-1\", \"Operation\": \"training\", \"epoch\": 7, \"model\": 9}, \"Metrics\": {\"validation_mse_objective\": {\"sum\": 74.58506556919643, \"count\": 1, \"min\": 74.58506556919643, \"max\": 74.58506556919643}}}\u001b[0m\n",
      "\u001b[34m#metrics {\"StartTime\": 1669357085.3748977, \"EndTime\": 1669357085.3749137, \"Dimensions\": {\"Algorithm\": \"Linear Learner\", \"Host\": \"algo-1\", \"Operation\": \"training\", \"epoch\": 7, \"model\": 10}, \"Metrics\": {\"validation_mse_objective\": {\"sum\": 52.28525652204241, \"count\": 1, \"min\": 52.28525652204241, \"max\": 52.28525652204241}}}\u001b[0m\n",
      "\u001b[34m#metrics {\"StartTime\": 1669357085.3749657, \"EndTime\": 1669357085.374982, \"Dimensions\": {\"Algorithm\": \"Linear Learner\", \"Host\": \"algo-1\", \"Operation\": \"training\", \"epoch\": 7, \"model\": 11}, \"Metrics\": {\"validation_mse_objective\": {\"sum\": 62.489100864955354, \"count\": 1, \"min\": 62.489100864955354, \"max\": 62.489100864955354}}}\u001b[0m\n",
      "\u001b[34m#metrics {\"StartTime\": 1669357085.3750455, \"EndTime\": 1669357085.3750622, \"Dimensions\": {\"Algorithm\": \"Linear Learner\", \"Host\": \"algo-1\", \"Operation\": \"training\", \"epoch\": 7, \"model\": 12}, \"Metrics\": {\"validation_mse_objective\": {\"sum\": 35.41761997767857, \"count\": 1, \"min\": 35.41761997767857, \"max\": 35.41761997767857}}}\u001b[0m\n",
      "\u001b[34m#metrics {\"StartTime\": 1669357085.375117, \"EndTime\": 1669357085.3751333, \"Dimensions\": {\"Algorithm\": \"Linear Learner\", \"Host\": \"algo-1\", \"Operation\": \"training\", \"epoch\": 7, \"model\": 13}, \"Metrics\": {\"validation_mse_objective\": {\"sum\": 34.79491969517299, \"count\": 1, \"min\": 34.79491969517299, \"max\": 34.79491969517299}}}\u001b[0m\n",
      "\u001b[34m#metrics {\"StartTime\": 1669357085.3751853, \"EndTime\": 1669357085.3752012, \"Dimensions\": {\"Algorithm\": \"Linear Learner\", \"Host\": \"algo-1\", \"Operation\": \"training\", \"epoch\": 7, \"model\": 14}, \"Metrics\": {\"validation_mse_objective\": {\"sum\": 35.89656938825335, \"count\": 1, \"min\": 35.89656938825335, \"max\": 35.89656938825335}}}\u001b[0m\n",
      "\u001b[34m#metrics {\"StartTime\": 1669357085.3752527, \"EndTime\": 1669357085.3752685, \"Dimensions\": {\"Algorithm\": \"Linear Learner\", \"Host\": \"algo-1\", \"Operation\": \"training\", \"epoch\": 7, \"model\": 15}, \"Metrics\": {\"validation_mse_objective\": {\"sum\": 40.305127825055806, \"count\": 1, \"min\": 40.305127825055806, \"max\": 40.305127825055806}}}\u001b[0m\n",
      "\u001b[34m#metrics {\"StartTime\": 1669357085.3753316, \"EndTime\": 1669357085.3753486, \"Dimensions\": {\"Algorithm\": \"Linear Learner\", \"Host\": \"algo-1\", \"Operation\": \"training\", \"epoch\": 7, \"model\": 16}, \"Metrics\": {\"validation_mse_objective\": {\"sum\": 56.742444719587056, \"count\": 1, \"min\": 56.742444719587056, \"max\": 56.742444719587056}}}\u001b[0m\n",
      "\u001b[34m#metrics {\"StartTime\": 1669357085.3753939, \"EndTime\": 1669357085.37541, \"Dimensions\": {\"Algorithm\": \"Linear Learner\", \"Host\": \"algo-1\", \"Operation\": \"training\", \"epoch\": 7, \"model\": 17}, \"Metrics\": {\"validation_mse_objective\": {\"sum\": 50.818206787109375, \"count\": 1, \"min\": 50.818206787109375, \"max\": 50.818206787109375}}}\u001b[0m\n",
      "\u001b[34m#metrics {\"StartTime\": 1669357085.3754714, \"EndTime\": 1669357085.375488, \"Dimensions\": {\"Algorithm\": \"Linear Learner\", \"Host\": \"algo-1\", \"Operation\": \"training\", \"epoch\": 7, \"model\": 18}, \"Metrics\": {\"validation_mse_objective\": {\"sum\": 70.46178763253349, \"count\": 1, \"min\": 70.46178763253349, \"max\": 70.46178763253349}}}\u001b[0m\n",
      "\u001b[34m#metrics {\"StartTime\": 1669357085.375543, \"EndTime\": 1669357085.3755605, \"Dimensions\": {\"Algorithm\": \"Linear Learner\", \"Host\": \"algo-1\", \"Operation\": \"training\", \"epoch\": 7, \"model\": 19}, \"Metrics\": {\"validation_mse_objective\": {\"sum\": 59.47160121372768, \"count\": 1, \"min\": 59.47160121372768, \"max\": 59.47160121372768}}}\u001b[0m\n",
      "\u001b[34m#metrics {\"StartTime\": 1669357085.3756127, \"EndTime\": 1669357085.3756297, \"Dimensions\": {\"Algorithm\": \"Linear Learner\", \"Host\": \"algo-1\", \"Operation\": \"training\", \"epoch\": 7, \"model\": 20}, \"Metrics\": {\"validation_mse_objective\": {\"sum\": 25.04482160295759, \"count\": 1, \"min\": 25.04482160295759, \"max\": 25.04482160295759}}}\u001b[0m\n",
      "\u001b[34m#metrics {\"StartTime\": 1669357085.3756843, \"EndTime\": 1669357085.375701, \"Dimensions\": {\"Algorithm\": \"Linear Learner\", \"Host\": \"algo-1\", \"Operation\": \"training\", \"epoch\": 7, \"model\": 21}, \"Metrics\": {\"validation_mse_objective\": {\"sum\": 38.08003888811384, \"count\": 1, \"min\": 38.08003888811384, \"max\": 38.08003888811384}}}\u001b[0m\n",
      "\u001b[34m#metrics {\"StartTime\": 1669357085.375755, \"EndTime\": 1669357085.375771, \"Dimensions\": {\"Algorithm\": \"Linear Learner\", \"Host\": \"algo-1\", \"Operation\": \"training\", \"epoch\": 7, \"model\": 22}, \"Metrics\": {\"validation_mse_objective\": {\"sum\": 24.99407958984375, \"count\": 1, \"min\": 24.99407958984375, \"max\": 24.99407958984375}}}\u001b[0m\n",
      "\u001b[34m#metrics {\"StartTime\": 1669357085.3758209, \"EndTime\": 1669357085.375836, \"Dimensions\": {\"Algorithm\": \"Linear Learner\", \"Host\": \"algo-1\", \"Operation\": \"training\", \"epoch\": 7, \"model\": 23}, \"Metrics\": {\"validation_mse_objective\": {\"sum\": 27.82440403529576, \"count\": 1, \"min\": 27.82440403529576, \"max\": 27.82440403529576}}}\u001b[0m\n",
      "\u001b[34m#metrics {\"StartTime\": 1669357085.3759198, \"EndTime\": 1669357085.375938, \"Dimensions\": {\"Algorithm\": \"Linear Learner\", \"Host\": \"algo-1\", \"Operation\": \"training\", \"epoch\": 7, \"model\": 24}, \"Metrics\": {\"validation_mse_objective\": {\"sum\": 80.43391636439732, \"count\": 1, \"min\": 80.43391636439732, \"max\": 80.43391636439732}}}\u001b[0m\n",
      "\u001b[34m#metrics {\"StartTime\": 1669357085.3759923, \"EndTime\": 1669357085.376009, \"Dimensions\": {\"Algorithm\": \"Linear Learner\", \"Host\": \"algo-1\", \"Operation\": \"training\", \"epoch\": 7, \"model\": 25}, \"Metrics\": {\"validation_mse_objective\": {\"sum\": 78.61308070591518, \"count\": 1, \"min\": 78.61308070591518, \"max\": 78.61308070591518}}}\u001b[0m\n",
      "\u001b[34m#metrics {\"StartTime\": 1669357085.376062, \"EndTime\": 1669357085.3760774, \"Dimensions\": {\"Algorithm\": \"Linear Learner\", \"Host\": \"algo-1\", \"Operation\": \"training\", \"epoch\": 7, \"model\": 26}, \"Metrics\": {\"validation_mse_objective\": {\"sum\": 79.345458984375, \"count\": 1, \"min\": 79.345458984375, \"max\": 79.345458984375}}}\u001b[0m\n",
      "\u001b[34m#metrics {\"StartTime\": 1669357085.37613, \"EndTime\": 1669357085.376146, \"Dimensions\": {\"Algorithm\": \"Linear Learner\", \"Host\": \"algo-1\", \"Operation\": \"training\", \"epoch\": 7, \"model\": 27}, \"Metrics\": {\"validation_mse_objective\": {\"sum\": 80.65473284040179, \"count\": 1, \"min\": 80.65473284040179, \"max\": 80.65473284040179}}}\u001b[0m\n",
      "\u001b[34m#metrics {\"StartTime\": 1669357085.3762012, \"EndTime\": 1669357085.3762178, \"Dimensions\": {\"Algorithm\": \"Linear Learner\", \"Host\": \"algo-1\", \"Operation\": \"training\", \"epoch\": 7, \"model\": 28}, \"Metrics\": {\"validation_mse_objective\": {\"sum\": 88.74754115513393, \"count\": 1, \"min\": 88.74754115513393, \"max\": 88.74754115513393}}}\u001b[0m\n",
      "\u001b[34m#metrics {\"StartTime\": 1669357085.3762708, \"EndTime\": 1669357085.376287, \"Dimensions\": {\"Algorithm\": \"Linear Learner\", \"Host\": \"algo-1\", \"Operation\": \"training\", \"epoch\": 7, \"model\": 29}, \"Metrics\": {\"validation_mse_objective\": {\"sum\": 104.01898193359375, \"count\": 1, \"min\": 104.01898193359375, \"max\": 104.01898193359375}}}\u001b[0m\n",
      "\u001b[34m#metrics {\"StartTime\": 1669357085.3763475, \"EndTime\": 1669357085.3763635, \"Dimensions\": {\"Algorithm\": \"Linear Learner\", \"Host\": \"algo-1\", \"Operation\": \"training\", \"epoch\": 7, \"model\": 30}, \"Metrics\": {\"validation_mse_objective\": {\"sum\": 83.87511335100446, \"count\": 1, \"min\": 83.87511335100446, \"max\": 83.87511335100446}}}\u001b[0m\n",
      "\u001b[34m#metrics {\"StartTime\": 1669357085.376418, \"EndTime\": 1669357085.3764338, \"Dimensions\": {\"Algorithm\": \"Linear Learner\", \"Host\": \"algo-1\", \"Operation\": \"training\", \"epoch\": 7, \"model\": 31}, \"Metrics\": {\"validation_mse_objective\": {\"sum\": 84.62215750558036, \"count\": 1, \"min\": 84.62215750558036, \"max\": 84.62215750558036}}}\u001b[0m\n",
      "\u001b[34m[11/25/2022 06:18:05 INFO 140704388560704] #quality_metric: host=algo-1, epoch=7, validation mse_objective <loss>=51.493129185267854\u001b[0m\n",
      "\u001b[34m[11/25/2022 06:18:05 INFO 140704388560704] #early_stopping_criteria_metric: host=algo-1, epoch=7, criteria=mse_objective, value=24.99407958984375\u001b[0m\n",
      "\u001b[34m[11/25/2022 06:18:05 INFO 140704388560704] Saving model for epoch: 7\u001b[0m\n",
      "\u001b[34m[11/25/2022 06:18:05 INFO 140704388560704] Saved checkpoint to \"/tmp/tmpqd_8xsox/mx-mod-0000.params\"\u001b[0m\n",
      "\u001b[34m[11/25/2022 06:18:05 INFO 140704388560704] #progress_metric: host=algo-1, completed 53.333333333333336 % of epochs\u001b[0m\n",
      "\u001b[34m#metrics {\"StartTime\": 1669357085.2919738, \"EndTime\": 1669357085.3829799, \"Dimensions\": {\"Algorithm\": \"Linear Learner\", \"Host\": \"algo-1\", \"Operation\": \"training\", \"epoch\": 7, \"Meta\": \"training_data_iter\"}, \"Metrics\": {\"Total Records Seen\": {\"sum\": 2243.0, \"count\": 1, \"min\": 2243, \"max\": 2243}, \"Total Batches Seen\": {\"sum\": 19.0, \"count\": 1, \"min\": 19, \"max\": 19}, \"Max Records Seen Between Resets\": {\"sum\": 227.0, \"count\": 1, \"min\": 227, \"max\": 227}, \"Max Batches Seen Between Resets\": {\"sum\": 2.0, \"count\": 1, \"min\": 2, \"max\": 2}, \"Reset Count\": {\"sum\": 10.0, \"count\": 1, \"min\": 10, \"max\": 10}, \"Number of Records Since Last Reset\": {\"sum\": 227.0, \"count\": 1, \"min\": 227, \"max\": 227}, \"Number of Batches Since Last Reset\": {\"sum\": 2.0, \"count\": 1, \"min\": 2, \"max\": 2}}}\u001b[0m\n",
      "\u001b[34m[11/25/2022 06:18:05 INFO 140704388560704] #throughput_metric: host=algo-1, train throughput=2490.0670254889346 records/second\u001b[0m\n",
      "\u001b[34m#metrics {\"StartTime\": 1669357085.4162428, \"EndTime\": 1669357085.4162943, \"Dimensions\": {\"Algorithm\": \"Linear Learner\", \"Host\": \"algo-1\", \"Operation\": \"training\", \"epoch\": 8, \"model\": 0}, \"Metrics\": {\"train_mse_objective\": {\"sum\": 0.6343389892578125, \"count\": 1, \"min\": 0.6343389892578125, \"max\": 0.6343389892578125}}}\u001b[0m\n",
      "\u001b[34m#metrics {\"StartTime\": 1669357085.4163682, \"EndTime\": 1669357085.4163818, \"Dimensions\": {\"Algorithm\": \"Linear Learner\", \"Host\": \"algo-1\", \"Operation\": \"training\", \"epoch\": 8, \"model\": 1}, \"Metrics\": {\"train_mse_objective\": {\"sum\": 0.6126124572753906, \"count\": 1, \"min\": 0.6126124572753906, \"max\": 0.6126124572753906}}}\u001b[0m\n",
      "\u001b[34m#metrics {\"StartTime\": 1669357085.416424, \"EndTime\": 1669357085.4164388, \"Dimensions\": {\"Algorithm\": \"Linear Learner\", \"Host\": \"algo-1\", \"Operation\": \"training\", \"epoch\": 8, \"model\": 2}, \"Metrics\": {\"train_mse_objective\": {\"sum\": 0.8616123962402343, \"count\": 1, \"min\": 0.8616123962402343, \"max\": 0.8616123962402343}}}\u001b[0m\n",
      "\u001b[34m#metrics {\"StartTime\": 1669357085.4164891, \"EndTime\": 1669357085.4165046, \"Dimensions\": {\"Algorithm\": \"Linear Learner\", \"Host\": \"algo-1\", \"Operation\": \"training\", \"epoch\": 8, \"model\": 3}, \"Metrics\": {\"train_mse_objective\": {\"sum\": 0.6005141830444336, \"count\": 1, \"min\": 0.6005141830444336, \"max\": 0.6005141830444336}}}\u001b[0m\n",
      "\u001b[34m#metrics {\"StartTime\": 1669357085.4165514, \"EndTime\": 1669357085.4165673, \"Dimensions\": {\"Algorithm\": \"Linear Learner\", \"Host\": \"algo-1\", \"Operation\": \"training\", \"epoch\": 8, \"model\": 4}, \"Metrics\": {\"train_mse_objective\": {\"sum\": 0.39614105224609375, \"count\": 1, \"min\": 0.39614105224609375, \"max\": 0.39614105224609375}}}\u001b[0m\n",
      "\u001b[34m#metrics {\"StartTime\": 1669357085.4166236, \"EndTime\": 1669357085.41664, \"Dimensions\": {\"Algorithm\": \"Linear Learner\", \"Host\": \"algo-1\", \"Operation\": \"training\", \"epoch\": 8, \"model\": 5}, \"Metrics\": {\"train_mse_objective\": {\"sum\": 0.45584098815917967, \"count\": 1, \"min\": 0.45584098815917967, \"max\": 0.45584098815917967}}}\u001b[0m\n",
      "\u001b[34m#metrics {\"StartTime\": 1669357085.4166937, \"EndTime\": 1669357085.4167094, \"Dimensions\": {\"Algorithm\": \"Linear Learner\", \"Host\": \"algo-1\", \"Operation\": \"training\", \"epoch\": 8, \"model\": 6}, \"Metrics\": {\"train_mse_objective\": {\"sum\": 0.45121421813964846, \"count\": 1, \"min\": 0.45121421813964846, \"max\": 0.45121421813964846}}}\u001b[0m\n",
      "\u001b[34m#metrics {\"StartTime\": 1669357085.4167576, \"EndTime\": 1669357085.4167745, \"Dimensions\": {\"Algorithm\": \"Linear Learner\", \"Host\": \"algo-1\", \"Operation\": \"training\", \"epoch\": 8, \"model\": 7}, \"Metrics\": {\"train_mse_objective\": {\"sum\": 0.43454914093017577, \"count\": 1, \"min\": 0.43454914093017577, \"max\": 0.43454914093017577}}}\u001b[0m\n",
      "\u001b[34m#metrics {\"StartTime\": 1669357085.4168391, \"EndTime\": 1669357085.416855, \"Dimensions\": {\"Algorithm\": \"Linear Learner\", \"Host\": \"algo-1\", \"Operation\": \"training\", \"epoch\": 8, \"model\": 8}, \"Metrics\": {\"train_mse_objective\": {\"sum\": 0.6679840087890625, \"count\": 1, \"min\": 0.6679840087890625, \"max\": 0.6679840087890625}}}\u001b[0m\n",
      "\u001b[34m#metrics {\"StartTime\": 1669357085.416908, \"EndTime\": 1669357085.4169242, \"Dimensions\": {\"Algorithm\": \"Linear Learner\", \"Host\": \"algo-1\", \"Operation\": \"training\", \"epoch\": 8, \"model\": 9}, \"Metrics\": {\"train_mse_objective\": {\"sum\": 0.9099308013916015, \"count\": 1, \"min\": 0.9099308013916015, \"max\": 0.9099308013916015}}}\u001b[0m\n",
      "\u001b[34m#metrics {\"StartTime\": 1669357085.4169855, \"EndTime\": 1669357085.4170024, \"Dimensions\": {\"Algorithm\": \"Linear Learner\", \"Host\": \"algo-1\", \"Operation\": \"training\", \"epoch\": 8, \"model\": 10}, \"Metrics\": {\"train_mse_objective\": {\"sum\": 0.6277577590942383, \"count\": 1, \"min\": 0.6277577590942383, \"max\": 0.6277577590942383}}}\u001b[0m\n",
      "\u001b[34m#metrics {\"StartTime\": 1669357085.417053, \"EndTime\": 1669357085.4170687, \"Dimensions\": {\"Algorithm\": \"Linear Learner\", \"Host\": \"algo-1\", \"Operation\": \"training\", \"epoch\": 8, \"model\": 11}, \"Metrics\": {\"train_mse_objective\": {\"sum\": 0.7571711730957031, \"count\": 1, \"min\": 0.7571711730957031, \"max\": 0.7571711730957031}}}\u001b[0m\n",
      "\u001b[34m#metrics {\"StartTime\": 1669357085.4171345, \"EndTime\": 1669357085.4171536, \"Dimensions\": {\"Algorithm\": \"Linear Learner\", \"Host\": \"algo-1\", \"Operation\": \"training\", \"epoch\": 8, \"model\": 12}, \"Metrics\": {\"train_mse_objective\": {\"sum\": 0.38941226959228514, \"count\": 1, \"min\": 0.38941226959228514, \"max\": 0.38941226959228514}}}\u001b[0m\n",
      "\u001b[34m#metrics {\"StartTime\": 1669357085.4172149, \"EndTime\": 1669357085.4172328, \"Dimensions\": {\"Algorithm\": \"Linear Learner\", \"Host\": \"algo-1\", \"Operation\": \"training\", \"epoch\": 8, \"model\": 13}, \"Metrics\": {\"train_mse_objective\": {\"sum\": 0.39377952575683595, \"count\": 1, \"min\": 0.39377952575683595, \"max\": 0.39377952575683595}}}\u001b[0m\n",
      "\u001b[34m#metrics {\"StartTime\": 1669357085.417287, \"EndTime\": 1669357085.4173038, \"Dimensions\": {\"Algorithm\": \"Linear Learner\", \"Host\": \"algo-1\", \"Operation\": \"training\", \"epoch\": 8, \"model\": 14}, \"Metrics\": {\"train_mse_objective\": {\"sum\": 0.41465808868408205, \"count\": 1, \"min\": 0.41465808868408205, \"max\": 0.41465808868408205}}}\u001b[0m\n",
      "\u001b[34m#metrics {\"StartTime\": 1669357085.4173582, \"EndTime\": 1669357085.4173741, \"Dimensions\": {\"Algorithm\": \"Linear Learner\", \"Host\": \"algo-1\", \"Operation\": \"training\", \"epoch\": 8, \"model\": 15}, \"Metrics\": {\"train_mse_objective\": {\"sum\": 0.4230478668212891, \"count\": 1, \"min\": 0.4230478668212891, \"max\": 0.4230478668212891}}}\u001b[0m\n",
      "\u001b[34m#metrics {\"StartTime\": 1669357085.4174283, \"EndTime\": 1669357085.417445, \"Dimensions\": {\"Algorithm\": \"Linear Learner\", \"Host\": \"algo-1\", \"Operation\": \"training\", \"epoch\": 8, \"model\": 16}, \"Metrics\": {\"train_mse_objective\": {\"sum\": 0.6932327270507812, \"count\": 1, \"min\": 0.6932327270507812, \"max\": 0.6932327270507812}}}\u001b[0m\n",
      "\u001b[34m#metrics {\"StartTime\": 1669357085.4175, \"EndTime\": 1669357085.417516, \"Dimensions\": {\"Algorithm\": \"Linear Learner\", \"Host\": \"algo-1\", \"Operation\": \"training\", \"epoch\": 8, \"model\": 17}, \"Metrics\": {\"train_mse_objective\": {\"sum\": 0.614383430480957, \"count\": 1, \"min\": 0.614383430480957, \"max\": 0.614383430480957}}}\u001b[0m\n",
      "\u001b[34m#metrics {\"StartTime\": 1669357085.417584, \"EndTime\": 1669357085.417602, \"Dimensions\": {\"Algorithm\": \"Linear Learner\", \"Host\": \"algo-1\", \"Operation\": \"training\", \"epoch\": 8, \"model\": 18}, \"Metrics\": {\"train_mse_objective\": {\"sum\": 0.8425795745849609, \"count\": 1, \"min\": 0.8425795745849609, \"max\": 0.8425795745849609}}}\u001b[0m\n",
      "\u001b[34m#metrics {\"StartTime\": 1669357085.417659, \"EndTime\": 1669357085.4176753, \"Dimensions\": {\"Algorithm\": \"Linear Learner\", \"Host\": \"algo-1\", \"Operation\": \"training\", \"epoch\": 8, \"model\": 19}, \"Metrics\": {\"train_mse_objective\": {\"sum\": 0.6992996978759766, \"count\": 1, \"min\": 0.6992996978759766, \"max\": 0.6992996978759766}}}\u001b[0m\n",
      "\u001b[34m#metrics {\"StartTime\": 1669357085.417728, \"EndTime\": 1669357085.4177446, \"Dimensions\": {\"Algorithm\": \"Linear Learner\", \"Host\": \"algo-1\", \"Operation\": \"training\", \"epoch\": 8, \"model\": 20}, \"Metrics\": {\"train_mse_objective\": {\"sum\": 0.3529695129394531, \"count\": 1, \"min\": 0.3529695129394531, \"max\": 0.3529695129394531}}}\u001b[0m\n",
      "\u001b[34m#metrics {\"StartTime\": 1669357085.4177973, \"EndTime\": 1669357085.4178133, \"Dimensions\": {\"Algorithm\": \"Linear Learner\", \"Host\": \"algo-1\", \"Operation\": \"training\", \"epoch\": 8, \"model\": 21}, \"Metrics\": {\"train_mse_objective\": {\"sum\": 0.46718612670898435, \"count\": 1, \"min\": 0.46718612670898435, \"max\": 0.46718612670898435}}}\u001b[0m\n",
      "\u001b[34m#metrics {\"StartTime\": 1669357085.417853, \"EndTime\": 1669357085.4178677, \"Dimensions\": {\"Algorithm\": \"Linear Learner\", \"Host\": \"algo-1\", \"Operation\": \"training\", \"epoch\": 8, \"model\": 22}, \"Metrics\": {\"train_mse_objective\": {\"sum\": 0.3590655136108398, \"count\": 1, \"min\": 0.3590655136108398, \"max\": 0.3590655136108398}}}\u001b[0m\n",
      "\u001b[34m#metrics {\"StartTime\": 1669357085.4179196, \"EndTime\": 1669357085.4179356, \"Dimensions\": {\"Algorithm\": \"Linear Learner\", \"Host\": \"algo-1\", \"Operation\": \"training\", \"epoch\": 8, \"model\": 23}, \"Metrics\": {\"train_mse_objective\": {\"sum\": 0.3867642593383789, \"count\": 1, \"min\": 0.3867642593383789, \"max\": 0.3867642593383789}}}\u001b[0m\n",
      "\u001b[34m#metrics {\"StartTime\": 1669357085.4179938, \"EndTime\": 1669357085.4180112, \"Dimensions\": {\"Algorithm\": \"Linear Learner\", \"Host\": \"algo-1\", \"Operation\": \"training\", \"epoch\": 8, \"model\": 24}, \"Metrics\": {\"train_mse_objective\": {\"sum\": 0.9823737335205078, \"count\": 1, \"min\": 0.9823737335205078, \"max\": 0.9823737335205078}}}\u001b[0m\n",
      "\u001b[34m#metrics {\"StartTime\": 1669357085.4180593, \"EndTime\": 1669357085.4180748, \"Dimensions\": {\"Algorithm\": \"Linear Learner\", \"Host\": \"algo-1\", \"Operation\": \"training\", \"epoch\": 8, \"model\": 25}, \"Metrics\": {\"train_mse_objective\": {\"sum\": 0.957696533203125, \"count\": 1, \"min\": 0.957696533203125, \"max\": 0.957696533203125}}}\u001b[0m\n",
      "\u001b[34m#metrics {\"StartTime\": 1669357085.4181376, \"EndTime\": 1669357085.4181538, \"Dimensions\": {\"Algorithm\": \"Linear Learner\", \"Host\": \"algo-1\", \"Operation\": \"training\", \"epoch\": 8, \"model\": 26}, \"Metrics\": {\"train_mse_objective\": {\"sum\": 0.968163070678711, \"count\": 1, \"min\": 0.968163070678711, \"max\": 0.968163070678711}}}\u001b[0m\n",
      "\u001b[34m#metrics {\"StartTime\": 1669357085.4182127, \"EndTime\": 1669357085.418229, \"Dimensions\": {\"Algorithm\": \"Linear Learner\", \"Host\": \"algo-1\", \"Operation\": \"training\", \"epoch\": 8, \"model\": 27}, \"Metrics\": {\"train_mse_objective\": {\"sum\": 0.9807968139648438, \"count\": 1, \"min\": 0.9807968139648438, \"max\": 0.9807968139648438}}}\u001b[0m\n",
      "\u001b[34m#metrics {\"StartTime\": 1669357085.4182818, \"EndTime\": 1669357085.418298, \"Dimensions\": {\"Algorithm\": \"Linear Learner\", \"Host\": \"algo-1\", \"Operation\": \"training\", \"epoch\": 8, \"model\": 28}, \"Metrics\": {\"train_mse_objective\": {\"sum\": 1.0676828002929688, \"count\": 1, \"min\": 1.0676828002929688, \"max\": 1.0676828002929688}}}\u001b[0m\n",
      "\u001b[34m#metrics {\"StartTime\": 1669357085.4183524, \"EndTime\": 1669357085.4183683, \"Dimensions\": {\"Algorithm\": \"Linear Learner\", \"Host\": \"algo-1\", \"Operation\": \"training\", \"epoch\": 8, \"model\": 29}, \"Metrics\": {\"train_mse_objective\": {\"sum\": 1.2185646057128907, \"count\": 1, \"min\": 1.2185646057128907, \"max\": 1.2185646057128907}}}\u001b[0m\n",
      "\u001b[34m#metrics {\"StartTime\": 1669357085.4184206, \"EndTime\": 1669357085.418437, \"Dimensions\": {\"Algorithm\": \"Linear Learner\", \"Host\": \"algo-1\", \"Operation\": \"training\", \"epoch\": 8, \"model\": 30}, \"Metrics\": {\"train_mse_objective\": {\"sum\": 1.01789794921875, \"count\": 1, \"min\": 1.01789794921875, \"max\": 1.01789794921875}}}\u001b[0m\n",
      "\u001b[34m#metrics {\"StartTime\": 1669357085.4184864, \"EndTime\": 1669357085.4185019, \"Dimensions\": {\"Algorithm\": \"Linear Learner\", \"Host\": \"algo-1\", \"Operation\": \"training\", \"epoch\": 8, \"model\": 31}, \"Metrics\": {\"train_mse_objective\": {\"sum\": 1.0130042266845702, \"count\": 1, \"min\": 1.0130042266845702, \"max\": 1.0130042266845702}}}\u001b[0m\n",
      "\u001b[34m[11/25/2022 06:18:05 INFO 140704388560704] #quality_metric: host=algo-1, epoch=8, train mse_objective <loss>=0.6343389892578125\u001b[0m\n",
      "\u001b[34m#metrics {\"StartTime\": 1669357085.4745355, \"EndTime\": 1669357085.4745882, \"Dimensions\": {\"Algorithm\": \"Linear Learner\", \"Host\": \"algo-1\", \"Operation\": \"training\", \"epoch\": 8, \"model\": 0}, \"Metrics\": {\"validation_mse_objective\": {\"sum\": 49.640066964285715, \"count\": 1, \"min\": 49.640066964285715, \"max\": 49.640066964285715}}}\u001b[0m\n",
      "\u001b[34m#metrics {\"StartTime\": 1669357085.474669, \"EndTime\": 1669357085.4746838, \"Dimensions\": {\"Algorithm\": \"Linear Learner\", \"Host\": \"algo-1\", \"Operation\": \"training\", \"epoch\": 8, \"model\": 1}, \"Metrics\": {\"validation_mse_objective\": {\"sum\": 49.00960431780134, \"count\": 1, \"min\": 49.00960431780134, \"max\": 49.00960431780134}}}\u001b[0m\n",
      "\u001b[34m#metrics {\"StartTime\": 1669357085.4747224, \"EndTime\": 1669357085.4747372, \"Dimensions\": {\"Algorithm\": \"Linear Learner\", \"Host\": \"algo-1\", \"Operation\": \"training\", \"epoch\": 8, \"model\": 2}, \"Metrics\": {\"validation_mse_objective\": {\"sum\": 66.62604631696429, \"count\": 1, \"min\": 66.62604631696429, \"max\": 66.62604631696429}}}\u001b[0m\n",
      "\u001b[34m#metrics {\"StartTime\": 1669357085.4747868, \"EndTime\": 1669357085.4748008, \"Dimensions\": {\"Algorithm\": \"Linear Learner\", \"Host\": \"algo-1\", \"Operation\": \"training\", \"epoch\": 8, \"model\": 3}, \"Metrics\": {\"validation_mse_objective\": {\"sum\": 47.79270717075893, \"count\": 1, \"min\": 47.79270717075893, \"max\": 47.79270717075893}}}\u001b[0m\n",
      "\u001b[34m#metrics {\"StartTime\": 1669357085.4748504, \"EndTime\": 1669357085.4748647, \"Dimensions\": {\"Algorithm\": \"Linear Learner\", \"Host\": \"algo-1\", \"Operation\": \"training\", \"epoch\": 8, \"model\": 4}, \"Metrics\": {\"validation_mse_objective\": {\"sum\": 37.872179303850444, \"count\": 1, \"min\": 37.872179303850444, \"max\": 37.872179303850444}}}\u001b[0m\n",
      "\u001b[34m#metrics {\"StartTime\": 1669357085.4749224, \"EndTime\": 1669357085.4749377, \"Dimensions\": {\"Algorithm\": \"Linear Learner\", \"Host\": \"algo-1\", \"Operation\": \"training\", \"epoch\": 8, \"model\": 5}, \"Metrics\": {\"validation_mse_objective\": {\"sum\": 35.04187665666853, \"count\": 1, \"min\": 35.04187665666853, \"max\": 35.04187665666853}}}\u001b[0m\n",
      "\u001b[34m#metrics {\"StartTime\": 1669357085.4749932, \"EndTime\": 1669357085.4750092, \"Dimensions\": {\"Algorithm\": \"Linear Learner\", \"Host\": \"algo-1\", \"Operation\": \"training\", \"epoch\": 8, \"model\": 6}, \"Metrics\": {\"validation_mse_objective\": {\"sum\": 37.55741228376116, \"count\": 1, \"min\": 37.55741228376116, \"max\": 37.55741228376116}}}\u001b[0m\n",
      "\u001b[34m#metrics {\"StartTime\": 1669357085.475063, \"EndTime\": 1669357085.4750772, \"Dimensions\": {\"Algorithm\": \"Linear Learner\", \"Host\": \"algo-1\", \"Operation\": \"training\", \"epoch\": 8, \"model\": 7}, \"Metrics\": {\"validation_mse_objective\": {\"sum\": 37.572396414620535, \"count\": 1, \"min\": 37.572396414620535, \"max\": 37.572396414620535}}}\u001b[0m\n",
      "\u001b[34m#metrics {\"StartTime\": 1669357085.4751236, \"EndTime\": 1669357085.4751375, \"Dimensions\": {\"Algorithm\": \"Linear Learner\", \"Host\": \"algo-1\", \"Operation\": \"training\", \"epoch\": 8, \"model\": 8}, \"Metrics\": {\"validation_mse_objective\": {\"sum\": 54.89290509905134, \"count\": 1, \"min\": 54.89290509905134, \"max\": 54.89290509905134}}}\u001b[0m\n",
      "\u001b[34m#metrics {\"StartTime\": 1669357085.4751856, \"EndTime\": 1669357085.4752002, \"Dimensions\": {\"Algorithm\": \"Linear Learner\", \"Host\": \"algo-1\", \"Operation\": \"training\", \"epoch\": 8, \"model\": 9}, \"Metrics\": {\"validation_mse_objective\": {\"sum\": 70.70970807756696, \"count\": 1, \"min\": 70.70970807756696, \"max\": 70.70970807756696}}}\u001b[0m\n",
      "\u001b[34m#metrics {\"StartTime\": 1669357085.4752657, \"EndTime\": 1669357085.4752848, \"Dimensions\": {\"Algorithm\": \"Linear Learner\", \"Host\": \"algo-1\", \"Operation\": \"training\", \"epoch\": 8, \"model\": 10}, \"Metrics\": {\"validation_mse_objective\": {\"sum\": 51.067635672433035, \"count\": 1, \"min\": 51.067635672433035, \"max\": 51.067635672433035}}}\u001b[0m\n",
      "\u001b[34m#metrics {\"StartTime\": 1669357085.475344, \"EndTime\": 1669357085.4753592, \"Dimensions\": {\"Algorithm\": \"Linear Learner\", \"Host\": \"algo-1\", \"Operation\": \"training\", \"epoch\": 8, \"model\": 11}, \"Metrics\": {\"validation_mse_objective\": {\"sum\": 60.31587873186384, \"count\": 1, \"min\": 60.31587873186384, \"max\": 60.31587873186384}}}\u001b[0m\n",
      "\u001b[34m#metrics {\"StartTime\": 1669357085.4754086, \"EndTime\": 1669357085.4754248, \"Dimensions\": {\"Algorithm\": \"Linear Learner\", \"Host\": \"algo-1\", \"Operation\": \"training\", \"epoch\": 8, \"model\": 12}, \"Metrics\": {\"validation_mse_objective\": {\"sum\": 33.62079075404576, \"count\": 1, \"min\": 33.62079075404576, \"max\": 33.62079075404576}}}\u001b[0m\n",
      "\u001b[34m#metrics {\"StartTime\": 1669357085.4754796, \"EndTime\": 1669357085.4754946, \"Dimensions\": {\"Algorithm\": \"Linear Learner\", \"Host\": \"algo-1\", \"Operation\": \"training\", \"epoch\": 8, \"model\": 13}, \"Metrics\": {\"validation_mse_objective\": {\"sum\": 35.51334926060268, \"count\": 1, \"min\": 35.51334926060268, \"max\": 35.51334926060268}}}\u001b[0m\n",
      "\u001b[34m#metrics {\"StartTime\": 1669357085.4755476, \"EndTime\": 1669357085.475564, \"Dimensions\": {\"Algorithm\": \"Linear Learner\", \"Host\": \"algo-1\", \"Operation\": \"training\", \"epoch\": 8, \"model\": 14}, \"Metrics\": {\"validation_mse_objective\": {\"sum\": 38.212986537388396, \"count\": 1, \"min\": 38.212986537388396, \"max\": 38.212986537388396}}}\u001b[0m\n",
      "\u001b[34m#metrics {\"StartTime\": 1669357085.475623, \"EndTime\": 1669357085.4756389, \"Dimensions\": {\"Algorithm\": \"Linear Learner\", \"Host\": \"algo-1\", \"Operation\": \"training\", \"epoch\": 8, \"model\": 15}, \"Metrics\": {\"validation_mse_objective\": {\"sum\": 34.76521519252232, \"count\": 1, \"min\": 34.76521519252232, \"max\": 34.76521519252232}}}\u001b[0m\n",
      "\u001b[34m#metrics {\"StartTime\": 1669357085.4756858, \"EndTime\": 1669357085.4757016, \"Dimensions\": {\"Algorithm\": \"Linear Learner\", \"Host\": \"algo-1\", \"Operation\": \"training\", \"epoch\": 8, \"model\": 16}, \"Metrics\": {\"validation_mse_objective\": {\"sum\": 54.651114327566965, \"count\": 1, \"min\": 54.651114327566965, \"max\": 54.651114327566965}}}\u001b[0m\n",
      "\u001b[34m#metrics {\"StartTime\": 1669357085.4757485, \"EndTime\": 1669357085.4757588, \"Dimensions\": {\"Algorithm\": \"Linear Learner\", \"Host\": \"algo-1\", \"Operation\": \"training\", \"epoch\": 8, \"model\": 17}, \"Metrics\": {\"validation_mse_objective\": {\"sum\": 49.30338832310268, \"count\": 1, \"min\": 49.30338832310268, \"max\": 49.30338832310268}}}\u001b[0m\n",
      "\u001b[34m#metrics {\"StartTime\": 1669357085.475786, \"EndTime\": 1669357085.4757934, \"Dimensions\": {\"Algorithm\": \"Linear Learner\", \"Host\": \"algo-1\", \"Operation\": \"training\", \"epoch\": 8, \"model\": 18}, \"Metrics\": {\"validation_mse_objective\": {\"sum\": 67.93721662248883, \"count\": 1, \"min\": 67.93721662248883, \"max\": 67.93721662248883}}}\u001b[0m\n",
      "\u001b[34m#metrics {\"StartTime\": 1669357085.4758272, \"EndTime\": 1669357085.4758403, \"Dimensions\": {\"Algorithm\": \"Linear Learner\", \"Host\": \"algo-1\", \"Operation\": \"training\", \"epoch\": 8, \"model\": 19}, \"Metrics\": {\"validation_mse_objective\": {\"sum\": 57.436410086495535, \"count\": 1, \"min\": 57.436410086495535, \"max\": 57.436410086495535}}}\u001b[0m\n",
      "\u001b[34m#metrics {\"StartTime\": 1669357085.4759285, \"EndTime\": 1669357085.475947, \"Dimensions\": {\"Algorithm\": \"Linear Learner\", \"Host\": \"algo-1\", \"Operation\": \"training\", \"epoch\": 8, \"model\": 20}, \"Metrics\": {\"validation_mse_objective\": {\"sum\": 26.121139526367188, \"count\": 1, \"min\": 26.121139526367188, \"max\": 26.121139526367188}}}\u001b[0m\n",
      "\u001b[34m#metrics {\"StartTime\": 1669357085.4760106, \"EndTime\": 1669357085.4760282, \"Dimensions\": {\"Algorithm\": \"Linear Learner\", \"Host\": \"algo-1\", \"Operation\": \"training\", \"epoch\": 8, \"model\": 21}, \"Metrics\": {\"validation_mse_objective\": {\"sum\": 31.53883797781808, \"count\": 1, \"min\": 31.53883797781808, \"max\": 31.53883797781808}}}\u001b[0m\n",
      "\u001b[34m#metrics {\"StartTime\": 1669357085.4760807, \"EndTime\": 1669357085.4760973, \"Dimensions\": {\"Algorithm\": \"Linear Learner\", \"Host\": \"algo-1\", \"Operation\": \"training\", \"epoch\": 8, \"model\": 22}, \"Metrics\": {\"validation_mse_objective\": {\"sum\": 26.454463413783483, \"count\": 1, \"min\": 26.454463413783483, \"max\": 26.454463413783483}}}\u001b[0m\n",
      "\u001b[34m#metrics {\"StartTime\": 1669357085.4761622, \"EndTime\": 1669357085.4761806, \"Dimensions\": {\"Algorithm\": \"Linear Learner\", \"Host\": \"algo-1\", \"Operation\": \"training\", \"epoch\": 8, \"model\": 23}, \"Metrics\": {\"validation_mse_objective\": {\"sum\": 31.605098179408483, \"count\": 1, \"min\": 31.605098179408483, \"max\": 31.605098179408483}}}\u001b[0m\n",
      "\u001b[34m#metrics {\"StartTime\": 1669357085.476246, \"EndTime\": 1669357085.4762635, \"Dimensions\": {\"Algorithm\": \"Linear Learner\", \"Host\": \"algo-1\", \"Operation\": \"training\", \"epoch\": 8, \"model\": 24}, \"Metrics\": {\"validation_mse_objective\": {\"sum\": 81.02199881417411, \"count\": 1, \"min\": 81.02199881417411, \"max\": 81.02199881417411}}}\u001b[0m\n",
      "\u001b[34m#metrics {\"StartTime\": 1669357085.476316, \"EndTime\": 1669357085.4763322, \"Dimensions\": {\"Algorithm\": \"Linear Learner\", \"Host\": \"algo-1\", \"Operation\": \"training\", \"epoch\": 8, \"model\": 25}, \"Metrics\": {\"validation_mse_objective\": {\"sum\": 78.35816301618304, \"count\": 1, \"min\": 78.35816301618304, \"max\": 78.35816301618304}}}\u001b[0m\n",
      "\u001b[34m#metrics {\"StartTime\": 1669357085.4763968, \"EndTime\": 1669357085.4764147, \"Dimensions\": {\"Algorithm\": \"Linear Learner\", \"Host\": \"algo-1\", \"Operation\": \"training\", \"epoch\": 8, \"model\": 26}, \"Metrics\": {\"validation_mse_objective\": {\"sum\": 78.0650634765625, \"count\": 1, \"min\": 78.0650634765625, \"max\": 78.0650634765625}}}\u001b[0m\n",
      "\u001b[34m#metrics {\"StartTime\": 1669357085.4764798, \"EndTime\": 1669357085.476498, \"Dimensions\": {\"Algorithm\": \"Linear Learner\", \"Host\": \"algo-1\", \"Operation\": \"training\", \"epoch\": 8, \"model\": 27}, \"Metrics\": {\"validation_mse_objective\": {\"sum\": 79.32673863002232, \"count\": 1, \"min\": 79.32673863002232, \"max\": 79.32673863002232}}}\u001b[0m\n",
      "\u001b[34m#metrics {\"StartTime\": 1669357085.4765537, \"EndTime\": 1669357085.4765697, \"Dimensions\": {\"Algorithm\": \"Linear Learner\", \"Host\": \"algo-1\", \"Operation\": \"training\", \"epoch\": 8, \"model\": 28}, \"Metrics\": {\"validation_mse_objective\": {\"sum\": 88.55884660993304, \"count\": 1, \"min\": 88.55884660993304, \"max\": 88.55884660993304}}}\u001b[0m\n",
      "\u001b[34m#metrics {\"StartTime\": 1669357085.4766273, \"EndTime\": 1669357085.4766438, \"Dimensions\": {\"Algorithm\": \"Linear Learner\", \"Host\": \"algo-1\", \"Operation\": \"training\", \"epoch\": 8, \"model\": 29}, \"Metrics\": {\"validation_mse_objective\": {\"sum\": 105.01634870256696, \"count\": 1, \"min\": 105.01634870256696, \"max\": 105.01634870256696}}}\u001b[0m\n",
      "\u001b[34m#metrics {\"StartTime\": 1669357085.4767025, \"EndTime\": 1669357085.4767191, \"Dimensions\": {\"Algorithm\": \"Linear Learner\", \"Host\": \"algo-1\", \"Operation\": \"training\", \"epoch\": 8, \"model\": 30}, \"Metrics\": {\"validation_mse_objective\": {\"sum\": 78.9439697265625, \"count\": 1, \"min\": 78.9439697265625, \"max\": 78.9439697265625}}}\u001b[0m\n",
      "\u001b[34m#metrics {\"StartTime\": 1669357085.4767737, \"EndTime\": 1669357085.4767892, \"Dimensions\": {\"Algorithm\": \"Linear Learner\", \"Host\": \"algo-1\", \"Operation\": \"training\", \"epoch\": 8, \"model\": 31}, \"Metrics\": {\"validation_mse_objective\": {\"sum\": 88.09178815569196, \"count\": 1, \"min\": 88.09178815569196, \"max\": 88.09178815569196}}}\u001b[0m\n",
      "\u001b[34m[11/25/2022 06:18:05 INFO 140704388560704] #quality_metric: host=algo-1, epoch=8, validation mse_objective <loss>=49.640066964285715\u001b[0m\n",
      "\u001b[34m[11/25/2022 06:18:05 INFO 140704388560704] #early_stopping_criteria_metric: host=algo-1, epoch=8, criteria=mse_objective, value=26.121139526367188\u001b[0m\n",
      "\u001b[34m[11/25/2022 06:18:05 INFO 140704388560704] Saving model for epoch: 8\u001b[0m\n",
      "\u001b[34m[11/25/2022 06:18:05 INFO 140704388560704] Saved checkpoint to \"/tmp/tmp_jz80dpw/mx-mod-0000.params\"\u001b[0m\n",
      "\u001b[34m[11/25/2022 06:18:05 INFO 140704388560704] #progress_metric: host=algo-1, completed 60.0 % of epochs\u001b[0m\n",
      "\u001b[34m#metrics {\"StartTime\": 1669357085.383293, \"EndTime\": 1669357085.4831758, \"Dimensions\": {\"Algorithm\": \"Linear Learner\", \"Host\": \"algo-1\", \"Operation\": \"training\", \"epoch\": 8, \"Meta\": \"training_data_iter\"}, \"Metrics\": {\"Total Records Seen\": {\"sum\": 2470.0, \"count\": 1, \"min\": 2470, \"max\": 2470}, \"Total Batches Seen\": {\"sum\": 21.0, \"count\": 1, \"min\": 21, \"max\": 21}, \"Max Records Seen Between Resets\": {\"sum\": 227.0, \"count\": 1, \"min\": 227, \"max\": 227}, \"Max Batches Seen Between Resets\": {\"sum\": 2.0, \"count\": 1, \"min\": 2, \"max\": 2}, \"Reset Count\": {\"sum\": 11.0, \"count\": 1, \"min\": 11, \"max\": 11}, \"Number of Records Since Last Reset\": {\"sum\": 227.0, \"count\": 1, \"min\": 227, \"max\": 227}, \"Number of Batches Since Last Reset\": {\"sum\": 2.0, \"count\": 1, \"min\": 2, \"max\": 2}}}\u001b[0m\n",
      "\u001b[34m[11/25/2022 06:18:05 INFO 140704388560704] #throughput_metric: host=algo-1, train throughput=2269.255539030622 records/second\u001b[0m\n",
      "\u001b[34m#metrics {\"StartTime\": 1669357085.5110586, \"EndTime\": 1669357085.5111122, \"Dimensions\": {\"Algorithm\": \"Linear Learner\", \"Host\": \"algo-1\", \"Operation\": \"training\", \"epoch\": 9, \"model\": 0}, \"Metrics\": {\"train_mse_objective\": {\"sum\": 0.6102803421020507, \"count\": 1, \"min\": 0.6102803421020507, \"max\": 0.6102803421020507}}}\u001b[0m\n",
      "\u001b[34m#metrics {\"StartTime\": 1669357085.5112028, \"EndTime\": 1669357085.511224, \"Dimensions\": {\"Algorithm\": \"Linear Learner\", \"Host\": \"algo-1\", \"Operation\": \"training\", \"epoch\": 9, \"model\": 1}, \"Metrics\": {\"train_mse_objective\": {\"sum\": 0.5944679260253907, \"count\": 1, \"min\": 0.5944679260253907, \"max\": 0.5944679260253907}}}\u001b[0m\n",
      "\u001b[34m#metrics {\"StartTime\": 1669357085.511292, \"EndTime\": 1669357085.5113113, \"Dimensions\": {\"Algorithm\": \"Linear Learner\", \"Host\": \"algo-1\", \"Operation\": \"training\", \"epoch\": 9, \"model\": 2}, \"Metrics\": {\"train_mse_objective\": {\"sum\": 0.8176089477539062, \"count\": 1, \"min\": 0.8176089477539062, \"max\": 0.8176089477539062}}}\u001b[0m\n",
      "\u001b[34m#metrics {\"StartTime\": 1669357085.5113692, \"EndTime\": 1669357085.5113864, \"Dimensions\": {\"Algorithm\": \"Linear Learner\", \"Host\": \"algo-1\", \"Operation\": \"training\", \"epoch\": 9, \"model\": 3}, \"Metrics\": {\"train_mse_objective\": {\"sum\": 0.5832313537597656, \"count\": 1, \"min\": 0.5832313537597656, \"max\": 0.5832313537597656}}}\u001b[0m\n",
      "\u001b[34m#metrics {\"StartTime\": 1669357085.51144, \"EndTime\": 1669357085.511456, \"Dimensions\": {\"Algorithm\": \"Linear Learner\", \"Host\": \"algo-1\", \"Operation\": \"training\", \"epoch\": 9, \"model\": 4}, \"Metrics\": {\"train_mse_objective\": {\"sum\": 0.44785400390625, \"count\": 1, \"min\": 0.44785400390625, \"max\": 0.44785400390625}}}\u001b[0m\n",
      "\u001b[34m#metrics {\"StartTime\": 1669357085.5115073, \"EndTime\": 1669357085.5115235, \"Dimensions\": {\"Algorithm\": \"Linear Learner\", \"Host\": \"algo-1\", \"Operation\": \"training\", \"epoch\": 9, \"model\": 5}, \"Metrics\": {\"train_mse_objective\": {\"sum\": 0.38452735900878904, \"count\": 1, \"min\": 0.38452735900878904, \"max\": 0.38452735900878904}}}\u001b[0m\n",
      "\u001b[34m#metrics {\"StartTime\": 1669357085.5115757, \"EndTime\": 1669357085.511592, \"Dimensions\": {\"Algorithm\": \"Linear Learner\", \"Host\": \"algo-1\", \"Operation\": \"training\", \"epoch\": 9, \"model\": 6}, \"Metrics\": {\"train_mse_objective\": {\"sum\": 0.40338706970214844, \"count\": 1, \"min\": 0.40338706970214844, \"max\": 0.40338706970214844}}}\u001b[0m\n",
      "\u001b[34m#metrics {\"StartTime\": 1669357085.511646, \"EndTime\": 1669357085.5116613, \"Dimensions\": {\"Algorithm\": \"Linear Learner\", \"Host\": \"algo-1\", \"Operation\": \"training\", \"epoch\": 9, \"model\": 7}, \"Metrics\": {\"train_mse_objective\": {\"sum\": 0.4133575820922852, \"count\": 1, \"min\": 0.4133575820922852, \"max\": 0.4133575820922852}}}\u001b[0m\n",
      "\u001b[34m#metrics {\"StartTime\": 1669357085.5117154, \"EndTime\": 1669357085.5117311, \"Dimensions\": {\"Algorithm\": \"Linear Learner\", \"Host\": \"algo-1\", \"Operation\": \"training\", \"epoch\": 9, \"model\": 8}, \"Metrics\": {\"train_mse_objective\": {\"sum\": 0.6510176086425781, \"count\": 1, \"min\": 0.6510176086425781, \"max\": 0.6510176086425781}}}\u001b[0m\n",
      "\u001b[34m#metrics {\"StartTime\": 1669357085.5117786, \"EndTime\": 1669357085.5117943, \"Dimensions\": {\"Algorithm\": \"Linear Learner\", \"Host\": \"algo-1\", \"Operation\": \"training\", \"epoch\": 9, \"model\": 9}, \"Metrics\": {\"train_mse_objective\": {\"sum\": 0.8627864837646484, \"count\": 1, \"min\": 0.8627864837646484, \"max\": 0.8627864837646484}}}\u001b[0m\n",
      "\u001b[34m#metrics {\"StartTime\": 1669357085.5118492, \"EndTime\": 1669357085.5118663, \"Dimensions\": {\"Algorithm\": \"Linear Learner\", \"Host\": \"algo-1\", \"Operation\": \"training\", \"epoch\": 9, \"model\": 10}, \"Metrics\": {\"train_mse_objective\": {\"sum\": 0.6119194412231446, \"count\": 1, \"min\": 0.6119194412231446, \"max\": 0.6119194412231446}}}\u001b[0m\n",
      "\u001b[34m#metrics {\"StartTime\": 1669357085.511946, \"EndTime\": 1669357085.5119638, \"Dimensions\": {\"Algorithm\": \"Linear Learner\", \"Host\": \"algo-1\", \"Operation\": \"training\", \"epoch\": 9, \"model\": 11}, \"Metrics\": {\"train_mse_objective\": {\"sum\": 0.7274201202392578, \"count\": 1, \"min\": 0.7274201202392578, \"max\": 0.7274201202392578}}}\u001b[0m\n",
      "\u001b[34m#metrics {\"StartTime\": 1669357085.5120287, \"EndTime\": 1669357085.5120459, \"Dimensions\": {\"Algorithm\": \"Linear Learner\", \"Host\": \"algo-1\", \"Operation\": \"training\", \"epoch\": 9, \"model\": 12}, \"Metrics\": {\"train_mse_objective\": {\"sum\": 0.3880807113647461, \"count\": 1, \"min\": 0.3880807113647461, \"max\": 0.3880807113647461}}}\u001b[0m\n",
      "\u001b[34m#metrics {\"StartTime\": 1669357085.5121138, \"EndTime\": 1669357085.5121324, \"Dimensions\": {\"Algorithm\": \"Linear Learner\", \"Host\": \"algo-1\", \"Operation\": \"training\", \"epoch\": 9, \"model\": 13}, \"Metrics\": {\"train_mse_objective\": {\"sum\": 0.4151074981689453, \"count\": 1, \"min\": 0.4151074981689453, \"max\": 0.4151074981689453}}}\u001b[0m\n",
      "\u001b[34m#metrics {\"StartTime\": 1669357085.5121937, \"EndTime\": 1669357085.512211, \"Dimensions\": {\"Algorithm\": \"Linear Learner\", \"Host\": \"algo-1\", \"Operation\": \"training\", \"epoch\": 9, \"model\": 14}, \"Metrics\": {\"train_mse_objective\": {\"sum\": 0.4572931671142578, \"count\": 1, \"min\": 0.4572931671142578, \"max\": 0.4572931671142578}}}\u001b[0m\n",
      "\u001b[34m#metrics {\"StartTime\": 1669357085.5122657, \"EndTime\": 1669357085.5122821, \"Dimensions\": {\"Algorithm\": \"Linear Learner\", \"Host\": \"algo-1\", \"Operation\": \"training\", \"epoch\": 9, \"model\": 15}, \"Metrics\": {\"train_mse_objective\": {\"sum\": 0.37591583251953126, \"count\": 1, \"min\": 0.37591583251953126, \"max\": 0.37591583251953126}}}\u001b[0m\n",
      "\u001b[34m#metrics {\"StartTime\": 1669357085.5123472, \"EndTime\": 1669357085.5123641, \"Dimensions\": {\"Algorithm\": \"Linear Learner\", \"Host\": \"algo-1\", \"Operation\": \"training\", \"epoch\": 9, \"model\": 16}, \"Metrics\": {\"train_mse_objective\": {\"sum\": 0.6677721405029297, \"count\": 1, \"min\": 0.6677721405029297, \"max\": 0.6677721405029297}}}\u001b[0m\n",
      "\u001b[34m#metrics {\"StartTime\": 1669357085.5124247, \"EndTime\": 1669357085.5124414, \"Dimensions\": {\"Algorithm\": \"Linear Learner\", \"Host\": \"algo-1\", \"Operation\": \"training\", \"epoch\": 9, \"model\": 17}, \"Metrics\": {\"train_mse_objective\": {\"sum\": 0.5955747604370117, \"count\": 1, \"min\": 0.5955747604370117, \"max\": 0.5955747604370117}}}\u001b[0m\n",
      "\u001b[34m#metrics {\"StartTime\": 1669357085.5124953, \"EndTime\": 1669357085.5125117, \"Dimensions\": {\"Algorithm\": \"Linear Learner\", \"Host\": \"algo-1\", \"Operation\": \"training\", \"epoch\": 9, \"model\": 18}, \"Metrics\": {\"train_mse_objective\": {\"sum\": 0.8110710906982422, \"count\": 1, \"min\": 0.8110710906982422, \"max\": 0.8110710906982422}}}\u001b[0m\n",
      "\u001b[34m#metrics {\"StartTime\": 1669357085.5125701, \"EndTime\": 1669357085.5125854, \"Dimensions\": {\"Algorithm\": \"Linear Learner\", \"Host\": \"algo-1\", \"Operation\": \"training\", \"epoch\": 9, \"model\": 19}, \"Metrics\": {\"train_mse_objective\": {\"sum\": 0.6749858856201172, \"count\": 1, \"min\": 0.6749858856201172, \"max\": 0.6749858856201172}}}\u001b[0m\n",
      "\u001b[34m#metrics {\"StartTime\": 1669357085.5126455, \"EndTime\": 1669357085.512663, \"Dimensions\": {\"Algorithm\": \"Linear Learner\", \"Host\": \"algo-1\", \"Operation\": \"training\", \"epoch\": 9, \"model\": 20}, \"Metrics\": {\"train_mse_objective\": {\"sum\": 0.3733267593383789, \"count\": 1, \"min\": 0.3733267593383789, \"max\": 0.3733267593383789}}}\u001b[0m\n",
      "\u001b[34m#metrics {\"StartTime\": 1669357085.5127149, \"EndTime\": 1669357085.5127308, \"Dimensions\": {\"Algorithm\": \"Linear Learner\", \"Host\": \"algo-1\", \"Operation\": \"training\", \"epoch\": 9, \"model\": 21}, \"Metrics\": {\"train_mse_objective\": {\"sum\": 0.4180237579345703, \"count\": 1, \"min\": 0.4180237579345703, \"max\": 0.4180237579345703}}}\u001b[0m\n",
      "\u001b[34m#metrics {\"StartTime\": 1669357085.5127883, \"EndTime\": 1669357085.5128045, \"Dimensions\": {\"Algorithm\": \"Linear Learner\", \"Host\": \"algo-1\", \"Operation\": \"training\", \"epoch\": 9, \"model\": 22}, \"Metrics\": {\"train_mse_objective\": {\"sum\": 0.3838484573364258, \"count\": 1, \"min\": 0.3838484573364258, \"max\": 0.3838484573364258}}}\u001b[0m\n",
      "\u001b[34m#metrics {\"StartTime\": 1669357085.512858, \"EndTime\": 1669357085.5128734, \"Dimensions\": {\"Algorithm\": \"Linear Learner\", \"Host\": \"algo-1\", \"Operation\": \"training\", \"epoch\": 9, \"model\": 23}, \"Metrics\": {\"train_mse_objective\": {\"sum\": 0.43409290313720705, \"count\": 1, \"min\": 0.43409290313720705, \"max\": 0.43409290313720705}}}\u001b[0m\n",
      "\u001b[34m#metrics {\"StartTime\": 1669357085.5129256, \"EndTime\": 1669357085.5129416, \"Dimensions\": {\"Algorithm\": \"Linear Learner\", \"Host\": \"algo-1\", \"Operation\": \"training\", \"epoch\": 9, \"model\": 24}, \"Metrics\": {\"train_mse_objective\": {\"sum\": 0.9898857879638672, \"count\": 1, \"min\": 0.9898857879638672, \"max\": 0.9898857879638672}}}\u001b[0m\n",
      "\u001b[34m#metrics {\"StartTime\": 1669357085.5129936, \"EndTime\": 1669357085.5130093, \"Dimensions\": {\"Algorithm\": \"Linear Learner\", \"Host\": \"algo-1\", \"Operation\": \"training\", \"epoch\": 9, \"model\": 25}, \"Metrics\": {\"train_mse_objective\": {\"sum\": 0.9560350036621094, \"count\": 1, \"min\": 0.9560350036621094, \"max\": 0.9560350036621094}}}\u001b[0m\n",
      "\u001b[34m#metrics {\"StartTime\": 1669357085.5130754, \"EndTime\": 1669357085.5130928, \"Dimensions\": {\"Algorithm\": \"Linear Learner\", \"Host\": \"algo-1\", \"Operation\": \"training\", \"epoch\": 9, \"model\": 26}, \"Metrics\": {\"train_mse_objective\": {\"sum\": 0.9525550079345703, \"count\": 1, \"min\": 0.9525550079345703, \"max\": 0.9525550079345703}}}\u001b[0m\n",
      "\u001b[34m#metrics {\"StartTime\": 1669357085.5131564, \"EndTime\": 1669357085.5131721, \"Dimensions\": {\"Algorithm\": \"Linear Learner\", \"Host\": \"algo-1\", \"Operation\": \"training\", \"epoch\": 9, \"model\": 27}, \"Metrics\": {\"train_mse_objective\": {\"sum\": 0.9640946197509765, \"count\": 1, \"min\": 0.9640946197509765, \"max\": 0.9640946197509765}}}\u001b[0m\n",
      "\u001b[34m#metrics {\"StartTime\": 1669357085.5132337, \"EndTime\": 1669357085.5132504, \"Dimensions\": {\"Algorithm\": \"Linear Learner\", \"Host\": \"algo-1\", \"Operation\": \"training\", \"epoch\": 9, \"model\": 28}, \"Metrics\": {\"train_mse_objective\": {\"sum\": 1.06796630859375, \"count\": 1, \"min\": 1.06796630859375, \"max\": 1.06796630859375}}}\u001b[0m\n",
      "\u001b[34m#metrics {\"StartTime\": 1669357085.5132985, \"EndTime\": 1669357085.5133138, \"Dimensions\": {\"Algorithm\": \"Linear Learner\", \"Host\": \"algo-1\", \"Operation\": \"training\", \"epoch\": 9, \"model\": 29}, \"Metrics\": {\"train_mse_objective\": {\"sum\": 1.2202145385742187, \"count\": 1, \"min\": 1.2202145385742187, \"max\": 1.2202145385742187}}}\u001b[0m\n",
      "\u001b[34m#metrics {\"StartTime\": 1669357085.5133688, \"EndTime\": 1669357085.513385, \"Dimensions\": {\"Algorithm\": \"Linear Learner\", \"Host\": \"algo-1\", \"Operation\": \"training\", \"epoch\": 9, \"model\": 30}, \"Metrics\": {\"train_mse_objective\": {\"sum\": 0.9629137420654297, \"count\": 1, \"min\": 0.9629137420654297, \"max\": 0.9629137420654297}}}\u001b[0m\n",
      "\u001b[34m#metrics {\"StartTime\": 1669357085.5134423, \"EndTime\": 1669357085.5134583, \"Dimensions\": {\"Algorithm\": \"Linear Learner\", \"Host\": \"algo-1\", \"Operation\": \"training\", \"epoch\": 9, \"model\": 31}, \"Metrics\": {\"train_mse_objective\": {\"sum\": 1.0475379943847656, \"count\": 1, \"min\": 1.0475379943847656, \"max\": 1.0475379943847656}}}\u001b[0m\n",
      "\u001b[34m[11/25/2022 06:18:05 INFO 140704388560704] #quality_metric: host=algo-1, epoch=9, train mse_objective <loss>=0.6102803421020507\u001b[0m\n",
      "\u001b[34m#metrics {\"StartTime\": 1669357085.5674036, \"EndTime\": 1669357085.5674846, \"Dimensions\": {\"Algorithm\": \"Linear Learner\", \"Host\": \"algo-1\", \"Operation\": \"training\", \"epoch\": 9, \"model\": 0}, \"Metrics\": {\"validation_mse_objective\": {\"sum\": 48.12682669503348, \"count\": 1, \"min\": 48.12682669503348, \"max\": 48.12682669503348}}}\u001b[0m\n",
      "\u001b[34m#metrics {\"StartTime\": 1669357085.5675888, \"EndTime\": 1669357085.5676098, \"Dimensions\": {\"Algorithm\": \"Linear Learner\", \"Host\": \"algo-1\", \"Operation\": \"training\", \"epoch\": 9, \"model\": 1}, \"Metrics\": {\"validation_mse_objective\": {\"sum\": 47.92905970982143, \"count\": 1, \"min\": 47.92905970982143, \"max\": 47.92905970982143}}}\u001b[0m\n",
      "\u001b[34m#metrics {\"StartTime\": 1669357085.5676777, \"EndTime\": 1669357085.5676954, \"Dimensions\": {\"Algorithm\": \"Linear Learner\", \"Host\": \"algo-1\", \"Operation\": \"training\", \"epoch\": 9, \"model\": 2}, \"Metrics\": {\"validation_mse_objective\": {\"sum\": 63.379063197544646, \"count\": 1, \"min\": 63.379063197544646, \"max\": 63.379063197544646}}}\u001b[0m\n",
      "\u001b[34m#metrics {\"StartTime\": 1669357085.5677502, \"EndTime\": 1669357085.5677645, \"Dimensions\": {\"Algorithm\": \"Linear Learner\", \"Host\": \"algo-1\", \"Operation\": \"training\", \"epoch\": 9, \"model\": 3}, \"Metrics\": {\"validation_mse_objective\": {\"sum\": 46.668287004743306, \"count\": 1, \"min\": 46.668287004743306, \"max\": 46.668287004743306}}}\u001b[0m\n",
      "\u001b[34m#metrics {\"StartTime\": 1669357085.5678136, \"EndTime\": 1669357085.5678284, \"Dimensions\": {\"Algorithm\": \"Linear Learner\", \"Host\": \"algo-1\", \"Operation\": \"training\", \"epoch\": 9, \"model\": 4}, \"Metrics\": {\"validation_mse_objective\": {\"sum\": 35.35939679827009, \"count\": 1, \"min\": 35.35939679827009, \"max\": 35.35939679827009}}}\u001b[0m\n",
      "\u001b[34m#metrics {\"StartTime\": 1669357085.5679026, \"EndTime\": 1669357085.5679202, \"Dimensions\": {\"Algorithm\": \"Linear Learner\", \"Host\": \"algo-1\", \"Operation\": \"training\", \"epoch\": 9, \"model\": 5}, \"Metrics\": {\"validation_mse_objective\": {\"sum\": 28.195491245814733, \"count\": 1, \"min\": 28.195491245814733, \"max\": 28.195491245814733}}}\u001b[0m\n",
      "\u001b[34m#metrics {\"StartTime\": 1669357085.567973, \"EndTime\": 1669357085.5679884, \"Dimensions\": {\"Algorithm\": \"Linear Learner\", \"Host\": \"algo-1\", \"Operation\": \"training\", \"epoch\": 9, \"model\": 6}, \"Metrics\": {\"validation_mse_objective\": {\"sum\": 31.963126046316965, \"count\": 1, \"min\": 31.963126046316965, \"max\": 31.963126046316965}}}\u001b[0m\n",
      "\u001b[34m#metrics {\"StartTime\": 1669357085.5680501, \"EndTime\": 1669357085.5680678, \"Dimensions\": {\"Algorithm\": \"Linear Learner\", \"Host\": \"algo-1\", \"Operation\": \"training\", \"epoch\": 9, \"model\": 7}, \"Metrics\": {\"validation_mse_objective\": {\"sum\": 32.60094560895647, \"count\": 1, \"min\": 32.60094560895647, \"max\": 32.60094560895647}}}\u001b[0m\n",
      "\u001b[34m#metrics {\"StartTime\": 1669357085.568117, \"EndTime\": 1669357085.56813, \"Dimensions\": {\"Algorithm\": \"Linear Learner\", \"Host\": \"algo-1\", \"Operation\": \"training\", \"epoch\": 9, \"model\": 8}, \"Metrics\": {\"validation_mse_objective\": {\"sum\": 53.853868756975444, \"count\": 1, \"min\": 53.853868756975444, \"max\": 53.853868756975444}}}\u001b[0m\n",
      "\u001b[34m#metrics {\"StartTime\": 1669357085.568179, \"EndTime\": 1669357085.5681949, \"Dimensions\": {\"Algorithm\": \"Linear Learner\", \"Host\": \"algo-1\", \"Operation\": \"training\", \"epoch\": 9, \"model\": 9}, \"Metrics\": {\"validation_mse_objective\": {\"sum\": 67.16486467633929, \"count\": 1, \"min\": 67.16486467633929, \"max\": 67.16486467633929}}}\u001b[0m\n",
      "\u001b[34m#metrics {\"StartTime\": 1669357085.5682535, \"EndTime\": 1669357085.5682647, \"Dimensions\": {\"Algorithm\": \"Linear Learner\", \"Host\": \"algo-1\", \"Operation\": \"training\", \"epoch\": 9, \"model\": 10}, \"Metrics\": {\"validation_mse_objective\": {\"sum\": 50.05393327985491, \"count\": 1, \"min\": 50.05393327985491, \"max\": 50.05393327985491}}}\u001b[0m\n",
      "\u001b[34m#metrics {\"StartTime\": 1669357085.5683131, \"EndTime\": 1669357085.5683284, \"Dimensions\": {\"Algorithm\": \"Linear Learner\", \"Host\": \"algo-1\", \"Operation\": \"training\", \"epoch\": 9, \"model\": 11}, \"Metrics\": {\"validation_mse_objective\": {\"sum\": 58.430943080357146, \"count\": 1, \"min\": 58.430943080357146, \"max\": 58.430943080357146}}}\u001b[0m\n",
      "\u001b[34m#metrics {\"StartTime\": 1669357085.5683727, \"EndTime\": 1669357085.5683818, \"Dimensions\": {\"Algorithm\": \"Linear Learner\", \"Host\": \"algo-1\", \"Operation\": \"training\", \"epoch\": 9, \"model\": 12}, \"Metrics\": {\"validation_mse_objective\": {\"sum\": 32.721971784319194, \"count\": 1, \"min\": 32.721971784319194, \"max\": 32.721971784319194}}}\u001b[0m\n",
      "\u001b[34m#metrics {\"StartTime\": 1669357085.568411, \"EndTime\": 1669357085.5684247, \"Dimensions\": {\"Algorithm\": \"Linear Learner\", \"Host\": \"algo-1\", \"Operation\": \"training\", \"epoch\": 9, \"model\": 13}, \"Metrics\": {\"validation_mse_objective\": {\"sum\": 34.50169808523996, \"count\": 1, \"min\": 34.50169808523996, \"max\": 34.50169808523996}}}\u001b[0m\n",
      "\u001b[34m#metrics {\"StartTime\": 1669357085.5684807, \"EndTime\": 1669357085.5684915, \"Dimensions\": {\"Algorithm\": \"Linear Learner\", \"Host\": \"algo-1\", \"Operation\": \"training\", \"epoch\": 9, \"model\": 14}, \"Metrics\": {\"validation_mse_objective\": {\"sum\": 33.82557242257254, \"count\": 1, \"min\": 33.82557242257254, \"max\": 33.82557242257254}}}\u001b[0m\n",
      "\u001b[34m#metrics {\"StartTime\": 1669357085.5685287, \"EndTime\": 1669357085.5685427, \"Dimensions\": {\"Algorithm\": \"Linear Learner\", \"Host\": \"algo-1\", \"Operation\": \"training\", \"epoch\": 9, \"model\": 15}, \"Metrics\": {\"validation_mse_objective\": {\"sum\": 30.860918317522323, \"count\": 1, \"min\": 30.860918317522323, \"max\": 30.860918317522323}}}\u001b[0m\n",
      "\u001b[34m#metrics {\"StartTime\": 1669357085.5685887, \"EndTime\": 1669357085.568604, \"Dimensions\": {\"Algorithm\": \"Linear Learner\", \"Host\": \"algo-1\", \"Operation\": \"training\", \"epoch\": 9, \"model\": 16}, \"Metrics\": {\"validation_mse_objective\": {\"sum\": 52.881116594587056, \"count\": 1, \"min\": 52.881116594587056, \"max\": 52.881116594587056}}}\u001b[0m\n",
      "\u001b[34m#metrics {\"StartTime\": 1669357085.5686462, \"EndTime\": 1669357085.5686553, \"Dimensions\": {\"Algorithm\": \"Linear Learner\", \"Host\": \"algo-1\", \"Operation\": \"training\", \"epoch\": 9, \"model\": 17}, \"Metrics\": {\"validation_mse_objective\": {\"sum\": 47.9317626953125, \"count\": 1, \"min\": 47.9317626953125, \"max\": 47.9317626953125}}}\u001b[0m\n",
      "\u001b[34m#metrics {\"StartTime\": 1669357085.5686886, \"EndTime\": 1669357085.5687027, \"Dimensions\": {\"Algorithm\": \"Linear Learner\", \"Host\": \"algo-1\", \"Operation\": \"training\", \"epoch\": 9, \"model\": 18}, \"Metrics\": {\"validation_mse_objective\": {\"sum\": 65.70618111746651, \"count\": 1, \"min\": 65.70618111746651, \"max\": 65.70618111746651}}}\u001b[0m\n",
      "\u001b[34m#metrics {\"StartTime\": 1669357085.5687506, \"EndTime\": 1669357085.5687594, \"Dimensions\": {\"Algorithm\": \"Linear Learner\", \"Host\": \"algo-1\", \"Operation\": \"training\", \"epoch\": 9, \"model\": 19}, \"Metrics\": {\"validation_mse_objective\": {\"sum\": 55.685516357421875, \"count\": 1, \"min\": 55.685516357421875, \"max\": 55.685516357421875}}}\u001b[0m\n",
      "\u001b[34m#metrics {\"StartTime\": 1669357085.5688024, \"EndTime\": 1669357085.5688121, \"Dimensions\": {\"Algorithm\": \"Linear Learner\", \"Host\": \"algo-1\", \"Operation\": \"training\", \"epoch\": 9, \"model\": 20}, \"Metrics\": {\"validation_mse_objective\": {\"sum\": 22.957412719726562, \"count\": 1, \"min\": 22.957412719726562, \"max\": 22.957412719726562}}}\u001b[0m\n",
      "\u001b[34m#metrics {\"StartTime\": 1669357085.5688598, \"EndTime\": 1669357085.5688753, \"Dimensions\": {\"Algorithm\": \"Linear Learner\", \"Host\": \"algo-1\", \"Operation\": \"training\", \"epoch\": 9, \"model\": 21}, \"Metrics\": {\"validation_mse_objective\": {\"sum\": 23.28291974748884, \"count\": 1, \"min\": 23.28291974748884, \"max\": 23.28291974748884}}}\u001b[0m\n",
      "\u001b[34m#metrics {\"StartTime\": 1669357085.5689268, \"EndTime\": 1669357085.568936, \"Dimensions\": {\"Algorithm\": \"Linear Learner\", \"Host\": \"algo-1\", \"Operation\": \"training\", \"epoch\": 9, \"model\": 22}, \"Metrics\": {\"validation_mse_objective\": {\"sum\": 23.824395315987722, \"count\": 1, \"min\": 23.824395315987722, \"max\": 23.824395315987722}}}\u001b[0m\n",
      "\u001b[34m#metrics {\"StartTime\": 1669357085.5689735, \"EndTime\": 1669357085.5689883, \"Dimensions\": {\"Algorithm\": \"Linear Learner\", \"Host\": \"algo-1\", \"Operation\": \"training\", \"epoch\": 9, \"model\": 23}, \"Metrics\": {\"validation_mse_objective\": {\"sum\": 27.607121058872767, \"count\": 1, \"min\": 27.607121058872767, \"max\": 27.607121058872767}}}\u001b[0m\n",
      "\u001b[34m#metrics {\"StartTime\": 1669357085.5690362, \"EndTime\": 1669357085.5690455, \"Dimensions\": {\"Algorithm\": \"Linear Learner\", \"Host\": \"algo-1\", \"Operation\": \"training\", \"epoch\": 9, \"model\": 24}, \"Metrics\": {\"validation_mse_objective\": {\"sum\": 81.41414097377232, \"count\": 1, \"min\": 81.41414097377232, \"max\": 81.41414097377232}}}\u001b[0m\n",
      "\u001b[34m#metrics {\"StartTime\": 1669357085.569079, \"EndTime\": 1669357085.5690928, \"Dimensions\": {\"Algorithm\": \"Linear Learner\", \"Host\": \"algo-1\", \"Operation\": \"training\", \"epoch\": 9, \"model\": 25}, \"Metrics\": {\"validation_mse_objective\": {\"sum\": 78.12938581194196, \"count\": 1, \"min\": 78.12938581194196, \"max\": 78.12938581194196}}}\u001b[0m\n",
      "\u001b[34m#metrics {\"StartTime\": 1669357085.5691504, \"EndTime\": 1669357085.5691612, \"Dimensions\": {\"Algorithm\": \"Linear Learner\", \"Host\": \"algo-1\", \"Operation\": \"training\", \"epoch\": 9, \"model\": 26}, \"Metrics\": {\"validation_mse_objective\": {\"sum\": 77.02834647042411, \"count\": 1, \"min\": 77.02834647042411, \"max\": 77.02834647042411}}}\u001b[0m\n",
      "\u001b[34m#metrics {\"StartTime\": 1669357085.5691998, \"EndTime\": 1669357085.5692108, \"Dimensions\": {\"Algorithm\": \"Linear Learner\", \"Host\": \"algo-1\", \"Operation\": \"training\", \"epoch\": 9, \"model\": 27}, \"Metrics\": {\"validation_mse_objective\": {\"sum\": 78.30605643136161, \"count\": 1, \"min\": 78.30605643136161, \"max\": 78.30605643136161}}}\u001b[0m\n",
      "\u001b[34m#metrics {\"StartTime\": 1669357085.5692518, \"EndTime\": 1669357085.5692673, \"Dimensions\": {\"Algorithm\": \"Linear Learner\", \"Host\": \"algo-1\", \"Operation\": \"training\", \"epoch\": 9, \"model\": 28}, \"Metrics\": {\"validation_mse_objective\": {\"sum\": 78.99504743303571, \"count\": 1, \"min\": 78.99504743303571, \"max\": 78.99504743303571}}}\u001b[0m\n",
      "\u001b[34m#metrics {\"StartTime\": 1669357085.5693264, \"EndTime\": 1669357085.5693436, \"Dimensions\": {\"Algorithm\": \"Linear Learner\", \"Host\": \"algo-1\", \"Operation\": \"training\", \"epoch\": 9, \"model\": 29}, \"Metrics\": {\"validation_mse_objective\": {\"sum\": 87.86853899274554, \"count\": 1, \"min\": 87.86853899274554, \"max\": 87.86853899274554}}}\u001b[0m\n",
      "\u001b[34m#metrics {\"StartTime\": 1669357085.5693948, \"EndTime\": 1669357085.5694108, \"Dimensions\": {\"Algorithm\": \"Linear Learner\", \"Host\": \"algo-1\", \"Operation\": \"training\", \"epoch\": 9, \"model\": 30}, \"Metrics\": {\"validation_mse_objective\": {\"sum\": 70.65603637695312, \"count\": 1, \"min\": 70.65603637695312, \"max\": 70.65603637695312}}}\u001b[0m\n",
      "\u001b[34m#metrics {\"StartTime\": 1669357085.5694747, \"EndTime\": 1669357085.5694919, \"Dimensions\": {\"Algorithm\": \"Linear Learner\", \"Host\": \"algo-1\", \"Operation\": \"training\", \"epoch\": 9, \"model\": 31}, \"Metrics\": {\"validation_mse_objective\": {\"sum\": 82.59268624441964, \"count\": 1, \"min\": 82.59268624441964, \"max\": 82.59268624441964}}}\u001b[0m\n",
      "\u001b[34m[11/25/2022 06:18:05 INFO 140704388560704] #quality_metric: host=algo-1, epoch=9, validation mse_objective <loss>=48.12682669503348\u001b[0m\n",
      "\u001b[34m[11/25/2022 06:18:05 INFO 140704388560704] #early_stopping_criteria_metric: host=algo-1, epoch=9, criteria=mse_objective, value=22.957412719726562\u001b[0m\n",
      "\u001b[34m[11/25/2022 06:18:05 INFO 140704388560704] Saving model for epoch: 9\u001b[0m\n",
      "\u001b[34m[11/25/2022 06:18:05 INFO 140704388560704] Saved checkpoint to \"/tmp/tmpztwc7q5o/mx-mod-0000.params\"\u001b[0m\n",
      "\u001b[34m[11/25/2022 06:18:05 INFO 140704388560704] #progress_metric: host=algo-1, completed 66.66666666666667 % of epochs\u001b[0m\n",
      "\u001b[34m#metrics {\"StartTime\": 1669357085.4834683, \"EndTime\": 1669357085.576151, \"Dimensions\": {\"Algorithm\": \"Linear Learner\", \"Host\": \"algo-1\", \"Operation\": \"training\", \"epoch\": 9, \"Meta\": \"training_data_iter\"}, \"Metrics\": {\"Total Records Seen\": {\"sum\": 2697.0, \"count\": 1, \"min\": 2697, \"max\": 2697}, \"Total Batches Seen\": {\"sum\": 23.0, \"count\": 1, \"min\": 23, \"max\": 23}, \"Max Records Seen Between Resets\": {\"sum\": 227.0, \"count\": 1, \"min\": 227, \"max\": 227}, \"Max Batches Seen Between Resets\": {\"sum\": 2.0, \"count\": 1, \"min\": 2, \"max\": 2}, \"Reset Count\": {\"sum\": 12.0, \"count\": 1, \"min\": 12, \"max\": 12}, \"Number of Records Since Last Reset\": {\"sum\": 227.0, \"count\": 1, \"min\": 227, \"max\": 227}, \"Number of Batches Since Last Reset\": {\"sum\": 2.0, \"count\": 1, \"min\": 2, \"max\": 2}}}\u001b[0m\n",
      "\u001b[34m[11/25/2022 06:18:05 INFO 140704388560704] #throughput_metric: host=algo-1, train throughput=2445.375646590471 records/second\u001b[0m\n",
      "\u001b[34m#metrics {\"StartTime\": 1669357085.6111794, \"EndTime\": 1669357085.6112285, \"Dimensions\": {\"Algorithm\": \"Linear Learner\", \"Host\": \"algo-1\", \"Operation\": \"training\", \"epoch\": 10, \"model\": 0}, \"Metrics\": {\"train_mse_objective\": {\"sum\": 0.5894427871704102, \"count\": 1, \"min\": 0.5894427871704102, \"max\": 0.5894427871704102}}}\u001b[0m\n",
      "\u001b[34m#metrics {\"StartTime\": 1669357085.6112978, \"EndTime\": 1669357085.6113112, \"Dimensions\": {\"Algorithm\": \"Linear Learner\", \"Host\": \"algo-1\", \"Operation\": \"training\", \"epoch\": 10, \"model\": 1}, \"Metrics\": {\"train_mse_objective\": {\"sum\": 0.5787713241577148, \"count\": 1, \"min\": 0.5787713241577148, \"max\": 0.5787713241577148}}}\u001b[0m\n",
      "\u001b[34m#metrics {\"StartTime\": 1669357085.6113696, \"EndTime\": 1669357085.6113825, \"Dimensions\": {\"Algorithm\": \"Linear Learner\", \"Host\": \"algo-1\", \"Operation\": \"training\", \"epoch\": 10, \"model\": 2}, \"Metrics\": {\"train_mse_objective\": {\"sum\": 0.7774278259277344, \"count\": 1, \"min\": 0.7774278259277344, \"max\": 0.7774278259277344}}}\u001b[0m\n",
      "\u001b[34m#metrics {\"StartTime\": 1669357085.6114354, \"EndTime\": 1669357085.6114526, \"Dimensions\": {\"Algorithm\": \"Linear Learner\", \"Host\": \"algo-1\", \"Operation\": \"training\", \"epoch\": 10, \"model\": 3}, \"Metrics\": {\"train_mse_objective\": {\"sum\": 0.5685914611816406, \"count\": 1, \"min\": 0.5685914611816406, \"max\": 0.5685914611816406}}}\u001b[0m\n",
      "\u001b[34m#metrics {\"StartTime\": 1669357085.611506, \"EndTime\": 1669357085.6115227, \"Dimensions\": {\"Algorithm\": \"Linear Learner\", \"Host\": \"algo-1\", \"Operation\": \"training\", \"epoch\": 10, \"model\": 4}, \"Metrics\": {\"train_mse_objective\": {\"sum\": 0.3929961395263672, \"count\": 1, \"min\": 0.3929961395263672, \"max\": 0.3929961395263672}}}\u001b[0m\n",
      "\u001b[34m#metrics {\"StartTime\": 1669357085.6115756, \"EndTime\": 1669357085.611592, \"Dimensions\": {\"Algorithm\": \"Linear Learner\", \"Host\": \"algo-1\", \"Operation\": \"training\", \"epoch\": 10, \"model\": 5}, \"Metrics\": {\"train_mse_objective\": {\"sum\": 0.3113817977905273, \"count\": 1, \"min\": 0.3113817977905273, \"max\": 0.3113817977905273}}}\u001b[0m\n",
      "\u001b[34m#metrics {\"StartTime\": 1669357085.61163, \"EndTime\": 1669357085.611639, \"Dimensions\": {\"Algorithm\": \"Linear Learner\", \"Host\": \"algo-1\", \"Operation\": \"training\", \"epoch\": 10, \"model\": 6}, \"Metrics\": {\"train_mse_objective\": {\"sum\": 0.34495201110839846, \"count\": 1, \"min\": 0.34495201110839846, \"max\": 0.34495201110839846}}}\u001b[0m\n",
      "\u001b[34m#metrics {\"StartTime\": 1669357085.611687, \"EndTime\": 1669357085.6116989, \"Dimensions\": {\"Algorithm\": \"Linear Learner\", \"Host\": \"algo-1\", \"Operation\": \"training\", \"epoch\": 10, \"model\": 7}, \"Metrics\": {\"train_mse_objective\": {\"sum\": 0.3633189010620117, \"count\": 1, \"min\": 0.3633189010620117, \"max\": 0.3633189010620117}}}\u001b[0m\n",
      "\u001b[34m#metrics {\"StartTime\": 1669357085.6117392, \"EndTime\": 1669357085.611754, \"Dimensions\": {\"Algorithm\": \"Linear Learner\", \"Host\": \"algo-1\", \"Operation\": \"training\", \"epoch\": 10, \"model\": 8}, \"Metrics\": {\"train_mse_objective\": {\"sum\": 0.6361867141723633, \"count\": 1, \"min\": 0.6361867141723633, \"max\": 0.6361867141723633}}}\u001b[0m\n",
      "\u001b[34m#metrics {\"StartTime\": 1669357085.6118064, \"EndTime\": 1669357085.6118217, \"Dimensions\": {\"Algorithm\": \"Linear Learner\", \"Host\": \"algo-1\", \"Operation\": \"training\", \"epoch\": 10, \"model\": 9}, \"Metrics\": {\"train_mse_objective\": {\"sum\": 0.8193724822998046, \"count\": 1, \"min\": 0.8193724822998046, \"max\": 0.8193724822998046}}}\u001b[0m\n",
      "\u001b[34m#metrics {\"StartTime\": 1669357085.6119099, \"EndTime\": 1669357085.6119297, \"Dimensions\": {\"Algorithm\": \"Linear Learner\", \"Host\": \"algo-1\", \"Operation\": \"training\", \"epoch\": 10, \"model\": 10}, \"Metrics\": {\"train_mse_objective\": {\"sum\": 0.5979183959960938, \"count\": 1, \"min\": 0.5979183959960938, \"max\": 0.5979183959960938}}}\u001b[0m\n",
      "\u001b[34m#metrics {\"StartTime\": 1669357085.611986, \"EndTime\": 1669357085.6120028, \"Dimensions\": {\"Algorithm\": \"Linear Learner\", \"Host\": \"algo-1\", \"Operation\": \"training\", \"epoch\": 10, \"model\": 11}, \"Metrics\": {\"train_mse_objective\": {\"sum\": 0.7008488464355469, \"count\": 1, \"min\": 0.7008488464355469, \"max\": 0.7008488464355469}}}\u001b[0m\n",
      "\u001b[34m#metrics {\"StartTime\": 1669357085.6120527, \"EndTime\": 1669357085.61207, \"Dimensions\": {\"Algorithm\": \"Linear Learner\", \"Host\": \"algo-1\", \"Operation\": \"training\", \"epoch\": 10, \"model\": 12}, \"Metrics\": {\"train_mse_objective\": {\"sum\": 0.3735443878173828, \"count\": 1, \"min\": 0.3735443878173828, \"max\": 0.3735443878173828}}}\u001b[0m\n",
      "\u001b[34m#metrics {\"StartTime\": 1669357085.6121252, \"EndTime\": 1669357085.612142, \"Dimensions\": {\"Algorithm\": \"Linear Learner\", \"Host\": \"algo-1\", \"Operation\": \"training\", \"epoch\": 10, \"model\": 13}, \"Metrics\": {\"train_mse_objective\": {\"sum\": 0.39215927124023436, \"count\": 1, \"min\": 0.39215927124023436, \"max\": 0.39215927124023436}}}\u001b[0m\n",
      "\u001b[34m#metrics {\"StartTime\": 1669357085.612212, \"EndTime\": 1669357085.6122303, \"Dimensions\": {\"Algorithm\": \"Linear Learner\", \"Host\": \"algo-1\", \"Operation\": \"training\", \"epoch\": 10, \"model\": 14}, \"Metrics\": {\"train_mse_objective\": {\"sum\": 0.38281959533691406, \"count\": 1, \"min\": 0.38281959533691406, \"max\": 0.38281959533691406}}}\u001b[0m\n",
      "\u001b[34m#metrics {\"StartTime\": 1669357085.6122873, \"EndTime\": 1669357085.612304, \"Dimensions\": {\"Algorithm\": \"Linear Learner\", \"Host\": \"algo-1\", \"Operation\": \"training\", \"epoch\": 10, \"model\": 15}, \"Metrics\": {\"train_mse_objective\": {\"sum\": 0.3333651733398437, \"count\": 1, \"min\": 0.3333651733398437, \"max\": 0.3333651733398437}}}\u001b[0m\n",
      "\u001b[34m#metrics {\"StartTime\": 1669357085.6123424, \"EndTime\": 1669357085.6123567, \"Dimensions\": {\"Algorithm\": \"Linear Learner\", \"Host\": \"algo-1\", \"Operation\": \"training\", \"epoch\": 10, \"model\": 16}, \"Metrics\": {\"train_mse_objective\": {\"sum\": 0.6454813385009766, \"count\": 1, \"min\": 0.6454813385009766, \"max\": 0.6454813385009766}}}\u001b[0m\n",
      "\u001b[34m#metrics {\"StartTime\": 1669357085.6124065, \"EndTime\": 1669357085.6124232, \"Dimensions\": {\"Algorithm\": \"Linear Learner\", \"Host\": \"algo-1\", \"Operation\": \"training\", \"epoch\": 10, \"model\": 17}, \"Metrics\": {\"train_mse_objective\": {\"sum\": 0.5782519912719727, \"count\": 1, \"min\": 0.5782519912719727, \"max\": 0.5782519912719727}}}\u001b[0m\n",
      "\u001b[34m#metrics {\"StartTime\": 1669357085.6124673, \"EndTime\": 1669357085.6124833, \"Dimensions\": {\"Algorithm\": \"Linear Learner\", \"Host\": \"algo-1\", \"Operation\": \"training\", \"epoch\": 10, \"model\": 18}, \"Metrics\": {\"train_mse_objective\": {\"sum\": 0.7828718566894531, \"count\": 1, \"min\": 0.7828718566894531, \"max\": 0.7828718566894531}}}\u001b[0m\n",
      "\u001b[34m#metrics {\"StartTime\": 1669357085.6125352, \"EndTime\": 1669357085.612552, \"Dimensions\": {\"Algorithm\": \"Linear Learner\", \"Host\": \"algo-1\", \"Operation\": \"training\", \"epoch\": 10, \"model\": 19}, \"Metrics\": {\"train_mse_objective\": {\"sum\": 0.6535174560546875, \"count\": 1, \"min\": 0.6535174560546875, \"max\": 0.6535174560546875}}}\u001b[0m\n",
      "\u001b[34m#metrics {\"StartTime\": 1669357085.6126115, \"EndTime\": 1669357085.6126277, \"Dimensions\": {\"Algorithm\": \"Linear Learner\", \"Host\": \"algo-1\", \"Operation\": \"training\", \"epoch\": 10, \"model\": 20}, \"Metrics\": {\"train_mse_objective\": {\"sum\": 0.3154421234130859, \"count\": 1, \"min\": 0.3154421234130859, \"max\": 0.3154421234130859}}}\u001b[0m\n",
      "\u001b[34m#metrics {\"StartTime\": 1669357085.6126828, \"EndTime\": 1669357085.612699, \"Dimensions\": {\"Algorithm\": \"Linear Learner\", \"Host\": \"algo-1\", \"Operation\": \"training\", \"epoch\": 10, \"model\": 21}, \"Metrics\": {\"train_mse_objective\": {\"sum\": 0.3353324508666992, \"count\": 1, \"min\": 0.3353324508666992, \"max\": 0.3353324508666992}}}\u001b[0m\n",
      "\u001b[34m#metrics {\"StartTime\": 1669357085.61275, \"EndTime\": 1669357085.6127665, \"Dimensions\": {\"Algorithm\": \"Linear Learner\", \"Host\": \"algo-1\", \"Operation\": \"training\", \"epoch\": 10, \"model\": 22}, \"Metrics\": {\"train_mse_objective\": {\"sum\": 0.33142581939697263, \"count\": 1, \"min\": 0.33142581939697263, \"max\": 0.33142581939697263}}}\u001b[0m\n",
      "\u001b[34m#metrics {\"StartTime\": 1669357085.61282, \"EndTime\": 1669357085.612836, \"Dimensions\": {\"Algorithm\": \"Linear Learner\", \"Host\": \"algo-1\", \"Operation\": \"training\", \"epoch\": 10, \"model\": 23}, \"Metrics\": {\"train_mse_objective\": {\"sum\": 0.37187732696533204, \"count\": 1, \"min\": 0.37187732696533204, \"max\": 0.37187732696533204}}}\u001b[0m\n",
      "\u001b[34m#metrics {\"StartTime\": 1669357085.612895, \"EndTime\": 1669357085.612911, \"Dimensions\": {\"Algorithm\": \"Linear Learner\", \"Host\": \"algo-1\", \"Operation\": \"training\", \"epoch\": 10, \"model\": 24}, \"Metrics\": {\"train_mse_objective\": {\"sum\": 0.9948918151855469, \"count\": 1, \"min\": 0.9948918151855469, \"max\": 0.9948918151855469}}}\u001b[0m\n",
      "\u001b[34m#metrics {\"StartTime\": 1669357085.6129658, \"EndTime\": 1669357085.6129823, \"Dimensions\": {\"Algorithm\": \"Linear Learner\", \"Host\": \"algo-1\", \"Operation\": \"training\", \"epoch\": 10, \"model\": 25}, \"Metrics\": {\"train_mse_objective\": {\"sum\": 0.9545252990722656, \"count\": 1, \"min\": 0.9545252990722656, \"max\": 0.9545252990722656}}}\u001b[0m\n",
      "\u001b[34m#metrics {\"StartTime\": 1669357085.6130357, \"EndTime\": 1669357085.6130514, \"Dimensions\": {\"Algorithm\": \"Linear Learner\", \"Host\": \"algo-1\", \"Operation\": \"training\", \"epoch\": 10, \"model\": 26}, \"Metrics\": {\"train_mse_objective\": {\"sum\": 0.9397918701171875, \"count\": 1, \"min\": 0.9397918701171875, \"max\": 0.9397918701171875}}}\u001b[0m\n",
      "\u001b[34m#metrics {\"StartTime\": 1669357085.6131036, \"EndTime\": 1669357085.613119, \"Dimensions\": {\"Algorithm\": \"Linear Learner\", \"Host\": \"algo-1\", \"Operation\": \"training\", \"epoch\": 10, \"model\": 27}, \"Metrics\": {\"train_mse_objective\": {\"sum\": 0.9515132141113282, \"count\": 1, \"min\": 0.9515132141113282, \"max\": 0.9515132141113282}}}\u001b[0m\n",
      "\u001b[34m#metrics {\"StartTime\": 1669357085.6131737, \"EndTime\": 1669357085.6131892, \"Dimensions\": {\"Algorithm\": \"Linear Learner\", \"Host\": \"algo-1\", \"Operation\": \"training\", \"epoch\": 10, \"model\": 28}, \"Metrics\": {\"train_mse_objective\": {\"sum\": 0.9681832122802735, \"count\": 1, \"min\": 0.9681832122802735, \"max\": 0.9681832122802735}}}\u001b[0m\n",
      "\u001b[34m#metrics {\"StartTime\": 1669357085.6132605, \"EndTime\": 1669357085.6132784, \"Dimensions\": {\"Algorithm\": \"Linear Learner\", \"Host\": \"algo-1\", \"Operation\": \"training\", \"epoch\": 10, \"model\": 29}, \"Metrics\": {\"train_mse_objective\": {\"sum\": 1.044268798828125, \"count\": 1, \"min\": 1.044268798828125, \"max\": 1.044268798828125}}}\u001b[0m\n",
      "\u001b[34m#metrics {\"StartTime\": 1669357085.6133316, \"EndTime\": 1669357085.6133475, \"Dimensions\": {\"Algorithm\": \"Linear Learner\", \"Host\": \"algo-1\", \"Operation\": \"training\", \"epoch\": 10, \"model\": 30}, \"Metrics\": {\"train_mse_objective\": {\"sum\": 0.871282958984375, \"count\": 1, \"min\": 0.871282958984375, \"max\": 0.871282958984375}}}\u001b[0m\n",
      "\u001b[34m#metrics {\"StartTime\": 1669357085.6133988, \"EndTime\": 1669357085.613416, \"Dimensions\": {\"Algorithm\": \"Linear Learner\", \"Host\": \"algo-1\", \"Operation\": \"training\", \"epoch\": 10, \"model\": 31}, \"Metrics\": {\"train_mse_objective\": {\"sum\": 0.991610107421875, \"count\": 1, \"min\": 0.991610107421875, \"max\": 0.991610107421875}}}\u001b[0m\n",
      "\u001b[34m[11/25/2022 06:18:05 INFO 140704388560704] #quality_metric: host=algo-1, epoch=10, train mse_objective <loss>=0.5894427871704102\u001b[0m\n",
      "\u001b[34m#metrics {\"StartTime\": 1669357085.6666884, \"EndTime\": 1669357085.6667426, \"Dimensions\": {\"Algorithm\": \"Linear Learner\", \"Host\": \"algo-1\", \"Operation\": \"training\", \"epoch\": 10, \"model\": 0}, \"Metrics\": {\"validation_mse_objective\": {\"sum\": 46.920928955078125, \"count\": 1, \"min\": 46.920928955078125, \"max\": 46.920928955078125}}}\u001b[0m\n",
      "\u001b[34m#metrics {\"StartTime\": 1669357085.666819, \"EndTime\": 1669357085.6668327, \"Dimensions\": {\"Algorithm\": \"Linear Learner\", \"Host\": \"algo-1\", \"Operation\": \"training\", \"epoch\": 10, \"model\": 1}, \"Metrics\": {\"validation_mse_objective\": {\"sum\": 47.035853794642854, \"count\": 1, \"min\": 47.035853794642854, \"max\": 47.035853794642854}}}\u001b[0m\n",
      "\u001b[34m#metrics {\"StartTime\": 1669357085.6668983, \"EndTime\": 1669357085.666916, \"Dimensions\": {\"Algorithm\": \"Linear Learner\", \"Host\": \"algo-1\", \"Operation\": \"training\", \"epoch\": 10, \"model\": 2}, \"Metrics\": {\"validation_mse_objective\": {\"sum\": 60.531991141183035, \"count\": 1, \"min\": 60.531991141183035, \"max\": 60.531991141183035}}}\u001b[0m\n",
      "\u001b[34m#metrics {\"StartTime\": 1669357085.6669781, \"EndTime\": 1669357085.6669958, \"Dimensions\": {\"Algorithm\": \"Linear Learner\", \"Host\": \"algo-1\", \"Operation\": \"training\", \"epoch\": 10, \"model\": 3}, \"Metrics\": {\"validation_mse_objective\": {\"sum\": 45.77128383091518, \"count\": 1, \"min\": 45.77128383091518, \"max\": 45.77128383091518}}}\u001b[0m\n",
      "\u001b[34m#metrics {\"StartTime\": 1669357085.6670485, \"EndTime\": 1669357085.6670644, \"Dimensions\": {\"Algorithm\": \"Linear Learner\", \"Host\": \"algo-1\", \"Operation\": \"training\", \"epoch\": 10, \"model\": 4}, \"Metrics\": {\"validation_mse_objective\": {\"sum\": 35.461151123046875, \"count\": 1, \"min\": 35.461151123046875, \"max\": 35.461151123046875}}}\u001b[0m\n",
      "\u001b[34m#metrics {\"StartTime\": 1669357085.66711, \"EndTime\": 1669357085.6671252, \"Dimensions\": {\"Algorithm\": \"Linear Learner\", \"Host\": \"algo-1\", \"Operation\": \"training\", \"epoch\": 10, \"model\": 5}, \"Metrics\": {\"validation_mse_objective\": {\"sum\": 33.60709272112165, \"count\": 1, \"min\": 33.60709272112165, \"max\": 33.60709272112165}}}\u001b[0m\n",
      "\u001b[34m#metrics {\"StartTime\": 1669357085.6671739, \"EndTime\": 1669357085.6671882, \"Dimensions\": {\"Algorithm\": \"Linear Learner\", \"Host\": \"algo-1\", \"Operation\": \"training\", \"epoch\": 10, \"model\": 6}, \"Metrics\": {\"validation_mse_objective\": {\"sum\": 36.83963884626116, \"count\": 1, \"min\": 36.83963884626116, \"max\": 36.83963884626116}}}\u001b[0m\n",
      "\u001b[34m#metrics {\"StartTime\": 1669357085.6672413, \"EndTime\": 1669357085.6672566, \"Dimensions\": {\"Algorithm\": \"Linear Learner\", \"Host\": \"algo-1\", \"Operation\": \"training\", \"epoch\": 10, \"model\": 7}, \"Metrics\": {\"validation_mse_objective\": {\"sum\": 36.10254124232701, \"count\": 1, \"min\": 36.10254124232701, \"max\": 36.10254124232701}}}\u001b[0m\n",
      "\u001b[34m#metrics {\"StartTime\": 1669357085.6673102, \"EndTime\": 1669357085.667328, \"Dimensions\": {\"Algorithm\": \"Linear Learner\", \"Host\": \"algo-1\", \"Operation\": \"training\", \"epoch\": 10, \"model\": 8}, \"Metrics\": {\"validation_mse_objective\": {\"sum\": 53.01147024972098, \"count\": 1, \"min\": 53.01147024972098, \"max\": 53.01147024972098}}}\u001b[0m\n",
      "\u001b[34m#metrics {\"StartTime\": 1669357085.6673806, \"EndTime\": 1669357085.6673965, \"Dimensions\": {\"Algorithm\": \"Linear Learner\", \"Host\": \"algo-1\", \"Operation\": \"training\", \"epoch\": 10, \"model\": 9}, \"Metrics\": {\"validation_mse_objective\": {\"sum\": 63.985996791294646, \"count\": 1, \"min\": 63.985996791294646, \"max\": 63.985996791294646}}}\u001b[0m\n",
      "\u001b[34m#metrics {\"StartTime\": 1669357085.6674638, \"EndTime\": 1669357085.6674814, \"Dimensions\": {\"Algorithm\": \"Linear Learner\", \"Host\": \"algo-1\", \"Operation\": \"training\", \"epoch\": 10, \"model\": 10}, \"Metrics\": {\"validation_mse_objective\": {\"sum\": 49.220284598214285, \"count\": 1, \"min\": 49.220284598214285, \"max\": 49.220284598214285}}}\u001b[0m\n",
      "\u001b[34m#metrics {\"StartTime\": 1669357085.6675358, \"EndTime\": 1669357085.6675515, \"Dimensions\": {\"Algorithm\": \"Linear Learner\", \"Host\": \"algo-1\", \"Operation\": \"training\", \"epoch\": 10, \"model\": 11}, \"Metrics\": {\"validation_mse_objective\": {\"sum\": 56.824371337890625, \"count\": 1, \"min\": 56.824371337890625, \"max\": 56.824371337890625}}}\u001b[0m\n",
      "\u001b[34m#metrics {\"StartTime\": 1669357085.667606, \"EndTime\": 1669357085.6676235, \"Dimensions\": {\"Algorithm\": \"Linear Learner\", \"Host\": \"algo-1\", \"Operation\": \"training\", \"epoch\": 10, \"model\": 12}, \"Metrics\": {\"validation_mse_objective\": {\"sum\": 37.28241402762277, \"count\": 1, \"min\": 37.28241402762277, \"max\": 37.28241402762277}}}\u001b[0m\n",
      "\u001b[34m#metrics {\"StartTime\": 1669357085.6676748, \"EndTime\": 1669357085.6676903, \"Dimensions\": {\"Algorithm\": \"Linear Learner\", \"Host\": \"algo-1\", \"Operation\": \"training\", \"epoch\": 10, \"model\": 13}, \"Metrics\": {\"validation_mse_objective\": {\"sum\": 37.35654558454241, \"count\": 1, \"min\": 37.35654558454241, \"max\": 37.35654558454241}}}\u001b[0m\n",
      "\u001b[34m#metrics {\"StartTime\": 1669357085.6677432, \"EndTime\": 1669357085.6677597, \"Dimensions\": {\"Algorithm\": \"Linear Learner\", \"Host\": \"algo-1\", \"Operation\": \"training\", \"epoch\": 10, \"model\": 14}, \"Metrics\": {\"validation_mse_objective\": {\"sum\": 33.00529261997768, \"count\": 1, \"min\": 33.00529261997768, \"max\": 33.00529261997768}}}\u001b[0m\n",
      "\u001b[34m#metrics {\"StartTime\": 1669357085.6678154, \"EndTime\": 1669357085.667831, \"Dimensions\": {\"Algorithm\": \"Linear Learner\", \"Host\": \"algo-1\", \"Operation\": \"training\", \"epoch\": 10, \"model\": 15}, \"Metrics\": {\"validation_mse_objective\": {\"sum\": 36.5634525844029, \"count\": 1, \"min\": 36.5634525844029, \"max\": 36.5634525844029}}}\u001b[0m\n",
      "\u001b[34m#metrics {\"StartTime\": 1669357085.6679242, \"EndTime\": 1669357085.6679423, \"Dimensions\": {\"Algorithm\": \"Linear Learner\", \"Host\": \"algo-1\", \"Operation\": \"training\", \"epoch\": 10, \"model\": 16}, \"Metrics\": {\"validation_mse_objective\": {\"sum\": 51.43373325892857, \"count\": 1, \"min\": 51.43373325892857, \"max\": 51.43373325892857}}}\u001b[0m\n",
      "\u001b[34m#metrics {\"StartTime\": 1669357085.6680048, \"EndTime\": 1669357085.6680217, \"Dimensions\": {\"Algorithm\": \"Linear Learner\", \"Host\": \"algo-1\", \"Operation\": \"training\", \"epoch\": 10, \"model\": 17}, \"Metrics\": {\"validation_mse_objective\": {\"sum\": 46.69162859235491, \"count\": 1, \"min\": 46.69162859235491, \"max\": 46.69162859235491}}}\u001b[0m\n",
      "\u001b[34m#metrics {\"StartTime\": 1669357085.6680741, \"EndTime\": 1669357085.6680903, \"Dimensions\": {\"Algorithm\": \"Linear Learner\", \"Host\": \"algo-1\", \"Operation\": \"training\", \"epoch\": 10, \"model\": 18}, \"Metrics\": {\"validation_mse_objective\": {\"sum\": 63.788587297712056, \"count\": 1, \"min\": 63.788587297712056, \"max\": 63.788587297712056}}}\u001b[0m\n",
      "\u001b[34m#metrics {\"StartTime\": 1669357085.6681418, \"EndTime\": 1669357085.6681597, \"Dimensions\": {\"Algorithm\": \"Linear Learner\", \"Host\": \"algo-1\", \"Operation\": \"training\", \"epoch\": 10, \"model\": 19}, \"Metrics\": {\"validation_mse_objective\": {\"sum\": 54.176426478794646, \"count\": 1, \"min\": 54.176426478794646, \"max\": 54.176426478794646}}}\u001b[0m\n",
      "\u001b[34m#metrics {\"StartTime\": 1669357085.6682253, \"EndTime\": 1669357085.668243, \"Dimensions\": {\"Algorithm\": \"Linear Learner\", \"Host\": \"algo-1\", \"Operation\": \"training\", \"epoch\": 10, \"model\": 20}, \"Metrics\": {\"validation_mse_objective\": {\"sum\": 26.27042497907366, \"count\": 1, \"min\": 26.27042497907366, \"max\": 26.27042497907366}}}\u001b[0m\n",
      "\u001b[34m#metrics {\"StartTime\": 1669357085.668296, \"EndTime\": 1669357085.6683118, \"Dimensions\": {\"Algorithm\": \"Linear Learner\", \"Host\": \"algo-1\", \"Operation\": \"training\", \"epoch\": 10, \"model\": 21}, \"Metrics\": {\"validation_mse_objective\": {\"sum\": 23.513763427734375, \"count\": 1, \"min\": 23.513763427734375, \"max\": 23.513763427734375}}}\u001b[0m\n",
      "\u001b[34m#metrics {\"StartTime\": 1669357085.6683722, \"EndTime\": 1669357085.6683893, \"Dimensions\": {\"Algorithm\": \"Linear Learner\", \"Host\": \"algo-1\", \"Operation\": \"training\", \"epoch\": 10, \"model\": 22}, \"Metrics\": {\"validation_mse_objective\": {\"sum\": 27.172470092773438, \"count\": 1, \"min\": 27.172470092773438, \"max\": 27.172470092773438}}}\u001b[0m\n",
      "\u001b[34m#metrics {\"StartTime\": 1669357085.6684437, \"EndTime\": 1669357085.6684606, \"Dimensions\": {\"Algorithm\": \"Linear Learner\", \"Host\": \"algo-1\", \"Operation\": \"training\", \"epoch\": 10, \"model\": 23}, \"Metrics\": {\"validation_mse_objective\": {\"sum\": 27.67533220563616, \"count\": 1, \"min\": 27.67533220563616, \"max\": 27.67533220563616}}}\u001b[0m\n",
      "\u001b[34m#metrics {\"StartTime\": 1669357085.66852, \"EndTime\": 1669357085.6685371, \"Dimensions\": {\"Algorithm\": \"Linear Learner\", \"Host\": \"algo-1\", \"Operation\": \"training\", \"epoch\": 10, \"model\": 24}, \"Metrics\": {\"validation_mse_objective\": {\"sum\": 81.62507847377232, \"count\": 1, \"min\": 81.62507847377232, \"max\": 81.62507847377232}}}\u001b[0m\n",
      "\u001b[34m#metrics {\"StartTime\": 1669357085.6685975, \"EndTime\": 1669357085.668617, \"Dimensions\": {\"Algorithm\": \"Linear Learner\", \"Host\": \"algo-1\", \"Operation\": \"training\", \"epoch\": 10, \"model\": 25}, \"Metrics\": {\"validation_mse_objective\": {\"sum\": 77.96029227120536, \"count\": 1, \"min\": 77.96029227120536, \"max\": 77.96029227120536}}}\u001b[0m\n",
      "\u001b[34m#metrics {\"StartTime\": 1669357085.6686757, \"EndTime\": 1669357085.6686914, \"Dimensions\": {\"Algorithm\": \"Linear Learner\", \"Host\": \"algo-1\", \"Operation\": \"training\", \"epoch\": 10, \"model\": 26}, \"Metrics\": {\"validation_mse_objective\": {\"sum\": 76.20500837053571, \"count\": 1, \"min\": 76.20500837053571, \"max\": 76.20500837053571}}}\u001b[0m\n",
      "\u001b[34m#metrics {\"StartTime\": 1669357085.668743, \"EndTime\": 1669357085.6687593, \"Dimensions\": {\"Algorithm\": \"Linear Learner\", \"Host\": \"algo-1\", \"Operation\": \"training\", \"epoch\": 10, \"model\": 27}, \"Metrics\": {\"validation_mse_objective\": {\"sum\": 77.60110037667411, \"count\": 1, \"min\": 77.60110037667411, \"max\": 77.60110037667411}}}\u001b[0m\n",
      "\u001b[34m#metrics {\"StartTime\": 1669357085.668808, \"EndTime\": 1669357085.6688228, \"Dimensions\": {\"Algorithm\": \"Linear Learner\", \"Host\": \"algo-1\", \"Operation\": \"training\", \"epoch\": 10, \"model\": 28}, \"Metrics\": {\"validation_mse_objective\": {\"sum\": 74.34347098214286, \"count\": 1, \"min\": 74.34347098214286, \"max\": 74.34347098214286}}}\u001b[0m\n",
      "\u001b[34m#metrics {\"StartTime\": 1669357085.6688726, \"EndTime\": 1669357085.668889, \"Dimensions\": {\"Algorithm\": \"Linear Learner\", \"Host\": \"algo-1\", \"Operation\": \"training\", \"epoch\": 10, \"model\": 29}, \"Metrics\": {\"validation_mse_objective\": {\"sum\": 73.14431326729911, \"count\": 1, \"min\": 73.14431326729911, \"max\": 73.14431326729911}}}\u001b[0m\n",
      "\u001b[34m#metrics {\"StartTime\": 1669357085.6689374, \"EndTime\": 1669357085.668953, \"Dimensions\": {\"Algorithm\": \"Linear Learner\", \"Host\": \"algo-1\", \"Operation\": \"training\", \"epoch\": 10, \"model\": 30}, \"Metrics\": {\"validation_mse_objective\": {\"sum\": 71.12199183872768, \"count\": 1, \"min\": 71.12199183872768, \"max\": 71.12199183872768}}}\u001b[0m\n",
      "\u001b[34m#metrics {\"StartTime\": 1669357085.6690142, \"EndTime\": 1669357085.669032, \"Dimensions\": {\"Algorithm\": \"Linear Learner\", \"Host\": \"algo-1\", \"Operation\": \"training\", \"epoch\": 10, \"model\": 31}, \"Metrics\": {\"validation_mse_objective\": {\"sum\": 79.403076171875, \"count\": 1, \"min\": 79.403076171875, \"max\": 79.403076171875}}}\u001b[0m\n",
      "\u001b[34m[11/25/2022 06:18:05 INFO 140704388560704] #quality_metric: host=algo-1, epoch=10, validation mse_objective <loss>=46.920928955078125\u001b[0m\n",
      "\u001b[34m[11/25/2022 06:18:05 INFO 140704388560704] #early_stopping_criteria_metric: host=algo-1, epoch=10, criteria=mse_objective, value=23.513763427734375\u001b[0m\n",
      "\u001b[34m[11/25/2022 06:18:05 INFO 140704388560704] Saving model for epoch: 10\u001b[0m\n",
      "\u001b[34m[11/25/2022 06:18:05 INFO 140704388560704] Saved checkpoint to \"/tmp/tmp4_lziolt/mx-mod-0000.params\"\u001b[0m\n",
      "\u001b[34m[11/25/2022 06:18:05 INFO 140704388560704] Early stop condition met. Stopping training.\u001b[0m\n",
      "\u001b[34m[11/25/2022 06:18:05 INFO 140704388560704] #progress_metric: host=algo-1, completed 100 % epochs\u001b[0m\n",
      "\u001b[34m#metrics {\"StartTime\": 1669357085.5764577, \"EndTime\": 1669357085.6764276, \"Dimensions\": {\"Algorithm\": \"Linear Learner\", \"Host\": \"algo-1\", \"Operation\": \"training\", \"epoch\": 10, \"Meta\": \"training_data_iter\"}, \"Metrics\": {\"Total Records Seen\": {\"sum\": 2924.0, \"count\": 1, \"min\": 2924, \"max\": 2924}, \"Total Batches Seen\": {\"sum\": 25.0, \"count\": 1, \"min\": 25, \"max\": 25}, \"Max Records Seen Between Resets\": {\"sum\": 227.0, \"count\": 1, \"min\": 227, \"max\": 227}, \"Max Batches Seen Between Resets\": {\"sum\": 2.0, \"count\": 1, \"min\": 2, \"max\": 2}, \"Reset Count\": {\"sum\": 13.0, \"count\": 1, \"min\": 13, \"max\": 13}, \"Number of Records Since Last Reset\": {\"sum\": 227.0, \"count\": 1, \"min\": 227, \"max\": 227}, \"Number of Batches Since Last Reset\": {\"sum\": 2.0, \"count\": 1, \"min\": 2, \"max\": 2}}}\u001b[0m\n",
      "\u001b[34m[11/25/2022 06:18:05 INFO 140704388560704] #throughput_metric: host=algo-1, train throughput=2267.2075476191044 records/second\u001b[0m\n",
      "\u001b[34m[11/25/2022 06:18:05 WARNING 140704388560704] wait_for_all_workers will not sync workers since the kv store is not running distributed\u001b[0m\n",
      "\u001b[34m[11/25/2022 06:18:05 WARNING 140704388560704] wait_for_all_workers will not sync workers since the kv store is not running distributed\u001b[0m\n",
      "\u001b[34m[11/25/2022 06:18:05 INFO 140704388560704] #early_stopping_criteria_metric: host=algo-1, epoch=10, criteria=mse_objective, value=23.513763427734375\u001b[0m\n",
      "\u001b[34m[11/25/2022 06:18:05 INFO 140704388560704] #validation_score (algo-1) : ('mse_objective', 21.83195059640067)\u001b[0m\n",
      "\u001b[34m[11/25/2022 06:18:05 INFO 140704388560704] #validation_score (algo-1) : ('mse', 21.83195059640067)\u001b[0m\n",
      "\u001b[34m[11/25/2022 06:18:05 INFO 140704388560704] #validation_score (algo-1) : ('absolute_loss', 3.143115452357701)\u001b[0m\n",
      "\u001b[34m[11/25/2022 06:18:05 INFO 140704388560704] #validation_score (algo-1) : ('rmse', 4.6724672921702375)\u001b[0m\n",
      "\u001b[34m[11/25/2022 06:18:05 INFO 140704388560704] #validation_score (algo-1) : ('r2', 0.7333472163150538)\u001b[0m\n",
      "\u001b[34m[11/25/2022 06:18:05 INFO 140704388560704] #validation_score (algo-1) : ('mae', 3.1431153459208354)\u001b[0m\n",
      "\u001b[34m[11/25/2022 06:18:05 INFO 140704388560704] #quality_metric: host=algo-1, validation mse_objective <loss>=21.83195059640067\u001b[0m\n",
      "\u001b[34m[11/25/2022 06:18:05 INFO 140704388560704] #quality_metric: host=algo-1, validation mse <loss>=21.83195059640067\u001b[0m\n",
      "\u001b[34m[11/25/2022 06:18:05 INFO 140704388560704] #quality_metric: host=algo-1, validation absolute_loss <loss>=3.143115452357701\u001b[0m\n",
      "\u001b[34m[11/25/2022 06:18:05 INFO 140704388560704] #quality_metric: host=algo-1, validation rmse <loss>=4.6724672921702375\u001b[0m\n",
      "\u001b[34m[11/25/2022 06:18:05 INFO 140704388560704] #quality_metric: host=algo-1, validation r2 <loss>=0.7333472163150538\u001b[0m\n",
      "\u001b[34m[11/25/2022 06:18:05 INFO 140704388560704] #quality_metric: host=algo-1, validation mae <loss>=3.1431153459208354\u001b[0m\n",
      "\u001b[34m[11/25/2022 06:18:05 INFO 140704388560704] Best model found for hyperparameters: {\"optimizer\": \"adam\", \"learning_rate\": 0.1, \"wd\": 1, \"l1\": 0.0, \"lr_scheduler_step\": 10, \"lr_scheduler_factor\": 0.99, \"lr_scheduler_minimum_lr\": 1e-05}\u001b[0m\n",
      "\u001b[34m[11/25/2022 06:18:05 INFO 140704388560704] Saved checkpoint to \"/tmp/tmph93fd8ag/mx-mod-0000.params\"\u001b[0m\n",
      "\u001b[34m[11/25/2022 06:18:05 INFO 140704388560704] Test data is not provided.\u001b[0m\n",
      "\u001b[34m#metrics {\"StartTime\": 1669357084.341854, \"EndTime\": 1669357085.745847, \"Dimensions\": {\"Algorithm\": \"Linear Learner\", \"Host\": \"algo-1\", \"Operation\": \"training\"}, \"Metrics\": {\"initialize.time\": {\"sum\": 226.5472412109375, \"count\": 1, \"min\": 226.5472412109375, \"max\": 226.5472412109375}, \"epochs\": {\"sum\": 15.0, \"count\": 1, \"min\": 15, \"max\": 15}, \"check_early_stopping.time\": {\"sum\": 5.681276321411133, \"count\": 12, \"min\": 0.22268295288085938, \"max\": 1.268625259399414}, \"update.time\": {\"sum\": 1067.5065517425537, \"count\": 11, \"min\": 88.16289901733398, \"max\": 129.1828155517578}, \"finalize.time\": {\"sum\": 63.748836517333984, \"count\": 1, \"min\": 63.748836517333984, \"max\": 63.748836517333984}, \"setuptime\": {\"sum\": 5.694866180419922, \"count\": 1, \"min\": 5.694866180419922, \"max\": 5.694866180419922}, \"totaltime\": {\"sum\": 1649.824619293213, \"count\": 1, \"min\": 1649.824619293213, \"max\": 1649.824619293213}}}\u001b[0m\n",
      "\n",
      "2022-11-25 06:18:28 Uploading - Uploading generated training model\n",
      "2022-11-25 06:18:28 Completed - Training job completed\n",
      "Training seconds: 192\n",
      "Billable seconds: 192\n"
     ]
    }
   ],
   "source": [
    "linear.fit({'train': s3_input_train, 'validation': s3_input_validation})"
   ]
  },
  {
   "cell_type": "markdown",
   "metadata": {},
   "source": [
    "## Step 6 (B): Deploy the trained model\n",
    "\n",
    "Similar to the XGBoost model, now that we've fit the model we need to deploy it. Also like the XGBoost model, we will use the lower level approach so that we have more control over the endpoint that gets created.\n",
    "\n",
    "### Build the model\n",
    "\n",
    "Of course, before we can deploy the model, we need to first create it. The `fit` method that we used earlier created some model artifacts and we can use these to construct a model object."
   ]
  },
  {
   "cell_type": "code",
   "execution_count": 15,
   "metadata": {},
   "outputs": [],
   "source": [
    "# First, we create a unique model name\n",
    "linear_model_name = \"boston-update-linear-model\" + strftime(\"%Y-%m-%d-%H-%M-%S\", gmtime())\n",
    "\n",
    "# We also need to tell SageMaker which container should be used for inference and where it should\n",
    "# retrieve the model artifacts from. In our case, the linear-learner container that we used for training\n",
    "# can also be used for inference.\n",
    "linear_primary_container = {\n",
    "    \"Image\": linear_container,\n",
    "    \"ModelDataUrl\": linear.model_data\n",
    "}\n",
    "\n",
    "# And lastly we construct the SageMaker model\n",
    "linear_model_info = session.sagemaker_client.create_model(\n",
    "                                ModelName = linear_model_name,\n",
    "                                ExecutionRoleArn = role,\n",
    "                                PrimaryContainer = linear_primary_container)"
   ]
  },
  {
   "cell_type": "markdown",
   "metadata": {},
   "source": [
    "### Create the endpoint configuration\n",
    "\n",
    "Once we have the model we can start putting together the endpoint by creating an endpoint configuration."
   ]
  },
  {
   "cell_type": "code",
   "execution_count": 16,
   "metadata": {},
   "outputs": [],
   "source": [
    "# As before, we need to give our endpoint configuration a name which should be unique\n",
    "linear_endpoint_config_name = \"boston-linear-endpoint-config-\" + strftime(\"%Y-%m-%d-%H-%M-%S\", gmtime())\n",
    "\n",
    "# And then we ask SageMaker to construct the endpoint configuration\n",
    "linear_endpoint_config_info = session.sagemaker_client.create_endpoint_config(\n",
    "                            EndpointConfigName = linear_endpoint_config_name,\n",
    "                            ProductionVariants = [{\n",
    "                                \"InstanceType\": \"ml.m4.xlarge\",\n",
    "                                \"InitialVariantWeight\": 1,\n",
    "                                \"InitialInstanceCount\": 1,\n",
    "                                \"ModelName\": linear_model_name,\n",
    "                                \"VariantName\": \"Linear-Model\"\n",
    "                            }])"
   ]
  },
  {
   "cell_type": "markdown",
   "metadata": {},
   "source": [
    "### Deploy the endpoint\n",
    "\n",
    "Now that the endpoint configuration has been created, we can ask SageMaker to build our endpoint.\n",
    "\n",
    "**Note:** This is a friendly (repeated) reminder that you are about to deploy an endpoint. Make sure that you shut it down once you've finished with it!"
   ]
  },
  {
   "cell_type": "code",
   "execution_count": 31,
   "metadata": {},
   "outputs": [],
   "source": [
    "# Again, we need a unique name for our endpoint\n",
    "endpoint_name = \"boston-update-endpoint-\" + strftime(\"%Y-%m-%d-%H-%M-%S\", gmtime())\n",
    "\n",
    "# And then we can deploy our endpoint\n",
    "endpoint_info = session.sagemaker_client.create_endpoint(\n",
    "                    EndpointName = endpoint_name,\n",
    "                    EndpointConfigName = linear_endpoint_config_name)"
   ]
  },
  {
   "cell_type": "code",
   "execution_count": 32,
   "metadata": {},
   "outputs": [
    {
     "name": "stdout",
     "output_type": "stream",
     "text": [
      "---------!"
     ]
    }
   ],
   "source": [
    "endpoint_dec = session.wait_for_endpoint(endpoint_name)"
   ]
  },
  {
   "cell_type": "markdown",
   "metadata": {},
   "source": [
    "## Step 7 (B): Use the model\n",
    "\n",
    "Just like with the XGBoost model, we will send some data to our endpoint to make sure that it is working properly. An important note is that the output format for the linear model is different from the XGBoost model."
   ]
  },
  {
   "cell_type": "code",
   "execution_count": 33,
   "metadata": {},
   "outputs": [],
   "source": [
    "response = session.sagemaker_runtime_client.invoke_endpoint(\n",
    "                                                EndpointName = endpoint_name,\n",
    "                                                ContentType = 'text/csv',\n",
    "                                                Body = ','.join(map(str, X_test.values[0])))"
   ]
  },
  {
   "cell_type": "code",
   "execution_count": 34,
   "metadata": {},
   "outputs": [
    {
     "name": "stdout",
     "output_type": "stream",
     "text": [
      "{'ResponseMetadata': {'RequestId': 'c075c878-16f3-4a5a-bccf-97557a24ce6f', 'HTTPStatusCode': 200, 'HTTPHeaders': {'x-amzn-requestid': 'c075c878-16f3-4a5a-bccf-97557a24ce6f', 'x-amzn-invoked-production-variant': 'Linear-Model', 'date': 'Fri, 25 Nov 2022 06:31:35 GMT', 'content-type': 'application/json', 'content-length': '48'}, 'RetryAttempts': 0}, 'ContentType': 'application/json', 'InvokedProductionVariant': 'Linear-Model', 'Body': <botocore.response.StreamingBody object at 0x7f4b2a1dac40>}\n"
     ]
    }
   ],
   "source": [
    "print(response)"
   ]
  },
  {
   "cell_type": "code",
   "execution_count": 35,
   "metadata": {},
   "outputs": [],
   "source": [
    "result = response['Body'].read().decode(\"utf-8\")"
   ]
  },
  {
   "cell_type": "code",
   "execution_count": 36,
   "metadata": {},
   "outputs": [
    {
     "name": "stdout",
     "output_type": "stream",
     "text": [
      "{\"predictions\": [{\"score\": 12.495479583740234}]}\n"
     ]
    }
   ],
   "source": [
    "print(result)"
   ]
  },
  {
   "cell_type": "code",
   "execution_count": 37,
   "metadata": {},
   "outputs": [
    {
     "data": {
      "text/plain": [
       "array([11.3])"
      ]
     },
     "execution_count": 37,
     "metadata": {},
     "output_type": "execute_result"
    }
   ],
   "source": [
    "Y_test.values[0]"
   ]
  },
  {
   "cell_type": "markdown",
   "metadata": {},
   "source": [
    "## Shut down the endpoint\n",
    "\n",
    "Now that we know that the Linear model's endpoint works, we can shut it down."
   ]
  },
  {
   "cell_type": "code",
   "execution_count": 38,
   "metadata": {},
   "outputs": [
    {
     "data": {
      "text/plain": [
       "{'ResponseMetadata': {'RequestId': 'b2cdaecd-dd00-427e-b366-ca986b092166',\n",
       "  'HTTPStatusCode': 200,\n",
       "  'HTTPHeaders': {'x-amzn-requestid': 'b2cdaecd-dd00-427e-b366-ca986b092166',\n",
       "   'content-type': 'application/x-amz-json-1.1',\n",
       "   'content-length': '0',\n",
       "   'date': 'Fri, 25 Nov 2022 06:31:34 GMT'},\n",
       "  'RetryAttempts': 0}}"
      ]
     },
     "execution_count": 38,
     "metadata": {},
     "output_type": "execute_result"
    }
   ],
   "source": [
    "session.sagemaker_client.delete_endpoint(EndpointName = endpoint_name)"
   ]
  },
  {
   "cell_type": "markdown",
   "metadata": {},
   "source": [
    "## Step 6 (C): Deploy a combined model\n",
    "\n",
    "So far we've constructed two separate models which we could deploy and use. Before we talk about how we can change a deployed endpoint from one configuration to another, let's consider a slightly different situation. Suppose that before we switch from using only the XGBoost model to only the Linear model, we first want to do something like an A-B test, where we send some of the incoming data to the XGBoost model and some of the data to the Linear model.\n",
    "\n",
    "Fortunately, SageMaker provides this functionality. And to actually get SageMaker to do this for us is not too different from deploying a model in the way that we've already done. The only difference is that we need to list more than one model in the production variants parameter of the endpoint configuration.\n",
    "\n",
    "A reasonable question to ask is, how much data is sent to each of the models that I list in the production variants parameter? The answer is that it depends on the weight set for each model.\n",
    "\n",
    "Suppose that we have $k$ models listed in the production variants and that each model $i$ is assigned the weight $w_i$. Then each model $i$ will receive $w_i / W$ of the traffic where $W = \\sum_{i} w_i$.\n",
    "\n",
    "In our case, since we have two models, the linear model and the XGBoost model, and each model has weight 1, we see that each model will get 1 / (1 + 1) = 1/2 of the data sent to the endpoint."
   ]
  },
  {
   "cell_type": "code",
   "execution_count": 43,
   "metadata": {},
   "outputs": [],
   "source": [
    "# As before, we need to give our endpoint configuration a name which should be unique\n",
    "combined_endpoint_config_name = \"boston-combined-endpoint-config-\" + strftime(\"%Y-%m-%d-%H-%M-%S\", gmtime())\n",
    "\n",
    "# And then we ask SageMaker to construct the endpoint configuration\n",
    "# We assign a weight to each variant to specify the amount of data that will go to each model.\n",
    "# For instance, if we have two `ProductionVariants` each with `InitialVariantWeight = 1`,\n",
    "# the data will be distributed in half, randomly.\n",
    "combined_endpoint_config_info = session.sagemaker_client.create_endpoint_config(\n",
    "                            EndpointConfigName = combined_endpoint_config_name,\n",
    "                            ProductionVariants = [\n",
    "                                { # First we include the linear model\n",
    "                                    \"InstanceType\": \"ml.m4.xlarge\",\n",
    "                                    \"InitialVariantWeight\": 1,\n",
    "                                    \"InitialInstanceCount\": 1,\n",
    "                                    \"ModelName\": linear_model_name,\n",
    "                                    \"VariantName\": \"Linear-Model\"\n",
    "                                }, { # And next we include the xgb model\n",
    "                                    \"InstanceType\": \"ml.m4.xlarge\",\n",
    "                                    \"InitialVariantWeight\": 1,\n",
    "                                    \"InitialInstanceCount\": 1,\n",
    "                                    \"ModelName\": xgb_model_name,\n",
    "                                    \"VariantName\": \"XGB-Model\"\n",
    "                                }])"
   ]
  },
  {
   "cell_type": "markdown",
   "metadata": {},
   "source": [
    "Now that we've created the endpoint configuration, we can ask SageMaker to construct the endpoint.\n",
    "\n",
    "**Note:** This is a friendly (repeated) reminder that you are about to deploy an endpoint. Make sure that you shut it down once you've finished with it!"
   ]
  },
  {
   "cell_type": "code",
   "execution_count": 44,
   "metadata": {},
   "outputs": [],
   "source": [
    "# Again, we need a unique name for our endpoint\n",
    "endpoint_name = \"boston-update-endpoint-\" + strftime(\"%Y-%m-%d-%H-%M-%S\", gmtime())\n",
    "\n",
    "# And then we can deploy our endpoint\n",
    "endpoint_info = session.sagemaker_client.create_endpoint(\n",
    "                    EndpointName = endpoint_name,\n",
    "                    EndpointConfigName = combined_endpoint_config_name)"
   ]
  },
  {
   "cell_type": "code",
   "execution_count": 45,
   "metadata": {},
   "outputs": [
    {
     "name": "stdout",
     "output_type": "stream",
     "text": [
      "----------!"
     ]
    }
   ],
   "source": [
    "endpoint_dec = session.wait_for_endpoint(endpoint_name)"
   ]
  },
  {
   "cell_type": "markdown",
   "metadata": {},
   "source": [
    "## Step 7 (C): Use the model\n",
    "\n",
    "Now that we've constructed an endpoint which sends data to both the XGBoost model and the linear model we can send some data to the endpoint and see what sort of results we get back."
   ]
  },
  {
   "cell_type": "code",
   "execution_count": 46,
   "metadata": {},
   "outputs": [
    {
     "name": "stdout",
     "output_type": "stream",
     "text": [
      "{'Body': <botocore.response.StreamingBody object at 0x7f4b2a96ccd0>,\n",
      " 'ContentType': 'text/csv; charset=utf-8',\n",
      " 'InvokedProductionVariant': 'XGB-Model',\n",
      " 'ResponseMetadata': {'HTTPHeaders': {'content-length': '16',\n",
      "                                      'content-type': 'text/csv; charset=utf-8',\n",
      "                                      'date': 'Fri, 25 Nov 2022 07:05:48 GMT',\n",
      "                                      'x-amzn-invoked-production-variant': 'XGB-Model',\n",
      "                                      'x-amzn-requestid': '61b608bb-e244-4417-84f7-8d6604252a2d'},\n",
      "                      'HTTPStatusCode': 200,\n",
      "                      'RequestId': '61b608bb-e244-4417-84f7-8d6604252a2d',\n",
      "                      'RetryAttempts': 0}}\n"
     ]
    }
   ],
   "source": [
    "response = session.sagemaker_runtime_client.invoke_endpoint(\n",
    "                                                EndpointName = endpoint_name,\n",
    "                                                ContentType = 'text/csv',\n",
    "                                                Body = ','.join(map(str, X_test.values[0])))\n",
    "pprint(response)"
   ]
  },
  {
   "cell_type": "markdown",
   "metadata": {},
   "source": [
    "Since looking at a single response doesn't give us a clear look at what is happening, we can instead take a look at a few different responses to our endpoint"
   ]
  },
  {
   "cell_type": "code",
   "execution_count": 47,
   "metadata": {},
   "outputs": [
    {
     "name": "stdout",
     "output_type": "stream",
     "text": [
      "{'Body': <botocore.response.StreamingBody object at 0x7f4b2aa703a0>,\n",
      " 'ContentType': 'text/csv; charset=utf-8',\n",
      " 'InvokedProductionVariant': 'XGB-Model',\n",
      " 'ResponseMetadata': {'HTTPHeaders': {'content-length': '16',\n",
      "                                      'content-type': 'text/csv; charset=utf-8',\n",
      "                                      'date': 'Fri, 25 Nov 2022 07:05:48 GMT',\n",
      "                                      'x-amzn-invoked-production-variant': 'XGB-Model',\n",
      "                                      'x-amzn-requestid': '8cfc1278-a796-40af-ba4c-86ed9324ab9d'},\n",
      "                      'HTTPStatusCode': 200,\n",
      "                      'RequestId': '8cfc1278-a796-40af-ba4c-86ed9324ab9d',\n",
      "                      'RetryAttempts': 0}}\n",
      "10.6547269821167\n",
      "[11.3]\n",
      "{'Body': <botocore.response.StreamingBody object at 0x7f4b2aa70be0>,\n",
      " 'ContentType': 'application/json',\n",
      " 'InvokedProductionVariant': 'Linear-Model',\n",
      " 'ResponseMetadata': {'HTTPHeaders': {'content-length': '47',\n",
      "                                      'content-type': 'application/json',\n",
      "                                      'date': 'Fri, 25 Nov 2022 07:05:48 GMT',\n",
      "                                      'x-amzn-invoked-production-variant': 'Linear-Model',\n",
      "                                      'x-amzn-requestid': 'fda4e80c-9f50-415f-b70c-7638b4b12c04'},\n",
      "                      'HTTPStatusCode': 200,\n",
      "                      'RequestId': 'fda4e80c-9f50-415f-b70c-7638b4b12c04',\n",
      "                      'RetryAttempts': 0}}\n",
      "{\"predictions\": [{\"score\": 18.46857452392578}]}\n",
      "[16.1]\n",
      "{'Body': <botocore.response.StreamingBody object at 0x7f4b2aa70a30>,\n",
      " 'ContentType': 'text/csv; charset=utf-8',\n",
      " 'InvokedProductionVariant': 'XGB-Model',\n",
      " 'ResponseMetadata': {'HTTPHeaders': {'content-length': '17',\n",
      "                                      'content-type': 'text/csv; charset=utf-8',\n",
      "                                      'date': 'Fri, 25 Nov 2022 07:05:48 GMT',\n",
      "                                      'x-amzn-invoked-production-variant': 'XGB-Model',\n",
      "                                      'x-amzn-requestid': '5130ee7d-1972-43a3-86db-b4be2613d5dd'},\n",
      "                      'HTTPStatusCode': 200,\n",
      "                      'RequestId': '5130ee7d-1972-43a3-86db-b4be2613d5dd',\n",
      "                      'RetryAttempts': 0}}\n",
      "7.925752639770508\n",
      "[8.5]\n",
      "{'Body': <botocore.response.StreamingBody object at 0x7f4b2aa70130>,\n",
      " 'ContentType': 'application/json',\n",
      " 'InvokedProductionVariant': 'Linear-Model',\n",
      " 'ResponseMetadata': {'HTTPHeaders': {'content-length': '48',\n",
      "                                      'content-type': 'application/json',\n",
      "                                      'date': 'Fri, 25 Nov 2022 07:05:48 GMT',\n",
      "                                      'x-amzn-invoked-production-variant': 'Linear-Model',\n",
      "                                      'x-amzn-requestid': '077bf403-cb35-4977-92cf-5b808a1ebcc8'},\n",
      "                      'HTTPStatusCode': 200,\n",
      "                      'RequestId': '077bf403-cb35-4977-92cf-5b808a1ebcc8',\n",
      "                      'RetryAttempts': 0}}\n",
      "{\"predictions\": [{\"score\": 14.238231658935547}]}\n",
      "[13.3]\n",
      "{'Body': <botocore.response.StreamingBody object at 0x7f4b2aa69e50>,\n",
      " 'ContentType': 'application/json',\n",
      " 'InvokedProductionVariant': 'Linear-Model',\n",
      " 'ResponseMetadata': {'HTTPHeaders': {'content-length': '48',\n",
      "                                      'content-type': 'application/json',\n",
      "                                      'date': 'Fri, 25 Nov 2022 07:05:48 GMT',\n",
      "                                      'x-amzn-invoked-production-variant': 'Linear-Model',\n",
      "                                      'x-amzn-requestid': '72e55123-66b1-4f56-9cb4-f68aded46782'},\n",
      "                      'HTTPStatusCode': 200,\n",
      "                      'RequestId': '72e55123-66b1-4f56-9cb4-f68aded46782',\n",
      "                      'RetryAttempts': 0}}\n",
      "{\"predictions\": [{\"score\": 19.441680908203125}]}\n",
      "[21.7]\n",
      "{'Body': <botocore.response.StreamingBody object at 0x7f4b2aa69790>,\n",
      " 'ContentType': 'text/csv; charset=utf-8',\n",
      " 'InvokedProductionVariant': 'XGB-Model',\n",
      " 'ResponseMetadata': {'HTTPHeaders': {'content-length': '18',\n",
      "                                      'content-type': 'text/csv; charset=utf-8',\n",
      "                                      'date': 'Fri, 25 Nov 2022 07:05:48 GMT',\n",
      "                                      'x-amzn-invoked-production-variant': 'XGB-Model',\n",
      "                                      'x-amzn-requestid': 'b23830a1-2afd-4361-9acb-a3fc35d1d23c'},\n",
      "                      'HTTPStatusCode': 200,\n",
      "                      'RequestId': 'b23830a1-2afd-4361-9acb-a3fc35d1d23c',\n",
      "                      'RetryAttempts': 0}}\n",
      "28.817276000976562\n",
      "[31.6]\n",
      "{'Body': <botocore.response.StreamingBody object at 0x7f4b2aa69280>,\n",
      " 'ContentType': 'application/json',\n",
      " 'InvokedProductionVariant': 'Linear-Model',\n",
      " 'ResponseMetadata': {'HTTPHeaders': {'content-length': '48',\n",
      "                                      'content-type': 'application/json',\n",
      "                                      'date': 'Fri, 25 Nov 2022 07:05:48 GMT',\n",
      "                                      'x-amzn-invoked-production-variant': 'Linear-Model',\n",
      "                                      'x-amzn-requestid': 'a8caa12d-d2e2-4731-8578-345e475de741'},\n",
      "                      'HTTPStatusCode': 200,\n",
      "                      'RequestId': 'a8caa12d-d2e2-4731-8578-345e475de741',\n",
      "                      'RetryAttempts': 0}}\n",
      "{\"predictions\": [{\"score\": 16.947940826416016}]}\n",
      "[17.5]\n",
      "{'Body': <botocore.response.StreamingBody object at 0x7f4b2aa70280>,\n",
      " 'ContentType': 'text/csv; charset=utf-8',\n",
      " 'InvokedProductionVariant': 'XGB-Model',\n",
      " 'ResponseMetadata': {'HTTPHeaders': {'content-length': '18',\n",
      "                                      'content-type': 'text/csv; charset=utf-8',\n",
      "                                      'date': 'Fri, 25 Nov 2022 07:05:49 GMT',\n",
      "                                      'x-amzn-invoked-production-variant': 'XGB-Model',\n",
      "                                      'x-amzn-requestid': 'e7cd1e9b-31ef-496e-961e-3247fe858539'},\n",
      "                      'HTTPStatusCode': 200,\n",
      "                      'RequestId': 'e7cd1e9b-31ef-496e-961e-3247fe858539',\n",
      "                      'RetryAttempts': 0}}\n",
      "28.114192962646484\n",
      "[27.9]\n",
      "{'Body': <botocore.response.StreamingBody object at 0x7f4b2aa697c0>,\n",
      " 'ContentType': 'text/csv; charset=utf-8',\n",
      " 'InvokedProductionVariant': 'XGB-Model',\n",
      " 'ResponseMetadata': {'HTTPHeaders': {'content-length': '18',\n",
      "                                      'content-type': 'text/csv; charset=utf-8',\n",
      "                                      'date': 'Fri, 25 Nov 2022 07:05:49 GMT',\n",
      "                                      'x-amzn-invoked-production-variant': 'XGB-Model',\n",
      "                                      'x-amzn-requestid': '24994bba-cb87-444a-8db3-50a952bb6f9b'},\n",
      "                      'HTTPStatusCode': 200,\n",
      "                      'RequestId': '24994bba-cb87-444a-8db3-50a952bb6f9b',\n",
      "                      'RetryAttempts': 0}}\n",
      "20.625532150268555\n",
      "[21.7]\n",
      "{'Body': <botocore.response.StreamingBody object at 0x7f4b2aa69c10>,\n",
      " 'ContentType': 'text/csv; charset=utf-8',\n",
      " 'InvokedProductionVariant': 'XGB-Model',\n",
      " 'ResponseMetadata': {'HTTPHeaders': {'content-length': '18',\n",
      "                                      'content-type': 'text/csv; charset=utf-8',\n",
      "                                      'date': 'Fri, 25 Nov 2022 07:05:49 GMT',\n",
      "                                      'x-amzn-invoked-production-variant': 'XGB-Model',\n",
      "                                      'x-amzn-requestid': 'f2731935-5199-4b54-853b-ec23a6b90c13'},\n",
      "                      'HTTPStatusCode': 200,\n",
      "                      'RequestId': 'f2731935-5199-4b54-853b-ec23a6b90c13',\n",
      "                      'RetryAttempts': 0}}\n",
      "31.311521530151367\n",
      "[27.]\n"
     ]
    }
   ],
   "source": [
    "# We see that each sample is scored by a different model\n",
    "# with probability 50% each\n",
    "for rec in range(10):\n",
    "    response = session.sagemaker_runtime_client.invoke_endpoint(\n",
    "                                                EndpointName = endpoint_name,\n",
    "                                                ContentType = 'text/csv',\n",
    "                                                Body = ','.join(map(str, X_test.values[rec])))\n",
    "    pprint(response)\n",
    "    result = response['Body'].read().decode(\"utf-8\")\n",
    "    print(result)\n",
    "    print(Y_test.values[rec])"
   ]
  },
  {
   "cell_type": "markdown",
   "metadata": {},
   "source": [
    "If at some point we aren't sure about the properties of a deployed endpoint, we can use the `describe_endpoint` function to get SageMaker to return a description of the deployed endpoint."
   ]
  },
  {
   "cell_type": "code",
   "execution_count": 48,
   "metadata": {},
   "outputs": [
    {
     "name": "stdout",
     "output_type": "stream",
     "text": [
      "{'CreationTime': datetime.datetime(2022, 11, 25, 7, 0, 46, 459000, tzinfo=tzlocal()),\n",
      " 'EndpointArn': 'arn:aws:sagemaker:us-east-1:077073585279:endpoint/boston-update-endpoint-2022-11-25-07-00-46',\n",
      " 'EndpointConfigName': 'boston-combined-endpoint-config-2022-11-25-07-00-39',\n",
      " 'EndpointName': 'boston-update-endpoint-2022-11-25-07-00-46',\n",
      " 'EndpointStatus': 'InService',\n",
      " 'LastModifiedTime': datetime.datetime(2022, 11, 25, 7, 5, 28, 74000, tzinfo=tzlocal()),\n",
      " 'ProductionVariants': [{'CurrentInstanceCount': 1,\n",
      "                         'CurrentWeight': 1.0,\n",
      "                         'DeployedImages': [{'ResolutionTime': datetime.datetime(2022, 11, 25, 7, 0, 47, 130000, tzinfo=tzlocal()),\n",
      "                                             'ResolvedImage': '382416733822.dkr.ecr.us-east-1.amazonaws.com/linear-learner@sha256:a47c99c88e97a171019cdd14be3e55004a56fe4cddb2c241cf0441c94099d1cc',\n",
      "                                             'SpecifiedImage': '382416733822.dkr.ecr.us-east-1.amazonaws.com/linear-learner:1'}],\n",
      "                         'DesiredInstanceCount': 1,\n",
      "                         'DesiredWeight': 1.0,\n",
      "                         'VariantName': 'Linear-Model'},\n",
      "                        {'CurrentInstanceCount': 1,\n",
      "                         'CurrentWeight': 1.0,\n",
      "                         'DeployedImages': [{'ResolutionTime': datetime.datetime(2022, 11, 25, 7, 0, 47, 194000, tzinfo=tzlocal()),\n",
      "                                             'ResolvedImage': '811284229777.dkr.ecr.us-east-1.amazonaws.com/xgboost@sha256:d980f4a8cef63302ff842bc11cbd964abd5ab1d46b12171559c15d118a3b0290',\n",
      "                                             'SpecifiedImage': '811284229777.dkr.ecr.us-east-1.amazonaws.com/xgboost:1'}],\n",
      "                         'DesiredInstanceCount': 1,\n",
      "                         'DesiredWeight': 1.0,\n",
      "                         'VariantName': 'XGB-Model'}],\n",
      " 'ResponseMetadata': {'HTTPHeaders': {'content-length': '1161',\n",
      "                                      'content-type': 'application/x-amz-json-1.1',\n",
      "                                      'date': 'Fri, 25 Nov 2022 07:05:48 GMT',\n",
      "                                      'x-amzn-requestid': 'da24fed0-3f90-4418-a8f4-50f5870c6bb3'},\n",
      "                      'HTTPStatusCode': 200,\n",
      "                      'RequestId': 'da24fed0-3f90-4418-a8f4-50f5870c6bb3',\n",
      "                      'RetryAttempts': 0}}\n"
     ]
    }
   ],
   "source": [
    "# Get Information of an Endpoint: We see we have 2 variants\n",
    "pprint(session.sagemaker_client.describe_endpoint(EndpointName=endpoint_name))"
   ]
  },
  {
   "cell_type": "markdown",
   "metadata": {},
   "source": [
    "## Updating an Endpoint\n",
    "\n",
    "Now suppose that we've done our A-B test and the new linear model is working well enough. What we'd like to do now is to switch our endpoint from sending data to both the XGBoost model and the linear model to sending data only to the linear model.\n",
    "\n",
    "Of course, we don't really want to shut down the endpoint to do this as doing so would interrupt service to whoever depends on our endpoint. Instead, we can ask SageMaker to **update** an endpoint to a new endpoint configuration.\n",
    "\n",
    "What is actually happening is that SageMaker will set up a new endpoint with the new characteristics. Once this new endpoint is running, SageMaker will switch the old endpoint so that it now points at the newly deployed model, making sure that this happens seamlessly in the background."
   ]
  },
  {
   "cell_type": "code",
   "execution_count": 49,
   "metadata": {},
   "outputs": [
    {
     "data": {
      "text/plain": [
       "{'EndpointArn': 'arn:aws:sagemaker:us-east-1:077073585279:endpoint/boston-update-endpoint-2022-11-25-07-00-46',\n",
       " 'ResponseMetadata': {'RequestId': '1271af9f-eaa2-4f3a-b07e-55aa5dcf8c9e',\n",
       "  'HTTPStatusCode': 200,\n",
       "  'HTTPHeaders': {'x-amzn-requestid': '1271af9f-eaa2-4f3a-b07e-55aa5dcf8c9e',\n",
       "   'content-type': 'application/x-amz-json-1.1',\n",
       "   'content-length': '110',\n",
       "   'date': 'Fri, 25 Nov 2022 07:06:29 GMT'},\n",
       "  'RetryAttempts': 0}}"
      ]
     },
     "execution_count": 49,
     "metadata": {},
     "output_type": "execute_result"
    }
   ],
   "source": [
    "# We take the endpoint with two variants and update its configuration\n",
    "# to be the one of the endpoint with the linear model only\n",
    "session.sagemaker_client.update_endpoint(EndpointName=endpoint_name, EndpointConfigName=linear_endpoint_config_name)"
   ]
  },
  {
   "cell_type": "markdown",
   "metadata": {},
   "source": [
    "To get a glimpse at what is going on, we can ask SageMaker to describe our in-use endpoint now, before the update process has completed. When we do so, we can see that the in-use endpoint still has the same characteristics it had before."
   ]
  },
  {
   "cell_type": "code",
   "execution_count": 50,
   "metadata": {},
   "outputs": [
    {
     "name": "stdout",
     "output_type": "stream",
     "text": [
      "{'CreationTime': datetime.datetime(2022, 11, 25, 7, 0, 46, 459000, tzinfo=tzlocal()),\n",
      " 'EndpointArn': 'arn:aws:sagemaker:us-east-1:077073585279:endpoint/boston-update-endpoint-2022-11-25-07-00-46',\n",
      " 'EndpointConfigName': 'boston-combined-endpoint-config-2022-11-25-07-00-39',\n",
      " 'EndpointName': 'boston-update-endpoint-2022-11-25-07-00-46',\n",
      " 'EndpointStatus': 'Updating',\n",
      " 'LastModifiedTime': datetime.datetime(2022, 11, 25, 7, 6, 30, 380000, tzinfo=tzlocal()),\n",
      " 'ProductionVariants': [{'CurrentInstanceCount': 1,\n",
      "                         'CurrentWeight': 1.0,\n",
      "                         'DeployedImages': [{'ResolutionTime': datetime.datetime(2022, 11, 25, 7, 0, 47, 130000, tzinfo=tzlocal()),\n",
      "                                             'ResolvedImage': '382416733822.dkr.ecr.us-east-1.amazonaws.com/linear-learner@sha256:a47c99c88e97a171019cdd14be3e55004a56fe4cddb2c241cf0441c94099d1cc',\n",
      "                                             'SpecifiedImage': '382416733822.dkr.ecr.us-east-1.amazonaws.com/linear-learner:1'}],\n",
      "                         'DesiredInstanceCount': 1,\n",
      "                         'DesiredWeight': 1.0,\n",
      "                         'VariantName': 'Linear-Model'},\n",
      "                        {'CurrentInstanceCount': 1,\n",
      "                         'CurrentWeight': 1.0,\n",
      "                         'DeployedImages': [{'ResolutionTime': datetime.datetime(2022, 11, 25, 7, 0, 47, 194000, tzinfo=tzlocal()),\n",
      "                                             'ResolvedImage': '811284229777.dkr.ecr.us-east-1.amazonaws.com/xgboost@sha256:d980f4a8cef63302ff842bc11cbd964abd5ab1d46b12171559c15d118a3b0290',\n",
      "                                             'SpecifiedImage': '811284229777.dkr.ecr.us-east-1.amazonaws.com/xgboost:1'}],\n",
      "                         'DesiredInstanceCount': 1,\n",
      "                         'DesiredWeight': 1.0,\n",
      "                         'VariantName': 'XGB-Model'}],\n",
      " 'ResponseMetadata': {'HTTPHeaders': {'content-length': '1159',\n",
      "                                      'content-type': 'application/x-amz-json-1.1',\n",
      "                                      'date': 'Fri, 25 Nov 2022 07:06:35 GMT',\n",
      "                                      'x-amzn-requestid': '3a434204-248c-4490-8d6f-cc73d05fe2e4'},\n",
      "                      'HTTPStatusCode': 200,\n",
      "                      'RequestId': '3a434204-248c-4490-8d6f-cc73d05fe2e4',\n",
      "                      'RetryAttempts': 0}}\n"
     ]
    }
   ],
   "source": [
    "# We print the endpoint info: it hasn't changed from two variants to one yet\n",
    "# because internally an new enpodint is being launched.\n",
    "# After launched, the data will be routed to it and the old endpoint\n",
    "# with two variant will be destroyed.\n",
    "pprint(session.sagemaker_client.describe_endpoint(EndpointName=endpoint_name))"
   ]
  },
  {
   "cell_type": "markdown",
   "metadata": {},
   "source": [
    "If we now wait for the update process to complete, and then ask SageMaker to describe the endpoint, it will return the characteristics of the new endpoint configuration."
   ]
  },
  {
   "cell_type": "code",
   "execution_count": 51,
   "metadata": {},
   "outputs": [
    {
     "name": "stdout",
     "output_type": "stream",
     "text": [
      "-------!"
     ]
    }
   ],
   "source": [
    "# Wait until it is updated\n",
    "endpoint_dec = session.wait_for_endpoint(endpoint_name)"
   ]
  },
  {
   "cell_type": "code",
   "execution_count": 52,
   "metadata": {},
   "outputs": [
    {
     "name": "stdout",
     "output_type": "stream",
     "text": [
      "{'CreationTime': datetime.datetime(2022, 11, 25, 7, 0, 46, 459000, tzinfo=tzlocal()),\n",
      " 'EndpointArn': 'arn:aws:sagemaker:us-east-1:077073585279:endpoint/boston-update-endpoint-2022-11-25-07-00-46',\n",
      " 'EndpointConfigName': 'boston-linear-endpoint-config-2022-11-25-06-19-40',\n",
      " 'EndpointName': 'boston-update-endpoint-2022-11-25-07-00-46',\n",
      " 'EndpointStatus': 'InService',\n",
      " 'LastModifiedTime': datetime.datetime(2022, 11, 25, 7, 10, 14, 88000, tzinfo=tzlocal()),\n",
      " 'ProductionVariants': [{'CurrentInstanceCount': 1,\n",
      "                         'CurrentWeight': 1.0,\n",
      "                         'DeployedImages': [{'ResolutionTime': datetime.datetime(2022, 11, 25, 7, 6, 30, 627000, tzinfo=tzlocal()),\n",
      "                                             'ResolvedImage': '382416733822.dkr.ecr.us-east-1.amazonaws.com/linear-learner@sha256:a47c99c88e97a171019cdd14be3e55004a56fe4cddb2c241cf0441c94099d1cc',\n",
      "                                             'SpecifiedImage': '382416733822.dkr.ecr.us-east-1.amazonaws.com/linear-learner:1'}],\n",
      "                         'DesiredInstanceCount': 1,\n",
      "                         'DesiredWeight': 1.0,\n",
      "                         'VariantName': 'Linear-Model'}],\n",
      " 'ResponseMetadata': {'HTTPHeaders': {'content-length': '770',\n",
      "                                      'content-type': 'application/x-amz-json-1.1',\n",
      "                                      'date': 'Fri, 25 Nov 2022 07:10:13 GMT',\n",
      "                                      'x-amzn-requestid': '3758b7b6-ab48-49cd-8c95-69fc12a51be3'},\n",
      "                      'HTTPStatusCode': 200,\n",
      "                      'RequestId': '3758b7b6-ab48-49cd-8c95-69fc12a51be3',\n",
      "                      'RetryAttempts': 0}}\n"
     ]
    }
   ],
   "source": [
    "# Now, we have one variant!\n",
    "pprint(session.sagemaker_client.describe_endpoint(EndpointName=endpoint_name))"
   ]
  },
  {
   "cell_type": "markdown",
   "metadata": {},
   "source": [
    "## Shut down the endpoint\n",
    "\n",
    "Now that we've finished, we need to make sure to shut down the endpoint."
   ]
  },
  {
   "cell_type": "code",
   "execution_count": 53,
   "metadata": {},
   "outputs": [
    {
     "data": {
      "text/plain": [
       "{'ResponseMetadata': {'RequestId': '27421716-898a-4233-8ad6-a294276ab030',\n",
       "  'HTTPStatusCode': 200,\n",
       "  'HTTPHeaders': {'x-amzn-requestid': '27421716-898a-4233-8ad6-a294276ab030',\n",
       "   'content-type': 'application/x-amz-json-1.1',\n",
       "   'content-length': '0',\n",
       "   'date': 'Fri, 25 Nov 2022 07:10:13 GMT'},\n",
       "  'RetryAttempts': 0}}"
      ]
     },
     "execution_count": 53,
     "metadata": {},
     "output_type": "execute_result"
    }
   ],
   "source": [
    "session.sagemaker_client.delete_endpoint(EndpointName = endpoint_name)"
   ]
  },
  {
   "cell_type": "markdown",
   "metadata": {},
   "source": [
    "## Optional: Clean up\n",
    "\n",
    "The default notebook instance on SageMaker doesn't have a lot of excess disk space available. As you continue to complete and execute notebooks you will eventually fill up this disk space, leading to errors which can be difficult to diagnose. Once you are completely finished using a notebook it is a good idea to remove the files that you created along the way. Of course, you can do this from the terminal or from the notebook hub if you would like. The cell below contains some commands to clean up the created files from within the notebook."
   ]
  },
  {
   "cell_type": "code",
   "execution_count": 54,
   "metadata": {},
   "outputs": [],
   "source": [
    "# First we will remove all of the files contained in the data_dir directory\n",
    "!rm $data_dir/*\n",
    "\n",
    "# And then we delete the directory itself\n",
    "!rmdir $data_dir"
   ]
  },
  {
   "cell_type": "code",
   "execution_count": null,
   "metadata": {},
   "outputs": [],
   "source": []
  }
 ],
 "metadata": {
  "kernelspec": {
   "display_name": "conda_pytorch_p38",
   "language": "python",
   "name": "conda_pytorch_p38"
  },
  "language_info": {
   "codemirror_mode": {
    "name": "ipython",
    "version": 3
   },
   "file_extension": ".py",
   "mimetype": "text/x-python",
   "name": "python",
   "nbconvert_exporter": "python",
   "pygments_lexer": "ipython3",
   "version": "3.8.12"
  }
 },
 "nbformat": 4,
 "nbformat_minor": 4
}
