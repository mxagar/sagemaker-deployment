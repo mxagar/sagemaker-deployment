{
 "cells": [
  {
   "cell_type": "markdown",
   "metadata": {},
   "source": [
    "# Sentiment Analysis Web App\n",
    "\n",
    "_Deep Learning Nanodegree Program | Deployment_\n",
    "\n",
    "---\n",
    "\n",
    "In this notebook we will use Amazon's SageMaker service to construct a random tree model to predict the sentiment of a movie review. In addition, we will deploy this model to an endpoint and construct a very simple web app which will interact with our model's deployed endpoint.\n",
    "\n",
    "## General Outline\n",
    "\n",
    "Typically, when using a notebook instance with SageMaker, you will proceed through the following steps. Of course, not every step will need to be done with each project. Also, there is quite a lot of room for variation in many of the steps, as you will see throughout these lessons.\n",
    "\n",
    "1. Download or otherwise retrieve the data.\n",
    "2. Process / Prepare the data.\n",
    "3. Upload the processed data to S3.\n",
    "4. Train a chosen model.\n",
    "5. Test the trained model (typically using a batch transform job).\n",
    "6. Deploy the trained model.\n",
    "7. Use the deployed model.\n",
    "\n",
    "In this notebook we will progress through each of the steps above. We will also see that the final step, using the deployed model, can be quite challenging."
   ]
  },
  {
   "cell_type": "code",
   "execution_count": null,
   "metadata": {},
   "outputs": [],
   "source": [
    "# Make sure that we use SageMaker 1.x\n",
    "!pip install sagemaker==1.72.0"
   ]
  },
  {
   "cell_type": "markdown",
   "metadata": {},
   "source": [
    "## Step 1: Downloading the data\n",
    "\n",
    "The dataset we are going to use is very popular among researchers in Natural Language Processing, usually referred to as the [IMDb dataset](http://ai.stanford.edu/~amaas/data/sentiment/). It consists of movie reviews from the website [imdb.com](http://www.imdb.com/), each labeled as either '**pos**itive', if the reviewer enjoyed the film, or '**neg**ative' otherwise.\n",
    "\n",
    "> Maas, Andrew L., et al. [Learning Word Vectors for Sentiment Analysis](http://ai.stanford.edu/~amaas/data/sentiment/). In _Proceedings of the 49th Annual Meeting of the Association for Computational Linguistics: Human Language Technologies_. Association for Computational Linguistics, 2011.\n",
    "\n",
    "We begin by using some Jupyter Notebook magic to download and extract the dataset."
   ]
  },
  {
   "cell_type": "code",
   "execution_count": 1,
   "metadata": {},
   "outputs": [
    {
     "name": "stdout",
     "output_type": "stream",
     "text": [
      "mkdir: cannot create directory ‘../data’: File exists\n",
      "--2022-11-22 15:30:05--  http://ai.stanford.edu/~amaas/data/sentiment/aclImdb_v1.tar.gz\n",
      "Resolving ai.stanford.edu (ai.stanford.edu)... 171.64.68.10\n",
      "Connecting to ai.stanford.edu (ai.stanford.edu)|171.64.68.10|:80... connected.\n",
      "HTTP request sent, awaiting response... 200 OK\n",
      "Length: 84125825 (80M) [application/x-gzip]\n",
      "Saving to: ‘../data/aclImdb_v1.tar.gz’\n",
      "\n",
      "100%[======================================>] 84,125,825  21.5MB/s   in 5.3s   \n",
      "\n",
      "2022-11-22 15:30:10 (15.2 MB/s) - ‘../data/aclImdb_v1.tar.gz’ saved [84125825/84125825]\n",
      "\n"
     ]
    }
   ],
   "source": [
    "%mkdir ../data\n",
    "!wget -O ../data/aclImdb_v1.tar.gz http://ai.stanford.edu/~amaas/data/sentiment/aclImdb_v1.tar.gz\n",
    "!tar -zxf ../data/aclImdb_v1.tar.gz -C ../data"
   ]
  },
  {
   "cell_type": "markdown",
   "metadata": {},
   "source": [
    "## Step 2: Preparing and Processing the data\n",
    "\n",
    "The data we have downloaded is split into various files, each of which contains a single review. It will be much easier going forward if we combine these individual files into two large files, one for training and one for testing."
   ]
  },
  {
   "cell_type": "code",
   "execution_count": 1,
   "metadata": {},
   "outputs": [],
   "source": [
    "import os\n",
    "import glob\n",
    "\n",
    "def read_imdb_data(data_dir='../data/aclImdb'):\n",
    "    data = {}\n",
    "    labels = {}\n",
    "    \n",
    "    for data_type in ['train', 'test']:\n",
    "        data[data_type] = {}\n",
    "        labels[data_type] = {}\n",
    "        \n",
    "        for sentiment in ['pos', 'neg']:\n",
    "            data[data_type][sentiment] = []\n",
    "            labels[data_type][sentiment] = []\n",
    "            \n",
    "            path = os.path.join(data_dir, data_type, sentiment, '*.txt')\n",
    "            files = glob.glob(path)\n",
    "            \n",
    "            for f in files:\n",
    "                with open(f) as review:\n",
    "                    data[data_type][sentiment].append(review.read())\n",
    "                    # Here we represent a positive review by '1' and a negative review by '0'\n",
    "                    labels[data_type][sentiment].append(1 if sentiment == 'pos' else 0)\n",
    "                    \n",
    "            assert len(data[data_type][sentiment]) == len(labels[data_type][sentiment]), \\\n",
    "                    \"{}/{} data size does not match labels size\".format(data_type, sentiment)\n",
    "                \n",
    "    return data, labels"
   ]
  },
  {
   "cell_type": "code",
   "execution_count": 2,
   "metadata": {},
   "outputs": [
    {
     "name": "stdout",
     "output_type": "stream",
     "text": [
      "IMDB reviews: train = 12500 pos / 12500 neg, test = 12500 pos / 12500 neg\n"
     ]
    }
   ],
   "source": [
    "data, labels = read_imdb_data()\n",
    "print(\"IMDB reviews: train = {} pos / {} neg, test = {} pos / {} neg\".format(\n",
    "            len(data['train']['pos']), len(data['train']['neg']),\n",
    "            len(data['test']['pos']), len(data['test']['neg'])))"
   ]
  },
  {
   "cell_type": "code",
   "execution_count": 3,
   "metadata": {},
   "outputs": [],
   "source": [
    "from sklearn.utils import shuffle\n",
    "\n",
    "def prepare_imdb_data(data, labels):\n",
    "    \"\"\"Prepare training and test sets from IMDb movie reviews.\"\"\"\n",
    "    \n",
    "    #Combine positive and negative reviews and labels\n",
    "    data_train = data['train']['pos'] + data['train']['neg']\n",
    "    data_test = data['test']['pos'] + data['test']['neg']\n",
    "    labels_train = labels['train']['pos'] + labels['train']['neg']\n",
    "    labels_test = labels['test']['pos'] + labels['test']['neg']\n",
    "    \n",
    "    #Shuffle reviews and corresponding labels within training and test sets\n",
    "    data_train, labels_train = shuffle(data_train, labels_train)\n",
    "    data_test, labels_test = shuffle(data_test, labels_test)\n",
    "    \n",
    "    # Return a unified training data, test data, training labels, test labets\n",
    "    return data_train, data_test, labels_train, labels_test"
   ]
  },
  {
   "cell_type": "code",
   "execution_count": 4,
   "metadata": {},
   "outputs": [
    {
     "name": "stdout",
     "output_type": "stream",
     "text": [
      "IMDb reviews (combined): train = 25000, test = 25000\n"
     ]
    }
   ],
   "source": [
    "train_X, test_X, train_y, test_y = prepare_imdb_data(data, labels)\n",
    "print(\"IMDb reviews (combined): train = {}, test = {}\".format(len(train_X), len(test_X)))"
   ]
  },
  {
   "cell_type": "code",
   "execution_count": 5,
   "metadata": {},
   "outputs": [
    {
     "data": {
      "text/plain": [
       "\"Soylent Green is a classic. I have been waiting for someone to re-do it.They seem to be remaking sci-fi classics these days (i.e. War of the Worlds)and I am hoping some director/producer will re-do Soylent Green. With todays computer animation and technology, it would have the potential to be a great picture. Anti-Utopian films may not be that far-fetched. The human race breeds like roaches with no outside influence to curtail it. We, as humans, have the option of putting the kibosh on the procreation of lesser species if they get out of hand, but there's nothing to control human breeding except for ourselves. Despite all the diseases, wars, abortions, birth control, etc. the human race still multiplies like bacteria in a petri dish. Classic Malthusian economics states that any species, including humans, will multiply beyond their means of subsistence. 6 billion and growing....that's obscene.\""
      ]
     },
     "execution_count": 5,
     "metadata": {},
     "output_type": "execute_result"
    }
   ],
   "source": [
    "train_X[100]"
   ]
  },
  {
   "cell_type": "markdown",
   "metadata": {},
   "source": [
    "## Processing the data\n",
    "\n",
    "Now that we have our training and testing datasets merged and ready to use, we need to start processing the raw data into something that will be useable by our machine learning algorithm. To begin with, we remove any html formatting and any non-alpha numeric characters that may appear in the reviews. We will do this in a very simplistic way using Python's regular expression module. We will discuss the reason for this rather simplistic pre-processing later on."
   ]
  },
  {
   "cell_type": "code",
   "execution_count": 6,
   "metadata": {},
   "outputs": [],
   "source": [
    "import re\n",
    "\n",
    "# In the Mini-Projects, BeautifulSoup is used\n",
    "# Here, we use python regex and we avoid the dependency\n",
    "\n",
    "# Remove punctuation\n",
    "REPLACE_NO_SPACE = re.compile(\"(\\.)|(\\;)|(\\:)|(\\!)|(\\')|(\\?)|(\\,)|(\\\")|(\\()|(\\))|(\\[)|(\\])\")\n",
    "# Remove HTML tags\n",
    "REPLACE_WITH_SPACE = re.compile(\"(<br\\s*/><br\\s*/>)|(\\-)|(\\/)\")\n",
    "\n",
    "def review_to_words(review):\n",
    "    words = REPLACE_NO_SPACE.sub(\"\", review.lower())\n",
    "    words = REPLACE_WITH_SPACE.sub(\" \", words)\n",
    "    return words"
   ]
  },
  {
   "cell_type": "code",
   "execution_count": 7,
   "metadata": {},
   "outputs": [
    {
     "data": {
      "text/plain": [
       "'soylent green is a classic i have been waiting for someone to re do itthey seem to be remaking sci fi classics these days ie war of the worldsand i am hoping some director producer will re do soylent green with todays computer animation and technology it would have the potential to be a great picture anti utopian films may not be that far fetched the human race breeds like roaches with no outside influence to curtail it we as humans have the option of putting the kibosh on the procreation of lesser species if they get out of hand but theres nothing to control human breeding except for ourselves despite all the diseases wars abortions birth control etc the human race still multiplies like bacteria in a petri dish classic malthusian economics states that any species including humans will multiply beyond their means of subsistence 6 billion and growingthats obscene'"
      ]
     },
     "execution_count": 7,
     "metadata": {},
     "output_type": "execute_result"
    }
   ],
   "source": [
    "review_to_words(train_X[100])"
   ]
  },
  {
   "cell_type": "code",
   "execution_count": 8,
   "metadata": {},
   "outputs": [],
   "source": [
    "import pickle\n",
    "\n",
    "cache_dir = os.path.join(\"../cache\", \"sentiment_web_app\")  # where to store cache files\n",
    "os.makedirs(cache_dir, exist_ok=True)  # ensure cache directory exists\n",
    "\n",
    "def preprocess_data(data_train, data_test, labels_train, labels_test,\n",
    "                    cache_dir=cache_dir, cache_file=\"preprocessed_data.pkl\"):\n",
    "    \"\"\"Convert each review to words; read from cache if available.\"\"\"\n",
    "\n",
    "    # If cache_file is not None, try to read from it first\n",
    "    cache_data = None\n",
    "    if cache_file is not None:\n",
    "        try:\n",
    "            with open(os.path.join(cache_dir, cache_file), \"rb\") as f:\n",
    "                cache_data = pickle.load(f)\n",
    "            print(\"Read preprocessed data from cache file:\", cache_file)\n",
    "        except:\n",
    "            pass  # unable to read from cache, but that's okay\n",
    "    \n",
    "    # If cache is missing, then do the heavy lifting\n",
    "    if cache_data is None:\n",
    "        # Preprocess training and test data to obtain words for each review\n",
    "        #words_train = list(map(review_to_words, data_train))\n",
    "        #words_test = list(map(review_to_words, data_test))\n",
    "        words_train = [review_to_words(review) for review in data_train]\n",
    "        words_test = [review_to_words(review) for review in data_test]\n",
    "        \n",
    "        # Write to cache file for future runs\n",
    "        if cache_file is not None:\n",
    "            cache_data = dict(words_train=words_train, words_test=words_test,\n",
    "                              labels_train=labels_train, labels_test=labels_test)\n",
    "            with open(os.path.join(cache_dir, cache_file), \"wb\") as f:\n",
    "                pickle.dump(cache_data, f)\n",
    "            print(\"Wrote preprocessed data to cache file:\", cache_file)\n",
    "    else:\n",
    "        # Unpack data loaded from cache file\n",
    "        words_train, words_test, labels_train, labels_test = (cache_data['words_train'],\n",
    "                cache_data['words_test'], cache_data['labels_train'], cache_data['labels_test'])\n",
    "    \n",
    "    return words_train, words_test, labels_train, labels_test"
   ]
  },
  {
   "cell_type": "code",
   "execution_count": 9,
   "metadata": {},
   "outputs": [
    {
     "name": "stdout",
     "output_type": "stream",
     "text": [
      "Read preprocessed data from cache file: preprocessed_data.pkl\n"
     ]
    }
   ],
   "source": [
    "# Preprocess data\n",
    "# Note that this time no tokenization/stemming is done, as in the Mini-Projects\n",
    "# Instead, we leave the tokenization to the CountVectorizer below\n",
    "train_X, test_X, train_y, test_y = preprocess_data(train_X, test_X, train_y, test_y)"
   ]
  },
  {
   "cell_type": "markdown",
   "metadata": {},
   "source": [
    "### Extract Bag-of-Words features\n",
    "\n",
    "For the model we will be implementing, rather than using the reviews directly, we are going to transform each review into a Bag-of-Words feature representation. Keep in mind that 'in the wild' we will only have access to the training set so our transformer can only use the training set to construct a representation."
   ]
  },
  {
   "cell_type": "code",
   "execution_count": 10,
   "metadata": {},
   "outputs": [],
   "source": [
    "import numpy as np\n",
    "from sklearn.feature_extraction.text import CountVectorizer\n",
    "\n",
    "# sklearn.externals.joblib is deprecated in 0.21 and will be removed in 0.23. \n",
    "# from sklearn.externals import joblib\n",
    "\n",
    "# Import joblib package directly\n",
    "import joblib\n",
    "# joblib is an enhanced version of pickle that is more efficient for storing NumPy arrays\n",
    "\n",
    "def extract_BoW_features(words_train, words_test, vocabulary_size=5000,\n",
    "                         cache_dir=cache_dir, cache_file=\"bow_features.pkl\"):\n",
    "    \"\"\"Extract Bag-of-Words for a given set of documents, already preprocessed into words.\"\"\"\n",
    "    \n",
    "    # If cache_file is not None, try to read from it first\n",
    "    cache_data = None\n",
    "    if cache_file is not None:\n",
    "        try:\n",
    "            with open(os.path.join(cache_dir, cache_file), \"rb\") as f:\n",
    "                cache_data = joblib.load(f)\n",
    "            print(\"Read features from cache file:\", cache_file)\n",
    "        except:\n",
    "            pass  # unable to read from cache, but that's okay\n",
    "    \n",
    "    # If cache is missing, then do the heavy lifting\n",
    "    if cache_data is None:\n",
    "        # Fit a vectorizer to training documents and use it to transform them\n",
    "        # NOTE: Training documents have already been preprocessed and tokenized into words;\n",
    "        #       pass in dummy functions to skip those steps, e.g. preprocessor=lambda x: x\n",
    "        vectorizer = CountVectorizer(max_features=vocabulary_size)\n",
    "        features_train = vectorizer.fit_transform(words_train).toarray()\n",
    "\n",
    "        # Apply the same vectorizer to transform the test documents (ignore unknown words)\n",
    "        features_test = vectorizer.transform(words_test).toarray()\n",
    "        \n",
    "        # NOTE: Remember to convert the features using .toarray() for a compact representation\n",
    "        \n",
    "        # Write to cache file for future runs (store vocabulary as well)\n",
    "        if cache_file is not None:\n",
    "            vocabulary = vectorizer.vocabulary_\n",
    "            cache_data = dict(features_train=features_train, features_test=features_test,\n",
    "                             vocabulary=vocabulary)\n",
    "            with open(os.path.join(cache_dir, cache_file), \"wb\") as f:\n",
    "                joblib.dump(cache_data, f)\n",
    "            print(\"Wrote features to cache file:\", cache_file)\n",
    "    else:\n",
    "        # Unpack data loaded from cache file\n",
    "        features_train, features_test, vocabulary = (cache_data['features_train'],\n",
    "                cache_data['features_test'], cache_data['vocabulary'])\n",
    "    \n",
    "    # Return both the extracted features as well as the vocabulary\n",
    "    return features_train, features_test, vocabulary"
   ]
  },
  {
   "cell_type": "code",
   "execution_count": 11,
   "metadata": {},
   "outputs": [
    {
     "name": "stdout",
     "output_type": "stream",
     "text": [
      "Read features from cache file: bow_features.pkl\n"
     ]
    }
   ],
   "source": [
    "# Extract Bag of Words features for both training and test datasets\n",
    "train_X, test_X, vocabulary = extract_BoW_features(train_X, test_X)"
   ]
  },
  {
   "cell_type": "code",
   "execution_count": 12,
   "metadata": {},
   "outputs": [
    {
     "data": {
      "text/plain": [
       "5000"
      ]
     },
     "execution_count": 12,
     "metadata": {},
     "output_type": "execute_result"
    }
   ],
   "source": [
    "len(train_X[100])"
   ]
  },
  {
   "cell_type": "code",
   "execution_count": 13,
   "metadata": {},
   "outputs": [
    {
     "data": {
      "text/plain": [
       "(25000, 5000)"
      ]
     },
     "execution_count": 13,
     "metadata": {},
     "output_type": "execute_result"
    }
   ],
   "source": [
    "train_X.shape"
   ]
  },
  {
   "cell_type": "code",
   "execution_count": 14,
   "metadata": {},
   "outputs": [
    {
     "data": {
      "text/plain": [
       "5000"
      ]
     },
     "execution_count": 14,
     "metadata": {},
     "output_type": "execute_result"
    }
   ],
   "source": [
    "len(vocabulary.keys())"
   ]
  },
  {
   "cell_type": "markdown",
   "metadata": {},
   "source": [
    "## Step 3: Upload data to S3\n",
    "\n",
    "Now that we have created the feature representation of our training (and testing) data, it is time to start setting up and using the XGBoost classifier provided by SageMaker.\n",
    "\n",
    "### Writing the datasets\n",
    "\n",
    "The XGBoost classifier that we will be using requires the dataset to be written to a file and stored using Amazon S3. To do this, we will start by splitting the training dataset into two parts, the data we will train the model with and a validation set. Then, we will write those datasets to a file locally and then upload the files to S3. In addition, we will write the test set to a file and upload that file to S3. This is so that we can use SageMakers Batch Transform functionality to test our model once we've fit it."
   ]
  },
  {
   "cell_type": "code",
   "execution_count": 15,
   "metadata": {},
   "outputs": [],
   "source": [
    "import pandas as pd\n",
    "\n",
    "# Earlier we shuffled the training dataset so to make things simple we can just assign\n",
    "# the first 10 000 reviews to the validation set and use the remaining reviews for training.\n",
    "val_X = pd.DataFrame(train_X[:10000])\n",
    "train_X = pd.DataFrame(train_X[10000:])\n",
    "\n",
    "val_y = pd.DataFrame(train_y[:10000])\n",
    "train_y = pd.DataFrame(train_y[10000:])"
   ]
  },
  {
   "cell_type": "markdown",
   "metadata": {},
   "source": [
    "The documentation for the XGBoost algorithm in SageMaker requires that the training and validation datasets should contain no headers or index and that the label should occur first for each sample.\n",
    "\n",
    "For more information about this and other algorithms, the SageMaker developer documentation can be found on __[Amazon's website.](https://docs.aws.amazon.com/sagemaker/latest/dg/)__"
   ]
  },
  {
   "cell_type": "code",
   "execution_count": 16,
   "metadata": {},
   "outputs": [],
   "source": [
    "# First we make sure that the local directory in which we'd like to store the training and validation csv files exists.\n",
    "data_dir = '../data/sentiment_web_app'\n",
    "if not os.path.exists(data_dir):\n",
    "    os.makedirs(data_dir)"
   ]
  },
  {
   "cell_type": "code",
   "execution_count": 17,
   "metadata": {},
   "outputs": [],
   "source": [
    "pd.DataFrame(test_X).to_csv(os.path.join(data_dir, 'test.csv'), header=False, index=False)\n",
    "\n",
    "pd.concat([val_y, val_X], axis=1).to_csv(os.path.join(data_dir, 'validation.csv'), header=False, index=False)\n",
    "pd.concat([train_y, train_X], axis=1).to_csv(os.path.join(data_dir, 'train.csv'), header=False, index=False)"
   ]
  },
  {
   "cell_type": "code",
   "execution_count": 18,
   "metadata": {},
   "outputs": [],
   "source": [
    "# To save a bit of memory we can set text_X, train_X, val_X, train_y and val_y to None.\n",
    "\n",
    "test_X = train_X = val_X = train_y = val_y = None"
   ]
  },
  {
   "cell_type": "markdown",
   "metadata": {},
   "source": [
    "### Uploading Training / Validation files to S3\n",
    "\n",
    "Amazon's S3 service allows us to store files that can be accessed by both the built-in training models such as the XGBoost model we will be using as well as custom models such as the one we will see a little later.\n",
    "\n",
    "For this and most other tasks we will be doing using SageMaker, there are two methods we could use. The first is to use the low level functionality of SageMaker which requires knowing each of the objects involved in the SageMaker environment. The second is to use the high level functionality in which certain choices have been made on the user's behalf. The low level approach benefits from allowing the user a great deal of flexibility while the high level approach makes development much quicker. For our purposes we will opt to use the high level approach although using the low-level approach is certainly an option.\n",
    "\n",
    "Recall the method `upload_data()` which is a member of the object representing our current SageMaker session. What this method does is upload the data to the default bucket (which is created if it does not exist) into the path described by the key_prefix variable. To see this for yourself, once you have uploaded the data files, go to the S3 console and look to see where the files have been uploaded.\n",
    "\n",
    "For additional resources, see the __[SageMaker API documentation](http://sagemaker.readthedocs.io/en/latest/)__ and in addition the __[SageMaker Developer Guide.](https://docs.aws.amazon.com/sagemaker/latest/dg/)__"
   ]
  },
  {
   "cell_type": "code",
   "execution_count": 19,
   "metadata": {},
   "outputs": [],
   "source": [
    "import sagemaker\n",
    "\n",
    "session = sagemaker.Session() # Store the current SageMaker session\n",
    "\n",
    "# S3 prefix (which folder will we use)\n",
    "prefix = 'sentiment-web-app'\n",
    "\n",
    "test_location = session.upload_data(os.path.join(data_dir, 'test.csv'), key_prefix=prefix)\n",
    "val_location = session.upload_data(os.path.join(data_dir, 'validation.csv'), key_prefix=prefix)\n",
    "train_location = session.upload_data(os.path.join(data_dir, 'train.csv'), key_prefix=prefix)"
   ]
  },
  {
   "cell_type": "markdown",
   "metadata": {},
   "source": [
    "## Step 4: Creating the XGBoost model\n",
    "\n",
    "Now that the data has been uploaded it is time to create the XGBoost model. To begin with, we need to do some setup. At this point it is worth discussing what a model is in SageMaker. It is easiest to think of a model of comprising three different objects in the SageMaker ecosystem, which interact with one another.\n",
    "\n",
    "- Model Artifacts\n",
    "- Training Code (Container)\n",
    "- Inference Code (Container)\n",
    "\n",
    "The Model Artifacts are what you might think of as the actual model itself. For example, if you were building a neural network, the model artifacts would be the weights of the various layers. In our case, for an XGBoost model, the artifacts are the actual trees that are created during training.\n",
    "\n",
    "The other two objects, the training code and the inference code are then used to manipulate the training artifacts. More precisely, the training code uses the training data that is provided and creates the model artifacts, while the inference code uses the model artifacts to make predictions on new data.\n",
    "\n",
    "The way that SageMaker runs the training and inference code is by making use of Docker containers. For now, think of a container as being a way of packaging code up so that dependencies aren't an issue."
   ]
  },
  {
   "cell_type": "code",
   "execution_count": 20,
   "metadata": {},
   "outputs": [],
   "source": [
    "from sagemaker import get_execution_role\n",
    "\n",
    "# Our current execution role is required when creating the model as the training\n",
    "# and inference code will need to access the model artifacts.\n",
    "role = get_execution_role()"
   ]
  },
  {
   "cell_type": "code",
   "execution_count": 21,
   "metadata": {},
   "outputs": [
    {
     "name": "stderr",
     "output_type": "stream",
     "text": [
      "The method get_image_uri has been renamed in sagemaker>=2.\n",
      "See: https://sagemaker.readthedocs.io/en/stable/v2.html for details.\n"
     ]
    }
   ],
   "source": [
    "# We need to retrieve the location of the container which is provided by Amazon for using XGBoost.\n",
    "# As a matter of convenience, the training and inference code both use the same container.\n",
    "from sagemaker.amazon.amazon_estimator import get_image_uri\n",
    "\n",
    "container = get_image_uri(session.boto_region_name, 'xgboost')"
   ]
  },
  {
   "cell_type": "code",
   "execution_count": 22,
   "metadata": {},
   "outputs": [
    {
     "name": "stderr",
     "output_type": "stream",
     "text": [
      "train_instance_count has been renamed in sagemaker>=2.\n",
      "See: https://sagemaker.readthedocs.io/en/stable/v2.html for details.\n",
      "train_instance_type has been renamed in sagemaker>=2.\n",
      "See: https://sagemaker.readthedocs.io/en/stable/v2.html for details.\n"
     ]
    }
   ],
   "source": [
    "# First we create a SageMaker estimator object for our model.\n",
    "xgb = sagemaker.estimator.Estimator(container, # The location of the container we wish to use\n",
    "                                    role,                                    # What is our current IAM Role\n",
    "                                    train_instance_count=1,                  # How many compute instances\n",
    "                                    train_instance_type='ml.m4.xlarge',      # What kind of compute instances\n",
    "                                    output_path='s3://{}/{}/output'.format(session.default_bucket(), prefix),\n",
    "                                    sagemaker_session=session)\n",
    "\n",
    "# And then set the algorithm specific parameters.\n",
    "xgb.set_hyperparameters(max_depth=5,\n",
    "                        eta=0.2,\n",
    "                        gamma=4,\n",
    "                        min_child_weight=6,\n",
    "                        subsample=0.8,\n",
    "                        silent=0,\n",
    "                        objective='binary:logistic',\n",
    "                        early_stopping_rounds=10,\n",
    "                        num_round=500)"
   ]
  },
  {
   "cell_type": "markdown",
   "metadata": {},
   "source": [
    "### Fit the XGBoost model\n",
    "\n",
    "Now that our model has been set up we simply need to attach the training and validation datasets and then ask SageMaker to set up the computation."
   ]
  },
  {
   "cell_type": "code",
   "execution_count": 23,
   "metadata": {},
   "outputs": [],
   "source": [
    "s3_input_train = sagemaker.TrainingInput(s3_data=train_location, content_type='csv')\n",
    "s3_input_validation = sagemaker.TrainingInput(s3_data=val_location, content_type='csv')"
   ]
  },
  {
   "cell_type": "code",
   "execution_count": 24,
   "metadata": {},
   "outputs": [
    {
     "name": "stdout",
     "output_type": "stream",
     "text": [
      "2022-11-23 07:20:19 Starting - Starting the training job...\n",
      "2022-11-23 07:20:44 Starting - Preparing the instances for trainingProfilerReport-1669188018: InProgress\n",
      ".........\n",
      "2022-11-23 07:22:03 Downloading - Downloading input data......\n",
      "2022-11-23 07:23:03 Training - Downloading the training image...\n",
      "2022-11-23 07:23:43 Training - Training image download completed. Training in progress.\u001b[34mArguments: train\u001b[0m\n",
      "\u001b[34m[2022-11-23:07:23:44:INFO] Running standalone xgboost training.\u001b[0m\n",
      "\u001b[34m[2022-11-23:07:23:44:INFO] File size need to be processed in the node: 238.5mb. Available memory size in the node: 8825.84mb\u001b[0m\n",
      "\u001b[34m[2022-11-23:07:23:44:INFO] Determined delimiter of CSV input is ','\u001b[0m\n",
      "\u001b[34m[07:23:44] S3DistributionType set as FullyReplicated\u001b[0m\n",
      "\u001b[34m[07:23:46] 15000x5000 matrix with 75000000 entries loaded from /opt/ml/input/data/train?format=csv&label_column=0&delimiter=,\u001b[0m\n",
      "\u001b[34m[2022-11-23:07:23:46:INFO] Determined delimiter of CSV input is ','\u001b[0m\n",
      "\u001b[34m[07:23:46] S3DistributionType set as FullyReplicated\u001b[0m\n",
      "\u001b[34m[07:23:47] 10000x5000 matrix with 50000000 entries loaded from /opt/ml/input/data/validation?format=csv&label_column=0&delimiter=,\u001b[0m\n",
      "\u001b[34m[07:23:50] src/tree/updater_prune.cc:74: tree pruning end, 1 roots, 38 extra nodes, 8 pruned nodes, max_depth=5\u001b[0m\n",
      "\u001b[34m[0]#011train-error:0.3078#011validation-error:0.3057\u001b[0m\n",
      "\u001b[34mMultiple eval metrics have been passed: 'validation-error' will be used for early stopping.\u001b[0m\n",
      "\u001b[34mWill train until validation-error hasn't improved in 10 rounds.\u001b[0m\n",
      "\u001b[34m[07:23:52] src/tree/updater_prune.cc:74: tree pruning end, 1 roots, 44 extra nodes, 6 pruned nodes, max_depth=5\u001b[0m\n",
      "\u001b[34m[1]#011train-error:0.305333#011validation-error:0.3019\u001b[0m\n",
      "\u001b[34m[07:23:54] src/tree/updater_prune.cc:74: tree pruning end, 1 roots, 38 extra nodes, 8 pruned nodes, max_depth=5\u001b[0m\n",
      "\u001b[34m[2]#011train-error:0.288#011validation-error:0.2882\u001b[0m\n",
      "\u001b[34m[07:23:55] src/tree/updater_prune.cc:74: tree pruning end, 1 roots, 32 extra nodes, 0 pruned nodes, max_depth=5\u001b[0m\n",
      "\u001b[34m[3]#011train-error:0.2744#011validation-error:0.2756\u001b[0m\n",
      "\u001b[34m[07:23:56] src/tree/updater_prune.cc:74: tree pruning end, 1 roots, 40 extra nodes, 6 pruned nodes, max_depth=5\u001b[0m\n",
      "\u001b[34m[4]#011train-error:0.273133#011validation-error:0.2728\u001b[0m\n",
      "\u001b[34m[07:23:58] src/tree/updater_prune.cc:74: tree pruning end, 1 roots, 32 extra nodes, 2 pruned nodes, max_depth=5\u001b[0m\n",
      "\u001b[34m[5]#011train-error:0.263333#011validation-error:0.2641\u001b[0m\n",
      "\u001b[34m[07:23:59] src/tree/updater_prune.cc:74: tree pruning end, 1 roots, 28 extra nodes, 10 pruned nodes, max_depth=5\u001b[0m\n",
      "\u001b[34m[6]#011train-error:0.253533#011validation-error:0.2555\u001b[0m\n",
      "\u001b[34m[07:24:00] src/tree/updater_prune.cc:74: tree pruning end, 1 roots, 38 extra nodes, 6 pruned nodes, max_depth=5\u001b[0m\n",
      "\u001b[34m[7]#011train-error:0.2466#011validation-error:0.2516\u001b[0m\n",
      "\u001b[34m[07:24:02] src/tree/updater_prune.cc:74: tree pruning end, 1 roots, 32 extra nodes, 4 pruned nodes, max_depth=5\u001b[0m\n",
      "\u001b[34m[8]#011train-error:0.238067#011validation-error:0.2448\u001b[0m\n",
      "\u001b[34m[07:24:03] src/tree/updater_prune.cc:74: tree pruning end, 1 roots, 26 extra nodes, 8 pruned nodes, max_depth=5\u001b[0m\n",
      "\u001b[34m[9]#011train-error:0.231133#011validation-error:0.2417\u001b[0m\n",
      "\u001b[34m[07:24:05] src/tree/updater_prune.cc:74: tree pruning end, 1 roots, 30 extra nodes, 6 pruned nodes, max_depth=5\u001b[0m\n",
      "\u001b[34m[10]#011train-error:0.224733#011validation-error:0.2365\u001b[0m\n",
      "\u001b[34m[07:24:07] src/tree/updater_prune.cc:74: tree pruning end, 1 roots, 46 extra nodes, 6 pruned nodes, max_depth=5\u001b[0m\n",
      "\u001b[34m[11]#011train-error:0.219333#011validation-error:0.231\u001b[0m\n",
      "\u001b[34m[07:24:08] src/tree/updater_prune.cc:74: tree pruning end, 1 roots, 32 extra nodes, 4 pruned nodes, max_depth=5\u001b[0m\n",
      "\u001b[34m[12]#011train-error:0.214667#011validation-error:0.2269\u001b[0m\n",
      "\u001b[34m[07:24:09] src/tree/updater_prune.cc:74: tree pruning end, 1 roots, 26 extra nodes, 4 pruned nodes, max_depth=5\u001b[0m\n",
      "\u001b[34m[13]#011train-error:0.210267#011validation-error:0.2236\u001b[0m\n",
      "\u001b[34m[07:24:11] src/tree/updater_prune.cc:74: tree pruning end, 1 roots, 26 extra nodes, 12 pruned nodes, max_depth=5\u001b[0m\n",
      "\u001b[34m[14]#011train-error:0.207533#011validation-error:0.2214\u001b[0m\n",
      "\u001b[34m[07:24:12] src/tree/updater_prune.cc:74: tree pruning end, 1 roots, 22 extra nodes, 8 pruned nodes, max_depth=5\u001b[0m\n",
      "\u001b[34m[15]#011train-error:0.204733#011validation-error:0.2193\u001b[0m\n",
      "\u001b[34m[07:24:13] src/tree/updater_prune.cc:74: tree pruning end, 1 roots, 32 extra nodes, 2 pruned nodes, max_depth=5\u001b[0m\n",
      "\u001b[34m[16]#011train-error:0.198933#011validation-error:0.2165\u001b[0m\n",
      "\u001b[34m[07:24:15] src/tree/updater_prune.cc:74: tree pruning end, 1 roots, 20 extra nodes, 12 pruned nodes, max_depth=5\u001b[0m\n",
      "\u001b[34m[17]#011train-error:0.194067#011validation-error:0.2124\u001b[0m\n",
      "\u001b[34m[07:24:16] src/tree/updater_prune.cc:74: tree pruning end, 1 roots, 32 extra nodes, 4 pruned nodes, max_depth=5\u001b[0m\n",
      "\u001b[34m[18]#011train-error:0.191333#011validation-error:0.2114\u001b[0m\n",
      "\u001b[34m[07:24:17] src/tree/updater_prune.cc:74: tree pruning end, 1 roots, 34 extra nodes, 2 pruned nodes, max_depth=5\u001b[0m\n",
      "\u001b[34m[19]#011train-error:0.190267#011validation-error:0.2074\u001b[0m\n",
      "\u001b[34m[07:24:19] src/tree/updater_prune.cc:74: tree pruning end, 1 roots, 34 extra nodes, 2 pruned nodes, max_depth=5\u001b[0m\n",
      "\u001b[34m[20]#011train-error:0.188533#011validation-error:0.2075\u001b[0m\n",
      "\u001b[34m[07:24:20] src/tree/updater_prune.cc:74: tree pruning end, 1 roots, 32 extra nodes, 2 pruned nodes, max_depth=5\u001b[0m\n",
      "\u001b[34m[21]#011train-error:0.1846#011validation-error:0.2046\u001b[0m\n",
      "\u001b[34m[07:24:22] src/tree/updater_prune.cc:74: tree pruning end, 1 roots, 28 extra nodes, 12 pruned nodes, max_depth=5\u001b[0m\n",
      "\u001b[34m[22]#011train-error:0.181867#011validation-error:0.2032\u001b[0m\n",
      "\u001b[34m[07:24:23] src/tree/updater_prune.cc:74: tree pruning end, 1 roots, 34 extra nodes, 6 pruned nodes, max_depth=5\u001b[0m\n",
      "\u001b[34m[23]#011train-error:0.1788#011validation-error:0.1986\u001b[0m\n",
      "\u001b[34m[07:24:24] src/tree/updater_prune.cc:74: tree pruning end, 1 roots, 24 extra nodes, 10 pruned nodes, max_depth=5\u001b[0m\n",
      "\u001b[34m[24]#011train-error:0.177933#011validation-error:0.1986\u001b[0m\n",
      "\u001b[34m[07:24:26] src/tree/updater_prune.cc:74: tree pruning end, 1 roots, 20 extra nodes, 12 pruned nodes, max_depth=5\u001b[0m\n",
      "\u001b[34m[25]#011train-error:0.175867#011validation-error:0.1966\u001b[0m\n",
      "\u001b[34m[07:24:27] src/tree/updater_prune.cc:74: tree pruning end, 1 roots, 16 extra nodes, 12 pruned nodes, max_depth=5\u001b[0m\n",
      "\u001b[34m[26]#011train-error:0.173667#011validation-error:0.1957\u001b[0m\n",
      "\u001b[34m[07:24:28] src/tree/updater_prune.cc:74: tree pruning end, 1 roots, 28 extra nodes, 4 pruned nodes, max_depth=5\u001b[0m\n",
      "\u001b[34m[27]#011train-error:0.172133#011validation-error:0.1945\u001b[0m\n",
      "\u001b[34m[07:24:30] src/tree/updater_prune.cc:74: tree pruning end, 1 roots, 36 extra nodes, 8 pruned nodes, max_depth=5\u001b[0m\n",
      "\u001b[34m[28]#011train-error:0.169533#011validation-error:0.1943\u001b[0m\n",
      "\u001b[34m[07:24:31] src/tree/updater_prune.cc:74: tree pruning end, 1 roots, 48 extra nodes, 4 pruned nodes, max_depth=5\u001b[0m\n",
      "\u001b[34m[29]#011train-error:0.167867#011validation-error:0.1926\u001b[0m\n",
      "\u001b[34m[07:24:32] src/tree/updater_prune.cc:74: tree pruning end, 1 roots, 34 extra nodes, 4 pruned nodes, max_depth=5\u001b[0m\n",
      "\u001b[34m[30]#011train-error:0.166467#011validation-error:0.1913\u001b[0m\n",
      "\u001b[34m[07:24:34] src/tree/updater_prune.cc:74: tree pruning end, 1 roots, 30 extra nodes, 10 pruned nodes, max_depth=5\u001b[0m\n",
      "\u001b[34m[31]#011train-error:0.163733#011validation-error:0.1883\u001b[0m\n",
      "\u001b[34m[07:24:35] src/tree/updater_prune.cc:74: tree pruning end, 1 roots, 34 extra nodes, 6 pruned nodes, max_depth=5\u001b[0m\n",
      "\u001b[34m[32]#011train-error:0.161867#011validation-error:0.1856\u001b[0m\n",
      "\u001b[34m[07:24:36] src/tree/updater_prune.cc:74: tree pruning end, 1 roots, 24 extra nodes, 8 pruned nodes, max_depth=5\u001b[0m\n",
      "\u001b[34m[33]#011train-error:0.1614#011validation-error:0.1866\u001b[0m\n",
      "\u001b[34m[07:24:38] src/tree/updater_prune.cc:74: tree pruning end, 1 roots, 14 extra nodes, 8 pruned nodes, max_depth=5\u001b[0m\n",
      "\u001b[34m[34]#011train-error:0.159667#011validation-error:0.1853\u001b[0m\n",
      "\u001b[34m[07:24:39] src/tree/updater_prune.cc:74: tree pruning end, 1 roots, 40 extra nodes, 2 pruned nodes, max_depth=5\u001b[0m\n",
      "\u001b[34m[35]#011train-error:0.1584#011validation-error:0.1844\u001b[0m\n",
      "\u001b[34m[07:24:40] src/tree/updater_prune.cc:74: tree pruning end, 1 roots, 26 extra nodes, 6 pruned nodes, max_depth=5\u001b[0m\n",
      "\u001b[34m[36]#011train-error:0.1584#011validation-error:0.1836\u001b[0m\n",
      "\u001b[34m[07:24:42] src/tree/updater_prune.cc:74: tree pruning end, 1 roots, 16 extra nodes, 12 pruned nodes, max_depth=5\u001b[0m\n",
      "\u001b[34m[37]#011train-error:0.155867#011validation-error:0.183\u001b[0m\n",
      "\u001b[34m[07:24:43] src/tree/updater_prune.cc:74: tree pruning end, 1 roots, 30 extra nodes, 2 pruned nodes, max_depth=5\u001b[0m\n",
      "\u001b[34m[38]#011train-error:0.153733#011validation-error:0.1807\u001b[0m\n",
      "\u001b[34m[07:24:44] src/tree/updater_prune.cc:74: tree pruning end, 1 roots, 28 extra nodes, 10 pruned nodes, max_depth=5\u001b[0m\n",
      "\u001b[34m[39]#011train-error:0.151733#011validation-error:0.1814\u001b[0m\n",
      "\u001b[34m[07:24:46] src/tree/updater_prune.cc:74: tree pruning end, 1 roots, 26 extra nodes, 12 pruned nodes, max_depth=5\u001b[0m\n",
      "\u001b[34m[40]#011train-error:0.150467#011validation-error:0.1795\u001b[0m\n",
      "\u001b[34m[07:24:47] src/tree/updater_prune.cc:74: tree pruning end, 1 roots, 22 extra nodes, 2 pruned nodes, max_depth=5\u001b[0m\n",
      "\u001b[34m[41]#011train-error:0.1486#011validation-error:0.1784\u001b[0m\n",
      "\u001b[34m[07:24:48] src/tree/updater_prune.cc:74: tree pruning end, 1 roots, 18 extra nodes, 12 pruned nodes, max_depth=5\u001b[0m\n",
      "\u001b[34m[42]#011train-error:0.148067#011validation-error:0.1771\u001b[0m\n",
      "\u001b[34m[07:24:50] src/tree/updater_prune.cc:74: tree pruning end, 1 roots, 14 extra nodes, 4 pruned nodes, max_depth=5\u001b[0m\n",
      "\u001b[34m[43]#011train-error:0.146533#011validation-error:0.1764\u001b[0m\n",
      "\u001b[34m[07:24:51] src/tree/updater_prune.cc:74: tree pruning end, 1 roots, 22 extra nodes, 6 pruned nodes, max_depth=5\u001b[0m\n",
      "\u001b[34m[44]#011train-error:0.1464#011validation-error:0.1757\u001b[0m\n",
      "\u001b[34m[07:24:52] src/tree/updater_prune.cc:74: tree pruning end, 1 roots, 24 extra nodes, 10 pruned nodes, max_depth=5\u001b[0m\n",
      "\u001b[34m[45]#011train-error:0.1452#011validation-error:0.1752\u001b[0m\n",
      "\u001b[34m[07:24:54] src/tree/updater_prune.cc:74: tree pruning end, 1 roots, 32 extra nodes, 8 pruned nodes, max_depth=5\u001b[0m\n",
      "\u001b[34m[46]#011train-error:0.141867#011validation-error:0.1735\u001b[0m\n",
      "\u001b[34m[07:24:55] src/tree/updater_prune.cc:74: tree pruning end, 1 roots, 26 extra nodes, 8 pruned nodes, max_depth=5\u001b[0m\n",
      "\u001b[34m[47]#011train-error:0.140733#011validation-error:0.1721\u001b[0m\n",
      "\u001b[34m[07:24:56] src/tree/updater_prune.cc:74: tree pruning end, 1 roots, 14 extra nodes, 12 pruned nodes, max_depth=5\u001b[0m\n",
      "\u001b[34m[48]#011train-error:0.139467#011validation-error:0.172\u001b[0m\n",
      "\u001b[34m[07:24:58] src/tree/updater_prune.cc:74: tree pruning end, 1 roots, 16 extra nodes, 14 pruned nodes, max_depth=5\u001b[0m\n",
      "\u001b[34m[49]#011train-error:0.138467#011validation-error:0.1702\u001b[0m\n",
      "\u001b[34m[07:24:59] src/tree/updater_prune.cc:74: tree pruning end, 1 roots, 16 extra nodes, 14 pruned nodes, max_depth=5\u001b[0m\n",
      "\u001b[34m[50]#011train-error:0.1376#011validation-error:0.1697\u001b[0m\n",
      "\u001b[34m[07:25:00] src/tree/updater_prune.cc:74: tree pruning end, 1 roots, 14 extra nodes, 8 pruned nodes, max_depth=5\u001b[0m\n",
      "\u001b[34m[51]#011train-error:0.137067#011validation-error:0.1691\u001b[0m\n",
      "\u001b[34m[07:25:02] src/tree/updater_prune.cc:74: tree pruning end, 1 roots, 24 extra nodes, 10 pruned nodes, max_depth=5\u001b[0m\n",
      "\u001b[34m[52]#011train-error:0.136467#011validation-error:0.169\u001b[0m\n",
      "\u001b[34m[07:25:03] src/tree/updater_prune.cc:74: tree pruning end, 1 roots, 16 extra nodes, 14 pruned nodes, max_depth=5\u001b[0m\n",
      "\u001b[34m[53]#011train-error:0.1356#011validation-error:0.1678\u001b[0m\n",
      "\u001b[34m[07:25:05] src/tree/updater_prune.cc:74: tree pruning end, 1 roots, 14 extra nodes, 8 pruned nodes, max_depth=5\u001b[0m\n",
      "\u001b[34m[54]#011train-error:0.134467#011validation-error:0.167\u001b[0m\n",
      "\u001b[34m[07:25:06] src/tree/updater_prune.cc:74: tree pruning end, 1 roots, 30 extra nodes, 12 pruned nodes, max_depth=5\u001b[0m\n",
      "\u001b[34m[55]#011train-error:0.1332#011validation-error:0.1656\u001b[0m\n",
      "\u001b[34m[07:25:08] src/tree/updater_prune.cc:74: tree pruning end, 1 roots, 26 extra nodes, 12 pruned nodes, max_depth=5\u001b[0m\n",
      "\u001b[34m[56]#011train-error:0.132267#011validation-error:0.1661\u001b[0m\n",
      "\u001b[34m[07:25:09] src/tree/updater_prune.cc:74: tree pruning end, 1 roots, 28 extra nodes, 8 pruned nodes, max_depth=5\u001b[0m\n",
      "\u001b[34m[57]#011train-error:0.131467#011validation-error:0.1651\u001b[0m\n",
      "\u001b[34m[07:25:10] src/tree/updater_prune.cc:74: tree pruning end, 1 roots, 18 extra nodes, 8 pruned nodes, max_depth=5\u001b[0m\n",
      "\u001b[34m[58]#011train-error:0.1316#011validation-error:0.1648\u001b[0m\n",
      "\u001b[34m[07:25:12] src/tree/updater_prune.cc:74: tree pruning end, 1 roots, 36 extra nodes, 6 pruned nodes, max_depth=5\u001b[0m\n",
      "\u001b[34m[59]#011train-error:0.129667#011validation-error:0.1647\u001b[0m\n",
      "\u001b[34m[07:25:13] src/tree/updater_prune.cc:74: tree pruning end, 1 roots, 20 extra nodes, 12 pruned nodes, max_depth=5\u001b[0m\n",
      "\u001b[34m[60]#011train-error:0.128533#011validation-error:0.1646\u001b[0m\n",
      "\u001b[34m[07:25:14] src/tree/updater_prune.cc:74: tree pruning end, 1 roots, 14 extra nodes, 4 pruned nodes, max_depth=5\u001b[0m\n",
      "\u001b[34m[61]#011train-error:0.128333#011validation-error:0.1647\u001b[0m\n",
      "\u001b[34m[07:25:16] src/tree/updater_prune.cc:74: tree pruning end, 1 roots, 20 extra nodes, 16 pruned nodes, max_depth=5\u001b[0m\n",
      "\u001b[34m[62]#011train-error:0.1272#011validation-error:0.1647\u001b[0m\n",
      "\u001b[34m[07:25:17] src/tree/updater_prune.cc:74: tree pruning end, 1 roots, 26 extra nodes, 10 pruned nodes, max_depth=5\u001b[0m\n",
      "\u001b[34m[63]#011train-error:0.125867#011validation-error:0.163\u001b[0m\n",
      "\u001b[34m[07:25:18] src/tree/updater_prune.cc:74: tree pruning end, 1 roots, 24 extra nodes, 10 pruned nodes, max_depth=5\u001b[0m\n",
      "\u001b[34m[64]#011train-error:0.125467#011validation-error:0.1619\u001b[0m\n",
      "\u001b[34m[07:25:20] src/tree/updater_prune.cc:74: tree pruning end, 1 roots, 30 extra nodes, 6 pruned nodes, max_depth=5\u001b[0m\n",
      "\u001b[34m[65]#011train-error:0.125667#011validation-error:0.1626\u001b[0m\n",
      "\u001b[34m[07:25:21] src/tree/updater_prune.cc:74: tree pruning end, 1 roots, 14 extra nodes, 8 pruned nodes, max_depth=5\u001b[0m\n",
      "\u001b[34m[66]#011train-error:0.124333#011validation-error:0.1617\u001b[0m\n",
      "\u001b[34m[07:25:22] src/tree/updater_prune.cc:74: tree pruning end, 1 roots, 16 extra nodes, 12 pruned nodes, max_depth=5\u001b[0m\n",
      "\u001b[34m[67]#011train-error:0.124133#011validation-error:0.1599\u001b[0m\n",
      "\u001b[34m[07:25:24] src/tree/updater_prune.cc:74: tree pruning end, 1 roots, 38 extra nodes, 8 pruned nodes, max_depth=5\u001b[0m\n",
      "\u001b[34m[68]#011train-error:0.123133#011validation-error:0.1609\u001b[0m\n",
      "\u001b[34m[07:25:25] src/tree/updater_prune.cc:74: tree pruning end, 1 roots, 12 extra nodes, 8 pruned nodes, max_depth=5\u001b[0m\n",
      "\u001b[34m[69]#011train-error:0.1218#011validation-error:0.1607\u001b[0m\n",
      "\u001b[34m[07:25:26] src/tree/updater_prune.cc:74: tree pruning end, 1 roots, 32 extra nodes, 10 pruned nodes, max_depth=5\u001b[0m\n",
      "\u001b[34m[70]#011train-error:0.121267#011validation-error:0.161\u001b[0m\n",
      "\u001b[34m[07:25:28] src/tree/updater_prune.cc:74: tree pruning end, 1 roots, 18 extra nodes, 6 pruned nodes, max_depth=5\u001b[0m\n",
      "\u001b[34m[71]#011train-error:0.1204#011validation-error:0.1601\u001b[0m\n",
      "\u001b[34m[07:25:29] src/tree/updater_prune.cc:74: tree pruning end, 1 roots, 12 extra nodes, 18 pruned nodes, max_depth=5\u001b[0m\n",
      "\u001b[34m[72]#011train-error:0.119933#011validation-error:0.1601\u001b[0m\n",
      "\u001b[34m[07:25:30] src/tree/updater_prune.cc:74: tree pruning end, 1 roots, 18 extra nodes, 16 pruned nodes, max_depth=5\u001b[0m\n",
      "\u001b[34m[73]#011train-error:0.1184#011validation-error:0.1599\u001b[0m\n",
      "\u001b[34m[07:25:32] src/tree/updater_prune.cc:74: tree pruning end, 1 roots, 12 extra nodes, 6 pruned nodes, max_depth=5\u001b[0m\n",
      "\u001b[34m[74]#011train-error:0.117533#011validation-error:0.1586\u001b[0m\n",
      "\u001b[34m[07:25:33] src/tree/updater_prune.cc:74: tree pruning end, 1 roots, 26 extra nodes, 6 pruned nodes, max_depth=5\u001b[0m\n",
      "\u001b[34m[75]#011train-error:0.117#011validation-error:0.1588\u001b[0m\n",
      "\u001b[34m[07:25:34] src/tree/updater_prune.cc:74: tree pruning end, 1 roots, 32 extra nodes, 10 pruned nodes, max_depth=5\u001b[0m\n",
      "\u001b[34m[76]#011train-error:0.116333#011validation-error:0.1576\u001b[0m\n",
      "\u001b[34m[07:25:36] src/tree/updater_prune.cc:74: tree pruning end, 1 roots, 30 extra nodes, 10 pruned nodes, max_depth=5\u001b[0m\n",
      "\u001b[34m[77]#011train-error:0.115467#011validation-error:0.1592\u001b[0m\n",
      "\u001b[34m[07:25:37] src/tree/updater_prune.cc:74: tree pruning end, 1 roots, 28 extra nodes, 6 pruned nodes, max_depth=5\u001b[0m\n",
      "\u001b[34m[78]#011train-error:0.1146#011validation-error:0.1579\u001b[0m\n",
      "\u001b[34m[07:25:39] src/tree/updater_prune.cc:74: tree pruning end, 1 roots, 18 extra nodes, 8 pruned nodes, max_depth=5\u001b[0m\n",
      "\u001b[34m[79]#011train-error:0.113867#011validation-error:0.1573\u001b[0m\n",
      "\u001b[34m[07:25:40] src/tree/updater_prune.cc:74: tree pruning end, 1 roots, 12 extra nodes, 8 pruned nodes, max_depth=5\u001b[0m\n",
      "\u001b[34m[80]#011train-error:0.1132#011validation-error:0.1571\u001b[0m\n",
      "\u001b[34m[07:25:41] src/tree/updater_prune.cc:74: tree pruning end, 1 roots, 22 extra nodes, 4 pruned nodes, max_depth=5\u001b[0m\n",
      "\u001b[34m[81]#011train-error:0.112133#011validation-error:0.1574\u001b[0m\n",
      "\u001b[34m[07:25:43] src/tree/updater_prune.cc:74: tree pruning end, 1 roots, 20 extra nodes, 10 pruned nodes, max_depth=5\u001b[0m\n",
      "\u001b[34m[82]#011train-error:0.112267#011validation-error:0.1567\u001b[0m\n",
      "\u001b[34m[07:25:44] src/tree/updater_prune.cc:74: tree pruning end, 1 roots, 24 extra nodes, 12 pruned nodes, max_depth=5\u001b[0m\n",
      "\u001b[34m[83]#011train-error:0.1124#011validation-error:0.1573\u001b[0m\n",
      "\u001b[34m[07:25:45] src/tree/updater_prune.cc:74: tree pruning end, 1 roots, 12 extra nodes, 6 pruned nodes, max_depth=5\u001b[0m\n",
      "\u001b[34m[84]#011train-error:0.111867#011validation-error:0.1566\u001b[0m\n",
      "\u001b[34m[07:25:47] src/tree/updater_prune.cc:74: tree pruning end, 1 roots, 16 extra nodes, 12 pruned nodes, max_depth=5\u001b[0m\n",
      "\u001b[34m[85]#011train-error:0.1108#011validation-error:0.1559\u001b[0m\n",
      "\u001b[34m[07:25:48] src/tree/updater_prune.cc:74: tree pruning end, 1 roots, 20 extra nodes, 4 pruned nodes, max_depth=5\u001b[0m\n",
      "\u001b[34m[86]#011train-error:0.110333#011validation-error:0.1543\u001b[0m\n",
      "\u001b[34m[07:25:49] src/tree/updater_prune.cc:74: tree pruning end, 1 roots, 12 extra nodes, 6 pruned nodes, max_depth=5\u001b[0m\n",
      "\u001b[34m[87]#011train-error:0.110267#011validation-error:0.1526\u001b[0m\n",
      "\u001b[34m[07:25:51] src/tree/updater_prune.cc:74: tree pruning end, 1 roots, 10 extra nodes, 6 pruned nodes, max_depth=5\u001b[0m\n",
      "\u001b[34m[88]#011train-error:0.1094#011validation-error:0.1527\u001b[0m\n",
      "\u001b[34m[07:25:52] src/tree/updater_prune.cc:74: tree pruning end, 1 roots, 24 extra nodes, 6 pruned nodes, max_depth=5\u001b[0m\n",
      "\u001b[34m[89]#011train-error:0.108733#011validation-error:0.1525\u001b[0m\n",
      "\u001b[34m[07:25:53] src/tree/updater_prune.cc:74: tree pruning end, 1 roots, 18 extra nodes, 18 pruned nodes, max_depth=5\u001b[0m\n",
      "\u001b[34m[90]#011train-error:0.108267#011validation-error:0.1532\u001b[0m\n",
      "\u001b[34m[07:25:55] src/tree/updater_prune.cc:74: tree pruning end, 1 roots, 24 extra nodes, 16 pruned nodes, max_depth=5\u001b[0m\n",
      "\u001b[34m[91]#011train-error:0.107533#011validation-error:0.152\u001b[0m\n",
      "\u001b[34m[07:25:56] src/tree/updater_prune.cc:74: tree pruning end, 1 roots, 14 extra nodes, 10 pruned nodes, max_depth=5\u001b[0m\n",
      "\u001b[34m[92]#011train-error:0.107267#011validation-error:0.1522\u001b[0m\n",
      "\u001b[34m[07:25:57] src/tree/updater_prune.cc:74: tree pruning end, 1 roots, 14 extra nodes, 12 pruned nodes, max_depth=5\u001b[0m\n",
      "\u001b[34m[93]#011train-error:0.107067#011validation-error:0.1518\u001b[0m\n",
      "\u001b[34m[07:25:59] src/tree/updater_prune.cc:74: tree pruning end, 1 roots, 24 extra nodes, 12 pruned nodes, max_depth=5\u001b[0m\n",
      "\u001b[34m[94]#011train-error:0.1066#011validation-error:0.152\u001b[0m\n",
      "\u001b[34m[07:26:00] src/tree/updater_prune.cc:74: tree pruning end, 1 roots, 20 extra nodes, 10 pruned nodes, max_depth=5\u001b[0m\n",
      "\u001b[34m[95]#011train-error:0.105867#011validation-error:0.152\u001b[0m\n",
      "\u001b[34m[07:26:01] src/tree/updater_prune.cc:74: tree pruning end, 1 roots, 14 extra nodes, 12 pruned nodes, max_depth=5\u001b[0m\n",
      "\u001b[34m[96]#011train-error:0.106067#011validation-error:0.1513\u001b[0m\n",
      "\u001b[34m[07:26:03] src/tree/updater_prune.cc:74: tree pruning end, 1 roots, 14 extra nodes, 2 pruned nodes, max_depth=5\u001b[0m\n",
      "\u001b[34m[97]#011train-error:0.105867#011validation-error:0.1505\u001b[0m\n",
      "\u001b[34m[07:26:05] src/tree/updater_prune.cc:74: tree pruning end, 1 roots, 28 extra nodes, 12 pruned nodes, max_depth=5\u001b[0m\n",
      "\u001b[34m[98]#011train-error:0.105667#011validation-error:0.1502\u001b[0m\n",
      "\u001b[34m[07:26:06] src/tree/updater_prune.cc:74: tree pruning end, 1 roots, 10 extra nodes, 12 pruned nodes, max_depth=5\u001b[0m\n",
      "\u001b[34m[99]#011train-error:0.105267#011validation-error:0.1494\u001b[0m\n",
      "\u001b[34m[07:26:07] src/tree/updater_prune.cc:74: tree pruning end, 1 roots, 18 extra nodes, 8 pruned nodes, max_depth=5\u001b[0m\n",
      "\u001b[34m[100]#011train-error:0.1046#011validation-error:0.1503\u001b[0m\n",
      "\u001b[34m[07:26:09] src/tree/updater_prune.cc:74: tree pruning end, 1 roots, 20 extra nodes, 2 pruned nodes, max_depth=5\u001b[0m\n",
      "\u001b[34m[101]#011train-error:0.1042#011validation-error:0.1494\u001b[0m\n",
      "\u001b[34m[07:26:10] src/tree/updater_prune.cc:74: tree pruning end, 1 roots, 18 extra nodes, 8 pruned nodes, max_depth=5\u001b[0m\n",
      "\u001b[34m[102]#011train-error:0.103933#011validation-error:0.1497\u001b[0m\n",
      "\u001b[34m[07:26:11] src/tree/updater_prune.cc:74: tree pruning end, 1 roots, 24 extra nodes, 8 pruned nodes, max_depth=5\u001b[0m\n",
      "\u001b[34m[103]#011train-error:0.103#011validation-error:0.1491\u001b[0m\n",
      "\u001b[34m[07:26:13] src/tree/updater_prune.cc:74: tree pruning end, 1 roots, 30 extra nodes, 4 pruned nodes, max_depth=5\u001b[0m\n",
      "\u001b[34m[104]#011train-error:0.1028#011validation-error:0.1486\u001b[0m\n",
      "\u001b[34m[07:26:14] src/tree/updater_prune.cc:74: tree pruning end, 1 roots, 30 extra nodes, 16 pruned nodes, max_depth=5\u001b[0m\n",
      "\u001b[34m[105]#011train-error:0.100867#011validation-error:0.1486\u001b[0m\n",
      "\u001b[34m[07:26:15] src/tree/updater_prune.cc:74: tree pruning end, 1 roots, 20 extra nodes, 4 pruned nodes, max_depth=5\u001b[0m\n",
      "\u001b[34m[106]#011train-error:0.1004#011validation-error:0.1482\u001b[0m\n",
      "\u001b[34m[07:26:17] src/tree/updater_prune.cc:74: tree pruning end, 1 roots, 30 extra nodes, 14 pruned nodes, max_depth=5\u001b[0m\n",
      "\u001b[34m[107]#011train-error:0.099733#011validation-error:0.1467\u001b[0m\n",
      "\u001b[34m[07:26:18] src/tree/updater_prune.cc:74: tree pruning end, 1 roots, 16 extra nodes, 8 pruned nodes, max_depth=5\u001b[0m\n",
      "\u001b[34m[108]#011train-error:0.099267#011validation-error:0.147\u001b[0m\n",
      "\u001b[34m[07:26:19] src/tree/updater_prune.cc:74: tree pruning end, 1 roots, 12 extra nodes, 10 pruned nodes, max_depth=5\u001b[0m\n",
      "\u001b[34m[109]#011train-error:0.098533#011validation-error:0.1473\u001b[0m\n",
      "\u001b[34m[07:26:21] src/tree/updater_prune.cc:74: tree pruning end, 1 roots, 12 extra nodes, 8 pruned nodes, max_depth=5\u001b[0m\n",
      "\u001b[34m[110]#011train-error:0.098533#011validation-error:0.1476\u001b[0m\n",
      "\u001b[34m[07:26:22] src/tree/updater_prune.cc:74: tree pruning end, 1 roots, 22 extra nodes, 4 pruned nodes, max_depth=5\u001b[0m\n",
      "\u001b[34m[111]#011train-error:0.097867#011validation-error:0.1468\u001b[0m\n",
      "\u001b[34m[07:26:23] src/tree/updater_prune.cc:74: tree pruning end, 1 roots, 16 extra nodes, 0 pruned nodes, max_depth=5\u001b[0m\n",
      "\u001b[34m[112]#011train-error:0.0974#011validation-error:0.1467\u001b[0m\n",
      "\u001b[34m[07:26:25] src/tree/updater_prune.cc:74: tree pruning end, 1 roots, 14 extra nodes, 10 pruned nodes, max_depth=5\u001b[0m\n",
      "\u001b[34m[113]#011train-error:0.0972#011validation-error:0.1462\u001b[0m\n",
      "\u001b[34m[07:26:26] src/tree/updater_prune.cc:74: tree pruning end, 1 roots, 18 extra nodes, 6 pruned nodes, max_depth=5\u001b[0m\n",
      "\u001b[34m[114]#011train-error:0.096#011validation-error:0.1464\u001b[0m\n",
      "\u001b[34m[07:26:27] src/tree/updater_prune.cc:74: tree pruning end, 1 roots, 26 extra nodes, 10 pruned nodes, max_depth=5\u001b[0m\n",
      "\u001b[34m[115]#011train-error:0.094867#011validation-error:0.1455\u001b[0m\n",
      "\u001b[34m[07:26:29] src/tree/updater_prune.cc:74: tree pruning end, 1 roots, 16 extra nodes, 4 pruned nodes, max_depth=5\u001b[0m\n",
      "\u001b[34m[116]#011train-error:0.094533#011validation-error:0.1454\u001b[0m\n",
      "\u001b[34m[07:26:30] src/tree/updater_prune.cc:74: tree pruning end, 1 roots, 10 extra nodes, 2 pruned nodes, max_depth=5\u001b[0m\n",
      "\u001b[34m[117]#011train-error:0.094467#011validation-error:0.1456\u001b[0m\n",
      "\u001b[34m[07:26:31] src/tree/updater_prune.cc:74: tree pruning end, 1 roots, 12 extra nodes, 2 pruned nodes, max_depth=5\u001b[0m\n",
      "\u001b[34m[118]#011train-error:0.093933#011validation-error:0.1451\u001b[0m\n",
      "\u001b[34m[07:26:33] src/tree/updater_prune.cc:74: tree pruning end, 1 roots, 34 extra nodes, 8 pruned nodes, max_depth=5\u001b[0m\n",
      "\u001b[34m[119]#011train-error:0.092933#011validation-error:0.1457\u001b[0m\n",
      "\u001b[34m[07:26:34] src/tree/updater_prune.cc:74: tree pruning end, 1 roots, 22 extra nodes, 6 pruned nodes, max_depth=5\u001b[0m\n",
      "\u001b[34m[120]#011train-error:0.092467#011validation-error:0.1456\u001b[0m\n",
      "\u001b[34m[07:26:35] src/tree/updater_prune.cc:74: tree pruning end, 1 roots, 12 extra nodes, 2 pruned nodes, max_depth=5\u001b[0m\n",
      "\u001b[34m[121]#011train-error:0.092067#011validation-error:0.1459\u001b[0m\n",
      "\u001b[34m[07:26:37] src/tree/updater_prune.cc:74: tree pruning end, 1 roots, 16 extra nodes, 6 pruned nodes, max_depth=5\u001b[0m\n",
      "\u001b[34m[122]#011train-error:0.092667#011validation-error:0.1458\u001b[0m\n",
      "\u001b[34m[07:26:38] src/tree/updater_prune.cc:74: tree pruning end, 1 roots, 16 extra nodes, 4 pruned nodes, max_depth=5\u001b[0m\n",
      "\u001b[34m[123]#011train-error:0.0924#011validation-error:0.1453\u001b[0m\n",
      "\u001b[34m[07:26:39] src/tree/updater_prune.cc:74: tree pruning end, 1 roots, 10 extra nodes, 2 pruned nodes, max_depth=5\u001b[0m\n",
      "\u001b[34m[124]#011train-error:0.092133#011validation-error:0.1456\u001b[0m\n",
      "\u001b[34m[07:26:41] src/tree/updater_prune.cc:74: tree pruning end, 1 roots, 16 extra nodes, 18 pruned nodes, max_depth=5\u001b[0m\n",
      "\u001b[34m[125]#011train-error:0.092#011validation-error:0.1448\u001b[0m\n",
      "\u001b[34m[07:26:42] src/tree/updater_prune.cc:74: tree pruning end, 1 roots, 14 extra nodes, 8 pruned nodes, max_depth=5\u001b[0m\n",
      "\u001b[34m[126]#011train-error:0.092#011validation-error:0.1444\u001b[0m\n",
      "\u001b[34m[07:26:44] src/tree/updater_prune.cc:74: tree pruning end, 1 roots, 16 extra nodes, 8 pruned nodes, max_depth=5\u001b[0m\n",
      "\u001b[34m[127]#011train-error:0.090667#011validation-error:0.1442\u001b[0m\n",
      "\u001b[34m[07:26:45] src/tree/updater_prune.cc:74: tree pruning end, 1 roots, 10 extra nodes, 2 pruned nodes, max_depth=5\u001b[0m\n",
      "\u001b[34m[128]#011train-error:0.090067#011validation-error:0.1434\u001b[0m\n",
      "\u001b[34m[07:26:46] src/tree/updater_prune.cc:74: tree pruning end, 1 roots, 28 extra nodes, 10 pruned nodes, max_depth=5\u001b[0m\n",
      "\u001b[34m[129]#011train-error:0.089067#011validation-error:0.1433\u001b[0m\n",
      "\u001b[34m[07:26:48] src/tree/updater_prune.cc:74: tree pruning end, 1 roots, 14 extra nodes, 2 pruned nodes, max_depth=5\u001b[0m\n",
      "\u001b[34m[130]#011train-error:0.089667#011validation-error:0.1434\u001b[0m\n",
      "\u001b[34m[07:26:49] src/tree/updater_prune.cc:74: tree pruning end, 1 roots, 14 extra nodes, 6 pruned nodes, max_depth=5\u001b[0m\n",
      "\u001b[34m[131]#011train-error:0.088867#011validation-error:0.1436\u001b[0m\n",
      "\u001b[34m[07:26:50] src/tree/updater_prune.cc:74: tree pruning end, 1 roots, 12 extra nodes, 10 pruned nodes, max_depth=5\u001b[0m\n",
      "\u001b[34m[132]#011train-error:0.0886#011validation-error:0.1437\u001b[0m\n",
      "\u001b[34m[07:26:52] src/tree/updater_prune.cc:74: tree pruning end, 1 roots, 14 extra nodes, 10 pruned nodes, max_depth=5\u001b[0m\n",
      "\u001b[34m[133]#011train-error:0.0882#011validation-error:0.1434\u001b[0m\n",
      "\u001b[34m[07:26:53] src/tree/updater_prune.cc:74: tree pruning end, 1 roots, 16 extra nodes, 12 pruned nodes, max_depth=5\u001b[0m\n",
      "\u001b[34m[134]#011train-error:0.086933#011validation-error:0.1439\u001b[0m\n",
      "\u001b[34m[07:26:54] src/tree/updater_prune.cc:74: tree pruning end, 1 roots, 26 extra nodes, 4 pruned nodes, max_depth=5\u001b[0m\n",
      "\u001b[34m[135]#011train-error:0.087#011validation-error:0.1434\u001b[0m\n",
      "\u001b[34m[07:26:56] src/tree/updater_prune.cc:74: tree pruning end, 1 roots, 10 extra nodes, 10 pruned nodes, max_depth=5\u001b[0m\n",
      "\u001b[34m[136]#011train-error:0.087#011validation-error:0.1433\u001b[0m\n",
      "\u001b[34m[07:26:57] src/tree/updater_prune.cc:74: tree pruning end, 1 roots, 16 extra nodes, 2 pruned nodes, max_depth=5\u001b[0m\n",
      "\u001b[34m[137]#011train-error:0.086067#011validation-error:0.1429\u001b[0m\n",
      "\u001b[34m[07:26:58] src/tree/updater_prune.cc:74: tree pruning end, 1 roots, 14 extra nodes, 0 pruned nodes, max_depth=5\u001b[0m\n",
      "\u001b[34m[138]#011train-error:0.085067#011validation-error:0.1429\u001b[0m\n",
      "\u001b[34m[07:27:00] src/tree/updater_prune.cc:74: tree pruning end, 1 roots, 16 extra nodes, 6 pruned nodes, max_depth=5\u001b[0m\n",
      "\u001b[34m[139]#011train-error:0.085933#011validation-error:0.1426\u001b[0m\n",
      "\u001b[34m[07:27:01] src/tree/updater_prune.cc:74: tree pruning end, 1 roots, 22 extra nodes, 20 pruned nodes, max_depth=5\u001b[0m\n",
      "\u001b[34m[140]#011train-error:0.0852#011validation-error:0.1428\u001b[0m\n",
      "\u001b[34m[07:27:02] src/tree/updater_prune.cc:74: tree pruning end, 1 roots, 18 extra nodes, 4 pruned nodes, max_depth=5\u001b[0m\n",
      "\u001b[34m[141]#011train-error:0.085133#011validation-error:0.1427\u001b[0m\n",
      "\u001b[34m[07:27:04] src/tree/updater_prune.cc:74: tree pruning end, 1 roots, 20 extra nodes, 10 pruned nodes, max_depth=5\u001b[0m\n",
      "\u001b[34m[142]#011train-error:0.084533#011validation-error:0.1427\u001b[0m\n",
      "\u001b[34m[07:27:06] src/tree/updater_prune.cc:74: tree pruning end, 1 roots, 12 extra nodes, 2 pruned nodes, max_depth=5\u001b[0m\n",
      "\u001b[34m[143]#011train-error:0.085067#011validation-error:0.1427\u001b[0m\n",
      "\u001b[34m[07:27:07] src/tree/updater_prune.cc:74: tree pruning end, 1 roots, 14 extra nodes, 6 pruned nodes, max_depth=5\u001b[0m\n",
      "\u001b[34m[144]#011train-error:0.084933#011validation-error:0.143\u001b[0m\n",
      "\u001b[34m[07:27:08] src/tree/updater_prune.cc:74: tree pruning end, 1 roots, 18 extra nodes, 8 pruned nodes, max_depth=5\u001b[0m\n",
      "\u001b[34m[145]#011train-error:0.0852#011validation-error:0.1425\u001b[0m\n",
      "\u001b[34m[07:27:10] src/tree/updater_prune.cc:74: tree pruning end, 1 roots, 12 extra nodes, 12 pruned nodes, max_depth=5\u001b[0m\n",
      "\u001b[34m[146]#011train-error:0.084467#011validation-error:0.1416\u001b[0m\n",
      "\u001b[34m[07:27:11] src/tree/updater_prune.cc:74: tree pruning end, 1 roots, 20 extra nodes, 10 pruned nodes, max_depth=5\u001b[0m\n",
      "\u001b[34m[147]#011train-error:0.084#011validation-error:0.141\u001b[0m\n",
      "\u001b[34m[07:27:12] src/tree/updater_prune.cc:74: tree pruning end, 1 roots, 20 extra nodes, 10 pruned nodes, max_depth=5\u001b[0m\n",
      "\u001b[34m[148]#011train-error:0.0836#011validation-error:0.141\u001b[0m\n",
      "\u001b[34m[07:27:14] src/tree/updater_prune.cc:74: tree pruning end, 1 roots, 10 extra nodes, 4 pruned nodes, max_depth=5\u001b[0m\n",
      "\u001b[34m[149]#011train-error:0.0834#011validation-error:0.1414\u001b[0m\n",
      "\u001b[34m[07:27:15] src/tree/updater_prune.cc:74: tree pruning end, 1 roots, 10 extra nodes, 2 pruned nodes, max_depth=5\u001b[0m\n",
      "\u001b[34m[150]#011train-error:0.083133#011validation-error:0.1415\u001b[0m\n",
      "\u001b[34m[07:27:16] src/tree/updater_prune.cc:74: tree pruning end, 1 roots, 10 extra nodes, 12 pruned nodes, max_depth=5\u001b[0m\n",
      "\u001b[34m[151]#011train-error:0.0824#011validation-error:0.1413\u001b[0m\n",
      "\u001b[34m[07:27:18] src/tree/updater_prune.cc:74: tree pruning end, 1 roots, 10 extra nodes, 16 pruned nodes, max_depth=5\u001b[0m\n",
      "\u001b[34m[152]#011train-error:0.082867#011validation-error:0.1413\u001b[0m\n",
      "\u001b[34m[07:27:19] src/tree/updater_prune.cc:74: tree pruning end, 1 roots, 12 extra nodes, 4 pruned nodes, max_depth=5\u001b[0m\n",
      "\u001b[34m[153]#011train-error:0.082533#011validation-error:0.1413\u001b[0m\n",
      "\u001b[34m[07:27:21] src/tree/updater_prune.cc:74: tree pruning end, 1 roots, 16 extra nodes, 10 pruned nodes, max_depth=5\u001b[0m\n",
      "\u001b[34m[154]#011train-error:0.082333#011validation-error:0.1405\u001b[0m\n",
      "\u001b[34m[07:27:22] src/tree/updater_prune.cc:74: tree pruning end, 1 roots, 26 extra nodes, 8 pruned nodes, max_depth=5\u001b[0m\n",
      "\u001b[34m[155]#011train-error:0.081933#011validation-error:0.1407\u001b[0m\n",
      "\u001b[34m[07:27:23] src/tree/updater_prune.cc:74: tree pruning end, 1 roots, 14 extra nodes, 8 pruned nodes, max_depth=5\u001b[0m\n",
      "\u001b[34m[156]#011train-error:0.0818#011validation-error:0.1407\u001b[0m\n",
      "\u001b[34m[07:27:25] src/tree/updater_prune.cc:74: tree pruning end, 1 roots, 28 extra nodes, 8 pruned nodes, max_depth=5\u001b[0m\n",
      "\u001b[34m[157]#011train-error:0.081133#011validation-error:0.1408\u001b[0m\n",
      "\u001b[34m[07:27:26] src/tree/updater_prune.cc:74: tree pruning end, 1 roots, 18 extra nodes, 4 pruned nodes, max_depth=5\u001b[0m\n",
      "\u001b[34m[158]#011train-error:0.080533#011validation-error:0.1403\u001b[0m\n",
      "\u001b[34m[07:27:27] src/tree/updater_prune.cc:74: tree pruning end, 1 roots, 10 extra nodes, 10 pruned nodes, max_depth=5\u001b[0m\n",
      "\u001b[34m[159]#011train-error:0.080533#011validation-error:0.1406\u001b[0m\n",
      "\u001b[34m[07:27:29] src/tree/updater_prune.cc:74: tree pruning end, 1 roots, 16 extra nodes, 4 pruned nodes, max_depth=5\u001b[0m\n",
      "\u001b[34m[160]#011train-error:0.080133#011validation-error:0.1404\u001b[0m\n",
      "\u001b[34m[07:27:30] src/tree/updater_prune.cc:74: tree pruning end, 1 roots, 26 extra nodes, 10 pruned nodes, max_depth=5\u001b[0m\n",
      "\u001b[34m[161]#011train-error:0.079067#011validation-error:0.1409\u001b[0m\n",
      "\u001b[34m[07:27:31] src/tree/updater_prune.cc:74: tree pruning end, 1 roots, 16 extra nodes, 8 pruned nodes, max_depth=5\u001b[0m\n",
      "\u001b[34m[162]#011train-error:0.079533#011validation-error:0.1399\u001b[0m\n",
      "\u001b[34m[07:27:33] src/tree/updater_prune.cc:74: tree pruning end, 1 roots, 14 extra nodes, 2 pruned nodes, max_depth=5\u001b[0m\n",
      "\u001b[34m[163]#011train-error:0.079#011validation-error:0.1406\u001b[0m\n",
      "\u001b[34m[07:27:34] src/tree/updater_prune.cc:74: tree pruning end, 1 roots, 18 extra nodes, 8 pruned nodes, max_depth=5\u001b[0m\n",
      "\u001b[34m[164]#011train-error:0.0792#011validation-error:0.1409\u001b[0m\n",
      "\u001b[34m[07:27:35] src/tree/updater_prune.cc:74: tree pruning end, 1 roots, 16 extra nodes, 10 pruned nodes, max_depth=5\u001b[0m\n",
      "\u001b[34m[165]#011train-error:0.079#011validation-error:0.1421\u001b[0m\n",
      "\u001b[34m[07:27:37] src/tree/updater_prune.cc:74: tree pruning end, 1 roots, 10 extra nodes, 2 pruned nodes, max_depth=5\u001b[0m\n",
      "\u001b[34m[166]#011train-error:0.078933#011validation-error:0.1418\u001b[0m\n",
      "\u001b[34m[07:27:38] src/tree/updater_prune.cc:74: tree pruning end, 1 roots, 20 extra nodes, 6 pruned nodes, max_depth=5\u001b[0m\n",
      "\u001b[34m[167]#011train-error:0.0788#011validation-error:0.1422\u001b[0m\n",
      "\u001b[34m[07:27:39] src/tree/updater_prune.cc:74: tree pruning end, 1 roots, 14 extra nodes, 4 pruned nodes, max_depth=5\u001b[0m\n",
      "\u001b[34m[168]#011train-error:0.078067#011validation-error:0.142\u001b[0m\n",
      "\u001b[34m[07:27:41] src/tree/updater_prune.cc:74: tree pruning end, 1 roots, 14 extra nodes, 8 pruned nodes, max_depth=5\u001b[0m\n",
      "\u001b[34m[169]#011train-error:0.077933#011validation-error:0.1425\u001b[0m\n",
      "\u001b[34m[07:27:42] src/tree/updater_prune.cc:74: tree pruning end, 1 roots, 16 extra nodes, 10 pruned nodes, max_depth=5\u001b[0m\n",
      "\u001b[34m[170]#011train-error:0.078067#011validation-error:0.1419\u001b[0m\n",
      "\u001b[34m[07:27:43] src/tree/updater_prune.cc:74: tree pruning end, 1 roots, 16 extra nodes, 10 pruned nodes, max_depth=5\u001b[0m\n",
      "\u001b[34m[171]#011train-error:0.078067#011validation-error:0.1421\u001b[0m\n",
      "\u001b[34m[07:27:45] src/tree/updater_prune.cc:74: tree pruning end, 1 roots, 12 extra nodes, 8 pruned nodes, max_depth=5\u001b[0m\n",
      "\u001b[34m[172]#011train-error:0.078133#011validation-error:0.1419\u001b[0m\n",
      "\u001b[34mStopping. Best iteration:\u001b[0m\n",
      "\u001b[34m[162]#011train-error:0.079533#011validation-error:0.1399\u001b[0m\n",
      "\n",
      "2022-11-23 07:28:08 Uploading - Uploading generated training model\n",
      "2022-11-23 07:28:08 Completed - Training job completed\n",
      "Training seconds: 373\n",
      "Billable seconds: 373\n"
     ]
    }
   ],
   "source": [
    "xgb.fit({'train': s3_input_train, 'validation': s3_input_validation})"
   ]
  },
  {
   "cell_type": "markdown",
   "metadata": {},
   "source": [
    "## Step 5: Testing the model\n",
    "\n",
    "Now that we've fit our XGBoost model, it's time to see how well it performs. To do this we will use SageMakers Batch Transform functionality. Batch Transform is a convenient way to perform inference on a large dataset in a way that is not realtime. That is, we don't necessarily need to use our model's results immediately and instead we can perform inference on a large number of samples. An example of this in industry might be performing an end of month report. This method of inference can also be useful to us as it means that we can perform inference on our entire test set. \n",
    "\n",
    "To perform a Batch Transformation we need to first create a transformer objects from our trained estimator object."
   ]
  },
  {
   "cell_type": "code",
   "execution_count": 25,
   "metadata": {},
   "outputs": [],
   "source": [
    "xgb_transformer = xgb.transformer(instance_count = 1, instance_type = 'ml.m4.xlarge')"
   ]
  },
  {
   "cell_type": "markdown",
   "metadata": {},
   "source": [
    "Next we actually perform the transform job. When doing so we need to make sure to specify the type of data we are sending so that it is serialized correctly in the background. In our case we are providing our model with csv data so we specify `text/csv`. Also, if the test data that we have provided is too large to process all at once then we need to specify how the data file should be split up. Since each line is a single entry in our data set we tell SageMaker that it can split the input on each line."
   ]
  },
  {
   "cell_type": "code",
   "execution_count": 26,
   "metadata": {},
   "outputs": [
    {
     "name": "stdout",
     "output_type": "stream",
     "text": [
      "..................................\u001b[34mArguments: serve\u001b[0m\n",
      "\u001b[35mArguments: serve\u001b[0m\n",
      "\u001b[34m[2022-11-23 07:34:36 +0000] [1] [INFO] Starting gunicorn 19.9.0\u001b[0m\n",
      "\u001b[34m[2022-11-23 07:34:36 +0000] [1] [INFO] Listening at: http://0.0.0.0:8080 (1)\u001b[0m\n",
      "\u001b[34m[2022-11-23 07:34:36 +0000] [1] [INFO] Using worker: gevent\u001b[0m\n",
      "\u001b[34m[2022-11-23 07:34:36 +0000] [21] [INFO] Booting worker with pid: 21\u001b[0m\n",
      "\u001b[34m[2022-11-23 07:34:36 +0000] [22] [INFO] Booting worker with pid: 22\u001b[0m\n",
      "\u001b[34m/opt/amazon/lib/python3.7/site-packages/gunicorn/workers/ggevent.py:65: MonkeyPatchWarning: Monkey-patching ssl after ssl has already been imported may lead to errors, including RecursionError on Python 3.6. It may also silently lead to incorrect behaviour on Python 3.7. Please monkey-patch earlier. See https://github.com/gevent/gevent/issues/1016. Modules that had direct imports (NOT patched): ['urllib3.util (/opt/amazon/lib/python3.7/site-packages/urllib3/util/__init__.py)', 'urllib3.util.ssl_ (/opt/amazon/lib/python3.7/site-packages/urllib3/util/ssl_.py)']. \n",
      "  monkey.patch_all(subprocess=True)\u001b[0m\n",
      "\u001b[34m[2022-11-23 07:34:36 +0000] [23] [INFO] Booting worker with pid: 23\u001b[0m\n",
      "\u001b[34m[2022-11-23:07:34:36:INFO] Model loaded successfully for worker : 21\u001b[0m\n",
      "\u001b[34m/opt/amazon/lib/python3.7/site-packages/gunicorn/workers/ggevent.py:65: MonkeyPatchWarning: Monkey-patching ssl after ssl has already been imported may lead to errors, including RecursionError on Python 3.6. It may also silently lead to incorrect behaviour on Python 3.7. Please monkey-patch earlier. See https://github.com/gevent/gevent/issues/1016. Modules that had direct imports (NOT patched): ['urllib3.util (/opt/amazon/lib/python3.7/site-packages/urllib3/util/__init__.py)', 'urllib3.util.ssl_ (/opt/amazon/lib/python3.7/site-packages/urllib3/util/ssl_.py)']. \n",
      "  monkey.patch_all(subprocess=True)\u001b[0m\n",
      "\u001b[34m[2022-11-23:07:34:36:INFO] Model loaded successfully for worker : 22\u001b[0m\n",
      "\u001b[34m/opt/amazon/lib/python3.7/site-packages/gunicorn/workers/ggevent.py:65: MonkeyPatchWarning: Monkey-patching ssl after ssl has already been imported may lead to errors, including RecursionError on Python 3.6. It may also silently lead to incorrect behaviour on Python 3.7. Please monkey-patch earlier. See https://github.com/gevent/gevent/issues/1016. Modules that had direct imports (NOT patched): ['urllib3.util (/opt/amazon/lib/python3.7/site-packages/urllib3/util/__init__.py)', 'urllib3.util.ssl_ (/opt/amazon/lib/python3.7/site-packages/urllib3/util/ssl_.py)']. \n",
      "  monkey.patch_all(subprocess=True)\u001b[0m\n",
      "\u001b[34m[2022-11-23:07:34:36:INFO] Model loaded successfully for worker : 23\u001b[0m\n",
      "\u001b[34m[2022-11-23 07:34:36 +0000] [24] [INFO] Booting worker with pid: 24\u001b[0m\n",
      "\u001b[34m/opt/amazon/lib/python3.7/site-packages/gunicorn/workers/ggevent.py:65: MonkeyPatchWarning: Monkey-patching ssl after ssl has already been imported may lead to errors, including RecursionError on Python 3.6. It may also silently lead to incorrect behaviour on Python 3.7. Please monkey-patch earlier. See https://github.com/gevent/gevent/issues/1016. Modules that had direct imports (NOT patched): ['urllib3.util (/opt/amazon/lib/python3.7/site-packages/urllib3/util/__init__.py)', 'urllib3.util.ssl_ (/opt/amazon/lib/python3.7/site-packages/urllib3/util/ssl_.py)']. \n",
      "  monkey.patch_all(subprocess=True)\u001b[0m\n",
      "\u001b[34m[2022-11-23:07:34:37:INFO] Model loaded successfully for worker : 24\u001b[0m\n",
      "\u001b[35m[2022-11-23 07:34:36 +0000] [1] [INFO] Starting gunicorn 19.9.0\u001b[0m\n",
      "\u001b[35m[2022-11-23 07:34:36 +0000] [1] [INFO] Listening at: http://0.0.0.0:8080 (1)\u001b[0m\n",
      "\u001b[35m[2022-11-23 07:34:36 +0000] [1] [INFO] Using worker: gevent\u001b[0m\n",
      "\u001b[35m[2022-11-23 07:34:36 +0000] [21] [INFO] Booting worker with pid: 21\u001b[0m\n",
      "\u001b[35m[2022-11-23 07:34:36 +0000] [22] [INFO] Booting worker with pid: 22\u001b[0m\n",
      "\u001b[35m/opt/amazon/lib/python3.7/site-packages/gunicorn/workers/ggevent.py:65: MonkeyPatchWarning: Monkey-patching ssl after ssl has already been imported may lead to errors, including RecursionError on Python 3.6. It may also silently lead to incorrect behaviour on Python 3.7. Please monkey-patch earlier. See https://github.com/gevent/gevent/issues/1016. Modules that had direct imports (NOT patched): ['urllib3.util (/opt/amazon/lib/python3.7/site-packages/urllib3/util/__init__.py)', 'urllib3.util.ssl_ (/opt/amazon/lib/python3.7/site-packages/urllib3/util/ssl_.py)']. \n",
      "  monkey.patch_all(subprocess=True)\u001b[0m\n",
      "\u001b[35m[2022-11-23 07:34:36 +0000] [23] [INFO] Booting worker with pid: 23\u001b[0m\n",
      "\u001b[35m[2022-11-23:07:34:36:INFO] Model loaded successfully for worker : 21\u001b[0m\n",
      "\u001b[35m/opt/amazon/lib/python3.7/site-packages/gunicorn/workers/ggevent.py:65: MonkeyPatchWarning: Monkey-patching ssl after ssl has already been imported may lead to errors, including RecursionError on Python 3.6. It may also silently lead to incorrect behaviour on Python 3.7. Please monkey-patch earlier. See https://github.com/gevent/gevent/issues/1016. Modules that had direct imports (NOT patched): ['urllib3.util (/opt/amazon/lib/python3.7/site-packages/urllib3/util/__init__.py)', 'urllib3.util.ssl_ (/opt/amazon/lib/python3.7/site-packages/urllib3/util/ssl_.py)']. \n",
      "  monkey.patch_all(subprocess=True)\u001b[0m\n",
      "\u001b[35m[2022-11-23:07:34:36:INFO] Model loaded successfully for worker : 22\u001b[0m\n",
      "\u001b[35m/opt/amazon/lib/python3.7/site-packages/gunicorn/workers/ggevent.py:65: MonkeyPatchWarning: Monkey-patching ssl after ssl has already been imported may lead to errors, including RecursionError on Python 3.6. It may also silently lead to incorrect behaviour on Python 3.7. Please monkey-patch earlier. See https://github.com/gevent/gevent/issues/1016. Modules that had direct imports (NOT patched): ['urllib3.util (/opt/amazon/lib/python3.7/site-packages/urllib3/util/__init__.py)', 'urllib3.util.ssl_ (/opt/amazon/lib/python3.7/site-packages/urllib3/util/ssl_.py)']. \n",
      "  monkey.patch_all(subprocess=True)\u001b[0m\n",
      "\u001b[35m[2022-11-23:07:34:36:INFO] Model loaded successfully for worker : 23\u001b[0m\n",
      "\u001b[35m[2022-11-23 07:34:36 +0000] [24] [INFO] Booting worker with pid: 24\u001b[0m\n",
      "\u001b[35m/opt/amazon/lib/python3.7/site-packages/gunicorn/workers/ggevent.py:65: MonkeyPatchWarning: Monkey-patching ssl after ssl has already been imported may lead to errors, including RecursionError on Python 3.6. It may also silently lead to incorrect behaviour on Python 3.7. Please monkey-patch earlier. See https://github.com/gevent/gevent/issues/1016. Modules that had direct imports (NOT patched): ['urllib3.util (/opt/amazon/lib/python3.7/site-packages/urllib3/util/__init__.py)', 'urllib3.util.ssl_ (/opt/amazon/lib/python3.7/site-packages/urllib3/util/ssl_.py)']. \n",
      "  monkey.patch_all(subprocess=True)\u001b[0m\n",
      "\u001b[35m[2022-11-23:07:34:37:INFO] Model loaded successfully for worker : 24\u001b[0m\n",
      "\u001b[32m2022-11-23T07:34:40.687:[sagemaker logs]: MaxConcurrentTransforms=4, MaxPayloadInMB=6, BatchStrategy=MULTI_RECORD\u001b[0m\n",
      "\u001b[34m[2022-11-23:07:34:44:INFO] Sniff delimiter as ','\u001b[0m\n",
      "\u001b[34m[2022-11-23:07:34:44:INFO] Determined delimiter of CSV input is ','\u001b[0m\n",
      "\u001b[34m[2022-11-23:07:34:44:INFO] Sniff delimiter as ','\u001b[0m\n",
      "\u001b[34m[2022-11-23:07:34:44:INFO] Determined delimiter of CSV input is ','\u001b[0m\n",
      "\u001b[34m[2022-11-23:07:34:44:INFO] Sniff delimiter as ','\u001b[0m\n",
      "\u001b[34m[2022-11-23:07:34:44:INFO] Determined delimiter of CSV input is ','\u001b[0m\n",
      "\u001b[35m[2022-11-23:07:34:44:INFO] Sniff delimiter as ','\u001b[0m\n",
      "\u001b[35m[2022-11-23:07:34:44:INFO] Determined delimiter of CSV input is ','\u001b[0m\n",
      "\u001b[35m[2022-11-23:07:34:44:INFO] Sniff delimiter as ','\u001b[0m\n",
      "\u001b[35m[2022-11-23:07:34:44:INFO] Determined delimiter of CSV input is ','\u001b[0m\n",
      "\u001b[35m[2022-11-23:07:34:44:INFO] Sniff delimiter as ','\u001b[0m\n",
      "\u001b[35m[2022-11-23:07:34:44:INFO] Determined delimiter of CSV input is ','\u001b[0m\n",
      "\u001b[34m[2022-11-23:07:34:46:INFO] Sniff delimiter as ','\u001b[0m\n",
      "\u001b[34m[2022-11-23:07:34:46:INFO] Determined delimiter of CSV input is ','\u001b[0m\n",
      "\u001b[35m[2022-11-23:07:34:46:INFO] Sniff delimiter as ','\u001b[0m\n",
      "\u001b[35m[2022-11-23:07:34:46:INFO] Determined delimiter of CSV input is ','\u001b[0m\n",
      "\u001b[34m[2022-11-23:07:34:48:INFO] Sniff delimiter as ','\u001b[0m\n",
      "\u001b[34m[2022-11-23:07:34:48:INFO] Determined delimiter of CSV input is ','\u001b[0m\n",
      "\u001b[34m[2022-11-23:07:34:48:INFO] Sniff delimiter as ','\u001b[0m\n",
      "\u001b[34m[2022-11-23:07:34:48:INFO] Determined delimiter of CSV input is ','\u001b[0m\n",
      "\u001b[34m[2022-11-23:07:34:48:INFO] Sniff delimiter as ','\u001b[0m\n",
      "\u001b[34m[2022-11-23:07:34:48:INFO] Determined delimiter of CSV input is ','\u001b[0m\n",
      "\u001b[35m[2022-11-23:07:34:48:INFO] Sniff delimiter as ','\u001b[0m\n",
      "\u001b[35m[2022-11-23:07:34:48:INFO] Determined delimiter of CSV input is ','\u001b[0m\n",
      "\u001b[35m[2022-11-23:07:34:48:INFO] Sniff delimiter as ','\u001b[0m\n",
      "\u001b[35m[2022-11-23:07:34:48:INFO] Determined delimiter of CSV input is ','\u001b[0m\n",
      "\u001b[35m[2022-11-23:07:34:48:INFO] Sniff delimiter as ','\u001b[0m\n",
      "\u001b[35m[2022-11-23:07:34:48:INFO] Determined delimiter of CSV input is ','\u001b[0m\n",
      "\u001b[34m[2022-11-23:07:34:52:INFO] Sniff delimiter as ','\u001b[0m\n",
      "\u001b[34m[2022-11-23:07:34:52:INFO] Determined delimiter of CSV input is ','\u001b[0m\n",
      "\u001b[35m[2022-11-23:07:34:52:INFO] Sniff delimiter as ','\u001b[0m\n",
      "\u001b[35m[2022-11-23:07:34:52:INFO] Determined delimiter of CSV input is ','\u001b[0m\n",
      "\u001b[34m[2022-11-23:07:34:54:INFO] Sniff delimiter as ','\u001b[0m\n",
      "\u001b[34m[2022-11-23:07:34:54:INFO] Determined delimiter of CSV input is ','\u001b[0m\n",
      "\u001b[35m[2022-11-23:07:34:54:INFO] Sniff delimiter as ','\u001b[0m\n",
      "\u001b[35m[2022-11-23:07:34:54:INFO] Determined delimiter of CSV input is ','\u001b[0m\n",
      "\u001b[34m[2022-11-23:07:34:55:INFO] Sniff delimiter as ','\u001b[0m\n",
      "\u001b[34m[2022-11-23:07:34:55:INFO] Determined delimiter of CSV input is ','\u001b[0m\n",
      "\u001b[34m[2022-11-23:07:34:55:INFO] Sniff delimiter as ','\u001b[0m\n",
      "\u001b[34m[2022-11-23:07:34:55:INFO] Determined delimiter of CSV input is ','\u001b[0m\n",
      "\u001b[35m[2022-11-23:07:34:55:INFO] Sniff delimiter as ','\u001b[0m\n",
      "\u001b[35m[2022-11-23:07:34:55:INFO] Determined delimiter of CSV input is ','\u001b[0m\n",
      "\u001b[35m[2022-11-23:07:34:55:INFO] Sniff delimiter as ','\u001b[0m\n",
      "\u001b[35m[2022-11-23:07:34:55:INFO] Determined delimiter of CSV input is ','\u001b[0m\n",
      "\u001b[34m[2022-11-23:07:34:56:INFO] Sniff delimiter as ','\u001b[0m\n",
      "\u001b[34m[2022-11-23:07:34:56:INFO] Determined delimiter of CSV input is ','\u001b[0m\n",
      "\u001b[35m[2022-11-23:07:34:56:INFO] Sniff delimiter as ','\u001b[0m\n",
      "\u001b[35m[2022-11-23:07:34:56:INFO] Determined delimiter of CSV input is ','\u001b[0m\n",
      "\u001b[34m[2022-11-23:07:34:58:INFO] Sniff delimiter as ','\u001b[0m\n",
      "\u001b[34m[2022-11-23:07:34:58:INFO] Determined delimiter of CSV input is ','\u001b[0m\n",
      "\u001b[35m[2022-11-23:07:34:58:INFO] Sniff delimiter as ','\u001b[0m\n",
      "\u001b[35m[2022-11-23:07:34:58:INFO] Determined delimiter of CSV input is ','\u001b[0m\n",
      "\u001b[34m[2022-11-23:07:34:59:INFO] Sniff delimiter as ','\u001b[0m\n",
      "\u001b[34m[2022-11-23:07:34:59:INFO] Determined delimiter of CSV input is ','\u001b[0m\n",
      "\u001b[34m[2022-11-23:07:34:59:INFO] Sniff delimiter as ','\u001b[0m\n",
      "\u001b[34m[2022-11-23:07:34:59:INFO] Determined delimiter of CSV input is ','\u001b[0m\n",
      "\u001b[35m[2022-11-23:07:34:59:INFO] Sniff delimiter as ','\u001b[0m\n",
      "\u001b[35m[2022-11-23:07:34:59:INFO] Determined delimiter of CSV input is ','\u001b[0m\n",
      "\u001b[35m[2022-11-23:07:34:59:INFO] Sniff delimiter as ','\u001b[0m\n",
      "\u001b[35m[2022-11-23:07:34:59:INFO] Determined delimiter of CSV input is ','\u001b[0m\n",
      "\u001b[34m[2022-11-23:07:35:03:INFO] Sniff delimiter as ','\u001b[0m\n",
      "\u001b[34m[2022-11-23:07:35:03:INFO] Determined delimiter of CSV input is ','\u001b[0m\n",
      "\u001b[34m[2022-11-23:07:35:03:INFO] Sniff delimiter as ','\u001b[0m\n",
      "\u001b[34m[2022-11-23:07:35:03:INFO] Determined delimiter of CSV input is ','\u001b[0m\n",
      "\u001b[35m[2022-11-23:07:35:03:INFO] Sniff delimiter as ','\u001b[0m\n",
      "\u001b[35m[2022-11-23:07:35:03:INFO] Determined delimiter of CSV input is ','\u001b[0m\n",
      "\u001b[35m[2022-11-23:07:35:03:INFO] Sniff delimiter as ','\u001b[0m\n",
      "\u001b[35m[2022-11-23:07:35:03:INFO] Determined delimiter of CSV input is ','\u001b[0m\n",
      "\u001b[34m[2022-11-23:07:35:06:INFO] Sniff delimiter as ','\u001b[0m\n",
      "\u001b[34m[2022-11-23:07:35:06:INFO] Determined delimiter of CSV input is ','\u001b[0m\n",
      "\u001b[34m[2022-11-23:07:35:06:INFO] Sniff delimiter as ','\u001b[0m\n",
      "\u001b[34m[2022-11-23:07:35:06:INFO] Determined delimiter of CSV input is ','\u001b[0m\n",
      "\u001b[34m[2022-11-23:07:35:06:INFO] Sniff delimiter as ','\u001b[0m\n",
      "\u001b[34m[2022-11-23:07:35:06:INFO] Determined delimiter of CSV input is ','\u001b[0m\n",
      "\u001b[35m[2022-11-23:07:35:06:INFO] Sniff delimiter as ','\u001b[0m\n",
      "\u001b[35m[2022-11-23:07:35:06:INFO] Determined delimiter of CSV input is ','\u001b[0m\n",
      "\u001b[35m[2022-11-23:07:35:06:INFO] Sniff delimiter as ','\u001b[0m\n",
      "\u001b[35m[2022-11-23:07:35:06:INFO] Determined delimiter of CSV input is ','\u001b[0m\n",
      "\u001b[35m[2022-11-23:07:35:06:INFO] Sniff delimiter as ','\u001b[0m\n",
      "\u001b[35m[2022-11-23:07:35:06:INFO] Determined delimiter of CSV input is ','\u001b[0m\n",
      "\u001b[34m[2022-11-23:07:35:09:INFO] Sniff delimiter as ','\u001b[0m\n",
      "\u001b[34m[2022-11-23:07:35:09:INFO] Determined delimiter of CSV input is ','\u001b[0m\n",
      "\u001b[34m[2022-11-23:07:35:09:INFO] Sniff delimiter as ','\u001b[0m\n",
      "\u001b[34m[2022-11-23:07:35:09:INFO] Determined delimiter of CSV input is ','\u001b[0m\n",
      "\u001b[35m[2022-11-23:07:35:09:INFO] Sniff delimiter as ','\u001b[0m\n",
      "\u001b[35m[2022-11-23:07:35:09:INFO] Determined delimiter of CSV input is ','\u001b[0m\n",
      "\u001b[35m[2022-11-23:07:35:09:INFO] Sniff delimiter as ','\u001b[0m\n",
      "\u001b[35m[2022-11-23:07:35:09:INFO] Determined delimiter of CSV input is ','\u001b[0m\n",
      "\u001b[34m[2022-11-23:07:35:09:INFO] Sniff delimiter as ','\u001b[0m\n",
      "\u001b[34m[2022-11-23:07:35:09:INFO] Determined delimiter of CSV input is ','\u001b[0m\n",
      "\u001b[34m[2022-11-23:07:35:09:INFO] Sniff delimiter as ','\u001b[0m\n",
      "\u001b[34m[2022-11-23:07:35:09:INFO] Determined delimiter of CSV input is ','\u001b[0m\n",
      "\u001b[35m[2022-11-23:07:35:09:INFO] Sniff delimiter as ','\u001b[0m\n",
      "\u001b[35m[2022-11-23:07:35:09:INFO] Determined delimiter of CSV input is ','\u001b[0m\n",
      "\u001b[35m[2022-11-23:07:35:09:INFO] Sniff delimiter as ','\u001b[0m\n",
      "\u001b[35m[2022-11-23:07:35:09:INFO] Determined delimiter of CSV input is ','\u001b[0m\n",
      "\u001b[34m[2022-11-23:07:35:13:INFO] Sniff delimiter as ','\u001b[0m\n",
      "\u001b[34m[2022-11-23:07:35:13:INFO] Determined delimiter of CSV input is ','\u001b[0m\n",
      "\u001b[35m[2022-11-23:07:35:13:INFO] Sniff delimiter as ','\u001b[0m\n",
      "\u001b[35m[2022-11-23:07:35:13:INFO] Determined delimiter of CSV input is ','\u001b[0m\n",
      "\u001b[34m[2022-11-23:07:35:13:INFO] Sniff delimiter as ','\u001b[0m\n",
      "\u001b[34m[2022-11-23:07:35:13:INFO] Determined delimiter of CSV input is ','\u001b[0m\n",
      "\u001b[35m[2022-11-23:07:35:13:INFO] Sniff delimiter as ','\u001b[0m\n",
      "\u001b[35m[2022-11-23:07:35:13:INFO] Determined delimiter of CSV input is ','\u001b[0m\n",
      "\u001b[34m[2022-11-23:07:35:16:INFO] Sniff delimiter as ','\u001b[0m\n",
      "\u001b[34m[2022-11-23:07:35:16:INFO] Determined delimiter of CSV input is ','\u001b[0m\n",
      "\u001b[34m[2022-11-23:07:35:16:INFO] Sniff delimiter as ','\u001b[0m\n",
      "\u001b[34m[2022-11-23:07:35:16:INFO] Determined delimiter of CSV input is ','\u001b[0m\n",
      "\u001b[34m[2022-11-23:07:35:16:INFO] Sniff delimiter as ','\u001b[0m\n",
      "\u001b[35m[2022-11-23:07:35:16:INFO] Sniff delimiter as ','\u001b[0m\n",
      "\u001b[35m[2022-11-23:07:35:16:INFO] Determined delimiter of CSV input is ','\u001b[0m\n",
      "\u001b[35m[2022-11-23:07:35:16:INFO] Sniff delimiter as ','\u001b[0m\n",
      "\u001b[35m[2022-11-23:07:35:16:INFO] Determined delimiter of CSV input is ','\u001b[0m\n",
      "\u001b[35m[2022-11-23:07:35:16:INFO] Sniff delimiter as ','\u001b[0m\n",
      "\u001b[34m[2022-11-23:07:35:16:INFO] Determined delimiter of CSV input is ','\u001b[0m\n",
      "\u001b[34m[2022-11-23:07:35:17:INFO] Sniff delimiter as ','\u001b[0m\n",
      "\u001b[34m[2022-11-23:07:35:17:INFO] Determined delimiter of CSV input is ','\u001b[0m\n",
      "\u001b[35m[2022-11-23:07:35:16:INFO] Determined delimiter of CSV input is ','\u001b[0m\n",
      "\u001b[35m[2022-11-23:07:35:17:INFO] Sniff delimiter as ','\u001b[0m\n",
      "\u001b[35m[2022-11-23:07:35:17:INFO] Determined delimiter of CSV input is ','\u001b[0m\n",
      "\u001b[34m[2022-11-23:07:35:20:INFO] Sniff delimiter as ','\u001b[0m\n",
      "\u001b[34m[2022-11-23:07:35:20:INFO] Determined delimiter of CSV input is ','\u001b[0m\n",
      "\u001b[34m[2022-11-23:07:35:20:INFO] Sniff delimiter as ','\u001b[0m\n",
      "\u001b[34m[2022-11-23:07:35:20:INFO] Determined delimiter of CSV input is ','\u001b[0m\n",
      "\u001b[34m[2022-11-23:07:35:20:INFO] Sniff delimiter as ','\u001b[0m\n",
      "\u001b[34m[2022-11-23:07:35:20:INFO] Determined delimiter of CSV input is ','\u001b[0m\n",
      "\u001b[35m[2022-11-23:07:35:20:INFO] Sniff delimiter as ','\u001b[0m\n",
      "\u001b[35m[2022-11-23:07:35:20:INFO] Determined delimiter of CSV input is ','\u001b[0m\n",
      "\u001b[35m[2022-11-23:07:35:20:INFO] Sniff delimiter as ','\u001b[0m\n",
      "\u001b[35m[2022-11-23:07:35:20:INFO] Determined delimiter of CSV input is ','\u001b[0m\n",
      "\u001b[35m[2022-11-23:07:35:20:INFO] Sniff delimiter as ','\u001b[0m\n",
      "\u001b[35m[2022-11-23:07:35:20:INFO] Determined delimiter of CSV input is ','\u001b[0m\n",
      "\n"
     ]
    }
   ],
   "source": [
    "xgb_transformer.transform(test_location, content_type='text/csv', split_type='Line')"
   ]
  },
  {
   "cell_type": "markdown",
   "metadata": {},
   "source": [
    "Currently the transform job is running but it is doing so in the background. Since we wish to wait until the transform job is done and we would like a bit of feedback we can run the `wait()` method."
   ]
  },
  {
   "cell_type": "code",
   "execution_count": 27,
   "metadata": {},
   "outputs": [
    {
     "name": "stdout",
     "output_type": "stream",
     "text": [
      "\u001b[34mArguments: serve\u001b[0m\n",
      "\u001b[35mArguments: serve\u001b[0m\n",
      "\u001b[34m[2022-11-23 07:34:36 +0000] [1] [INFO] Starting gunicorn 19.9.0\u001b[0m\n",
      "\u001b[34m[2022-11-23 07:34:36 +0000] [1] [INFO] Listening at: http://0.0.0.0:8080 (1)\u001b[0m\n",
      "\u001b[34m[2022-11-23 07:34:36 +0000] [1] [INFO] Using worker: gevent\u001b[0m\n",
      "\u001b[34m[2022-11-23 07:34:36 +0000] [21] [INFO] Booting worker with pid: 21\u001b[0m\n",
      "\u001b[34m[2022-11-23 07:34:36 +0000] [22] [INFO] Booting worker with pid: 22\u001b[0m\n",
      "\u001b[34m/opt/amazon/lib/python3.7/site-packages/gunicorn/workers/ggevent.py:65: MonkeyPatchWarning: Monkey-patching ssl after ssl has already been imported may lead to errors, including RecursionError on Python 3.6. It may also silently lead to incorrect behaviour on Python 3.7. Please monkey-patch earlier. See https://github.com/gevent/gevent/issues/1016. Modules that had direct imports (NOT patched): ['urllib3.util (/opt/amazon/lib/python3.7/site-packages/urllib3/util/__init__.py)', 'urllib3.util.ssl_ (/opt/amazon/lib/python3.7/site-packages/urllib3/util/ssl_.py)']. \n",
      "  monkey.patch_all(subprocess=True)\u001b[0m\n",
      "\u001b[34m[2022-11-23 07:34:36 +0000] [23] [INFO] Booting worker with pid: 23\u001b[0m\n",
      "\u001b[34m[2022-11-23:07:34:36:INFO] Model loaded successfully for worker : 21\u001b[0m\n",
      "\u001b[34m/opt/amazon/lib/python3.7/site-packages/gunicorn/workers/ggevent.py:65: MonkeyPatchWarning: Monkey-patching ssl after ssl has already been imported may lead to errors, including RecursionError on Python 3.6. It may also silently lead to incorrect behaviour on Python 3.7. Please monkey-patch earlier. See https://github.com/gevent/gevent/issues/1016. Modules that had direct imports (NOT patched): ['urllib3.util (/opt/amazon/lib/python3.7/site-packages/urllib3/util/__init__.py)', 'urllib3.util.ssl_ (/opt/amazon/lib/python3.7/site-packages/urllib3/util/ssl_.py)']. \n",
      "  monkey.patch_all(subprocess=True)\u001b[0m\n",
      "\u001b[34m[2022-11-23:07:34:36:INFO] Model loaded successfully for worker : 22\u001b[0m\n",
      "\u001b[34m/opt/amazon/lib/python3.7/site-packages/gunicorn/workers/ggevent.py:65: MonkeyPatchWarning: Monkey-patching ssl after ssl has already been imported may lead to errors, including RecursionError on Python 3.6. It may also silently lead to incorrect behaviour on Python 3.7. Please monkey-patch earlier. See https://github.com/gevent/gevent/issues/1016. Modules that had direct imports (NOT patched): ['urllib3.util (/opt/amazon/lib/python3.7/site-packages/urllib3/util/__init__.py)', 'urllib3.util.ssl_ (/opt/amazon/lib/python3.7/site-packages/urllib3/util/ssl_.py)']. \n",
      "  monkey.patch_all(subprocess=True)\u001b[0m\n",
      "\u001b[34m[2022-11-23:07:34:36:INFO] Model loaded successfully for worker : 23\u001b[0m\n",
      "\u001b[34m[2022-11-23 07:34:36 +0000] [24] [INFO] Booting worker with pid: 24\u001b[0m\n",
      "\u001b[34m/opt/amazon/lib/python3.7/site-packages/gunicorn/workers/ggevent.py:65: MonkeyPatchWarning: Monkey-patching ssl after ssl has already been imported may lead to errors, including RecursionError on Python 3.6. It may also silently lead to incorrect behaviour on Python 3.7. Please monkey-patch earlier. See https://github.com/gevent/gevent/issues/1016. Modules that had direct imports (NOT patched): ['urllib3.util (/opt/amazon/lib/python3.7/site-packages/urllib3/util/__init__.py)', 'urllib3.util.ssl_ (/opt/amazon/lib/python3.7/site-packages/urllib3/util/ssl_.py)']. \n",
      "  monkey.patch_all(subprocess=True)\u001b[0m\n",
      "\u001b[34m[2022-11-23:07:34:37:INFO] Model loaded successfully for worker : 24\u001b[0m\n",
      "\u001b[35m[2022-11-23 07:34:36 +0000] [1] [INFO] Starting gunicorn 19.9.0\u001b[0m\n",
      "\u001b[35m[2022-11-23 07:34:36 +0000] [1] [INFO] Listening at: http://0.0.0.0:8080 (1)\u001b[0m\n",
      "\u001b[35m[2022-11-23 07:34:36 +0000] [1] [INFO] Using worker: gevent\u001b[0m\n",
      "\u001b[35m[2022-11-23 07:34:36 +0000] [21] [INFO] Booting worker with pid: 21\u001b[0m\n",
      "\u001b[35m[2022-11-23 07:34:36 +0000] [22] [INFO] Booting worker with pid: 22\u001b[0m\n",
      "\u001b[35m/opt/amazon/lib/python3.7/site-packages/gunicorn/workers/ggevent.py:65: MonkeyPatchWarning: Monkey-patching ssl after ssl has already been imported may lead to errors, including RecursionError on Python 3.6. It may also silently lead to incorrect behaviour on Python 3.7. Please monkey-patch earlier. See https://github.com/gevent/gevent/issues/1016. Modules that had direct imports (NOT patched): ['urllib3.util (/opt/amazon/lib/python3.7/site-packages/urllib3/util/__init__.py)', 'urllib3.util.ssl_ (/opt/amazon/lib/python3.7/site-packages/urllib3/util/ssl_.py)']. \n",
      "  monkey.patch_all(subprocess=True)\u001b[0m\n",
      "\u001b[35m[2022-11-23 07:34:36 +0000] [23] [INFO] Booting worker with pid: 23\u001b[0m\n",
      "\u001b[35m[2022-11-23:07:34:36:INFO] Model loaded successfully for worker : 21\u001b[0m\n",
      "\u001b[35m/opt/amazon/lib/python3.7/site-packages/gunicorn/workers/ggevent.py:65: MonkeyPatchWarning: Monkey-patching ssl after ssl has already been imported may lead to errors, including RecursionError on Python 3.6. It may also silently lead to incorrect behaviour on Python 3.7. Please monkey-patch earlier. See https://github.com/gevent/gevent/issues/1016. Modules that had direct imports (NOT patched): ['urllib3.util (/opt/amazon/lib/python3.7/site-packages/urllib3/util/__init__.py)', 'urllib3.util.ssl_ (/opt/amazon/lib/python3.7/site-packages/urllib3/util/ssl_.py)']. \n",
      "  monkey.patch_all(subprocess=True)\u001b[0m\n",
      "\u001b[35m[2022-11-23:07:34:36:INFO] Model loaded successfully for worker : 22\u001b[0m\n",
      "\u001b[35m/opt/amazon/lib/python3.7/site-packages/gunicorn/workers/ggevent.py:65: MonkeyPatchWarning: Monkey-patching ssl after ssl has already been imported may lead to errors, including RecursionError on Python 3.6. It may also silently lead to incorrect behaviour on Python 3.7. Please monkey-patch earlier. See https://github.com/gevent/gevent/issues/1016. Modules that had direct imports (NOT patched): ['urllib3.util (/opt/amazon/lib/python3.7/site-packages/urllib3/util/__init__.py)', 'urllib3.util.ssl_ (/opt/amazon/lib/python3.7/site-packages/urllib3/util/ssl_.py)']. \n",
      "  monkey.patch_all(subprocess=True)\u001b[0m\n",
      "\u001b[35m[2022-11-23:07:34:36:INFO] Model loaded successfully for worker : 23\u001b[0m\n",
      "\u001b[35m[2022-11-23 07:34:36 +0000] [24] [INFO] Booting worker with pid: 24\u001b[0m\n",
      "\u001b[35m/opt/amazon/lib/python3.7/site-packages/gunicorn/workers/ggevent.py:65: MonkeyPatchWarning: Monkey-patching ssl after ssl has already been imported may lead to errors, including RecursionError on Python 3.6. It may also silently lead to incorrect behaviour on Python 3.7. Please monkey-patch earlier. See https://github.com/gevent/gevent/issues/1016. Modules that had direct imports (NOT patched): ['urllib3.util (/opt/amazon/lib/python3.7/site-packages/urllib3/util/__init__.py)', 'urllib3.util.ssl_ (/opt/amazon/lib/python3.7/site-packages/urllib3/util/ssl_.py)']. \n",
      "  monkey.patch_all(subprocess=True)\u001b[0m\n",
      "\u001b[35m[2022-11-23:07:34:37:INFO] Model loaded successfully for worker : 24\u001b[0m\n",
      "\u001b[32m2022-11-23T07:34:40.687:[sagemaker logs]: MaxConcurrentTransforms=4, MaxPayloadInMB=6, BatchStrategy=MULTI_RECORD\u001b[0m\n",
      "\u001b[34m[2022-11-23:07:34:44:INFO] Sniff delimiter as ','\u001b[0m\n",
      "\u001b[34m[2022-11-23:07:34:44:INFO] Determined delimiter of CSV input is ','\u001b[0m\n",
      "\u001b[34m[2022-11-23:07:34:44:INFO] Sniff delimiter as ','\u001b[0m\n",
      "\u001b[34m[2022-11-23:07:34:44:INFO] Determined delimiter of CSV input is ','\u001b[0m\n",
      "\u001b[34m[2022-11-23:07:34:44:INFO] Sniff delimiter as ','\u001b[0m\n",
      "\u001b[34m[2022-11-23:07:34:44:INFO] Determined delimiter of CSV input is ','\u001b[0m\n",
      "\u001b[35m[2022-11-23:07:34:44:INFO] Sniff delimiter as ','\u001b[0m\n",
      "\u001b[35m[2022-11-23:07:34:44:INFO] Determined delimiter of CSV input is ','\u001b[0m\n",
      "\u001b[35m[2022-11-23:07:34:44:INFO] Sniff delimiter as ','\u001b[0m\n",
      "\u001b[35m[2022-11-23:07:34:44:INFO] Determined delimiter of CSV input is ','\u001b[0m\n",
      "\u001b[35m[2022-11-23:07:34:44:INFO] Sniff delimiter as ','\u001b[0m\n",
      "\u001b[35m[2022-11-23:07:34:44:INFO] Determined delimiter of CSV input is ','\u001b[0m\n",
      "\u001b[34m[2022-11-23:07:34:46:INFO] Sniff delimiter as ','\u001b[0m\n",
      "\u001b[34m[2022-11-23:07:34:46:INFO] Determined delimiter of CSV input is ','\u001b[0m\n",
      "\u001b[35m[2022-11-23:07:34:46:INFO] Sniff delimiter as ','\u001b[0m\n",
      "\u001b[35m[2022-11-23:07:34:46:INFO] Determined delimiter of CSV input is ','\u001b[0m\n",
      "\u001b[34m[2022-11-23:07:34:48:INFO] Sniff delimiter as ','\u001b[0m\n",
      "\u001b[34m[2022-11-23:07:34:48:INFO] Determined delimiter of CSV input is ','\u001b[0m\n",
      "\u001b[34m[2022-11-23:07:34:48:INFO] Sniff delimiter as ','\u001b[0m\n",
      "\u001b[34m[2022-11-23:07:34:48:INFO] Determined delimiter of CSV input is ','\u001b[0m\n",
      "\u001b[34m[2022-11-23:07:34:48:INFO] Sniff delimiter as ','\u001b[0m\n",
      "\u001b[34m[2022-11-23:07:34:48:INFO] Determined delimiter of CSV input is ','\u001b[0m\n",
      "\u001b[35m[2022-11-23:07:34:48:INFO] Sniff delimiter as ','\u001b[0m\n",
      "\u001b[35m[2022-11-23:07:34:48:INFO] Determined delimiter of CSV input is ','\u001b[0m\n",
      "\u001b[35m[2022-11-23:07:34:48:INFO] Sniff delimiter as ','\u001b[0m\n",
      "\u001b[35m[2022-11-23:07:34:48:INFO] Determined delimiter of CSV input is ','\u001b[0m\n",
      "\u001b[35m[2022-11-23:07:34:48:INFO] Sniff delimiter as ','\u001b[0m\n",
      "\u001b[35m[2022-11-23:07:34:48:INFO] Determined delimiter of CSV input is ','\u001b[0m\n",
      "\u001b[34m[2022-11-23:07:34:50:INFO] Sniff delimiter as ','\u001b[0m\n",
      "\u001b[34m[2022-11-23:07:34:50:INFO] Determined delimiter of CSV input is ','\u001b[0m\n",
      "\u001b[35m[2022-11-23:07:34:50:INFO] Sniff delimiter as ','\u001b[0m\n",
      "\u001b[35m[2022-11-23:07:34:50:INFO] Determined delimiter of CSV input is ','\u001b[0m\n",
      "\u001b[34m[2022-11-23:07:34:52:INFO] Sniff delimiter as ','\u001b[0m\n",
      "\u001b[34m[2022-11-23:07:34:52:INFO] Determined delimiter of CSV input is ','\u001b[0m\n",
      "\u001b[34m[2022-11-23:07:34:52:INFO] Sniff delimiter as ','\u001b[0m\n",
      "\u001b[34m[2022-11-23:07:34:52:INFO] Determined delimiter of CSV input is ','\u001b[0m\n",
      "\u001b[34m[2022-11-23:07:34:52:INFO] Sniff delimiter as ','\u001b[0m\n",
      "\u001b[34m[2022-11-23:07:34:52:INFO] Determined delimiter of CSV input is ','\u001b[0m\n",
      "\u001b[35m[2022-11-23:07:34:52:INFO] Sniff delimiter as ','\u001b[0m\n",
      "\u001b[35m[2022-11-23:07:34:52:INFO] Determined delimiter of CSV input is ','\u001b[0m\n",
      "\u001b[35m[2022-11-23:07:34:52:INFO] Sniff delimiter as ','\u001b[0m\n",
      "\u001b[35m[2022-11-23:07:34:52:INFO] Determined delimiter of CSV input is ','\u001b[0m\n",
      "\u001b[35m[2022-11-23:07:34:52:INFO] Sniff delimiter as ','\u001b[0m\n",
      "\u001b[35m[2022-11-23:07:34:52:INFO] Determined delimiter of CSV input is ','\u001b[0m\n",
      "\u001b[34m[2022-11-23:07:34:54:INFO] Sniff delimiter as ','\u001b[0m\n",
      "\u001b[34m[2022-11-23:07:34:54:INFO] Determined delimiter of CSV input is ','\u001b[0m\n",
      "\u001b[35m[2022-11-23:07:34:54:INFO] Sniff delimiter as ','\u001b[0m\n",
      "\u001b[35m[2022-11-23:07:34:54:INFO] Determined delimiter of CSV input is ','\u001b[0m\n",
      "\u001b[34m[2022-11-23:07:34:55:INFO] Sniff delimiter as ','\u001b[0m\n",
      "\u001b[34m[2022-11-23:07:34:55:INFO] Determined delimiter of CSV input is ','\u001b[0m\n",
      "\u001b[34m[2022-11-23:07:34:55:INFO] Sniff delimiter as ','\u001b[0m\n",
      "\u001b[34m[2022-11-23:07:34:55:INFO] Determined delimiter of CSV input is ','\u001b[0m\n",
      "\u001b[35m[2022-11-23:07:34:55:INFO] Sniff delimiter as ','\u001b[0m\n",
      "\u001b[35m[2022-11-23:07:34:55:INFO] Determined delimiter of CSV input is ','\u001b[0m\n",
      "\u001b[35m[2022-11-23:07:34:55:INFO] Sniff delimiter as ','\u001b[0m\n",
      "\u001b[35m[2022-11-23:07:34:55:INFO] Determined delimiter of CSV input is ','\u001b[0m\n",
      "\u001b[34m[2022-11-23:07:34:56:INFO] Sniff delimiter as ','\u001b[0m\n",
      "\u001b[34m[2022-11-23:07:34:56:INFO] Determined delimiter of CSV input is ','\u001b[0m\n",
      "\u001b[35m[2022-11-23:07:34:56:INFO] Sniff delimiter as ','\u001b[0m\n",
      "\u001b[35m[2022-11-23:07:34:56:INFO] Determined delimiter of CSV input is ','\u001b[0m\n",
      "\u001b[34m[2022-11-23:07:34:58:INFO] Sniff delimiter as ','\u001b[0m\n",
      "\u001b[34m[2022-11-23:07:34:58:INFO] Determined delimiter of CSV input is ','\u001b[0m\n",
      "\u001b[35m[2022-11-23:07:34:58:INFO] Sniff delimiter as ','\u001b[0m\n",
      "\u001b[35m[2022-11-23:07:34:58:INFO] Determined delimiter of CSV input is ','\u001b[0m\n",
      "\u001b[34m[2022-11-23:07:34:59:INFO] Sniff delimiter as ','\u001b[0m\n",
      "\u001b[34m[2022-11-23:07:34:59:INFO] Determined delimiter of CSV input is ','\u001b[0m\n",
      "\u001b[34m[2022-11-23:07:34:59:INFO] Sniff delimiter as ','\u001b[0m\n",
      "\u001b[34m[2022-11-23:07:34:59:INFO] Determined delimiter of CSV input is ','\u001b[0m\n",
      "\u001b[35m[2022-11-23:07:34:59:INFO] Sniff delimiter as ','\u001b[0m\n",
      "\u001b[35m[2022-11-23:07:34:59:INFO] Determined delimiter of CSV input is ','\u001b[0m\n",
      "\u001b[35m[2022-11-23:07:34:59:INFO] Sniff delimiter as ','\u001b[0m\n",
      "\u001b[35m[2022-11-23:07:34:59:INFO] Determined delimiter of CSV input is ','\u001b[0m\n",
      "\u001b[34m[2022-11-23:07:35:01:INFO] Sniff delimiter as ','\u001b[0m\n",
      "\u001b[34m[2022-11-23:07:35:01:INFO] Determined delimiter of CSV input is ','\u001b[0m\n",
      "\u001b[35m[2022-11-23:07:35:01:INFO] Sniff delimiter as ','\u001b[0m\n",
      "\u001b[35m[2022-11-23:07:35:01:INFO] Determined delimiter of CSV input is ','\u001b[0m\n",
      "\u001b[34m[2022-11-23:07:35:03:INFO] Sniff delimiter as ','\u001b[0m\n",
      "\u001b[34m[2022-11-23:07:35:03:INFO] Determined delimiter of CSV input is ','\u001b[0m\n",
      "\u001b[34m[2022-11-23:07:35:03:INFO] Sniff delimiter as ','\u001b[0m\n",
      "\u001b[34m[2022-11-23:07:35:03:INFO] Determined delimiter of CSV input is ','\u001b[0m\n",
      "\u001b[34m[2022-11-23:07:35:03:INFO] Sniff delimiter as ','\u001b[0m\n",
      "\u001b[34m[2022-11-23:07:35:03:INFO] Determined delimiter of CSV input is ','\u001b[0m\n",
      "\u001b[35m[2022-11-23:07:35:03:INFO] Sniff delimiter as ','\u001b[0m\n",
      "\u001b[35m[2022-11-23:07:35:03:INFO] Determined delimiter of CSV input is ','\u001b[0m\n",
      "\u001b[35m[2022-11-23:07:35:03:INFO] Sniff delimiter as ','\u001b[0m\n",
      "\u001b[35m[2022-11-23:07:35:03:INFO] Determined delimiter of CSV input is ','\u001b[0m\n",
      "\u001b[35m[2022-11-23:07:35:03:INFO] Sniff delimiter as ','\u001b[0m\n",
      "\u001b[35m[2022-11-23:07:35:03:INFO] Determined delimiter of CSV input is ','\u001b[0m\n",
      "\u001b[34m[2022-11-23:07:35:06:INFO] Sniff delimiter as ','\u001b[0m\n",
      "\u001b[34m[2022-11-23:07:35:06:INFO] Determined delimiter of CSV input is ','\u001b[0m\n",
      "\u001b[34m[2022-11-23:07:35:06:INFO] Sniff delimiter as ','\u001b[0m\n",
      "\u001b[34m[2022-11-23:07:35:06:INFO] Determined delimiter of CSV input is ','\u001b[0m\n",
      "\u001b[34m[2022-11-23:07:35:06:INFO] Sniff delimiter as ','\u001b[0m\n",
      "\u001b[34m[2022-11-23:07:35:06:INFO] Determined delimiter of CSV input is ','\u001b[0m\n",
      "\u001b[35m[2022-11-23:07:35:06:INFO] Sniff delimiter as ','\u001b[0m\n",
      "\u001b[35m[2022-11-23:07:35:06:INFO] Determined delimiter of CSV input is ','\u001b[0m\n",
      "\u001b[35m[2022-11-23:07:35:06:INFO] Sniff delimiter as ','\u001b[0m\n",
      "\u001b[35m[2022-11-23:07:35:06:INFO] Determined delimiter of CSV input is ','\u001b[0m\n",
      "\u001b[35m[2022-11-23:07:35:06:INFO] Sniff delimiter as ','\u001b[0m\n",
      "\u001b[35m[2022-11-23:07:35:06:INFO] Determined delimiter of CSV input is ','\u001b[0m\n",
      "\u001b[34m[2022-11-23:07:35:09:INFO] Sniff delimiter as ','\u001b[0m\n",
      "\u001b[34m[2022-11-23:07:35:09:INFO] Determined delimiter of CSV input is ','\u001b[0m\n",
      "\u001b[34m[2022-11-23:07:35:09:INFO] Sniff delimiter as ','\u001b[0m\n",
      "\u001b[34m[2022-11-23:07:35:09:INFO] Determined delimiter of CSV input is ','\u001b[0m\n",
      "\u001b[35m[2022-11-23:07:35:09:INFO] Sniff delimiter as ','\u001b[0m\n",
      "\u001b[35m[2022-11-23:07:35:09:INFO] Determined delimiter of CSV input is ','\u001b[0m\n",
      "\u001b[35m[2022-11-23:07:35:09:INFO] Sniff delimiter as ','\u001b[0m\n",
      "\u001b[35m[2022-11-23:07:35:09:INFO] Determined delimiter of CSV input is ','\u001b[0m\n",
      "\u001b[34m[2022-11-23:07:35:09:INFO] Sniff delimiter as ','\u001b[0m\n",
      "\u001b[34m[2022-11-23:07:35:09:INFO] Determined delimiter of CSV input is ','\u001b[0m\n",
      "\u001b[34m[2022-11-23:07:35:09:INFO] Sniff delimiter as ','\u001b[0m\n",
      "\u001b[34m[2022-11-23:07:35:09:INFO] Determined delimiter of CSV input is ','\u001b[0m\n",
      "\u001b[35m[2022-11-23:07:35:09:INFO] Sniff delimiter as ','\u001b[0m\n",
      "\u001b[35m[2022-11-23:07:35:09:INFO] Determined delimiter of CSV input is ','\u001b[0m\n",
      "\u001b[35m[2022-11-23:07:35:09:INFO] Sniff delimiter as ','\u001b[0m\n",
      "\u001b[35m[2022-11-23:07:35:09:INFO] Determined delimiter of CSV input is ','\u001b[0m\n",
      "\u001b[34m[2022-11-23:07:35:12:INFO] Sniff delimiter as ','\u001b[0m\n",
      "\u001b[35m[2022-11-23:07:35:12:INFO] Sniff delimiter as ','\u001b[0m\n",
      "\u001b[34m[2022-11-23:07:35:12:INFO] Determined delimiter of CSV input is ','\u001b[0m\n",
      "\u001b[34m[2022-11-23:07:35:12:INFO] Sniff delimiter as ','\u001b[0m\n",
      "\u001b[34m[2022-11-23:07:35:12:INFO] Determined delimiter of CSV input is ','\u001b[0m\n",
      "\u001b[34m[2022-11-23:07:35:13:INFO] Sniff delimiter as ','\u001b[0m\n",
      "\u001b[34m[2022-11-23:07:35:13:INFO] Determined delimiter of CSV input is ','\u001b[0m\n",
      "\u001b[35m[2022-11-23:07:35:12:INFO] Determined delimiter of CSV input is ','\u001b[0m\n",
      "\u001b[35m[2022-11-23:07:35:12:INFO] Sniff delimiter as ','\u001b[0m\n",
      "\u001b[35m[2022-11-23:07:35:12:INFO] Determined delimiter of CSV input is ','\u001b[0m\n",
      "\u001b[35m[2022-11-23:07:35:13:INFO] Sniff delimiter as ','\u001b[0m\n",
      "\u001b[35m[2022-11-23:07:35:13:INFO] Determined delimiter of CSV input is ','\u001b[0m\n",
      "\u001b[34m[2022-11-23:07:35:13:INFO] Sniff delimiter as ','\u001b[0m\n",
      "\u001b[34m[2022-11-23:07:35:13:INFO] Determined delimiter of CSV input is ','\u001b[0m\n",
      "\u001b[35m[2022-11-23:07:35:13:INFO] Sniff delimiter as ','\u001b[0m\n",
      "\u001b[35m[2022-11-23:07:35:13:INFO] Determined delimiter of CSV input is ','\u001b[0m\n",
      "\u001b[34m[2022-11-23:07:35:16:INFO] Sniff delimiter as ','\u001b[0m\n",
      "\u001b[34m[2022-11-23:07:35:16:INFO] Determined delimiter of CSV input is ','\u001b[0m\n",
      "\u001b[34m[2022-11-23:07:35:16:INFO] Sniff delimiter as ','\u001b[0m\n",
      "\u001b[34m[2022-11-23:07:35:16:INFO] Determined delimiter of CSV input is ','\u001b[0m\n",
      "\u001b[34m[2022-11-23:07:35:16:INFO] Sniff delimiter as ','\u001b[0m\n",
      "\u001b[35m[2022-11-23:07:35:16:INFO] Sniff delimiter as ','\u001b[0m\n",
      "\u001b[35m[2022-11-23:07:35:16:INFO] Determined delimiter of CSV input is ','\u001b[0m\n",
      "\u001b[35m[2022-11-23:07:35:16:INFO] Sniff delimiter as ','\u001b[0m\n",
      "\u001b[35m[2022-11-23:07:35:16:INFO] Determined delimiter of CSV input is ','\u001b[0m\n",
      "\u001b[35m[2022-11-23:07:35:16:INFO] Sniff delimiter as ','\u001b[0m\n",
      "\u001b[34m[2022-11-23:07:35:16:INFO] Determined delimiter of CSV input is ','\u001b[0m\n",
      "\u001b[34m[2022-11-23:07:35:17:INFO] Sniff delimiter as ','\u001b[0m\n",
      "\u001b[34m[2022-11-23:07:35:17:INFO] Determined delimiter of CSV input is ','\u001b[0m\n",
      "\u001b[35m[2022-11-23:07:35:16:INFO] Determined delimiter of CSV input is ','\u001b[0m\n",
      "\u001b[35m[2022-11-23:07:35:17:INFO] Sniff delimiter as ','\u001b[0m\n",
      "\u001b[35m[2022-11-23:07:35:17:INFO] Determined delimiter of CSV input is ','\u001b[0m\n",
      "\u001b[34m[2022-11-23:07:35:20:INFO] Sniff delimiter as ','\u001b[0m\n",
      "\u001b[34m[2022-11-23:07:35:20:INFO] Determined delimiter of CSV input is ','\u001b[0m\n",
      "\u001b[34m[2022-11-23:07:35:20:INFO] Sniff delimiter as ','\u001b[0m\n",
      "\u001b[34m[2022-11-23:07:35:20:INFO] Determined delimiter of CSV input is ','\u001b[0m\n",
      "\u001b[34m[2022-11-23:07:35:20:INFO] Sniff delimiter as ','\u001b[0m\n",
      "\u001b[34m[2022-11-23:07:35:20:INFO] Determined delimiter of CSV input is ','\u001b[0m\n",
      "\u001b[35m[2022-11-23:07:35:20:INFO] Sniff delimiter as ','\u001b[0m\n",
      "\u001b[35m[2022-11-23:07:35:20:INFO] Determined delimiter of CSV input is ','\u001b[0m\n",
      "\u001b[35m[2022-11-23:07:35:20:INFO] Sniff delimiter as ','\u001b[0m\n",
      "\u001b[35m[2022-11-23:07:35:20:INFO] Determined delimiter of CSV input is ','\u001b[0m\n",
      "\u001b[35m[2022-11-23:07:35:20:INFO] Sniff delimiter as ','\u001b[0m\n",
      "\u001b[35m[2022-11-23:07:35:20:INFO] Determined delimiter of CSV input is ','\u001b[0m\n"
     ]
    }
   ],
   "source": [
    "xgb_transformer.wait()"
   ]
  },
  {
   "cell_type": "markdown",
   "metadata": {},
   "source": [
    "Now the transform job has executed and the result, the estimated sentiment of each review, has been saved on S3. Since we would rather work on this file locally we can perform a bit of notebook magic to copy the file to the `data_dir`."
   ]
  },
  {
   "cell_type": "code",
   "execution_count": 28,
   "metadata": {},
   "outputs": [
    {
     "name": "stdout",
     "output_type": "stream",
     "text": [
      "download: s3://sagemaker-us-east-1-077073585279/xgboost-2022-11-23-07-29-08-847/test.csv.out to ../data/sentiment_web_app/test.csv.out\n"
     ]
    }
   ],
   "source": [
    "!aws s3 cp --recursive $xgb_transformer.output_path $data_dir"
   ]
  },
  {
   "cell_type": "markdown",
   "metadata": {},
   "source": [
    "The last step is now to read in the output from our model, convert the output to something a little more usable, in this case we want the sentiment to be either `1` (positive) or `0` (negative), and then compare to the ground truth labels."
   ]
  },
  {
   "cell_type": "code",
   "execution_count": 29,
   "metadata": {},
   "outputs": [],
   "source": [
    "predictions = pd.read_csv(os.path.join(data_dir, 'test.csv.out'), header=None)\n",
    "predictions = [round(num) for num in predictions.squeeze().values]"
   ]
  },
  {
   "cell_type": "code",
   "execution_count": 30,
   "metadata": {},
   "outputs": [
    {
     "data": {
      "text/plain": [
       "0.86008"
      ]
     },
     "execution_count": 30,
     "metadata": {},
     "output_type": "execute_result"
    }
   ],
   "source": [
    "from sklearn.metrics import accuracy_score\n",
    "accuracy_score(test_y, predictions)"
   ]
  },
  {
   "cell_type": "markdown",
   "metadata": {},
   "source": [
    "## Step 6: Deploying the model\n",
    "\n",
    "Once we construct and fit our model, SageMaker stores the resulting model artifacts and we can use those to deploy an endpoint (inference code). To see this, look in the SageMaker console and you should see that a model has been created along with a link to the S3 location where the model artifacts have been stored.\n",
    "\n",
    "Deploying an endpoint is a lot like training the model with a few important differences. The first is that a deployed model doesn't change the model artifacts, so as you send it various testing instances the model won't change. Another difference is that since we aren't performing a fixed computation, as we were in the training step or while performing a batch transform, the compute instance that gets started stays running until we tell it to stop. This is important to note as if we forget and leave it running we will be charged the entire time.\n",
    "\n",
    "In other words **If you are no longer using a deployed endpoint, shut it down!**"
   ]
  },
  {
   "cell_type": "code",
   "execution_count": 31,
   "metadata": {},
   "outputs": [
    {
     "name": "stdout",
     "output_type": "stream",
     "text": [
      "----------!"
     ]
    }
   ],
   "source": [
    "xgb_predictor = xgb.deploy(initial_instance_count = 1, instance_type = 'ml.m4.xlarge')"
   ]
  },
  {
   "cell_type": "markdown",
   "metadata": {},
   "source": [
    "### Testing the model (again)\n",
    "\n",
    "Now that we have deployed our endpoint, we can send the testing data to it and get back the inference results. We already did this earlier using the batch transform functionality of SageMaker, however, we will test our model again using the newly deployed endpoint so that we can make sure that it works properly and to get a bit of a feel for how the endpoint works.\n",
    "\n",
    "When using the created endpoint it is important to know that we are limited in the amount of information we can send in each call so we need to break the testing data up into chunks and then send each chunk. Also, we need to serialize our data before we send it to the endpoint to ensure that our data is transmitted properly. Fortunately, SageMaker can do the serialization part for us provided we tell it the format of our data."
   ]
  },
  {
   "cell_type": "code",
   "execution_count": 33,
   "metadata": {},
   "outputs": [],
   "source": [
    "from sagemaker.predictor import csv_serializer\n",
    "\n",
    "# We need to tell the endpoint what format the data we are sending is in so that SageMaker can perform the serialization.\n",
    "#xgb_predictor.content_type = 'text/csv' # variable not existing anymore\n",
    "xgb_predictor.serializer = csv_serializer"
   ]
  },
  {
   "cell_type": "code",
   "execution_count": 34,
   "metadata": {},
   "outputs": [],
   "source": [
    "# We split the data into chunks and send each chunk seperately, accumulating the results.\n",
    "\n",
    "def predict(data, rows=512):\n",
    "    split_array = np.array_split(data, int(data.shape[0] / float(rows) + 1))\n",
    "    predictions = ''\n",
    "    for array in split_array:\n",
    "        predictions = ','.join([predictions, xgb_predictor.predict(array).decode('utf-8')])\n",
    "    \n",
    "    return np.fromstring(predictions[1:], sep=',')"
   ]
  },
  {
   "cell_type": "code",
   "execution_count": 35,
   "metadata": {},
   "outputs": [
    {
     "name": "stderr",
     "output_type": "stream",
     "text": [
      "The csv_serializer has been renamed in sagemaker>=2.\n",
      "See: https://sagemaker.readthedocs.io/en/stable/v2.html for details.\n",
      "The csv_serializer has been renamed in sagemaker>=2.\n",
      "See: https://sagemaker.readthedocs.io/en/stable/v2.html for details.\n",
      "The csv_serializer has been renamed in sagemaker>=2.\n",
      "See: https://sagemaker.readthedocs.io/en/stable/v2.html for details.\n",
      "The csv_serializer has been renamed in sagemaker>=2.\n",
      "See: https://sagemaker.readthedocs.io/en/stable/v2.html for details.\n",
      "The csv_serializer has been renamed in sagemaker>=2.\n",
      "See: https://sagemaker.readthedocs.io/en/stable/v2.html for details.\n",
      "The csv_serializer has been renamed in sagemaker>=2.\n",
      "See: https://sagemaker.readthedocs.io/en/stable/v2.html for details.\n",
      "The csv_serializer has been renamed in sagemaker>=2.\n",
      "See: https://sagemaker.readthedocs.io/en/stable/v2.html for details.\n",
      "The csv_serializer has been renamed in sagemaker>=2.\n",
      "See: https://sagemaker.readthedocs.io/en/stable/v2.html for details.\n",
      "The csv_serializer has been renamed in sagemaker>=2.\n",
      "See: https://sagemaker.readthedocs.io/en/stable/v2.html for details.\n",
      "The csv_serializer has been renamed in sagemaker>=2.\n",
      "See: https://sagemaker.readthedocs.io/en/stable/v2.html for details.\n",
      "The csv_serializer has been renamed in sagemaker>=2.\n",
      "See: https://sagemaker.readthedocs.io/en/stable/v2.html for details.\n",
      "The csv_serializer has been renamed in sagemaker>=2.\n",
      "See: https://sagemaker.readthedocs.io/en/stable/v2.html for details.\n",
      "The csv_serializer has been renamed in sagemaker>=2.\n",
      "See: https://sagemaker.readthedocs.io/en/stable/v2.html for details.\n",
      "The csv_serializer has been renamed in sagemaker>=2.\n",
      "See: https://sagemaker.readthedocs.io/en/stable/v2.html for details.\n",
      "The csv_serializer has been renamed in sagemaker>=2.\n",
      "See: https://sagemaker.readthedocs.io/en/stable/v2.html for details.\n",
      "The csv_serializer has been renamed in sagemaker>=2.\n",
      "See: https://sagemaker.readthedocs.io/en/stable/v2.html for details.\n",
      "The csv_serializer has been renamed in sagemaker>=2.\n",
      "See: https://sagemaker.readthedocs.io/en/stable/v2.html for details.\n",
      "The csv_serializer has been renamed in sagemaker>=2.\n",
      "See: https://sagemaker.readthedocs.io/en/stable/v2.html for details.\n",
      "The csv_serializer has been renamed in sagemaker>=2.\n",
      "See: https://sagemaker.readthedocs.io/en/stable/v2.html for details.\n",
      "The csv_serializer has been renamed in sagemaker>=2.\n",
      "See: https://sagemaker.readthedocs.io/en/stable/v2.html for details.\n",
      "The csv_serializer has been renamed in sagemaker>=2.\n",
      "See: https://sagemaker.readthedocs.io/en/stable/v2.html for details.\n",
      "The csv_serializer has been renamed in sagemaker>=2.\n",
      "See: https://sagemaker.readthedocs.io/en/stable/v2.html for details.\n",
      "The csv_serializer has been renamed in sagemaker>=2.\n",
      "See: https://sagemaker.readthedocs.io/en/stable/v2.html for details.\n",
      "The csv_serializer has been renamed in sagemaker>=2.\n",
      "See: https://sagemaker.readthedocs.io/en/stable/v2.html for details.\n",
      "The csv_serializer has been renamed in sagemaker>=2.\n",
      "See: https://sagemaker.readthedocs.io/en/stable/v2.html for details.\n",
      "The csv_serializer has been renamed in sagemaker>=2.\n",
      "See: https://sagemaker.readthedocs.io/en/stable/v2.html for details.\n",
      "The csv_serializer has been renamed in sagemaker>=2.\n",
      "See: https://sagemaker.readthedocs.io/en/stable/v2.html for details.\n",
      "The csv_serializer has been renamed in sagemaker>=2.\n",
      "See: https://sagemaker.readthedocs.io/en/stable/v2.html for details.\n",
      "The csv_serializer has been renamed in sagemaker>=2.\n",
      "See: https://sagemaker.readthedocs.io/en/stable/v2.html for details.\n",
      "The csv_serializer has been renamed in sagemaker>=2.\n",
      "See: https://sagemaker.readthedocs.io/en/stable/v2.html for details.\n",
      "The csv_serializer has been renamed in sagemaker>=2.\n",
      "See: https://sagemaker.readthedocs.io/en/stable/v2.html for details.\n",
      "The csv_serializer has been renamed in sagemaker>=2.\n",
      "See: https://sagemaker.readthedocs.io/en/stable/v2.html for details.\n",
      "The csv_serializer has been renamed in sagemaker>=2.\n",
      "See: https://sagemaker.readthedocs.io/en/stable/v2.html for details.\n",
      "The csv_serializer has been renamed in sagemaker>=2.\n",
      "See: https://sagemaker.readthedocs.io/en/stable/v2.html for details.\n",
      "The csv_serializer has been renamed in sagemaker>=2.\n",
      "See: https://sagemaker.readthedocs.io/en/stable/v2.html for details.\n",
      "The csv_serializer has been renamed in sagemaker>=2.\n",
      "See: https://sagemaker.readthedocs.io/en/stable/v2.html for details.\n",
      "The csv_serializer has been renamed in sagemaker>=2.\n",
      "See: https://sagemaker.readthedocs.io/en/stable/v2.html for details.\n",
      "The csv_serializer has been renamed in sagemaker>=2.\n",
      "See: https://sagemaker.readthedocs.io/en/stable/v2.html for details.\n",
      "The csv_serializer has been renamed in sagemaker>=2.\n",
      "See: https://sagemaker.readthedocs.io/en/stable/v2.html for details.\n",
      "The csv_serializer has been renamed in sagemaker>=2.\n",
      "See: https://sagemaker.readthedocs.io/en/stable/v2.html for details.\n",
      "The csv_serializer has been renamed in sagemaker>=2.\n",
      "See: https://sagemaker.readthedocs.io/en/stable/v2.html for details.\n",
      "The csv_serializer has been renamed in sagemaker>=2.\n",
      "See: https://sagemaker.readthedocs.io/en/stable/v2.html for details.\n",
      "The csv_serializer has been renamed in sagemaker>=2.\n",
      "See: https://sagemaker.readthedocs.io/en/stable/v2.html for details.\n",
      "The csv_serializer has been renamed in sagemaker>=2.\n",
      "See: https://sagemaker.readthedocs.io/en/stable/v2.html for details.\n",
      "The csv_serializer has been renamed in sagemaker>=2.\n",
      "See: https://sagemaker.readthedocs.io/en/stable/v2.html for details.\n",
      "The csv_serializer has been renamed in sagemaker>=2.\n",
      "See: https://sagemaker.readthedocs.io/en/stable/v2.html for details.\n",
      "The csv_serializer has been renamed in sagemaker>=2.\n",
      "See: https://sagemaker.readthedocs.io/en/stable/v2.html for details.\n",
      "The csv_serializer has been renamed in sagemaker>=2.\n",
      "See: https://sagemaker.readthedocs.io/en/stable/v2.html for details.\n",
      "The csv_serializer has been renamed in sagemaker>=2.\n",
      "See: https://sagemaker.readthedocs.io/en/stable/v2.html for details.\n"
     ]
    }
   ],
   "source": [
    "test_X = pd.read_csv(os.path.join(data_dir, 'test.csv'), header=None).values\n",
    "\n",
    "predictions = predict(test_X)\n",
    "predictions = [round(num) for num in predictions]"
   ]
  },
  {
   "cell_type": "markdown",
   "metadata": {},
   "source": [
    "Lastly, we check to see what the accuracy of our model is."
   ]
  },
  {
   "cell_type": "code",
   "execution_count": 36,
   "metadata": {},
   "outputs": [
    {
     "data": {
      "text/plain": [
       "0.86008"
      ]
     },
     "execution_count": 36,
     "metadata": {},
     "output_type": "execute_result"
    }
   ],
   "source": [
    "from sklearn.metrics import accuracy_score\n",
    "accuracy_score(test_y, predictions)"
   ]
  },
  {
   "cell_type": "markdown",
   "metadata": {},
   "source": [
    "And the results here should agree with the model testing that we did earlier using the batch transform job.\n",
    "\n",
    "### Cleaning up\n",
    "\n",
    "Now that we've determined that deploying our model works as expected, we are going to shut it down. Remember that the longer the endpoint is left running, the greater the cost and since we have a bit more work to do before we are able to use our endpoint with our simple web app, we should shut everything down."
   ]
  },
  {
   "cell_type": "code",
   "execution_count": 37,
   "metadata": {},
   "outputs": [],
   "source": [
    "xgb_predictor.delete_endpoint()"
   ]
  },
  {
   "cell_type": "markdown",
   "metadata": {},
   "source": [
    "## Step 7: Putting our model to work\n",
    "\n",
    "As we've mentioned a few times now, our goal is to have our model deployed and then access it using a very simple web app. The intent is for this web app to take some user submitted data (a review), send it off to our endpoint (the model) and then display the result.\n",
    "\n",
    "However, there is a small catch. Currently the only way we can access the endpoint to send it data is using the SageMaker API. We can, if we wish, expose the actual URL that our model's endpoint is receiving data from, however, if we just send it data ourselves we will not get anything in return. This is because the endpoint created by SageMaker requires the entity accessing it have the correct permissions. So, we would need to somehow authenticate our web app with AWS.\n",
    "\n",
    "Having a website that authenticates to AWS seems a bit beyond the scope of this lesson so we will opt for an alternative approach. Namely, we will create a new endpoint which does not require authentication and which acts as a proxy for the SageMaker endpoint.\n",
    "\n",
    "As an additional constraint, we will try to avoid doing any data processing in the web app itself. Remember that when we constructed and tested our model we started with a movie review, then we simplified it by removing any html formatting and punctuation, then we constructed a bag of words embedding and the resulting vector is what we sent to our model. All of this needs to be done to our user input as well.\n",
    "\n",
    "Fortunately we can do all of this data processing in the backend, using Amazon's Lambda service.\n",
    "\n",
    "<img src=\"Web App Diagram.svg\">\n",
    "\n",
    "The diagram above gives an overview of how the various services will work together. On the far right is the model which we trained above and which will be deployed using SageMaker. On the far left is our web app that collects a user's movie review, sends it off and expects a positive or negative sentiment in return.\n",
    "\n",
    "In the middle is where some of the magic happens. We will construct a Lambda function, which you can think of as a straightforward Python function that can be executed whenever a specified event occurs. This Python function will do the data processing we need to perform on a user submitted review. In addition, we will give this function permission to send and recieve data from a SageMaker endpoint.\n",
    "\n",
    "Lastly, the method we will use to execute the Lambda function is a new endpoint that we will create using API Gateway. This endpoint will be a url that listens for data to be sent to it. Once it gets some data it will pass that data on to the Lambda function and then return whatever the Lambda function returns. Essentially it will act as an interface that lets our web app communicate with the Lambda function.\n",
    "\n",
    "### Processing a single review\n",
    "\n",
    "For now, suppose we are given a movie review by our user in the form of a string, like so:"
   ]
  },
  {
   "cell_type": "code",
   "execution_count": 38,
   "metadata": {},
   "outputs": [],
   "source": [
    "## Proccessing a single review\n",
    "\n",
    "# Plain text\n",
    "test_review = \"Nothing but a disgusting materialistic pageant of glistening abed remote control greed zombies, totally devoid of any heart or heat. A romantic comedy that has zero romantic chemestry and zero laughs!\""
   ]
  },
  {
   "cell_type": "markdown",
   "metadata": {},
   "source": [
    "How do we go from this string to the bag of words feature vector that is expected by our model?\n",
    "\n",
    "If we recall at the beginning of this notebook, the first step is to remove any unnecessary characters using the `review_to_words` method. Remember that we intentionally did this in a very simplistic way. This is because we are going to have to copy this method to our (eventual) Lambda function (we will go into more detail later) and this means it needs to be rather simplistic."
   ]
  },
  {
   "cell_type": "code",
   "execution_count": 39,
   "metadata": {},
   "outputs": [
    {
     "name": "stdout",
     "output_type": "stream",
     "text": [
      "nothing but a disgusting materialistic pageant of glistening abed remote control greed zombies totally devoid of any heart or heat a romantic comedy that has zero romantic chemestry and zero laughs\n"
     ]
    }
   ],
   "source": [
    "# We use the function we created to clean up: punctuation, HTML\n",
    "test_words = review_to_words(test_review)\n",
    "print(test_words)"
   ]
  },
  {
   "cell_type": "markdown",
   "metadata": {},
   "source": [
    "Next, we need to construct a bag of words embedding of the `test_words` string. To do this, remember that a bag of words embedding uses a `vocabulary` consisting of the most frequently appearing words in a set of documents. Then, for each word in the vocabulary we record the number of times that word appears in `test_words`. We constructed the `vocabulary` earlier using the training set for our problem so encoding `test_words` is relatively straightforward."
   ]
  },
  {
   "cell_type": "code",
   "execution_count": 40,
   "metadata": {},
   "outputs": [],
   "source": [
    "# We use the vocabulary to create a BoW\n",
    "# We could use the vectorizer.transform(), too?\n",
    "def bow_encoding(words, vocabulary):\n",
    "    bow = [0] * len(vocabulary) # Start by setting the count for each word in the vocabulary to zero.\n",
    "    for word in words.split():  # For each word in the string\n",
    "        if word in vocabulary:  # If the word is one that occurs in the vocabulary, increase its count.\n",
    "            bow[vocabulary[word]] += 1\n",
    "    return bow"
   ]
  },
  {
   "cell_type": "code",
   "execution_count": 41,
   "metadata": {},
   "outputs": [
    {
     "name": "stdout",
     "output_type": "stream",
     "text": [
      "[0, 0, 0, 0, 0, 0, 0, 0, 0, 0, 0, 0, 0, 0, 0, 0, 0, 0, 0, 0, 0, 0, 0, 0, 0, 0, 0, 0, 0, 0, 0, 0, 0, 0, 0, 0, 0, 0, 0, 0, 0, 0, 0, 0, 0, 0, 0, 0, 0, 0, 0, 0, 0, 0, 0, 0, 0, 0, 0, 0, 0, 0, 0, 0, 0, 0, 0, 0, 0, 0, 0, 0, 0, 0, 0, 0, 0, 0, 0, 0, 0, 0, 0, 0, 0, 0, 0, 0, 0, 0, 0, 0, 0, 0, 0, 0, 0, 0, 0, 0, 0, 0, 0, 0, 0, 0, 0, 0, 0, 0, 0, 0, 0, 0, 0, 0, 0, 0, 0, 0, 0, 0, 0, 0, 0, 0, 0, 0, 0, 0, 0, 0, 0, 0, 0, 0, 0, 0, 0, 0, 0, 0, 0, 0, 0, 0, 0, 0, 0, 0, 0, 0, 0, 0, 0, 0, 0, 0, 0, 0, 0, 0, 0, 0, 0, 0, 0, 0, 0, 0, 0, 0, 0, 0, 0, 0, 0, 0, 0, 0, 0, 0, 0, 0, 0, 0, 0, 0, 0, 0, 0, 0, 0, 0, 0, 0, 0, 0, 0, 0, 0, 0, 0, 0, 0, 0, 0, 0, 0, 0, 0, 0, 0, 0, 0, 0, 0, 0, 0, 0, 0, 0, 0, 0, 0, 0, 1, 0, 0, 0, 0, 0, 0, 0, 0, 0, 0, 0, 0, 0, 0, 0, 0, 0, 0, 0, 0, 0, 0, 0, 0, 0, 0, 0, 0, 0, 1, 0, 0, 0, 0, 0, 0, 0, 0, 0, 0, 0, 0, 0, 0, 0, 0, 0, 0, 0, 0, 0, 0, 0, 0, 0, 0, 0, 0, 0, 0, 0, 0, 0, 0, 0, 0, 0, 0, 0, 0, 0, 0, 0, 0, 0, 0, 0, 0, 0, 0, 0, 0, 0, 0, 0, 0, 0, 0, 0, 0, 0, 0, 0, 0, 0, 0, 0, 0, 0, 0, 0, 0, 0, 0, 0, 0, 0, 0, 0, 0, 0, 0, 0, 0, 0, 0, 0, 0, 0, 0, 0, 0, 0, 0, 0, 0, 0, 0, 0, 0, 0, 0, 0, 0, 0, 0, 0, 0, 0, 0, 0, 0, 0, 0, 0, 0, 0, 0, 0, 0, 0, 0, 0, 0, 0, 0, 0, 0, 0, 0, 0, 0, 0, 0, 0, 0, 0, 0, 0, 0, 0, 0, 0, 0, 0, 0, 0, 0, 0, 0, 0, 0, 0, 0, 0, 0, 0, 0, 0, 0, 0, 0, 0, 0, 0, 0, 0, 0, 0, 0, 0, 0, 0, 0, 0, 0, 0, 0, 0, 0, 0, 0, 0, 0, 0, 0, 0, 0, 0, 0, 0, 0, 0, 0, 0, 0, 0, 0, 0, 0, 0, 0, 0, 0, 0, 0, 0, 0, 0, 0, 0, 0, 0, 0, 0, 0, 0, 0, 0, 0, 0, 0, 0, 0, 0, 0, 0, 0, 0, 0, 0, 0, 0, 0, 0, 0, 0, 0, 0, 0, 0, 0, 0, 0, 0, 0, 0, 0, 0, 0, 0, 0, 0, 0, 0, 0, 0, 0, 0, 0, 0, 0, 0, 0, 0, 0, 0, 0, 0, 0, 0, 0, 0, 0, 0, 0, 0, 0, 0, 0, 0, 0, 0, 0, 0, 0, 0, 0, 0, 0, 0, 0, 0, 0, 0, 0, 0, 0, 0, 0, 0, 0, 0, 0, 0, 0, 0, 0, 0, 0, 0, 0, 0, 0, 0, 0, 0, 0, 0, 0, 0, 0, 0, 0, 0, 0, 0, 0, 0, 0, 0, 0, 0, 0, 0, 0, 0, 0, 0, 0, 0, 0, 0, 0, 0, 0, 0, 0, 0, 0, 0, 0, 0, 0, 0, 0, 0, 0, 0, 0, 0, 0, 0, 0, 0, 0, 0, 0, 0, 0, 0, 0, 0, 0, 0, 0, 0, 0, 0, 1, 0, 0, 0, 0, 0, 0, 0, 0, 0, 0, 0, 0, 0, 0, 0, 0, 0, 0, 0, 0, 0, 0, 0, 0, 0, 0, 0, 0, 0, 0, 0, 0, 0, 0, 0, 0, 0, 0, 0, 0, 0, 0, 0, 0, 0, 0, 0, 0, 0, 0, 0, 0, 0, 0, 0, 0, 0, 0, 0, 0, 0, 0, 0, 0, 0, 0, 0, 0, 0, 0, 0, 0, 0, 0, 0, 0, 0, 0, 0, 0, 0, 0, 0, 0, 0, 0, 0, 0, 0, 0, 0, 0, 0, 0, 0, 0, 0, 0, 0, 0, 0, 0, 0, 0, 0, 0, 0, 0, 0, 0, 0, 0, 0, 0, 0, 0, 0, 0, 0, 0, 0, 0, 0, 0, 0, 0, 0, 0, 0, 0, 0, 0, 0, 0, 0, 0, 0, 0, 0, 0, 0, 0, 0, 0, 0, 0, 0, 0, 0, 0, 0, 0, 0, 0, 0, 0, 0, 0, 0, 0, 0, 0, 0, 0, 0, 0, 0, 0, 0, 0, 0, 0, 0, 0, 0, 0, 0, 0, 0, 0, 0, 0, 0, 0, 0, 0, 0, 0, 0, 0, 0, 0, 0, 0, 0, 0, 0, 0, 0, 0, 0, 0, 0, 0, 0, 0, 0, 0, 0, 0, 0, 0, 0, 0, 0, 0, 0, 0, 0, 0, 0, 0, 0, 0, 0, 0, 0, 0, 0, 0, 0, 0, 0, 0, 0, 0, 0, 0, 0, 0, 0, 0, 0, 0, 0, 0, 0, 0, 0, 0, 0, 0, 0, 1, 0, 0, 0, 0, 0, 0, 0, 0, 0, 0, 0, 0, 0, 0, 0, 0, 0, 0, 0, 0, 0, 0, 0, 0, 0, 0, 0, 0, 0, 0, 0, 0, 0, 0, 0, 0, 0, 0, 0, 0, 0, 0, 0, 0, 0, 0, 0, 0, 0, 0, 0, 0, 0, 0, 0, 0, 0, 0, 0, 0, 0, 0, 0, 0, 0, 0, 0, 0, 0, 0, 0, 0, 0, 0, 0, 0, 0, 0, 0, 0, 0, 0, 0, 0, 0, 0, 1, 0, 0, 0, 0, 0, 0, 0, 0, 0, 0, 0, 0, 0, 0, 0, 0, 0, 0, 0, 0, 0, 0, 0, 0, 0, 0, 0, 0, 0, 0, 0, 0, 0, 0, 0, 0, 0, 0, 0, 0, 0, 0, 0, 0, 0, 0, 0, 0, 0, 0, 0, 0, 0, 0, 0, 0, 0, 0, 0, 0, 0, 0, 0, 0, 0, 0, 0, 0, 0, 0, 0, 0, 0, 0, 0, 0, 0, 0, 0, 0, 0, 0, 0, 0, 0, 0, 0, 0, 0, 0, 0, 0, 0, 0, 0, 0, 0, 0, 0, 0, 0, 0, 0, 0, 0, 0, 0, 0, 0, 0, 0, 0, 0, 0, 0, 0, 0, 0, 0, 0, 0, 0, 0, 0, 0, 0, 0, 0, 0, 0, 0, 0, 0, 0, 0, 0, 0, 0, 0, 0, 0, 0, 0, 0, 0, 0, 0, 0, 0, 0, 0, 0, 0, 0, 0, 0, 0, 0, 0, 0, 0, 0, 0, 0, 0, 0, 0, 0, 0, 0, 0, 0, 0, 0, 0, 0, 0, 0, 0, 0, 0, 0, 0, 0, 0, 0, 0, 0, 0, 0, 0, 0, 0, 0, 0, 0, 0, 0, 0, 0, 0, 0, 0, 0, 0, 0, 0, 0, 0, 0, 0, 0, 0, 0, 0, 0, 0, 0, 0, 0, 0, 0, 0, 0, 0, 0, 0, 0, 0, 0, 0, 0, 0, 0, 0, 0, 0, 0, 0, 0, 0, 0, 0, 0, 0, 0, 0, 0, 0, 0, 0, 0, 1, 0, 0, 0, 0, 0, 0, 0, 0, 0, 0, 0, 0, 0, 0, 0, 0, 0, 0, 0, 0, 0, 0, 0, 0, 0, 0, 0, 0, 0, 0, 0, 0, 0, 0, 0, 0, 0, 0, 0, 0, 0, 0, 0, 0, 0, 0, 0, 0, 0, 0, 0, 0, 0, 0, 0, 1, 0, 0, 0, 0, 0, 0, 0, 0, 0, 0, 0, 0, 0, 0, 0, 0, 0, 0, 0, 0, 0, 0, 0, 0, 0, 0, 0, 0, 0, 0, 0, 0, 0, 0, 0, 0, 0, 0, 0, 0, 0, 0, 0, 0, 0, 0, 0, 0, 0, 0, 0, 0, 0, 0, 0, 0, 0, 0, 0, 0, 0, 0, 0, 0, 0, 0, 0, 0, 0, 0, 0, 0, 0, 0, 0, 0, 0, 0, 0, 0, 0, 0, 0, 0, 0, 0, 0, 0, 0, 0, 0, 0, 0, 0, 0, 0, 0, 0, 0, 0, 0, 0, 0, 0, 0, 0, 0, 0, 0, 0, 0, 0, 0, 0, 0, 0, 0, 0, 0, 0, 0, 0, 0, 0, 0, 0, 0, 0, 0, 0, 0, 0, 0, 0, 0, 0, 0, 0, 0, 0, 0, 0, 0, 0, 0, 0, 0, 0, 0, 0, 0, 0, 0, 0, 0, 0, 0, 0, 0, 0, 0, 0, 0, 0, 0, 0, 0, 0, 0, 0, 0, 0, 0, 0, 0, 0, 0, 0, 0, 0, 0, 0, 0, 0, 0, 0, 0, 0, 0, 0, 0, 0, 0, 0, 0, 0, 0, 0, 0, 0, 0, 0, 0, 0, 0, 0, 0, 0, 0, 0, 0, 0, 0, 0, 0, 0, 0, 0, 0, 0, 0, 0, 0, 0, 0, 0, 0, 0, 0, 0, 0, 0, 0, 0, 0, 0, 0, 0, 0, 0, 0, 0, 0, 0, 0, 0, 0, 0, 0, 0, 0, 0, 0, 0, 0, 0, 0, 0, 0, 0, 0, 0, 0, 0, 0, 0, 0, 0, 0, 0, 0, 0, 0, 0, 0, 0, 0, 0, 0, 0, 0, 0, 0, 0, 0, 0, 0, 0, 0, 0, 0, 0, 0, 0, 0, 0, 0, 0, 0, 0, 0, 0, 0, 0, 0, 0, 0, 0, 0, 0, 0, 0, 0, 0, 0, 0, 0, 0, 0, 0, 0, 0, 0, 0, 0, 0, 0, 0, 0, 0, 0, 0, 0, 0, 0, 0, 0, 0, 0, 0, 0, 0, 0, 0, 0, 0, 0, 0, 0, 0, 0, 0, 0, 0, 0, 0, 0, 0, 0, 0, 0, 0, 0, 0, 0, 0, 0, 0, 0, 0, 0, 0, 0, 0, 0, 0, 0, 0, 0, 0, 0, 0, 0, 0, 0, 0, 0, 0, 0, 0, 0, 0, 0, 0, 0, 0, 0, 0, 0, 0, 0, 0, 0, 0, 0, 0, 0, 0, 0, 0, 0, 0, 0, 0, 0, 0, 0, 0, 0, 0, 0, 0, 0, 0, 0, 0, 0, 0, 0, 0, 0, 0, 0, 0, 0, 0, 0, 0, 0, 0, 0, 0, 0, 0, 0, 0, 0, 0, 0, 0, 0, 0, 0, 0, 0, 0, 0, 0, 0, 0, 0, 0, 0, 0, 0, 0, 0, 0, 0, 0, 0, 0, 0, 0, 0, 0, 0, 0, 0, 0, 0, 0, 0, 0, 0, 0, 0, 0, 0, 0, 0, 0, 0, 0, 0, 0, 0, 0, 0, 0, 0, 0, 0, 0, 0, 0, 0, 0, 0, 0, 0, 0, 0, 0, 0, 0, 0, 0, 0, 0, 0, 0, 0, 0, 0, 0, 0, 0, 0, 0, 0, 0, 0, 0, 0, 0, 0, 0, 0, 0, 0, 0, 0, 0, 0, 0, 0, 0, 0, 0, 0, 0, 0, 0, 0, 0, 0, 0, 0, 0, 0, 0, 0, 0, 0, 0, 0, 0, 0, 0, 0, 0, 0, 0, 0, 0, 0, 0, 0, 0, 0, 0, 0, 0, 0, 0, 0, 0, 0, 0, 0, 0, 0, 0, 0, 0, 0, 0, 0, 0, 0, 0, 0, 0, 0, 0, 0, 0, 0, 0, 0, 0, 0, 0, 0, 0, 0, 0, 0, 0, 0, 0, 0, 0, 0, 0, 0, 0, 0, 0, 0, 0, 0, 0, 0, 0, 0, 0, 0, 0, 0, 0, 0, 0, 0, 0, 0, 0, 0, 0, 0, 0, 0, 0, 0, 0, 0, 0, 0, 0, 0, 0, 0, 0, 0, 0, 0, 0, 0, 0, 0, 0, 0, 0, 0, 0, 0, 0, 0, 0, 0, 1, 0, 0, 0, 0, 0, 0, 0, 0, 0, 0, 0, 0, 0, 0, 0, 0, 0, 0, 0, 0, 0, 0, 0, 0, 0, 0, 0, 0, 0, 0, 0, 0, 0, 0, 0, 0, 0, 0, 0, 0, 0, 0, 0, 0, 0, 0, 0, 0, 0, 0, 0, 0, 0, 0, 0, 0, 0, 0, 0, 0, 0, 0, 0, 0, 0, 0, 0, 0, 0, 0, 0, 0, 0, 0, 1, 0, 0, 0, 0, 0, 0, 0, 0, 0, 0, 0, 0, 0, 0, 0, 0, 0, 0, 0, 0, 1, 0, 0, 1, 0, 0, 0, 0, 0, 0, 0, 0, 0, 0, 0, 0, 0, 0, 0, 0, 0, 0, 0, 0, 0, 0, 0, 0, 0, 0, 0, 0, 0, 0, 0, 0, 0, 0, 0, 0, 0, 0, 0, 0, 0, 0, 0, 0, 0, 0, 0, 0, 0, 0, 0, 0, 0, 0, 0, 0, 0, 0, 0, 0, 0, 0, 0, 0, 0, 0, 0, 0, 0, 0, 0, 0, 0, 0, 0, 0, 0, 0, 0, 0, 0, 0, 0, 0, 0, 0, 0, 0, 0, 0, 0, 0, 0, 0, 0, 0, 0, 0, 0, 0, 0, 0, 0, 0, 0, 0, 0, 0, 0, 0, 0, 0, 0, 0, 0, 0, 0, 0, 0, 0, 0, 0, 0, 0, 0, 0, 0, 0, 0, 0, 0, 0, 0, 0, 0, 0, 0, 0, 0, 0, 0, 0, 0, 0, 0, 0, 0, 0, 0, 0, 0, 0, 0, 0, 0, 0, 0, 0, 0, 0, 0, 0, 0, 0, 0, 0, 0, 0, 0, 0, 0, 0, 0, 0, 0, 0, 0, 0, 0, 0, 0, 0, 0, 0, 0, 0, 0, 0, 0, 0, 0, 0, 0, 0, 0, 0, 0, 0, 0, 0, 0, 0, 0, 0, 0, 0, 0, 0, 0, 0, 0, 0, 0, 0, 0, 0, 0, 0, 0, 0, 0, 0, 0, 0, 0, 0, 0, 0, 0, 0, 0, 0, 0, 0, 0, 0, 0, 0, 0, 0, 0, 0, 0, 0, 0, 0, 0, 0, 0, 0, 0, 0, 0, 0, 0, 0, 0, 0, 0, 0, 0, 0, 0, 0, 0, 0, 0, 0, 0, 0, 0, 0, 0, 0, 0, 0, 0, 0, 0, 0, 0, 0, 0, 0, 0, 0, 0, 0, 0, 0, 0, 0, 0, 0, 0, 0, 0, 0, 0, 0, 0, 0, 0, 0, 0, 0, 0, 0, 0, 0, 0, 0, 0, 0, 0, 0, 0, 0, 0, 0, 0, 0, 0, 0, 0, 0, 0, 0, 0, 0, 0, 0, 0, 0, 0, 0, 0, 0, 0, 0, 0, 0, 0, 0, 0, 0, 0, 0, 0, 0, 0, 0, 0, 0, 0, 0, 0, 0, 0, 0, 0, 0, 0, 0, 0, 0, 0, 0, 0, 0, 0, 0, 0, 0, 0, 0, 0, 0, 0, 0, 0, 0, 0, 0, 0, 0, 0, 0, 0, 0, 0, 0, 0, 0, 0, 0, 0, 0, 0, 0, 0, 0, 0, 0, 0, 0, 0, 0, 0, 0, 0, 0, 0, 0, 0, 0, 0, 0, 0, 0, 0, 0, 0, 0, 0, 0, 0, 0, 0, 0, 0, 0, 0, 0, 0, 0, 0, 0, 0, 0, 0, 0, 0, 0, 0, 0, 0, 0, 0, 0, 0, 0, 0, 0, 0, 0, 0, 0, 0, 0, 0, 0, 0, 0, 0, 0, 1, 0, 0, 0, 0, 0, 0, 0, 0, 0, 0, 0, 0, 0, 0, 0, 0, 0, 0, 0, 0, 0, 0, 0, 0, 0, 0, 0, 0, 0, 0, 0, 0, 0, 0, 0, 0, 0, 0, 0, 0, 0, 0, 0, 0, 0, 0, 0, 0, 0, 0, 0, 0, 0, 0, 0, 0, 0, 0, 0, 0, 0, 0, 0, 0, 0, 0, 0, 0, 0, 0, 0, 0, 0, 0, 0, 0, 0, 0, 0, 0, 0, 0, 0, 0, 0, 0, 0, 0, 0, 0, 0, 0, 0, 0, 0, 0, 0, 0, 0, 0, 0, 0, 0, 0, 0, 0, 0, 0, 0, 0, 0, 0, 0, 0, 0, 0, 0, 0, 0, 0, 0, 0, 0, 0, 0, 0, 0, 0, 0, 0, 0, 0, 0, 0, 0, 0, 0, 0, 0, 0, 0, 0, 0, 0, 0, 0, 0, 0, 0, 0, 0, 0, 0, 0, 0, 0, 0, 0, 0, 0, 0, 0, 0, 0, 0, 0, 0, 0, 0, 0, 0, 0, 0, 0, 0, 0, 0, 0, 0, 0, 0, 0, 0, 0, 0, 0, 0, 0, 0, 0, 0, 0, 0, 0, 0, 0, 0, 0, 0, 0, 0, 0, 0, 0, 0, 0, 0, 0, 0, 0, 0, 0, 0, 0, 0, 0, 0, 0, 0, 0, 0, 0, 0, 0, 0, 0, 0, 0, 0, 0, 0, 0, 0, 0, 0, 0, 0, 0, 0, 0, 0, 0, 0, 0, 0, 0, 0, 0, 0, 0, 0, 0, 0, 0, 0, 0, 0, 0, 0, 0, 0, 0, 0, 0, 0, 0, 0, 0, 0, 0, 0, 0, 0, 0, 0, 0, 0, 0, 0, 0, 0, 0, 0, 0, 0, 0, 0, 0, 0, 0, 0, 0, 0, 0, 0, 0, 0, 0, 0, 0, 0, 0, 0, 0, 0, 0, 0, 0, 0, 0, 0, 0, 0, 0, 0, 0, 0, 0, 0, 0, 0, 0, 0, 0, 0, 0, 0, 0, 0, 0, 0, 0, 0, 0, 0, 0, 0, 0, 0, 0, 0, 0, 0, 0, 0, 0, 0, 0, 0, 0, 0, 0, 0, 0, 0, 0, 0, 0, 0, 0, 0, 0, 0, 0, 0, 0, 0, 0, 0, 0, 0, 0, 0, 0, 0, 0, 0, 0, 0, 0, 0, 0, 0, 0, 0, 0, 0, 0, 0, 0, 0, 0, 0, 0, 0, 0, 0, 0, 0, 0, 0, 0, 0, 0, 0, 0, 0, 0, 0, 0, 0, 0, 0, 0, 0, 0, 0, 0, 0, 0, 0, 0, 0, 0, 0, 0, 0, 0, 0, 0, 0, 0, 0, 0, 0, 0, 0, 0, 0, 0, 0, 0, 0, 0, 0, 0, 0, 0, 0, 0, 0, 0, 0, 0, 0, 0, 0, 0, 0, 0, 0, 0, 0, 0, 0, 0, 0, 0, 0, 0, 0, 0, 0, 0, 0, 0, 0, 0, 0, 0, 0, 0, 0, 0, 0, 0, 0, 0, 0, 0, 0, 0, 0, 0, 0, 0, 0, 0, 0, 0, 0, 0, 0, 0, 0, 0, 0, 0, 0, 0, 0, 0, 1, 0, 0, 0, 0, 0, 0, 0, 0, 0, 0, 0, 0, 0, 0, 0, 0, 0, 0, 0, 0, 0, 0, 0, 0, 0, 0, 0, 0, 0, 0, 0, 0, 0, 0, 0, 2, 0, 0, 0, 0, 0, 0, 0, 0, 0, 0, 0, 0, 0, 0, 0, 0, 0, 0, 0, 0, 0, 0, 0, 0, 0, 0, 0, 0, 0, 0, 0, 0, 0, 0, 0, 0, 0, 0, 0, 0, 1, 0, 0, 0, 0, 0, 0, 0, 0, 0, 0, 0, 0, 0, 0, 0, 0, 0, 0, 0, 0, 0, 0, 0, 0, 0, 0, 0, 0, 0, 0, 0, 0, 0, 0, 0, 0, 0, 0, 0, 0, 0, 0, 0, 0, 0, 0, 0, 0, 0, 0, 0, 0, 0, 0, 0, 0, 0, 0, 0, 0, 0, 0, 0, 0, 0, 0, 0, 0, 0, 0, 0, 0, 0, 0, 0, 0, 0, 0, 0, 0, 0, 0, 0, 0, 0, 0, 0, 0, 0, 0, 0, 0, 0, 0, 0, 0, 0, 0, 0, 0, 0, 0, 0, 0, 0, 0, 0, 0, 0, 0, 0, 0, 0, 0, 0, 0, 0, 0, 0, 0, 0, 0, 0, 0, 0, 0, 0, 0, 0, 0, 0, 0, 0, 0, 0, 0, 0, 0, 0, 0, 0, 0, 0, 0, 0, 0, 0, 0, 0, 0, 0, 0, 0, 0, 0, 0, 0, 0, 0, 0, 0, 0, 0, 0, 0, 0, 0, 0, 0, 0, 0, 0, 0, 0, 0, 0, 0, 0, 0, 0, 0, 0, 0, 0, 0, 0, 0, 0, 0, 0, 0, 0, 0, 0, 0, 0, 0, 0, 0, 0, 0, 0, 0, 0, 0, 0, 0, 0, 0, 0, 0, 0, 0, 0, 0, 0, 0, 0, 0, 0, 0, 0, 0, 0, 0, 0, 0, 0, 0, 0, 0, 0, 0, 0, 0, 0, 0, 0, 0, 0, 0, 0, 0, 0, 0, 0, 0, 0, 0, 0, 0, 0, 0, 0, 0, 0, 0, 0, 0, 0, 0, 0, 0, 0, 0, 0, 0, 0, 0, 0, 0, 0, 0, 0, 0, 0, 0, 0, 0, 0, 0, 0, 0, 0, 0, 0, 0, 0, 0, 0, 0, 0, 0, 0, 0, 0, 0, 0, 0, 0, 0, 0, 0, 0, 0, 0, 0, 0, 0, 0, 0, 0, 0, 0, 0, 0, 0, 0, 0, 0, 0, 0, 0, 0, 0, 0, 0, 0, 0, 0, 0, 0, 0, 0, 0, 0, 0, 0, 0, 0, 0, 0, 0, 0, 0, 0, 0, 0, 0, 0, 0, 0, 0, 0, 0, 0, 0, 0, 0, 0, 0, 0, 0, 0, 0, 0, 0, 0, 0, 0, 0, 0, 0, 0, 0, 0, 0, 0, 0, 0, 0, 0, 0, 0, 0, 0, 0, 0, 0, 0, 0, 0, 0, 0, 0, 0, 0, 0, 0, 0, 0, 0, 0, 0, 0, 0, 0, 0, 0, 0, 0, 0, 0, 0, 0, 0, 0, 0, 0, 0, 0, 0, 0, 0, 0, 0, 0, 0, 0, 0, 0, 0, 0, 0, 0, 0, 0, 0, 0, 0, 0, 0, 0, 0, 0, 0, 0, 0, 0, 0, 0, 0, 0, 0, 0, 0, 0, 0, 0, 0, 0, 0, 0, 0, 0, 0, 0, 0, 0, 0, 0, 0, 0, 0, 0, 0, 0, 0, 0, 0, 0, 0, 0, 0, 0, 0, 0, 0, 0, 0, 0, 0, 0, 0, 0, 0, 0, 1, 0, 0, 0, 0, 0, 0, 0, 0, 0, 0, 0, 0, 0, 0, 0, 0, 0, 0, 0, 0, 0, 0, 0, 0, 0, 0, 0, 0, 0, 0, 0, 0, 0, 0, 0, 0, 0, 0, 0, 0, 0, 0, 0, 0, 0, 0, 0, 0, 0, 0, 0, 0, 0, 0, 0, 0, 0, 0, 0, 0, 0, 0, 0, 0, 0, 0, 0, 0, 0, 0, 0, 0, 0, 0, 0, 0, 0, 0, 0, 0, 0, 0, 0, 0, 0, 0, 0, 0, 0, 0, 0, 0, 0, 0, 0, 0, 0, 0, 0, 0, 0, 0, 0, 0, 0, 0, 0, 0, 0, 0, 2, 0, 0, 0, 0, 0, 0, 0, 0, 0, 0, 0, 0, 0, 0, 0, 0, 0, 0, 0, 0, 0, 0, 0, 0, 0, 0, 0, 0, 0, 0, 0, 0, 0, 0, 0, 0, 0, 0, 0, 0, 0, 0, 0, 0, 0, 0, 0, 0, 0, 0, 0, 0, 0, 0, 0, 0, 0, 0, 0, 0, 0, 0, 0, 0, 0, 0, 0, 0, 0, 0, 0, 0, 0, 0, 0, 0, 0, 0, 0, 0, 0, 0, 0, 0, 0, 0, 0, 0, 0, 0, 0, 0, 0, 0, 0, 0, 0, 0, 0, 0, 0, 0, 0, 0, 0, 0, 0, 0, 0, 0, 0, 0, 0, 0, 0, 0, 0, 0, 0, 0, 0, 0, 0, 0, 0, 0, 0, 0, 0, 0, 0, 0, 0, 0, 0, 0, 0, 0, 0, 0, 0, 0, 0, 0, 0, 0, 0, 0, 0, 0, 0, 0, 0, 0, 0, 0, 0, 0, 0, 0, 0, 0, 0, 0, 0, 0, 0, 0, 0, 0, 0, 0, 0, 0, 0, 0, 0, 0, 0, 0, 0, 0, 0, 0, 0, 0, 0, 0, 0, 0, 0, 0, 0, 0, 0, 0, 0, 0, 0, 0, 0, 0, 0, 0, 0, 0, 0, 0, 0, 0, 0, 0, 0, 0, 0, 0, 0, 0, 0, 0, 0, 0, 0, 0, 0, 0, 0, 0, 0, 0, 0, 0, 0, 0, 0, 0, 0, 0, 0, 0, 0, 0, 0, 0, 0, 0, 0, 0, 0, 0, 0, 0, 0, 0, 0, 0, 0, 0, 0, 0, 0, 0, 0, 0, 0, 0, 0, 0, 0, 0, 0, 0, 0, 0, 0, 0, 0, 0, 0, 0, 0, 0, 0, 0, 0, 0, 0, 0, 0, 0, 0, 0, 0, 0, 0, 0, 0, 0, 0, 0, 0, 0, 0, 0, 0, 0, 0, 0, 0, 0, 0, 0, 0, 0, 0, 0, 0, 0, 0, 0, 0, 0, 0, 0, 0, 0, 0, 0, 0, 0, 0, 0, 0, 0, 0, 0, 0, 0, 0, 0, 0, 0, 0, 0, 0, 0, 0, 0, 0, 0, 0, 0, 0, 0, 0, 0, 0, 0, 0, 0, 0, 0, 0, 0, 0, 0, 0, 0, 0, 0, 0, 0, 0, 0, 0, 0, 0, 0, 0, 0, 0, 0, 0, 0, 0, 0, 0, 0, 0, 0, 0, 0, 0, 0, 0, 0, 0, 0, 0, 0, 0, 0, 0, 0, 0, 0, 0, 0, 0, 0, 0, 0, 0, 0, 0, 0, 0, 0, 0, 0, 0, 0, 0, 0, 0, 0, 0, 0, 0, 0, 0, 0, 0, 0, 0, 0, 0, 0, 0, 0, 0, 0, 0, 0, 0, 0, 0, 0, 0, 0, 0, 0, 0, 0, 0, 0, 0, 0, 0, 0, 0, 0, 0, 0, 0, 0, 0, 0, 0, 0, 0, 0, 0, 0, 0, 0, 0, 0, 0, 0, 0, 0, 0, 0, 0, 0, 0, 0, 0, 0, 0, 0, 0, 0, 0, 0, 0, 0, 0, 0, 0, 0, 0, 0, 0, 0, 0, 0, 0, 0, 0, 0, 0, 0, 0, 0, 0, 0, 0, 0, 0, 0, 0, 0, 0, 0, 0, 0, 0, 0, 0, 0, 0, 0, 0, 0, 0, 0, 0, 0, 0, 0, 0, 0, 0, 0, 0, 0, 0, 0, 0, 0, 0, 0, 0, 0, 0, 0, 0, 0, 0, 0, 0, 0, 0, 0, 0, 0, 0, 0, 0, 0, 0, 0, 0, 0, 0, 0, 0, 0, 0, 0, 0, 0, 0, 0, 0, 0, 0, 0, 0, 0, 0, 0, 0, 0, 0, 0, 0, 0, 0, 0, 0, 0, 0, 0, 0, 0, 0, 0, 0, 0, 0, 0, 0, 0, 0, 0, 0, 0, 0, 0, 0, 0, 0, 0, 0, 0, 0, 0, 0, 0, 0, 0, 0, 0, 0, 0, 0, 0, 0, 0, 0, 0, 0, 0, 0, 0, 0, 0, 0, 0, 0, 0, 0, 0, 0, 0, 0, 0, 0, 0, 0, 0, 0, 0, 0, 0, 0, 0, 0, 0, 0, 0, 0, 0, 0, 0, 0, 0, 0, 0, 0, 0, 0, 0, 0, 0, 0, 0, 1, 0, 0, 0, 0, 0, 0, 0, 0, 0, 0, 0, 0, 0, 0, 0, 0, 0, 0, 0, 0, 0, 0, 0, 0, 0, 0, 0, 0, 0, 0, 0, 0, 0, 0, 0, 0, 0, 0, 0, 0, 0, 0, 0, 0, 0, 0, 0, 0, 0, 0, 0, 0, 0, 0, 0, 0, 0, 0, 0, 0, 0, 0, 0, 0, 0, 0, 0, 0, 0, 0, 0, 0, 0, 0, 0, 0, 0, 0, 0, 0, 0, 0, 0, 0, 0, 0, 0, 0, 0, 0, 0, 0, 0, 0, 0, 0, 0, 0, 0, 0, 0, 0, 0, 0, 0, 0, 0, 1, 0, 0, 0, 0, 0, 0, 0, 0, 0, 0, 0, 0, 0, 0, 0, 0, 0, 0, 0, 0, 0, 0, 0, 0, 0, 0, 0, 0, 0, 0, 0, 0, 0, 0, 0, 0, 0, 0, 0, 0, 0, 0, 0, 0, 0, 0, 0, 0, 0, 0, 0, 0, 0, 0, 0, 0, 0, 0, 0, 0, 0, 0, 0, 0, 0, 0, 0, 0, 0, 0, 0, 0, 0, 0, 0, 0, 0, 0, 0, 0, 0, 0, 0, 0, 0, 0, 0, 0, 0, 0, 0, 0, 0, 0, 0, 0, 0, 0, 0, 0, 0, 0, 0, 0, 0, 0, 0, 0, 0, 0, 0, 0, 0, 0, 0, 0, 0, 0, 0, 0, 0, 0, 0, 0, 0, 0, 0, 0, 0, 0, 0, 0, 0, 0, 0, 0, 0, 0, 0, 0, 0, 0, 0, 0, 0, 0, 0, 0, 0, 0, 0, 0, 0, 0, 0, 0, 0, 0, 0, 0, 0, 0, 0, 0, 0, 0, 0, 0, 0, 0, 0, 0, 0, 0, 0, 0, 0, 0, 0, 0, 0, 0, 0, 0, 0, 0, 0, 0, 0, 0, 0, 0, 0, 0, 0, 0, 0, 0, 0, 0, 0, 0, 0, 0, 0, 0, 0, 0, 0, 0, 0, 0, 0, 0, 0, 0, 0, 0, 0, 0, 0, 0, 0, 0, 0, 0, 0, 0, 0, 0, 0, 0, 0, 0, 0, 0, 0, 0, 0, 0, 0, 0, 0, 0, 0, 0, 0, 0, 0, 0, 0, 0, 0, 0, 0, 0, 0, 0, 0, 0, 0, 0, 0, 0, 0, 0, 0, 0, 0, 0, 0, 0, 0, 0, 0, 0, 0, 0, 0, 0, 0, 0, 0, 0, 0, 0, 0, 0, 0, 0, 0, 0, 0, 0, 0, 0, 0, 0, 0, 0, 0, 0, 0, 0, 0, 0, 0, 0, 0, 0, 0, 0, 0, 0, 0, 0, 0, 0, 0, 0, 0, 0, 0, 0, 0, 0, 0, 0, 0, 0, 0, 0, 0, 0, 0, 0, 0, 0, 0, 0, 0, 0, 0, 0, 0, 0, 0, 0, 0, 0, 0, 0, 0, 0, 0, 0, 0, 0, 0, 0, 0, 0, 0, 0, 0, 0, 0, 0, 0, 0, 0, 0, 0, 0, 0, 0, 0, 0, 0, 0, 0, 0, 0, 0, 0, 0, 0, 0, 0, 0, 0, 0, 0, 0, 0, 0, 0, 0, 0, 0, 0, 0, 0, 0, 0, 0, 0, 0, 0, 0, 0, 0, 0, 0, 0, 0, 0, 0, 0, 0, 0, 0, 0, 0, 0, 0, 0, 0, 0, 0, 0, 0, 0, 0, 0, 0, 0, 0, 0, 0, 0, 0, 0, 0, 0, 0, 0, 0, 0, 0, 0, 0, 0, 0, 0, 0, 0, 0, 0, 0, 0, 0, 0, 2, 0, 1, 0]\n"
     ]
    }
   ],
   "source": [
    "test_bow = bow_encoding(test_words, vocabulary)\n",
    "print(test_bow)"
   ]
  },
  {
   "cell_type": "code",
   "execution_count": 42,
   "metadata": {},
   "outputs": [
    {
     "data": {
      "text/plain": [
       "5000"
      ]
     },
     "execution_count": 42,
     "metadata": {},
     "output_type": "execute_result"
    }
   ],
   "source": [
    "len(test_bow)"
   ]
  },
  {
   "cell_type": "markdown",
   "metadata": {},
   "source": [
    "So now we know how to construct a bag of words encoding of a user provided review, how to we send it to our endpoint? First, we need to start the endpoint back up."
   ]
  },
  {
   "cell_type": "code",
   "execution_count": 57,
   "metadata": {},
   "outputs": [
    {
     "name": "stdout",
     "output_type": "stream",
     "text": [
      "--------!"
     ]
    }
   ],
   "source": [
    "xgb_predictor = xgb.deploy(initial_instance_count = 1, instance_type = 'ml.m4.xlarge')"
   ]
  },
  {
   "cell_type": "code",
   "execution_count": 58,
   "metadata": {},
   "outputs": [
    {
     "name": "stderr",
     "output_type": "stream",
     "text": [
      "The endpoint attribute has been renamed in sagemaker>=2.\n",
      "See: https://sagemaker.readthedocs.io/en/stable/v2.html for details.\n"
     ]
    },
    {
     "data": {
      "text/plain": [
       "'xgboost-2022-11-23-12-04-57-086'"
      ]
     },
     "execution_count": 58,
     "metadata": {},
     "output_type": "execute_result"
    }
   ],
   "source": [
    "# The (unique) name of the endpoint within SageMaker\n",
    "xgb_predictor.endpoint"
   ]
  },
  {
   "cell_type": "markdown",
   "metadata": {},
   "source": [
    "At this point we could just do the same thing that we did earlier when we tested our deployed model and send `test_bow` to our endpoint using the `xgb_predictor` object. However, when we eventually construct our Lambda function we won't have access to this object, so how do we call a SageMaker endpoint?\n",
    "\n",
    "It turns out that Python functions that are used in Lambda have access to another Amazon library called `boto3`. This library provides an API for working with Amazon services, including SageMaker. To start with, we need to get a handle to the SageMaker runtime."
   ]
  },
  {
   "cell_type": "code",
   "execution_count": 45,
   "metadata": {},
   "outputs": [],
   "source": [
    "import boto3\n",
    "# We open a connection to the SageMaker runtime session\n",
    "runtime = boto3.Session().client('sagemaker-runtime')"
   ]
  },
  {
   "cell_type": "markdown",
   "metadata": {},
   "source": [
    "And now that we have access to the SageMaker runtime, we can ask it to make use of (invoke) an endpoint that has already been created. However, we need to provide SageMaker with the name of the deployed endpoint. To find this out we can print it out using the `xgb_predictor` object."
   ]
  },
  {
   "cell_type": "code",
   "execution_count": 46,
   "metadata": {},
   "outputs": [
    {
     "name": "stderr",
     "output_type": "stream",
     "text": [
      "The endpoint attribute has been renamed in sagemaker>=2.\n",
      "See: https://sagemaker.readthedocs.io/en/stable/v2.html for details.\n"
     ]
    },
    {
     "data": {
      "text/plain": [
       "'xgboost-2022-11-23-09-27-15-131'"
      ]
     },
     "execution_count": 46,
     "metadata": {},
     "output_type": "execute_result"
    }
   ],
   "source": [
    "xgb_predictor.endpoint"
   ]
  },
  {
   "cell_type": "markdown",
   "metadata": {},
   "source": [
    "Using the SageMaker runtime and the name of our endpoint, we can invoke the endpoint and send it the `test_bow` data."
   ]
  },
  {
   "cell_type": "code",
   "execution_count": 47,
   "metadata": {},
   "outputs": [
    {
     "name": "stderr",
     "output_type": "stream",
     "text": [
      "The endpoint attribute has been renamed in sagemaker>=2.\n",
      "See: https://sagemaker.readthedocs.io/en/stable/v2.html for details.\n"
     ]
    },
    {
     "ename": "ParamValidationError",
     "evalue": "Parameter validation failed:\nInvalid type for parameter Body, value: [0, 0, 0, 0, 0, 0, 0, 0, 0, 0, 0, 0, 0, 0, 0, 0, 0, 0, 0, 0, 0, 0, 0, 0, 0, 0, 0, 0, 0, 0, 0, 0, 0, 0, 0, 0, 0, 0, 0, 0, 0, 0, 0, 0, 0, 0, 0, 0, 0, 0, 0, 0, 0, 0, 0, 0, 0, 0, 0, 0, 0, 0, 0, 0, 0, 0, 0, 0, 0, 0, 0, 0, 0, 0, 0, 0, 0, 0, 0, 0, 0, 0, 0, 0, 0, 0, 0, 0, 0, 0, 0, 0, 0, 0, 0, 0, 0, 0, 0, 0, 0, 0, 0, 0, 0, 0, 0, 0, 0, 0, 0, 0, 0, 0, 0, 0, 0, 0, 0, 0, 0, 0, 0, 0, 0, 0, 0, 0, 0, 0, 0, 0, 0, 0, 0, 0, 0, 0, 0, 0, 0, 0, 0, 0, 0, 0, 0, 0, 0, 0, 0, 0, 0, 0, 0, 0, 0, 0, 0, 0, 0, 0, 0, 0, 0, 0, 0, 0, 0, 0, 0, 0, 0, 0, 0, 0, 0, 0, 0, 0, 0, 0, 0, 0, 0, 0, 0, 0, 0, 0, 0, 0, 0, 0, 0, 0, 0, 0, 0, 0, 0, 0, 0, 0, 0, 0, 0, 0, 0, 0, 0, 0, 0, 0, 0, 0, 0, 0, 0, 0, 0, 0, 0, 0, 0, 0, 1, 0, 0, 0, 0, 0, 0, 0, 0, 0, 0, 0, 0, 0, 0, 0, 0, 0, 0, 0, 0, 0, 0, 0, 0, 0, 0, 0, 0, 0, 1, 0, 0, 0, 0, 0, 0, 0, 0, 0, 0, 0, 0, 0, 0, 0, 0, 0, 0, 0, 0, 0, 0, 0, 0, 0, 0, 0, 0, 0, 0, 0, 0, 0, 0, 0, 0, 0, 0, 0, 0, 0, 0, 0, 0, 0, 0, 0, 0, 0, 0, 0, 0, 0, 0, 0, 0, 0, 0, 0, 0, 0, 0, 0, 0, 0, 0, 0, 0, 0, 0, 0, 0, 0, 0, 0, 0, 0, 0, 0, 0, 0, 0, 0, 0, 0, 0, 0, 0, 0, 0, 0, 0, 0, 0, 0, 0, 0, 0, 0, 0, 0, 0, 0, 0, 0, 0, 0, 0, 0, 0, 0, 0, 0, 0, 0, 0, 0, 0, 0, 0, 0, 0, 0, 0, 0, 0, 0, 0, 0, 0, 0, 0, 0, 0, 0, 0, 0, 0, 0, 0, 0, 0, 0, 0, 0, 0, 0, 0, 0, 0, 0, 0, 0, 0, 0, 0, 0, 0, 0, 0, 0, 0, 0, 0, 0, 0, 0, 0, 0, 0, 0, 0, 0, 0, 0, 0, 0, 0, 0, 0, 0, 0, 0, 0, 0, 0, 0, 0, 0, 0, 0, 0, 0, 0, 0, 0, 0, 0, 0, 0, 0, 0, 0, 0, 0, 0, 0, 0, 0, 0, 0, 0, 0, 0, 0, 0, 0, 0, 0, 0, 0, 0, 0, 0, 0, 0, 0, 0, 0, 0, 0, 0, 0, 0, 0, 0, 0, 0, 0, 0, 0, 0, 0, 0, 0, 0, 0, 0, 0, 0, 0, 0, 0, 0, 0, 0, 0, 0, 0, 0, 0, 0, 0, 0, 0, 0, 0, 0, 0, 0, 0, 0, 0, 0, 0, 0, 0, 0, 0, 0, 0, 0, 0, 0, 0, 0, 0, 0, 0, 0, 0, 0, 0, 0, 0, 0, 0, 0, 0, 0, 0, 0, 0, 0, 0, 0, 0, 0, 0, 0, 0, 0, 0, 0, 0, 0, 0, 0, 0, 0, 0, 0, 0, 0, 0, 0, 0, 0, 0, 0, 0, 0, 0, 0, 0, 0, 0, 0, 0, 0, 0, 0, 0, 0, 0, 0, 0, 0, 0, 0, 0, 0, 0, 0, 0, 0, 0, 0, 0, 0, 0, 0, 0, 0, 0, 0, 0, 0, 0, 0, 0, 0, 0, 0, 0, 0, 0, 0, 0, 1, 0, 0, 0, 0, 0, 0, 0, 0, 0, 0, 0, 0, 0, 0, 0, 0, 0, 0, 0, 0, 0, 0, 0, 0, 0, 0, 0, 0, 0, 0, 0, 0, 0, 0, 0, 0, 0, 0, 0, 0, 0, 0, 0, 0, 0, 0, 0, 0, 0, 0, 0, 0, 0, 0, 0, 0, 0, 0, 0, 0, 0, 0, 0, 0, 0, 0, 0, 0, 0, 0, 0, 0, 0, 0, 0, 0, 0, 0, 0, 0, 0, 0, 0, 0, 0, 0, 0, 0, 0, 0, 0, 0, 0, 0, 0, 0, 0, 0, 0, 0, 0, 0, 0, 0, 0, 0, 0, 0, 0, 0, 0, 0, 0, 0, 0, 0, 0, 0, 0, 0, 0, 0, 0, 0, 0, 0, 0, 0, 0, 0, 0, 0, 0, 0, 0, 0, 0, 0, 0, 0, 0, 0, 0, 0, 0, 0, 0, 0, 0, 0, 0, 0, 0, 0, 0, 0, 0, 0, 0, 0, 0, 0, 0, 0, 0, 0, 0, 0, 0, 0, 0, 0, 0, 0, 0, 0, 0, 0, 0, 0, 0, 0, 0, 0, 0, 0, 0, 0, 0, 0, 0, 0, 0, 0, 0, 0, 0, 0, 0, 0, 0, 0, 0, 0, 0, 0, 0, 0, 0, 0, 0, 0, 0, 0, 0, 0, 0, 0, 0, 0, 0, 0, 0, 0, 0, 0, 0, 0, 0, 0, 0, 0, 0, 0, 0, 0, 0, 0, 0, 0, 0, 0, 0, 0, 0, 0, 0, 0, 0, 0, 0, 0, 0, 1, 0, 0, 0, 0, 0, 0, 0, 0, 0, 0, 0, 0, 0, 0, 0, 0, 0, 0, 0, 0, 0, 0, 0, 0, 0, 0, 0, 0, 0, 0, 0, 0, 0, 0, 0, 0, 0, 0, 0, 0, 0, 0, 0, 0, 0, 0, 0, 0, 0, 0, 0, 0, 0, 0, 0, 0, 0, 0, 0, 0, 0, 0, 0, 0, 0, 0, 0, 0, 0, 0, 0, 0, 0, 0, 0, 0, 0, 0, 0, 0, 0, 0, 0, 0, 0, 0, 1, 0, 0, 0, 0, 0, 0, 0, 0, 0, 0, 0, 0, 0, 0, 0, 0, 0, 0, 0, 0, 0, 0, 0, 0, 0, 0, 0, 0, 0, 0, 0, 0, 0, 0, 0, 0, 0, 0, 0, 0, 0, 0, 0, 0, 0, 0, 0, 0, 0, 0, 0, 0, 0, 0, 0, 0, 0, 0, 0, 0, 0, 0, 0, 0, 0, 0, 0, 0, 0, 0, 0, 0, 0, 0, 0, 0, 0, 0, 0, 0, 0, 0, 0, 0, 0, 0, 0, 0, 0, 0, 0, 0, 0, 0, 0, 0, 0, 0, 0, 0, 0, 0, 0, 0, 0, 0, 0, 0, 0, 0, 0, 0, 0, 0, 0, 0, 0, 0, 0, 0, 0, 0, 0, 0, 0, 0, 0, 0, 0, 0, 0, 0, 0, 0, 0, 0, 0, 0, 0, 0, 0, 0, 0, 0, 0, 0, 0, 0, 0, 0, 0, 0, 0, 0, 0, 0, 0, 0, 0, 0, 0, 0, 0, 0, 0, 0, 0, 0, 0, 0, 0, 0, 0, 0, 0, 0, 0, 0, 0, 0, 0, 0, 0, 0, 0, 0, 0, 0, 0, 0, 0, 0, 0, 0, 0, 0, 0, 0, 0, 0, 0, 0, 0, 0, 0, 0, 0, 0, 0, 0, 0, 0, 0, 0, 0, 0, 0, 0, 0, 0, 0, 0, 0, 0, 0, 0, 0, 0, 0, 0, 0, 0, 0, 0, 0, 0, 0, 0, 0, 0, 0, 0, 0, 0, 0, 0, 0, 0, 0, 0, 0, 0, 1, 0, 0, 0, 0, 0, 0, 0, 0, 0, 0, 0, 0, 0, 0, 0, 0, 0, 0, 0, 0, 0, 0, 0, 0, 0, 0, 0, 0, 0, 0, 0, 0, 0, 0, 0, 0, 0, 0, 0, 0, 0, 0, 0, 0, 0, 0, 0, 0, 0, 0, 0, 0, 0, 0, 0, 1, 0, 0, 0, 0, 0, 0, 0, 0, 0, 0, 0, 0, 0, 0, 0, 0, 0, 0, 0, 0, 0, 0, 0, 0, 0, 0, 0, 0, 0, 0, 0, 0, 0, 0, 0, 0, 0, 0, 0, 0, 0, 0, 0, 0, 0, 0, 0, 0, 0, 0, 0, 0, 0, 0, 0, 0, 0, 0, 0, 0, 0, 0, 0, 0, 0, 0, 0, 0, 0, 0, 0, 0, 0, 0, 0, 0, 0, 0, 0, 0, 0, 0, 0, 0, 0, 0, 0, 0, 0, 0, 0, 0, 0, 0, 0, 0, 0, 0, 0, 0, 0, 0, 0, 0, 0, 0, 0, 0, 0, 0, 0, 0, 0, 0, 0, 0, 0, 0, 0, 0, 0, 0, 0, 0, 0, 0, 0, 0, 0, 0, 0, 0, 0, 0, 0, 0, 0, 0, 0, 0, 0, 0, 0, 0, 0, 0, 0, 0, 0, 0, 0, 0, 0, 0, 0, 0, 0, 0, 0, 0, 0, 0, 0, 0, 0, 0, 0, 0, 0, 0, 0, 0, 0, 0, 0, 0, 0, 0, 0, 0, 0, 0, 0, 0, 0, 0, 0, 0, 0, 0, 0, 0, 0, 0, 0, 0, 0, 0, 0, 0, 0, 0, 0, 0, 0, 0, 0, 0, 0, 0, 0, 0, 0, 0, 0, 0, 0, 0, 0, 0, 0, 0, 0, 0, 0, 0, 0, 0, 0, 0, 0, 0, 0, 0, 0, 0, 0, 0, 0, 0, 0, 0, 0, 0, 0, 0, 0, 0, 0, 0, 0, 0, 0, 0, 0, 0, 0, 0, 0, 0, 0, 0, 0, 0, 0, 0, 0, 0, 0, 0, 0, 0, 0, 0, 0, 0, 0, 0, 0, 0, 0, 0, 0, 0, 0, 0, 0, 0, 0, 0, 0, 0, 0, 0, 0, 0, 0, 0, 0, 0, 0, 0, 0, 0, 0, 0, 0, 0, 0, 0, 0, 0, 0, 0, 0, 0, 0, 0, 0, 0, 0, 0, 0, 0, 0, 0, 0, 0, 0, 0, 0, 0, 0, 0, 0, 0, 0, 0, 0, 0, 0, 0, 0, 0, 0, 0, 0, 0, 0, 0, 0, 0, 0, 0, 0, 0, 0, 0, 0, 0, 0, 0, 0, 0, 0, 0, 0, 0, 0, 0, 0, 0, 0, 0, 0, 0, 0, 0, 0, 0, 0, 0, 0, 0, 0, 0, 0, 0, 0, 0, 0, 0, 0, 0, 0, 0, 0, 0, 0, 0, 0, 0, 0, 0, 0, 0, 0, 0, 0, 0, 0, 0, 0, 0, 0, 0, 0, 0, 0, 0, 0, 0, 0, 0, 0, 0, 0, 0, 0, 0, 0, 0, 0, 0, 0, 0, 0, 0, 0, 0, 0, 0, 0, 0, 0, 0, 0, 0, 0, 0, 0, 0, 0, 0, 0, 0, 0, 0, 0, 0, 0, 0, 0, 0, 0, 0, 0, 0, 0, 0, 0, 0, 0, 0, 0, 0, 0, 0, 0, 0, 0, 0, 0, 0, 0, 0, 0, 0, 0, 0, 0, 0, 0, 0, 0, 0, 0, 0, 0, 0, 0, 0, 0, 0, 0, 0, 0, 0, 0, 0, 0, 0, 0, 0, 0, 0, 0, 0, 0, 0, 0, 0, 0, 0, 0, 0, 0, 0, 0, 0, 0, 0, 0, 0, 0, 0, 0, 0, 0, 0, 0, 0, 0, 0, 0, 0, 0, 0, 0, 0, 0, 0, 0, 0, 0, 0, 0, 0, 0, 0, 0, 0, 0, 0, 0, 0, 0, 0, 0, 0, 0, 0, 0, 0, 0, 0, 0, 0, 0, 0, 0, 0, 0, 0, 0, 0, 0, 0, 0, 0, 0, 0, 0, 0, 0, 0, 0, 0, 0, 0, 0, 0, 0, 0, 0, 0, 0, 0, 0, 0, 0, 0, 0, 0, 0, 0, 0, 0, 0, 0, 0, 0, 0, 0, 0, 0, 0, 0, 0, 0, 0, 0, 0, 0, 0, 0, 0, 0, 0, 0, 0, 0, 0, 0, 0, 0, 0, 0, 0, 0, 0, 0, 0, 0, 0, 0, 0, 0, 0, 0, 0, 0, 0, 0, 0, 0, 0, 0, 0, 0, 0, 0, 0, 0, 0, 0, 0, 0, 0, 0, 0, 1, 0, 0, 0, 0, 0, 0, 0, 0, 0, 0, 0, 0, 0, 0, 0, 0, 0, 0, 0, 0, 0, 0, 0, 0, 0, 0, 0, 0, 0, 0, 0, 0, 0, 0, 0, 0, 0, 0, 0, 0, 0, 0, 0, 0, 0, 0, 0, 0, 0, 0, 0, 0, 0, 0, 0, 0, 0, 0, 0, 0, 0, 0, 0, 0, 0, 0, 0, 0, 0, 0, 0, 0, 0, 0, 1, 0, 0, 0, 0, 0, 0, 0, 0, 0, 0, 0, 0, 0, 0, 0, 0, 0, 0, 0, 0, 1, 0, 0, 1, 0, 0, 0, 0, 0, 0, 0, 0, 0, 0, 0, 0, 0, 0, 0, 0, 0, 0, 0, 0, 0, 0, 0, 0, 0, 0, 0, 0, 0, 0, 0, 0, 0, 0, 0, 0, 0, 0, 0, 0, 0, 0, 0, 0, 0, 0, 0, 0, 0, 0, 0, 0, 0, 0, 0, 0, 0, 0, 0, 0, 0, 0, 0, 0, 0, 0, 0, 0, 0, 0, 0, 0, 0, 0, 0, 0, 0, 0, 0, 0, 0, 0, 0, 0, 0, 0, 0, 0, 0, 0, 0, 0, 0, 0, 0, 0, 0, 0, 0, 0, 0, 0, 0, 0, 0, 0, 0, 0, 0, 0, 0, 0, 0, 0, 0, 0, 0, 0, 0, 0, 0, 0, 0, 0, 0, 0, 0, 0, 0, 0, 0, 0, 0, 0, 0, 0, 0, 0, 0, 0, 0, 0, 0, 0, 0, 0, 0, 0, 0, 0, 0, 0, 0, 0, 0, 0, 0, 0, 0, 0, 0, 0, 0, 0, 0, 0, 0, 0, 0, 0, 0, 0, 0, 0, 0, 0, 0, 0, 0, 0, 0, 0, 0, 0, 0, 0, 0, 0, 0, 0, 0, 0, 0, 0, 0, 0, 0, 0, 0, 0, 0, 0, 0, 0, 0, 0, 0, 0, 0, 0, 0, 0, 0, 0, 0, 0, 0, 0, 0, 0, 0, 0, 0, 0, 0, 0, 0, 0, 0, 0, 0, 0, 0, 0, 0, 0, 0, 0, 0, 0, 0, 0, 0, 0, 0, 0, 0, 0, 0, 0, 0, 0, 0, 0, 0, 0, 0, 0, 0, 0, 0, 0, 0, 0, 0, 0, 0, 0, 0, 0, 0, 0, 0, 0, 0, 0, 0, 0, 0, 0, 0, 0, 0, 0, 0, 0, 0, 0, 0, 0, 0, 0, 0, 0, 0, 0, 0, 0, 0, 0, 0, 0, 0, 0, 0, 0, 0, 0, 0, 0, 0, 0, 0, 0, 0, 0, 0, 0, 0, 0, 0, 0, 0, 0, 0, 0, 0, 0, 0, 0, 0, 0, 0, 0, 0, 0, 0, 0, 0, 0, 0, 0, 0, 0, 0, 0, 0, 0, 0, 0, 0, 0, 0, 0, 0, 0, 0, 0, 0, 0, 0, 0, 0, 0, 0, 0, 0, 0, 0, 0, 0, 0, 0, 0, 0, 0, 0, 0, 0, 0, 0, 0, 0, 0, 0, 0, 0, 0, 0, 0, 0, 0, 0, 0, 0, 0, 0, 0, 0, 0, 0, 0, 0, 0, 0, 0, 0, 0, 0, 0, 0, 0, 0, 0, 0, 0, 0, 0, 0, 0, 0, 0, 0, 0, 0, 0, 0, 0, 0, 0, 0, 0, 0, 0, 0, 0, 0, 0, 0, 0, 0, 0, 0, 0, 0, 0, 0, 0, 0, 0, 0, 0, 0, 0, 0, 0, 0, 0, 0, 0, 0, 0, 0, 0, 0, 0, 1, 0, 0, 0, 0, 0, 0, 0, 0, 0, 0, 0, 0, 0, 0, 0, 0, 0, 0, 0, 0, 0, 0, 0, 0, 0, 0, 0, 0, 0, 0, 0, 0, 0, 0, 0, 0, 0, 0, 0, 0, 0, 0, 0, 0, 0, 0, 0, 0, 0, 0, 0, 0, 0, 0, 0, 0, 0, 0, 0, 0, 0, 0, 0, 0, 0, 0, 0, 0, 0, 0, 0, 0, 0, 0, 0, 0, 0, 0, 0, 0, 0, 0, 0, 0, 0, 0, 0, 0, 0, 0, 0, 0, 0, 0, 0, 0, 0, 0, 0, 0, 0, 0, 0, 0, 0, 0, 0, 0, 0, 0, 0, 0, 0, 0, 0, 0, 0, 0, 0, 0, 0, 0, 0, 0, 0, 0, 0, 0, 0, 0, 0, 0, 0, 0, 0, 0, 0, 0, 0, 0, 0, 0, 0, 0, 0, 0, 0, 0, 0, 0, 0, 0, 0, 0, 0, 0, 0, 0, 0, 0, 0, 0, 0, 0, 0, 0, 0, 0, 0, 0, 0, 0, 0, 0, 0, 0, 0, 0, 0, 0, 0, 0, 0, 0, 0, 0, 0, 0, 0, 0, 0, 0, 0, 0, 0, 0, 0, 0, 0, 0, 0, 0, 0, 0, 0, 0, 0, 0, 0, 0, 0, 0, 0, 0, 0, 0, 0, 0, 0, 0, 0, 0, 0, 0, 0, 0, 0, 0, 0, 0, 0, 0, 0, 0, 0, 0, 0, 0, 0, 0, 0, 0, 0, 0, 0, 0, 0, 0, 0, 0, 0, 0, 0, 0, 0, 0, 0, 0, 0, 0, 0, 0, 0, 0, 0, 0, 0, 0, 0, 0, 0, 0, 0, 0, 0, 0, 0, 0, 0, 0, 0, 0, 0, 0, 0, 0, 0, 0, 0, 0, 0, 0, 0, 0, 0, 0, 0, 0, 0, 0, 0, 0, 0, 0, 0, 0, 0, 0, 0, 0, 0, 0, 0, 0, 0, 0, 0, 0, 0, 0, 0, 0, 0, 0, 0, 0, 0, 0, 0, 0, 0, 0, 0, 0, 0, 0, 0, 0, 0, 0, 0, 0, 0, 0, 0, 0, 0, 0, 0, 0, 0, 0, 0, 0, 0, 0, 0, 0, 0, 0, 0, 0, 0, 0, 0, 0, 0, 0, 0, 0, 0, 0, 0, 0, 0, 0, 0, 0, 0, 0, 0, 0, 0, 0, 0, 0, 0, 0, 0, 0, 0, 0, 0, 0, 0, 0, 0, 0, 0, 0, 0, 0, 0, 0, 0, 0, 0, 0, 0, 0, 0, 0, 0, 0, 0, 0, 0, 0, 0, 0, 0, 0, 0, 0, 0, 0, 0, 0, 0, 0, 0, 0, 0, 0, 0, 0, 0, 0, 0, 0, 0, 0, 0, 0, 0, 0, 0, 0, 0, 0, 0, 0, 0, 0, 0, 0, 0, 0, 0, 0, 0, 0, 0, 0, 0, 0, 0, 0, 0, 0, 0, 0, 0, 0, 0, 0, 0, 0, 0, 0, 0, 0, 0, 0, 0, 0, 0, 0, 0, 0, 0, 0, 0, 0, 0, 0, 0, 0, 0, 0, 0, 0, 0, 0, 0, 0, 0, 0, 0, 0, 0, 0, 1, 0, 0, 0, 0, 0, 0, 0, 0, 0, 0, 0, 0, 0, 0, 0, 0, 0, 0, 0, 0, 0, 0, 0, 0, 0, 0, 0, 0, 0, 0, 0, 0, 0, 0, 0, 2, 0, 0, 0, 0, 0, 0, 0, 0, 0, 0, 0, 0, 0, 0, 0, 0, 0, 0, 0, 0, 0, 0, 0, 0, 0, 0, 0, 0, 0, 0, 0, 0, 0, 0, 0, 0, 0, 0, 0, 0, 1, 0, 0, 0, 0, 0, 0, 0, 0, 0, 0, 0, 0, 0, 0, 0, 0, 0, 0, 0, 0, 0, 0, 0, 0, 0, 0, 0, 0, 0, 0, 0, 0, 0, 0, 0, 0, 0, 0, 0, 0, 0, 0, 0, 0, 0, 0, 0, 0, 0, 0, 0, 0, 0, 0, 0, 0, 0, 0, 0, 0, 0, 0, 0, 0, 0, 0, 0, 0, 0, 0, 0, 0, 0, 0, 0, 0, 0, 0, 0, 0, 0, 0, 0, 0, 0, 0, 0, 0, 0, 0, 0, 0, 0, 0, 0, 0, 0, 0, 0, 0, 0, 0, 0, 0, 0, 0, 0, 0, 0, 0, 0, 0, 0, 0, 0, 0, 0, 0, 0, 0, 0, 0, 0, 0, 0, 0, 0, 0, 0, 0, 0, 0, 0, 0, 0, 0, 0, 0, 0, 0, 0, 0, 0, 0, 0, 0, 0, 0, 0, 0, 0, 0, 0, 0, 0, 0, 0, 0, 0, 0, 0, 0, 0, 0, 0, 0, 0, 0, 0, 0, 0, 0, 0, 0, 0, 0, 0, 0, 0, 0, 0, 0, 0, 0, 0, 0, 0, 0, 0, 0, 0, 0, 0, 0, 0, 0, 0, 0, 0, 0, 0, 0, 0, 0, 0, 0, 0, 0, 0, 0, 0, 0, 0, 0, 0, 0, 0, 0, 0, 0, 0, 0, 0, 0, 0, 0, 0, 0, 0, 0, 0, 0, 0, 0, 0, 0, 0, 0, 0, 0, 0, 0, 0, 0, 0, 0, 0, 0, 0, 0, 0, 0, 0, 0, 0, 0, 0, 0, 0, 0, 0, 0, 0, 0, 0, 0, 0, 0, 0, 0, 0, 0, 0, 0, 0, 0, 0, 0, 0, 0, 0, 0, 0, 0, 0, 0, 0, 0, 0, 0, 0, 0, 0, 0, 0, 0, 0, 0, 0, 0, 0, 0, 0, 0, 0, 0, 0, 0, 0, 0, 0, 0, 0, 0, 0, 0, 0, 0, 0, 0, 0, 0, 0, 0, 0, 0, 0, 0, 0, 0, 0, 0, 0, 0, 0, 0, 0, 0, 0, 0, 0, 0, 0, 0, 0, 0, 0, 0, 0, 0, 0, 0, 0, 0, 0, 0, 0, 0, 0, 0, 0, 0, 0, 0, 0, 0, 0, 0, 0, 0, 0, 0, 0, 0, 0, 0, 0, 0, 0, 0, 0, 0, 0, 0, 0, 0, 0, 0, 0, 0, 0, 0, 0, 0, 0, 0, 0, 0, 0, 0, 0, 0, 0, 0, 0, 0, 0, 0, 0, 0, 0, 0, 0, 0, 0, 0, 0, 0, 0, 0, 0, 0, 0, 0, 0, 0, 0, 0, 0, 0, 0, 0, 0, 0, 0, 0, 0, 0, 0, 0, 0, 0, 0, 0, 0, 0, 0, 0, 0, 0, 0, 0, 0, 0, 0, 0, 0, 0, 0, 0, 0, 0, 0, 0, 0, 0, 0, 0, 0, 0, 0, 0, 0, 0, 0, 0, 0, 0, 0, 0, 0, 0, 0, 0, 0, 0, 0, 0, 0, 0, 0, 0, 0, 0, 0, 0, 0, 1, 0, 0, 0, 0, 0, 0, 0, 0, 0, 0, 0, 0, 0, 0, 0, 0, 0, 0, 0, 0, 0, 0, 0, 0, 0, 0, 0, 0, 0, 0, 0, 0, 0, 0, 0, 0, 0, 0, 0, 0, 0, 0, 0, 0, 0, 0, 0, 0, 0, 0, 0, 0, 0, 0, 0, 0, 0, 0, 0, 0, 0, 0, 0, 0, 0, 0, 0, 0, 0, 0, 0, 0, 0, 0, 0, 0, 0, 0, 0, 0, 0, 0, 0, 0, 0, 0, 0, 0, 0, 0, 0, 0, 0, 0, 0, 0, 0, 0, 0, 0, 0, 0, 0, 0, 0, 0, 0, 0, 0, 0, 2, 0, 0, 0, 0, 0, 0, 0, 0, 0, 0, 0, 0, 0, 0, 0, 0, 0, 0, 0, 0, 0, 0, 0, 0, 0, 0, 0, 0, 0, 0, 0, 0, 0, 0, 0, 0, 0, 0, 0, 0, 0, 0, 0, 0, 0, 0, 0, 0, 0, 0, 0, 0, 0, 0, 0, 0, 0, 0, 0, 0, 0, 0, 0, 0, 0, 0, 0, 0, 0, 0, 0, 0, 0, 0, 0, 0, 0, 0, 0, 0, 0, 0, 0, 0, 0, 0, 0, 0, 0, 0, 0, 0, 0, 0, 0, 0, 0, 0, 0, 0, 0, 0, 0, 0, 0, 0, 0, 0, 0, 0, 0, 0, 0, 0, 0, 0, 0, 0, 0, 0, 0, 0, 0, 0, 0, 0, 0, 0, 0, 0, 0, 0, 0, 0, 0, 0, 0, 0, 0, 0, 0, 0, 0, 0, 0, 0, 0, 0, 0, 0, 0, 0, 0, 0, 0, 0, 0, 0, 0, 0, 0, 0, 0, 0, 0, 0, 0, 0, 0, 0, 0, 0, 0, 0, 0, 0, 0, 0, 0, 0, 0, 0, 0, 0, 0, 0, 0, 0, 0, 0, 0, 0, 0, 0, 0, 0, 0, 0, 0, 0, 0, 0, 0, 0, 0, 0, 0, 0, 0, 0, 0, 0, 0, 0, 0, 0, 0, 0, 0, 0, 0, 0, 0, 0, 0, 0, 0, 0, 0, 0, 0, 0, 0, 0, 0, 0, 0, 0, 0, 0, 0, 0, 0, 0, 0, 0, 0, 0, 0, 0, 0, 0, 0, 0, 0, 0, 0, 0, 0, 0, 0, 0, 0, 0, 0, 0, 0, 0, 0, 0, 0, 0, 0, 0, 0, 0, 0, 0, 0, 0, 0, 0, 0, 0, 0, 0, 0, 0, 0, 0, 0, 0, 0, 0, 0, 0, 0, 0, 0, 0, 0, 0, 0, 0, 0, 0, 0, 0, 0, 0, 0, 0, 0, 0, 0, 0, 0, 0, 0, 0, 0, 0, 0, 0, 0, 0, 0, 0, 0, 0, 0, 0, 0, 0, 0, 0, 0, 0, 0, 0, 0, 0, 0, 0, 0, 0, 0, 0, 0, 0, 0, 0, 0, 0, 0, 0, 0, 0, 0, 0, 0, 0, 0, 0, 0, 0, 0, 0, 0, 0, 0, 0, 0, 0, 0, 0, 0, 0, 0, 0, 0, 0, 0, 0, 0, 0, 0, 0, 0, 0, 0, 0, 0, 0, 0, 0, 0, 0, 0, 0, 0, 0, 0, 0, 0, 0, 0, 0, 0, 0, 0, 0, 0, 0, 0, 0, 0, 0, 0, 0, 0, 0, 0, 0, 0, 0, 0, 0, 0, 0, 0, 0, 0, 0, 0, 0, 0, 0, 0, 0, 0, 0, 0, 0, 0, 0, 0, 0, 0, 0, 0, 0, 0, 0, 0, 0, 0, 0, 0, 0, 0, 0, 0, 0, 0, 0, 0, 0, 0, 0, 0, 0, 0, 0, 0, 0, 0, 0, 0, 0, 0, 0, 0, 0, 0, 0, 0, 0, 0, 0, 0, 0, 0, 0, 0, 0, 0, 0, 0, 0, 0, 0, 0, 0, 0, 0, 0, 0, 0, 0, 0, 0, 0, 0, 0, 0, 0, 0, 0, 0, 0, 0, 0, 0, 0, 0, 0, 0, 0, 0, 0, 0, 0, 0, 0, 0, 0, 0, 0, 0, 0, 0, 0, 0, 0, 0, 0, 0, 0, 0, 0, 0, 0, 0, 0, 0, 0, 0, 0, 0, 0, 0, 0, 0, 0, 0, 0, 0, 0, 0, 0, 0, 0, 0, 0, 0, 0, 0, 0, 0, 0, 0, 0, 0, 0, 0, 0, 0, 0, 0, 0, 0, 0, 0, 0, 0, 0, 0, 0, 0, 0, 0, 0, 0, 0, 0, 0, 0, 0, 0, 0, 0, 0, 0, 0, 0, 0, 0, 0, 0, 0, 0, 0, 0, 0, 0, 0, 0, 0, 0, 0, 0, 0, 0, 0, 0, 0, 0, 0, 0, 0, 0, 0, 0, 0, 0, 0, 0, 0, 0, 0, 0, 0, 0, 0, 0, 0, 0, 0, 0, 0, 0, 0, 0, 0, 0, 0, 0, 0, 0, 0, 0, 0, 0, 0, 0, 0, 0, 0, 0, 0, 0, 0, 0, 0, 0, 0, 0, 0, 0, 1, 0, 0, 0, 0, 0, 0, 0, 0, 0, 0, 0, 0, 0, 0, 0, 0, 0, 0, 0, 0, 0, 0, 0, 0, 0, 0, 0, 0, 0, 0, 0, 0, 0, 0, 0, 0, 0, 0, 0, 0, 0, 0, 0, 0, 0, 0, 0, 0, 0, 0, 0, 0, 0, 0, 0, 0, 0, 0, 0, 0, 0, 0, 0, 0, 0, 0, 0, 0, 0, 0, 0, 0, 0, 0, 0, 0, 0, 0, 0, 0, 0, 0, 0, 0, 0, 0, 0, 0, 0, 0, 0, 0, 0, 0, 0, 0, 0, 0, 0, 0, 0, 0, 0, 0, 0, 0, 0, 1, 0, 0, 0, 0, 0, 0, 0, 0, 0, 0, 0, 0, 0, 0, 0, 0, 0, 0, 0, 0, 0, 0, 0, 0, 0, 0, 0, 0, 0, 0, 0, 0, 0, 0, 0, 0, 0, 0, 0, 0, 0, 0, 0, 0, 0, 0, 0, 0, 0, 0, 0, 0, 0, 0, 0, 0, 0, 0, 0, 0, 0, 0, 0, 0, 0, 0, 0, 0, 0, 0, 0, 0, 0, 0, 0, 0, 0, 0, 0, 0, 0, 0, 0, 0, 0, 0, 0, 0, 0, 0, 0, 0, 0, 0, 0, 0, 0, 0, 0, 0, 0, 0, 0, 0, 0, 0, 0, 0, 0, 0, 0, 0, 0, 0, 0, 0, 0, 0, 0, 0, 0, 0, 0, 0, 0, 0, 0, 0, 0, 0, 0, 0, 0, 0, 0, 0, 0, 0, 0, 0, 0, 0, 0, 0, 0, 0, 0, 0, 0, 0, 0, 0, 0, 0, 0, 0, 0, 0, 0, 0, 0, 0, 0, 0, 0, 0, 0, 0, 0, 0, 0, 0, 0, 0, 0, 0, 0, 0, 0, 0, 0, 0, 0, 0, 0, 0, 0, 0, 0, 0, 0, 0, 0, 0, 0, 0, 0, 0, 0, 0, 0, 0, 0, 0, 0, 0, 0, 0, 0, 0, 0, 0, 0, 0, 0, 0, 0, 0, 0, 0, 0, 0, 0, 0, 0, 0, 0, 0, 0, 0, 0, 0, 0, 0, 0, 0, 0, 0, 0, 0, 0, 0, 0, 0, 0, 0, 0, 0, 0, 0, 0, 0, 0, 0, 0, 0, 0, 0, 0, 0, 0, 0, 0, 0, 0, 0, 0, 0, 0, 0, 0, 0, 0, 0, 0, 0, 0, 0, 0, 0, 0, 0, 0, 0, 0, 0, 0, 0, 0, 0, 0, 0, 0, 0, 0, 0, 0, 0, 0, 0, 0, 0, 0, 0, 0, 0, 0, 0, 0, 0, 0, 0, 0, 0, 0, 0, 0, 0, 0, 0, 0, 0, 0, 0, 0, 0, 0, 0, 0, 0, 0, 0, 0, 0, 0, 0, 0, 0, 0, 0, 0, 0, 0, 0, 0, 0, 0, 0, 0, 0, 0, 0, 0, 0, 0, 0, 0, 0, 0, 0, 0, 0, 0, 0, 0, 0, 0, 0, 0, 0, 0, 0, 0, 0, 0, 0, 0, 0, 0, 0, 0, 0, 0, 0, 0, 0, 0, 0, 0, 0, 0, 0, 0, 0, 0, 0, 0, 0, 0, 0, 0, 0, 0, 0, 0, 0, 0, 0, 0, 0, 0, 0, 0, 0, 0, 0, 0, 0, 0, 0, 0, 0, 0, 0, 0, 0, 0, 0, 0, 0, 0, 0, 0, 0, 0, 0, 0, 0, 0, 0, 0, 0, 0, 0, 0, 0, 0, 0, 0, 0, 0, 0, 0, 0, 0, 0, 0, 0, 0, 0, 0, 0, 0, 2, 0, 1, 0], type: <class 'list'>, valid types: <class 'bytes'>, <class 'bytearray'>, file-like object",
     "output_type": "error",
     "traceback": [
      "\u001b[0;31m---------------------------------------------------------------------------\u001b[0m",
      "\u001b[0;31mParamValidationError\u001b[0m                      Traceback (most recent call last)",
      "\u001b[0;32m/tmp/ipykernel_8368/83922512.py\u001b[0m in \u001b[0;36m<cell line: 1>\u001b[0;34m()\u001b[0m\n\u001b[0;32m----> 1\u001b[0;31m response = runtime.invoke_endpoint(EndpointName = xgb_predictor.endpoint, # The name of the endpoint we created\n\u001b[0m\u001b[1;32m      2\u001b[0m                                        \u001b[0mContentType\u001b[0m \u001b[0;34m=\u001b[0m \u001b[0;34m'text/csv'\u001b[0m\u001b[0;34m,\u001b[0m                     \u001b[0;31m# The data format that is expected\u001b[0m\u001b[0;34m\u001b[0m\u001b[0;34m\u001b[0m\u001b[0m\n\u001b[1;32m      3\u001b[0m                                        Body = test_bow)\n",
      "\u001b[0;32m~/anaconda3/envs/pytorch_p38/lib/python3.8/site-packages/botocore/client.py\u001b[0m in \u001b[0;36m_api_call\u001b[0;34m(self, *args, **kwargs)\u001b[0m\n\u001b[1;32m    393\u001b[0m                     \"%s() only accepts keyword arguments.\" % py_operation_name)\n\u001b[1;32m    394\u001b[0m             \u001b[0;31m# The \"self\" in this scope is referring to the BaseClient.\u001b[0m\u001b[0;34m\u001b[0m\u001b[0;34m\u001b[0m\u001b[0;34m\u001b[0m\u001b[0m\n\u001b[0;32m--> 395\u001b[0;31m             \u001b[0;32mreturn\u001b[0m \u001b[0mself\u001b[0m\u001b[0;34m.\u001b[0m\u001b[0m_make_api_call\u001b[0m\u001b[0;34m(\u001b[0m\u001b[0moperation_name\u001b[0m\u001b[0;34m,\u001b[0m \u001b[0mkwargs\u001b[0m\u001b[0;34m)\u001b[0m\u001b[0;34m\u001b[0m\u001b[0;34m\u001b[0m\u001b[0m\n\u001b[0m\u001b[1;32m    396\u001b[0m \u001b[0;34m\u001b[0m\u001b[0m\n\u001b[1;32m    397\u001b[0m         \u001b[0m_api_call\u001b[0m\u001b[0;34m.\u001b[0m\u001b[0m__name__\u001b[0m \u001b[0;34m=\u001b[0m \u001b[0mstr\u001b[0m\u001b[0;34m(\u001b[0m\u001b[0mpy_operation_name\u001b[0m\u001b[0;34m)\u001b[0m\u001b[0;34m\u001b[0m\u001b[0;34m\u001b[0m\u001b[0m\n",
      "\u001b[0;32m~/anaconda3/envs/pytorch_p38/lib/python3.8/site-packages/botocore/client.py\u001b[0m in \u001b[0;36m_make_api_call\u001b[0;34m(self, operation_name, api_params)\u001b[0m\n\u001b[1;32m    693\u001b[0m             \u001b[0;34m'auth_type'\u001b[0m\u001b[0;34m:\u001b[0m \u001b[0moperation_model\u001b[0m\u001b[0;34m.\u001b[0m\u001b[0mauth_type\u001b[0m\u001b[0;34m,\u001b[0m\u001b[0;34m\u001b[0m\u001b[0;34m\u001b[0m\u001b[0m\n\u001b[1;32m    694\u001b[0m         }\n\u001b[0;32m--> 695\u001b[0;31m         request_dict = self._convert_to_request_dict(\n\u001b[0m\u001b[1;32m    696\u001b[0m             api_params, operation_model, context=request_context)\n\u001b[1;32m    697\u001b[0m         \u001b[0mresolve_checksum_context\u001b[0m\u001b[0;34m(\u001b[0m\u001b[0mrequest_dict\u001b[0m\u001b[0;34m,\u001b[0m \u001b[0moperation_model\u001b[0m\u001b[0;34m,\u001b[0m \u001b[0mapi_params\u001b[0m\u001b[0;34m)\u001b[0m\u001b[0;34m\u001b[0m\u001b[0;34m\u001b[0m\u001b[0m\n",
      "\u001b[0;32m~/anaconda3/envs/pytorch_p38/lib/python3.8/site-packages/botocore/client.py\u001b[0m in \u001b[0;36m_convert_to_request_dict\u001b[0;34m(self, api_params, operation_model, context)\u001b[0m\n\u001b[1;32m    743\u001b[0m         api_params = self._emit_api_params(\n\u001b[1;32m    744\u001b[0m             api_params, operation_model, context)\n\u001b[0;32m--> 745\u001b[0;31m         request_dict = self._serializer.serialize_to_request(\n\u001b[0m\u001b[1;32m    746\u001b[0m             api_params, operation_model)\n\u001b[1;32m    747\u001b[0m         \u001b[0;32mif\u001b[0m \u001b[0;32mnot\u001b[0m \u001b[0mself\u001b[0m\u001b[0;34m.\u001b[0m\u001b[0m_client_config\u001b[0m\u001b[0;34m.\u001b[0m\u001b[0minject_host_prefix\u001b[0m\u001b[0;34m:\u001b[0m\u001b[0;34m\u001b[0m\u001b[0;34m\u001b[0m\u001b[0m\n",
      "\u001b[0;32m~/anaconda3/envs/pytorch_p38/lib/python3.8/site-packages/botocore/validate.py\u001b[0m in \u001b[0;36mserialize_to_request\u001b[0;34m(self, parameters, operation_model)\u001b[0m\n\u001b[1;32m    358\u001b[0m                                                     operation_model.input_shape)\n\u001b[1;32m    359\u001b[0m             \u001b[0;32mif\u001b[0m \u001b[0mreport\u001b[0m\u001b[0;34m.\u001b[0m\u001b[0mhas_errors\u001b[0m\u001b[0;34m(\u001b[0m\u001b[0;34m)\u001b[0m\u001b[0;34m:\u001b[0m\u001b[0;34m\u001b[0m\u001b[0;34m\u001b[0m\u001b[0m\n\u001b[0;32m--> 360\u001b[0;31m                 \u001b[0;32mraise\u001b[0m \u001b[0mParamValidationError\u001b[0m\u001b[0;34m(\u001b[0m\u001b[0mreport\u001b[0m\u001b[0;34m=\u001b[0m\u001b[0mreport\u001b[0m\u001b[0;34m.\u001b[0m\u001b[0mgenerate_report\u001b[0m\u001b[0;34m(\u001b[0m\u001b[0;34m)\u001b[0m\u001b[0;34m)\u001b[0m\u001b[0;34m\u001b[0m\u001b[0;34m\u001b[0m\u001b[0m\n\u001b[0m\u001b[1;32m    361\u001b[0m         return self._serializer.serialize_to_request(parameters,\n\u001b[1;32m    362\u001b[0m                                                      operation_model)\n",
      "\u001b[0;31mParamValidationError\u001b[0m: Parameter validation failed:\nInvalid type for parameter Body, value: [0, 0, 0, 0, 0, 0, 0, 0, 0, 0, 0, 0, 0, 0, 0, 0, 0, 0, 0, 0, 0, 0, 0, 0, 0, 0, 0, 0, 0, 0, 0, 0, 0, 0, 0, 0, 0, 0, 0, 0, 0, 0, 0, 0, 0, 0, 0, 0, 0, 0, 0, 0, 0, 0, 0, 0, 0, 0, 0, 0, 0, 0, 0, 0, 0, 0, 0, 0, 0, 0, 0, 0, 0, 0, 0, 0, 0, 0, 0, 0, 0, 0, 0, 0, 0, 0, 0, 0, 0, 0, 0, 0, 0, 0, 0, 0, 0, 0, 0, 0, 0, 0, 0, 0, 0, 0, 0, 0, 0, 0, 0, 0, 0, 0, 0, 0, 0, 0, 0, 0, 0, 0, 0, 0, 0, 0, 0, 0, 0, 0, 0, 0, 0, 0, 0, 0, 0, 0, 0, 0, 0, 0, 0, 0, 0, 0, 0, 0, 0, 0, 0, 0, 0, 0, 0, 0, 0, 0, 0, 0, 0, 0, 0, 0, 0, 0, 0, 0, 0, 0, 0, 0, 0, 0, 0, 0, 0, 0, 0, 0, 0, 0, 0, 0, 0, 0, 0, 0, 0, 0, 0, 0, 0, 0, 0, 0, 0, 0, 0, 0, 0, 0, 0, 0, 0, 0, 0, 0, 0, 0, 0, 0, 0, 0, 0, 0, 0, 0, 0, 0, 0, 0, 0, 0, 0, 0, 1, 0, 0, 0, 0, 0, 0, 0, 0, 0, 0, 0, 0, 0, 0, 0, 0, 0, 0, 0, 0, 0, 0, 0, 0, 0, 0, 0, 0, 0, 1, 0, 0, 0, 0, 0, 0, 0, 0, 0, 0, 0, 0, 0, 0, 0, 0, 0, 0, 0, 0, 0, 0, 0, 0, 0, 0, 0, 0, 0, 0, 0, 0, 0, 0, 0, 0, 0, 0, 0, 0, 0, 0, 0, 0, 0, 0, 0, 0, 0, 0, 0, 0, 0, 0, 0, 0, 0, 0, 0, 0, 0, 0, 0, 0, 0, 0, 0, 0, 0, 0, 0, 0, 0, 0, 0, 0, 0, 0, 0, 0, 0, 0, 0, 0, 0, 0, 0, 0, 0, 0, 0, 0, 0, 0, 0, 0, 0, 0, 0, 0, 0, 0, 0, 0, 0, 0, 0, 0, 0, 0, 0, 0, 0, 0, 0, 0, 0, 0, 0, 0, 0, 0, 0, 0, 0, 0, 0, 0, 0, 0, 0, 0, 0, 0, 0, 0, 0, 0, 0, 0, 0, 0, 0, 0, 0, 0, 0, 0, 0, 0, 0, 0, 0, 0, 0, 0, 0, 0, 0, 0, 0, 0, 0, 0, 0, 0, 0, 0, 0, 0, 0, 0, 0, 0, 0, 0, 0, 0, 0, 0, 0, 0, 0, 0, 0, 0, 0, 0, 0, 0, 0, 0, 0, 0, 0, 0, 0, 0, 0, 0, 0, 0, 0, 0, 0, 0, 0, 0, 0, 0, 0, 0, 0, 0, 0, 0, 0, 0, 0, 0, 0, 0, 0, 0, 0, 0, 0, 0, 0, 0, 0, 0, 0, 0, 0, 0, 0, 0, 0, 0, 0, 0, 0, 0, 0, 0, 0, 0, 0, 0, 0, 0, 0, 0, 0, 0, 0, 0, 0, 0, 0, 0, 0, 0, 0, 0, 0, 0, 0, 0, 0, 0, 0, 0, 0, 0, 0, 0, 0, 0, 0, 0, 0, 0, 0, 0, 0, 0, 0, 0, 0, 0, 0, 0, 0, 0, 0, 0, 0, 0, 0, 0, 0, 0, 0, 0, 0, 0, 0, 0, 0, 0, 0, 0, 0, 0, 0, 0, 0, 0, 0, 0, 0, 0, 0, 0, 0, 0, 0, 0, 0, 0, 0, 0, 0, 0, 0, 0, 0, 0, 0, 0, 0, 0, 0, 0, 0, 0, 0, 0, 0, 0, 0, 0, 0, 0, 0, 0, 0, 0, 0, 0, 0, 0, 0, 0, 0, 0, 0, 0, 0, 0, 0, 0, 0, 0, 0, 0, 0, 1, 0, 0, 0, 0, 0, 0, 0, 0, 0, 0, 0, 0, 0, 0, 0, 0, 0, 0, 0, 0, 0, 0, 0, 0, 0, 0, 0, 0, 0, 0, 0, 0, 0, 0, 0, 0, 0, 0, 0, 0, 0, 0, 0, 0, 0, 0, 0, 0, 0, 0, 0, 0, 0, 0, 0, 0, 0, 0, 0, 0, 0, 0, 0, 0, 0, 0, 0, 0, 0, 0, 0, 0, 0, 0, 0, 0, 0, 0, 0, 0, 0, 0, 0, 0, 0, 0, 0, 0, 0, 0, 0, 0, 0, 0, 0, 0, 0, 0, 0, 0, 0, 0, 0, 0, 0, 0, 0, 0, 0, 0, 0, 0, 0, 0, 0, 0, 0, 0, 0, 0, 0, 0, 0, 0, 0, 0, 0, 0, 0, 0, 0, 0, 0, 0, 0, 0, 0, 0, 0, 0, 0, 0, 0, 0, 0, 0, 0, 0, 0, 0, 0, 0, 0, 0, 0, 0, 0, 0, 0, 0, 0, 0, 0, 0, 0, 0, 0, 0, 0, 0, 0, 0, 0, 0, 0, 0, 0, 0, 0, 0, 0, 0, 0, 0, 0, 0, 0, 0, 0, 0, 0, 0, 0, 0, 0, 0, 0, 0, 0, 0, 0, 0, 0, 0, 0, 0, 0, 0, 0, 0, 0, 0, 0, 0, 0, 0, 0, 0, 0, 0, 0, 0, 0, 0, 0, 0, 0, 0, 0, 0, 0, 0, 0, 0, 0, 0, 0, 0, 0, 0, 0, 0, 0, 0, 0, 0, 0, 0, 0, 0, 0, 0, 0, 1, 0, 0, 0, 0, 0, 0, 0, 0, 0, 0, 0, 0, 0, 0, 0, 0, 0, 0, 0, 0, 0, 0, 0, 0, 0, 0, 0, 0, 0, 0, 0, 0, 0, 0, 0, 0, 0, 0, 0, 0, 0, 0, 0, 0, 0, 0, 0, 0, 0, 0, 0, 0, 0, 0, 0, 0, 0, 0, 0, 0, 0, 0, 0, 0, 0, 0, 0, 0, 0, 0, 0, 0, 0, 0, 0, 0, 0, 0, 0, 0, 0, 0, 0, 0, 0, 0, 1, 0, 0, 0, 0, 0, 0, 0, 0, 0, 0, 0, 0, 0, 0, 0, 0, 0, 0, 0, 0, 0, 0, 0, 0, 0, 0, 0, 0, 0, 0, 0, 0, 0, 0, 0, 0, 0, 0, 0, 0, 0, 0, 0, 0, 0, 0, 0, 0, 0, 0, 0, 0, 0, 0, 0, 0, 0, 0, 0, 0, 0, 0, 0, 0, 0, 0, 0, 0, 0, 0, 0, 0, 0, 0, 0, 0, 0, 0, 0, 0, 0, 0, 0, 0, 0, 0, 0, 0, 0, 0, 0, 0, 0, 0, 0, 0, 0, 0, 0, 0, 0, 0, 0, 0, 0, 0, 0, 0, 0, 0, 0, 0, 0, 0, 0, 0, 0, 0, 0, 0, 0, 0, 0, 0, 0, 0, 0, 0, 0, 0, 0, 0, 0, 0, 0, 0, 0, 0, 0, 0, 0, 0, 0, 0, 0, 0, 0, 0, 0, 0, 0, 0, 0, 0, 0, 0, 0, 0, 0, 0, 0, 0, 0, 0, 0, 0, 0, 0, 0, 0, 0, 0, 0, 0, 0, 0, 0, 0, 0, 0, 0, 0, 0, 0, 0, 0, 0, 0, 0, 0, 0, 0, 0, 0, 0, 0, 0, 0, 0, 0, 0, 0, 0, 0, 0, 0, 0, 0, 0, 0, 0, 0, 0, 0, 0, 0, 0, 0, 0, 0, 0, 0, 0, 0, 0, 0, 0, 0, 0, 0, 0, 0, 0, 0, 0, 0, 0, 0, 0, 0, 0, 0, 0, 0, 0, 0, 0, 0, 0, 0, 0, 0, 1, 0, 0, 0, 0, 0, 0, 0, 0, 0, 0, 0, 0, 0, 0, 0, 0, 0, 0, 0, 0, 0, 0, 0, 0, 0, 0, 0, 0, 0, 0, 0, 0, 0, 0, 0, 0, 0, 0, 0, 0, 0, 0, 0, 0, 0, 0, 0, 0, 0, 0, 0, 0, 0, 0, 0, 1, 0, 0, 0, 0, 0, 0, 0, 0, 0, 0, 0, 0, 0, 0, 0, 0, 0, 0, 0, 0, 0, 0, 0, 0, 0, 0, 0, 0, 0, 0, 0, 0, 0, 0, 0, 0, 0, 0, 0, 0, 0, 0, 0, 0, 0, 0, 0, 0, 0, 0, 0, 0, 0, 0, 0, 0, 0, 0, 0, 0, 0, 0, 0, 0, 0, 0, 0, 0, 0, 0, 0, 0, 0, 0, 0, 0, 0, 0, 0, 0, 0, 0, 0, 0, 0, 0, 0, 0, 0, 0, 0, 0, 0, 0, 0, 0, 0, 0, 0, 0, 0, 0, 0, 0, 0, 0, 0, 0, 0, 0, 0, 0, 0, 0, 0, 0, 0, 0, 0, 0, 0, 0, 0, 0, 0, 0, 0, 0, 0, 0, 0, 0, 0, 0, 0, 0, 0, 0, 0, 0, 0, 0, 0, 0, 0, 0, 0, 0, 0, 0, 0, 0, 0, 0, 0, 0, 0, 0, 0, 0, 0, 0, 0, 0, 0, 0, 0, 0, 0, 0, 0, 0, 0, 0, 0, 0, 0, 0, 0, 0, 0, 0, 0, 0, 0, 0, 0, 0, 0, 0, 0, 0, 0, 0, 0, 0, 0, 0, 0, 0, 0, 0, 0, 0, 0, 0, 0, 0, 0, 0, 0, 0, 0, 0, 0, 0, 0, 0, 0, 0, 0, 0, 0, 0, 0, 0, 0, 0, 0, 0, 0, 0, 0, 0, 0, 0, 0, 0, 0, 0, 0, 0, 0, 0, 0, 0, 0, 0, 0, 0, 0, 0, 0, 0, 0, 0, 0, 0, 0, 0, 0, 0, 0, 0, 0, 0, 0, 0, 0, 0, 0, 0, 0, 0, 0, 0, 0, 0, 0, 0, 0, 0, 0, 0, 0, 0, 0, 0, 0, 0, 0, 0, 0, 0, 0, 0, 0, 0, 0, 0, 0, 0, 0, 0, 0, 0, 0, 0, 0, 0, 0, 0, 0, 0, 0, 0, 0, 0, 0, 0, 0, 0, 0, 0, 0, 0, 0, 0, 0, 0, 0, 0, 0, 0, 0, 0, 0, 0, 0, 0, 0, 0, 0, 0, 0, 0, 0, 0, 0, 0, 0, 0, 0, 0, 0, 0, 0, 0, 0, 0, 0, 0, 0, 0, 0, 0, 0, 0, 0, 0, 0, 0, 0, 0, 0, 0, 0, 0, 0, 0, 0, 0, 0, 0, 0, 0, 0, 0, 0, 0, 0, 0, 0, 0, 0, 0, 0, 0, 0, 0, 0, 0, 0, 0, 0, 0, 0, 0, 0, 0, 0, 0, 0, 0, 0, 0, 0, 0, 0, 0, 0, 0, 0, 0, 0, 0, 0, 0, 0, 0, 0, 0, 0, 0, 0, 0, 0, 0, 0, 0, 0, 0, 0, 0, 0, 0, 0, 0, 0, 0, 0, 0, 0, 0, 0, 0, 0, 0, 0, 0, 0, 0, 0, 0, 0, 0, 0, 0, 0, 0, 0, 0, 0, 0, 0, 0, 0, 0, 0, 0, 0, 0, 0, 0, 0, 0, 0, 0, 0, 0, 0, 0, 0, 0, 0, 0, 0, 0, 0, 0, 0, 0, 0, 0, 0, 0, 0, 0, 0, 0, 0, 0, 0, 0, 0, 0, 0, 0, 0, 0, 0, 0, 0, 0, 0, 0, 0, 0, 0, 0, 0, 0, 0, 0, 0, 0, 0, 0, 0, 0, 0, 0, 0, 0, 0, 0, 0, 0, 0, 0, 0, 0, 0, 0, 0, 0, 0, 0, 0, 0, 0, 0, 0, 0, 0, 0, 0, 0, 0, 0, 0, 0, 0, 0, 0, 0, 0, 0, 0, 0, 0, 0, 0, 0, 0, 0, 0, 0, 0, 0, 0, 0, 0, 0, 0, 0, 0, 0, 0, 0, 0, 0, 0, 0, 0, 0, 0, 0, 0, 0, 0, 0, 0, 0, 0, 0, 0, 0, 0, 0, 0, 0, 0, 0, 0, 0, 0, 0, 0, 0, 0, 0, 0, 0, 0, 0, 0, 0, 0, 0, 0, 0, 0, 0, 0, 0, 0, 0, 0, 0, 0, 0, 0, 0, 0, 0, 0, 0, 0, 0, 0, 0, 0, 0, 0, 0, 0, 0, 0, 0, 0, 0, 0, 0, 0, 0, 0, 0, 0, 0, 0, 1, 0, 0, 0, 0, 0, 0, 0, 0, 0, 0, 0, 0, 0, 0, 0, 0, 0, 0, 0, 0, 0, 0, 0, 0, 0, 0, 0, 0, 0, 0, 0, 0, 0, 0, 0, 0, 0, 0, 0, 0, 0, 0, 0, 0, 0, 0, 0, 0, 0, 0, 0, 0, 0, 0, 0, 0, 0, 0, 0, 0, 0, 0, 0, 0, 0, 0, 0, 0, 0, 0, 0, 0, 0, 0, 1, 0, 0, 0, 0, 0, 0, 0, 0, 0, 0, 0, 0, 0, 0, 0, 0, 0, 0, 0, 0, 1, 0, 0, 1, 0, 0, 0, 0, 0, 0, 0, 0, 0, 0, 0, 0, 0, 0, 0, 0, 0, 0, 0, 0, 0, 0, 0, 0, 0, 0, 0, 0, 0, 0, 0, 0, 0, 0, 0, 0, 0, 0, 0, 0, 0, 0, 0, 0, 0, 0, 0, 0, 0, 0, 0, 0, 0, 0, 0, 0, 0, 0, 0, 0, 0, 0, 0, 0, 0, 0, 0, 0, 0, 0, 0, 0, 0, 0, 0, 0, 0, 0, 0, 0, 0, 0, 0, 0, 0, 0, 0, 0, 0, 0, 0, 0, 0, 0, 0, 0, 0, 0, 0, 0, 0, 0, 0, 0, 0, 0, 0, 0, 0, 0, 0, 0, 0, 0, 0, 0, 0, 0, 0, 0, 0, 0, 0, 0, 0, 0, 0, 0, 0, 0, 0, 0, 0, 0, 0, 0, 0, 0, 0, 0, 0, 0, 0, 0, 0, 0, 0, 0, 0, 0, 0, 0, 0, 0, 0, 0, 0, 0, 0, 0, 0, 0, 0, 0, 0, 0, 0, 0, 0, 0, 0, 0, 0, 0, 0, 0, 0, 0, 0, 0, 0, 0, 0, 0, 0, 0, 0, 0, 0, 0, 0, 0, 0, 0, 0, 0, 0, 0, 0, 0, 0, 0, 0, 0, 0, 0, 0, 0, 0, 0, 0, 0, 0, 0, 0, 0, 0, 0, 0, 0, 0, 0, 0, 0, 0, 0, 0, 0, 0, 0, 0, 0, 0, 0, 0, 0, 0, 0, 0, 0, 0, 0, 0, 0, 0, 0, 0, 0, 0, 0, 0, 0, 0, 0, 0, 0, 0, 0, 0, 0, 0, 0, 0, 0, 0, 0, 0, 0, 0, 0, 0, 0, 0, 0, 0, 0, 0, 0, 0, 0, 0, 0, 0, 0, 0, 0, 0, 0, 0, 0, 0, 0, 0, 0, 0, 0, 0, 0, 0, 0, 0, 0, 0, 0, 0, 0, 0, 0, 0, 0, 0, 0, 0, 0, 0, 0, 0, 0, 0, 0, 0, 0, 0, 0, 0, 0, 0, 0, 0, 0, 0, 0, 0, 0, 0, 0, 0, 0, 0, 0, 0, 0, 0, 0, 0, 0, 0, 0, 0, 0, 0, 0, 0, 0, 0, 0, 0, 0, 0, 0, 0, 0, 0, 0, 0, 0, 0, 0, 0, 0, 0, 0, 0, 0, 0, 0, 0, 0, 0, 0, 0, 0, 0, 0, 0, 0, 0, 0, 0, 0, 0, 0, 0, 0, 0, 0, 0, 0, 0, 0, 0, 0, 0, 0, 0, 0, 0, 0, 0, 0, 0, 0, 0, 0, 0, 0, 0, 0, 0, 0, 0, 0, 0, 0, 0, 0, 0, 0, 0, 0, 0, 0, 0, 0, 0, 0, 0, 0, 0, 0, 0, 0, 0, 0, 0, 0, 0, 0, 0, 0, 0, 0, 0, 0, 0, 0, 0, 0, 0, 0, 0, 0, 0, 0, 0, 0, 1, 0, 0, 0, 0, 0, 0, 0, 0, 0, 0, 0, 0, 0, 0, 0, 0, 0, 0, 0, 0, 0, 0, 0, 0, 0, 0, 0, 0, 0, 0, 0, 0, 0, 0, 0, 0, 0, 0, 0, 0, 0, 0, 0, 0, 0, 0, 0, 0, 0, 0, 0, 0, 0, 0, 0, 0, 0, 0, 0, 0, 0, 0, 0, 0, 0, 0, 0, 0, 0, 0, 0, 0, 0, 0, 0, 0, 0, 0, 0, 0, 0, 0, 0, 0, 0, 0, 0, 0, 0, 0, 0, 0, 0, 0, 0, 0, 0, 0, 0, 0, 0, 0, 0, 0, 0, 0, 0, 0, 0, 0, 0, 0, 0, 0, 0, 0, 0, 0, 0, 0, 0, 0, 0, 0, 0, 0, 0, 0, 0, 0, 0, 0, 0, 0, 0, 0, 0, 0, 0, 0, 0, 0, 0, 0, 0, 0, 0, 0, 0, 0, 0, 0, 0, 0, 0, 0, 0, 0, 0, 0, 0, 0, 0, 0, 0, 0, 0, 0, 0, 0, 0, 0, 0, 0, 0, 0, 0, 0, 0, 0, 0, 0, 0, 0, 0, 0, 0, 0, 0, 0, 0, 0, 0, 0, 0, 0, 0, 0, 0, 0, 0, 0, 0, 0, 0, 0, 0, 0, 0, 0, 0, 0, 0, 0, 0, 0, 0, 0, 0, 0, 0, 0, 0, 0, 0, 0, 0, 0, 0, 0, 0, 0, 0, 0, 0, 0, 0, 0, 0, 0, 0, 0, 0, 0, 0, 0, 0, 0, 0, 0, 0, 0, 0, 0, 0, 0, 0, 0, 0, 0, 0, 0, 0, 0, 0, 0, 0, 0, 0, 0, 0, 0, 0, 0, 0, 0, 0, 0, 0, 0, 0, 0, 0, 0, 0, 0, 0, 0, 0, 0, 0, 0, 0, 0, 0, 0, 0, 0, 0, 0, 0, 0, 0, 0, 0, 0, 0, 0, 0, 0, 0, 0, 0, 0, 0, 0, 0, 0, 0, 0, 0, 0, 0, 0, 0, 0, 0, 0, 0, 0, 0, 0, 0, 0, 0, 0, 0, 0, 0, 0, 0, 0, 0, 0, 0, 0, 0, 0, 0, 0, 0, 0, 0, 0, 0, 0, 0, 0, 0, 0, 0, 0, 0, 0, 0, 0, 0, 0, 0, 0, 0, 0, 0, 0, 0, 0, 0, 0, 0, 0, 0, 0, 0, 0, 0, 0, 0, 0, 0, 0, 0, 0, 0, 0, 0, 0, 0, 0, 0, 0, 0, 0, 0, 0, 0, 0, 0, 0, 0, 0, 0, 0, 0, 0, 0, 0, 0, 0, 0, 0, 0, 0, 0, 0, 0, 0, 0, 0, 0, 0, 0, 0, 0, 0, 0, 0, 0, 0, 0, 0, 0, 0, 0, 0, 0, 0, 0, 0, 0, 0, 0, 0, 0, 0, 0, 0, 0, 0, 0, 0, 0, 0, 0, 0, 0, 0, 0, 0, 0, 0, 0, 0, 0, 0, 0, 0, 0, 0, 0, 0, 0, 0, 0, 0, 0, 0, 0, 0, 0, 0, 0, 0, 0, 0, 0, 0, 0, 0, 0, 0, 0, 0, 0, 0, 0, 0, 0, 0, 0, 0, 0, 0, 1, 0, 0, 0, 0, 0, 0, 0, 0, 0, 0, 0, 0, 0, 0, 0, 0, 0, 0, 0, 0, 0, 0, 0, 0, 0, 0, 0, 0, 0, 0, 0, 0, 0, 0, 0, 2, 0, 0, 0, 0, 0, 0, 0, 0, 0, 0, 0, 0, 0, 0, 0, 0, 0, 0, 0, 0, 0, 0, 0, 0, 0, 0, 0, 0, 0, 0, 0, 0, 0, 0, 0, 0, 0, 0, 0, 0, 1, 0, 0, 0, 0, 0, 0, 0, 0, 0, 0, 0, 0, 0, 0, 0, 0, 0, 0, 0, 0, 0, 0, 0, 0, 0, 0, 0, 0, 0, 0, 0, 0, 0, 0, 0, 0, 0, 0, 0, 0, 0, 0, 0, 0, 0, 0, 0, 0, 0, 0, 0, 0, 0, 0, 0, 0, 0, 0, 0, 0, 0, 0, 0, 0, 0, 0, 0, 0, 0, 0, 0, 0, 0, 0, 0, 0, 0, 0, 0, 0, 0, 0, 0, 0, 0, 0, 0, 0, 0, 0, 0, 0, 0, 0, 0, 0, 0, 0, 0, 0, 0, 0, 0, 0, 0, 0, 0, 0, 0, 0, 0, 0, 0, 0, 0, 0, 0, 0, 0, 0, 0, 0, 0, 0, 0, 0, 0, 0, 0, 0, 0, 0, 0, 0, 0, 0, 0, 0, 0, 0, 0, 0, 0, 0, 0, 0, 0, 0, 0, 0, 0, 0, 0, 0, 0, 0, 0, 0, 0, 0, 0, 0, 0, 0, 0, 0, 0, 0, 0, 0, 0, 0, 0, 0, 0, 0, 0, 0, 0, 0, 0, 0, 0, 0, 0, 0, 0, 0, 0, 0, 0, 0, 0, 0, 0, 0, 0, 0, 0, 0, 0, 0, 0, 0, 0, 0, 0, 0, 0, 0, 0, 0, 0, 0, 0, 0, 0, 0, 0, 0, 0, 0, 0, 0, 0, 0, 0, 0, 0, 0, 0, 0, 0, 0, 0, 0, 0, 0, 0, 0, 0, 0, 0, 0, 0, 0, 0, 0, 0, 0, 0, 0, 0, 0, 0, 0, 0, 0, 0, 0, 0, 0, 0, 0, 0, 0, 0, 0, 0, 0, 0, 0, 0, 0, 0, 0, 0, 0, 0, 0, 0, 0, 0, 0, 0, 0, 0, 0, 0, 0, 0, 0, 0, 0, 0, 0, 0, 0, 0, 0, 0, 0, 0, 0, 0, 0, 0, 0, 0, 0, 0, 0, 0, 0, 0, 0, 0, 0, 0, 0, 0, 0, 0, 0, 0, 0, 0, 0, 0, 0, 0, 0, 0, 0, 0, 0, 0, 0, 0, 0, 0, 0, 0, 0, 0, 0, 0, 0, 0, 0, 0, 0, 0, 0, 0, 0, 0, 0, 0, 0, 0, 0, 0, 0, 0, 0, 0, 0, 0, 0, 0, 0, 0, 0, 0, 0, 0, 0, 0, 0, 0, 0, 0, 0, 0, 0, 0, 0, 0, 0, 0, 0, 0, 0, 0, 0, 0, 0, 0, 0, 0, 0, 0, 0, 0, 0, 0, 0, 0, 0, 0, 0, 0, 0, 0, 0, 0, 0, 0, 0, 0, 0, 0, 0, 0, 0, 0, 0, 0, 0, 0, 0, 0, 0, 0, 0, 0, 0, 0, 0, 0, 0, 0, 0, 0, 0, 0, 0, 0, 0, 0, 0, 0, 0, 0, 0, 0, 0, 0, 0, 0, 0, 0, 0, 0, 0, 0, 0, 0, 0, 0, 0, 0, 0, 0, 0, 0, 0, 0, 0, 0, 0, 0, 0, 0, 0, 0, 0, 0, 0, 0, 0, 0, 0, 0, 0, 0, 1, 0, 0, 0, 0, 0, 0, 0, 0, 0, 0, 0, 0, 0, 0, 0, 0, 0, 0, 0, 0, 0, 0, 0, 0, 0, 0, 0, 0, 0, 0, 0, 0, 0, 0, 0, 0, 0, 0, 0, 0, 0, 0, 0, 0, 0, 0, 0, 0, 0, 0, 0, 0, 0, 0, 0, 0, 0, 0, 0, 0, 0, 0, 0, 0, 0, 0, 0, 0, 0, 0, 0, 0, 0, 0, 0, 0, 0, 0, 0, 0, 0, 0, 0, 0, 0, 0, 0, 0, 0, 0, 0, 0, 0, 0, 0, 0, 0, 0, 0, 0, 0, 0, 0, 0, 0, 0, 0, 0, 0, 0, 2, 0, 0, 0, 0, 0, 0, 0, 0, 0, 0, 0, 0, 0, 0, 0, 0, 0, 0, 0, 0, 0, 0, 0, 0, 0, 0, 0, 0, 0, 0, 0, 0, 0, 0, 0, 0, 0, 0, 0, 0, 0, 0, 0, 0, 0, 0, 0, 0, 0, 0, 0, 0, 0, 0, 0, 0, 0, 0, 0, 0, 0, 0, 0, 0, 0, 0, 0, 0, 0, 0, 0, 0, 0, 0, 0, 0, 0, 0, 0, 0, 0, 0, 0, 0, 0, 0, 0, 0, 0, 0, 0, 0, 0, 0, 0, 0, 0, 0, 0, 0, 0, 0, 0, 0, 0, 0, 0, 0, 0, 0, 0, 0, 0, 0, 0, 0, 0, 0, 0, 0, 0, 0, 0, 0, 0, 0, 0, 0, 0, 0, 0, 0, 0, 0, 0, 0, 0, 0, 0, 0, 0, 0, 0, 0, 0, 0, 0, 0, 0, 0, 0, 0, 0, 0, 0, 0, 0, 0, 0, 0, 0, 0, 0, 0, 0, 0, 0, 0, 0, 0, 0, 0, 0, 0, 0, 0, 0, 0, 0, 0, 0, 0, 0, 0, 0, 0, 0, 0, 0, 0, 0, 0, 0, 0, 0, 0, 0, 0, 0, 0, 0, 0, 0, 0, 0, 0, 0, 0, 0, 0, 0, 0, 0, 0, 0, 0, 0, 0, 0, 0, 0, 0, 0, 0, 0, 0, 0, 0, 0, 0, 0, 0, 0, 0, 0, 0, 0, 0, 0, 0, 0, 0, 0, 0, 0, 0, 0, 0, 0, 0, 0, 0, 0, 0, 0, 0, 0, 0, 0, 0, 0, 0, 0, 0, 0, 0, 0, 0, 0, 0, 0, 0, 0, 0, 0, 0, 0, 0, 0, 0, 0, 0, 0, 0, 0, 0, 0, 0, 0, 0, 0, 0, 0, 0, 0, 0, 0, 0, 0, 0, 0, 0, 0, 0, 0, 0, 0, 0, 0, 0, 0, 0, 0, 0, 0, 0, 0, 0, 0, 0, 0, 0, 0, 0, 0, 0, 0, 0, 0, 0, 0, 0, 0, 0, 0, 0, 0, 0, 0, 0, 0, 0, 0, 0, 0, 0, 0, 0, 0, 0, 0, 0, 0, 0, 0, 0, 0, 0, 0, 0, 0, 0, 0, 0, 0, 0, 0, 0, 0, 0, 0, 0, 0, 0, 0, 0, 0, 0, 0, 0, 0, 0, 0, 0, 0, 0, 0, 0, 0, 0, 0, 0, 0, 0, 0, 0, 0, 0, 0, 0, 0, 0, 0, 0, 0, 0, 0, 0, 0, 0, 0, 0, 0, 0, 0, 0, 0, 0, 0, 0, 0, 0, 0, 0, 0, 0, 0, 0, 0, 0, 0, 0, 0, 0, 0, 0, 0, 0, 0, 0, 0, 0, 0, 0, 0, 0, 0, 0, 0, 0, 0, 0, 0, 0, 0, 0, 0, 0, 0, 0, 0, 0, 0, 0, 0, 0, 0, 0, 0, 0, 0, 0, 0, 0, 0, 0, 0, 0, 0, 0, 0, 0, 0, 0, 0, 0, 0, 0, 0, 0, 0, 0, 0, 0, 0, 0, 0, 0, 0, 0, 0, 0, 0, 0, 0, 0, 0, 0, 0, 0, 0, 0, 0, 0, 0, 0, 0, 0, 0, 0, 0, 0, 0, 0, 0, 0, 0, 0, 0, 0, 0, 0, 0, 0, 0, 0, 0, 0, 0, 0, 0, 0, 0, 0, 0, 0, 0, 0, 0, 0, 0, 0, 0, 0, 0, 0, 0, 0, 0, 0, 0, 0, 0, 0, 0, 0, 0, 0, 0, 0, 0, 0, 0, 0, 0, 0, 0, 0, 0, 0, 0, 0, 0, 0, 0, 0, 0, 0, 0, 0, 0, 0, 0, 0, 0, 0, 0, 0, 0, 0, 0, 0, 0, 0, 0, 0, 0, 0, 0, 0, 0, 0, 0, 0, 0, 0, 0, 0, 0, 0, 0, 0, 0, 0, 0, 0, 0, 0, 0, 0, 0, 0, 0, 0, 0, 0, 0, 0, 0, 0, 0, 0, 0, 0, 0, 0, 0, 0, 0, 0, 0, 0, 0, 0, 0, 0, 0, 0, 0, 0, 0, 0, 0, 0, 0, 0, 0, 0, 0, 0, 0, 0, 0, 0, 0, 0, 0, 0, 0, 0, 0, 0, 0, 0, 0, 0, 0, 0, 0, 0, 1, 0, 0, 0, 0, 0, 0, 0, 0, 0, 0, 0, 0, 0, 0, 0, 0, 0, 0, 0, 0, 0, 0, 0, 0, 0, 0, 0, 0, 0, 0, 0, 0, 0, 0, 0, 0, 0, 0, 0, 0, 0, 0, 0, 0, 0, 0, 0, 0, 0, 0, 0, 0, 0, 0, 0, 0, 0, 0, 0, 0, 0, 0, 0, 0, 0, 0, 0, 0, 0, 0, 0, 0, 0, 0, 0, 0, 0, 0, 0, 0, 0, 0, 0, 0, 0, 0, 0, 0, 0, 0, 0, 0, 0, 0, 0, 0, 0, 0, 0, 0, 0, 0, 0, 0, 0, 0, 0, 1, 0, 0, 0, 0, 0, 0, 0, 0, 0, 0, 0, 0, 0, 0, 0, 0, 0, 0, 0, 0, 0, 0, 0, 0, 0, 0, 0, 0, 0, 0, 0, 0, 0, 0, 0, 0, 0, 0, 0, 0, 0, 0, 0, 0, 0, 0, 0, 0, 0, 0, 0, 0, 0, 0, 0, 0, 0, 0, 0, 0, 0, 0, 0, 0, 0, 0, 0, 0, 0, 0, 0, 0, 0, 0, 0, 0, 0, 0, 0, 0, 0, 0, 0, 0, 0, 0, 0, 0, 0, 0, 0, 0, 0, 0, 0, 0, 0, 0, 0, 0, 0, 0, 0, 0, 0, 0, 0, 0, 0, 0, 0, 0, 0, 0, 0, 0, 0, 0, 0, 0, 0, 0, 0, 0, 0, 0, 0, 0, 0, 0, 0, 0, 0, 0, 0, 0, 0, 0, 0, 0, 0, 0, 0, 0, 0, 0, 0, 0, 0, 0, 0, 0, 0, 0, 0, 0, 0, 0, 0, 0, 0, 0, 0, 0, 0, 0, 0, 0, 0, 0, 0, 0, 0, 0, 0, 0, 0, 0, 0, 0, 0, 0, 0, 0, 0, 0, 0, 0, 0, 0, 0, 0, 0, 0, 0, 0, 0, 0, 0, 0, 0, 0, 0, 0, 0, 0, 0, 0, 0, 0, 0, 0, 0, 0, 0, 0, 0, 0, 0, 0, 0, 0, 0, 0, 0, 0, 0, 0, 0, 0, 0, 0, 0, 0, 0, 0, 0, 0, 0, 0, 0, 0, 0, 0, 0, 0, 0, 0, 0, 0, 0, 0, 0, 0, 0, 0, 0, 0, 0, 0, 0, 0, 0, 0, 0, 0, 0, 0, 0, 0, 0, 0, 0, 0, 0, 0, 0, 0, 0, 0, 0, 0, 0, 0, 0, 0, 0, 0, 0, 0, 0, 0, 0, 0, 0, 0, 0, 0, 0, 0, 0, 0, 0, 0, 0, 0, 0, 0, 0, 0, 0, 0, 0, 0, 0, 0, 0, 0, 0, 0, 0, 0, 0, 0, 0, 0, 0, 0, 0, 0, 0, 0, 0, 0, 0, 0, 0, 0, 0, 0, 0, 0, 0, 0, 0, 0, 0, 0, 0, 0, 0, 0, 0, 0, 0, 0, 0, 0, 0, 0, 0, 0, 0, 0, 0, 0, 0, 0, 0, 0, 0, 0, 0, 0, 0, 0, 0, 0, 0, 0, 0, 0, 0, 0, 0, 0, 0, 0, 0, 0, 0, 0, 0, 0, 0, 0, 0, 0, 0, 0, 0, 0, 0, 0, 0, 0, 0, 0, 0, 0, 0, 0, 0, 0, 0, 0, 0, 0, 0, 0, 0, 0, 0, 0, 0, 0, 0, 0, 0, 0, 0, 0, 0, 0, 0, 0, 0, 0, 0, 0, 0, 0, 0, 0, 0, 0, 0, 0, 0, 0, 0, 0, 0, 0, 0, 0, 0, 0, 0, 0, 0, 0, 0, 2, 0, 1, 0], type: <class 'list'>, valid types: <class 'bytes'>, <class 'bytearray'>, file-like object"
     ]
    }
   ],
   "source": [
    "# This doesn't work because the vectorized text\n",
    "# hasn't been serialized, as required.\n",
    "response = runtime.invoke_endpoint(EndpointName = xgb_predictor.endpoint, # The name of the endpoint we created\n",
    "                                       ContentType = 'text/csv',                     # The data format that is expected\n",
    "                                       Body = test_bow)"
   ]
  },
  {
   "cell_type": "markdown",
   "metadata": {},
   "source": [
    "So why did we get an error?\n",
    "\n",
    "Because we tried to send the endpoint a list of integers but it expected us to send data of type `text/csv`. So, we need to convert it."
   ]
  },
  {
   "cell_type": "code",
   "execution_count": 52,
   "metadata": {},
   "outputs": [
    {
     "name": "stderr",
     "output_type": "stream",
     "text": [
      "The endpoint attribute has been renamed in sagemaker>=2.\n",
      "See: https://sagemaker.readthedocs.io/en/stable/v2.html for details.\n"
     ]
    }
   ],
   "source": [
    "# We invoke the endpoint in the SageMaker runtime session we connected to,\n",
    "# i.e., we send and receive data from that endpoint-model\n",
    "# Recall that we need to pass the serialized vector as a text/string\n",
    "response = runtime.invoke_endpoint(EndpointName = xgb_predictor.endpoint, # The name of the endpoint we created\n",
    "                                       ContentType = 'text/csv',                     # The data format that is expected\n",
    "                                       Body = ','.join([str(val) for val in test_bow]).encode('utf-8'))"
   ]
  },
  {
   "cell_type": "code",
   "execution_count": 53,
   "metadata": {},
   "outputs": [
    {
     "name": "stdout",
     "output_type": "stream",
     "text": [
      "{'ResponseMetadata': {'RequestId': '80f31e90-9f22-460a-8ce0-92cbf6f8939c', 'HTTPStatusCode': 200, 'HTTPHeaders': {'x-amzn-requestid': '80f31e90-9f22-460a-8ce0-92cbf6f8939c', 'x-amzn-invoked-production-variant': 'AllTraffic', 'date': 'Wed, 23 Nov 2022 09:37:39 GMT', 'content-type': 'text/csv; charset=utf-8', 'content-length': '19'}, 'RetryAttempts': 0}, 'ContentType': 'text/csv; charset=utf-8', 'InvokedProductionVariant': 'AllTraffic', 'Body': <botocore.response.StreamingBody object at 0x7f59aae6b4c0>}\n"
     ]
    }
   ],
   "source": [
    "# The response is an HTML object\n",
    "# We need the Body object within it\n",
    "print(response)"
   ]
  },
  {
   "cell_type": "markdown",
   "metadata": {},
   "source": [
    "As we can see, the response from our model is a somewhat complicated looking dict that contains a bunch of information. The bit that we are most interested in is `'Body'` object which is a streaming object that we need to `read` in order to make use of."
   ]
  },
  {
   "cell_type": "code",
   "execution_count": 54,
   "metadata": {},
   "outputs": [
    {
     "name": "stdout",
     "output_type": "stream",
     "text": [
      "0.37377044558525085\n"
     ]
    }
   ],
   "source": [
    "# We extract the Body part of the response\n",
    "# THAT'S THE SENTIMENT SCORE!\n",
    "response = response['Body'].read().decode('utf-8')\n",
    "print(response)"
   ]
  },
  {
   "cell_type": "markdown",
   "metadata": {},
   "source": [
    "Now that we know how to process the incoming user data we can start setting up the infrastructure to make our simple web app work. To do this we will make use of two different services. Amazon's Lambda and API Gateway services.\n",
    "\n",
    "Lambda is a service which allows someone to write some relatively simple code and have it executed whenever a chosen trigger occurs. For example, you may want to update a database whenever new data is uploaded to a folder stored on S3.\n",
    "\n",
    "API Gateway is a service that allows you to create HTTP endpoints (url addresses) which are connected to other AWS services. One of the benefits to this is that you get to decide what credentials, if any, are required to access these endpoints.\n",
    "\n",
    "In our case we are going to set up an HTTP endpoint through API Gateway which is open to the public. Then, whenever anyone sends data to our public endpoint we will trigger a Lambda function which will send the input (in our case a review) to our model's endpoint and then return the result."
   ]
  },
  {
   "cell_type": "code",
   "execution_count": null,
   "metadata": {},
   "outputs": [],
   "source": [
    "# Terminate endpoint if not used\n",
    "xgb_predictor.delete_endpoint()"
   ]
  },
  {
   "cell_type": "markdown",
   "metadata": {},
   "source": [
    "### Setting up a Lambda function\n",
    "\n",
    "The first thing we are going to do is set up a Lambda function. This Lambda function will be executed whenever our public API has data sent to it. When it is executed it will receive the data, perform any sort of processing that is required, send the data (the review) to the SageMaker endpoint we've created and then return the result.\n",
    "\n",
    "#### Part A: Create an IAM Role for the Lambda function\n",
    "\n",
    "Since we want the Lambda function to call a SageMaker endpoint, we need to make sure that it has permission to do so. To do this, we will construct a role that we can later give the Lambda function.\n",
    "\n",
    "Using the AWS Console, navigate to the **IAM** page and click on **Roles**. Then, click on **Create role**. Make sure that the **AWS service** is the type of trusted entity selected and choose **Lambda** as the service that will use this role, then click **Next: Permissions**.\n",
    "\n",
    "In the search box type `sagemaker` and select the check box next to the **AmazonSageMakerFullAccess** policy. Then, click on **Next: Review**.\n",
    "\n",
    "Lastly, give this role a name. Make sure you use a name that you will remember later on, for example `LambdaSageMakerRole`. Then, click on **Create role**."
   ]
  },
  {
   "cell_type": "markdown",
   "metadata": {},
   "source": [
    "#### Part B: Create a Lambda function\n",
    "\n",
    "Now it is time to actually create the Lambda function. Remember from earlier that in order to process the user provided input and send it to our endpoint we need to gather two pieces of information:\n",
    "\n",
    " - The name of the endpoint, and\n",
    " - the vocabulary object.\n",
    "\n",
    "We will copy these pieces of information to our Lambda function after we create it.\n",
    "\n",
    "To start, using the AWS Console, navigate to the AWS Lambda page and click on **Create a function**. When you get to the next page, make sure that **Author from scratch** is selected. Now, name your Lambda function, using a name that you will remember later on, for example `sentiment_analysis_xgboost_func`. Make sure that the **Python 3.6** runtime is selected and then choose the role that you created in the previous part. Then, click on **Create Function**.\n",
    "\n",
    "On the next page you will see some information about the Lambda function you've just created. If you scroll down you should see an editor in which you can write the code that will be executed when your Lambda function is triggered. Collecting the code we wrote above to process a single review and adding it to the provided example `lambda_handler` we arrive at the following.\n",
    "\n",
    "```python\n",
    "# We need to use the low-level library to interact with SageMaker since the SageMaker API\n",
    "# is not available natively through Lambda.\n",
    "import boto3\n",
    "\n",
    "# And we need the regular expression library to do some of the data processing\n",
    "import re\n",
    "\n",
    "REPLACE_NO_SPACE = re.compile(\"(\\.)|(\\;)|(\\:)|(\\!)|(\\')|(\\?)|(\\,)|(\\\")|(\\()|(\\))|(\\[)|(\\])\")\n",
    "REPLACE_WITH_SPACE = re.compile(\"(<br\\s*/><br\\s*/>)|(\\-)|(\\/)\")\n",
    "\n",
    "def review_to_words(review):\n",
    "    words = REPLACE_NO_SPACE.sub(\"\", review.lower())\n",
    "    words = REPLACE_WITH_SPACE.sub(\" \", words)\n",
    "    return words\n",
    "    \n",
    "def bow_encoding(words, vocabulary):\n",
    "    bow = [0] * len(vocabulary) # Start by setting the count for each word in the vocabulary to zero.\n",
    "    for word in words.split():  # For each word in the string\n",
    "        if word in vocabulary:  # If the word is one that occurs in the vocabulary, increase its count.\n",
    "            bow[vocabulary[word]] += 1\n",
    "    return bow\n",
    "\n",
    "\n",
    "def lambda_handler(event, context):\n",
    "    \n",
    "    vocab = \"*** ACTUAL VOCABULARY GOES HERE ***\"\n",
    "    \n",
    "    words = review_to_words(event['body'])\n",
    "    bow = bow_encoding(words, vocab)\n",
    "\n",
    "    # The SageMaker runtime is what allows us to invoke the endpoint that we've created.\n",
    "    runtime = boto3.Session().client('sagemaker-runtime')\n",
    "\n",
    "    # Now we use the SageMaker runtime to invoke our endpoint, sending the review we were given\n",
    "    response = runtime.invoke_endpoint(EndpointName = '***ENDPOINT NAME HERE***',# The name of the endpoint we created\n",
    "                                       ContentType = 'text/csv',                 # The data format that is expected\n",
    "                                       Body = ','.join([str(val) for val in bow]).encode('utf-8')) # The actual review\n",
    "\n",
    "    # The response is an HTTP response whose body contains the result of our inference\n",
    "    result = response['Body'].read().decode('utf-8')\n",
    "    \n",
    "    # Round the result so that our web app only gets '1' or '0' as a response.\n",
    "    result = round(float(result))\n",
    "\n",
    "    return {\n",
    "        'statusCode' : 200,\n",
    "        'headers' : { 'Content-Type' : 'text/plain', 'Access-Control-Allow-Origin' : '*' },\n",
    "        'body' : str(result)\n",
    "    }\n",
    "```"
   ]
  },
  {
   "cell_type": "markdown",
   "metadata": {},
   "source": [
    "Once you have copy and pasted the code above into the Lambda code editor, replace the `**ENDPOINT NAME HERE**` portion with the name of the endpoint that we deployed earlier. You can determine the name of the endpoint using the code cell below."
   ]
  },
  {
   "cell_type": "code",
   "execution_count": 59,
   "metadata": {},
   "outputs": [
    {
     "name": "stderr",
     "output_type": "stream",
     "text": [
      "The endpoint attribute has been renamed in sagemaker>=2.\n",
      "See: https://sagemaker.readthedocs.io/en/stable/v2.html for details.\n"
     ]
    },
    {
     "data": {
      "text/plain": [
       "'xgboost-2022-11-23-12-04-57-086'"
      ]
     },
     "execution_count": 59,
     "metadata": {},
     "output_type": "execute_result"
    }
   ],
   "source": [
    "xgb_predictor.endpoint"
   ]
  },
  {
   "cell_type": "markdown",
   "metadata": {},
   "source": [
    "In addition, you will need to copy the vocabulary dict to the appropriate place in the code at the beginning of the `lambda_handler` method. The cell below prints out the vocabulary dict in a way that is easy to copy and paste."
   ]
  },
  {
   "cell_type": "code",
   "execution_count": 60,
   "metadata": {},
   "outputs": [
    {
     "name": "stdout",
     "output_type": "stream",
     "text": [
      "{'was': 4805, 'really': 3556, 'looking': 2648, 'forward': 1808, 'too': 4522, 'seeing': 3857, 'this': 4457, 'movie': 2926, 'as': 311, 'it': 2366, 'has': 2043, 'been': 438, 'must': 2950, 'see': 3855, 'for': 1784, 'people': 3221, 'that': 4424, 'love': 2669, 'movies': 2927, 'about': 67, 'nature': 2975, 'the': 4426, 'shows': 3960, 'different': 1248, 'and': 226, 'animals': 240, 'associated': 327, 'with': 4911, 'them': 4432, 'by': 642, 'starting': 4158, 'at': 331, 'north': 3036, 'going': 1931, 'down': 1335, 'south': 4087, 'progresses': 3426, 'footage': 1782, 'from': 1840, 'is': 2360, 'often': 3095, 'beautiful': 428, 'many': 2732, 'times': 4497, 'wondered': 4927, 'how': 2181, 'on': 3105, 'earth': 1403, 'they': 4442, 'could': 1007, 'have': 2052, 'taken': 4350, 'some': 4061, 'of': 3083, 'shots': 3950, 'under': 4639, 'water': 4816, 'or': 3124, 'in': 2257, 'sky': 4017, 'however': 2183, 'large': 2517, 'part': 3193, 'had': 2003, 'already': 197, 'seen': 3865, 'tv': 4610, 'series': 3890, 'planet': 3289, 'david': 1124, 'found': 1811, 'narration': 2965, 'to': 4507, 'be': 418, 'much': 2934, 'better': 472, 'than': 4420, 'an': 223, 'easier': 1405, 'scientific': 3817, 'detail': 1217, 'covers': 1024, 'his': 2118, 'instance': 2304, 'will': 4886, 'tell': 4395, 'you': 4986, 'sea': 3838, 'ideal': 2214, 'young': 4989, 'whale': 4857, 'because': 432, 'there': 4438, 'are': 285, 'few': 1700, 'good': 1937, 'low': 2676, 'doesnt': 1309, 'contain': 962, 'enough': 1491, 'support': 4303, 'very': 4723, 'like': 2599, 'etc': 1527, 'me': 2778, 'thats': 4425, 'important': 2247, 'difference': 1246, 'together': 4511, 'far': 1653, 'superior': 4300, 'voice': 4761, 'make': 2713, 'documentary': 1307, 'still': 4188, 'think': 4452, 'worth': 4953, 'watching': 4815, 'fact': 1621, 'its': 2370, 'understand': 4643, 'makes': 2716, 'interesting': 2325, 'children': 792, 'find': 1726, 'difficult': 1249, 'bad': 382, 'made': 2697, 'hollywood': 2137, 'acting': 99, 'story': 4207, 'simply': 3986, 'pathetic': 3210, 'direction': 1261, 'awful': 372, 'dont': 1324, 'any': 256, 'logic': 2638, 'behind': 447, 'trash': 4565, 'except': 1556, 'may': 2775, 'director': 1264, 'nothing': 3047, 'do': 1302, 'took': 4523, 'ten': 4399, 'minutes': 2859, 'realize': 3552, 'wasted': 4809, 'my': 2951, 'precious': 3366, 'thirty': 4456, 'filled': 1715, 'waste': 4808, 'more': 2904, 'time': 4495, 'life': 2592, 'crap': 1031, 'bet': 470, 'less': 2575, 'day': 1129, 'know': 2489, 'what': 4858, 'category': 718, 'falls': 1640, 'into': 2332, 'please': 3304, 'avoid': 363, 'all': 187, 'costs': 1004, 'just': 2437, 'anything': 260, 'even': 1533, 'bang': 393, 'your': 4991, 'head': 2057, 'against': 147, 'walls': 4783, 'but': 636, 'go': 1924, 'whilst': 4869, 'loved': 2670, 'haunted': 2050, 'house': 2178, 'such': 4268, 'susan': 4326, 'hills': 2109, 'book': 535, 'huge': 2185, 'punch': 3466, 'horrors': 2169, 'brilliant': 583, 'cast': 710, 'which': 4867, 'star': 4150, 'other': 3135, 'dramas': 1347, 'great': 1964, 'fantastic': 1651, 'setting': 3900, 'portrays': 3344, 'convincingly': 986, 'right': 3696, 'ingredients': 2289, 'viewer': 4738, 'powerful': 3360, 'ghost': 1902, 'wise': 4903, 'did': 1241, 'not': 3040, 'need': 2987, 'blood': 512, 'violence': 4747, 'gore': 1941, 'send': 3875, 'audience': 352, 'using': 4698, 'own': 3158, 'imagination': 2236, 'woman': 4921, 'black': 493, 'figure': 1711, 'fear': 1676, 'whose': 4877, 'presence': 3373, 'never': 3001, 'once': 3106, 'she': 3923, 'first': 1736, 'appears': 278, 'main': 2707, 'character': 758, 'arthur': 305, 'learns': 2553, 'unseen': 4678, 'mission': 2870, 'settle': 3902, 'estate': 1525, 'widow': 4883, 'dies': 1245, 'spends': 4107, 'nights': 3016, 'inside': 2297, 'her': 2085, 'dreary': 1356, 'home': 2142, 'he': 2056, 'him': 2110, 'days': 1130, 'scenes': 3811, 'unsettling': 4679, 'particularly': 3195, 'locked': 2637, 'room': 3735, 'opens': 3115, 'itself': 2371, 'turns': 4609, 'off': 3084, 'darkness': 1117, 'film': 1716, 'becomes': 434, 'put': 3480, 'yourself': 4993, 'shoes': 3941, 'efforts': 1433, 'shake': 3914, 'writer': 4968, 'puts': 3481, 'chilling': 794, 'example': 1553, 'being': 448, 'soldiers': 4054, 're': 3535, 'appearance': 274, 'one': 3107, 'eager': 1396, 'learn': 2550, 'meaning': 2780, 'we': 4823, 'leaves': 2556, 'most': 2909, 'looks': 2649, 'vicious': 4728, 'scene': 3809, 'after': 143, 'sent': 3880, 'who': 4871, 'out': 3141, 'nowhere': 3056, 'isolated': 2363, 'land': 2511, 'wind': 4893, 'having': 2054, 'myself': 2953, 'can': 665, 'appreciate': 279, 'perhaps': 3235, 'horrible': 2163, 'things': 4451, 'ive': 2372, 'wish': 4904, 'watch': 4811, 'show': 3953, 'elderly': 1440, 'relatives': 3601, 'up': 4683, 'night': 3013, 'thinking': 4453, 'sleep': 4024, 'lost': 2660, 'gem': 1877, 'agree': 155, 'extent': 1605, 'internet': 2327, 'hype': 2207, 'totally': 4532, 'why': 4878, 'were': 4848, 'disappointed': 1273, 'spending': 4106, 'best': 469, '50': 51, 'hidden': 2096, 'films': 1721, 'these': 4441, 'over': 3148, 'exposed': 1598, 'acted': 98, 'consider': 949, 'greatest': 1966, 'last': 2521, 'century': 736, 'isnt': 2362, 'single': 3996, 'id': 2212, 'place': 3282, 'list': 2617, 'favorite': 1671, 'thing': 4450, 'run': 3755, 'through': 4477, 'dvd': 1391, 'player': 3298, 'five': 1743, 'years': 4979, 'patient': 3211, 'moments': 2887, 'works': 4945, 'incredibly': 2270, 'calm': 655, 'intelligent': 2314, 'sides': 3967, 'material': 2766, 'would': 4957, 'british': 589, 'production': 3419, 'since': 3990, 'everything': 1544, 'american': 213, 'corporate': 998, 'culture': 1079, 'quiet': 3492, 'no': 3020, 'focus': 1766, 'content': 966, 'approach': 282, 'here': 2086, 'say': 3799, 'liked': 2600, 'only': 3110, 'popular': 3333, 'favorites': 1672, 'everyone': 1542, 'page': 3167, 'should': 3951, 'personal': 3240, 'specific': 4099, 'reasons': 3560, 'godfather': 1927, 'clue': 864, 'ideas': 2215, 'explored': 1595, 'their': 4431, 'if': 2222, 'does': 1308, 'compelling': 916, 'involved': 2346, 'topic': 4526, 'generous': 1886, 'interviews': 2330, 'decade': 1144, 'negative': 2991, 'note': 3044, 'when': 4862, 'hes': 2093, 'excited': 1561, 'obscure': 3068, 'rather': 3528, 'teaching': 4377, 'something': 4066, 'well': 4843, 'established': 1524, 'history': 2121, 'those': 4460, 'three': 4469, 'bridge': 578, 'nose': 3037, 'distracting': 1297, 'mess': 2818, 'western': 4853, 'collection': 874, 'supposedly': 4307, 'tied': 4489, 'telling': 4396, 'brought': 600, 'hunt': 2198, 'powers': 3361, 'john': 2409, 'cameron': 661, 'brings': 587, 'role': 3726, 'skip': 4016, 'unless': 4669, 'every': 1539, 'excuse': 1564, 'central': 735, 'idea': 2213, 'others': 3136, 'self': 3869, 'various': 4715, 'levels': 2585, 'mainly': 2708, 'sometimes': 4067, 'throughout': 4478, 'french': 1830, 'border': 539, 'where': 4864, 'leads': 2548, 'nightmare': 3014, 'body': 527, 'heart': 2064, 'half': 2007, 'himself': 2111, 'returning': 3667, 'ancient': 225, 'hope': 2155, 'past': 3207, 'overall': 3150, 'tone': 4517, 'bitter': 491, 'full': 1846, 'sense': 3877, 'failure': 1629, 'quite': 3495, 'grim': 1974, 'picture': 3269, 'old': 3100, 'age': 148, 'lonely': 2643, 'images': 2235, 'convey': 982, 'passing': 3204, 'desire': 1205, 'explicit': 1591, 'devoid': 1230, 'humor': 2192, 'though': 4461, 'kind': 2476, 'play': 3296, 'forget': 1793, 'depth': 1190, 'leave': 2555, 'door': 1328, 'funny': 1852, 'ultra': 4629, 'campy': 664, 'live': 2625, 'action': 100, 'cartoon': 704, 'mystery': 2956, 'men': 2805, 'superhero': 4299, 'flick': 1754, 'youve': 4995, 'ever': 1538, 'unlikely': 4671, 'super': 4295, 'so': 4046, 'memorable': 2802, 'characters': 760, 'dark': 1115, 'downright': 1337, 'touching': 4536, 'moment': 2886, 'two': 4620, 'combine': 884, 'comic': 893, 'fantasy': 1652, 'lovable': 2668, 'losers': 2656, 'true': 4596, 'winner': 4897, 'comedic': 888, 'talents': 4356, 'actors': 104, 'playing': 3300, 'including': 2264, 'perfect': 3224, 'wes': 4851, 'described': 1195, 'bargain': 400, 'basement': 405, 'rush': 3759, 'wall': 4781, 'charming': 768, 'villains': 4745, 'walk': 4775, 'pages': 3168, 'horse': 2170, 'onto': 3111, 'big': 478, 'screen': 3829, 'get': 1899, 'ready': 3546, 'laugh': 2529, 'huh': 2187, 'enjoy': 1484, 'bette': 471, 'concert': 935, 'gives': 1914, 'stage': 4139, 'whether': 4866, 'laughing': 2533, 'jokes': 2415, 'antics': 255, 'our': 3139, 'eyes': 1613, 'tremendous': 4579, 'moves': 2925, 'cant': 671, 'way': 4820, 'then': 4436, 'next': 3007, 'look': 2646, 'incredible': 2269, 'changed': 750, 'power': 3359, 'correct': 1000, 'version': 4720, 'stay': 4166, 'loses': 2657, 'spirit': 4113, 'rose': 3739, 'madness': 2698, 'pure': 3471, 'treasure': 4571, 'long': 2644, 'hollow': 2135, 'typical': 4623, '1950s': 14, 'teens': 4392, 'horror': 2168, 'science': 3816, 'fiction': 1702, 'plot': 3309, 'concerns': 934, 'group': 1980, 'kicked': 2461, 'hot': 2174, 'club': 863, 'cannot': 670, 'meet': 2793, 'rent': 3626, 'decide': 1148, 'try': 4600, 'saving': 3797, 'grace': 1950, 'paul': 3214, 'creature': 1045, 'suit': 4284, 'work': 4940, 'monster': 2892, 'played': 3297, 'wonder': 4926, 'fun': 1848, 'lucky': 2683, 'during': 1387, 'brief': 579, 'theatrical': 4430, 'laughed': 2532, 'heads': 2059, 'im': 2232, 'tape': 4365, 'type': 4621, 'also': 199, 'got': 1944, 'sweet': 4336, 'side': 3965, 'unexpected': 4650, 'genuine': 1891, 'late': 2523, 'royal': 3746, 'especially': 1520, 'effective': 1429, 'luck': 2681, 'richards': 3687, 'anderson': 227, 'lead': 2545, 'kids': 2467, 'suits': 4287, 'although': 201, 'limited': 2606, 'job': 2405, 'another': 250, 'background': 380, 'details': 1219, 'references': 3583, 'take': 4349, 'costumes': 1006, 'wearing': 4831, 'marty': 2749, 'costume': 1005, 'third': 4455, 'fourth': 1813, 'thriller': 4472, 'pleasantly': 3303, 'surprised': 4313, 'told': 4513, 'flashback': 1746, 'otherwise': 3137, 'normal': 3033, 'happy': 2032, 'family': 1645, 'bizarre': 492, 'without': 4913, 'whole': 4873, 'sorry': 4076, 'youll': 4988, 'least': 2554, 'players': 3299, 'bill': 481, 'directing': 1260, 'awesome': 371, 'solid': 4057, 'fits': 1741, 'perfectly': 3226, 'dad': 1095, 'crazy': 1035, 'god': 1926, 'demons': 1178, 'exist': 1569, 'wrong': 4973, 'anyway': 261, 'thus': 4486, 'recommend': 3571, '10': 0, 'deserves': 1201, 'second': 3846, 'viewing': 4740, 'gandhi': 1866, 'father': 1666, 'light': 2595, 'relationship': 3597, 'between': 475, 'son': 4070, 'dramatic': 1348, 'attempts': 343, 'pity': 3281, 'fails': 1628, 'boring': 543, 'lesson': 2577, 'school': 3813, 'now': 3054, 'point': 3316, 'attempt': 340, 'fair': 1630, 'person': 3238, 'ended': 1470, 'examples': 1554, 'given': 1913, 'england': 1482, 'twice': 4613, 'instead': 2307, 'showing': 3958, 'us': 4690, 'exactly': 1551, 'dealt': 1138, 'went': 4847, 'along': 195, 'letting': 2583, 'witness': 4914, 'growing': 1983, 'feels': 1687, 'towards': 4540, 'finally': 1724, 'comes': 891, 'trying': 4601, 'became': 431, 'rebel': 3561, 'turned': 4606, 'back': 378, 'again': 146, 'busy': 635, 'focusing': 1769, 'freedom': 1828, 'struggle': 4234, 'familiar': 1643, 'promises': 3432, 'set': 3898, 'begin': 442, 'early': 1400, 'conflict': 939, 'merely': 2815, 'says': 3801, 'opposed': 3122, 'marriage': 2743, 'husband': 2204, 'constantly': 958, 'schools': 3814, 'africa': 141, 'making': 2718, 'needed': 2988, 'words': 4938, 'theme': 4433, 'versus': 4722, 'goes': 1930, 'impact': 2244, 'meant': 2784, 'yet': 4984, 'seems': 3864, 'almost': 193, 'events': 1536, 'leading': 2547, 'basic': 406, 'premise': 3370, 'problem': 3408, 'certainly': 738, 'confused': 941, 'happens': 2029, 'death': 1141, 'suddenly': 4273, 'none': 3028, 'questions': 3489, 'basically': 407, 'relationships': 3598, 'immensely': 2243, 'directed': 1259, 'khan': 2459, 'disappointment': 1275, 'struggles': 4235, 'filmmakers': 1720, 'ambitious': 211, 'intention': 2319, 'practically': 3362, 'each': 1395, 'positive': 3346, 'filmmaker': 1719, 'effort': 1432, 'deliver': 1169, 'narrative': 2966, 'hard': 2033, 'judging': 2425, 'either': 1438, 'painting': 3175, 'neither': 2996, 'villain': 4744, 'clear': 839, 'nation': 2969, 'shines': 3932, 'wonderful': 4928, 'performance': 3228, 'easy': 1410, 'virtually': 4751, 'entire': 1502, 'rare': 3523, 'innocence': 2293, 'succeeds': 4264, 'discovers': 1281, 'dead': 1132, 'realise': 3548, 'language': 2516, 'alone': 194, 'meanwhile': 2785, 'plays': 3301, 'later': 2525, 'man': 2721, 'gifted': 1907, 'whos': 4876, 'torn': 4528, 'shes': 3930, 'unable': 4631, 'bring': 585, 'across': 96, 'feeling': 1685, 'fault': 1668, 'script': 3834, 'gone': 1935, 'evident': 1547, 'suffers': 4278, 'inevitable': 2282, 'flaw': 1749, 'eventually': 1537, 'remember': 3616, 'cinema': 816, 'sincere': 3991, 'yes': 4982, 'done': 1322, 'screenplay': 3831, 'unhappy': 4656, 'anime': 243, 'knows': 2493, 'entertain': 1497, 'comedy': 890, 'teenager': 4390, 'boy': 557, 'expert': 1585, 'martial': 2747, 'arts': 310, 'engaged': 1480, 'both': 547, 'fathers': 1667, 'friends': 1837, 'trained': 4557, 'younger': 4990, 'violent': 4748, 'sister': 4001, 'middle': 2833, 'loves': 2674, 'win': 4892, 'money': 2888, 'matter': 2769, 'fight': 1707, 'discover': 1279, 'girl': 1909, 'cold': 872, 'new': 3003, 'situations': 4009, 'starts': 4159, 'happen': 2026, 'reason': 3557, 'transformation': 4560, 'while': 4868, 'fighting': 1709, 'fell': 1690, 'river': 3707, 'fate': 1665, 'watched': 4813, 'hands': 2020, 'columbo': 881, 'downhill': 1336, 'year': 4978, 'reached': 3537, 'bottom': 551, 'peter': 3247, 'falk': 1636, 'same': 3778, 'uninspired': 4657, 'creepy': 1052, 'usual': 4699, 'crime': 1055, 'always': 203, 'lacking': 2504, 'brenda': 575, 'scenery': 3810, 'pulls': 3464, 'faces': 1618, 'andrew': 228, 'pretty': 3384, 'unconvincing': 4638, 'numbers': 3061, 'delivery': 1173, 'left': 2561, 'memories': 2803, 'clever': 841, 'plots': 3310, 'scripts': 3836, 'sharp': 3922, 'case': 707, 'directors': 1266, 'reading': 3544, 'comments': 901, 'offer': 3087, 'advice': 133, 'free': 1827, 'charge': 761, 'viewers': 4739, 'perspective': 3245, 'want': 4788, 'serious': 3891, 'exotic': 1574, 'adventure': 130, 'spoof': 4127, 'ahead': 159, 'goofy': 1939, 'relief': 3605, 'killed': 2469, 'following': 1774, 'monkey': 2890, 'tree': 4576, 'dropping': 1371, 'wanted': 4789, 'cheap': 774, 'couple': 1016, 'smart': 4035, 'nudity': 3059, 'shower': 3957, 'hardly': 2036, 'trouble': 4592, 'forgotten': 1797, 'existence': 1571, 'worst': 4952, 'cute': 1090, 'kiss': 2483, 'admit': 122, 'legs': 2566, 'actually': 109, 'delightful': 1168, 'course': 1019, 'theres': 4440, 'unfortunate': 4653, 'aspect': 321, 'purchased': 3470, '100': 1, 'classics': 837, 'mill': 2845, 'entertainment': 1500, 'video': 4733, 'quality': 3484, 'heard': 2062, 'release': 3602, 'contrast': 975, 'bit': 488, 'high': 2100, 'lot': 2661, 'seem': 3861, 'dancing': 1107, 'white': 4870, 'dress': 1357, 'suppose': 4305, 'imagine': 2238, 'looked': 2647, 'sets': 3899, 'sort': 4077, 'dr': 1340, 'romance': 3732, 'sappy': 3784, 'contrived': 976, 'melodramatic': 2798, 'poor': 3328, 'miserable': 2863, 'lives': 2628, 'wait': 4770, 'am': 204, 'sucks': 4271, 'oh': 3096, 'hell': 2077, 'recently': 3567, 'generation': 1883, 'born': 544, 'luckily': 2682, 'borrowed': 545, 'cried': 1054, 'capture': 676, 'emotions': 1461, 'class': 833, 'warmth': 4796, 'human': 2188, 'spoken': 4126, 'accurate': 90, 'colour': 880, 'bomb': 531, 'heavy': 2070, 'rescue': 3643, 'couldnt': 1008, 'relatively': 3600, 'village': 4743, 'war': 4792, 'london': 2641, 'presented': 3376, 'lived': 2626, '40': 48, 'jack': 2373, 'expect': 1575, 'beyond': 476, 'facts': 1624, 'touched': 4534, 'deep': 1154, 'value': 4709, 'spots': 4132, 'career': 686, 'known': 2492, 'magnificent': 2705, 'copies': 992, 'hopes': 2159, 'fashioned': 1660, 'alice': 182, 'realized': 3553, 'getting': 1901, 'terms': 4406, 'aside': 315, 'answer': 251, 'whoever': 4872, 'said': 3774, 'joke': 2414, 'seemed': 3862, 'somebody': 4062, 'tales': 4357, 'reviewers': 3678, 'previously': 3388, 'read': 3543, 'green': 1971, 'actual': 108, 'brain': 562, 'responsible': 3656, 'give': 1912, 'maybe': 2776, 'youd': 4987, 'away': 369, 'atrocious': 335, 'performances': 3229, 'terrible': 4407, 'offensive': 3086, 'start': 4156, 'finish': 1732, 'amateurish': 207, 'pay': 3216, 'usually': 4700, 'write': 4967, 'detailed': 1218, 'review': 3676, 'suffice': 4279, 'let': 2579, 'talking': 4360, 'lowest': 2678, 'common': 906, 'unfunny': 4655, 'attack': 337, 'top': 4525, 'believe': 454, '30': 42, '70': 55, 'lena': 2568, 'walking': 4779, 'around': 297, 'stupid': 4247, 'face': 1616, 'actions': 101, '20': 29, 'little': 2624, 'tiny': 4500, 'end': 1468, 'lol': 2640, 'mention': 2810, 'slow': 4031, 'forever': 1792, 'guys': 2001, 'complain': 919, 'living': 2629, 'system': 4345, 'repeat': 3630, '35': 45, 'cinematic': 818, 'brilliance': 582, 'beginning': 443, 'sum': 4289, 'hooked': 2153, 'de': 1131, 'doo': 1325, 'soundtrack': 4085, 'laid': 2508, 'bed': 436, 'rain': 3506, 'flat': 1748, 'tonight': 4519, 'soft': 4051, 'cat': 713, 'comfortable': 892, 'blob': 507, 'steve': 4181, 'queen': 3485, 'cops': 993, 'thumbs': 4485, 'guessing': 1991, 'writers': 4969, 'dickens': 1240, 'novel': 3052, 'based': 404, 'poorly': 3329, 'written': 4972, 'possibly': 3351, 'adaptation': 113, 'likely': 2601, 'else': 1448, 'randomly': 3515, 'rest': 3657, 'random': 3514, 'someones': 4065, 'grade': 1951, 'english': 1483, 'received': 3564, 'failing': 1627, 'casting': 711, 'eg': 1434, 'delivered': 1170, 'lines': 2612, 'possible': 3350, 'ham': 2011, 'complete': 921, 'expecting': 1578, 'angry': 238, 'pitch': 3279, 'mob': 2879, 'clown': 862, 'mr': 2929, 'terror': 4412, 'vampire': 4711, 'street': 4216, 'actor': 103, 'older': 3101, 'wished': 4905, 'mirror': 2861, 'indeed': 2271, 'convince': 983, 'writing': 4971, 'subject': 4253, 'gross': 1978, 'wit': 4908, 'producers': 3416, 'embarrassment': 1455, 'unnecessary': 4672, 'somewhere': 4069, '18': 10, 'choose': 799, 'showdown': 3955, 'wife': 4884, 'didnt': 1242, 'sidney': 3968, 'famous': 1647, 'worse': 4951, 'might': 2835, 'literally': 2622, 'thousands': 4466, 'small': 4033, 'literature': 2623, 'art': 304, 'anyone': 259, 'watches': 4814, 'runs': 3757, 'risk': 3704, 'severe': 3906, 'damage': 1099, 'aspects': 322, 'ok': 3098, 'parts': 3199, 'lame': 2510, 'exceptionally': 1559, 'justify': 2439, 'impressed': 2251, 'kay': 2447, 'singer': 3993, 'meets': 2795, 'thought': 4462, 'keep': 2449, 'staring': 4152, 'word': 4937, 'strong': 4229, 'definitely': 1162, 'proved': 3446, 'worthy': 4956, 'alongside': 196, 'guy': 2000, 'roles': 3727, 'reviews': 3679, 'imdb': 2240, 'entry': 1504, 'angle': 236, 'whats': 4860, 'completely': 922, 'fairly': 1631, 'cool': 989, 'biggest': 480, 'fan': 1648, 'world': 4946, 'spot': 4131, 'considering': 952, 'bollywood': 530, 'inspired': 2301, 'escape': 1517, 'fox': 1814, 'killing': 2472, 'hearts': 2066, 'added': 116, 'sex': 3907, 'add': 115, 'gets': 1900, 'accidentally': 85, 'walks': 4780, 'aunt': 355, 'beating': 425, 'bedroom': 437, 'window': 4894, 'wants': 4791, 'topless': 4527, 'smiling': 4037, 'closing': 859, 'pilot': 3276, 'grown': 1984, 'boys': 559, 'driven': 1365, 'impossible': 2249, 'mainstream': 2709, 'come': 886, 'close': 853, 'count': 1010, 'hand': 2015, 'surprise': 4312, 'appeal': 271, 'strip': 4228, 'bathroom': 412, 'network': 3000, 'stuff': 4243, 'jail': 2376, 'doubt': 1332, '13': 4, 'episodes': 1508, 'filmed': 1717, 'aired': 165, 'move': 2921, 'burning': 627, 'remaining': 3610, 'midnight': 2834, 'ironic': 2355, 'originally': 3131, 'target': 4366, 'apart': 264, 'general': 1880, 'features': 1680, 'running': 3756, 'flesh': 1753, '2000': 30, 'horribly': 2164, 'dated': 1119, 'music': 2946, 'mile': 2842, 'minute': 2858, 'shame': 3918, 'dirty': 1268, 'rip': 3700, 'theyre': 4445, 'camera': 659, 'physically': 3263, 'sick': 3963, 'round': 3742, 'strange': 4211, 'accents': 79, 'points': 3319, 'paid': 3169, 'partner': 3198, 'paint': 3173, 'interpretation': 2328, 'choices': 798, 'swimming': 4338, 'supposed': 4306, 'car': 680, 'guess': 1989, 'feel': 1684, 'youre': 4992, 'simple': 3983, 'minded': 2850, 'streep': 4215, 'display': 1291, 'sure': 4308, 'execution': 1566, 'rate': 3526, 'drama': 1346, 'saw': 3798, 'scottish': 3825, 'tough': 4537, 'ruined': 3751, 'experience': 1580, 'gave': 1875, 'used': 4693, 'subtitles': 4259, 'excellent': 1555, 'spectacular': 4101, 'reminded': 3619, 'involving': 2349, 'tale': 4353, 'evil': 1548, 'vs': 4767, 'tim': 4494, 'jobs': 2406, 'arrogant': 303, 'irritating': 2359, 'nasty': 2968, 'critics': 1064, 'mans': 2730, 'hero': 2088, 'jessica': 2398, 'female': 1693, 'draws': 1352, 'prepared': 3371, 'emotional': 1459, 'robert': 3713, 'gratuitous': 1961, 'murder': 2939, 'paper': 3183, 'sounds': 4084, 'entertaining': 1499, 'incoherent': 2265, 'vague': 4705, 'cult': 1077, 'follows': 1775, 'daughter': 1121, 'local': 2634, 'christian': 808, 'kill': 2468, 'heroine': 2091, 'dream': 1354, 'sequences': 3888, 'erotic': 1515, 'encounters': 1467, 'makers': 2715, 'whatever': 4859, 'buried': 624, 'fake': 1635, 'arent': 288, 'actress': 105, 'talented': 4355, 'attractive': 351, 'criminal': 1057, 'australian': 357, 'ratings': 3530, 'guide': 1993, 'front': 1841, 'vhs': 4725, 'came': 656, 'sitting': 4007, 'latest': 2526, 'fest': 1696, 'offered': 3088, 'starring': 4154, 'miller': 2846, 'problems': 3409, 'police': 3322, 'refuses': 3587, 'outside': 3146, 'met': 2822, 'calls': 654, 'mom': 2885, 'claim': 828, 'buy': 640, 'yeah': 4977, 'call': 651, 'disappear': 1270, 'cars': 702, 'road': 3709, 'space': 4090, 'concept': 930, 'hour': 2176, 'entertained': 1498, '60': 53, 'clearly': 840, 'air': 164, 'places': 3284, 'whom': 4875, 'dialogue': 1234, 'improve': 2254, 'lots': 2662, 'supernatural': 4302, 'elements': 1443, 'response': 3654, 'ultimately': 4628, 'started': 4157, 'abandoned': 62, 'endless': 1473, 'moving': 2928, 'remain': 3609, 'cynical': 1093, 'pile': 3275, 'garbage': 1870, 'animation': 242, 'skills': 4014, 'creativity': 1042, 'storytelling': 4209, 'ability': 65, 'coming': 896, 'major': 2711, 'studio': 4240, 'motivation': 2914, 'disney': 1289, 'lack': 2502, 'control': 977, 'allowed': 190, 'speaks': 4096, 'desperation': 1210, 'short': 3946, 'restored': 3659, 'baby': 376, 'barbara': 397, 'stanwyck': 4149, 'till': 4493, 'caught': 722, 'lily': 2605, '14': 6, 'blows': 517, 'leaving': 2557, 'nicely': 3009, 'harris': 2038, 'city': 825, 'york': 4985, 'use': 4692, 'style': 4249, 'ground': 1979, 'floor': 1759, 'proceeds': 3411, 'candy': 668, 'kills': 2474, 'near': 2979, 'law': 2538, 'daddy': 1096, 'suicide': 4283, 'barely': 399, 'terrific': 4409, 'paris': 3189, 'george': 1893, 'marry': 2745, 'financial': 1725, 'nearly': 2981, 'million': 2847, 'realizes': 3554, 'court': 1020, 'pre': 3365, 'code': 869, 'original': 3129, 'sin': 3988, 'ignored': 2225, 'romantic': 3733, 'belief': 451, 'highly': 2105, 'recommended': 3572, 'bourne': 554, 'identity': 2217, 'arrived': 301, 'ago': 154, 'storyline': 4208, 'scenario': 3808, 'expected': 1577, 'trailers': 4555, 'numerous': 3062, 'amazing': 209, 'bite': 489, 'tongue': 4518, 'until': 4680, 'months': 2897, 'damn': 1100, 'intentions': 2321, 'decided': 1149, 'before': 440, 'decisions': 1152, 'bought': 552, 'slick': 4026, 'packed': 3166, 'thrilling': 4474, 'pieces': 3273, 'line': 2610, 'today': 4508, 'disappoint': 1272, 'matt': 2768, 'damon': 1101, 'favourite': 1673, 'appeared': 276, 'change': 749, 'caring': 691, 'hoping': 2160, 'finds': 1728, 'intensity': 2317, 'extremely': 1610, 'believable': 453, 'supporting': 4304, 'absolutely': 72, 'outstanding': 3147, 'joan': 2404, 'allen': 188, 'herself': 2092, 'superbly': 4297, 'julia': 2427, 'underrated': 4642, 'decent': 1147, 'weve': 4856, 'truly': 4597, 'superb': 4296, 'special': 4097, 'albert': 174, 'trust': 4598, 'highlights': 2104, 'trilogy': 4586, 'lacks': 2505, 'loads': 2633, 'nice': 3008, 'notice': 3048, 'certain': 737, 'final': 1722, 'imagined': 2239, 'wont': 4932, 'spoil': 4121, 'checking': 778, 'unfortunately': 4654, 'purely': 3472, 'lying': 2690, 'chases': 771, 'mini': 2854, 'chase': 769, 'kicks': 2463, 'sequence': 3887, 'ups': 4686, 'brutal': 603, 'foot': 1781, 'unforgettable': 4652, 'highlight': 2103, 'station': 4164, 'ruin': 3750, 'flaws': 1752, 'previous': 3387, 'wouldnt': 4958, 'fans': 1650, 'sticks': 4186, 'franchise': 1817, 'adds': 119, 'undoubtedly': 4648, 'blockbuster': 509, '2007': 37, 'james': 2378, 'bond': 532, 'majority': 2712, 'takes': 4351, 'equal': 1509, 'chinese': 796, 'hong': 2149, 'kong': 2494, 'infamous': 2284, 'disappeared': 1271, 'knew': 2486, 'rough': 3741, 'wasnt': 4807, 'hit': 2122, 'knock': 2488, 'judge': 2424, 'lawyer': 2541, 'threatening': 4468, 'within': 4912, 'fast': 1661, 'several': 3905, 'officers': 3093, 'race': 3499, 'catch': 714, 'escapes': 1519, 'stops': 4203, 'chance': 747, 'breath': 573, 'intense': 2316, 'proves': 3447, 'track': 4544, 'hide': 2097, 'women': 4923, 'raped': 3522, 'helps': 2082, 'saves': 3796, 'keeps': 2451, 'speed': 4103, 'incident': 2260, 'location': 2635, 'filming': 1718, 'photography': 3260, 'breathtaking': 574, 'ending': 1471, 'unbelievable': 4634, 'fitting': 1742, 'nonsense': 3030, 'dog': 1310, 'eat': 1411, 'needs': 2990, 'initially': 2291, 'cover': 1022, 'hey': 2095, 'appear': 273, 'number': 3060, 'song': 4071, 'introduce': 2336, '15': 7, 'mothers': 2912, 'harsh': 2040, 'occurs': 3078, 'drunken': 1376, 'dreams': 1355, 'sexy': 3911, 'dressed': 1358, 'begins': 444, 'title': 4504, 'loosely': 2651, 'plain': 3286, 'smoking': 4040, 'miss': 2866, 'ghosts': 1903, 'genre': 1888, 'comedies': 889, 'seriously': 3892, 'opinion': 3118, 'succeed': 4262, 'sentimental': 3882, 'choice': 797, 'principal': 3398, 'actresses': 106, 'handsome': 2021, 'taste': 4369, 'ladies': 2506, 'improvement': 2256, 'eva': 1531, 'aged': 149, 'lake': 2509, 'bell': 458, 'due': 1382, 'jason': 2383, 'uninteresting': 4660, 'cinematography': 820, 'gags': 1862, 'pretentious': 3383, 'definition': 1163, 'cheese': 780, 'ways': 4822, 'japan': 2381, 'samurai': 3779, 'temple': 4398, 'distance': 1294, 'shorts': 3948, 'stop': 4201, 'lord': 2652, 'somewhat': 4068, 'visits': 4756, 'theatre': 4429, 'evening': 1534, 'friend': 1835, 'chick': 786, 'jake': 2377, 'homer': 2144, 'train': 4556, 'score': 3822, '50s': 52, 'edge': 1418, 'akshay': 169, 'heavily': 2069, 'influenced': 2287, 'matrix': 2767, 'kung': 2498, 'fu': 1844, 'executed': 1565, 'expectations': 1576, 'rating': 3529, 'theater': 4427, 'via': 4726, 'advanced': 128, 'screening': 3830, 'talked': 4359, 'afterwards': 145, 'felt': 1692, 'opposite': 3123, 'satisfied': 3789, 'outcome': 3142, 'plus': 3311, 'wondering': 4930, 'absurd': 73, 'painful': 3171, 'evidence': 1546, 'public': 3460, 'follow': 1772, 'stories': 4205, 'complex': 923, 'fed': 1682, 'endings': 1472, 'sad': 3767, 'nobody': 3022, 'anymore': 258, 'spoiler': 4123, 'faith': 1633, 'destiny': 1212, 'speak': 4094, 'spoke': 4125, 'richard': 3686, 'crafted': 1029, 'lovely': 2671, 'streets': 4217, 'europe': 1529, 'pass': 3201, 'intimate': 2331, 'ethan': 1528, 'julie': 2428, 'bringing': 586, 'chemistry': 782, 'strangers': 4214, 'develop': 1222, 'deeply': 1156, 'respect': 3652, 'touches': 4535, 'cable': 644, 'enjoyable': 1485, 'experiences': 1582, 'san': 3780, 'francisco': 1819, 'bay': 416, 'area': 286, 'artists': 309, 'creative': 1041, 'talent': 4354, 'addition': 118, 'listed': 2618, 'includes': 2263, 'segments': 3868, 'segment': 3867, 'studios': 4241, 'released': 3603, 'remotely': 3623, 'interested': 2324, 'create': 1036, 'hunter': 2199, 'produced': 3414, 'la': 2500, 'rich': 3685, 'occasionally': 3075, 'timeless': 4496, 'wealthy': 4827, 'california': 650, 'greedy': 1969, 'daughters': 1122, 'afraid': 140, 'issue': 2364, 'prove': 3445, 'hearing': 2063, 'credit': 1049, 'obvious': 3071, 'broad': 590, 'russell': 3761, 'hits': 2125, 'false': 1641, 'sandra': 3782, 'importance': 2246, 'spend': 4105, 'recognized': 3570, 'smith': 4038, 'baker': 385, 'thomas': 4458, 'robinson': 3716, 'louis': 2665, 'chorus': 803, 'girls': 1911, 'stereotypes': 4179, 'cartoons': 705, 'adult': 125, 'feature': 1678, 'standard': 4144, 'animated': 241, 'universal': 4665, 'disneys': 1290, 'mickey': 2831, 'mouse': 2919, 'uncle': 4636, 'silly': 3976, 'clips': 852, 'park': 3190, 'future': 1856, 'johnny': 2410, 'tribute': 4581, 'plastic': 3294, 'realistic': 3550, 'authentic': 358, 'shooting': 3943, 'shot': 3949, 'president': 3378, 'bush': 632, 'sold': 4052, 'college': 875, 'students': 4239, 'bunch': 623, 'picks': 3268, 'pace': 3161, 'eaten': 1412, 'opportunity': 3121, 'discuss': 1283, 'helping': 2081, 'mind': 2849, 'kate': 2446, 'kinda': 2477, 'captivating': 675, 'remembered': 3617, 'featured': 1679, 'paulie': 3215, 'tries': 4585, 'ms': 2931, 'appearances': 275, 'smile': 4036, 'named': 2961, 'kid': 2464, 'hopefully': 2157, 'lately': 2524, 'according': 88, 'finished': 1733, 'sequels': 3886, 'worry': 4950, 'nowadays': 3055, 'tend': 4400, 'authority': 360, 'figures': 1713, 'particular': 3194, 'martin': 2748, 'batman': 413, 'worlds': 4947, 'finest': 1730, 'superman': 4301, 'books': 536, 'team': 4378, 'trailer': 4554, 'someone': 4064, 'length': 2569, 'cheesy': 781, 'theaters': 4428, 'giving': 1915, 'product': 3418, 'relative': 3599, 'perry': 3237, 'unknown': 4668, 'fit': 1740, 'lane': 2515, 'closer': 856, 'clark': 832, '40s': 49, '80s': 59, '90s': 61, 'contact': 961, 'allowing': 191, 'mask': 2752, 'goal': 1925, 'persona': 3239, 'michael': 2829, 'period': 3236, 'stands': 4147, 'slap': 4018, 'piece': 3272, 'rented': 3628, 'eve': 1532, 'weekend': 4838, 'pointless': 3318, 'harvey': 2042, 'curse': 1086, 'surprisingly': 4316, 'roll': 3728, 'decades': 1145, 'academy': 77, 'awards': 367, 'honestly': 2147, 'total': 4531, 'sheer': 3925, 'stupidity': 4248, 'themselves': 4435, 'plenty': 3307, 'argue': 290, 'won': 4925, 'nominated': 3025, 'process': 3412, 'terribly': 4408, 'treatment': 4574, 'stars': 4155, 'non': 3027, 'name': 2960, 'boredom': 542, 'al': 170, 'pacino': 3164, '45': 50, 'seconds': 3848, 'regard': 3588, 'saying': 3800, 'emotion': 1458, 'statement': 4162, 'paying': 3217, 'honor': 2150, 'names': 2963, 'lose': 2654, 'thrill': 4471, 'force': 1786, 'fare': 1655, 'becoming': 435, 'caliber': 649, 'clint': 850, 'eastwood': 1409, 'extra': 1606, 'chris': 806, 'rock': 3720, 'host': 2173, 'controversial': 978, 'hoped': 2156, 'nor': 3032, 'opening': 3114, 'remarks': 3615, 'sean': 3840, 'kept': 2456, 'musical': 2947, 'handled': 2019, 'songs': 4072, 'utter': 4701, 'artist': 307, 'present': 3374, 'singing': 3995, 'winning': 4898, 'speech': 4102, 'faster': 1662, 'worked': 4941, 'degree': 1164, 'become': 433, 'insult': 2309, 'frankly': 1823, 'ashamed': 312, 'necessarily': 2983, 'changes': 751, 'creators': 1044, 'shallow': 3917, 'warner': 4799, 'triumph': 4590, 'method': 2824, 'dancers': 1105, '70s': 56, 'handed': 2016, 'unbelievably': 4635, 'modern': 2882, 'turn': 4605, 'view': 4736, '25': 40, 'similar': 3978, 'alive': 186, 'technique': 4383, 'average': 362, 'persons': 3244, 'empty': 1465, 'backdrop': 379, 'visual': 4757, 'fine': 1729, 'performed': 3230, 'gold': 1932, 'recognize': 3569, 'practice': 3363, 'audiences': 353, 'nuts': 3064, 'bird': 484, 'earlier': 1399, 'respected': 3653, 'jazz': 2387, 'remarkable': 3613, 'finding': 1727, 'question': 3487, 'helped': 2080, 'bear': 420, 'absence': 70, 'format': 1799, 'unique': 4662, 'crowd': 1067, 'annoying': 249, 'directly': 1263, 'center': 732, 'interest': 2323, 'flawless': 1751, 'states': 4163, 'beautifully': 429, 'sexual': 3908, 'torture': 4529, 'rape': 3521, 'corruption': 1002, 'abuse': 74, 'redemption': 3578, 'whatsoever': 4861, 'act': 97, 'real': 3547, 'led': 2558, 'prom': 3429, 'tired': 4501, 'slasher': 4020, 'loud': 2664, 'scare': 3803, 'tension': 4404, 'care': 684, 'development': 1225, 'killer': 2470, 'serial': 3889, 'existed': 1570, 'obsessed': 3069, 'mean': 2779, 'predictable': 3367, 'insulting': 2310, 'brutally': 604, 'murdered': 2940, 'teacher': 4375, 'captured': 677, 'peace': 3219, 'escaped': 1518, 'donna': 1323, 'means': 2783, 'news': 3005, 'hotel': 2175, 'suspicious': 4332, 'check': 777, 'apparently': 270, 'houses': 2180, 'un': 4630, 'noticed': 3049, 'wow': 4962, 'havent': 2053, 'obnoxious': 3067, 'pg': 3250, 'clothes': 860, 'holes': 2133, 'teen': 4388, 'teenagers': 4391, 'adults': 126, 'personally': 3243, 'game': 1864, 'bored': 541, 'ill': 2228, 'opinions': 3119, 'davis': 1126, 'deal': 1135, 'season': 3843, 'colonel': 876, 'moved': 2922, 'field': 1704, 'office': 3091, 'cliff': 847, 'seven': 3903, 'seasons': 3844, 'stargate': 4151, 'mediocre': 2791, 'appreciation': 281, 'gotten': 1947, 'spoiled': 4122, 'spin': 4112, 'atlantis': 332, 'don': 1320, 'died': 1244, 'weeks': 4839, 'loss': 2659, 'alright': 198, 'kick': 2460, 'amount': 219, 'guarantee': 1987, 'hire': 2116, 'forced': 1787, 'shock': 3938, 'above': 68, 'satire': 3788, 'twisted': 4618, 'critical': 1062, 'media': 2789, 'serves': 3895, 'refreshing': 3586, 'peoples': 3222, 'tradition': 4549, 'reality': 3551, 'company': 910, 'chasing': 772, 'amy': 222, 'neighbors': 2994, 'hilarious': 2106, 'intrigued': 2334, 'todays': 4509, 'conversations': 981, 'brian': 576, 'van': 4713, 'jonathan': 2417, 'distinct': 1296, 'married': 2744, 'buddy': 609, 'amanda': 205, 'surface': 4310, 'satisfying': 3791, 'educational': 1425, 'effect': 1428, 'whenever': 4863, 'quickly': 3491, 'hear': 2061, 'shakespeare': 3915, 'bits': 490, 'prefer': 3368, 'effects': 1431, 'werent': 4849, 'taking': 4352, 'inspiration': 2300, 'joy': 2422, 'ship': 3934, 'badly': 383, 'unrealistic': 4677, 'appealing': 272, 'naked': 2959, 'sounded': 4082, 'nazis': 2978, 'government': 1948, 'budget': 610, 'nazi': 2977, 'brazil': 568, 'psychological': 3458, 'lynch': 2691, 'tried': 4584, 'quirky': 3493, 'pacing': 3163, 'slowly': 4032, 'shortly': 3947, 'purpose': 3474, 'confusing': 942, 'focused': 1767, 'pleasant': 3302, 'dull': 1384, 'likable': 2598, 'imagery': 2234, 'tortured': 4530, 'notably': 3042, 'credits': 1050, 'mostly': 2910, 'tiresome': 4502, 'probably': 3407, 'called': 652, 'semi': 3874, 'sorts': 4078, 'drawn': 1351, 'upon': 4684, 'warm': 4794, 'honesty': 2148, 'polished': 3323, 'ad': 110, 'date': 1118, 'sisters': 4002, 'constant': 957, 'hair': 2005, 'circle': 821, 'introduced': 2337, 'combination': 883, 'energy': 1478, 'child': 789, 'games': 1865, 'mindless': 2851, 'include': 2261, 'football': 1783, 'matches': 2764, 'arrival': 299, 'provides': 3450, 'hang': 2022, 'trees': 4577, 'flying': 1764, 'desired': 1206, 'friendship': 1838, 'laughter': 2535, 'experienced': 1581, 'ourselves': 3140, 'serve': 3893, 'childhood': 790, 'adequate': 120, 'subplots': 4256, 'beauty': 430, 'stand': 4143, 'dealing': 1136, 'separate': 3883, 'themes': 4434, 'issues': 2365, 'surely': 4309, 'curious': 1083, 'steals': 4172, 'speaking': 4095, 'open': 3112, 'deliberately': 1166, 'memory': 2804, 'significant': 3972, 'suitable': 4285, 'ages': 152, 'brother': 598, 'gift': 1906, '12': 3, 'stood': 4199, 'mid': 2832, 'mad': 2696, 'explain': 1586, 'reasonable': 3558, 'halfway': 2008, 'break': 569, 'grow': 1982, 'loving': 2675, 'upper': 4685, 'shouldnt': 3952, 'eating': 1413, 'dogs': 1311, 'glimpse': 1919, 'doing': 1312, 'scary': 3807, 'dinosaurs': 1256, 'lacked': 2503, 'danger': 1109, 'continuity': 972, 'overlook': 3153, 'blowing': 515, 'dialog': 1232, 'stick': 4185, 'treat': 4572, 'nine': 3017, 'missed': 2867, 'masterpiece': 2759, 'impress': 2250, 'everybody': 1540, 'ones': 3108, 'compare': 911, 'soldier': 4053, 'orange': 3125, 'happened': 2027, '1980': 20, 'trial': 4580, 'parents': 3188, 'caused': 724, 'accused': 91, 'followed': 1773, 'justice': 2438, 'claimed': 829, 'australia': 356, 'week': 4837, 'believed': 455, 'country': 1014, 'began': 441, 'guilty': 1995, 'sit': 4003, 'absolute': 71, 'proof': 3434, 'fred': 1825, 'argument': 291, 'innocent': 2294, 'brilliantly': 584, 'mood': 2898, 'truth': 4599, 'co': 867, 'travesty': 4570, 'occurred': 3077, 'dreadful': 1353, 'acts': 107, 'straight': 4210, 'accent': 78, 'master': 2757, 'trade': 4547, 'sam': 3777, 'faithful': 1634, 'falling': 1639, 'strength': 4219, 'technically': 4382, 'ian': 2209, 'capturing': 679, 'editor': 1423, 'tense': 4403, 'emotionally': 1460, 'bruce': 602, 'shocking': 3940, 'served': 3894, 'anybody': 257, 'saturday': 3792, 'return': 3665, 'viewings': 4741, 'account': 89, 'simplicity': 3984, 'horrifying': 2167, 'vacation': 4704, 'form': 1798, 'determined': 1221, 'battles': 415, 'blue': 518, 'level': 2584, 'sound': 4081, 'equally': 1510, 'impressive': 2253, 'sees': 3866, 'editing': 1421, 'locations': 2636, 'visually': 4758, 'sunday': 4293, 'june': 2433, '1996': 26, 'exception': 1557, 'weak': 4824, 'receive': 3563, 'quick': 3490, 'somehow': 4063, 'allow': 189, 'threat': 4467, 'deceased': 1146, 'witch': 4909, 'glorious': 1921, 'battle': 414, 'humans': 2190, 'travel': 4567, 'channel': 753, 'prime': 3395, 'soap': 4047, 'opera': 3116, 'phony': 3256, 'contest': 967, 'hook': 2152, 'beat': 423, 'overcome': 3151, 'interaction': 2322, 'motion': 2913, 'types': 4622, 'successful': 4266, 'television': 4394, 'cup': 1080, 'tea': 4373, 'drivel': 1364, 'hiding': 2099, 'island': 2361, 'brady': 561, 'professional': 3421, 'intelligence': 2313, 'west': 4852, 'hold': 2129, 'town': 4541, 'hired': 2117, 'rid': 3690, 'leo': 2571, 'among': 217, 'karen': 2444, 'owner': 3159, 'ted': 4386, 'warning': 4800, 'guns': 1998, 'weapons': 4829, 'banned': 395, 'ex': 1549, 'girlfriend': 1910, 'lawrence': 2539, 'raw': 3532, 'methods': 2825, 'carried': 698, 'exciting': 1563, 'sheriff': 3929, 'angel': 231, 'vivid': 4760, 'lively': 2627, 'alex': 179, 'atmospheric': 334, 'lee': 2559, 'wilson': 4891, 'grey': 1973, 'watchable': 4812, 'results': 3662, 'wrote': 4974, 'mother': 2911, 'dying': 1393, 'immediately': 2242, 'stays': 4169, 'homeless': 2143, 'build': 614, 'soon': 4074, 'sell': 3871, 'protect': 3443, 'melodrama': 2797, 'charlie': 765, 'chaplin': 756, 'weird': 4841, 'raise': 3507, 'miracle': 2860, 'greatly': 1967, 'widely': 4881, 'key': 2458, 'party': 3200, 'blonde': 511, 'blair': 497, 'lies': 2591, 'tracks': 4545, 'formulaic': 1803, 'hearted': 2065, 'ray': 3533, 'boyfriend': 558, 'buck': 605, 'cameo': 657, 'larry': 2520, 'conservative': 948, 'likes': 2602, 'cultural': 1078, 'hate': 2046, 'shape': 3919, 'rambo': 3511, 'plague': 3285, 'propaganda': 3435, 'italian': 2367, 'block': 508, 'hitler': 2124, 'anti': 254, 'cheated': 775, 'gay': 1876, 'despite': 1211, 'reads': 3545, 'lover': 2672, 'agents': 151, 'gun': 1996, 'shoot': 3942, 'save': 3794, 'entirely': 1503, 'surreal': 4317, 'nonetheless': 3029, 'ought': 3138, 'comical': 894, 'rated': 3527, 'reviewer': 3677, 'sophisticated': 4075, 'primary': 3394, 'okay': 3099, 'worthless': 4954, 'thank': 4421, 'insane': 2296, 'able': 66, 'exploitation': 1592, 'classic': 835, 'store': 4204, 'ii': 2226, 'fat': 1663, 'burn': 625, 'copy': 994, 'theyve': 4446, 'bar': 396, 'hung': 2197, 'ask': 316, 'multiple': 2936, 'cell': 730, 'talk': 4358, 'mentally': 2809, 'retarded': 3663, 'fly': 1763, 'bloody': 513, 'knife': 2487, 'garden': 1872, 'shelf': 3926, 'saved': 3795, 'exceptional': 1558, 'cut': 1089, 'essentially': 1523, 'element': 1442, 'lady': 2507, 'spirits': 4115, 'generations': 1884, 'corner': 996, 'stated': 4161, 'mere': 2814, 'hadnt': 2004, 'guessed': 1990, 'cause': 723, 'elsewhere': 1449, 'destruction': 1216, 'mass': 2753, 'uk': 4626, 'honest': 2146, 'unaware': 4632, 'situation': 4008, 'scott': 3824, 'assault': 324, 'inducing': 2279, 'lights': 2597, 'uses': 4697, 'reactions': 3542, 'technology': 4385, 'represents': 3639, 'humanity': 2189, 'subplot': 4255, 'stanley': 4148, '2001': 31, '1968': 16, 'eye': 1611, 'dave': 1123, 'journey': 2421, 'visuals': 4759, 'blend': 504, 'increasingly': 2268, 'recorded': 3574, 'confusion': 943, '1972': 18, 'national': 2970, 'reminiscent': 3621, '1980s': 21, 'captures': 678, 'computer': 927, 'information': 2288, 'disjointed': 1287, 'alien': 183, 'montage': 2894, 'vaguely': 4706, 'coherent': 871, '24': 39, 'morgan': 2905, 'hart': 2041, 'explains': 1589, 'sports': 4130, 'plane': 3288, 'crash': 1033, 'mountain': 2917, 'faced': 1617, 'decision': 1151, 'order': 3126, 'survive': 4321, 'drag': 1342, 'hunting': 2201, 'survived': 4322, 'sci': 3815, 'fi': 1701, 'nearby': 2980, 'fire': 1734, 'oddly': 3081, 'tells': 4397, 'fail': 1625, 'notorious': 3051, 'structure': 4233, 'arm': 292, 'bears': 421, 'attempting': 342, 'trap': 4563, 'wild': 4885, 'conversation': 980, 'corpse': 999, 'glass': 1917, 'armed': 293, 'standing': 4146, 'ripped': 3701, 'gang': 1867, 'continues': 971, 'chain': 741, 'appearing': 277, 'teeth': 4393, 'quote': 3496, 'intent': 2318, 'angles': 237, 'crucial': 1068, 'obviously': 3072, 'position': 3345, 'defined': 1160, 'exaggerated': 1552, 'simplistic': 3985, 'morality': 2903, 'catholic': 720, 'church': 813, 'priest': 3392, 'stereotype': 4178, 'jewish': 2401, 'factory': 1623, 'wed': 4835, 'toilet': 4512, 'mine': 2853, 'womans': 4922, 'realism': 3549, 'usa': 4691, 'deserved': 1200, '11': 2, 'attacks': 339, 'heres': 2087, 'burned': 626, 'muslim': 2949, 'east': 1407, 'storm': 4206, 'conclusion': 936, 'politics': 3326, 'oliver': 3102, 'captain': 674, 'conspiracy': 956, 'stone': 4197, 'paranoia': 3186, 'era': 1513, 'stones': 4198, 'farm': 1656, 'burns': 628, 'former': 1800, 'secretary': 3850, 'state': 4160, 'sight': 3969, 'below': 462, 'bother': 548, 'renting': 3629, 'buying': 641, 'showcase': 3954, 'gene': 1879, 'kelly': 2452, 'sings': 3997, 'dances': 1106, 'leslie': 2574, 'intended': 2315, 'oscar': 3133, 'task': 4368, 'dance': 1103, 'perfection': 3225, 'ballet': 389, 'spent': 4108, 'four': 1812, 'hours': 2177, 'reynolds': 3684, 'neil': 2995, 'simon': 3982, 'walter': 4784, 'matthau': 2771, 'lemmon': 2567, 'odd': 3080, 'mixture': 2878, 'sadness': 3770, 'apartment': 265, 'felix': 1689, 'divorce': 1301, 'share': 3920, 'drives': 1367, 'male': 2719, 'exact': 1550, 'funniest': 1851, 'visit': 4755, 'dinner': 1254, 'priceless': 3390, 'shelley': 3928, 'voices': 4763, 'pair': 3176, 'timing': 4498, 'despair': 1207, 'remains': 3611, 'enjoyed': 1486, 'considered': 951, 'conceived': 929, 'victims': 4730, 'fill': 1714, 'childrens': 793, 'attention': 345, 'rolling': 3730, 'grave': 1962, 'ho': 2127, 'throw': 4479, 'greed': 1968, 'disturbing': 1300, 'turning': 4608, 'mtv': 2933, 'videos': 4734, 'strangely': 4212, 'surrounded': 4318, 'depressing': 1188, 'environment': 1505, 'genuinely': 1892, 'search': 3841, 'direct': 1258, 'chosen': 805, 'william': 4887, 'cleverly': 842, 'portrayed': 3342, 'relate': 3593, 'paced': 3162, 'fashion': 1659, 'traditional': 4550, 'hal': 2006, 'allows': 192, 'longer': 2645, 'personality': 3242, 'empathy': 1462, 'toward': 4539, 'shown': 3959, 'site': 4005, 'broadcast': 591, 'movement': 2923, 'scared': 3805, 'sexuality': 3909, 'society': 4050, 'accept': 80, 'homosexual': 2145, 'ron': 3734, 'achieve': 92, 'clichéd': 845, 'titles': 4506, 'replaced': 3634, 'rick': 3689, 'beloved': 461, 'model': 2880, 'passion': 3205, 'hole': 2132, 'asks': 319, 'understood': 4647, 'performing': 3233, 'successfully': 4267, 'perform': 3227, 'prison': 3401, 'crimes': 1056, 'seek': 3858, 'proud': 3444, 'recognition': 3568, 'criminals': 1058, 'doors': 1329, 'image': 2233, 'aware': 368, 'happening': 2028, 'consequences': 947, 'individual': 2277, 'skill': 4013, 'revolves': 3682, 'fellow': 1691, 'worker': 4942, 'lessons': 2578, 'kitchen': 2485, 'involvement': 2347, 'feelings': 1686, 'jane': 2380, 'fonda': 1777, 'teenage': 4389, 'pregnant': 3369, 'abusive': 75, 'endearing': 1469, 'portrayal': 3341, 'dignity': 1252, 'generally': 1881, 'depicted': 1183, 'ordinary': 3128, 'working': 4944, 'albeit': 173, 'fictional': 1703, 'contains': 964, 'spoilers': 4124, 'christmas': 810, 'hints': 2113, 'glad': 1916, 'jet': 2400, 'pack': 3165, 'ben': 463, 'rocket': 3721, 'enemies': 1476, 'bonus': 534, 'multi': 2935, 'challenging': 744, 'load': 2631, 'repetitive': 3633, 'improved': 2255, 'graphics': 1959, 'graphic': 1958, 'comment': 898, 'drive': 1363, 'hollywoods': 2138, 'technical': 4381, 'match': 2762, 'atmosphere': 333, 'tom': 4514, 'installment': 2303, 'rings': 3699, 'rural': 3758, 'complicated': 925, 'rules': 3754, 'settings': 3901, 'skin': 4015, 'christ': 807, 'exercise': 1568, 'unfolds': 4651, 'pig': 3274, 'international': 2326, 'drugs': 1374, 'coffee': 870, 'dangerous': 1110, 'wreck': 4965, 'desperately': 1209, 'jesus': 2399, 'vulnerable': 4768, 'handle': 2018, 'tears': 4380, 'flashbacks': 1747, 'shell': 3927, 'user': 4696, 'suggest': 4280, 'terrifying': 4410, 'victim': 4729, 'sinister': 3998, 'operation': 3117, 'convinced': 984, '60s': 54, 'comedian': 887, 'putting': 3482, 'liners': 2611, 'success': 4265, 'unlike': 4670, 'market': 2740, 'spare': 4093, 'deeper': 1155, 'sympathy': 4343, 'plight': 3308, 'ignore': 2224, 'credible': 1048, 'pick': 3265, 'chose': 804, 'jr': 2423, 'kenneth': 2455, 'branagh': 564, 'southern': 4088, 'intriguing': 2335, 'motivations': 2915, 'bright': 581, 'draw': 1349, 'movements': 2924, 'typically': 4624, 'engage': 1479, 'understandable': 4644, 'motives': 2916, 'ridiculous': 3693, 'redeeming': 3577, 'factor': 1622, 'community': 908, 'fresh': 1833, 'figured': 1712, 'howard': 2182, 'gary': 1873, 'besides': 468, 'basketball': 409, 'potential': 3355, 'gag': 1861, 'bland': 500, 'dimensional': 1253, 'writes': 4970, 'stale': 4141, 'witnessed': 4915, 'rage': 3505, 'extras': 1608, 'washington': 4806, 'kurt': 2499, 'avoided': 364, 'waited': 4771, 'seemingly': 3863, 'minor': 2857, 'piano': 3264, 'promising': 3433, 'laughs': 2534, 'smoke': 4039, 'ears': 1402, 'recent': 3566, 'displayed': 1292, 'section': 3853, 'solely': 4056, 'vehicle': 4718, 'humour': 2194, 'twenty': 4612, 'tommy': 4516, 'cooper': 990, 'frequently': 1832, 'striking': 4226, 'mysterious': 2955, 'mario': 2738, 'pops': 3332, 'glenn': 1918, 'lisa': 2616, 'projects': 3428, 'bobby': 525, 'brown': 601, 'asian': 314, 'kim': 2475, 'marie': 2737, 'double': 1331, 'dollars': 1315, 'boss': 546, 'hanks': 2025, 'private': 3404, 'ryan': 3765, 'max': 2774, 'depression': 1189, 'chicago': 785, 'trip': 4588, 'sullivan': 4288, 'daniel': 1111, 'craig': 1030, 'mistake': 2871, 'answers': 252, 'blame': 499, 'curiosity': 1082, 'juvenile': 2441, 'travels': 4569, 'oscars': 3134, 'award': 366, 'ride': 3692, 'legend': 2564, 'mike': 2838, 'devoted': 1231, 'eddie': 1416, 'murphy': 2944, 'irony': 2357, 'represented': 3638, 'result': 3660, 'appreciated': 280, 'monk': 2889, 'row': 3744, 'fame': 1642, 'centered': 733, 'starred': 4153, 'everyday': 1541, 'help': 2079, 'sake': 3775, 'poem': 3312, 'scripted': 3835, 'par': 3184, 'translation': 4562, 'balance': 387, 'blind': 506, 'protagonist': 3441, 'ends': 1474, 'mighty': 2836, 'shall': 3916, 'carrie': 697, 'fisher': 1739, 'epic': 1506, 'message': 2819, 'thinks': 4454, 'joseph': 2419, 'concerned': 932, 'express': 1600, 'facial': 1619, 'expression': 1602, 'easily': 1406, 'defend': 1158, 'humorous': 2193, 'stealing': 4171, 'masterpieces': 2760, 'elephant': 1444, 'grab': 1949, 'knowing': 2490, 'liking': 2604, 'thru': 4483, 'pain': 3170, 'hurt': 2202, 'corrupt': 1001, 'sport': 4129, 'boxing': 556, 'aka': 168, 'dumb': 1385, 'fetched': 1698, 'idiots': 2220, 'brains': 563, 'willis': 4890, 'arnold': 296, 'featuring': 1681, 'business': 633, 'dubbing': 1380, 'crying': 1074, 'carrying': 701, 'therefore': 4439, 'bergman': 466, 'mummy': 2937, 'alexander': 180, 'changing': 752, 'communist': 907, 'newspaper': 3006, 'troubles': 4594, 'lighting': 2596, 'subtlety': 4261, 'tear': 4379, 'step': 4175, 'neo': 2998, 'further': 1853, 'st': 4137, 'francis': 1818, 'keaton': 2448, 'apparent': 269, 'convoluted': 987, 'existent': 1572, 'whereas': 4865, 'primarily': 3393, 'advertising': 132, 'dorothy': 1330, 'asked': 317, 'independent': 2272, 'personalities': 3241, 'sing': 3992, 'slight': 4027, 'project': 3427, 'held': 2074, 'wasting': 4810, 'hbo': 2055, 'dvds': 1392, 'dennis': 1179, 'hopper': 2161, 'suspense': 4330, 'nude': 3058, 'females': 1694, 'warned': 4798, 'confidence': 938, 'quest': 3486, 'bus': 631, 'favor': 1670, 'rental': 3627, 'jerry': 2396, 'haunting': 2051, 'trick': 4582, '1999': 27, 'reaction': 3541, 'remake': 3612, 'scares': 3806, 'receives': 3565, 'phone': 3255, 'study': 4242, 'doctor': 1304, 'hill': 2108, 'mrs': 2930, 'property': 3438, 'arrive': 300, 'luke': 2687, 'morning': 2906, 'miles': 2843, 'built': 618, 'hugh': 2186, 'birth': 486, 'welcome': 4842, 'souls': 4080, 'fortune': 1806, 'kidnapped': 2466, 'slave': 4022, 'bodies': 526, 'belongs': 460, 'taylor': 4372, 'annoyed': 248, 'catherine': 719, 'jones': 2418, 'porn': 3336, 'aids': 161, 'string': 4227, 'irrelevant': 2358, 'cruise': 1071, 'utterly': 4702, 'failed': 1626, 'unusual': 4681, 'sitcom': 4004, 'questionable': 3488, 'scientist': 3818, 'creates': 1038, 'device': 1227, 'machine': 2693, 'touch': 4533, 'millions': 2848, 'laughable': 2530, 'drew': 1360, 'wishes': 4906, 'suffer': 4275, 'cliché': 844, 'fifteen': 1706, 'shining': 3933, 'jackie': 2374, 'chan': 746, 'sat': 3786, 'cop': 991, 'drug': 1373, 'assigned': 325, 'decides': 1150, 'provide': 3448, 'represent': 3637, 'indian': 2274, 'feed': 1683, 'stereotypical': 4180, 'boat': 523, 'feminist': 1695, 'politically': 3325, 'flow': 1762, 'sadly': 3769, 'episode': 1507, 'canadian': 667, 'natural': 2973, 'abilities': 64, 'ring': 3698, 'hitchcock': 2123, 'silver': 3977, 'depicts': 1186, 'attraction': 350, 'tragic': 4552, 'techniques': 4384, 'beats': 426, 'kapoor': 2443, 'unreal': 4676, 'range': 3516, 'regret': 3591, 'zero': 4996, 'emphasis': 1463, 'resemblance': 3645, 'explaining': 1588, 'historical': 2119, 'record': 3573, 'poignant': 3315, 'social': 4049, 'fascinating': 1658, 'drawing': 1350, 'affair': 135, 'grandfather': 1954, 'painted': 3174, 'similarly': 3980, 'tour': 4538, 'tons': 4520, 'quotes': 3497, 'pull': 3461, 'anywhere': 263, 'thousand': 4465, 'sir': 4000, 'sleazy': 4023, 'clip': 851, 'lets': 2580, 'titanic': 4503, 'stilted': 4190, 'merits': 2817, 'test': 4416, 'spy': 4135, 'masterful': 2758, 'latter': 2528, 'screenwriter': 3833, 'alan': 171, 'physical': 3262, 'convincing': 985, 'text': 4419, 'upset': 4687, 'ie': 2221, 'cry': 1073, 'ease': 1404, 'mary': 2751, 'displays': 1293, 'splendid': 4119, 'amusing': 221, 'sarah': 3785, 'camp': 662, 'americans': 214, 'bo': 521, 'headed': 2058, 'psycho': 3457, 'reach': 3536, 'lovers': 2673, 'available': 361, 'jump': 2429, 'anyways': 262, 'naturally': 2974, 'stretch': 4221, 'horrid': 2165, 'thoughtful': 4463, 'diamond': 1236, 'stock': 4193, 'digital': 1251, 'fix': 1744, 'obsession': 3070, 'highest': 2102, 'naive': 2958, 'deals': 1137, 'beings': 449, 'promise': 3430, 'photographer': 3259, 'pictures': 3270, 'waters': 4817, 'political': 3324, 'backgrounds': 381, 'edward': 1426, 'legendary': 2565, 'stole': 4194, 'pop': 3330, 'realizing': 3555, 'misses': 2868, 'enemy': 1477, 'event': 1535, 'managed': 2723, 'rooms': 3736, 'teachers': 4376, 'dolph': 1317, 'quit': 3494, 'duty': 1390, 'breaks': 571, 'loose': 2650, 'fall': 1637, 'urban': 4688, 'brooklyn': 595, 'african': 142, 'compared': 912, 'riveting': 3708, 'originality': 3130, 'rise': 3702, 'gender': 1878, 'thrills': 4475, 'rocky': 3723, 'fights': 1710, 'dare': 1113, 'subsequent': 4257, 'protagonists': 3442, 'survival': 4320, 'relies': 3606, 'carry': 700, 'frame': 1815, 'religion': 3607, 'groups': 1981, 'familys': 1646, 'thrown': 4481, 'reaching': 3539, 'overrated': 3156, 'tony': 4521, 'currently': 1085, 'repeated': 3631, 'abc': 63, 'detective': 1220, 'blake': 498, 'struggling': 4236, 'vice': 4727, 'provided': 3449, 'marketing': 2741, 'remarkably': 3614, 'department': 1182, 'board': 522, 'twist': 4617, 'noted': 3045, 'caine': 647, 'christopher': 811, 'broadway': 592, 'scheme': 3812, 'fears': 1677, 'twists': 4619, 'seat': 3845, 'intellectual': 2312, 'wide': 4880, 'eyed': 1612, 'neighbor': 2992, 'psychic': 3456, 'goodness': 1938, 'cake': 648, 'adam': 111, 'snl': 4044, 'forty': 1807, 'wolf': 4920, 'beaten': 424, 'higher': 2101, 'fully': 1847, 'stunning': 4244, 'vision': 4754, 'claims': 830, 'colorful': 878, 'values': 4710, 'bound': 553, 'contemporary': 965, 'thief': 4448, 'adventures': 131, 'robin': 3715, 'hood': 2151, 'summer': 4291, 'producer': 3415, 'cd': 728, 'library': 2589, 'viewed': 4737, 'ludicrous': 2685, 'sword': 4340, 'brothers': 599, 'spirited': 4114, 'dragon': 1344, 'lousy': 2667, 'darker': 1116, 'desert': 1198, 'engaging': 1481, 'thanks': 4423, 'creatures': 1046, 'dolls': 1316, 'attitude': 346, 'der': 1191, 'acceptable': 81, 'cheating': 776, 'normally': 3034, 'die': 1243, 'tiger': 4491, 'heck': 2071, 'pushing': 3479, 'wonderfully': 4929, 'similarities': 3979, 'tedious': 4387, 'mistakes': 2873, 'core': 995, 'crappy': 1032, 'pleasure': 3306, 'pulp': 3465, 'lazy': 2543, 'grows': 1985, 'wins': 4899, 'odds': 3082, 'carter': 703, 'junk': 2436, 'meat': 2787, 'embarrassed': 1453, 'comics': 895, 'base': 402, 'creating': 1039, 'solution': 4059, 'instantly': 2306, 'beast': 422, 'hatred': 2049, 'presentation': 3375, 'desperate': 1208, 'revenge': 3675, 'wanting': 4790, 'grew': 1972, 'chest': 784, 'training': 4558, 'explanation': 1590, 'king': 2479, 'bigger': 479, 'notion': 3050, 'soul': 4079, 'america': 212, 'hardcore': 2034, 'challenge': 743, 'horrendous': 2162, 'card': 681, 'developed': 1223, 'missing': 2869, 'explained': 1587, 'warn': 4797, '80': 58, 'blah': 496, 'oil': 3097, 'explore': 1594, 'jeff': 2390, 'briefly': 580, 'disagree': 1269, 'ass': 323, 'vengeance': 4719, 'importantly': 2248, 'outrageous': 3145, 'suspend': 4329, 'disbelief': 1277, 'enter': 1494, 'blatant': 502, 'lesbian': 2573, 'providing': 3451, 'sacrifice': 3766, 'climax': 849, 'wrapped': 4964, 'portrait': 3339, 'makeup': 2717, 'shine': 3931, 'access': 83, 'link': 2613, 'bible': 477, 'prostitute': 3440, 'extended': 1604, 'marvelous': 2750, 'roger': 3724, 'crocodile': 1065, 'color': 877, 'roberts': 3714, 'baseball': 403, 'jim': 2402, 'suffering': 4277, '1st': 28, 'families': 1644, 'parties': 3196, 'path': 3209, '1990': 24, 'mentioned': 2811, 'leader': 2546, '2nd': 41, 'march': 2734, 'student': 4238, 'pro': 3406, 'civil': 826, 'treated': 4573, 'props': 3439, 'soviet': 4089, 'holding': 2130, 'andy': 230, 'bettie': 473, 'photo': 3257, 'shoots': 3944, 'photos': 3261, 'introduction': 2339, 'beach': 419, 'performers': 3232, 'industry': 2280, 'magic': 2703, 'properly': 3437, 'understanding': 4645, 'sequel': 3885, 'accident': 84, 'gothic': 1945, 'cole': 873, 'gain': 1863, 'lucas': 2680, 'blacks': 494, 'frightening': 1839, 'created': 1037, 'rarely': 3524, 'mysteries': 2954, 'ugly': 4625, 'regarding': 3589, 'picked': 3266, 'newly': 3004, 'yelling': 4980, 'involves': 2348, 'wars': 4804, 'defense': 1159, 'princess': 3397, 'red': 3576, 'needless': 2989, 'incompetent': 2266, 'offering': 3089, 'believing': 457, 'racist': 3503, 'cuba': 1075, 'junior': 2435, 'amazingly': 210, 'closely': 855, 'largely': 2518, 'foreign': 1790, 'european': 1530, 'parallel': 3185, 'giant': 1905, 'robots': 3718, 'robot': 3717, 'sub': 4252, 'standards': 4145, 'minimum': 2856, 'overlooked': 3154, 'cheek': 779, 'brad': 560, 'pitt': 3280, 'cares': 690, 'involve': 2345, 'sucked': 4270, 'army': 295, 'military': 2844, 'gory': 1943, 'stiff': 4187, 'flash': 1745, 'gordon': 1940, 'theyd': 4443, 'reminds': 3620, 'couldve': 1009, 'profound': 3423, 'festival': 1697, 'indie': 2276, 'ed': 1415, 'rendition': 3625, 'repeatedly': 3632, 'liberal': 2588, 'sadistic': 3768, 'witnesses': 4916, 'grandmother': 1955, 'russian': 3762, 'overacting': 3149, 'weapon': 4828, 'psychotic': 3459, 'guilt': 1994, 'murders': 2943, 'legal': 2563, 'deserve': 1199, 'rotten': 3740, 'pulled': 3462, 'affect': 136, 'twin': 4615, 'charm': 767, 'loyal': 2679, 'post': 3352, 'explosion': 1596, 'reference': 3582, 'heroes': 2089, 'afternoon': 144, 'psychiatrist': 3455, 'incomprehensible': 2267, 'swedish': 4335, 'revolutionary': 3681, 'witty': 4917, 'wwii': 4975, 'fighter': 1708, 'radio': 3504, 'brave': 567, 'report': 3635, 'heaven': 2068, 'demands': 1175, 'fallen': 1638, 'delight': 1167, 'definite': 1161, 'thugs': 4484, 'discovered': 1280, 'disaster': 1276, 'taught': 4370, 'classes': 834, 'disease': 1285, 'illness': 2230, 'fever': 1699, 'greater': 1965, 'willing': 4889, 'doctors': 1305, 'widmark': 4882, 'douglas': 1334, 'health': 2060, 'chief': 788, 'menacing': 2807, 'stunts': 4246, 'assumed': 329, 'wound': 4960, 'german': 1896, 'circumstances': 822, 'winds': 4895, 'angela': 232, 'buff': 611, 'shocked': 3939, 'killers': 2471, 'proper': 3436, 'thoroughly': 4459, 'suspects': 4328, 'discovery': 1282, 'amateur': 206, 'throws': 4482, 'ya': 4976, 'drags': 1345, 'six': 4010, 'territory': 4411, 'driving': 1368, 'silence': 3974, 'rubber': 3747, 'fbi': 1675, 'agent': 150, 'catching': 716, 'wanna': 4786, 'secret': 3849, 'killings': 2473, 'slaughter': 4021, 'florida': 1761, 'dozen': 1338, 'wore': 4939, 'halloween': 2010, 'outfit': 3144, 'spring': 4134, 'sunshine': 4294, 'reveals': 3673, 'oz': 3160, 'jay': 2386, 'arrested': 298, 'commit': 904, 'calling': 653, 'hank': 2024, 'ford': 1789, 'insight': 2298, 'drunk': 1375, 'surviving': 4323, 'solo': 4058, 'pot': 3354, 'furthermore': 1854, 'horrific': 2166, 'mixed': 2877, 'disappointing': 1274, 'inevitably': 2283, 'channels': 754, 'dialogs': 1233, 'listen': 2619, 'hospital': 2172, 'offers': 3090, 'urge': 4689, 'chair': 742, 'current': 1084, 'slightly': 4029, 'teach': 4374, 'comparison': 914, 'connection': 946, 'philip': 3252, 'trite': 4589, 'succeeded': 4263, 'knowledge': 2491, 'screens': 3832, 'effectively': 1430, 'consistently': 954, 'catchy': 717, 'cuts': 1091, 'commercial': 902, 'weight': 4840, '1970s': 17, 'genres': 1889, 'strike': 4224, 'meaningful': 2781, 'blow': 514, 'ranks': 3519, 'box': 555, 'murderer': 2941, 'occasional': 3074, 'member': 2800, 'focuses': 1768, 'university': 4667, 'believes': 456, 'holy': 2140, 'spanish': 4092, 'stopped': 4202, 'reveal': 3670, 'tag': 4348, 'terrorist': 4413, 'jean': 2389, 'wonders': 4931, 'goldberg': 1933, 'ignorant': 2223, 'masses': 2755, 'logical': 2639, 'offended': 3085, 'experiment': 1583, 'program': 3424, 'sutherland': 4333, 'maintain': 2710, 'attitudes': 347, 'implausible': 2245, 'von': 4765, 'directs': 1267, 'silent': 3975, 'ironically': 2356, 'powell': 3358, 'debut': 1143, 'imitation': 2241, 'delivers': 1172, 'intrigue': 2333, 'tragedy': 4551, 'snow': 4045, 'fairy': 1632, 'prince': 3396, 'clichés': 846, 'spain': 4091, 'forces': 1788, 'endure': 1475, 'racism': 3502, 'holmes': 2139, 'con': 928, 'mark': 2739, 'ticket': 4487, 'introduces': 2338, 'shark': 3921, 'vincent': 4746, 'ego': 1435, 'inner': 2292, 'notch': 3043, 'gritty': 1977, 'gangster': 1868, 'everyones': 1543, 'discussion': 1284, 'crew': 1053, '2006': 36, 'status': 4165, 'broke': 593, 'jennifer': 2392, 'nick': 3012, '17': 9, 'suggests': 4282, 'fired': 1735, 'fatal': 1664, 'virginia': 4750, 'amitabh': 216, 'reel': 3581, 'mundane': 2938, 'carries': 699, 'manages': 2725, 'productions': 3420, 'bugs': 613, 'lion': 2614, 'magical': 2704, 'generated': 1882, '3d': 46, 'dislike': 1288, 'mexican': 2826, 'adapted': 114, 'facing': 1620, 'achieved': 93, 'france': 1816, 'granted': 1957, 'friday': 1834, 'continue': 969, 'ensemble': 1492, 'consistent': 953, 'frustrated': 1842, 'related': 3594, 'mountains': 2918, 'asking': 318, 'fish': 1738, 'attached': 336, 'masters': 2761, 'keeping': 2450, 'paltrow': 3178, 'jeremy': 2394, 'ball': 388, 'emma': 1457, 'lees': 2560, 'strictly': 4223, 'closest': 857, 'stress': 4220, 'mild': 2839, 'survivors': 4325, 'lay': 2542, 'todd': 4510, 'zombies': 4998, 'regular': 3592, 'zombie': 4997, 'achievement': 94, 'overdone': 3152, 'rushed': 3760, 'scores': 3823, 'nightmares': 3015, 'essential': 1522, 'describe': 1194, 'jackson': 2375, 'lewis': 2586, 'leonard': 2572, 'rank': 3518, '75': 57, 'cox': 1026, 'wells': 4845, 'futuristic': 1857, 'myers': 2952, 'chicks': 787, 'demented': 1176, 'jamie': 2379, 'curtis': 1087, 'navy': 2976, 'develops': 1226, 'surprises': 4314, 'nevertheless': 3002, 'edited': 1420, 'clothing': 861, 'joe': 2407, 'italy': 2368, 'dubbed': 1379, 'mix': 2876, 'wooden': 4934, 'progress': 3425, 'linda': 2609, 'possessed': 3347, 'folks': 1771, 'metal': 2823, 'object': 3066, 'critic': 1061, 'bank': 394, 'asleep': 320, 'embarrassing': 1454, 'dutch': 1389, 'los': 2653, 'angeles': 233, 'reporter': 3636, 'bath': 411, 'remote': 3622, 'mansion': 2731, 'stephen': 4176, 'animal': 239, 'murderous': 2942, 'danny': 1112, 'breaking': 570, 'accomplished': 87, 'dry': 1377, 'surrounding': 4319, 'hardy': 2037, 'burton': 630, 'porno': 3337, 'moon': 2900, 'designed': 1203, 'chapter': 757, 'lumet': 2688, 'hoffman': 2128, 'construction': 960, 'manner': 2729, 'robbery': 3711, 'equivalent': 1512, 'pointed': 3317, 'matters': 2770, 'eight': 1436, 'cash': 709, 'minimal': 2855, 'crude': 1069, 'wedding': 4836, 'trio': 4587, 'plan': 3287, 'promised': 3431, 'fascinated': 1657, 'wives': 4918, 'alternate': 200, 'print': 3399, 'wear': 4830, 'thick': 4447, 'toy': 4542, 'pleased': 3305, 'doc': 1303, 'savage': 3793, 'source': 4086, 'fabulous': 1615, 'broken': 594, 'texas': 4418, 'massacre': 2754, 'arguably': 289, 'sits': 4006, 'sandler': 3781, 'billy': 482, 'bob': 524, 'burt': 629, 'talks': 4361, 'ships': 3935, 'resident': 3647, 'presumably': 3380, 'mouth': 2920, 'laura': 2536, 'japanese': 2382, 'ninja': 3018, 'routine': 3743, 'corny': 997, 'mistaken': 2872, 'suggested': 4281, 'messages': 2820, 'winter': 4900, 'letter': 2581, 'mail': 2706, 'ann': 244, 'forth': 1804, 'substance': 4258, 'stuck': 4237, 'clean': 838, 'characterization': 759, 'summary': 4290, 'lincoln': 2608, 'relation': 3595, 'jenny': 2393, 'artistic': 308, 'waiting': 4772, 'arrives': 302, 'nurse': 3063, 'arms': 294, 'staying': 4168, 'courage': 1018, 'occasion': 3073, 'producing': 3417, 'pseudo': 3454, 'impression': 2252, 'germany': 1898, 'turkey': 4604, 'golden': 1934, 'alas': 172, 'awkward': 374, 'ruby': 3749, 'musicals': 2948, 'hippie': 2115, 'tunes': 4603, '1960s': 15, 'experiments': 1584, 'charles': 764, 'amongst': 218, 'portraying': 3343, 'pet': 3246, 'buddies': 608, 'trashy': 4566, 'capital': 673, 'steal': 4170, 'eric': 1514, 'tap': 4364, 'smooth': 4041, 'wave': 4818, 'da': 1094, 'selling': 3873, 'racial': 3501, 'united': 4664, 'reasonably': 3559, 'root': 3737, 'airport': 167, 'committed': 905, 'maker': 2714, 'alcohol': 176, 'catches': 715, 'duo': 1386, 'bore': 540, 'wholly': 4874, 'alcoholic': 177, 'grasp': 1960, 'covered': 1023, 'jesse': 2397, 'necessary': 2984, 'exposure': 1599, 'robbins': 3712, 'abysmal': 76, 'competent': 917, 'basis': 408, 'gorgeous': 1942, 'religious': 3608, 'troubled': 4593, 'extreme': 1609, 'horses': 2171, 'mentioning': 2812, 'attacked': 338, 'surprising': 4315, 'attempted': 341, 'prisoner': 3402, 'diana': 1237, 'gripping': 1976, 'documentaries': 1306, 'dialogues': 1235, 'lie': 2590, 'kidding': 2465, 'sloppy': 4030, 'pit': 3278, 'exists': 1573, 'thoughts': 4464, 'stronger': 4230, 'criticism': 1063, 'mexico': 2827, 'reflect': 3584, 'assume': 328, 'veteran': 4724, 'advance': 127, 'encounter': 1466, 'abraham': 69, 'hed': 2072, 'india': 2273, 'cost': 1003, 'nostalgia': 3038, 'humble': 2191, 'giallo': 1904, 'colors': 879, 'tad': 4347, 'husbands': 2205, 'cases': 708, 'overly': 3155, 'stylish': 4251, 'imaginative': 2237, 'charismatic': 763, 'kudos': 2497, 'neighborhood': 2993, 'transition': 4561, 'twins': 4616, 'deadly': 1133, 'revealed': 3671, 'praise': 3364, 'rubbish': 3748, 'online': 3109, 'guts': 1999, 'walked': 4776, 'tight': 4492, 'pie': 3271, 'campbell': 663, 'americas': 215, 'butt': 638, 'prize': 3405, 'pan': 3180, 'cage': 645, 'passed': 3202, 'design': 1202, 'strongly': 4231, '1933': 12, 'distant': 1295, 'september': 3884, 'union': 4661, 'britain': 588, '16': 8, 'karloff': 2445, 'lugosi': 2686, 'creator': 1043, 'universe': 4666, 'contained': 963, 'commercials': 903, 'counter': 1011, 'cure': 1081, 'seeks': 3860, 'members': 2801, 'invisible': 2344, 'menace': 2806, 'admire': 121, 'tooth': 4524, 'blank': 501, 'areas': 287, 'sole': 4055, 'drops': 1372, 'beer': 439, 'steven': 4182, 'concerning': 933, 'depicting': 1184, 'cliche': 843, 'sign': 3970, 'theyll': 4444, 'advantage': 129, 'miscast': 2862, 'month': 2896, 'happily': 2030, 'ran': 3513, 'tune': 4602, 'henry': 2084, 'proceedings': 3410, 'beneath': 464, 'command': 897, 'influence': 2286, 'gods': 1928, 'officer': 3092, 'solve': 4060, 'destroyed': 1214, 'sons': 4073, 'suspenseful': 4331, 'thrillers': 4473, 'ken': 2453, '3000': 43, 'deaths': 1142, 'wake': 4774, 'drink': 1361, 'bullet': 620, 'suspect': 4327, 'parent': 3187, 'differences': 1247, 'cinematographer': 819, 'indians': 2275, 'countries': 1013, 'views': 4742, 'iran': 2350, 'china': 795, 'latin': 2527, 'justin': 2440, 'idiot': 2218, 'capable': 672, 'portray': 3340, 'poetic': 3313, 'cruel': 1070, 'germans': 1897, 'carefully': 689, 'stranger': 4213, 'formula': 1802, 'term': 4405, 'mental': 2808, 'cross': 1066, 'andrews': 229, 'amounts': 220, 'driver': 1366, 'investigation': 2343, 'elegant': 1441, 'service': 3896, 'developing': 1224, 'noir': 3023, 'genius': 1887, 'scope': 3821, 'laughably': 2531, 'monsters': 2893, 'narrator': 2967, 'meaningless': 2782, 'satan': 3787, 'shadows': 3913, 'heat': 2067, 'audio': 354, 'canada': 666, 'joey': 2408, 'philosophy': 3254, 'childish': 791, 'medical': 2790, 'condition': 937, 'countryside': 1015, 'chased': 770, 'adams': 112, 'matthew': 2772, 'stayed': 4167, 'suffered': 4276, 'portion': 3338, 'trapped': 4564, 'description': 1197, 'dude': 1381, 'tarzan': 4367, 'edgar': 1417, 'hat': 2045, 'elaborate': 1439, 'hall': 2009, 'admittedly': 123, 'jon': 2416, 'careful': 688, 'itll': 2369, 'flicks': 1755, 'demand': 1174, 'dynamic': 1394, 'snake': 4042, 'valuable': 4708, 'dropped': 1370, 'band': 391, 'cared': 685, 'punishment': 3467, 'moronic': 2907, 'ashley': 313, 'greek': 1970, 'charisma': 762, 'bothered': 549, 'ultimate': 4627, 'anger': 235, 'loser': 2655, 'chuck': 812, 'sneak': 4043, 'hitting': 2126, 'reaches': 3538, 'bag': 384, 'stolen': 4195, 'noble': 3021, 'instinct': 2308, 'preview': 3386, 'enjoyment': 1488, 'considerable': 950, 'doubts': 1333, 'del': 1165, 'che': 773, 'appropriate': 283, 'hanging': 2023, 'thin': 4449, 'defeat': 1157, 'fortunately': 1805, 'produce': 3413, 'jungle': 2434, 'revolution': 3680, 'doomed': 1327, 'friendly': 1836, 'nations': 2971, 'santa': 3783, 'meeting': 2794, 'chess': 783, 'poetry': 3314, 'woods': 4935, 'wounded': 4961, 'resulting': 3661, 'dan': 1102, 'sleeping': 4025, 'ridiculously': 3694, 'parody': 3192, 'hip': 2114, 'initial': 2290, 'pushed': 3478, 'showed': 3956, 'flight': 1757, 'foul': 1810, 'closed': 854, 'zone': 4999, 'hence': 2083, 'attorney': 348, 'possibilities': 3348, 'forgettable': 1794, '1973': 19, 'overwhelming': 3157, 'rule': 3753, 'alfred': 181, 'seeking': 3859, 'novels': 3053, 'guest': 1992, 'celluloid': 731, 'included': 2262, 'nostalgic': 3039, 'stevens': 4183, 'ruthless': 3764, 'enormous': 1490, 'useless': 4695, 'franco': 1820, 'birthday': 487, 'aint': 163, 'research': 3644, 'dig': 1250, '30s': 44, 'rogers': 3725, 'lone': 2642, 'sid': 3964, 'cousin': 1021, 'riding': 3695, 'sellers': 3872, 'helen': 2075, 'provoking': 3452, '1990s': 25, 'namely': 2962, 'landscape': 2513, 'matched': 2763, '1940s': 13, 'cutting': 1092, 'waves': 4819, 'dancer': 1104, 'heights': 2073, 'building': 615, 'agrees': 157, 'inventive': 2341, 'sun': 4292, 'carrey': 696, 'revealing': 3672, 'guard': 1988, 'shut': 3961, 'commented': 900, 'gangsters': 1869, 'donald': 1321, 'virgin': 4749, 'presents': 3377, 'daily': 1097, 'describes': 1196, 'lesser': 2576, 'cardboard': 682, 'woody': 4936, 'strikes': 4225, 'lifestyle': 2593, 'join': 2412, 'behavior': 446, 'investigate': 2342, 'devil': 1228, 'author': 359, 'vote': 4766, 'diane': 1238, 'poster': 3353, 'pride': 3391, 'resolution': 3649, 'requires': 3642, 'jealous': 2388, 'stellar': 4174, 'reputation': 3640, 'underlying': 4641, 'frequent': 1831, 'integrity': 2311, 'gentle': 1890, 'food': 1778, 'shy': 3962, 'cook': 988, 'hop': 2154, 'victor': 4731, 'push': 3477, 'painfully': 3172, 'illegal': 2229, 'activities': 102, 'holds': 2131, 'returns': 3668, 'tie': 4488, 'rap': 3520, 'ps': 3453, 'wacky': 4769, 'notes': 3046, 'montana': 2895, 'couples': 1017, 'castle': 712, 'betty': 474, 'swear': 4334, 'native': 2972, 'blade': 495, 'hates': 2048, 'lower': 2677, 'dear': 1140, 'anthony': 253, 'wayne': 4821, 'learned': 2551, 'react': 3540, 'specifically': 4100, 'worried': 4949, 'adding': 117, 'hasnt': 2044, 'moore': 2901, 'manipulative': 2727, 'nail': 2957, 'marks': 2742, 'individuals': 2278, 'per': 3223, 'learning': 2552, 'trek': 4578, 'returned': 3666, 'official': 3094, 'opportunities': 3120, 'rising': 3703, 'searching': 3842, 'relevant': 3604, 'raising': 3509, 'olivier': 3103, 'toys': 4543, 'forest': 1791, 'rangers': 3517, 'scientists': 3819, 'cgi': 740, 'harry': 2039, 'disgusting': 1286, 'alert': 178, 'finger': 1731, 'mafia': 2700, 'beliefs': 452, 'opened': 3113, 'maria': 2736, 'sentence': 3881, 'context': 968, 'christians': 809, 'destroy': 1213, 'civilization': 827, 'possibility': 3349, 'brosnan': 597, 'roots': 3738, 'youth': 4994, 'listening': 2620, 'freeman': 1829, 'sensitive': 3879, 'roy': 3745, 'education': 1424, 'kinds': 2478, 'aimed': 162, 'frankenstein': 1822, 'theory': 4437, 'interview': 2329, 'species': 4098, 'security': 3854, 'styles': 4250, 'removed': 3624, 'mildly': 2840, 'gotta': 1946, 'wizard': 4919, 'hysterical': 2208, 'cinemas': 817, 'notable': 3041, 'kevin': 2457, 'signed': 3971, 'tomatoes': 4515, 'belong': 459, 'frustration': 1843, '1983': 22, 'destroying': 1215, 'errors': 1516, 'generic': 1885, 'pink': 3277, 'ralph': 3510, 'bakshi': 386, 'unwatchable': 4682, 'slightest': 4028, 'hint': 2112, 'altogether': 202, 'molly': 2884, 'terrorists': 4414, 'spiritual': 4116, 'michelle': 2830, 'williams': 4888, 'underground': 4640, 'bands': 392, 'square': 4136, 'patrick': 3213, 'elizabeth': 1445, 'compelled': 915, 'split': 4120, 'dean': 1139, 'blown': 516, 'jaws': 2385, 'qualities': 3483, 'clumsy': 866, 'medium': 2792, 'dick': 1239, 'mgm': 2828, 'finale': 1723, 'spike': 4111, 'lou': 2663, 'fond': 1776, 'lucy': 2684, 'april': 284, 'dollar': 1314, 'stinks': 4192, 'pretending': 3382, 'blond': 510, 'scream': 3826, 'demon': 1177, 'unintentionally': 4659, 'dragged': 1343, 'clues': 865, 'analysis': 224, 'relations': 3596, 'gonna': 1936, 'helicopter': 2076, 'ellen': 1446, 'folk': 1770, 'jumping': 2431, 'grinch': 1975, 'spooky': 4128, 'garbo': 1871, 'rat': 3525, 'vietnam': 4735, 'boot': 538, 'aforementioned': 139, 'tracy': 4546, 'freak': 1824, 'le': 2544, 'rachel': 3500, 'identify': 2216, 'ha': 2002, 'bucks': 606, 'peters': 3248, 'uncomfortable': 4637, 'press': 3379, 'stinker': 4191, 'yesterday': 4983, 'revelation': 3674, 'purchase': 3469, 'dating': 1120, 'combined': 885, 'holiday': 2134, 'laurel': 2537, 'miserably': 2864, '20th': 38, 'cary': 706, 'grant': 1956, 'larger': 2519, 'heroic': 2090, 'spread': 4133, 'miike': 2837, 'messed': 2821, 'flawed': 1750, 'hideous': 2098, 'celebrity': 729, '13th': 5, 'website': 4834, 'descent': 1193, 'wandering': 4785, 'joined': 2413, 'secrets': 3852, 'cube': 1076, 'spider': 4109, 'invasion': 2340, 'merit': 2816, 'accompanied': 86, 'cannibal': 669, 'senseless': 3878, 'lifetime': 2594, 'flop': 1760, 'hated': 2047, 'manage': 2722, 'journalist': 2420, 'mall': 2720, 'scooby': 3820, 'breasts': 572, 'twelve': 4611, 'bela': 450, 'kissing': 2484, 'edition': 1422, 'versions': 4721, 'cusack': 1088, 'vampires': 4712, 'gas': 1874, 'traveling': 4568, 'vast': 4716, 'unintentional': 4658, 'unpredictable': 4675, 'mst3k': 2932, 'waitress': 4773, 'lasted': 2522, 'suck': 4269, 'spite': 4117, 'faults': 1669, 'rex': 3683, 'reed': 3580, 'purple': 3473, 'shed': 3924, 'carol': 693, 'enthusiasm': 1501, 'enjoying': 1487, '2004': 34, 'placed': 3283, 'required': 3641, '2005': 35, 'johnson': 2411, 'citizen': 824, 'serving': 3897, 'models': 2881, 'foster': 1809, 'dedicated': 1153, 'gradually': 1952, 'handful': 2017, 'westerns': 4854, 'awfully': 373, 'homage': 2141, 'dracula': 1341, 'landing': 2512, 'frank': 1821, 'aid': 160, 'werewolf': 4850, 'resources': 3651, 'essence': 1521, 'extraordinary': 1607, 'nuclear': 3057, 'godzilla': 1929, 'contrary': 974, 'screaming': 3827, 'shop': 3945, 'ocean': 3079, 'eerie': 1427, 'bride': 577, 'claire': 831, 'danes': 1108, 'expressions': 1603, 'lloyd': 2630, 'wrap': 4963, 'wannabe': 4787, 'rival': 3706, 'neat': 2982, 'bare': 398, 'likewise': 2603, 'advise': 134, 'dire': 1257, 'sidekick': 3966, 'birds': 485, 'bullets': 621, 'chooses': 800, 'wrestling': 4966, 'useful': 4694, 'stewart': 4184, 'hunters': 2200, 'brooks': 596, 'mentions': 2813, 'wears': 4832, 'womens': 4924, 'leg': 2562, 'georges': 1894, 'moral': 2902, 'conventional': 979, 'hundreds': 2196, 'symbolism': 4341, 'tall': 4362, 'noise': 3024, 'empire': 1464, 'excessive': 1560, 'neck': 2985, 'depiction': 1185, 'wouldve': 4959, 'kennedy': 2454, 'performer': 3231, 'cameos': 658, 'stretched': 4222, 'sympathetic': 4342, 'amazed': 208, 'simpson': 3987, 'workers': 4943, 'subtle': 4260, 'safe': 3771, 'cameras': 660, 'barry': 401, 'victoria': 4732, 'norman': 3035, 'soccer': 4048, 'bleak': 503, 'commentary': 899, 'prevent': 3385, 'variety': 4714, 'mistress': 2874, 'championship': 745, 'emily': 1456, 'moody': 2899, 'magazine': 2701, 'bone': 533, 'bold': 528, 'pulling': 3463, 'synopsis': 4344, 'explosions': 1597, 'splatter': 4118, 'sixties': 4011, 'seventies': 3904, 'drinking': 1362, 'pearl': 3220, 'iron': 2354, 'massive': 2756, 'grand': 1953, 'complexity': 924, 'directions': 1262, 'tender': 4401, 'plausible': 3295, 'constructed': 959, 'fooled': 1780, 'league': 2549, 'centers': 734, 'cats': 721, 'survivor': 4324, 'transfer': 4559, 'resembles': 3646, 'wicked': 4879, 'trail': 4553, 'nancy': 2964, 'bbc': 417, 'understated': 4646, 'delivering': 1171, 'composed': 926, 'rights': 3697, 'heston': 2094, 'threw': 4470, 'retired': 3664, 'companion': 909, 'exploration': 1593, 'superficial': 4298, 'disc': 1278, 'brando': 566, 'mann': 2728, 'glory': 1922, 'hammer': 2014, 'pokemon': 3320, 'satisfy': 3790, 'gundam': 1997, 'anna': 245, 'judy': 2426, 'inspector': 2299, 'freddy': 1826, 'artificial': 306, 'floating': 1758, 'cg': 739, 'minds': 2852, 'dressing': 1359, 'kings': 2481, '1984': 23, 'scrooge': 3837, 'appalling': 268, 'craven': 1034, 'cringe': 1059, 'bacall': 377, 'secondly': 3847, 'complaint': 920, 'dozens': 1339, 'earl': 1398, 'denzel': 1181, 'orders': 3127, 'harder': 2035, 'raised': 3508, 'choreographed': 801, 'hurts': 2203, 'choreography': 802, 'tricks': 4583, 'equipment': 1511, 'iraq': 2351, 'forbidden': 1785, 'visible': 4753, 'limits': 2607, 'loaded': 2632, 'worn': 4948, 'buildings': 616, 'steps': 4177, 'craft': 1028, 'recall': 3562, 'cia': 814, 'trademark': 4548, 'thankfully': 4422, 'ties': 4490, 'depressed': 1187, 'punk': 3468, 'causes': 725, 'fx': 1858, 'remind': 3618, 'tends': 4402, 'terry': 4415, 'suited': 4286, 'buffs': 612, 'iii': 2227, 'truck': 4595, 'illogical': 2231, 'coach': 868, 'cave': 727, 'aliens': 184, 'nelson': 2997, 'saga': 3773, 'concern': 931, 'crush': 1072, 'rabbit': 3498, 'eastern': 1408, 'troops': 4591, 'cards': 683, '1930s': 11, 'ruth': 3763, 'winters': 4901, 'credibility': 1047, 'prior': 3400, 'landscapes': 2514, 'blunt': 520, 'worthwhile': 4955, 'feet': 1688, 'kirk': 2482, 'enterprise': 1495, 'unpleasant': 4674, 'jeffrey': 2391, 'streisand': 4218, 'petty': 3249, 'fool': 1779, 'careers': 687, 'holly': 2136, 'niro': 3019, 'price': 3389, 'louise': 2666, 'welles': 4844, 'domestic': 1318, 'historically': 2120, 'drop': 1369, 'table': 4346, 'comparing': 913, 'nomination': 3026, 'passionate': 3206, 'reduced': 3579, 'angels': 234, 'lyrics': 2692, 'stan': 4142, 'screams': 3828, 'stomach': 4196, 'losing': 2658, 'wood': 4933, 'fancy': 1649, 'sally': 3776, 'babe': 375, 'crack': 1027, 'instant': 2305, 'pays': 3218, 'fields': 1705, 'forgot': 1796, 'blew': 505, 'flynn': 1765, 'intentionally': 2320, 'uneven': 4649, 'distribution': 1298, 'recording': 3575, 'jerk': 2395, 'regardless': 3590, 'staged': 4140, 'hopeless': 2158, 'sounding': 4083, 'expensive': 1579, 'causing': 726, '2002': 32, 'prequel': 3372, 'aging': 153, 'lengthy': 2570, 'mars': 2746, 'inane': 2258, 'mildred': 2841, 'steel': 4173, 'mature': 2773, 'sends': 3876, 'jimmy': 2403, 'spell': 4104, 'witches': 4910, 'household': 2179, 'ape': 266, 'switch': 4339, 'pretend': 3381, 'earned': 1401, 'wallace': 4782, 'alike': 185, 'consists': 955, 'parker': 3191, 'restaurant': 3658, 'brand': 565, 'fay': 1674, 'yellow': 4981, 'wisdom': 4902, 'reunion': 3669, 'sue': 4274, 'dinosaur': 1255, 'inferior': 2285, 'voight': 4764, 'carl': 692, 'warriors': 4803, 'inappropriate': 2259, 'creation': 1040, 'firstly': 1737, 'unbearable': 4633, 'ah': 158, 'designs': 1204, 'ward': 4793, 'cagney': 646, 'smaller': 4034, 'scale': 3802, 'signs': 3973, 'mate': 2765, 'mel': 2796, 'raymond': 3534, 'stooges': 4200, 'web': 4833, 'edie': 1419, 'patients': 3212, 'afford': 138, 'enjoys': 1489, 'jumps': 2432, 'annie': 247, 'global': 1920, 'connected': 945, 'laws': 2540, 'lips': 2615, 'staff': 4138, 'rob': 3710, 'chances': 748, 'sudden': 4272, 'richardson': 3688, 'cities': 823, 'philosophical': 3253, 'inspiring': 2302, 'happiness': 2031, 'warren': 4801, 'beatty': 427, 'madonna': 2699, 'subjects': 4254, 'directorial': 1265, 'gray': 1963, 'bud': 607, 'kingdom': 2480, 'ritter': 3705, 'omen': 3104, 'continued': 970, 'plant': 3293, 'gruesome': 1986, 'boom': 537, 'ridden': 3691, 'bin': 483, 'cabin': 643, 'throwing': 4480, 'glover': 1923, 'virus': 4752, 'doom': 1326, 'struck': 4232, 'hamlet': 2013, 'astaire': 330, 'shadow': 3912, 'warming': 4795, '90': 60, 'em': 1452, 'hyde': 2206, 'singers': 3994, 'slapstick': 4019, 'competition': 918, 'popcorn': 3331, 'korean': 2495, 'album': 175, 'maggie': 2702, 'outer': 3143, 'swim': 4337, 'wing': 4896, 'blues': 519, 'elm': 1447, 'turner': 4607, 'crisis': 1060, 'ice': 2210, 'davies': 1125, 'prisoners': 3403, 'derek': 1192, 'button': 639, 'performs': 3234, 'idiotic': 2219, 'valley': 4707, 'nervous': 2999, 'nicholson': 3011, 'carradine': 695, 'pool': 3327, 'roman': 3731, 'pants': 3182, 'dawn': 1127, 'countless': 1012, 'voiced': 4762, 'hamilton': 2012, 'stiller': 4189, 'macy': 2695, 'mitchell': 2875, 'mechanical': 2788, 'picking': 3267, 'affected': 137, 'safety': 3772, 'eccentric': 1414, 'funnier': 1850, 'rats': 3531, 'vegas': 4717, 'assistant': 326, 'resort': 3650, 'planning': 3291, 'berlin': 467, 'hilariously': 2107, 'throat': 4476, 'lust': 2689, 'unit': 4663, 'anne': 246, 'jaw': 2384, 'awe': 370, 'domino': 1319, 'walken': 4777, 'wishing': 4907, 'lab': 2501, 'chaos': 755, 'hundred': 2195, 'ear': 1397, 'margaret': 2735, 'plans': 3292, 'inept': 2281, 'gabriel': 1859, 'cowboy': 1025, 'partly': 3197, 'sexually': 3910, 'potentially': 3356, 'attend': 344, 'bumbling': 622, 'creep': 1051, 'funeral': 1849, 'shirley': 3936, 'secretly': 3851, 'kane': 2442, 'innovative': 2295, 'dawson': 1128, 'mayor': 2777, 'shirt': 3937, 'executive': 1567, 'connect': 944, 'stunt': 4245, 'bat': 410, 'sink': 3999, 'excitement': 1562, 'forgive': 1795, 'flies': 1756, 'pamela': 3179, 'melting': 2799, 'wealth': 4826, 'machines': 2694, 'expressed': 1601, 'warrior': 4802, 'carpenter': 694, 'poverty': 3357, 'testament': 4417, 'agreed': 156, 'misery': 2865, 'daring': 1114, 'airplane': 166, 'selfish': 3870, 'closet': 858, 'benefit': 465, 'elvis': 1451, 'pat': 3208, 'kubrick': 2496, 'ensues': 1493, 'enters': 1496, 'butler': 637, 'gerard': 1895, '2003': 33, 'rocks': 3722, 'photographed': 3258, 'disturbed': 1299, 'professor': 3422, 'jumped': 2430, 'planned': 3290, '3rd': 47, 'resist': 3648, 'walker': 4778, 'kicking': 2462, 'contract': 973, 'surfing': 4311, 'twilight': 4614, 'map': 2733, 'measure': 2786, 'builds': 617, 'taxi': 4371, 'dub': 1378, 'lit': 2621, 'unoriginal': 4673, 'simmons': 3981, 'uwe': 4703, 'boll': 529, 'doll': 1313, 'cinderella': 815, 'rolled': 3729, 'ireland': 2352, 'spielberg': 4110, 'timothy': 4499, 'titled': 4505, 'population': 3335, 'reflection': 3585, 'wet': 4855, 'panic': 3181, 'seagal': 3839, 'irish': 2353, 'dentist': 1180, 'icon': 2211, 'weakest': 4825, 'fury': 1855, 'tame': 4363, 'ned': 2986, 'bull': 619, 'orson': 3132, 'modesty': 2883, 'attracted': 349, 'passes': 3203, 'acid': 95, 'everywhere': 1545, 'hello': 2078, 'occur': 3076, 'pal': 3177, 'nicholas': 3010, 'ginger': 1908, 'eyre': 1614, 'dalton': 1098, 'rochester': 3719, 'size': 4012, 'purposes': 3475, 'pursuit': 3476, 'duke': 1383, 'popularity': 3334, 'climactic': 848, 'awake': 365, 'balls': 390, 'monkeys': 2891, 'et': 1526, 'dust': 1388, 'eighties': 1437, 'seed': 3856, 'museum': 2945, 'nyc': 3065, 'ruins': 3752, 'manhattan': 2726, 'classical': 836, 'conflicts': 940, 'bottle': 550, 'deaf': 1134, 'hudson': 2184, 'manager': 2724, 'sinatra': 3989, 'treats': 4575, 'combat': 882, 'adorable': 124, 'charlotte': 766, 'fulci': 1845, 'businessman': 634, 'polanski': 3321, 'scarecrow': 3804, 'accepted': 82, 'devils': 1229, 'wendy': 4846, 'farce': 1654, 'elvira': 1450, 'letters': 2582, 'responsibility': 3655, 'behave': 445, 'forms': 1801, 'nonsensical': 3031, 'li': 2587, 'phantom': 3251, 'morris': 2908, 'apes': 267, 'ramones': 3512, 'gadget': 1860}\n"
     ]
    }
   ],
   "source": [
    "print(str(vocabulary))"
   ]
  },
  {
   "cell_type": "markdown",
   "metadata": {},
   "source": [
    "Once you have added the endpoint name to the Lambda function, click on **Save**. Your Lambda function is now up and running. Next we need to create a way for our web app to execute the Lambda function."
   ]
  },
  {
   "cell_type": "markdown",
   "metadata": {},
   "source": [
    "### Setting up API Gateway\n",
    "\n",
    "Now that our Lambda function is set up, it is time to create a new API using API Gateway that will trigger the Lambda function we have just created.\n",
    "\n",
    "Using AWS Console, navigate to **Amazon API Gateway** and then click on **Get started**.\n",
    "\n",
    "On the next page, make sure that **New API** is selected and give the new api a name, for example, `sentiment_analysis_web_app`. Then, click on **Create API**.\n",
    "\n",
    "Now we have created an API, however it doesn't currently do anything. What we want it to do is to trigger the Lambda function that we created earlier.\n",
    "\n",
    "Select the **Actions** dropdown menu and click **Create Method**. A new blank method will be created, select its dropdown menu and select **POST**, then click on the check mark beside it.\n",
    "\n",
    "For the integration point, make sure that **Lambda Function** is selected and click on the **Use Lambda Proxy integration**. This option makes sure that the data that is sent to the API is then sent directly to the Lambda function with no processing. It also means that the return value must be a proper response object as it will also not be processed by API Gateway.\n",
    "\n",
    "Type the name of the Lambda function you created earlier into the **Lambda Function** text entry box and then click on **Save**. Click on **OK** in the pop-up box that then appears, giving permission to API Gateway to invoke the Lambda function you created.\n",
    "\n",
    "The last step in creating the API Gateway is to select the **Actions** dropdown and click on **Deploy API**. You will need to create a new Deployment stage and name it anything you like, for example `prod`.\n",
    "\n",
    "You have now successfully set up a public API to access your SageMaker model. Make sure to copy or write down the URL provided to invoke your newly created public API as this will be needed in the next step. This URL can be found at the top of the page, highlighted in blue next to the text **Invoke URL**."
   ]
  },
  {
   "cell_type": "markdown",
   "metadata": {},
   "source": [
    "## Step 7: Deploying our web app\n",
    "\n",
    "Now that we have a publicly available API, we can start using it in a web app. For our purposes, we have provided a simple static html file which can make use of the public api you created earlier.\n",
    "\n",
    "In the `website` folder there should be a file called `index.html`. Download the file to your computer and open that file up in a text editor of your choice. There should be a line which contains **\\*\\*REPLACE WITH PUBLIC API URL\\*\\***. Replace this string with the url that you wrote down in the last step and then save the file.\n",
    "\n",
    "Now, if you open `index.html` on your local computer, your browser will behave as a local web server and you can use the provided site to interact with your SageMaker model.\n",
    "\n",
    "If you'd like to go further, you can host this html file anywhere you'd like, for example using github or hosting a static site on Amazon's S3. Once you have done this you can share the link with anyone you'd like and have them play with it too!\n",
    "\n",
    "> **Important Note** In order for the web app to communicate with the SageMaker endpoint, the endpoint has to actually be deployed and running. This means that you are paying for it. Make sure that the endpoint is running when you want to use the web app but that you shut it down when you don't need it, otherwise you will end up with a surprisingly large AWS bill."
   ]
  },
  {
   "cell_type": "markdown",
   "metadata": {},
   "source": [
    "### Delete the endpoint\n",
    "\n",
    "Remember to always shut down your endpoint if you are no longer using it. You are charged for the length of time that the endpoint is running so if you forget and leave it on you could end up with an unexpectedly large bill."
   ]
  },
  {
   "cell_type": "code",
   "execution_count": 61,
   "metadata": {},
   "outputs": [],
   "source": [
    "xgb_predictor.delete_endpoint()"
   ]
  },
  {
   "cell_type": "markdown",
   "metadata": {},
   "source": [
    "## Optional: Clean up\n",
    "\n",
    "The default notebook instance on SageMaker doesn't have a lot of excess disk space available. As you continue to complete and execute notebooks you will eventually fill up this disk space, leading to errors which can be difficult to diagnose. Once you are completely finished using a notebook it is a good idea to remove the files that you created along the way. Of course, you can do this from the terminal or from the notebook hub if you would like. The cell below contains some commands to clean up the created files from within the notebook."
   ]
  },
  {
   "cell_type": "code",
   "execution_count": 62,
   "metadata": {},
   "outputs": [],
   "source": [
    "# First we will remove all of the files contained in the data_dir directory\n",
    "!rm $data_dir/*\n",
    "\n",
    "# And then we delete the directory itself\n",
    "!rmdir $data_dir\n",
    "\n",
    "# Similarly we remove the files in the cache_dir directory and the directory itself\n",
    "!rm $cache_dir/*\n",
    "!rmdir $cache_dir"
   ]
  },
  {
   "cell_type": "code",
   "execution_count": null,
   "metadata": {},
   "outputs": [],
   "source": []
  }
 ],
 "metadata": {
  "kernelspec": {
   "display_name": "conda_pytorch_p38",
   "language": "python",
   "name": "conda_pytorch_p38"
  },
  "language_info": {
   "codemirror_mode": {
    "name": "ipython",
    "version": 3
   },
   "file_extension": ".py",
   "mimetype": "text/x-python",
   "name": "python",
   "nbconvert_exporter": "python",
   "pygments_lexer": "ipython3",
   "version": "3.8.12"
  }
 },
 "nbformat": 4,
 "nbformat_minor": 4
}
